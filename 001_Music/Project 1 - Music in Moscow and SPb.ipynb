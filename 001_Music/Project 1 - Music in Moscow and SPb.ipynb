{
 "cells": [
  {
   "cell_type": "markdown",
   "metadata": {
    "id": "E0vqbgi9ay0H"
   },
   "source": [
    "# Яндекс.Музыка"
   ]
  },
  {
   "cell_type": "markdown",
   "metadata": {
    "id": "VUC88oWjTJw2"
   },
   "source": [
    "Сравнение Москвы и Петербурга окружено мифами. Например:\n",
    " * Москва — мегаполис, подчинённый жёсткому ритму рабочей недели;\n",
    " * Петербург — культурная столица, со своими вкусами.\n",
    "\n",
    "На данных Яндекс.Музыки вы сравните поведение пользователей двух столиц.\n",
    "\n",
    "**Цель исследования** — проверьте три гипотезы:\n",
    "1. Активность пользователей зависит от дня недели. Причём в Москве и Петербурге это проявляется по-разному.\n",
    "2. В понедельник утром в Москве преобладают одни жанры, а в Петербурге — другие. Так же и вечером пятницы преобладают разные жанры — в зависимости от города. \n",
    "3. Москва и Петербург предпочитают разные жанры музыки. В Москве чаще слушают поп-музыку, в Петербурге — русский рэп.\n",
    "\n",
    "**Ход исследования**\n",
    "\n",
    "Данные о поведении пользователей вы получите из файла `yandex_music_project.csv`. О качестве данных ничего не известно. Поэтому перед проверкой гипотез понадобится обзор данных. \n",
    "\n",
    "Вы проверите данные на ошибки и оцените их влияние на исследование. Затем, на этапе предобработки вы поищете возможность исправить самые критичные ошибки данных.\n",
    " \n",
    "Таким образом, исследование пройдёт в три этапа:\n",
    " 1. Обзор данных.\n",
    " 2. Предобработка данных.\n",
    " 3. Проверка гипотез.\n",
    "\n"
   ]
  },
  {
   "cell_type": "markdown",
   "metadata": {
    "id": "Ml1hmfXC_Zcs"
   },
   "source": [
    "## Обзор данных"
   ]
  },
  {
   "cell_type": "code",
   "execution_count": 1,
   "metadata": {
    "id": "AXN7PHPN_Zcs"
   },
   "outputs": [],
   "source": [
    "# импорт библиотеки pandas\n",
    "import pandas as pd"
   ]
  },
  {
   "cell_type": "code",
   "execution_count": 2,
   "metadata": {
    "id": "fFVu7vqh_Zct"
   },
   "outputs": [],
   "source": [
    "# чтение файла с данными и сохранение в df\n",
    "df = pd.read_csv('/datasets/yandex_music_project.csv')"
   ]
  },
  {
   "cell_type": "code",
   "execution_count": 3,
   "metadata": {
    "id": "oWTVX3gW_Zct"
   },
   "outputs": [
    {
     "data": {
      "text/html": [
       "<div>\n",
       "<style scoped>\n",
       "    .dataframe tbody tr th:only-of-type {\n",
       "        vertical-align: middle;\n",
       "    }\n",
       "\n",
       "    .dataframe tbody tr th {\n",
       "        vertical-align: top;\n",
       "    }\n",
       "\n",
       "    .dataframe thead th {\n",
       "        text-align: right;\n",
       "    }\n",
       "</style>\n",
       "<table border=\"1\" class=\"dataframe\">\n",
       "  <thead>\n",
       "    <tr style=\"text-align: right;\">\n",
       "      <th></th>\n",
       "      <th>userID</th>\n",
       "      <th>Track</th>\n",
       "      <th>artist</th>\n",
       "      <th>genre</th>\n",
       "      <th>City</th>\n",
       "      <th>time</th>\n",
       "      <th>Day</th>\n",
       "    </tr>\n",
       "  </thead>\n",
       "  <tbody>\n",
       "    <tr>\n",
       "      <td>0</td>\n",
       "      <td>FFB692EC</td>\n",
       "      <td>Kamigata To Boots</td>\n",
       "      <td>The Mass Missile</td>\n",
       "      <td>rock</td>\n",
       "      <td>Saint-Petersburg</td>\n",
       "      <td>20:28:33</td>\n",
       "      <td>Wednesday</td>\n",
       "    </tr>\n",
       "    <tr>\n",
       "      <td>1</td>\n",
       "      <td>55204538</td>\n",
       "      <td>Delayed Because of Accident</td>\n",
       "      <td>Andreas Rönnberg</td>\n",
       "      <td>rock</td>\n",
       "      <td>Moscow</td>\n",
       "      <td>14:07:09</td>\n",
       "      <td>Friday</td>\n",
       "    </tr>\n",
       "    <tr>\n",
       "      <td>2</td>\n",
       "      <td>20EC38</td>\n",
       "      <td>Funiculì funiculà</td>\n",
       "      <td>Mario Lanza</td>\n",
       "      <td>pop</td>\n",
       "      <td>Saint-Petersburg</td>\n",
       "      <td>20:58:07</td>\n",
       "      <td>Wednesday</td>\n",
       "    </tr>\n",
       "    <tr>\n",
       "      <td>3</td>\n",
       "      <td>A3DD03C9</td>\n",
       "      <td>Dragons in the Sunset</td>\n",
       "      <td>Fire + Ice</td>\n",
       "      <td>folk</td>\n",
       "      <td>Saint-Petersburg</td>\n",
       "      <td>08:37:09</td>\n",
       "      <td>Monday</td>\n",
       "    </tr>\n",
       "    <tr>\n",
       "      <td>4</td>\n",
       "      <td>E2DC1FAE</td>\n",
       "      <td>Soul People</td>\n",
       "      <td>Space Echo</td>\n",
       "      <td>dance</td>\n",
       "      <td>Moscow</td>\n",
       "      <td>08:34:34</td>\n",
       "      <td>Monday</td>\n",
       "    </tr>\n",
       "    <tr>\n",
       "      <td>5</td>\n",
       "      <td>842029A1</td>\n",
       "      <td>Преданная</td>\n",
       "      <td>IMPERVTOR</td>\n",
       "      <td>rusrap</td>\n",
       "      <td>Saint-Petersburg</td>\n",
       "      <td>13:09:41</td>\n",
       "      <td>Friday</td>\n",
       "    </tr>\n",
       "    <tr>\n",
       "      <td>6</td>\n",
       "      <td>4CB90AA5</td>\n",
       "      <td>True</td>\n",
       "      <td>Roman Messer</td>\n",
       "      <td>dance</td>\n",
       "      <td>Moscow</td>\n",
       "      <td>13:00:07</td>\n",
       "      <td>Wednesday</td>\n",
       "    </tr>\n",
       "    <tr>\n",
       "      <td>7</td>\n",
       "      <td>F03E1C1F</td>\n",
       "      <td>Feeling This Way</td>\n",
       "      <td>Polina Griffith</td>\n",
       "      <td>dance</td>\n",
       "      <td>Moscow</td>\n",
       "      <td>20:47:49</td>\n",
       "      <td>Wednesday</td>\n",
       "    </tr>\n",
       "    <tr>\n",
       "      <td>8</td>\n",
       "      <td>8FA1D3BE</td>\n",
       "      <td>И вновь продолжается бой</td>\n",
       "      <td>NaN</td>\n",
       "      <td>ruspop</td>\n",
       "      <td>Moscow</td>\n",
       "      <td>09:17:40</td>\n",
       "      <td>Friday</td>\n",
       "    </tr>\n",
       "    <tr>\n",
       "      <td>9</td>\n",
       "      <td>E772D5C0</td>\n",
       "      <td>Pessimist</td>\n",
       "      <td>NaN</td>\n",
       "      <td>dance</td>\n",
       "      <td>Saint-Petersburg</td>\n",
       "      <td>21:20:49</td>\n",
       "      <td>Wednesday</td>\n",
       "    </tr>\n",
       "  </tbody>\n",
       "</table>\n",
       "</div>"
      ],
      "text/plain": [
       "     userID                        Track            artist   genre  \\\n",
       "0  FFB692EC            Kamigata To Boots  The Mass Missile    rock   \n",
       "1  55204538  Delayed Because of Accident  Andreas Rönnberg    rock   \n",
       "2    20EC38            Funiculì funiculà       Mario Lanza     pop   \n",
       "3  A3DD03C9        Dragons in the Sunset        Fire + Ice    folk   \n",
       "4  E2DC1FAE                  Soul People        Space Echo   dance   \n",
       "5  842029A1                    Преданная         IMPERVTOR  rusrap   \n",
       "6  4CB90AA5                         True      Roman Messer   dance   \n",
       "7  F03E1C1F             Feeling This Way   Polina Griffith   dance   \n",
       "8  8FA1D3BE     И вновь продолжается бой               NaN  ruspop   \n",
       "9  E772D5C0                    Pessimist               NaN   dance   \n",
       "\n",
       "             City        time        Day  \n",
       "0  Saint-Petersburg  20:28:33  Wednesday  \n",
       "1            Moscow  14:07:09     Friday  \n",
       "2  Saint-Petersburg  20:58:07  Wednesday  \n",
       "3  Saint-Petersburg  08:37:09     Monday  \n",
       "4            Moscow  08:34:34     Monday  \n",
       "5  Saint-Petersburg  13:09:41     Friday  \n",
       "6            Moscow  13:00:07  Wednesday  \n",
       "7            Moscow  20:47:49  Wednesday  \n",
       "8            Moscow  09:17:40     Friday  \n",
       "9  Saint-Petersburg  21:20:49  Wednesday  "
      ]
     },
     "execution_count": 3,
     "metadata": {},
     "output_type": "execute_result"
    }
   ],
   "source": [
    "# получение первых 10 строк таблицы df\n",
    "df.head(n=10)"
   ]
  },
  {
   "cell_type": "code",
   "execution_count": 9,
   "metadata": {
    "id": "DSf2kIb-_Zct"
   },
   "outputs": [
    {
     "name": "stdout",
     "output_type": "stream",
     "text": [
      "<class 'pandas.core.frame.DataFrame'>\n",
      "RangeIndex: 65079 entries, 0 to 65078\n",
      "Data columns (total 7 columns):\n",
      "  userID    65079 non-null object\n",
      "Track       63848 non-null object\n",
      "artist      57876 non-null object\n",
      "genre       63881 non-null object\n",
      "  City      65079 non-null object\n",
      "time        65079 non-null object\n",
      "Day         65079 non-null object\n",
      "dtypes: object(7)\n",
      "memory usage: 3.5+ MB\n"
     ]
    }
   ],
   "source": [
    "# получение общей информации о данных в таблице df\n",
    "df.info()"
   ]
  },
  {
   "cell_type": "markdown",
   "metadata": {
    "id": "TaQ2Iwbr_Zct"
   },
   "source": [
    "Итак, в таблице семь столбцов. Тип данных во всех столбцах — `object`.\n",
    "\n",
    "Согласно документации к данным:\n",
    "* `userID` — идентификатор пользователя;\n",
    "* `Track` — название трека;  \n",
    "* `artist` — имя исполнителя;\n",
    "* `genre` — название жанра;\n",
    "* `City` — город пользователя;\n",
    "* `time` — время начала прослушивания;\n",
    "* `Day` — день недели.\n",
    "\n",
    "В названиях колонок видны три нарушения стиля:\n",
    "1. Строчные буквы сочетаются с прописными.\n",
    "2. Встречаются пробелы.\n",
    "3. Вместо стиля *'snake case'* использован *'camel case'*. \n",
    "\n",
    "\n",
    "\n",
    "Количество значений в столбцах различается. Значит, в данных есть пропущенные значения.\n"
   ]
  },
  {
   "cell_type": "markdown",
   "metadata": {
    "id": "MCB6-dXG_Zct"
   },
   "source": [
    "**Выводы**\n",
    "\n",
    "В каждой строке таблицы — данные о прослушанном треке. Часть колонок описывает саму композицию: название, исполнителя и жанр. Остальные данные рассказывают о пользователе: из какого он города, когда он слушал музыку. \n",
    "\n",
    "Предварительно можно утверждать, что, данных достаточно для проверки гипотез. Но встречаются пропуски в данных, а в названиях колонок — расхождения с хорошим стилем.\n",
    "\n",
    "Чтобы двигаться дальше, нужно устранить проблемы в данных."
   ]
  },
  {
   "cell_type": "markdown",
   "metadata": {
    "id": "SjYF6Ub9_Zct"
   },
   "source": [
    "## Предобработка данных\n",
    "Исправьте стиль в заголовках столбцов, исключите пропуски. Затем проверьте данные на дубликаты."
   ]
  },
  {
   "cell_type": "markdown",
   "metadata": {
    "id": "dIaKXr29_Zct"
   },
   "source": [
    "### Стиль заголовков"
   ]
  },
  {
   "cell_type": "code",
   "execution_count": 10,
   "metadata": {
    "id": "oKOTdF_Q_Zct"
   },
   "outputs": [
    {
     "data": {
      "text/plain": [
       "Index(['  userID', 'Track', 'artist', 'genre', '  City  ', 'time', 'Day'], dtype='object')"
      ]
     },
     "execution_count": 10,
     "metadata": {},
     "output_type": "execute_result"
    }
   ],
   "source": [
    "# перечень названий столбцов таблицы df\n",
    "df.columns"
   ]
  },
  {
   "cell_type": "markdown",
   "metadata": {
    "id": "zj5534cv_Zct"
   },
   "source": [
    "Приведите названия в соответствие с хорошим стилем:\n",
    "* несколько слов в названии запишите в «змеином_регистре»,\n",
    "* все символы сделайте строчными,\n",
    "* устраните пробелы.\n",
    "\n",
    "Для этого переименуйте колонки так:\n",
    "* `'  userID'` → `'user_id'`;\n",
    "* `'Track'` → `'track'`;\n",
    "* `'  City  '` → `'city'`;\n",
    "* `'Day'` → `'day'`."
   ]
  },
  {
   "cell_type": "code",
   "execution_count": 11,
   "metadata": {
    "id": "ISlFqs5y_Zct"
   },
   "outputs": [],
   "source": [
    "# переименование столбцов\n",
    "df = df.rename(columns={'  userID':'user_id', \n",
    "                        'Track':'track', \n",
    "                        '  City  ':'city', \n",
    "                        'Day':'day'})"
   ]
  },
  {
   "cell_type": "code",
   "execution_count": 12,
   "metadata": {
    "id": "d4NOAmTW_Zct"
   },
   "outputs": [
    {
     "data": {
      "text/plain": [
       "Index(['user_id', 'track', 'artist', 'genre', 'city', 'time', 'day'], dtype='object')"
      ]
     },
     "execution_count": 12,
     "metadata": {},
     "output_type": "execute_result"
    }
   ],
   "source": [
    "# проверка результатов - перечень названий столбцов\n",
    "df.columns"
   ]
  },
  {
   "cell_type": "markdown",
   "metadata": {
    "id": "5ISfbcfY_Zct"
   },
   "source": [
    "### Пропуски значений"
   ]
  },
  {
   "cell_type": "code",
   "execution_count": 13,
   "metadata": {
    "id": "RskX29qr_Zct"
   },
   "outputs": [
    {
     "data": {
      "text/plain": [
       "user_id       0\n",
       "track      1231\n",
       "artist     7203\n",
       "genre      1198\n",
       "city          0\n",
       "time          0\n",
       "day           0\n",
       "dtype: int64"
      ]
     },
     "metadata": {},
     "output_type": "display_data"
    }
   ],
   "source": [
    "# подсчёт пропусков\n",
    "display(df.isna().sum())"
   ]
  },
  {
   "cell_type": "code",
   "execution_count": 14,
   "metadata": {
    "id": "KplB5qWs_Zct"
   },
   "outputs": [],
   "source": [
    "# перебор названий столбцов в цикле и замена пропущенных значений на 'unknown'\n",
    "columns_to_replace = ['track', 'artist', 'genre']\n",
    "\n",
    "for column in columns_to_replace:\n",
    "    df[column].fillna('unknown', inplace=True)\n",
    "    "
   ]
  },
  {
   "cell_type": "code",
   "execution_count": 15,
   "metadata": {
    "id": "Tq4nYRX4_Zct"
   },
   "outputs": [
    {
     "data": {
      "text/plain": [
       "user_id    0\n",
       "track      0\n",
       "artist     0\n",
       "genre      0\n",
       "city       0\n",
       "time       0\n",
       "day        0\n",
       "dtype: int64"
      ]
     },
     "metadata": {},
     "output_type": "display_data"
    }
   ],
   "source": [
    "# подсчёт пропусков\n",
    "display(df.isna().sum())"
   ]
  },
  {
   "cell_type": "markdown",
   "metadata": {
    "id": "BWKRtBJ3_Zct"
   },
   "source": [
    "### Дубликаты"
   ]
  },
  {
   "cell_type": "code",
   "execution_count": 16,
   "metadata": {
    "id": "36eES_S0_Zct"
   },
   "outputs": [
    {
     "name": "stdout",
     "output_type": "stream",
     "text": [
      "3826\n"
     ]
    }
   ],
   "source": [
    "# подсчёт явных дубликатов\n",
    "print(df.duplicated().sum())"
   ]
  },
  {
   "cell_type": "code",
   "execution_count": 17,
   "metadata": {
    "id": "exFHq6tt_Zct"
   },
   "outputs": [],
   "source": [
    "# удаление явных дубликатов (с удалением старых индексов и формированием новых)\n",
    "df = df.drop_duplicates().reset_index(drop=True)"
   ]
  },
  {
   "cell_type": "code",
   "execution_count": 18,
   "metadata": {
    "id": "-8PuNWQ0_Zct"
   },
   "outputs": [
    {
     "name": "stdout",
     "output_type": "stream",
     "text": [
      "0\n"
     ]
    }
   ],
   "source": [
    "# проверка на отсутствие дубликатов\n",
    "print(df.duplicated().sum())"
   ]
  },
  {
   "cell_type": "code",
   "execution_count": 19,
   "metadata": {
    "id": "JIUcqzZN_Zct"
   },
   "outputs": [
    {
     "data": {
      "text/plain": [
       "array(['acid', 'acoustic', 'action', 'adult', 'africa', 'afrikaans',\n",
       "       'alternative', 'alternativepunk', 'ambient', 'americana',\n",
       "       'animated', 'anime', 'arabesk', 'arabic', 'arena',\n",
       "       'argentinetango', 'art', 'audiobook', 'author', 'avantgarde',\n",
       "       'axé', 'baile', 'balkan', 'beats', 'bigroom', 'black', 'bluegrass',\n",
       "       'blues', 'bollywood', 'bossa', 'brazilian', 'breakbeat', 'breaks',\n",
       "       'broadway', 'cantautori', 'cantopop', 'canzone', 'caribbean',\n",
       "       'caucasian', 'celtic', 'chamber', 'chanson', 'children', 'chill',\n",
       "       'chinese', 'choral', 'christian', 'christmas', 'classical',\n",
       "       'classicmetal', 'club', 'colombian', 'comedy', 'conjazz',\n",
       "       'contemporary', 'country', 'cuban', 'dance', 'dancehall',\n",
       "       'dancepop', 'dark', 'death', 'deep', 'deutschrock', 'deutschspr',\n",
       "       'dirty', 'disco', 'dnb', 'documentary', 'downbeat', 'downtempo',\n",
       "       'drum', 'dub', 'dubstep', 'eastern', 'easy', 'electronic',\n",
       "       'electropop', 'emo', 'entehno', 'epicmetal', 'estrada', 'ethnic',\n",
       "       'eurofolk', 'european', 'experimental', 'extrememetal', 'fado',\n",
       "       'fairytail', 'film', 'fitness', 'flamenco', 'folk', 'folklore',\n",
       "       'folkmetal', 'folkrock', 'folktronica', 'forró', 'frankreich',\n",
       "       'französisch', 'french', 'funk', 'future', 'gangsta', 'garage',\n",
       "       'german', 'ghazal', 'gitarre', 'glitch', 'gospel', 'gothic',\n",
       "       'grime', 'grunge', 'gypsy', 'handsup', \"hard'n'heavy\", 'hardcore',\n",
       "       'hardstyle', 'hardtechno', 'hip', 'hip-hop', 'hiphop',\n",
       "       'historisch', 'holiday', 'hop', 'horror', 'house', 'hymn', 'idm',\n",
       "       'independent', 'indian', 'indie', 'indipop', 'industrial',\n",
       "       'inspirational', 'instrumental', 'international', 'irish', 'jam',\n",
       "       'japanese', 'jazz', 'jewish', 'jpop', 'jungle', 'k-pop',\n",
       "       'karadeniz', 'karaoke', 'kayokyoku', 'korean', 'laiko', 'latin',\n",
       "       'latino', 'leftfield', 'local', 'lounge', 'loungeelectronic',\n",
       "       'lovers', 'malaysian', 'mandopop', 'marschmusik', 'meditative',\n",
       "       'mediterranean', 'melodic', 'metal', 'metalcore', 'mexican',\n",
       "       'middle', 'minimal', 'miscellaneous', 'modern', 'mood', 'mpb',\n",
       "       'muslim', 'native', 'neoklassik', 'neue', 'new', 'newage',\n",
       "       'newwave', 'nu', 'nujazz', 'numetal', 'oceania', 'old', 'opera',\n",
       "       'orchestral', 'other', 'piano', 'podcasts', 'pop', 'popdance',\n",
       "       'popelectronic', 'popeurodance', 'poprussian', 'post',\n",
       "       'posthardcore', 'postrock', 'power', 'progmetal', 'progressive',\n",
       "       'psychedelic', 'punjabi', 'punk', 'quebecois', 'ragga', 'ram',\n",
       "       'rancheras', 'rap', 'rave', 'reggae', 'reggaeton', 'regional',\n",
       "       'relax', 'religious', 'retro', 'rhythm', 'rnb', 'rnr', 'rock',\n",
       "       'rockabilly', 'rockalternative', 'rockindie', 'rockother',\n",
       "       'romance', 'roots', 'ruspop', 'rusrap', 'rusrock', 'russian',\n",
       "       'salsa', 'samba', 'scenic', 'schlager', 'self', 'sertanejo',\n",
       "       'shanson', 'shoegazing', 'showtunes', 'singer', 'ska', 'skarock',\n",
       "       'slow', 'smooth', 'soft', 'soul', 'soulful', 'sound', 'soundtrack',\n",
       "       'southern', 'specialty', 'speech', 'spiritual', 'sport',\n",
       "       'stonerrock', 'surf', 'swing', 'synthpop', 'synthrock',\n",
       "       'sängerportrait', 'tango', 'tanzorchester', 'taraftar', 'tatar',\n",
       "       'tech', 'techno', 'teen', 'thrash', 'top', 'traditional',\n",
       "       'tradjazz', 'trance', 'tribal', 'trip', 'triphop', 'tropical',\n",
       "       'türk', 'türkçe', 'ukrrock', 'unknown', 'urban', 'uzbek',\n",
       "       'variété', 'vi', 'videogame', 'vocal', 'western', 'world',\n",
       "       'worldbeat', 'ïîï', 'электроника'], dtype=object)"
      ]
     },
     "execution_count": 19,
     "metadata": {},
     "output_type": "execute_result"
    }
   ],
   "source": [
    "# Просмотр уникальных названий жанров\n",
    "df['genre'].sort_values().unique()"
   ]
  },
  {
   "cell_type": "code",
   "execution_count": 20,
   "metadata": {
    "id": "ErNDkmns_Zct"
   },
   "outputs": [],
   "source": [
    "# Функция для замены неявных дубликатов\n",
    "\n",
    "def replace_wrong_genres(wrong_genres, correct_genre): \n",
    "    for genre in wrong_genres: \n",
    "        df['genre'] = df['genre'].replace(genre, correct_genre)\n"
   ]
  },
  {
   "cell_type": "code",
   "execution_count": 21,
   "metadata": {
    "id": "YN5i2hpmSo09"
   },
   "outputs": [],
   "source": [
    "# Устранение неявных дубликатов\n",
    "replace_wrong_genres(['hip', 'hop', 'hip-hop'], 'hiphop')\n",
    "replace_wrong_genres(['электроника'], 'electronic')"
   ]
  },
  {
   "cell_type": "code",
   "execution_count": 22,
   "metadata": {
    "id": "wvixALnFG15m"
   },
   "outputs": [
    {
     "data": {
      "text/plain": [
       "array(['acid', 'acoustic', 'action', 'adult', 'africa', 'afrikaans',\n",
       "       'alternative', 'alternativepunk', 'ambient', 'americana',\n",
       "       'animated', 'anime', 'arabesk', 'arabic', 'arena',\n",
       "       'argentinetango', 'art', 'audiobook', 'author', 'avantgarde',\n",
       "       'axé', 'baile', 'balkan', 'beats', 'bigroom', 'black', 'bluegrass',\n",
       "       'blues', 'bollywood', 'bossa', 'brazilian', 'breakbeat', 'breaks',\n",
       "       'broadway', 'cantautori', 'cantopop', 'canzone', 'caribbean',\n",
       "       'caucasian', 'celtic', 'chamber', 'chanson', 'children', 'chill',\n",
       "       'chinese', 'choral', 'christian', 'christmas', 'classical',\n",
       "       'classicmetal', 'club', 'colombian', 'comedy', 'conjazz',\n",
       "       'contemporary', 'country', 'cuban', 'dance', 'dancehall',\n",
       "       'dancepop', 'dark', 'death', 'deep', 'deutschrock', 'deutschspr',\n",
       "       'dirty', 'disco', 'dnb', 'documentary', 'downbeat', 'downtempo',\n",
       "       'drum', 'dub', 'dubstep', 'eastern', 'easy', 'electronic',\n",
       "       'electropop', 'emo', 'entehno', 'epicmetal', 'estrada', 'ethnic',\n",
       "       'eurofolk', 'european', 'experimental', 'extrememetal', 'fado',\n",
       "       'fairytail', 'film', 'fitness', 'flamenco', 'folk', 'folklore',\n",
       "       'folkmetal', 'folkrock', 'folktronica', 'forró', 'frankreich',\n",
       "       'französisch', 'french', 'funk', 'future', 'gangsta', 'garage',\n",
       "       'german', 'ghazal', 'gitarre', 'glitch', 'gospel', 'gothic',\n",
       "       'grime', 'grunge', 'gypsy', 'handsup', \"hard'n'heavy\", 'hardcore',\n",
       "       'hardstyle', 'hardtechno', 'hiphop', 'historisch', 'holiday',\n",
       "       'horror', 'house', 'hymn', 'idm', 'independent', 'indian', 'indie',\n",
       "       'indipop', 'industrial', 'inspirational', 'instrumental',\n",
       "       'international', 'irish', 'jam', 'japanese', 'jazz', 'jewish',\n",
       "       'jpop', 'jungle', 'k-pop', 'karadeniz', 'karaoke', 'kayokyoku',\n",
       "       'korean', 'laiko', 'latin', 'latino', 'leftfield', 'local',\n",
       "       'lounge', 'loungeelectronic', 'lovers', 'malaysian', 'mandopop',\n",
       "       'marschmusik', 'meditative', 'mediterranean', 'melodic', 'metal',\n",
       "       'metalcore', 'mexican', 'middle', 'minimal', 'miscellaneous',\n",
       "       'modern', 'mood', 'mpb', 'muslim', 'native', 'neoklassik', 'neue',\n",
       "       'new', 'newage', 'newwave', 'nu', 'nujazz', 'numetal', 'oceania',\n",
       "       'old', 'opera', 'orchestral', 'other', 'piano', 'podcasts', 'pop',\n",
       "       'popdance', 'popelectronic', 'popeurodance', 'poprussian', 'post',\n",
       "       'posthardcore', 'postrock', 'power', 'progmetal', 'progressive',\n",
       "       'psychedelic', 'punjabi', 'punk', 'quebecois', 'ragga', 'ram',\n",
       "       'rancheras', 'rap', 'rave', 'reggae', 'reggaeton', 'regional',\n",
       "       'relax', 'religious', 'retro', 'rhythm', 'rnb', 'rnr', 'rock',\n",
       "       'rockabilly', 'rockalternative', 'rockindie', 'rockother',\n",
       "       'romance', 'roots', 'ruspop', 'rusrap', 'rusrock', 'russian',\n",
       "       'salsa', 'samba', 'scenic', 'schlager', 'self', 'sertanejo',\n",
       "       'shanson', 'shoegazing', 'showtunes', 'singer', 'ska', 'skarock',\n",
       "       'slow', 'smooth', 'soft', 'soul', 'soulful', 'sound', 'soundtrack',\n",
       "       'southern', 'specialty', 'speech', 'spiritual', 'sport',\n",
       "       'stonerrock', 'surf', 'swing', 'synthpop', 'synthrock',\n",
       "       'sängerportrait', 'tango', 'tanzorchester', 'taraftar', 'tatar',\n",
       "       'tech', 'techno', 'teen', 'thrash', 'top', 'traditional',\n",
       "       'tradjazz', 'trance', 'tribal', 'trip', 'triphop', 'tropical',\n",
       "       'türk', 'türkçe', 'ukrrock', 'unknown', 'urban', 'uzbek',\n",
       "       'variété', 'vi', 'videogame', 'vocal', 'western', 'world',\n",
       "       'worldbeat', 'ïîï'], dtype=object)"
      ]
     },
     "execution_count": 22,
     "metadata": {},
     "output_type": "execute_result"
    }
   ],
   "source": [
    "# Проверка на неявные дубликаты\n",
    "\n",
    "df['genre'].sort_values().unique()"
   ]
  },
  {
   "cell_type": "markdown",
   "metadata": {
    "id": "WttZHXH0SqKk"
   },
   "source": [
    "## Проверка гипотез"
   ]
  },
  {
   "cell_type": "markdown",
   "metadata": {
    "id": "Im936VVi_Zcu"
   },
   "source": [
    "### Сравнение поведения пользователей двух столиц"
   ]
  },
  {
   "cell_type": "markdown",
   "metadata": {
    "id": "nwt_MuaL_Zcu"
   },
   "source": [
    "Первая гипотеза утверждает, что пользователи по-разному слушают музыку в Москве и Санкт-Петербурге. Проверьте это предположение по данным о трёх днях недели — понедельнике, среде и пятнице. Для этого:\n",
    "\n",
    "* Разделите пользователей Москвы и Санкт-Петербурга\n",
    "* Сравните, сколько треков послушала каждая группа пользователей в понедельник, среду и пятницу.\n"
   ]
  },
  {
   "cell_type": "code",
   "execution_count": 23,
   "metadata": {
    "id": "0_Qs96oh_Zcu"
   },
   "outputs": [
    {
     "data": {
      "text/plain": [
       "city\n",
       "Moscow              42741\n",
       "Saint-Petersburg    18512\n",
       "Name: time, dtype: int64"
      ]
     },
     "metadata": {},
     "output_type": "display_data"
    }
   ],
   "source": [
    "# Подсчёт прослушиваний в каждом городе\n",
    "each_city = df.groupby('city')['time'].count()\n",
    "display(each_city)"
   ]
  },
  {
   "cell_type": "code",
   "execution_count": 24,
   "metadata": {
    "id": "uZMKjiJz_Zcu"
   },
   "outputs": [
    {
     "data": {
      "text/plain": [
       "day\n",
       "Friday       21840\n",
       "Monday       21354\n",
       "Wednesday    18059\n",
       "Name: time, dtype: int64"
      ]
     },
     "metadata": {},
     "output_type": "display_data"
    }
   ],
   "source": [
    "# Подсчёт прослушиваний в каждый из трёх дней\n",
    "df_by_days = df.groupby('day')['time'].count()\n",
    "display(df_by_days)"
   ]
  },
  {
   "cell_type": "code",
   "execution_count": 25,
   "metadata": {
    "id": "Nz3GdQB1_Zcu"
   },
   "outputs": [],
   "source": [
    "'''<создание функции number_tracks()>\n",
    "Объявляется функция с двумя параметрами: day, city.\n",
    "В переменной track_list сохраняются те строки таблицы df, для которых \n",
    "значение в столбце 'day' равно параметру day и одновременно значение\n",
    "в столбце 'city' равно параметру city (используйте последовательную фильтрацию\n",
    "с помощью логической индексации).\n",
    "В переменной track_list_count сохраняется число значений столбца 'user_id',\n",
    "рассчитанное методом count() для таблицы track_list.\n",
    "Функция возвращает число - значение track_list_count.\n",
    "Функция для подсчёта прослушиваний для конкретного города и дня.\n",
    "С помощью последовательной фильтрации с логической индексацией она \n",
    "сначала получит из исходной таблицы строки с нужным днём,\n",
    "затем из результата отфильтрует строки с нужным городом,\n",
    "методом count() посчитает количество значений в колонке user_id. \n",
    "Это количество функция вернёт в качестве результата'''\n",
    "\n",
    "def number_tracks(day, city):\n",
    "    track_list = df[(df['day'] == day.title()) & \n",
    "                    (df['city'] == city.title())]\n",
    "    track_list_count = track_list['user_id'].count()\n",
    "    \n",
    "    return track_list_count"
   ]
  },
  {
   "cell_type": "code",
   "execution_count": 26,
   "metadata": {
    "id": "rJcRATNQ_Zcu"
   },
   "outputs": [
    {
     "data": {
      "text/plain": [
       "15740"
      ]
     },
     "execution_count": 26,
     "metadata": {},
     "output_type": "execute_result"
    }
   ],
   "source": [
    "# количество прослушиваний в Москве по понедельникам\n",
    "number_tracks('Monday', 'Moscow')"
   ]
  },
  {
   "cell_type": "code",
   "execution_count": 27,
   "metadata": {
    "id": "hq_ncZ5T_Zcu"
   },
   "outputs": [
    {
     "data": {
      "text/plain": [
       "5614"
      ]
     },
     "execution_count": 27,
     "metadata": {},
     "output_type": "execute_result"
    }
   ],
   "source": [
    "# количество прослушиваний в Санкт-Петербурге по понедельникам\n",
    "number_tracks('Monday', 'Saint-Petersburg')"
   ]
  },
  {
   "cell_type": "code",
   "execution_count": 28,
   "metadata": {
    "id": "_NTy2VPU_Zcu"
   },
   "outputs": [
    {
     "data": {
      "text/plain": [
       "11056"
      ]
     },
     "execution_count": 28,
     "metadata": {},
     "output_type": "execute_result"
    }
   ],
   "source": [
    "# количество прослушиваний в Москве по средам\n",
    "number_tracks('Wednesday', 'Moscow')"
   ]
  },
  {
   "cell_type": "code",
   "execution_count": 29,
   "metadata": {
    "id": "j2y3TAwo_Zcu"
   },
   "outputs": [
    {
     "data": {
      "text/plain": [
       "7003"
      ]
     },
     "execution_count": 29,
     "metadata": {},
     "output_type": "execute_result"
    }
   ],
   "source": [
    "# количество прослушиваний в Санкт-Петербурге по средам\n",
    "number_tracks('Wednesday', 'Saint-Petersburg')"
   ]
  },
  {
   "cell_type": "code",
   "execution_count": 30,
   "metadata": {
    "id": "vYDw5u_K_Zcu"
   },
   "outputs": [
    {
     "data": {
      "text/plain": [
       "15945"
      ]
     },
     "execution_count": 30,
     "metadata": {},
     "output_type": "execute_result"
    }
   ],
   "source": [
    "# количество прослушиваний в Москве по пятницам\n",
    "number_tracks('Friday', 'Moscow')"
   ]
  },
  {
   "cell_type": "code",
   "execution_count": 31,
   "metadata": {
    "id": "8_yzFtW3_Zcu"
   },
   "outputs": [
    {
     "data": {
      "text/plain": [
       "5895"
      ]
     },
     "execution_count": 31,
     "metadata": {},
     "output_type": "execute_result"
    }
   ],
   "source": [
    "# количество прослушиваний в Санкт-Петербурге по пятницам\n",
    "number_tracks('Friday', 'Saint-Petersburg')"
   ]
  },
  {
   "cell_type": "code",
   "execution_count": 32,
   "metadata": {
    "id": "APAcLpOr_Zcu"
   },
   "outputs": [
    {
     "data": {
      "text/html": [
       "<div>\n",
       "<style scoped>\n",
       "    .dataframe tbody tr th:only-of-type {\n",
       "        vertical-align: middle;\n",
       "    }\n",
       "\n",
       "    .dataframe tbody tr th {\n",
       "        vertical-align: top;\n",
       "    }\n",
       "\n",
       "    .dataframe thead th {\n",
       "        text-align: right;\n",
       "    }\n",
       "</style>\n",
       "<table border=\"1\" class=\"dataframe\">\n",
       "  <thead>\n",
       "    <tr style=\"text-align: right;\">\n",
       "      <th></th>\n",
       "      <th>monday</th>\n",
       "      <th>wednesday</th>\n",
       "      <th>friday</th>\n",
       "    </tr>\n",
       "  </thead>\n",
       "  <tbody>\n",
       "    <tr>\n",
       "      <td>Moscow</td>\n",
       "      <td>15740</td>\n",
       "      <td>11056</td>\n",
       "      <td>15945</td>\n",
       "    </tr>\n",
       "    <tr>\n",
       "      <td>Saint-Petersburg</td>\n",
       "      <td>5614</td>\n",
       "      <td>7003</td>\n",
       "      <td>5895</td>\n",
       "    </tr>\n",
       "  </tbody>\n",
       "</table>\n",
       "</div>"
      ],
      "text/plain": [
       "                  monday  wednesday  friday\n",
       "Moscow             15740      11056   15945\n",
       "Saint-Petersburg    5614       7003    5895"
      ]
     },
     "metadata": {},
     "output_type": "display_data"
    }
   ],
   "source": [
    "# Таблица с результатами\n",
    "\n",
    "# получаю лист значений прослушиваний по городам:\n",
    "total_listened = [\n",
    "    number_tracks(day, city) \n",
    "    for city in ['Moscow', 'Saint-Petersburg'] \n",
    "    for day in ['monday', 'wednesday', 'friday']\n",
    "]\n",
    "\n",
    "# т.к. города в списке 2, то полученный список делится ровно на два:\n",
    "listened_by_city = {\n",
    "    'Moscow':total_listened[:3], \n",
    "    'Saint-Petersburg':total_listened[3:]\n",
    "}\n",
    "\n",
    "# финальная таблица формируется из полученного словаря, \n",
    "# где ключи становятся индексами, а наименования колонок берутся из списка new_columns\n",
    "\n",
    "cities_by_days = pd.DataFrame.from_dict(data=listened_by_city, \n",
    "                                        orient='index',\n",
    "                                        columns=['monday', 'wednesday', 'friday'])\n",
    "\n",
    "display(cities_by_days)"
   ]
  },
  {
   "cell_type": "markdown",
   "metadata": {
    "id": "-EgPIHYu_Zcu"
   },
   "source": [
    "**Выводы**\n",
    "\n",
    "Данные показывают разницу поведения пользователей:\n",
    "\n",
    "- В Москве пик прослушиваний приходится на понедельник и пятницу, а в среду заметен спад.\n",
    "- В Петербурге, наоборот, больше слушают музыку по средам. Активность в понедельник и пятницу здесь почти в равной мере уступает среде.\n",
    "\n",
    "Значит, данные говорят в пользу первой гипотезы."
   ]
  },
  {
   "cell_type": "markdown",
   "metadata": {
    "id": "atZAxtq4_Zcu"
   },
   "source": [
    "### Музыка в начале и в конце недели"
   ]
  },
  {
   "cell_type": "markdown",
   "metadata": {
    "id": "eXrQqXFH_Zcu"
   },
   "source": [
    "Согласно второй гипотезе, утром в понедельник в Москве преобладают одни жанры, а в Петербурге — другие. Так же и вечером пятницы преобладают разные жанры — в зависимости от города."
   ]
  },
  {
   "cell_type": "code",
   "execution_count": 33,
   "metadata": {
    "id": "qeaFfM_P_Zcu"
   },
   "outputs": [
    {
     "data": {
      "text/html": [
       "<div>\n",
       "<style scoped>\n",
       "    .dataframe tbody tr th:only-of-type {\n",
       "        vertical-align: middle;\n",
       "    }\n",
       "\n",
       "    .dataframe tbody tr th {\n",
       "        vertical-align: top;\n",
       "    }\n",
       "\n",
       "    .dataframe thead th {\n",
       "        text-align: right;\n",
       "    }\n",
       "</style>\n",
       "<table border=\"1\" class=\"dataframe\">\n",
       "  <thead>\n",
       "    <tr style=\"text-align: right;\">\n",
       "      <th></th>\n",
       "      <th>user_id</th>\n",
       "      <th>track</th>\n",
       "      <th>artist</th>\n",
       "      <th>genre</th>\n",
       "      <th>city</th>\n",
       "      <th>time</th>\n",
       "      <th>day</th>\n",
       "    </tr>\n",
       "  </thead>\n",
       "  <tbody>\n",
       "    <tr>\n",
       "      <td>1</td>\n",
       "      <td>55204538</td>\n",
       "      <td>Delayed Because of Accident</td>\n",
       "      <td>Andreas Rönnberg</td>\n",
       "      <td>rock</td>\n",
       "      <td>Moscow</td>\n",
       "      <td>14:07:09</td>\n",
       "      <td>Friday</td>\n",
       "    </tr>\n",
       "    <tr>\n",
       "      <td>4</td>\n",
       "      <td>E2DC1FAE</td>\n",
       "      <td>Soul People</td>\n",
       "      <td>Space Echo</td>\n",
       "      <td>dance</td>\n",
       "      <td>Moscow</td>\n",
       "      <td>08:34:34</td>\n",
       "      <td>Monday</td>\n",
       "    </tr>\n",
       "    <tr>\n",
       "      <td>6</td>\n",
       "      <td>4CB90AA5</td>\n",
       "      <td>True</td>\n",
       "      <td>Roman Messer</td>\n",
       "      <td>dance</td>\n",
       "      <td>Moscow</td>\n",
       "      <td>13:00:07</td>\n",
       "      <td>Wednesday</td>\n",
       "    </tr>\n",
       "    <tr>\n",
       "      <td>7</td>\n",
       "      <td>F03E1C1F</td>\n",
       "      <td>Feeling This Way</td>\n",
       "      <td>Polina Griffith</td>\n",
       "      <td>dance</td>\n",
       "      <td>Moscow</td>\n",
       "      <td>20:47:49</td>\n",
       "      <td>Wednesday</td>\n",
       "    </tr>\n",
       "    <tr>\n",
       "      <td>8</td>\n",
       "      <td>8FA1D3BE</td>\n",
       "      <td>И вновь продолжается бой</td>\n",
       "      <td>unknown</td>\n",
       "      <td>ruspop</td>\n",
       "      <td>Moscow</td>\n",
       "      <td>09:17:40</td>\n",
       "      <td>Friday</td>\n",
       "    </tr>\n",
       "  </tbody>\n",
       "</table>\n",
       "</div>"
      ],
      "text/plain": [
       "    user_id                        track            artist   genre    city  \\\n",
       "1  55204538  Delayed Because of Accident  Andreas Rönnberg    rock  Moscow   \n",
       "4  E2DC1FAE                  Soul People        Space Echo   dance  Moscow   \n",
       "6  4CB90AA5                         True      Roman Messer   dance  Moscow   \n",
       "7  F03E1C1F             Feeling This Way   Polina Griffith   dance  Moscow   \n",
       "8  8FA1D3BE     И вновь продолжается бой           unknown  ruspop  Moscow   \n",
       "\n",
       "       time        day  \n",
       "1  14:07:09     Friday  \n",
       "4  08:34:34     Monday  \n",
       "6  13:00:07  Wednesday  \n",
       "7  20:47:49  Wednesday  \n",
       "8  09:17:40     Friday  "
      ]
     },
     "metadata": {},
     "output_type": "display_data"
    }
   ],
   "source": [
    "# получение таблицы moscow_general из тех строк таблицы df, \n",
    "# для которых значение в столбце 'city' равно 'Moscow'\n",
    "\n",
    "moscow_general = df[df['city'] == 'Moscow']\n",
    "display(moscow_general.head())"
   ]
  },
  {
   "cell_type": "code",
   "execution_count": 34,
   "metadata": {
    "id": "ORaVRKto_Zcu",
    "scrolled": true
   },
   "outputs": [
    {
     "data": {
      "text/html": [
       "<div>\n",
       "<style scoped>\n",
       "    .dataframe tbody tr th:only-of-type {\n",
       "        vertical-align: middle;\n",
       "    }\n",
       "\n",
       "    .dataframe tbody tr th {\n",
       "        vertical-align: top;\n",
       "    }\n",
       "\n",
       "    .dataframe thead th {\n",
       "        text-align: right;\n",
       "    }\n",
       "</style>\n",
       "<table border=\"1\" class=\"dataframe\">\n",
       "  <thead>\n",
       "    <tr style=\"text-align: right;\">\n",
       "      <th></th>\n",
       "      <th>user_id</th>\n",
       "      <th>track</th>\n",
       "      <th>artist</th>\n",
       "      <th>genre</th>\n",
       "      <th>city</th>\n",
       "      <th>time</th>\n",
       "      <th>day</th>\n",
       "    </tr>\n",
       "  </thead>\n",
       "  <tbody>\n",
       "    <tr>\n",
       "      <td>0</td>\n",
       "      <td>FFB692EC</td>\n",
       "      <td>Kamigata To Boots</td>\n",
       "      <td>The Mass Missile</td>\n",
       "      <td>rock</td>\n",
       "      <td>Saint-Petersburg</td>\n",
       "      <td>20:28:33</td>\n",
       "      <td>Wednesday</td>\n",
       "    </tr>\n",
       "    <tr>\n",
       "      <td>2</td>\n",
       "      <td>20EC38</td>\n",
       "      <td>Funiculì funiculà</td>\n",
       "      <td>Mario Lanza</td>\n",
       "      <td>pop</td>\n",
       "      <td>Saint-Petersburg</td>\n",
       "      <td>20:58:07</td>\n",
       "      <td>Wednesday</td>\n",
       "    </tr>\n",
       "    <tr>\n",
       "      <td>3</td>\n",
       "      <td>A3DD03C9</td>\n",
       "      <td>Dragons in the Sunset</td>\n",
       "      <td>Fire + Ice</td>\n",
       "      <td>folk</td>\n",
       "      <td>Saint-Petersburg</td>\n",
       "      <td>08:37:09</td>\n",
       "      <td>Monday</td>\n",
       "    </tr>\n",
       "    <tr>\n",
       "      <td>5</td>\n",
       "      <td>842029A1</td>\n",
       "      <td>Преданная</td>\n",
       "      <td>IMPERVTOR</td>\n",
       "      <td>rusrap</td>\n",
       "      <td>Saint-Petersburg</td>\n",
       "      <td>13:09:41</td>\n",
       "      <td>Friday</td>\n",
       "    </tr>\n",
       "    <tr>\n",
       "      <td>9</td>\n",
       "      <td>E772D5C0</td>\n",
       "      <td>Pessimist</td>\n",
       "      <td>unknown</td>\n",
       "      <td>dance</td>\n",
       "      <td>Saint-Petersburg</td>\n",
       "      <td>21:20:49</td>\n",
       "      <td>Wednesday</td>\n",
       "    </tr>\n",
       "  </tbody>\n",
       "</table>\n",
       "</div>"
      ],
      "text/plain": [
       "    user_id                  track            artist   genre  \\\n",
       "0  FFB692EC      Kamigata To Boots  The Mass Missile    rock   \n",
       "2    20EC38      Funiculì funiculà       Mario Lanza     pop   \n",
       "3  A3DD03C9  Dragons in the Sunset        Fire + Ice    folk   \n",
       "5  842029A1              Преданная         IMPERVTOR  rusrap   \n",
       "9  E772D5C0              Pessimist           unknown   dance   \n",
       "\n",
       "               city      time        day  \n",
       "0  Saint-Petersburg  20:28:33  Wednesday  \n",
       "2  Saint-Petersburg  20:58:07  Wednesday  \n",
       "3  Saint-Petersburg  08:37:09     Monday  \n",
       "5  Saint-Petersburg  13:09:41     Friday  \n",
       "9  Saint-Petersburg  21:20:49  Wednesday  "
      ]
     },
     "metadata": {},
     "output_type": "display_data"
    }
   ],
   "source": [
    "# получение таблицы spb_general из тех строк таблицы df,\n",
    "# для которых значение в столбце 'city' равно 'Saint-Petersburg'\n",
    "\n",
    "spb_general = df[df['city'] == 'Saint-Petersburg']\n",
    "display(spb_general.head())"
   ]
  },
  {
   "cell_type": "code",
   "execution_count": 35,
   "metadata": {
    "id": "laJT9BYl_Zcu"
   },
   "outputs": [],
   "source": [
    "# Объявление функции genre_weekday() с параметрами table, day, time1, time2,\n",
    "# которая возвращает информацию о самых популярных жанрах в указанный день в\n",
    "# заданное время:\n",
    "# 1) в переменную genre_df сохраняются те строки переданного датафрейма table, для\n",
    "#    которых одновременно:\n",
    "#    - значение в столбце day равно значению аргумента day\n",
    "#    - значение в столбце time больше значения аргумента time1\n",
    "#    - значение в столбце time меньше значения аргумента time2\n",
    "#    Используйте последовательную фильтрацию с помощью логической индексации.\n",
    "def genre_weekday(table, day=str, time1=str, time2=str):\n",
    "    #genre_df = table[table['day'] == day]\n",
    "    #genre_df = genre_df.set_index(pd.to_datetime(genre_df['time']), drop=True)\n",
    "    #genre_df = genre_df.between_time(time1, time2)\n",
    "    #genre_df.reset_index(drop=True, inplace=True)\n",
    "    genre_df = table.query('@day==day and @time1 < time < @time2')\n",
    "\n",
    "# 2) сгруппировать датафрейм genre_df по столбцу genre, взять один из его\n",
    "#    столбцов и посчитать методом count() количество записей для каждого из\n",
    "#    присутствующих жанров, получившийся Series записать в переменную\n",
    "#    genre_df_count\n",
    "    genre_df_count = genre_df.groupby('genre')['user_id'].count()\n",
    "    \n",
    "# 3) отсортировать genre_df_count по убыванию встречаемости и сохранить\n",
    "#    в переменную genre_df_sorted\n",
    "    genre_df_sorted = genre_df_count.sort_values(ascending=False) \n",
    "\n",
    "# 4) вернуть Series из 10 первых значений genre_df_sorted, это будут топ-10\n",
    "#    популярных жанров (в указанный день, в заданное время)\n",
    "    return genre_df_sorted.head(10)"
   ]
  },
  {
   "cell_type": "code",
   "execution_count": 36,
   "metadata": {
    "id": "yz7itPUQ_Zcu"
   },
   "outputs": [
    {
     "data": {
      "text/plain": [
       "genre\n",
       "pop            781\n",
       "dance          549\n",
       "electronic     480\n",
       "rock           474\n",
       "hiphop         286\n",
       "ruspop         186\n",
       "world          181\n",
       "rusrap         175\n",
       "alternative    164\n",
       "unknown        161\n",
       "Name: user_id, dtype: int64"
      ]
     },
     "execution_count": 36,
     "metadata": {},
     "output_type": "execute_result"
    }
   ],
   "source": [
    "# вызов функции для утра понедельника в Москве (вместо df — таблица moscow_general)\n",
    "# объекты, хранящие время, являются строками и сравниваются как строки\n",
    "# пример вызова: genre_weekday(moscow_general, 'Monday', '07:00', '11:00')\n",
    "genre_weekday(moscow_general, 'Monday', '07:00', '11:00')"
   ]
  },
  {
   "cell_type": "code",
   "execution_count": 37,
   "metadata": {
    "id": "kwUcHPdy_Zcu"
   },
   "outputs": [
    {
     "data": {
      "text/plain": [
       "genre\n",
       "pop            218\n",
       "dance          182\n",
       "rock           162\n",
       "electronic     147\n",
       "hiphop          80\n",
       "ruspop          64\n",
       "alternative     58\n",
       "rusrap          55\n",
       "jazz            44\n",
       "classical       40\n",
       "Name: user_id, dtype: int64"
      ]
     },
     "execution_count": 37,
     "metadata": {},
     "output_type": "execute_result"
    }
   ],
   "source": [
    "# вызов функции для утра понедельника в Петербурге (вместо df — таблица spb_general)\n",
    "genre_weekday(spb_general, 'Monday', '07:00', '11:00')"
   ]
  },
  {
   "cell_type": "code",
   "execution_count": 38,
   "metadata": {
    "id": "EzXVRE1o_Zcu"
   },
   "outputs": [
    {
     "data": {
      "text/plain": [
       "genre\n",
       "pop            713\n",
       "rock           517\n",
       "dance          495\n",
       "electronic     482\n",
       "hiphop         273\n",
       "world          208\n",
       "ruspop         170\n",
       "alternative    163\n",
       "classical      163\n",
       "rusrap         142\n",
       "Name: user_id, dtype: int64"
      ]
     },
     "execution_count": 38,
     "metadata": {},
     "output_type": "execute_result"
    }
   ],
   "source": [
    "# вызов функции для вечера пятницы в Москве\n",
    "genre_weekday(moscow_general, 'Friday', '17:00', '23:00')"
   ]
  },
  {
   "cell_type": "code",
   "execution_count": 39,
   "metadata": {
    "id": "JZaEKu5v_Zcu"
   },
   "outputs": [
    {
     "data": {
      "text/plain": [
       "genre\n",
       "pop            256\n",
       "rock           216\n",
       "electronic     216\n",
       "dance          210\n",
       "hiphop          97\n",
       "alternative     63\n",
       "jazz            61\n",
       "classical       60\n",
       "rusrap          59\n",
       "world           54\n",
       "Name: user_id, dtype: int64"
      ]
     },
     "execution_count": 39,
     "metadata": {},
     "output_type": "execute_result"
    }
   ],
   "source": [
    "# вызов функции для вечера пятницы в Петербурге\n",
    "genre_weekday(spb_general, 'Friday', '17:00', '23:00')"
   ]
  },
  {
   "cell_type": "markdown",
   "metadata": {
    "id": "wrCe4MNX_Zcu"
   },
   "source": [
    "**Выводы**\n",
    "\n",
    "Если сравнить топ-10 жанров в понедельник утром, можно сделать такие выводы:\n",
    "\n",
    "1. В Москве и Петербурге слушают похожую музыку. Единственное отличие — в московский рейтинг вошёл жанр “world”, а в петербургский — джаз и классика.\n",
    "\n",
    "2. В Москве пропущенных значений оказалось так много, что значение `'unknown'` заняло десятое место среди самых популярных жанров. Значит, пропущенные значения занимают существенную долю в данных и угрожают достоверности исследования.\n",
    "\n",
    "Вечер пятницы не меняет эту картину. Некоторые жанры поднимаются немного выше, другие спускаются, но в целом топ-10 остаётся тем же самым.\n",
    "\n",
    "Таким образом, вторая гипотеза подтвердилась лишь частично:\n",
    "* Пользователи слушают похожую музыку в начале недели и в конце.\n",
    "* Разница между Москвой и Петербургом не слишком выражена. В Москве чаще слушают русскую популярную музыку, в Петербурге — джаз.\n",
    "\n",
    "Однако пропуски в данных ставят под сомнение этот результат. В Москве их так много, что рейтинг топ-10 мог бы выглядеть иначе, если бы не утерянные  данные о жанрах."
   ]
  },
  {
   "cell_type": "markdown",
   "metadata": {
    "id": "JolODAqr_Zcu"
   },
   "source": [
    "### Жанровые предпочтения в Москве и Петербурге\n",
    "\n",
    "Гипотеза: Петербург — столица рэпа, музыку этого жанра там слушают чаще, чем в Москве.  А Москва — город контрастов, в котором, тем не менее, преобладает поп-музыка."
   ]
  },
  {
   "cell_type": "code",
   "execution_count": 40,
   "metadata": {
    "id": "r19lIPke_Zcu"
   },
   "outputs": [],
   "source": [
    "# одной строкой: группировка таблицы moscow_general по столбцу 'genre', \n",
    "# подсчёт числа значений 'genre' в этой группировке методом count(),\n",
    "# сортировка получившегося Series в порядке убывания и сохранение в moscow_genres\n",
    "moscow_genres = moscow_general.groupby('genre')['user_id'].count().sort_values(ascending=False)"
   ]
  },
  {
   "cell_type": "code",
   "execution_count": 41,
   "metadata": {
    "id": "WhCSooF8_Zcv"
   },
   "outputs": [
    {
     "data": {
      "text/plain": [
       "genre\n",
       "pop            5892\n",
       "dance          4435\n",
       "rock           3965\n",
       "electronic     3786\n",
       "hiphop         2096\n",
       "classical      1616\n",
       "world          1432\n",
       "alternative    1379\n",
       "ruspop         1372\n",
       "rusrap         1161\n",
       "Name: user_id, dtype: int64"
      ]
     },
     "metadata": {},
     "output_type": "display_data"
    }
   ],
   "source": [
    "# просмотр первых 10 строк moscow_genres\n",
    "display(moscow_genres.head(10))"
   ]
  },
  {
   "cell_type": "code",
   "execution_count": 42,
   "metadata": {
    "id": "gluLIpE7_Zcv"
   },
   "outputs": [],
   "source": [
    "# одной строкой: группировка таблицы spb_general по столбцу 'genre', \n",
    "# подсчёт числа значений 'genre' в этой группировке методом count(), \n",
    "# сортировка получившегося Series в порядке убывания и сохранение в spb_genres\n",
    "spb_genres = spb_general.groupby('genre')['user_id'].count().sort_values(ascending=False)"
   ]
  },
  {
   "cell_type": "code",
   "execution_count": 43,
   "metadata": {
    "id": "uaGJHjVU_Zcv"
   },
   "outputs": [
    {
     "data": {
      "text/plain": [
       "genre\n",
       "pop            2431\n",
       "dance          1932\n",
       "rock           1879\n",
       "electronic     1737\n",
       "hiphop          960\n",
       "alternative     649\n",
       "classical       646\n",
       "rusrap          564\n",
       "ruspop          538\n",
       "world           515\n",
       "Name: user_id, dtype: int64"
      ]
     },
     "metadata": {},
     "output_type": "display_data"
    }
   ],
   "source": [
    "# просмотр первых 10 строк spb_genres\n",
    "display(spb_genres.head(10))"
   ]
  },
  {
   "cell_type": "markdown",
   "metadata": {
    "id": "RY51YJYu_Zcv"
   },
   "source": [
    "**Выводы**"
   ]
  },
  {
   "cell_type": "markdown",
   "metadata": {
    "id": "nVhnJEm__Zcv"
   },
   "source": [
    "Гипотеза частично подтвердилась:\n",
    "* Поп-музыка — самый популярный жанр в Москве, как и предполагала гипотеза. Более того, в топ-10 жанров встречается близкий жанр — русская популярная музыка.\n",
    "* Вопреки ожиданиям, рэп одинаково популярен в Москве и Петербурге. \n"
   ]
  },
  {
   "cell_type": "markdown",
   "metadata": {
    "id": "ykKQ0N65_Zcv"
   },
   "source": [
    "## Итоги исследования"
   ]
  },
  {
   "cell_type": "markdown",
   "metadata": {
    "id": "tjUwbHb3_Zcv"
   },
   "source": [
    "Были проверены три гипотезы и установлено:\n",
    "\n",
    "1. День недели по-разному влияет на активность пользователей в Москве и Петербурге. \n",
    "\n",
    "Первая гипотеза полностью подтвердилась.\n",
    "\n",
    "2. Музыкальные предпочтения не сильно меняются в течение недели — будь то Москва или Петербург. Небольшие различия заметны в начале недели, по понедельникам:\n",
    "* в Москве слушают музыку жанра “world”,\n",
    "* в Петербурге — джаз и классику.\n",
    "\n",
    "Таким образом, вторая гипотеза подтвердилась лишь отчасти. Этот результат мог оказаться иным, если бы не пропуски в данных.\n",
    "\n",
    "3. Во вкусах пользователей Москвы и Петербурга больше общего чем различий. Вопреки ожиданиям, предпочтения жанров в Петербурге напоминают московские.\n",
    "\n",
    "Третья гипотеза не подтвердилась. Если различия в предпочтениях и существуют, на основной массе пользователей они незаметны."
   ]
  }
 ],
 "metadata": {
  "ExecuteTimeLog": [
   {
    "duration": 227,
    "start_time": "2021-11-29T10:57:58.192Z"
   },
   {
    "duration": 591,
    "start_time": "2021-11-29T10:58:04.273Z"
   },
   {
    "duration": 1258,
    "start_time": "2021-11-29T10:58:06.280Z"
   },
   {
    "duration": 1410,
    "start_time": "2021-11-29T10:58:29.194Z"
   },
   {
    "duration": 1325,
    "start_time": "2021-11-29T10:58:39.356Z"
   },
   {
    "duration": 1528,
    "start_time": "2021-11-29T10:59:18.506Z"
   },
   {
    "duration": 141,
    "start_time": "2021-11-29T10:59:25.602Z"
   },
   {
    "duration": 17,
    "start_time": "2021-11-29T10:59:45.147Z"
   },
   {
    "duration": 11,
    "start_time": "2021-11-29T10:59:52.581Z"
   },
   {
    "duration": 11,
    "start_time": "2021-11-29T10:59:57.735Z"
   },
   {
    "duration": 36,
    "start_time": "2021-11-29T11:00:39.738Z"
   },
   {
    "duration": 25,
    "start_time": "2021-11-29T11:01:01.408Z"
   },
   {
    "duration": 187,
    "start_time": "2021-11-29T11:03:28.672Z"
   },
   {
    "duration": 194,
    "start_time": "2021-11-29T11:03:41.160Z"
   },
   {
    "duration": 198,
    "start_time": "2021-11-29T11:03:45.259Z"
   },
   {
    "duration": 183,
    "start_time": "2021-11-29T11:03:51.362Z"
   },
   {
    "duration": 56,
    "start_time": "2021-11-29T11:04:28.367Z"
   },
   {
    "duration": 4,
    "start_time": "2021-11-29T11:04:31.463Z"
   },
   {
    "duration": 3,
    "start_time": "2021-11-29T11:04:39.928Z"
   },
   {
    "duration": 24,
    "start_time": "2021-11-29T11:04:54.323Z"
   },
   {
    "duration": 4533,
    "start_time": "2021-11-29T11:05:50.860Z"
   },
   {
    "duration": 20,
    "start_time": "2021-11-29T11:39:39.737Z"
   },
   {
    "duration": 5,
    "start_time": "2021-11-29T11:39:49.058Z"
   },
   {
    "duration": 23,
    "start_time": "2021-11-29T11:42:10.345Z"
   },
   {
    "duration": 23,
    "start_time": "2021-11-29T11:42:21.511Z"
   },
   {
    "duration": 4,
    "start_time": "2021-11-29T11:44:53.232Z"
   },
   {
    "duration": 4,
    "start_time": "2021-11-29T11:44:57.713Z"
   },
   {
    "duration": 16,
    "start_time": "2021-11-29T11:47:37.418Z"
   },
   {
    "duration": 22,
    "start_time": "2021-11-29T11:47:49.919Z"
   },
   {
    "duration": 22,
    "start_time": "2021-11-29T11:48:14.742Z"
   },
   {
    "duration": 37,
    "start_time": "2021-11-29T11:48:17.010Z"
   },
   {
    "duration": 52,
    "start_time": "2021-11-29T11:49:35.408Z"
   },
   {
    "duration": 224,
    "start_time": "2021-11-29T11:51:04.583Z"
   },
   {
    "duration": 79,
    "start_time": "2021-11-29T11:51:21.773Z"
   },
   {
    "duration": 48,
    "start_time": "2021-11-29T11:51:30.243Z"
   },
   {
    "duration": 7,
    "start_time": "2021-11-29T11:52:04.299Z"
   },
   {
    "duration": 63,
    "start_time": "2021-11-29T11:52:42.466Z"
   },
   {
    "duration": 248,
    "start_time": "2021-11-29T11:52:49.578Z"
   },
   {
    "duration": 202,
    "start_time": "2021-11-29T11:53:08.501Z"
   },
   {
    "duration": 6,
    "start_time": "2021-11-29T11:53:20.466Z"
   },
   {
    "duration": 7,
    "start_time": "2021-11-29T11:54:50.050Z"
   },
   {
    "duration": 6,
    "start_time": "2021-11-29T11:55:13.693Z"
   },
   {
    "duration": 172,
    "start_time": "2021-11-29T11:55:45.919Z"
   },
   {
    "duration": 6,
    "start_time": "2021-11-29T11:55:51.743Z"
   },
   {
    "duration": 6,
    "start_time": "2021-11-29T11:56:17.832Z"
   },
   {
    "duration": 3,
    "start_time": "2021-11-29T12:52:02.940Z"
   },
   {
    "duration": 10,
    "start_time": "2021-11-29T12:54:11.808Z"
   },
   {
    "duration": 6,
    "start_time": "2021-11-29T12:54:35.250Z"
   },
   {
    "duration": 178,
    "start_time": "2021-11-29T12:59:45.139Z"
   },
   {
    "duration": 310,
    "start_time": "2021-11-29T13:00:21.552Z"
   },
   {
    "duration": 312,
    "start_time": "2021-11-29T13:00:36.542Z"
   },
   {
    "duration": 31,
    "start_time": "2021-11-29T13:02:01.443Z"
   },
   {
    "duration": 11,
    "start_time": "2021-11-29T13:02:22.147Z"
   },
   {
    "duration": 11,
    "start_time": "2021-11-29T13:02:29.179Z"
   },
   {
    "duration": 10,
    "start_time": "2021-11-29T13:04:54.565Z"
   },
   {
    "duration": 12,
    "start_time": "2021-11-29T13:05:07.681Z"
   },
   {
    "duration": 173,
    "start_time": "2021-11-29T13:16:47.334Z"
   },
   {
    "duration": 4,
    "start_time": "2021-11-29T13:17:04.636Z"
   },
   {
    "duration": 336,
    "start_time": "2021-11-29T13:17:07.481Z"
   },
   {
    "duration": 3,
    "start_time": "2021-11-29T13:18:07.450Z"
   },
   {
    "duration": 18,
    "start_time": "2021-11-29T13:18:24.522Z"
   },
   {
    "duration": 26,
    "start_time": "2021-11-29T13:21:01.084Z"
   },
   {
    "duration": 16,
    "start_time": "2021-11-29T13:21:46.217Z"
   },
   {
    "duration": 5,
    "start_time": "2021-11-29T13:22:17.600Z"
   },
   {
    "duration": 21,
    "start_time": "2021-11-29T13:22:20.786Z"
   },
   {
    "duration": 17,
    "start_time": "2021-11-29T13:22:24.268Z"
   },
   {
    "duration": 14,
    "start_time": "2021-11-29T13:22:26.585Z"
   },
   {
    "duration": 15,
    "start_time": "2021-11-29T13:22:46.167Z"
   },
   {
    "duration": 21,
    "start_time": "2021-11-29T13:23:00.562Z"
   },
   {
    "duration": 16,
    "start_time": "2021-11-29T13:23:21.752Z"
   },
   {
    "duration": 13,
    "start_time": "2021-11-29T13:26:31.308Z"
   },
   {
    "duration": 259,
    "start_time": "2021-11-29T13:33:50.849Z"
   },
   {
    "duration": 62,
    "start_time": "2021-11-29T13:35:23.182Z"
   },
   {
    "duration": 64,
    "start_time": "2021-11-29T13:41:30.327Z"
   },
   {
    "duration": 60,
    "start_time": "2021-11-29T13:41:32.056Z"
   },
   {
    "duration": 63,
    "start_time": "2021-11-29T13:41:32.824Z"
   },
   {
    "duration": 72,
    "start_time": "2021-11-29T13:41:33.460Z"
   },
   {
    "duration": 60,
    "start_time": "2021-11-29T13:41:34.110Z"
   },
   {
    "duration": 64,
    "start_time": "2021-11-29T13:54:23.834Z"
   },
   {
    "duration": 300,
    "start_time": "2021-11-29T14:02:21.864Z"
   },
   {
    "duration": 55,
    "start_time": "2021-11-29T14:03:24.743Z"
   },
   {
    "duration": 60,
    "start_time": "2021-11-29T14:04:07.164Z"
   },
   {
    "duration": 58,
    "start_time": "2021-11-29T14:04:19.935Z"
   },
   {
    "duration": 59,
    "start_time": "2021-11-29T14:08:05.728Z"
   },
   {
    "duration": 14,
    "start_time": "2021-11-29T14:10:16.489Z"
   },
   {
    "duration": 12,
    "start_time": "2021-11-29T14:10:38.606Z"
   },
   {
    "duration": 11,
    "start_time": "2021-11-29T14:10:48.342Z"
   },
   {
    "duration": 8,
    "start_time": "2021-11-29T14:11:42.461Z"
   },
   {
    "duration": 63,
    "start_time": "2021-11-29T14:13:11.419Z"
   },
   {
    "duration": 288,
    "start_time": "2021-11-29T14:15:27.673Z"
   },
   {
    "duration": 91,
    "start_time": "2021-11-29T14:15:54.934Z"
   },
   {
    "duration": 325,
    "start_time": "2021-11-29T14:16:18.825Z"
   },
   {
    "duration": 84,
    "start_time": "2021-11-29T14:16:30.028Z"
   },
   {
    "duration": 70,
    "start_time": "2021-11-29T14:18:47.014Z"
   },
   {
    "duration": 179,
    "start_time": "2021-11-29T14:23:28.210Z"
   },
   {
    "duration": 12,
    "start_time": "2021-11-29T14:23:35.566Z"
   },
   {
    "duration": 19,
    "start_time": "2021-11-29T14:23:50.221Z"
   },
   {
    "duration": 15,
    "start_time": "2021-11-29T14:25:16.761Z"
   },
   {
    "duration": 189,
    "start_time": "2021-11-29T15:12:31.057Z"
   },
   {
    "duration": 2325,
    "start_time": "2021-11-29T15:12:55.615Z"
   },
   {
    "duration": 11,
    "start_time": "2021-11-29T15:12:58.634Z"
   },
   {
    "duration": 24,
    "start_time": "2021-11-29T15:13:07.245Z"
   },
   {
    "duration": 4,
    "start_time": "2021-11-29T15:13:13.047Z"
   },
   {
    "duration": 14,
    "start_time": "2021-11-29T15:13:16.752Z"
   },
   {
    "duration": 5,
    "start_time": "2021-11-29T15:13:19.486Z"
   },
   {
    "duration": 33,
    "start_time": "2021-11-29T15:13:31.200Z"
   },
   {
    "duration": 24,
    "start_time": "2021-11-29T15:13:35.771Z"
   },
   {
    "duration": 34,
    "start_time": "2021-11-29T15:13:38.499Z"
   },
   {
    "duration": 49,
    "start_time": "2021-11-29T15:13:42.290Z"
   },
   {
    "duration": 54,
    "start_time": "2021-11-29T15:13:44.804Z"
   },
   {
    "duration": 63,
    "start_time": "2021-11-29T15:13:47.554Z"
   },
   {
    "duration": 6,
    "start_time": "2021-11-29T15:13:50.918Z"
   },
   {
    "duration": 3,
    "start_time": "2021-11-29T15:13:55.997Z"
   },
   {
    "duration": 10,
    "start_time": "2021-11-29T15:14:00.536Z"
   },
   {
    "duration": 5,
    "start_time": "2021-11-29T15:14:06.715Z"
   },
   {
    "duration": 12,
    "start_time": "2021-11-29T15:14:13.570Z"
   },
   {
    "duration": 11,
    "start_time": "2021-11-29T15:14:16.375Z"
   },
   {
    "duration": 4,
    "start_time": "2021-11-29T15:14:21.038Z"
   },
   {
    "duration": 17,
    "start_time": "2021-11-29T15:14:23.662Z"
   },
   {
    "duration": 14,
    "start_time": "2021-11-29T15:14:26.443Z"
   },
   {
    "duration": 15,
    "start_time": "2021-11-29T15:14:27.136Z"
   },
   {
    "duration": 15,
    "start_time": "2021-11-29T15:14:27.756Z"
   },
   {
    "duration": 18,
    "start_time": "2021-11-29T15:14:28.469Z"
   },
   {
    "duration": 16,
    "start_time": "2021-11-29T15:14:29.332Z"
   },
   {
    "duration": 65,
    "start_time": "2021-11-29T15:14:34.013Z"
   },
   {
    "duration": 21,
    "start_time": "2021-11-29T15:14:52.403Z"
   },
   {
    "duration": 18,
    "start_time": "2021-11-29T15:15:01.593Z"
   },
   {
    "duration": 3,
    "start_time": "2021-11-29T15:26:07.947Z"
   },
   {
    "duration": 178,
    "start_time": "2021-11-29T15:28:13.501Z"
   },
   {
    "duration": 3,
    "start_time": "2021-11-29T15:28:43.841Z"
   },
   {
    "duration": 172,
    "start_time": "2021-11-29T15:32:09.263Z"
   },
   {
    "duration": 168,
    "start_time": "2021-11-29T15:32:23.331Z"
   },
   {
    "duration": 4,
    "start_time": "2021-11-29T15:32:49.835Z"
   },
   {
    "duration": 5154,
    "start_time": "2021-11-29T15:50:19.087Z"
   },
   {
    "duration": 5035,
    "start_time": "2021-11-29T15:50:27.480Z"
   },
   {
    "duration": 7,
    "start_time": "2021-11-29T15:51:13.734Z"
   },
   {
    "duration": 5,
    "start_time": "2021-11-29T15:51:37.809Z"
   },
   {
    "duration": 5,
    "start_time": "2021-11-29T15:51:51.205Z"
   },
   {
    "duration": 175,
    "start_time": "2021-11-29T15:52:35.167Z"
   },
   {
    "duration": 4,
    "start_time": "2021-11-29T15:52:43.932Z"
   },
   {
    "duration": 4,
    "start_time": "2021-11-29T15:57:25.916Z"
   },
   {
    "duration": 347,
    "start_time": "2021-11-29T15:58:30.726Z"
   },
   {
    "duration": 3,
    "start_time": "2021-11-29T15:58:49.629Z"
   },
   {
    "duration": 339,
    "start_time": "2021-11-29T15:58:50.520Z"
   },
   {
    "duration": 178,
    "start_time": "2021-11-29T15:59:47.917Z"
   },
   {
    "duration": 170,
    "start_time": "2021-11-29T15:59:55.376Z"
   },
   {
    "duration": 4,
    "start_time": "2021-11-29T16:00:09.520Z"
   },
   {
    "duration": 4,
    "start_time": "2021-11-29T16:00:31.410Z"
   },
   {
    "duration": 345,
    "start_time": "2021-11-29T16:00:32.103Z"
   },
   {
    "duration": 3,
    "start_time": "2021-11-29T16:01:04.119Z"
   },
   {
    "duration": 366,
    "start_time": "2021-11-29T16:01:04.758Z"
   },
   {
    "duration": 3,
    "start_time": "2021-11-29T16:01:27.143Z"
   },
   {
    "duration": 19,
    "start_time": "2021-11-29T16:01:31.278Z"
   },
   {
    "duration": 3,
    "start_time": "2021-11-29T16:02:17.236Z"
   },
   {
    "duration": 372,
    "start_time": "2021-11-29T16:02:18.304Z"
   },
   {
    "duration": 3,
    "start_time": "2021-11-29T16:06:04.004Z"
   },
   {
    "duration": 345,
    "start_time": "2021-11-29T16:06:04.962Z"
   },
   {
    "duration": 4,
    "start_time": "2021-11-29T16:10:27.762Z"
   },
   {
    "duration": 415,
    "start_time": "2021-11-29T16:10:28.799Z"
   },
   {
    "duration": 87,
    "start_time": "2021-11-29T16:12:09.361Z"
   },
   {
    "duration": 186,
    "start_time": "2021-11-29T16:12:18.949Z"
   },
   {
    "duration": 25,
    "start_time": "2021-11-29T16:12:29.500Z"
   },
   {
    "duration": 23,
    "start_time": "2021-11-29T16:12:44.680Z"
   },
   {
    "duration": 3,
    "start_time": "2021-11-29T16:14:31.517Z"
   },
   {
    "duration": 2299,
    "start_time": "2021-11-29T16:14:32.360Z"
   },
   {
    "duration": 3,
    "start_time": "2021-11-29T16:15:25.340Z"
   },
   {
    "duration": 13,
    "start_time": "2021-11-29T16:15:26.424Z"
   },
   {
    "duration": 18,
    "start_time": "2021-11-29T16:15:56.403Z"
   },
   {
    "duration": 3,
    "start_time": "2021-11-29T16:18:36.491Z"
   },
   {
    "duration": 7,
    "start_time": "2021-11-29T16:18:37.067Z"
   },
   {
    "duration": 4,
    "start_time": "2021-11-29T16:18:59.286Z"
   },
   {
    "duration": 460,
    "start_time": "2021-11-29T16:19:00.905Z"
   },
   {
    "duration": 3,
    "start_time": "2021-11-29T16:19:30.865Z"
   },
   {
    "duration": 444,
    "start_time": "2021-11-29T16:19:32.742Z"
   },
   {
    "duration": 24,
    "start_time": "2021-11-29T16:20:42.885Z"
   },
   {
    "duration": 25,
    "start_time": "2021-11-29T16:20:47.307Z"
   },
   {
    "duration": 3,
    "start_time": "2021-11-29T16:22:03.871Z"
   },
   {
    "duration": 18,
    "start_time": "2021-11-29T16:22:05.527Z"
   },
   {
    "duration": 3,
    "start_time": "2021-11-29T16:22:51.359Z"
   },
   {
    "duration": 15,
    "start_time": "2021-11-29T16:22:52.805Z"
   },
   {
    "duration": 3,
    "start_time": "2021-11-29T16:23:16.287Z"
   },
   {
    "duration": 2230,
    "start_time": "2021-11-29T16:23:20.090Z"
   },
   {
    "duration": 150,
    "start_time": "2021-11-29T16:23:27.879Z"
   },
   {
    "duration": 11,
    "start_time": "2021-11-29T16:23:31.331Z"
   },
   {
    "duration": 23,
    "start_time": "2021-11-29T16:23:39.221Z"
   },
   {
    "duration": 3,
    "start_time": "2021-11-29T16:23:44.128Z"
   },
   {
    "duration": 13,
    "start_time": "2021-11-29T16:23:45.710Z"
   },
   {
    "duration": 4,
    "start_time": "2021-11-29T16:23:47.760Z"
   },
   {
    "duration": 23,
    "start_time": "2021-11-29T16:23:49.373Z"
   },
   {
    "duration": 14,
    "start_time": "2021-11-29T16:23:51.512Z"
   },
   {
    "duration": 21,
    "start_time": "2021-11-29T16:23:53.393Z"
   },
   {
    "duration": 60,
    "start_time": "2021-11-29T16:23:58.954Z"
   },
   {
    "duration": 62,
    "start_time": "2021-11-29T16:24:00.276Z"
   },
   {
    "duration": 50,
    "start_time": "2021-11-29T16:24:01.640Z"
   },
   {
    "duration": 6,
    "start_time": "2021-11-29T16:24:18.918Z"
   },
   {
    "duration": 3,
    "start_time": "2021-11-29T16:24:21.829Z"
   },
   {
    "duration": 9,
    "start_time": "2021-11-29T16:24:23.165Z"
   },
   {
    "duration": 7,
    "start_time": "2021-11-29T16:24:25.220Z"
   },
   {
    "duration": 12,
    "start_time": "2021-11-29T16:24:36.436Z"
   },
   {
    "duration": 12,
    "start_time": "2021-11-29T16:24:40.208Z"
   },
   {
    "duration": 5,
    "start_time": "2021-11-29T16:24:51.133Z"
   },
   {
    "duration": 15,
    "start_time": "2021-11-29T16:24:53.598Z"
   },
   {
    "duration": 15,
    "start_time": "2021-11-29T16:24:54.531Z"
   },
   {
    "duration": 16,
    "start_time": "2021-11-29T16:24:55.241Z"
   },
   {
    "duration": 14,
    "start_time": "2021-11-29T16:24:56.058Z"
   },
   {
    "duration": 17,
    "start_time": "2021-11-29T16:24:56.851Z"
   },
   {
    "duration": 16,
    "start_time": "2021-11-29T16:24:57.457Z"
   },
   {
    "duration": 78,
    "start_time": "2021-11-29T16:24:59.187Z"
   },
   {
    "duration": 1427,
    "start_time": "2021-11-29T16:25:12.917Z"
   },
   {
    "duration": 18,
    "start_time": "2021-11-29T16:25:23.378Z"
   },
   {
    "duration": 3,
    "start_time": "2021-11-29T16:25:41.316Z"
   },
   {
    "duration": 3,
    "start_time": "2021-11-29T16:25:42.467Z"
   },
   {
    "duration": 16,
    "start_time": "2021-11-29T16:25:44.048Z"
   },
   {
    "duration": 3,
    "start_time": "2021-11-29T16:26:13.116Z"
   },
   {
    "duration": 20,
    "start_time": "2021-11-29T16:26:13.692Z"
   },
   {
    "duration": 4,
    "start_time": "2021-11-29T16:26:35.513Z"
   },
   {
    "duration": 17,
    "start_time": "2021-11-29T16:26:35.928Z"
   },
   {
    "duration": 3,
    "start_time": "2021-11-29T16:27:16.556Z"
   },
   {
    "duration": 1142,
    "start_time": "2021-11-29T16:27:17.437Z"
   },
   {
    "duration": 3,
    "start_time": "2021-11-29T16:27:35.913Z"
   },
   {
    "duration": 1594,
    "start_time": "2021-11-29T16:27:36.485Z"
   },
   {
    "duration": 3,
    "start_time": "2021-11-29T16:28:09.726Z"
   },
   {
    "duration": 395,
    "start_time": "2021-11-29T16:28:10.148Z"
   },
   {
    "duration": 3,
    "start_time": "2021-11-29T16:28:20.142Z"
   },
   {
    "duration": 29,
    "start_time": "2021-11-29T16:28:21.513Z"
   },
   {
    "duration": 3,
    "start_time": "2021-11-29T16:28:38.200Z"
   },
   {
    "duration": 28,
    "start_time": "2021-11-29T16:28:38.771Z"
   },
   {
    "duration": 4,
    "start_time": "2021-11-29T16:29:02.764Z"
   },
   {
    "duration": 20,
    "start_time": "2021-11-29T16:29:03.393Z"
   },
   {
    "duration": 1417,
    "start_time": "2021-11-29T16:30:16.348Z"
   },
   {
    "duration": 632,
    "start_time": "2021-11-29T16:30:47.273Z"
   },
   {
    "duration": 397,
    "start_time": "2021-11-29T16:31:25.695Z"
   },
   {
    "duration": 3,
    "start_time": "2021-11-29T16:32:35.728Z"
   },
   {
    "duration": 361,
    "start_time": "2021-11-29T16:32:38.118Z"
   },
   {
    "duration": 1421,
    "start_time": "2021-11-29T16:32:52.425Z"
   },
   {
    "duration": 1442,
    "start_time": "2021-11-29T16:33:18.751Z"
   },
   {
    "duration": 3,
    "start_time": "2021-11-29T16:33:26.426Z"
   },
   {
    "duration": 25,
    "start_time": "2021-11-29T16:33:28.151Z"
   },
   {
    "duration": 20,
    "start_time": "2021-11-29T16:33:46.456Z"
   },
   {
    "duration": 4,
    "start_time": "2021-11-29T16:36:20.936Z"
   },
   {
    "duration": 22,
    "start_time": "2021-11-29T16:36:21.682Z"
   },
   {
    "duration": 3,
    "start_time": "2021-11-29T16:36:32.267Z"
   },
   {
    "duration": 22,
    "start_time": "2021-11-29T16:36:32.740Z"
   },
   {
    "duration": 21,
    "start_time": "2021-11-29T16:37:10.421Z"
   },
   {
    "duration": 5,
    "start_time": "2021-11-29T16:39:25.862Z"
   },
   {
    "duration": 28,
    "start_time": "2021-11-29T16:39:26.573Z"
   },
   {
    "duration": 22,
    "start_time": "2021-11-29T16:40:56.248Z"
   },
   {
    "duration": 4,
    "start_time": "2021-11-29T16:41:01.863Z"
   },
   {
    "duration": 1771,
    "start_time": "2021-11-29T16:41:02.549Z"
   },
   {
    "duration": 4,
    "start_time": "2021-11-29T16:41:30.847Z"
   },
   {
    "duration": 1396,
    "start_time": "2021-11-29T16:41:31.431Z"
   },
   {
    "duration": 126,
    "start_time": "2021-11-29T16:43:03.245Z"
   },
   {
    "duration": 4,
    "start_time": "2021-11-29T16:43:11.810Z"
   },
   {
    "duration": 556,
    "start_time": "2021-11-29T16:43:12.484Z"
   },
   {
    "duration": 4,
    "start_time": "2021-11-29T16:45:52.613Z"
   },
   {
    "duration": 540,
    "start_time": "2021-11-29T16:45:55.899Z"
   },
   {
    "duration": 4,
    "start_time": "2021-11-29T16:46:07.364Z"
   },
   {
    "duration": 528,
    "start_time": "2021-11-29T16:46:07.924Z"
   },
   {
    "duration": 5,
    "start_time": "2021-11-29T16:48:05.698Z"
   },
   {
    "duration": 544,
    "start_time": "2021-11-29T16:48:06.304Z"
   },
   {
    "duration": 538,
    "start_time": "2021-11-29T16:49:07.667Z"
   },
   {
    "duration": 545,
    "start_time": "2021-11-29T16:49:22.300Z"
   },
   {
    "duration": 623,
    "start_time": "2021-11-29T16:49:53.917Z"
   },
   {
    "duration": 5,
    "start_time": "2021-11-29T16:49:55.191Z"
   },
   {
    "duration": 551,
    "start_time": "2021-11-29T16:49:56.399Z"
   },
   {
    "duration": 196,
    "start_time": "2021-11-29T16:49:58.008Z"
   },
   {
    "duration": 555,
    "start_time": "2021-11-29T16:50:42.251Z"
   },
   {
    "duration": 228,
    "start_time": "2021-11-29T16:51:11.364Z"
   },
   {
    "duration": 175,
    "start_time": "2021-11-29T16:55:03.898Z"
   },
   {
    "duration": 26,
    "start_time": "2021-11-29T16:55:18.777Z"
   },
   {
    "duration": 3,
    "start_time": "2021-11-29T16:55:37.175Z"
   },
   {
    "duration": 179,
    "start_time": "2021-11-29T16:56:58.920Z"
   },
   {
    "duration": 212,
    "start_time": "2021-11-29T16:58:38.905Z"
   },
   {
    "duration": 60,
    "start_time": "2021-11-29T16:58:45.606Z"
   },
   {
    "duration": 173,
    "start_time": "2021-11-29T16:58:48.941Z"
   },
   {
    "duration": 240,
    "start_time": "2021-11-29T16:59:15.254Z"
   },
   {
    "duration": 200,
    "start_time": "2021-11-29T16:59:22.291Z"
   },
   {
    "duration": 207,
    "start_time": "2021-11-29T16:59:28.732Z"
   },
   {
    "duration": 182,
    "start_time": "2021-11-29T16:59:47.229Z"
   },
   {
    "duration": 228,
    "start_time": "2021-11-29T17:00:01.649Z"
   },
   {
    "duration": 208,
    "start_time": "2021-11-29T17:01:16.919Z"
   },
   {
    "duration": 3,
    "start_time": "2021-11-29T17:04:55.167Z"
   },
   {
    "duration": 136,
    "start_time": "2021-11-29T17:04:56.269Z"
   },
   {
    "duration": 11,
    "start_time": "2021-11-29T17:04:57.980Z"
   },
   {
    "duration": 27,
    "start_time": "2021-11-29T17:05:00.828Z"
   },
   {
    "duration": 4,
    "start_time": "2021-11-29T17:05:04.045Z"
   },
   {
    "duration": 18,
    "start_time": "2021-11-29T17:05:05.613Z"
   },
   {
    "duration": 4,
    "start_time": "2021-11-29T17:05:06.592Z"
   },
   {
    "duration": 26,
    "start_time": "2021-11-29T17:05:08.024Z"
   },
   {
    "duration": 20,
    "start_time": "2021-11-29T17:05:10.161Z"
   },
   {
    "duration": 27,
    "start_time": "2021-11-29T17:05:11.286Z"
   },
   {
    "duration": 56,
    "start_time": "2021-11-29T17:05:12.760Z"
   },
   {
    "duration": 63,
    "start_time": "2021-11-29T17:05:13.807Z"
   },
   {
    "duration": 54,
    "start_time": "2021-11-29T17:05:14.754Z"
   },
   {
    "duration": 6,
    "start_time": "2021-11-29T17:05:16.845Z"
   },
   {
    "duration": 3,
    "start_time": "2021-11-29T17:05:19.075Z"
   },
   {
    "duration": 13,
    "start_time": "2021-11-29T17:05:20.161Z"
   },
   {
    "duration": 6,
    "start_time": "2021-11-29T17:05:21.496Z"
   },
   {
    "duration": 12,
    "start_time": "2021-11-29T17:05:25.743Z"
   },
   {
    "duration": 11,
    "start_time": "2021-11-29T17:05:27.576Z"
   },
   {
    "duration": 6,
    "start_time": "2021-11-29T17:05:30.140Z"
   },
   {
    "duration": 18,
    "start_time": "2021-11-29T17:05:33.185Z"
   },
   {
    "duration": 15,
    "start_time": "2021-11-29T17:05:34.146Z"
   },
   {
    "duration": 15,
    "start_time": "2021-11-29T17:05:34.974Z"
   },
   {
    "duration": 14,
    "start_time": "2021-11-29T17:05:35.490Z"
   },
   {
    "duration": 18,
    "start_time": "2021-11-29T17:05:36.101Z"
   },
   {
    "duration": 14,
    "start_time": "2021-11-29T17:05:36.947Z"
   },
   {
    "duration": 72,
    "start_time": "2021-11-29T17:05:41.613Z"
   },
   {
    "duration": 20,
    "start_time": "2021-11-29T17:05:46.176Z"
   },
   {
    "duration": 18,
    "start_time": "2021-11-29T17:06:06.613Z"
   },
   {
    "duration": 4,
    "start_time": "2021-11-29T17:06:09.678Z"
   },
   {
    "duration": 532,
    "start_time": "2021-11-29T17:06:11.151Z"
   },
   {
    "duration": 193,
    "start_time": "2021-11-29T17:06:12.064Z"
   },
   {
    "duration": 539,
    "start_time": "2021-11-29T17:06:14.454Z"
   },
   {
    "duration": 205,
    "start_time": "2021-11-29T17:06:15.963Z"
   },
   {
    "duration": 33,
    "start_time": "2021-11-29T17:06:20.680Z"
   },
   {
    "duration": 15,
    "start_time": "2021-11-29T17:07:13.372Z"
   },
   {
    "duration": 18,
    "start_time": "2021-11-29T17:07:26.706Z"
   },
   {
    "duration": 285,
    "start_time": "2021-11-29T17:08:13.535Z"
   },
   {
    "duration": 18,
    "start_time": "2021-11-29T17:09:48.098Z"
   },
   {
    "duration": 22,
    "start_time": "2021-11-29T17:10:27.625Z"
   },
   {
    "duration": 10,
    "start_time": "2021-11-29T17:10:51.547Z"
   },
   {
    "duration": 12,
    "start_time": "2021-11-29T17:11:04.574Z"
   },
   {
    "duration": 10,
    "start_time": "2021-11-29T17:11:17.857Z"
   },
   {
    "duration": 4,
    "start_time": "2021-11-29T17:11:31.113Z"
   },
   {
    "duration": 10,
    "start_time": "2021-11-29T17:12:04.622Z"
   },
   {
    "duration": 5,
    "start_time": "2021-11-29T17:12:20.323Z"
   },
   {
    "duration": 3,
    "start_time": "2021-11-29T17:21:28.825Z"
   },
   {
    "duration": 128,
    "start_time": "2021-11-29T17:21:33.091Z"
   },
   {
    "duration": 10,
    "start_time": "2021-11-29T17:21:37.196Z"
   },
   {
    "duration": 24,
    "start_time": "2021-11-29T17:21:40.911Z"
   },
   {
    "duration": 3,
    "start_time": "2021-11-29T17:22:08.177Z"
   },
   {
    "duration": 18,
    "start_time": "2021-11-29T17:22:27.237Z"
   },
   {
    "duration": 4,
    "start_time": "2021-11-29T17:22:31.510Z"
   },
   {
    "duration": 23,
    "start_time": "2021-11-29T17:23:22.990Z"
   },
   {
    "duration": 23,
    "start_time": "2021-11-29T17:23:44.550Z"
   },
   {
    "duration": 23,
    "start_time": "2021-11-29T17:23:46.445Z"
   },
   {
    "duration": 53,
    "start_time": "2021-11-29T17:23:54.229Z"
   },
   {
    "duration": 60,
    "start_time": "2021-11-29T17:23:59.318Z"
   },
   {
    "duration": 55,
    "start_time": "2021-11-29T17:24:05.039Z"
   },
   {
    "duration": 5,
    "start_time": "2021-11-29T17:24:15.984Z"
   },
   {
    "duration": 2,
    "start_time": "2021-11-29T17:24:39.586Z"
   },
   {
    "duration": 15,
    "start_time": "2021-11-29T17:24:49.118Z"
   },
   {
    "duration": 6,
    "start_time": "2021-11-29T17:24:54.606Z"
   },
   {
    "duration": 11,
    "start_time": "2021-11-29T17:25:03.984Z"
   },
   {
    "duration": 12,
    "start_time": "2021-11-29T17:25:16.252Z"
   },
   {
    "duration": 3,
    "start_time": "2021-11-29T17:25:51.968Z"
   },
   {
    "duration": 16,
    "start_time": "2021-11-29T17:25:53.120Z"
   },
   {
    "duration": 14,
    "start_time": "2021-11-29T17:25:53.971Z"
   },
   {
    "duration": 18,
    "start_time": "2021-11-29T17:25:55.870Z"
   },
   {
    "duration": 14,
    "start_time": "2021-11-29T17:25:56.811Z"
   },
   {
    "duration": 17,
    "start_time": "2021-11-29T17:25:57.862Z"
   },
   {
    "duration": 14,
    "start_time": "2021-11-29T17:25:58.420Z"
   },
   {
    "duration": 67,
    "start_time": "2021-11-29T17:26:25.487Z"
   },
   {
    "duration": 17,
    "start_time": "2021-11-29T17:26:33.017Z"
   },
   {
    "duration": 25,
    "start_time": "2021-11-29T17:26:37.839Z"
   },
   {
    "duration": 5,
    "start_time": "2021-11-29T17:28:01.609Z"
   },
   {
    "duration": 4,
    "start_time": "2021-11-29T17:28:02.854Z"
   },
   {
    "duration": 5,
    "start_time": "2021-11-29T17:28:04.404Z"
   },
   {
    "duration": 533,
    "start_time": "2021-11-29T17:28:15.859Z"
   },
   {
    "duration": 205,
    "start_time": "2021-11-29T17:28:23.330Z"
   },
   {
    "duration": 638,
    "start_time": "2021-11-29T17:28:27.911Z"
   },
   {
    "duration": 207,
    "start_time": "2021-11-29T17:28:32.810Z"
   },
   {
    "duration": 9,
    "start_time": "2021-11-29T17:31:22.305Z"
   },
   {
    "duration": 6,
    "start_time": "2021-11-29T17:31:23.934Z"
   },
   {
    "duration": 7,
    "start_time": "2021-11-29T17:31:27.741Z"
   },
   {
    "duration": 5,
    "start_time": "2021-11-29T17:31:29.844Z"
   },
   {
    "duration": 822,
    "start_time": "2021-11-30T01:05:52.888Z"
   },
   {
    "duration": 209,
    "start_time": "2021-11-30T01:05:53.713Z"
   },
   {
    "duration": 25,
    "start_time": "2021-11-30T01:05:53.925Z"
   },
   {
    "duration": 46,
    "start_time": "2021-11-30T01:05:53.953Z"
   },
   {
    "duration": 29,
    "start_time": "2021-11-30T01:05:54.002Z"
   },
   {
    "duration": 49,
    "start_time": "2021-11-30T01:05:54.034Z"
   },
   {
    "duration": 33,
    "start_time": "2021-11-30T01:05:54.085Z"
   },
   {
    "duration": 48,
    "start_time": "2021-11-30T01:05:54.121Z"
   },
   {
    "duration": 51,
    "start_time": "2021-11-30T01:05:54.173Z"
   },
   {
    "duration": 54,
    "start_time": "2021-11-30T01:05:54.228Z"
   },
   {
    "duration": 99,
    "start_time": "2021-11-30T01:05:54.284Z"
   },
   {
    "duration": 117,
    "start_time": "2021-11-30T01:05:54.386Z"
   },
   {
    "duration": 93,
    "start_time": "2021-11-30T01:05:54.505Z"
   },
   {
    "duration": 9,
    "start_time": "2021-11-30T01:05:54.600Z"
   },
   {
    "duration": 4,
    "start_time": "2021-11-30T01:05:54.628Z"
   },
   {
    "duration": 46,
    "start_time": "2021-11-30T01:05:54.635Z"
   },
   {
    "duration": 38,
    "start_time": "2021-11-30T01:05:54.683Z"
   },
   {
    "duration": 28,
    "start_time": "2021-11-30T01:05:54.724Z"
   },
   {
    "duration": 35,
    "start_time": "2021-11-30T01:05:54.754Z"
   },
   {
    "duration": 11,
    "start_time": "2021-11-30T01:05:54.791Z"
   },
   {
    "duration": 53,
    "start_time": "2021-11-30T01:05:54.805Z"
   },
   {
    "duration": 29,
    "start_time": "2021-11-30T01:05:54.860Z"
   },
   {
    "duration": 45,
    "start_time": "2021-11-30T01:05:54.892Z"
   },
   {
    "duration": 31,
    "start_time": "2021-11-30T01:05:54.940Z"
   },
   {
    "duration": 43,
    "start_time": "2021-11-30T01:05:54.973Z"
   },
   {
    "duration": 47,
    "start_time": "2021-11-30T01:05:55.019Z"
   },
   {
    "duration": 105,
    "start_time": "2021-11-30T01:05:55.071Z"
   },
   {
    "duration": 24,
    "start_time": "2021-11-30T01:05:55.179Z"
   },
   {
    "duration": 39,
    "start_time": "2021-11-30T01:05:55.206Z"
   },
   {
    "duration": 16,
    "start_time": "2021-11-30T01:05:55.247Z"
   },
   {
    "duration": 1048,
    "start_time": "2021-11-30T01:05:55.265Z"
   },
   {
    "duration": 384,
    "start_time": "2021-11-30T01:05:56.316Z"
   },
   {
    "duration": 1028,
    "start_time": "2021-11-30T01:05:56.702Z"
   },
   {
    "duration": 403,
    "start_time": "2021-11-30T01:05:57.732Z"
   },
   {
    "duration": 11,
    "start_time": "2021-11-30T01:05:58.138Z"
   },
   {
    "duration": 20,
    "start_time": "2021-11-30T01:05:58.151Z"
   },
   {
    "duration": 41,
    "start_time": "2021-11-30T01:05:58.174Z"
   },
   {
    "duration": 6,
    "start_time": "2021-11-30T01:05:58.218Z"
   },
   {
    "duration": 312,
    "start_time": "2021-11-30T08:10:32.612Z"
   },
   {
    "duration": 655,
    "start_time": "2021-11-30T08:10:42.558Z"
   },
   {
    "duration": 162,
    "start_time": "2021-11-30T08:10:45.341Z"
   },
   {
    "duration": 22,
    "start_time": "2021-11-30T08:10:47.252Z"
   },
   {
    "duration": 27,
    "start_time": "2021-11-30T08:12:47.071Z"
   },
   {
    "duration": 5,
    "start_time": "2021-11-30T08:13:19.072Z"
   },
   {
    "duration": 52,
    "start_time": "2021-11-30T08:14:05.755Z"
   },
   {
    "duration": 308,
    "start_time": "2021-11-30T08:17:51.102Z"
   },
   {
    "duration": 45,
    "start_time": "2021-11-30T08:18:00.481Z"
   },
   {
    "duration": 3,
    "start_time": "2021-11-30T08:18:04.377Z"
   },
   {
    "duration": 12,
    "start_time": "2021-11-30T08:18:06.943Z"
   },
   {
    "duration": 48,
    "start_time": "2021-11-30T08:18:43.108Z"
   },
   {
    "duration": 36,
    "start_time": "2021-11-30T08:18:46.459Z"
   },
   {
    "duration": 263,
    "start_time": "2021-11-30T08:18:57.444Z"
   },
   {
    "duration": 32,
    "start_time": "2021-11-30T08:19:08.442Z"
   },
   {
    "duration": 259,
    "start_time": "2021-11-30T08:19:12.212Z"
   },
   {
    "duration": 49,
    "start_time": "2021-11-30T08:20:00.133Z"
   },
   {
    "duration": 889,
    "start_time": "2021-11-30T08:21:39.436Z"
   },
   {
    "duration": 4,
    "start_time": "2021-11-30T08:22:01.460Z"
   },
   {
    "duration": 29,
    "start_time": "2021-11-30T08:22:06.229Z"
   },
   {
    "duration": 46,
    "start_time": "2021-11-30T08:22:11.780Z"
   },
   {
    "duration": 19,
    "start_time": "2021-11-30T08:22:57.166Z"
   },
   {
    "duration": 52,
    "start_time": "2021-11-30T08:23:00.236Z"
   },
   {
    "duration": 239,
    "start_time": "2021-11-30T08:42:45.688Z"
   },
   {
    "duration": 5,
    "start_time": "2021-11-30T08:43:05.947Z"
   },
   {
    "duration": 261,
    "start_time": "2021-11-30T08:43:07.770Z"
   },
   {
    "duration": 6415,
    "start_time": "2021-11-30T08:43:14.921Z"
   },
   {
    "duration": -179,
    "start_time": "2021-11-30T08:43:21.517Z"
   },
   {
    "duration": 10,
    "start_time": "2021-11-30T08:43:32.134Z"
   },
   {
    "duration": 164,
    "start_time": "2021-11-30T08:43:33.677Z"
   },
   {
    "duration": 14,
    "start_time": "2021-11-30T08:43:35.021Z"
   },
   {
    "duration": 26,
    "start_time": "2021-11-30T08:43:37.285Z"
   },
   {
    "duration": 5,
    "start_time": "2021-11-30T08:43:41.788Z"
   },
   {
    "duration": 25,
    "start_time": "2021-11-30T08:43:44.004Z"
   },
   {
    "duration": 6,
    "start_time": "2021-11-30T08:43:45.374Z"
   },
   {
    "duration": 45,
    "start_time": "2021-11-30T08:43:46.935Z"
   },
   {
    "duration": 17,
    "start_time": "2021-11-30T08:43:48.777Z"
   },
   {
    "duration": 25,
    "start_time": "2021-11-30T08:43:49.827Z"
   },
   {
    "duration": 69,
    "start_time": "2021-11-30T08:43:52.029Z"
   },
   {
    "duration": 75,
    "start_time": "2021-11-30T08:43:54.277Z"
   },
   {
    "duration": 58,
    "start_time": "2021-11-30T08:43:55.444Z"
   },
   {
    "duration": 46,
    "start_time": "2021-11-30T08:43:57.736Z"
   },
   {
    "duration": 4,
    "start_time": "2021-11-30T08:43:59.912Z"
   },
   {
    "duration": 15,
    "start_time": "2021-11-30T08:44:01.993Z"
   },
   {
    "duration": 42,
    "start_time": "2021-11-30T08:44:04.611Z"
   },
   {
    "duration": 16,
    "start_time": "2021-11-30T08:44:23.473Z"
   },
   {
    "duration": 12,
    "start_time": "2021-11-30T08:44:24.850Z"
   },
   {
    "duration": 3,
    "start_time": "2021-11-30T08:44:26.957Z"
   },
   {
    "duration": 19,
    "start_time": "2021-11-30T08:44:28.821Z"
   },
   {
    "duration": 25,
    "start_time": "2021-11-30T08:44:29.381Z"
   },
   {
    "duration": 29,
    "start_time": "2021-11-30T08:44:29.943Z"
   },
   {
    "duration": 16,
    "start_time": "2021-11-30T08:44:30.525Z"
   },
   {
    "duration": 19,
    "start_time": "2021-11-30T08:44:31.239Z"
   },
   {
    "duration": 17,
    "start_time": "2021-11-30T08:44:31.742Z"
   },
   {
    "duration": 85,
    "start_time": "2021-11-30T08:44:33.173Z"
   },
   {
    "duration": 19,
    "start_time": "2021-11-30T08:44:38.104Z"
   },
   {
    "duration": 22,
    "start_time": "2021-11-30T08:44:40.267Z"
   },
   {
    "duration": 5,
    "start_time": "2021-11-30T08:44:48.081Z"
   },
   {
    "duration": 585,
    "start_time": "2021-11-30T08:44:50.491Z"
   },
   {
    "duration": 215,
    "start_time": "2021-11-30T08:44:52.505Z"
   },
   {
    "duration": 630,
    "start_time": "2021-11-30T08:44:53.487Z"
   },
   {
    "duration": 4,
    "start_time": "2021-11-30T08:45:34.295Z"
   },
   {
    "duration": 26,
    "start_time": "2021-11-30T08:45:36.731Z"
   },
   {
    "duration": 16,
    "start_time": "2021-11-30T08:45:37.893Z"
   },
   {
    "duration": 4,
    "start_time": "2021-11-30T08:45:54.585Z"
   },
   {
    "duration": 22,
    "start_time": "2021-11-30T08:45:56.548Z"
   },
   {
    "duration": 14,
    "start_time": "2021-11-30T08:45:57.284Z"
   },
   {
    "duration": 4,
    "start_time": "2021-11-30T08:46:26.216Z"
   },
   {
    "duration": 20,
    "start_time": "2021-11-30T08:46:28.031Z"
   },
   {
    "duration": 18,
    "start_time": "2021-11-30T08:46:28.574Z"
   },
   {
    "duration": 4,
    "start_time": "2021-11-30T08:47:31.090Z"
   },
   {
    "duration": 49,
    "start_time": "2021-11-30T08:47:32.631Z"
   },
   {
    "duration": 22,
    "start_time": "2021-11-30T08:47:33.260Z"
   },
   {
    "duration": 20,
    "start_time": "2021-11-30T08:49:20.430Z"
   },
   {
    "duration": 15,
    "start_time": "2021-11-30T08:49:21.421Z"
   },
   {
    "duration": 24,
    "start_time": "2021-11-30T08:49:22.149Z"
   },
   {
    "duration": 17,
    "start_time": "2021-11-30T08:49:22.788Z"
   },
   {
    "duration": 10,
    "start_time": "2021-11-30T08:49:25.252Z"
   },
   {
    "duration": 5,
    "start_time": "2021-11-30T08:49:26.620Z"
   },
   {
    "duration": 7,
    "start_time": "2021-11-30T08:49:28.245Z"
   },
   {
    "duration": 6,
    "start_time": "2021-11-30T08:49:29.291Z"
   },
   {
    "duration": 996,
    "start_time": "2021-11-30T16:20:54.214Z"
   },
   {
    "duration": 187,
    "start_time": "2021-11-30T16:20:55.213Z"
   },
   {
    "duration": 25,
    "start_time": "2021-11-30T16:20:55.407Z"
   },
   {
    "duration": 62,
    "start_time": "2021-11-30T16:20:55.435Z"
   },
   {
    "duration": 6,
    "start_time": "2021-11-30T16:20:55.500Z"
   },
   {
    "duration": 32,
    "start_time": "2021-11-30T16:20:55.509Z"
   },
   {
    "duration": 6,
    "start_time": "2021-11-30T16:20:55.544Z"
   },
   {
    "duration": 73,
    "start_time": "2021-11-30T16:20:55.555Z"
   },
   {
    "duration": 50,
    "start_time": "2021-11-30T16:20:55.632Z"
   },
   {
    "duration": 45,
    "start_time": "2021-11-30T16:20:55.685Z"
   },
   {
    "duration": 110,
    "start_time": "2021-11-30T16:20:55.732Z"
   },
   {
    "duration": 110,
    "start_time": "2021-11-30T16:20:55.844Z"
   },
   {
    "duration": 83,
    "start_time": "2021-11-30T16:20:55.957Z"
   },
   {
    "duration": 71,
    "start_time": "2021-11-30T16:20:56.043Z"
   },
   {
    "duration": 5,
    "start_time": "2021-11-30T16:20:56.117Z"
   },
   {
    "duration": 23,
    "start_time": "2021-11-30T16:20:56.125Z"
   },
   {
    "duration": 131,
    "start_time": "2021-11-30T16:20:56.151Z"
   },
   {
    "duration": 21,
    "start_time": "2021-11-30T16:20:56.285Z"
   },
   {
    "duration": 15,
    "start_time": "2021-11-30T16:20:56.309Z"
   },
   {
    "duration": 4,
    "start_time": "2021-11-30T16:20:56.327Z"
   },
   {
    "duration": 62,
    "start_time": "2021-11-30T16:20:56.334Z"
   },
   {
    "duration": 18,
    "start_time": "2021-11-30T16:20:56.399Z"
   },
   {
    "duration": 18,
    "start_time": "2021-11-30T16:20:56.419Z"
   },
   {
    "duration": 49,
    "start_time": "2021-11-30T16:20:56.440Z"
   },
   {
    "duration": 20,
    "start_time": "2021-11-30T16:20:56.492Z"
   },
   {
    "duration": 20,
    "start_time": "2021-11-30T16:20:56.517Z"
   },
   {
    "duration": 151,
    "start_time": "2021-11-30T16:20:56.582Z"
   },
   {
    "duration": 50,
    "start_time": "2021-11-30T16:20:56.737Z"
   },
   {
    "duration": 32,
    "start_time": "2021-11-30T16:20:56.790Z"
   },
   {
    "duration": 8,
    "start_time": "2021-11-30T16:20:56.825Z"
   },
   {
    "duration": 73,
    "start_time": "2021-11-30T16:20:56.837Z"
   },
   {
    "duration": 22,
    "start_time": "2021-11-30T16:20:56.912Z"
   },
   {
    "duration": 54,
    "start_time": "2021-11-30T16:20:56.937Z"
   },
   {
    "duration": 20,
    "start_time": "2021-11-30T16:20:56.994Z"
   },
   {
    "duration": 12,
    "start_time": "2021-11-30T16:20:57.017Z"
   },
   {
    "duration": 7,
    "start_time": "2021-11-30T16:20:57.031Z"
   },
   {
    "duration": 12,
    "start_time": "2021-11-30T16:20:57.082Z"
   },
   {
    "duration": 8,
    "start_time": "2021-11-30T16:20:57.097Z"
   },
   {
    "duration": 767,
    "start_time": "2021-11-30T16:21:38.591Z"
   },
   {
    "duration": 197,
    "start_time": "2021-11-30T16:21:39.361Z"
   },
   {
    "duration": 31,
    "start_time": "2021-11-30T16:21:39.561Z"
   },
   {
    "duration": 21,
    "start_time": "2021-11-30T16:21:39.595Z"
   },
   {
    "duration": 29,
    "start_time": "2021-11-30T16:21:39.619Z"
   },
   {
    "duration": 21,
    "start_time": "2021-11-30T16:21:39.651Z"
   },
   {
    "duration": 8,
    "start_time": "2021-11-30T16:21:39.682Z"
   },
   {
    "duration": 22,
    "start_time": "2021-11-30T16:21:39.693Z"
   },
   {
    "duration": 37,
    "start_time": "2021-11-30T16:21:39.719Z"
   },
   {
    "duration": 27,
    "start_time": "2021-11-30T16:21:39.759Z"
   },
   {
    "duration": 35,
    "start_time": "2021-11-30T16:21:39.788Z"
   },
   {
    "duration": 22,
    "start_time": "2021-11-30T16:21:39.825Z"
   },
   {
    "duration": 35,
    "start_time": "2021-11-30T16:21:39.850Z"
   },
   {
    "duration": 22,
    "start_time": "2021-11-30T16:21:39.888Z"
   },
   {
    "duration": 72,
    "start_time": "2021-11-30T16:21:39.912Z"
   },
   {
    "duration": 117,
    "start_time": "2021-11-30T16:21:39.987Z"
   },
   {
    "duration": 139,
    "start_time": "2021-11-30T16:21:40.107Z"
   },
   {
    "duration": 95,
    "start_time": "2021-11-30T16:21:40.249Z"
   },
   {
    "duration": 67,
    "start_time": "2021-11-30T16:21:40.347Z"
   },
   {
    "duration": 5,
    "start_time": "2021-11-30T16:21:40.417Z"
   },
   {
    "duration": 37,
    "start_time": "2021-11-30T16:21:40.424Z"
   },
   {
    "duration": 71,
    "start_time": "2021-11-30T16:21:40.464Z"
   },
   {
    "duration": 15,
    "start_time": "2021-11-30T16:21:40.538Z"
   },
   {
    "duration": 35,
    "start_time": "2021-11-30T16:21:40.556Z"
   },
   {
    "duration": 5,
    "start_time": "2021-11-30T16:21:40.593Z"
   },
   {
    "duration": 32,
    "start_time": "2021-11-30T16:21:40.601Z"
   },
   {
    "duration": 18,
    "start_time": "2021-11-30T16:21:40.638Z"
   },
   {
    "duration": 56,
    "start_time": "2021-11-30T16:21:40.659Z"
   },
   {
    "duration": 29,
    "start_time": "2021-11-30T16:21:40.718Z"
   },
   {
    "duration": 32,
    "start_time": "2021-11-30T16:21:40.750Z"
   },
   {
    "duration": 20,
    "start_time": "2021-11-30T16:21:40.784Z"
   },
   {
    "duration": 113,
    "start_time": "2021-11-30T16:21:40.806Z"
   },
   {
    "duration": 25,
    "start_time": "2021-11-30T16:21:40.921Z"
   },
   {
    "duration": 47,
    "start_time": "2021-11-30T16:21:40.949Z"
   },
   {
    "duration": 7,
    "start_time": "2021-11-30T16:21:40.999Z"
   },
   {
    "duration": 69,
    "start_time": "2021-11-30T16:21:41.009Z"
   },
   {
    "duration": 26,
    "start_time": "2021-11-30T16:21:41.081Z"
   },
   {
    "duration": 42,
    "start_time": "2021-11-30T16:21:41.110Z"
   },
   {
    "duration": 37,
    "start_time": "2021-11-30T16:21:41.155Z"
   },
   {
    "duration": 15,
    "start_time": "2021-11-30T16:21:41.195Z"
   },
   {
    "duration": 10,
    "start_time": "2021-11-30T16:21:41.213Z"
   },
   {
    "duration": 21,
    "start_time": "2021-11-30T16:21:41.225Z"
   },
   {
    "duration": 44,
    "start_time": "2021-11-30T16:21:41.249Z"
   }
  ],
  "colab": {
   "collapsed_sections": [
    "E0vqbgi9ay0H",
    "VUC88oWjTJw2"
   ],
   "name": "yandex_music_project_2021.2.ipynb",
   "provenance": []
  },
  "kernelspec": {
   "display_name": "Python 3 (ipykernel)",
   "language": "python",
   "name": "python3"
  },
  "language_info": {
   "codemirror_mode": {
    "name": "ipython",
    "version": 3
   },
   "file_extension": ".py",
   "mimetype": "text/x-python",
   "name": "python",
   "nbconvert_exporter": "python",
   "pygments_lexer": "ipython3",
   "version": "3.8.12"
  },
  "toc": {
   "base_numbering": 1,
   "nav_menu": {},
   "number_sections": true,
   "sideBar": true,
   "skip_h1_title": true,
   "title_cell": "Table of Contents",
   "title_sidebar": "Contents",
   "toc_cell": false,
   "toc_position": {
    "height": "calc(100% - 180px)",
    "left": "10px",
    "top": "150px",
    "width": "212.225px"
   },
   "toc_section_display": true,
   "toc_window_display": true
  },
  "varInspector": {
   "cols": {
    "lenName": 16,
    "lenType": 16,
    "lenVar": 40
   },
   "kernels_config": {
    "python": {
     "delete_cmd_postfix": "",
     "delete_cmd_prefix": "del ",
     "library": "var_list.py",
     "varRefreshCmd": "print(var_dic_list())"
    },
    "r": {
     "delete_cmd_postfix": ") ",
     "delete_cmd_prefix": "rm(",
     "library": "var_list.r",
     "varRefreshCmd": "cat(var_dic_list()) "
    }
   },
   "types_to_exclude": [
    "module",
    "function",
    "builtin_function_or_method",
    "instance",
    "_Feature"
   ],
   "window_display": false
  }
 },
 "nbformat": 4,
 "nbformat_minor": 1
}
