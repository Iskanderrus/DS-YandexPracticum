{
 "cells": [
  {
   "cell_type": "markdown",
   "metadata": {},
   "source": [
    "# Исследование надёжности заёмщиков\n",
    "\n",
    "Заказчик — кредитный отдел банка. Нужно разобраться, влияет ли семейное положение и количество детей клиента на факт погашения кредита в срок. Входные данные от банка — статистика о платёжеспособности клиентов.\n",
    "\n",
    "Результаты исследования будут учтены при построении модели **кредитного скоринга** — специальной системы, которая оценивает способность потенциального заёмщика вернуть кредит банку."
   ]
  },
  {
   "cell_type": "markdown",
   "metadata": {},
   "source": [
    "## Шаг 1. Откройте файл с данными и изучите общую информацию"
   ]
  },
  {
   "cell_type": "code",
   "execution_count": 1,
   "metadata": {},
   "outputs": [
    {
     "name": "stdout",
     "output_type": "stream",
     "text": [
      "Файл открыт в режиме online:\n"
     ]
    },
    {
     "data": {
      "text/html": [
       "<div>\n",
       "<style scoped>\n",
       "    .dataframe tbody tr th:only-of-type {\n",
       "        vertical-align: middle;\n",
       "    }\n",
       "\n",
       "    .dataframe tbody tr th {\n",
       "        vertical-align: top;\n",
       "    }\n",
       "\n",
       "    .dataframe thead th {\n",
       "        text-align: right;\n",
       "    }\n",
       "</style>\n",
       "<table border=\"1\" class=\"dataframe\">\n",
       "  <thead>\n",
       "    <tr style=\"text-align: right;\">\n",
       "      <th></th>\n",
       "      <th>children</th>\n",
       "      <th>days_employed</th>\n",
       "      <th>dob_years</th>\n",
       "      <th>education</th>\n",
       "      <th>education_id</th>\n",
       "      <th>family_status</th>\n",
       "      <th>family_status_id</th>\n",
       "      <th>gender</th>\n",
       "      <th>income_type</th>\n",
       "      <th>debt</th>\n",
       "      <th>total_income</th>\n",
       "      <th>purpose</th>\n",
       "    </tr>\n",
       "  </thead>\n",
       "  <tbody>\n",
       "    <tr>\n",
       "      <td>0</td>\n",
       "      <td>1</td>\n",
       "      <td>-8437.673028</td>\n",
       "      <td>42</td>\n",
       "      <td>высшее</td>\n",
       "      <td>0</td>\n",
       "      <td>женат / замужем</td>\n",
       "      <td>0</td>\n",
       "      <td>F</td>\n",
       "      <td>сотрудник</td>\n",
       "      <td>0</td>\n",
       "      <td>253875.639453</td>\n",
       "      <td>покупка жилья</td>\n",
       "    </tr>\n",
       "    <tr>\n",
       "      <td>1</td>\n",
       "      <td>1</td>\n",
       "      <td>-4024.803754</td>\n",
       "      <td>36</td>\n",
       "      <td>среднее</td>\n",
       "      <td>1</td>\n",
       "      <td>женат / замужем</td>\n",
       "      <td>0</td>\n",
       "      <td>F</td>\n",
       "      <td>сотрудник</td>\n",
       "      <td>0</td>\n",
       "      <td>112080.014102</td>\n",
       "      <td>приобретение автомобиля</td>\n",
       "    </tr>\n",
       "    <tr>\n",
       "      <td>2</td>\n",
       "      <td>0</td>\n",
       "      <td>-5623.422610</td>\n",
       "      <td>33</td>\n",
       "      <td>Среднее</td>\n",
       "      <td>1</td>\n",
       "      <td>женат / замужем</td>\n",
       "      <td>0</td>\n",
       "      <td>M</td>\n",
       "      <td>сотрудник</td>\n",
       "      <td>0</td>\n",
       "      <td>145885.952297</td>\n",
       "      <td>покупка жилья</td>\n",
       "    </tr>\n",
       "    <tr>\n",
       "      <td>3</td>\n",
       "      <td>3</td>\n",
       "      <td>-4124.747207</td>\n",
       "      <td>32</td>\n",
       "      <td>среднее</td>\n",
       "      <td>1</td>\n",
       "      <td>женат / замужем</td>\n",
       "      <td>0</td>\n",
       "      <td>M</td>\n",
       "      <td>сотрудник</td>\n",
       "      <td>0</td>\n",
       "      <td>267628.550329</td>\n",
       "      <td>дополнительное образование</td>\n",
       "    </tr>\n",
       "    <tr>\n",
       "      <td>4</td>\n",
       "      <td>0</td>\n",
       "      <td>340266.072047</td>\n",
       "      <td>53</td>\n",
       "      <td>среднее</td>\n",
       "      <td>1</td>\n",
       "      <td>гражданский брак</td>\n",
       "      <td>1</td>\n",
       "      <td>F</td>\n",
       "      <td>пенсионер</td>\n",
       "      <td>0</td>\n",
       "      <td>158616.077870</td>\n",
       "      <td>сыграть свадьбу</td>\n",
       "    </tr>\n",
       "  </tbody>\n",
       "</table>\n",
       "</div>"
      ],
      "text/plain": [
       "   children  days_employed  dob_years education  education_id  \\\n",
       "0         1   -8437.673028         42    высшее             0   \n",
       "1         1   -4024.803754         36   среднее             1   \n",
       "2         0   -5623.422610         33   Среднее             1   \n",
       "3         3   -4124.747207         32   среднее             1   \n",
       "4         0  340266.072047         53   среднее             1   \n",
       "\n",
       "      family_status  family_status_id gender income_type  debt   total_income  \\\n",
       "0   женат / замужем                 0      F   сотрудник     0  253875.639453   \n",
       "1   женат / замужем                 0      F   сотрудник     0  112080.014102   \n",
       "2   женат / замужем                 0      M   сотрудник     0  145885.952297   \n",
       "3   женат / замужем                 0      M   сотрудник     0  267628.550329   \n",
       "4  гражданский брак                 1      F   пенсионер     0  158616.077870   \n",
       "\n",
       "                      purpose  \n",
       "0               покупка жилья  \n",
       "1     приобретение автомобиля  \n",
       "2               покупка жилья  \n",
       "3  дополнительное образование  \n",
       "4             сыграть свадьбу  "
      ]
     },
     "metadata": {},
     "output_type": "display_data"
    }
   ],
   "source": [
    "import pandas as pd\n",
    "import matplotlib.pyplot as plt\n",
    "import os\n",
    "from collections import Counter\n",
    "from pymystem3 import Mystem\n",
    "m = Mystem()\n",
    "\n",
    "\n",
    "def find(name, path):\n",
    "    '''\n",
    "    Function to find the data file stored locally. \n",
    "    Takes name of the file and root directory. \n",
    "    Scanes the local directory tree for the first orrurance of the file. \n",
    "    '''\n",
    "    for root, dirs, files in os.walk(path):\n",
    "        if name in files:\n",
    "            return os.path.join(root, name)\n",
    "\n",
    "\n",
    "online_path = 'datasets'\n",
    "offline_path = '/home/alex/Загрузки/'  # т.к. файл не имеет особо уникального имени, пришлось указать папку, в которой он находится.\n",
    "file = 'data.csv'\n",
    "\n",
    "try:\n",
    "    df = pd.read_csv(f'/{online_path}/{file}')\n",
    "except FileNotFoundError:\n",
    "    df = pd.read_csv(find(file, offline_path))\n",
    "    print(\"Файл найден на локальном диске:\")\n",
    "else:\n",
    "    print(\"Файл открыт в режиме online:\")\n",
    "finally:\n",
    "    display(df.head())"
   ]
  },
  {
   "cell_type": "code",
   "execution_count": 2,
   "metadata": {},
   "outputs": [
    {
     "data": {
      "text/plain": [
       "(21525, 12)"
      ]
     },
     "execution_count": 2,
     "metadata": {},
     "output_type": "execute_result"
    }
   ],
   "source": [
    "# оценим размеры датасета\n",
    "df.shape"
   ]
  },
  {
   "cell_type": "markdown",
   "metadata": {},
   "source": [
    "__Вывод__: <br>База данных содержит 21525 строки и 12 колонок."
   ]
  },
  {
   "cell_type": "code",
   "execution_count": 3,
   "metadata": {},
   "outputs": [
    {
     "name": "stdout",
     "output_type": "stream",
     "text": [
      "<class 'pandas.core.frame.DataFrame'>\n",
      "RangeIndex: 21525 entries, 0 to 21524\n",
      "Data columns (total 12 columns):\n",
      "children            21525 non-null int64\n",
      "days_employed       19351 non-null float64\n",
      "dob_years           21525 non-null int64\n",
      "education           21525 non-null object\n",
      "education_id        21525 non-null int64\n",
      "family_status       21525 non-null object\n",
      "family_status_id    21525 non-null int64\n",
      "gender              21525 non-null object\n",
      "income_type         21525 non-null object\n",
      "debt                21525 non-null int64\n",
      "total_income        19351 non-null float64\n",
      "purpose             21525 non-null object\n",
      "dtypes: float64(2), int64(5), object(5)\n",
      "memory usage: 11.3 MB\n"
     ]
    }
   ],
   "source": [
    "# получим развернутую сводку по наименованию столбцов, типу данных, ненулевых значениях и объему памяти.  \n",
    "df.info(memory_usage='deep')"
   ]
  },
  {
   "cell_type": "markdown",
   "metadata": {},
   "source": [
    "__Вывод__:\n",
    "<br>Наименования колонок не содержат ошибок и оформлены в едином стиле.\n",
    "<br>7 колонок содержат численные значения и 5 колонок содержат текстовые значения.\n",
    "<br>Две колонки имеют нулевые значения. \n",
    "<br>Датасет занимает 11,3 MB памяти."
   ]
  },
  {
   "cell_type": "code",
   "execution_count": 4,
   "metadata": {},
   "outputs": [
    {
     "data": {
      "text/plain": [
       "children               0\n",
       "days_employed       2174\n",
       "dob_years              0\n",
       "education              0\n",
       "education_id           0\n",
       "family_status          0\n",
       "family_status_id       0\n",
       "gender                 0\n",
       "income_type            0\n",
       "debt                   0\n",
       "total_income        2174\n",
       "purpose                0\n",
       "dtype: int64"
      ]
     },
     "execution_count": 4,
     "metadata": {},
     "output_type": "execute_result"
    }
   ],
   "source": [
    "# получим сводку по столбцам, содержащим нулевые значения \n",
    "df.isnull().sum()"
   ]
  },
  {
   "cell_type": "markdown",
   "metadata": {},
   "source": [
    "__Вывод__:<br>Столбцы __days_employed__ (общий трудовой стаж в днях) и __total_income__ (ежемесячный доход) содержат по 2174 пропуска."
   ]
  },
  {
   "cell_type": "markdown",
   "metadata": {},
   "source": [
    "#### Рассмотрим столбцы с числовыми значениями:"
   ]
  },
  {
   "cell_type": "code",
   "execution_count": 5,
   "metadata": {
    "scrolled": true
   },
   "outputs": [
    {
     "data": {
      "text/html": [
       "<div>\n",
       "<style scoped>\n",
       "    .dataframe tbody tr th:only-of-type {\n",
       "        vertical-align: middle;\n",
       "    }\n",
       "\n",
       "    .dataframe tbody tr th {\n",
       "        vertical-align: top;\n",
       "    }\n",
       "\n",
       "    .dataframe thead th {\n",
       "        text-align: right;\n",
       "    }\n",
       "</style>\n",
       "<table border=\"1\" class=\"dataframe\">\n",
       "  <thead>\n",
       "    <tr style=\"text-align: right;\">\n",
       "      <th></th>\n",
       "      <th>children</th>\n",
       "      <th>days_employed</th>\n",
       "      <th>dob_years</th>\n",
       "      <th>total_income</th>\n",
       "    </tr>\n",
       "  </thead>\n",
       "  <tbody>\n",
       "    <tr>\n",
       "      <td>max</td>\n",
       "      <td>20.0</td>\n",
       "      <td>401755.0</td>\n",
       "      <td>75.0</td>\n",
       "      <td>2265604.0</td>\n",
       "    </tr>\n",
       "    <tr>\n",
       "      <td>min</td>\n",
       "      <td>-1.0</td>\n",
       "      <td>-18389.0</td>\n",
       "      <td>0.0</td>\n",
       "      <td>20667.0</td>\n",
       "    </tr>\n",
       "    <tr>\n",
       "      <td>mean</td>\n",
       "      <td>1.0</td>\n",
       "      <td>63046.0</td>\n",
       "      <td>43.0</td>\n",
       "      <td>167422.0</td>\n",
       "    </tr>\n",
       "    <tr>\n",
       "      <td>median</td>\n",
       "      <td>0.0</td>\n",
       "      <td>-1203.0</td>\n",
       "      <td>42.0</td>\n",
       "      <td>145018.0</td>\n",
       "    </tr>\n",
       "  </tbody>\n",
       "</table>\n",
       "</div>"
      ],
      "text/plain": [
       "        children  days_employed  dob_years  total_income\n",
       "max         20.0       401755.0       75.0     2265604.0\n",
       "min         -1.0       -18389.0        0.0       20667.0\n",
       "mean         1.0        63046.0       43.0      167422.0\n",
       "median       0.0        -1203.0       42.0      145018.0"
      ]
     },
     "execution_count": 5,
     "metadata": {},
     "output_type": "execute_result"
    }
   ],
   "source": [
    "# получим статистическую сводку по столбцам, имеющим числовые значения и не являющимися классификаторами.\n",
    "df[['children', 'days_employed', 'dob_years',\n",
    "    'total_income']].agg(['max', 'min', 'mean', 'median']).round()"
   ]
  },
  {
   "cell_type": "code",
   "execution_count": 6,
   "metadata": {},
   "outputs": [
    {
     "data": {
      "text/plain": [
       " 0     14149\n",
       " 1      4818\n",
       " 2      2055\n",
       " 3       330\n",
       " 20       76\n",
       "-1        47\n",
       " 4        41\n",
       " 5         9\n",
       "Name: children, dtype: int64"
      ]
     },
     "metadata": {},
     "output_type": "display_data"
    },
    {
     "data": {
      "text/plain": [
       "Text(0, 0.5, 'Количество заемщиков')"
      ]
     },
     "execution_count": 6,
     "metadata": {},
     "output_type": "execute_result"
    },
    {
     "data": {
      "image/png": "[encoded data removed]",
      "text/plain": [
       "<Figure size 432x288 with 1 Axes>"
      ]
     },
     "metadata": {
      "needs_background": "light"
     },
     "output_type": "display_data"
    }
   ],
   "source": [
    "# рассмотрим значения колонки childern\n",
    "display(df.children.value_counts())\n",
    "childern_plot = df.children.hist(bins=15)\n",
    "childern_plot.set_title('Распределение количества заемщиков в зависимости от количества детей')\n",
    "childern_plot.set_xlabel('Количество детей у заемщика')\n",
    "childern_plot.set_ylabel('Количество заемщиков')\n"
   ]
  },
  {
   "cell_type": "code",
   "execution_count": 7,
   "metadata": {},
   "outputs": [
    {
     "data": {
      "text/plain": [
       "19351"
      ]
     },
     "metadata": {},
     "output_type": "display_data"
    },
    {
     "data": {
      "text/plain": [
       "Text(0, 0.5, 'Количество заемщиков')"
      ]
     },
     "execution_count": 7,
     "metadata": {},
     "output_type": "execute_result"
    },
    {
     "data": {
      "image/png": "[encoded data removed]",
      "text/plain": [
       "<Figure size 432x288 with 1 Axes>"
      ]
     },
     "metadata": {
      "needs_background": "light"
     },
     "output_type": "display_data"
    }
   ],
   "source": [
    "# рассмотрим аномалии колонки days_employed\n",
    "display(df.days_employed.nunique()) #посчитаем количество уникальных значений\n",
    "employment_plot = df.days_employed.hist(bins=25)\n",
    "employment_plot.set_title('Распределение количества заемщиков в зависимости от текущего стажа в днях')\n",
    "employment_plot.set_xlabel('Текущий стаж в днях')\n",
    "employment_plot.set_ylabel('Количество заемщиков')"
   ]
  },
  {
   "cell_type": "code",
   "execution_count": 8,
   "metadata": {},
   "outputs": [
    {
     "data": {
      "text/plain": [
       "Text(0, 0.5, 'Количество заемщиков')"
      ]
     },
     "execution_count": 8,
     "metadata": {},
     "output_type": "execute_result"
    },
    {
     "data": {
      "image/png": "[encoded data removed]",
      "text/plain": [
       "<Figure size 432x288 with 1 Axes>"
      ]
     },
     "metadata": {
      "needs_background": "light"
     },
     "output_type": "display_data"
    }
   ],
   "source": [
    "# рассмотрим данные о возрасте заемщиков\n",
    "age_plot = df.dob_years.hist(bins=25)\n",
    "age_plot.set_title('Распределение количества заемщиков в зависимости от возраста')\n",
    "age_plot.set_xlabel('Возраст заемщика')\n",
    "age_plot.set_ylabel('Количество заемщиков')"
   ]
  },
  {
   "cell_type": "code",
   "execution_count": 9,
   "metadata": {},
   "outputs": [
    {
     "data": {
      "text/plain": [
       "Text(0, 0.5, 'Количество заемщиков')"
      ]
     },
     "execution_count": 9,
     "metadata": {},
     "output_type": "execute_result"
    },
    {
     "data": {
      "image/png": "[encoded data removed]",
      "text/plain": [
       "<Figure size 432x288 with 1 Axes>"
      ]
     },
     "metadata": {
      "needs_background": "light"
     },
     "output_type": "display_data"
    }
   ],
   "source": [
    "# рассмотрим данные о доходе заемщиков\n",
    "income_plot = df.total_income.hist(bins=25)\n",
    "income_plot.set_title('Распределение количества заемщиков в зависимости от дохода')\n",
    "income_plot.set_xlabel('Доход заемщика в месяц')\n",
    "income_plot.set_ylabel('Количество заемщиков')"
   ]
  },
  {
   "cell_type": "markdown",
   "metadata": {},
   "source": [
    "__Вывод__:<br>Столбцы __children__ (количество детей в семье), __days_employed__ (общий трудовой стаж в днях) и __total_income__ (ежемесячный доход) имеют странные значения минимумов и максимумов, на которые стоит обратить внимание при обработке данных. \n",
    "<br>\n",
    "\n",
    "Столбец __days_employed__ (общий трудовой стаж в днях) имеет отрицательные значения и тип данных вещественное число - необходимо перевести в положительные цельночисленные значения. "
   ]
  },
  {
   "cell_type": "code",
   "execution_count": 10,
   "metadata": {
    "scrolled": true
   },
   "outputs": [
    {
     "data": {
      "text/plain": [
       "array([0, 1, 2, 3, 4])"
      ]
     },
     "metadata": {},
     "output_type": "display_data"
    },
    {
     "data": {
      "text/plain": [
       "array([0, 1, 2, 3, 4])"
      ]
     },
     "metadata": {},
     "output_type": "display_data"
    },
    {
     "data": {
      "text/plain": [
       "array([0, 1])"
      ]
     },
     "metadata": {},
     "output_type": "display_data"
    }
   ],
   "source": [
    "# рассмотрим значения столбцов с числовыми классификаторами\n",
    "display(df['education_id'].unique())\n",
    "display(df['family_status_id'].unique())\n",
    "display(df['debt'].unique())"
   ]
  },
  {
   "cell_type": "markdown",
   "metadata": {},
   "source": [
    "__Вывод__:<br>Числовые классификаторы не имеют ошибок. "
   ]
  },
  {
   "cell_type": "markdown",
   "metadata": {},
   "source": [
    "#### Рассмотрим значения текстовых столбцов:"
   ]
  },
  {
   "cell_type": "code",
   "execution_count": 11,
   "metadata": {},
   "outputs": [
    {
     "data": {
      "text/plain": [
       "array(['высшее', 'среднее', 'Среднее', 'СРЕДНЕЕ', 'ВЫСШЕЕ',\n",
       "       'неоконченное высшее', 'начальное', 'Высшее',\n",
       "       'НЕОКОНЧЕННОЕ ВЫСШЕЕ', 'Неоконченное высшее', 'НАЧАЛЬНОЕ',\n",
       "       'Начальное', 'Ученая степень', 'УЧЕНАЯ СТЕПЕНЬ', 'ученая степень'],\n",
       "      dtype=object)"
      ]
     },
     "execution_count": 11,
     "metadata": {},
     "output_type": "execute_result"
    }
   ],
   "source": [
    "df['education'].unique()"
   ]
  },
  {
   "cell_type": "markdown",
   "metadata": {},
   "source": [
    "Значения в столбце __education__ не упорядочены по стилю. "
   ]
  },
  {
   "cell_type": "code",
   "execution_count": 12,
   "metadata": {},
   "outputs": [
    {
     "data": {
      "text/plain": [
       "F      14236\n",
       "M       7288\n",
       "XNA        1\n",
       "Name: gender, dtype: int64"
      ]
     },
     "execution_count": 12,
     "metadata": {},
     "output_type": "execute_result"
    }
   ],
   "source": [
    "df['gender'].value_counts()"
   ]
  },
  {
   "cell_type": "markdown",
   "metadata": {},
   "source": [
    "Значения в столбце __gender__ содержат одно ошибочное значение:"
   ]
  },
  {
   "cell_type": "code",
   "execution_count": 13,
   "metadata": {},
   "outputs": [
    {
     "data": {
      "text/html": [
       "<div>\n",
       "<style scoped>\n",
       "    .dataframe tbody tr th:only-of-type {\n",
       "        vertical-align: middle;\n",
       "    }\n",
       "\n",
       "    .dataframe tbody tr th {\n",
       "        vertical-align: top;\n",
       "    }\n",
       "\n",
       "    .dataframe thead th {\n",
       "        text-align: right;\n",
       "    }\n",
       "</style>\n",
       "<table border=\"1\" class=\"dataframe\">\n",
       "  <thead>\n",
       "    <tr style=\"text-align: right;\">\n",
       "      <th></th>\n",
       "      <th>children</th>\n",
       "      <th>days_employed</th>\n",
       "      <th>dob_years</th>\n",
       "      <th>education</th>\n",
       "      <th>education_id</th>\n",
       "      <th>family_status</th>\n",
       "      <th>family_status_id</th>\n",
       "      <th>gender</th>\n",
       "      <th>income_type</th>\n",
       "      <th>debt</th>\n",
       "      <th>total_income</th>\n",
       "      <th>purpose</th>\n",
       "    </tr>\n",
       "  </thead>\n",
       "  <tbody>\n",
       "    <tr>\n",
       "      <td>10701</td>\n",
       "      <td>0</td>\n",
       "      <td>-2358.600502</td>\n",
       "      <td>24</td>\n",
       "      <td>неоконченное высшее</td>\n",
       "      <td>2</td>\n",
       "      <td>гражданский брак</td>\n",
       "      <td>1</td>\n",
       "      <td>XNA</td>\n",
       "      <td>компаньон</td>\n",
       "      <td>0</td>\n",
       "      <td>203905.157261</td>\n",
       "      <td>покупка недвижимости</td>\n",
       "    </tr>\n",
       "  </tbody>\n",
       "</table>\n",
       "</div>"
      ],
      "text/plain": [
       "       children  days_employed  dob_years            education  education_id  \\\n",
       "10701         0   -2358.600502         24  неоконченное высшее             2   \n",
       "\n",
       "          family_status  family_status_id gender income_type  debt  \\\n",
       "10701  гражданский брак                 1    XNA   компаньон     0   \n",
       "\n",
       "        total_income               purpose  \n",
       "10701  203905.157261  покупка недвижимости  "
      ]
     },
     "execution_count": 13,
     "metadata": {},
     "output_type": "execute_result"
    }
   ],
   "source": [
    "df[df['gender'] == 'XNA']"
   ]
  },
  {
   "cell_type": "code",
   "execution_count": 14,
   "metadata": {
    "scrolled": true
   },
   "outputs": [
    {
     "data": {
      "text/plain": [
       "array(['женат / замужем', 'гражданский брак', 'вдовец / вдова',\n",
       "       'в разводе', 'Не женат / не замужем'], dtype=object)"
      ]
     },
     "execution_count": 14,
     "metadata": {},
     "output_type": "execute_result"
    }
   ],
   "source": [
    "df['family_status'].unique()"
   ]
  },
  {
   "cell_type": "code",
   "execution_count": 15,
   "metadata": {},
   "outputs": [
    {
     "data": {
      "text/plain": [
       "array(['сотрудник', 'пенсионер', 'компаньон', 'госслужащий',\n",
       "       'безработный', 'предприниматель', 'студент', 'в декрете'],\n",
       "      dtype=object)"
      ]
     },
     "execution_count": 15,
     "metadata": {},
     "output_type": "execute_result"
    }
   ],
   "source": [
    "df['income_type'].unique()"
   ]
  },
  {
   "cell_type": "markdown",
   "metadata": {},
   "source": [
    "Столбцы __family_status__ и __income_type__ не имеют ошибок.  "
   ]
  },
  {
   "cell_type": "code",
   "execution_count": 16,
   "metadata": {},
   "outputs": [
    {
     "data": {
      "text/plain": [
       "array(['покупка жилья', 'приобретение автомобиля',\n",
       "       'дополнительное образование', 'сыграть свадьбу',\n",
       "       'операции с жильем', 'образование', 'на проведение свадьбы',\n",
       "       'покупка жилья для семьи', 'покупка недвижимости',\n",
       "       'покупка коммерческой недвижимости', 'покупка жилой недвижимости',\n",
       "       'строительство собственной недвижимости', 'недвижимость',\n",
       "       'строительство недвижимости', 'на покупку подержанного автомобиля',\n",
       "       'на покупку своего автомобиля',\n",
       "       'операции с коммерческой недвижимостью',\n",
       "       'строительство жилой недвижимости', 'жилье',\n",
       "       'операции со своей недвижимостью', 'автомобили',\n",
       "       'заняться образованием', 'сделка с подержанным автомобилем',\n",
       "       'получение образования', 'автомобиль', 'свадьба',\n",
       "       'получение дополнительного образования', 'покупка своего жилья',\n",
       "       'операции с недвижимостью', 'получение высшего образования',\n",
       "       'свой автомобиль', 'сделка с автомобилем',\n",
       "       'профильное образование', 'высшее образование',\n",
       "       'покупка жилья для сдачи', 'на покупку автомобиля', 'ремонт жилью',\n",
       "       'заняться высшим образованием'], dtype=object)"
      ]
     },
     "execution_count": 16,
     "metadata": {},
     "output_type": "execute_result"
    }
   ],
   "source": [
    "df['purpose'].unique()"
   ]
  },
  {
   "cell_type": "markdown",
   "metadata": {},
   "source": [
    "Столбец __purpose__ требует классификации. "
   ]
  },
  {
   "cell_type": "markdown",
   "metadata": {},
   "source": [
    "**Вывод**"
   ]
  },
  {
   "cell_type": "markdown",
   "metadata": {},
   "source": [
    "В каждой строке таблицы — данные о пользователе кредитным продуктом. Персональные данные скрыты. <br>Часть колонок описывает __самого заемщика__: количество детей, общий трудовой стаж в днях, возраст клиента в годах, уровень образования клиента и идентификатор уровня образования, семейное положение и идентификатор семейного положения, тип занятости, ежемесячный доход. <br>Остальные данные имеют непосредственное отношение к __кредитной истории заемщика__: имел ли задолженность по возврату кредитов и цель получения кредита. \n",
    "\n",
    "Предварительно можно утверждать, что данных достаточно для проверки гипотезы о влиянии семейного положения и количества детей на факт погашения кредита в срок.<br>Однако, встречаются пропуски в данных - около 10% в колонках __\"общий трудовой стаж в днях\"__ и __\"ежемесячный доход\"__.\n",
    "\n",
    "Чтобы двигаться дальше, нужно устранить проблемы в данных - определить природу пропусков данных и возможности их обработки, а также определить скрытые дубликаты в текстовых столбцах."
   ]
  },
  {
   "cell_type": "markdown",
   "metadata": {},
   "source": [
    "## Шаг 2. Предобработка данных"
   ]
  },
  {
   "cell_type": "markdown",
   "metadata": {},
   "source": [
    "### Обработка пропусков"
   ]
  },
  {
   "cell_type": "markdown",
   "metadata": {},
   "source": [
    "##### Исправление ошибок в данных для последующей обработки пропусков"
   ]
  },
  {
   "cell_type": "markdown",
   "metadata": {},
   "source": [
    "- количество детей.<br> \n",
    "Колонка __children__ содержит два аномальных значения: -1 и 20. \n",
    "Большое количество значений -1 позволяет предположить о наличии ошибки ввода данных. Эти значения предлагаю заменить на 1. \n",
    "В то же время 20 также похоже на ошибку в виду добавления лишнего ноля.  "
   ]
  },
  {
   "cell_type": "code",
   "execution_count": 17,
   "metadata": {},
   "outputs": [],
   "source": [
    "# исправляем значение '-1'\n",
    "df['children'] = df.children.abs()"
   ]
  },
  {
   "cell_type": "code",
   "execution_count": 18,
   "metadata": {},
   "outputs": [],
   "source": [
    "# исправляем значение '20'\n",
    "df['children'].replace(20, 2, inplace=True)"
   ]
  },
  {
   "cell_type": "code",
   "execution_count": 19,
   "metadata": {},
   "outputs": [
    {
     "data": {
      "text/plain": [
       "0    14149\n",
       "1     4865\n",
       "2     2131\n",
       "3      330\n",
       "4       41\n",
       "5        9\n",
       "Name: children, dtype: int64"
      ]
     },
     "execution_count": 19,
     "metadata": {},
     "output_type": "execute_result"
    }
   ],
   "source": [
    "df.children.value_counts()"
   ]
  },
  {
   "cell_type": "code",
   "execution_count": 20,
   "metadata": {
    "scrolled": true
   },
   "outputs": [
    {
     "data": {
      "text/plain": [
       "Text(0, 0.5, 'Количество заемщиков')"
      ]
     },
     "execution_count": 20,
     "metadata": {},
     "output_type": "execute_result"
    },
    {
     "data": {
      "image/png": "[encoded data removed]",
      "text/plain": [
       "<Figure size 432x288 with 1 Axes>"
      ]
     },
     "metadata": {
      "needs_background": "light"
     },
     "output_type": "display_data"
    }
   ],
   "source": [
    "# проверяем: \n",
    "childern_corrected_plot = df.children.hist(bins=10)\n",
    "childern_corrected_plot.set_title('Исправленное распределение количества заемщиков в зависимости от количества детей')\n",
    "childern_corrected_plot.set_xlabel('Количество детей')\n",
    "childern_corrected_plot.set_ylabel('Количество заемщиков')"
   ]
  },
  {
   "cell_type": "markdown",
   "metadata": {},
   "source": [
    "- общий трудовой стаж в днях .<br> \n",
    "Колонка __days_employed__ содержит отрицательные значения и аномальные максимальные значения, указывающие на стаж значительно превышающий продолжительнлость жизни человека. \n",
    "Если исходить из того, что максимально логичный стаж не должен превышать 60 лет (21.900 дней), то все значения более этого значения необходимо проверить на наличие ошибки. "
   ]
  },
  {
   "cell_type": "code",
   "execution_count": 21,
   "metadata": {},
   "outputs": [],
   "source": [
    "# переведем отрицательные значения в положительные: \n",
    "df['days_employed'] = df.days_employed.apply(lambda x: abs(x))"
   ]
  },
  {
   "cell_type": "code",
   "execution_count": 22,
   "metadata": {},
   "outputs": [],
   "source": [
    "# проверим максимальные значения:\n",
    "udarniki = df[df['days_employed'] > 21900]"
   ]
  },
  {
   "cell_type": "code",
   "execution_count": 23,
   "metadata": {},
   "outputs": [
    {
     "data": {
      "text/plain": [
       "Text(0, 0.5, 'Количество заемщиков')"
      ]
     },
     "execution_count": 23,
     "metadata": {},
     "output_type": "execute_result"
    },
    {
     "data": {
      "image/png": "[encoded data removed]",
      "text/plain": [
       "<Figure size 432x288 with 1 Axes>"
      ]
     },
     "metadata": {
      "needs_background": "light"
     },
     "output_type": "display_data"
    }
   ],
   "source": [
    "udarniki_plot = udarniki.days_employed.hist(bins=25)\n",
    "udarniki_plot.set_title('Количество заемщиков с аномальным значением стажа')\n",
    "udarniki_plot.set_xlabel('Стаж в днях')\n",
    "udarniki_plot.set_ylabel('Количество заемщиков')"
   ]
  },
  {
   "cell_type": "markdown",
   "metadata": {},
   "source": [
    "Исходя из максимальных значений допускаю, что произошло добавление двух нулей к части значений. Разделим все значения больше 22000 на 100. "
   ]
  },
  {
   "cell_type": "code",
   "execution_count": 24,
   "metadata": {},
   "outputs": [],
   "source": [
    "df['days_employed'] = df['days_employed'].transform(lambda x: x / 100 if x >= 22000 else x)"
   ]
  },
  {
   "cell_type": "code",
   "execution_count": 25,
   "metadata": {},
   "outputs": [
    {
     "data": {
      "text/plain": [
       "Text(0, 0.5, 'Количество заемщиков')"
      ]
     },
     "execution_count": 25,
     "metadata": {},
     "output_type": "execute_result"
    },
    {
     "data": {
      "image/png": "[encoded data removed]",
      "text/plain": [
       "<Figure size 432x288 with 1 Axes>"
      ]
     },
     "metadata": {
      "needs_background": "light"
     },
     "output_type": "display_data"
    }
   ],
   "source": [
    "# проверяем результат:\n",
    "employment_corrected = df.days_employed.hist(bins=25)\n",
    "employment_corrected.set_title('Распределение количество заемщиков по продолжительности стажа')\n",
    "employment_corrected.set_xlabel('Стаж в днях')\n",
    "employment_corrected.set_ylabel('Количество заемщиков')"
   ]
  },
  {
   "cell_type": "markdown",
   "metadata": {},
   "source": [
    "- максимумы уровня доходов.<br> \n",
    "Колонка __total_income__ содержит аномальные значения максимальных значений."
   ]
  },
  {
   "cell_type": "code",
   "execution_count": 26,
   "metadata": {},
   "outputs": [
    {
     "data": {
      "text/plain": [
       "Text(0, 0.5, 'Количество заемщиков')"
      ]
     },
     "execution_count": 26,
     "metadata": {},
     "output_type": "execute_result"
    },
    {
     "data": {
      "image/png": "[encoded data removed]",
      "text/plain": [
       "<Figure size 432x288 with 1 Axes>"
      ]
     },
     "metadata": {
      "needs_background": "light"
     },
     "output_type": "display_data"
    }
   ],
   "source": [
    "# рассмотрим количество записей с уровнем ежемесячного дохода более 500 тыс. рублей\n",
    "rich_plot = df[(df['total_income'] > 500000)]['total_income'].hist() \n",
    "rich_plot.set_title('Количество заемщиков со значением ежемесячного дохода более 500 тыс. руб.')\n",
    "rich_plot.set_xlabel('Сумма дохода в месяц')\n",
    "rich_plot.set_ylabel('Количество заемщиков')"
   ]
  },
  {
   "cell_type": "code",
   "execution_count": 27,
   "metadata": {},
   "outputs": [
    {
     "data": {
      "text/plain": [
       "14585    20667.263793\n",
       "13006    21205.280566\n",
       "16174    21367.648356\n",
       "1598     21695.101789\n",
       "14276    21895.614355\n",
       "10881    22472.755205\n",
       "18509    23844.705592\n",
       "9070     24457.666662\n",
       "10068    25227.893684\n",
       "12052    25308.586849\n",
       "15393    26329.813775\n",
       "8273     26533.423140\n",
       "17885    27414.998361\n",
       "10622    27776.117526\n",
       "21191    27907.836304\n",
       "14921    28092.878826\n",
       "16597    28702.812889\n",
       "20215    29067.573677\n",
       "4057     29154.025211\n",
       "18669    29200.077193\n",
       "Name: total_income, dtype: float64"
      ]
     },
     "execution_count": 27,
     "metadata": {},
     "output_type": "execute_result"
    }
   ],
   "source": [
    "# рассмотрим 20 минимальных значений в столбце total_income\n",
    "df.nsmallest(20, columns=\"total_income\")['total_income']"
   ]
  },
  {
   "cell_type": "markdown",
   "metadata": {},
   "source": [
    "Исходя из предположения, что доход более 500 тыс. представляет собой доход в годовом исчислении, приведем его к месячному значению и округлим все значения столбца до второго знака после запятой: "
   ]
  },
  {
   "cell_type": "code",
   "execution_count": 28,
   "metadata": {},
   "outputs": [],
   "source": [
    "df['total_income'] = df['total_income'].transform(lambda x: round(x / 12, 2) if x >= 500000 else round(x, 2))"
   ]
  },
  {
   "cell_type": "code",
   "execution_count": 29,
   "metadata": {},
   "outputs": [
    {
     "data": {
      "text/plain": [
       "Text(0, 0.5, 'Количество заемщиков')"
      ]
     },
     "execution_count": 29,
     "metadata": {},
     "output_type": "execute_result"
    },
    {
     "data": {
      "image/png": "[encoded data removed]",
      "text/plain": [
       "<Figure size 432x288 with 1 Axes>"
      ]
     },
     "metadata": {
      "needs_background": "light"
     },
     "output_type": "display_data"
    }
   ],
   "source": [
    "# финальный вид распределения уровня доходов:\n",
    "income_corrected_plot = df['total_income'].hist()\n",
    "income_corrected_plot.set_title('Распределение заемщиков по значению ежемесячного дохода')\n",
    "income_corrected_plot.set_xlabel('Сумма дохода в месяц')\n",
    "income_corrected_plot.set_ylabel('Количество заемщиков')"
   ]
  },
  {
   "cell_type": "markdown",
   "metadata": {},
   "source": [
    "- возраст заёмщика.<br> \n",
    "Колонка __dob_years__ содержит аномальные значения минимального возраста."
   ]
  },
  {
   "cell_type": "code",
   "execution_count": 30,
   "metadata": {},
   "outputs": [
    {
     "data": {
      "text/plain": [
       "0     101\n",
       "19     14\n",
       "20     51\n",
       "21    111\n",
       "22    183\n",
       "Name: dob_years, dtype: int64"
      ]
     },
     "execution_count": 30,
     "metadata": {},
     "output_type": "execute_result"
    }
   ],
   "source": [
    "# уточняем минимальные значения возраста:\n",
    "df.dob_years.value_counts().sort_index(ascending=True).head()"
   ]
  },
  {
   "cell_type": "markdown",
   "metadata": {},
   "source": [
    "Так как значения среднего и медианного возраста не сильно отличаются, то не будет ошибкой заменить все нулевые значения на средний возраст заёмщика. "
   ]
  },
  {
   "cell_type": "code",
   "execution_count": 31,
   "metadata": {},
   "outputs": [],
   "source": [
    "mean_age = df['dob_years'].mean()\n",
    "df['dob_years'] = df['dob_years'].transform(lambda x: mean_age if (x == 0) else x)"
   ]
  },
  {
   "cell_type": "code",
   "execution_count": 32,
   "metadata": {},
   "outputs": [
    {
     "data": {
      "text/plain": [
       "Text(0, 0.5, 'Количество заемщиков')"
      ]
     },
     "execution_count": 32,
     "metadata": {},
     "output_type": "execute_result"
    },
    {
     "data": {
      "image/png": "[encoded data removed]",
      "text/plain": [
       "<Figure size 432x288 with 1 Axes>"
      ]
     },
     "metadata": {
      "needs_background": "light"
     },
     "output_type": "display_data"
    }
   ],
   "source": [
    "#  проверяем результат:\n",
    "age_corrected_plot = df.dob_years.hist()\n",
    "age_corrected_plot.set_title('Распределение заемщиков по возрасту')\n",
    "age_corrected_plot.set_xlabel('Возраст заемщика')\n",
    "age_corrected_plot.set_ylabel('Количество заемщиков')"
   ]
  },
  {
   "cell_type": "code",
   "execution_count": 33,
   "metadata": {},
   "outputs": [
    {
     "data": {
      "text/html": [
       "<div>\n",
       "<style scoped>\n",
       "    .dataframe tbody tr th:only-of-type {\n",
       "        vertical-align: middle;\n",
       "    }\n",
       "\n",
       "    .dataframe tbody tr th {\n",
       "        vertical-align: top;\n",
       "    }\n",
       "\n",
       "    .dataframe thead th {\n",
       "        text-align: right;\n",
       "    }\n",
       "</style>\n",
       "<table border=\"1\" class=\"dataframe\">\n",
       "  <thead>\n",
       "    <tr style=\"text-align: right;\">\n",
       "      <th></th>\n",
       "      <th>children</th>\n",
       "      <th>days_employed</th>\n",
       "      <th>dob_years</th>\n",
       "      <th>total_income</th>\n",
       "    </tr>\n",
       "  </thead>\n",
       "  <tbody>\n",
       "    <tr>\n",
       "      <td>max</td>\n",
       "      <td>5.0</td>\n",
       "      <td>18389.0</td>\n",
       "      <td>75.0</td>\n",
       "      <td>499924.0</td>\n",
       "    </tr>\n",
       "    <tr>\n",
       "      <td>min</td>\n",
       "      <td>0.0</td>\n",
       "      <td>24.0</td>\n",
       "      <td>19.0</td>\n",
       "      <td>20667.0</td>\n",
       "    </tr>\n",
       "    <tr>\n",
       "      <td>mean</td>\n",
       "      <td>0.0</td>\n",
       "      <td>2584.0</td>\n",
       "      <td>43.0</td>\n",
       "      <td>160077.0</td>\n",
       "    </tr>\n",
       "    <tr>\n",
       "      <td>median</td>\n",
       "      <td>0.0</td>\n",
       "      <td>2194.0</td>\n",
       "      <td>43.0</td>\n",
       "      <td>143157.0</td>\n",
       "    </tr>\n",
       "  </tbody>\n",
       "</table>\n",
       "</div>"
      ],
      "text/plain": [
       "        children  days_employed  dob_years  total_income\n",
       "max          5.0        18389.0       75.0      499924.0\n",
       "min          0.0           24.0       19.0       20667.0\n",
       "mean         0.0         2584.0       43.0      160077.0\n",
       "median       0.0         2194.0       43.0      143157.0"
      ]
     },
     "execution_count": 33,
     "metadata": {},
     "output_type": "execute_result"
    }
   ],
   "source": [
    "# получим статистическую сводку по столбцам, имеющим числовые значения и не являющимися классификаторами.\n",
    "df[['children', 'days_employed', 'dob_years',\n",
    "    'total_income']].agg(['max', 'min', 'mean', 'median']).round()"
   ]
  },
  {
   "cell_type": "code",
   "execution_count": 34,
   "metadata": {},
   "outputs": [],
   "source": [
    "# приведем к общему стилю столбец education:\n",
    "df['education'] = df.education.str.lower()"
   ]
  },
  {
   "cell_type": "code",
   "execution_count": 35,
   "metadata": {
    "scrolled": true
   },
   "outputs": [
    {
     "data": {
      "text/plain": [
       "среднее                15233\n",
       "высшее                  5260\n",
       "неоконченное высшее      744\n",
       "начальное                282\n",
       "ученая степень             6\n",
       "Name: education, dtype: int64"
      ]
     },
     "execution_count": 35,
     "metadata": {},
     "output_type": "execute_result"
    }
   ],
   "source": [
    "df.education.value_counts()"
   ]
  },
  {
   "cell_type": "code",
   "execution_count": 36,
   "metadata": {},
   "outputs": [],
   "source": [
    "# приведем к общему стилю столбец family_status:\n",
    "df['family_status'] = df.family_status.str.lower().replace('не женат / не замужем', 'неженат / незамужем')"
   ]
  },
  {
   "cell_type": "code",
   "execution_count": 37,
   "metadata": {},
   "outputs": [
    {
     "data": {
      "text/plain": [
       "женат / замужем        12380\n",
       "гражданский брак        4177\n",
       "неженат / незамужем     2813\n",
       "в разводе               1195\n",
       "вдовец / вдова           960\n",
       "Name: family_status, dtype: int64"
      ]
     },
     "execution_count": 37,
     "metadata": {},
     "output_type": "execute_result"
    }
   ],
   "source": [
    "df.family_status.value_counts()"
   ]
  },
  {
   "cell_type": "markdown",
   "metadata": {},
   "source": [
    "- пол заемщика.\n",
    "<br>Избавимся от строки, содержащей неверное значение и обновим индекс:"
   ]
  },
  {
   "cell_type": "code",
   "execution_count": 38,
   "metadata": {},
   "outputs": [],
   "source": [
    "df = df.drop(index=10701).reset_index(drop=True)"
   ]
  },
  {
   "cell_type": "code",
   "execution_count": 39,
   "metadata": {},
   "outputs": [
    {
     "data": {
      "text/plain": [
       "F    14236\n",
       "M     7288\n",
       "Name: gender, dtype: int64"
      ]
     },
     "execution_count": 39,
     "metadata": {},
     "output_type": "execute_result"
    }
   ],
   "source": [
    "# проверим значения в колонке пола:\n",
    "df['gender'].value_counts()"
   ]
  },
  {
   "cell_type": "markdown",
   "metadata": {},
   "source": [
    "#### Заполнение пропусков в столбце __days_employed__."
   ]
  },
  {
   "cell_type": "markdown",
   "metadata": {},
   "source": [
    "Уточним количество пропусков в каждой группе по типу занятости __income_type__. "
   ]
  },
  {
   "cell_type": "code",
   "execution_count": 40,
   "metadata": {},
   "outputs": [
    {
     "data": {
      "text/plain": [
       "сотрудник          1105\n",
       "компаньон           508\n",
       "пенсионер           413\n",
       "госслужащий         147\n",
       "предприниматель       1\n",
       "Name: income_type, dtype: int64"
      ]
     },
     "execution_count": 40,
     "metadata": {},
     "output_type": "execute_result"
    }
   ],
   "source": [
    "df[df['days_employed'].isna()]['income_type'].value_counts()"
   ]
  },
  {
   "cell_type": "markdown",
   "metadata": {},
   "source": [
    "Пропуски обнаружены у пенсионеров, работающих или самозанятых. \n",
    "\n",
    "Заполним пропуски для пенсионеров значением 5500 - около 15 лет, требуемых по законодательству для учета стажа пенсионера, и для работающих категорий - средним значением по столбцу __income_type__ для работающих категорий."
   ]
  },
  {
   "cell_type": "code",
   "execution_count": 41,
   "metadata": {},
   "outputs": [
    {
     "data": {
      "text/plain": [
       "2194"
      ]
     },
     "execution_count": 41,
     "metadata": {},
     "output_type": "execute_result"
    }
   ],
   "source": [
    "# определим средний стаж работающих категорий заёмщиков:\n",
    "median_positive_employment = round(df[df['days_employed'] > 0]['days_employed'].median())\n",
    "median_positive_employment"
   ]
  },
  {
   "cell_type": "code",
   "execution_count": 42,
   "metadata": {},
   "outputs": [],
   "source": [
    "# отфильтруем и заменим значения для работающих:\n",
    "df.loc[df['income_type'].isin(\n",
    "    [\n",
    "        'сотрудник', 'компаньон', 'госслужащий', 'предприниматель'\n",
    "    ]\n",
    "),\n",
    "       'days_employed'] = df.loc[df['income_type'].isin(\n",
    "    [\n",
    "        'сотрудник', 'компаньон', 'госслужащий', 'предприниматель'\n",
    "    ]\n",
    "),\n",
    "                                 'days_employed'].fillna(median_positive_employment)"
   ]
  },
  {
   "cell_type": "code",
   "execution_count": 43,
   "metadata": {},
   "outputs": [],
   "source": [
    "# отфильтруем и заменим значения для пенсионеров:\n",
    "df['days_employed'] = df['days_employed'].fillna(df.groupby('income_type')['days_employed'].transform('mean'))\n",
    "\n",
    "\n",
    "#df.loc[df['income_type'] == 'пенсионер', 'days_employed'] = df.loc[\n",
    "#    df['income_type'] == 'пенсионер',\n",
    "#    'days_employed'].fillna(5500)"
   ]
  },
  {
   "cell_type": "code",
   "execution_count": 44,
   "metadata": {},
   "outputs": [
    {
     "data": {
      "text/plain": [
       "Series([], Name: income_type, dtype: int64)"
      ]
     },
     "execution_count": 44,
     "metadata": {},
     "output_type": "execute_result"
    }
   ],
   "source": [
    "# проверим наличие пропусков в столбце days_employed:\n",
    "df[df['days_employed'].isna()]['income_type'].value_counts()"
   ]
  },
  {
   "cell_type": "code",
   "execution_count": 45,
   "metadata": {
    "scrolled": true
   },
   "outputs": [
    {
     "data": {
      "text/plain": [
       "Text(0, 0.5, 'Количество заемщиков')"
      ]
     },
     "execution_count": 45,
     "metadata": {},
     "output_type": "execute_result"
    },
    {
     "data": {
      "image/png": "[encoded data removed]",
      "text/plain": [
       "<Figure size 432x288 with 1 Axes>"
      ]
     },
     "metadata": {
      "needs_background": "light"
     },
     "output_type": "display_data"
    }
   ],
   "source": [
    "# финальный вид распределения стажа заёмщиков:\n",
    "employment_corrected_plot = df.days_employed.hist(bins=35)\n",
    "employment_corrected_plot.set_title('Распределение заемщиков по стажу')\n",
    "employment_corrected_plot.set_xlabel('Стаж заемщика')\n",
    "employment_corrected_plot.set_ylabel('Количество заемщиков')"
   ]
  },
  {
   "cell_type": "markdown",
   "metadata": {},
   "source": [
    "##### Заполнение пропусков в столбце total_income."
   ]
  },
  {
   "cell_type": "markdown",
   "metadata": {},
   "source": [
    "Уточним количество пропусков в каждой группе по уровню образования __education__. "
   ]
  },
  {
   "cell_type": "code",
   "execution_count": 46,
   "metadata": {},
   "outputs": [
    {
     "data": {
      "text/plain": [
       "среднее                1540\n",
       "высшее                  544\n",
       "неоконченное высшее      69\n",
       "начальное                21\n",
       "Name: education, dtype: int64"
      ]
     },
     "execution_count": 46,
     "metadata": {},
     "output_type": "execute_result"
    }
   ],
   "source": [
    "df[df['total_income'].isna()]['education'].value_counts()"
   ]
  },
  {
   "cell_type": "markdown",
   "metadata": {},
   "source": [
    "Вычислим медианные значения дохода для каждого уровня образования."
   ]
  },
  {
   "cell_type": "code",
   "execution_count": 47,
   "metadata": {},
   "outputs": [
    {
     "data": {
      "text/plain": [
       "education\n",
       "высшее                 169109.045\n",
       "начальное              117137.350\n",
       "неоконченное высшее    157647.740\n",
       "среднее                135588.200\n",
       "ученая степень         157259.900\n",
       "Name: total_income, dtype: float64"
      ]
     },
     "metadata": {},
     "output_type": "display_data"
    }
   ],
   "source": [
    "median_income_by_education = df.groupby('education')['total_income'].median()\n",
    "display(median_income_by_education)"
   ]
  },
  {
   "cell_type": "markdown",
   "metadata": {},
   "source": [
    "Заменим пропуски в столбце __total_income__ медианными значениями согласно уровню образования.  "
   ]
  },
  {
   "cell_type": "code",
   "execution_count": 48,
   "metadata": {},
   "outputs": [],
   "source": [
    "for x in range(len(median_income_by_education)):\n",
    "    df.loc[df['education'] == median_income_by_education.index[x],\n",
    "           'total_income'] = df.loc[\n",
    "               df['education'] == median_income_by_education.index[x],\n",
    "               'total_income'].fillna(median_income_by_education[x])"
   ]
  },
  {
   "cell_type": "code",
   "execution_count": 49,
   "metadata": {},
   "outputs": [
    {
     "data": {
      "text/plain": [
       "Series([], Name: education, dtype: int64)"
      ]
     },
     "execution_count": 49,
     "metadata": {},
     "output_type": "execute_result"
    }
   ],
   "source": [
    "# проверим наличие пропусков:\n",
    "df[df['total_income'].isna()]['education'].value_counts()"
   ]
  },
  {
   "cell_type": "code",
   "execution_count": 50,
   "metadata": {
    "scrolled": true
   },
   "outputs": [
    {
     "data": {
      "text/plain": [
       "Text(0, 0.5, 'Количество заемщиков')"
      ]
     },
     "execution_count": 50,
     "metadata": {},
     "output_type": "execute_result"
    },
    {
     "data": {
      "image/png": "[encoded data removed]",
      "text/plain": [
       "<Figure size 432x288 with 1 Axes>"
      ]
     },
     "metadata": {
      "needs_background": "light"
     },
     "output_type": "display_data"
    }
   ],
   "source": [
    "# финальный вид распределения уровня доходов: \n",
    "final_income_plot = df.total_income.hist(bins=25)\n",
    "final_income_plot.set_title('Распределение заемщиков по уровню ежемесячного дохода')\n",
    "final_income_plot.set_xlabel('Ежемесячный доход заемщика')\n",
    "final_income_plot.set_ylabel('Количество заемщиков')"
   ]
  },
  {
   "cell_type": "markdown",
   "metadata": {},
   "source": [
    "**Вывод**"
   ]
  },
  {
   "cell_type": "markdown",
   "metadata": {},
   "source": [
    "Пропуски в значениях days_employed — общий трудовой стаж в днях заполнены с учетом медианных значений для работающих и пенсионеров. \n",
    "\n",
    "Пропуски в значениях total_income — ежемесячный доход заполнены, исходя из медианных значений уровня дохода в зависимости от уровня образования. \n",
    "\n",
    "Заполнение пропусков требует предварительной очистки данных. "
   ]
  },
  {
   "cell_type": "markdown",
   "metadata": {},
   "source": [
    "### Замена типа данных"
   ]
  },
  {
   "cell_type": "code",
   "execution_count": 51,
   "metadata": {
    "scrolled": true
   },
   "outputs": [
    {
     "name": "stdout",
     "output_type": "stream",
     "text": [
      "<class 'pandas.core.frame.DataFrame'>\n",
      "RangeIndex: 21524 entries, 0 to 21523\n",
      "Data columns (total 12 columns):\n",
      "children            21524 non-null int64\n",
      "days_employed       21524 non-null float64\n",
      "dob_years           21524 non-null float64\n",
      "education           21524 non-null object\n",
      "education_id        21524 non-null int64\n",
      "family_status       21524 non-null object\n",
      "family_status_id    21524 non-null int64\n",
      "gender              21524 non-null object\n",
      "income_type         21524 non-null object\n",
      "debt                21524 non-null int64\n",
      "total_income        21524 non-null float64\n",
      "purpose             21524 non-null object\n",
      "dtypes: float64(3), int64(4), object(5)\n",
      "memory usage: 2.0+ MB\n"
     ]
    }
   ],
   "source": [
    "df.info()"
   ]
  },
  {
   "cell_type": "markdown",
   "metadata": {},
   "source": [
    "Столбцы\n",
    "- __dob_years__ — возраст клиента в годах \n",
    "- __days_employed__ — общий трудовой стаж в днях\n",
    "\n",
    "\n",
    "имеют формат вещественного числа. Логичнее привести их к цельночисленным значениям. "
   ]
  },
  {
   "cell_type": "code",
   "execution_count": 52,
   "metadata": {},
   "outputs": [],
   "source": [
    "df[['dob_years', 'days_employed']] = df[['dob_years', 'days_employed']].astype(int)"
   ]
  },
  {
   "cell_type": "code",
   "execution_count": 53,
   "metadata": {},
   "outputs": [
    {
     "name": "stdout",
     "output_type": "stream",
     "text": [
      "<class 'pandas.core.frame.DataFrame'>\n",
      "RangeIndex: 21524 entries, 0 to 21523\n",
      "Data columns (total 12 columns):\n",
      "children            21524 non-null int64\n",
      "days_employed       21524 non-null int64\n",
      "dob_years           21524 non-null int64\n",
      "education           21524 non-null object\n",
      "education_id        21524 non-null int64\n",
      "family_status       21524 non-null object\n",
      "family_status_id    21524 non-null int64\n",
      "gender              21524 non-null object\n",
      "income_type         21524 non-null object\n",
      "debt                21524 non-null int64\n",
      "total_income        21524 non-null float64\n",
      "purpose             21524 non-null object\n",
      "dtypes: float64(1), int64(6), object(5)\n",
      "memory usage: 2.0+ MB\n"
     ]
    }
   ],
   "source": [
    "df.info()"
   ]
  },
  {
   "cell_type": "markdown",
   "metadata": {},
   "source": [
    "**Вывод**"
   ]
  },
  {
   "cell_type": "markdown",
   "metadata": {},
   "source": [
    "Приведение значений дней и лет к цельночисленным значениям позволит сделать данные более удобными для восприятия."
   ]
  },
  {
   "cell_type": "markdown",
   "metadata": {},
   "source": [
    "### Обработка дубликатов"
   ]
  },
  {
   "cell_type": "code",
   "execution_count": 54,
   "metadata": {},
   "outputs": [
    {
     "data": {
      "text/html": [
       "<div>\n",
       "<style scoped>\n",
       "    .dataframe tbody tr th:only-of-type {\n",
       "        vertical-align: middle;\n",
       "    }\n",
       "\n",
       "    .dataframe tbody tr th {\n",
       "        vertical-align: top;\n",
       "    }\n",
       "\n",
       "    .dataframe thead th {\n",
       "        text-align: right;\n",
       "    }\n",
       "</style>\n",
       "<table border=\"1\" class=\"dataframe\">\n",
       "  <thead>\n",
       "    <tr style=\"text-align: right;\">\n",
       "      <th></th>\n",
       "      <th>children</th>\n",
       "      <th>days_employed</th>\n",
       "      <th>dob_years</th>\n",
       "      <th>education</th>\n",
       "      <th>education_id</th>\n",
       "      <th>family_status</th>\n",
       "      <th>family_status_id</th>\n",
       "      <th>gender</th>\n",
       "      <th>income_type</th>\n",
       "      <th>debt</th>\n",
       "      <th>total_income</th>\n",
       "      <th>purpose</th>\n",
       "    </tr>\n",
       "  </thead>\n",
       "  <tbody>\n",
       "    <tr>\n",
       "      <td>2849</td>\n",
       "      <td>0</td>\n",
       "      <td>2194</td>\n",
       "      <td>41</td>\n",
       "      <td>среднее</td>\n",
       "      <td>1</td>\n",
       "      <td>женат / замужем</td>\n",
       "      <td>0</td>\n",
       "      <td>F</td>\n",
       "      <td>сотрудник</td>\n",
       "      <td>0</td>\n",
       "      <td>135588.200</td>\n",
       "      <td>покупка жилья для семьи</td>\n",
       "    </tr>\n",
       "    <tr>\n",
       "      <td>3290</td>\n",
       "      <td>0</td>\n",
       "      <td>3650</td>\n",
       "      <td>58</td>\n",
       "      <td>среднее</td>\n",
       "      <td>1</td>\n",
       "      <td>гражданский брак</td>\n",
       "      <td>1</td>\n",
       "      <td>F</td>\n",
       "      <td>пенсионер</td>\n",
       "      <td>0</td>\n",
       "      <td>135588.200</td>\n",
       "      <td>сыграть свадьбу</td>\n",
       "    </tr>\n",
       "    <tr>\n",
       "      <td>4182</td>\n",
       "      <td>1</td>\n",
       "      <td>2194</td>\n",
       "      <td>34</td>\n",
       "      <td>высшее</td>\n",
       "      <td>0</td>\n",
       "      <td>гражданский брак</td>\n",
       "      <td>1</td>\n",
       "      <td>F</td>\n",
       "      <td>сотрудник</td>\n",
       "      <td>0</td>\n",
       "      <td>169109.045</td>\n",
       "      <td>свадьба</td>\n",
       "    </tr>\n",
       "    <tr>\n",
       "      <td>4851</td>\n",
       "      <td>0</td>\n",
       "      <td>3650</td>\n",
       "      <td>60</td>\n",
       "      <td>среднее</td>\n",
       "      <td>1</td>\n",
       "      <td>гражданский брак</td>\n",
       "      <td>1</td>\n",
       "      <td>F</td>\n",
       "      <td>пенсионер</td>\n",
       "      <td>0</td>\n",
       "      <td>135588.200</td>\n",
       "      <td>свадьба</td>\n",
       "    </tr>\n",
       "    <tr>\n",
       "      <td>5557</td>\n",
       "      <td>0</td>\n",
       "      <td>3650</td>\n",
       "      <td>58</td>\n",
       "      <td>среднее</td>\n",
       "      <td>1</td>\n",
       "      <td>гражданский брак</td>\n",
       "      <td>1</td>\n",
       "      <td>F</td>\n",
       "      <td>пенсионер</td>\n",
       "      <td>0</td>\n",
       "      <td>135588.200</td>\n",
       "      <td>сыграть свадьбу</td>\n",
       "    </tr>\n",
       "    <tr>\n",
       "      <td>...</td>\n",
       "      <td>...</td>\n",
       "      <td>...</td>\n",
       "      <td>...</td>\n",
       "      <td>...</td>\n",
       "      <td>...</td>\n",
       "      <td>...</td>\n",
       "      <td>...</td>\n",
       "      <td>...</td>\n",
       "      <td>...</td>\n",
       "      <td>...</td>\n",
       "      <td>...</td>\n",
       "      <td>...</td>\n",
       "    </tr>\n",
       "    <tr>\n",
       "      <td>20701</td>\n",
       "      <td>0</td>\n",
       "      <td>3650</td>\n",
       "      <td>64</td>\n",
       "      <td>среднее</td>\n",
       "      <td>1</td>\n",
       "      <td>женат / замужем</td>\n",
       "      <td>0</td>\n",
       "      <td>F</td>\n",
       "      <td>пенсионер</td>\n",
       "      <td>0</td>\n",
       "      <td>135588.200</td>\n",
       "      <td>дополнительное образование</td>\n",
       "    </tr>\n",
       "    <tr>\n",
       "      <td>21031</td>\n",
       "      <td>0</td>\n",
       "      <td>3650</td>\n",
       "      <td>60</td>\n",
       "      <td>среднее</td>\n",
       "      <td>1</td>\n",
       "      <td>женат / замужем</td>\n",
       "      <td>0</td>\n",
       "      <td>F</td>\n",
       "      <td>пенсионер</td>\n",
       "      <td>0</td>\n",
       "      <td>135588.200</td>\n",
       "      <td>заняться образованием</td>\n",
       "    </tr>\n",
       "    <tr>\n",
       "      <td>21131</td>\n",
       "      <td>0</td>\n",
       "      <td>2194</td>\n",
       "      <td>47</td>\n",
       "      <td>среднее</td>\n",
       "      <td>1</td>\n",
       "      <td>женат / замужем</td>\n",
       "      <td>0</td>\n",
       "      <td>F</td>\n",
       "      <td>сотрудник</td>\n",
       "      <td>0</td>\n",
       "      <td>135588.200</td>\n",
       "      <td>ремонт жилью</td>\n",
       "    </tr>\n",
       "    <tr>\n",
       "      <td>21280</td>\n",
       "      <td>1</td>\n",
       "      <td>2194</td>\n",
       "      <td>30</td>\n",
       "      <td>высшее</td>\n",
       "      <td>0</td>\n",
       "      <td>женат / замужем</td>\n",
       "      <td>0</td>\n",
       "      <td>F</td>\n",
       "      <td>сотрудник</td>\n",
       "      <td>0</td>\n",
       "      <td>169109.045</td>\n",
       "      <td>покупка коммерческой недвижимости</td>\n",
       "    </tr>\n",
       "    <tr>\n",
       "      <td>21414</td>\n",
       "      <td>0</td>\n",
       "      <td>3650</td>\n",
       "      <td>54</td>\n",
       "      <td>среднее</td>\n",
       "      <td>1</td>\n",
       "      <td>женат / замужем</td>\n",
       "      <td>0</td>\n",
       "      <td>F</td>\n",
       "      <td>пенсионер</td>\n",
       "      <td>0</td>\n",
       "      <td>135588.200</td>\n",
       "      <td>операции с жильем</td>\n",
       "    </tr>\n",
       "  </tbody>\n",
       "</table>\n",
       "<p>71 rows × 12 columns</p>\n",
       "</div>"
      ],
      "text/plain": [
       "       children  days_employed  dob_years education  education_id  \\\n",
       "2849          0           2194         41   среднее             1   \n",
       "3290          0           3650         58   среднее             1   \n",
       "4182          1           2194         34    высшее             0   \n",
       "4851          0           3650         60   среднее             1   \n",
       "5557          0           3650         58   среднее             1   \n",
       "...         ...            ...        ...       ...           ...   \n",
       "20701         0           3650         64   среднее             1   \n",
       "21031         0           3650         60   среднее             1   \n",
       "21131         0           2194         47   среднее             1   \n",
       "21280         1           2194         30    высшее             0   \n",
       "21414         0           3650         54   среднее             1   \n",
       "\n",
       "          family_status  family_status_id gender income_type  debt  \\\n",
       "2849    женат / замужем                 0      F   сотрудник     0   \n",
       "3290   гражданский брак                 1      F   пенсионер     0   \n",
       "4182   гражданский брак                 1      F   сотрудник     0   \n",
       "4851   гражданский брак                 1      F   пенсионер     0   \n",
       "5557   гражданский брак                 1      F   пенсионер     0   \n",
       "...                 ...               ...    ...         ...   ...   \n",
       "20701   женат / замужем                 0      F   пенсионер     0   \n",
       "21031   женат / замужем                 0      F   пенсионер     0   \n",
       "21131   женат / замужем                 0      F   сотрудник     0   \n",
       "21280   женат / замужем                 0      F   сотрудник     0   \n",
       "21414   женат / замужем                 0      F   пенсионер     0   \n",
       "\n",
       "       total_income                            purpose  \n",
       "2849     135588.200            покупка жилья для семьи  \n",
       "3290     135588.200                    сыграть свадьбу  \n",
       "4182     169109.045                            свадьба  \n",
       "4851     135588.200                            свадьба  \n",
       "5557     135588.200                    сыграть свадьбу  \n",
       "...             ...                                ...  \n",
       "20701    135588.200         дополнительное образование  \n",
       "21031    135588.200              заняться образованием  \n",
       "21131    135588.200                       ремонт жилью  \n",
       "21280    169109.045  покупка коммерческой недвижимости  \n",
       "21414    135588.200                  операции с жильем  \n",
       "\n",
       "[71 rows x 12 columns]"
      ]
     },
     "execution_count": 54,
     "metadata": {},
     "output_type": "execute_result"
    }
   ],
   "source": [
    "df[df.duplicated()]"
   ]
  },
  {
   "cell_type": "code",
   "execution_count": 55,
   "metadata": {},
   "outputs": [
    {
     "data": {
      "text/plain": [
       "(21453, 12)"
      ]
     },
     "metadata": {},
     "output_type": "display_data"
    }
   ],
   "source": [
    "# удалим полные дубликаты и обновим индексы: \n",
    "df = df.drop_duplicates().reset_index(drop=True)\n",
    "display(df.shape)"
   ]
  },
  {
   "cell_type": "markdown",
   "metadata": {},
   "source": [
    "**Вывод**"
   ]
  },
  {
   "cell_type": "markdown",
   "metadata": {},
   "source": [
    "Очевидно, что полные дубликаты являются побочным эффектом исправления ошибок и заполнения пропусков. Об этом говорят значения в столбцах __days_employed__ и __total_income__. \n",
    "\n",
    "Однако, так как какие-либо персональные данные полностью скрыты и нет однозначных идентификаторов, позволяющих говорить об идентификации дубликатов по такого рода полям, то после исправления ошибок и заполнения пропусков единственный вариант - это поиск полных дубликатов по строкам. "
   ]
  },
  {
   "cell_type": "markdown",
   "metadata": {},
   "source": [
    "### Лемматизация"
   ]
  },
  {
   "cell_type": "code",
   "execution_count": 56,
   "metadata": {},
   "outputs": [
    {
     "data": {
      "text/plain": [
       "array(['покупка жилья', 'приобретение автомобиля',\n",
       "       'дополнительное образование', 'сыграть свадьбу',\n",
       "       'операции с жильем', 'образование', 'на проведение свадьбы',\n",
       "       'покупка жилья для семьи', 'покупка недвижимости',\n",
       "       'покупка коммерческой недвижимости', 'покупка жилой недвижимости',\n",
       "       'строительство собственной недвижимости', 'недвижимость',\n",
       "       'строительство недвижимости', 'на покупку подержанного автомобиля',\n",
       "       'на покупку своего автомобиля',\n",
       "       'операции с коммерческой недвижимостью',\n",
       "       'строительство жилой недвижимости', 'жилье',\n",
       "       'операции со своей недвижимостью', 'автомобили',\n",
       "       'заняться образованием', 'сделка с подержанным автомобилем',\n",
       "       'получение образования', 'автомобиль', 'свадьба',\n",
       "       'получение дополнительного образования', 'покупка своего жилья',\n",
       "       'операции с недвижимостью', 'получение высшего образования',\n",
       "       'свой автомобиль', 'сделка с автомобилем',\n",
       "       'профильное образование', 'высшее образование',\n",
       "       'покупка жилья для сдачи', 'на покупку автомобиля', 'ремонт жилью',\n",
       "       'заняться высшим образованием'], dtype=object)"
      ]
     },
     "execution_count": 56,
     "metadata": {},
     "output_type": "execute_result"
    }
   ],
   "source": [
    "# анализ столбца purpose ранее показал большое количество аналогичных значений:\n",
    "df['purpose'].unique()"
   ]
  },
  {
   "cell_type": "code",
   "execution_count": 57,
   "metadata": {},
   "outputs": [
    {
     "name": "stdout",
     "output_type": "stream",
     "text": [
      "['покупка', 'жилье', 'приобретение', 'автомобиль', 'дополнительный', 'образование', 'сыграть', 'свадьба', 'операция', 'с', 'жилье', 'образование', 'на', 'проведение', 'свадьба', 'покупка', 'жилье', 'для', 'семья', 'покупка', 'недвижимость', 'покупка', 'коммерческий', 'недвижимость', 'покупка', 'жилой', 'недвижимость', 'строительство', 'собственный', 'недвижимость', 'недвижимость', 'строительство', 'недвижимость', 'на', 'покупка', 'подержать', 'автомобиль', 'на', 'покупка', 'свой', 'автомобиль', 'операция', 'с', 'коммерческий', 'недвижимость', 'строительство', 'жилой', 'недвижимость', 'жилье', 'операция', 'со', 'свой', 'недвижимость', 'автомобиль', 'заниматься', 'образование', 'сделка', 'с', 'подержать', 'автомобиль', 'получение', 'образование', 'автомобиль', 'свадьба', 'получение', 'дополнительный', 'образование', 'покупка', 'свой', 'жилье', 'операция', 'с', 'недвижимость', 'получение', 'высокий', 'образование', 'свой', 'автомобиль', 'сделка', 'с', 'автомобиль', 'профильный', 'образование', 'высокий', 'образование', 'покупка', 'жилье', 'для', 'сдача', 'на', 'покупка', 'автомобиль', 'ремонт', 'жилье', 'заниматься', 'высокий', 'образование']\n"
     ]
    }
   ],
   "source": [
    "# для унификации значений воспользуемся методом лемматизации и библиотекой pymystem3: \n",
    "purpose_list = ''\n",
    "for x in df['purpose'].unique().tolist(): \n",
    "    purpose_list += f' {x}'\n",
    "\n",
    "lemmas = ' '.join(m.lemmatize(purpose_list)).split()\n",
    "\n",
    "print(lemmas)"
   ]
  },
  {
   "cell_type": "code",
   "execution_count": 58,
   "metadata": {},
   "outputs": [
    {
     "name": "stdout",
     "output_type": "stream",
     "text": [
      "Counter({'покупка': 10, 'недвижимость': 10, 'автомобиль': 9, 'образование': 9, 'жилье': 7, 'с': 5, 'операция': 4, 'на': 4, 'свой': 4, 'свадьба': 3, 'строительство': 3, 'получение': 3, 'высокий': 3, 'дополнительный': 2, 'для': 2, 'коммерческий': 2, 'жилой': 2, 'подержать': 2, 'заниматься': 2, 'сделка': 2, 'приобретение': 1, 'сыграть': 1, 'проведение': 1, 'семья': 1, 'собственный': 1, 'со': 1, 'профильный': 1, 'сдача': 1, 'ремонт': 1})\n"
     ]
    }
   ],
   "source": [
    "# для подсчета частотности встречаемости лем воспользуемся контейнером Counter:\n",
    "print(Counter(list(lemmas))) "
   ]
  },
  {
   "cell_type": "markdown",
   "metadata": {},
   "source": [
    "Таким образом, по назначению кредита выделяются 5 групп: \n",
    "- недвижимость \n",
    "- автомобиль\n",
    "- образование \n",
    "- жилье\n",
    "- свадьба\n",
    "\n",
    "Группы <em>недвижимость</em> и <em>жилье</em> необходимо уточнить как: \n",
    "__коммерческая недвижимость__ и __жилая недвижимость__.\n",
    "\n",
    "\n",
    "Итого получаем 5 групп:\n",
    "- коммерческая недвижимость\n",
    "- жилая недвижимость\n",
    "- автомобиль\n",
    "- образование\n",
    "- свадьба"
   ]
  },
  {
   "cell_type": "code",
   "execution_count": 59,
   "metadata": {},
   "outputs": [],
   "source": [
    "#создадим функцию для получения нового столбца с указанием лемматизированных категорий:\n",
    "def credit_goal(row):\n",
    "    global m\n",
    "    goals = ['недвижимость', 'автомобиль', 'образование', 'жилье', 'свадьба']\n",
    "    purpose = row['purpose']\n",
    "\n",
    "    for goal in goals: \n",
    "        if goal in m.lemmatize(purpose):\n",
    "            return goal"
   ]
  },
  {
   "cell_type": "code",
   "execution_count": 60,
   "metadata": {},
   "outputs": [],
   "source": [
    "# применим полученную функцию и уточним категории, связанные с коммерческой и жилой недвижимостью:\n",
    "df['credit_goal'] = df.apply(credit_goal, axis=1).replace({\n",
    "    'недвижимость': 'коммерческая недвижимость', 'жилье':'жилая недвижимость'\n",
    "})"
   ]
  },
  {
   "cell_type": "code",
   "execution_count": 61,
   "metadata": {},
   "outputs": [],
   "source": [
    "# # создадим списки исходных значений:\n",
    "# commercial_real_estate = ['покупка коммерческой недвижимости', 'операции с коммерческой недвижимостью']\n",
    "\n",
    "# real_estate = ['покупка жилья', 'операции с жильем', 'покупка жилья для семьи', 'покупка недвижимости', \n",
    "#                'покупка жилой недвижимости', 'строительство собственной недвижимости', 'недвижимость',\n",
    "#                'строительство недвижимости', 'строительство жилой недвижимости', 'жилье', \n",
    "#                'операции со своей недвижимостью', 'покупка своего жилья', 'операции с недвижимостью', \n",
    "#                'покупка жилья для сдачи', 'ремонт жилью']\n",
    "\n",
    "# auto = ['приобретение автомобиля', 'на покупку подержанного автомобиля', 'на покупку своего автомобиля',\n",
    "#        'автомобили', 'сделка с подержанным автомобилем', 'автомобиль', 'свой автомобиль', 'сделка с автомобилем',\n",
    "#        'на покупку автомобиля']\n",
    "\n",
    "# education = ['дополнительное образование', 'образование', 'заняться образованием', 'получение образования', \n",
    "#             'получение дополнительного образования', 'получение высшего образования', 'профильное образование',\n",
    "#             'высшее образование', 'заняться высшим образованием']\n",
    "\n",
    "# wedding = ['сыграть свадьбу', 'на проведение свадьбы', 'свадьба']"
   ]
  },
  {
   "cell_type": "code",
   "execution_count": 62,
   "metadata": {},
   "outputs": [
    {
     "data": {
      "text/plain": [
       "коммерческая недвижимость    6350\n",
       "жилая недвижимость           4460\n",
       "автомобиль                   4306\n",
       "образование                  4013\n",
       "свадьба                      2324\n",
       "Name: credit_goal, dtype: int64"
      ]
     },
     "execution_count": 62,
     "metadata": {},
     "output_type": "execute_result"
    }
   ],
   "source": [
    "# проверим корректность заполнения столбца purpose: \n",
    "df['credit_goal'].value_counts()"
   ]
  },
  {
   "cell_type": "code",
   "execution_count": 63,
   "metadata": {},
   "outputs": [
    {
     "data": {
      "text/html": [
       "<div>\n",
       "<style scoped>\n",
       "    .dataframe tbody tr th:only-of-type {\n",
       "        vertical-align: middle;\n",
       "    }\n",
       "\n",
       "    .dataframe tbody tr th {\n",
       "        vertical-align: top;\n",
       "    }\n",
       "\n",
       "    .dataframe thead th {\n",
       "        text-align: right;\n",
       "    }\n",
       "</style>\n",
       "<table border=\"1\" class=\"dataframe\">\n",
       "  <thead>\n",
       "    <tr style=\"text-align: right;\">\n",
       "      <th></th>\n",
       "      <th>children</th>\n",
       "      <th>days_employed</th>\n",
       "      <th>dob_years</th>\n",
       "      <th>education</th>\n",
       "      <th>education_id</th>\n",
       "      <th>family_status</th>\n",
       "      <th>family_status_id</th>\n",
       "      <th>gender</th>\n",
       "      <th>income_type</th>\n",
       "      <th>debt</th>\n",
       "      <th>total_income</th>\n",
       "      <th>purpose</th>\n",
       "      <th>credit_goal</th>\n",
       "    </tr>\n",
       "  </thead>\n",
       "  <tbody>\n",
       "    <tr>\n",
       "      <td>0</td>\n",
       "      <td>1</td>\n",
       "      <td>8437</td>\n",
       "      <td>42</td>\n",
       "      <td>высшее</td>\n",
       "      <td>0</td>\n",
       "      <td>женат / замужем</td>\n",
       "      <td>0</td>\n",
       "      <td>F</td>\n",
       "      <td>сотрудник</td>\n",
       "      <td>0</td>\n",
       "      <td>253875.64</td>\n",
       "      <td>покупка жилья</td>\n",
       "      <td>жилая недвижимость</td>\n",
       "    </tr>\n",
       "    <tr>\n",
       "      <td>1</td>\n",
       "      <td>1</td>\n",
       "      <td>4024</td>\n",
       "      <td>36</td>\n",
       "      <td>среднее</td>\n",
       "      <td>1</td>\n",
       "      <td>женат / замужем</td>\n",
       "      <td>0</td>\n",
       "      <td>F</td>\n",
       "      <td>сотрудник</td>\n",
       "      <td>0</td>\n",
       "      <td>112080.01</td>\n",
       "      <td>приобретение автомобиля</td>\n",
       "      <td>автомобиль</td>\n",
       "    </tr>\n",
       "    <tr>\n",
       "      <td>2</td>\n",
       "      <td>0</td>\n",
       "      <td>5623</td>\n",
       "      <td>33</td>\n",
       "      <td>среднее</td>\n",
       "      <td>1</td>\n",
       "      <td>женат / замужем</td>\n",
       "      <td>0</td>\n",
       "      <td>M</td>\n",
       "      <td>сотрудник</td>\n",
       "      <td>0</td>\n",
       "      <td>145885.95</td>\n",
       "      <td>покупка жилья</td>\n",
       "      <td>жилая недвижимость</td>\n",
       "    </tr>\n",
       "    <tr>\n",
       "      <td>3</td>\n",
       "      <td>3</td>\n",
       "      <td>4124</td>\n",
       "      <td>32</td>\n",
       "      <td>среднее</td>\n",
       "      <td>1</td>\n",
       "      <td>женат / замужем</td>\n",
       "      <td>0</td>\n",
       "      <td>M</td>\n",
       "      <td>сотрудник</td>\n",
       "      <td>0</td>\n",
       "      <td>267628.55</td>\n",
       "      <td>дополнительное образование</td>\n",
       "      <td>образование</td>\n",
       "    </tr>\n",
       "    <tr>\n",
       "      <td>4</td>\n",
       "      <td>0</td>\n",
       "      <td>3402</td>\n",
       "      <td>53</td>\n",
       "      <td>среднее</td>\n",
       "      <td>1</td>\n",
       "      <td>гражданский брак</td>\n",
       "      <td>1</td>\n",
       "      <td>F</td>\n",
       "      <td>пенсионер</td>\n",
       "      <td>0</td>\n",
       "      <td>158616.08</td>\n",
       "      <td>сыграть свадьбу</td>\n",
       "      <td>свадьба</td>\n",
       "    </tr>\n",
       "    <tr>\n",
       "      <td>5</td>\n",
       "      <td>0</td>\n",
       "      <td>926</td>\n",
       "      <td>27</td>\n",
       "      <td>высшее</td>\n",
       "      <td>0</td>\n",
       "      <td>гражданский брак</td>\n",
       "      <td>1</td>\n",
       "      <td>M</td>\n",
       "      <td>компаньон</td>\n",
       "      <td>0</td>\n",
       "      <td>255763.57</td>\n",
       "      <td>покупка жилья</td>\n",
       "      <td>жилая недвижимость</td>\n",
       "    </tr>\n",
       "    <tr>\n",
       "      <td>6</td>\n",
       "      <td>0</td>\n",
       "      <td>2879</td>\n",
       "      <td>43</td>\n",
       "      <td>высшее</td>\n",
       "      <td>0</td>\n",
       "      <td>женат / замужем</td>\n",
       "      <td>0</td>\n",
       "      <td>F</td>\n",
       "      <td>компаньон</td>\n",
       "      <td>0</td>\n",
       "      <td>240525.97</td>\n",
       "      <td>операции с жильем</td>\n",
       "      <td>жилая недвижимость</td>\n",
       "    </tr>\n",
       "    <tr>\n",
       "      <td>7</td>\n",
       "      <td>0</td>\n",
       "      <td>152</td>\n",
       "      <td>50</td>\n",
       "      <td>среднее</td>\n",
       "      <td>1</td>\n",
       "      <td>женат / замужем</td>\n",
       "      <td>0</td>\n",
       "      <td>M</td>\n",
       "      <td>сотрудник</td>\n",
       "      <td>0</td>\n",
       "      <td>135823.93</td>\n",
       "      <td>образование</td>\n",
       "      <td>образование</td>\n",
       "    </tr>\n",
       "    <tr>\n",
       "      <td>8</td>\n",
       "      <td>2</td>\n",
       "      <td>6929</td>\n",
       "      <td>35</td>\n",
       "      <td>высшее</td>\n",
       "      <td>0</td>\n",
       "      <td>гражданский брак</td>\n",
       "      <td>1</td>\n",
       "      <td>F</td>\n",
       "      <td>сотрудник</td>\n",
       "      <td>0</td>\n",
       "      <td>95856.83</td>\n",
       "      <td>на проведение свадьбы</td>\n",
       "      <td>свадьба</td>\n",
       "    </tr>\n",
       "    <tr>\n",
       "      <td>9</td>\n",
       "      <td>0</td>\n",
       "      <td>2188</td>\n",
       "      <td>41</td>\n",
       "      <td>среднее</td>\n",
       "      <td>1</td>\n",
       "      <td>женат / замужем</td>\n",
       "      <td>0</td>\n",
       "      <td>M</td>\n",
       "      <td>сотрудник</td>\n",
       "      <td>0</td>\n",
       "      <td>144425.94</td>\n",
       "      <td>покупка жилья для семьи</td>\n",
       "      <td>жилая недвижимость</td>\n",
       "    </tr>\n",
       "  </tbody>\n",
       "</table>\n",
       "</div>"
      ],
      "text/plain": [
       "   children  days_employed  dob_years education  education_id  \\\n",
       "0         1           8437         42    высшее             0   \n",
       "1         1           4024         36   среднее             1   \n",
       "2         0           5623         33   среднее             1   \n",
       "3         3           4124         32   среднее             1   \n",
       "4         0           3402         53   среднее             1   \n",
       "5         0            926         27    высшее             0   \n",
       "6         0           2879         43    высшее             0   \n",
       "7         0            152         50   среднее             1   \n",
       "8         2           6929         35    высшее             0   \n",
       "9         0           2188         41   среднее             1   \n",
       "\n",
       "      family_status  family_status_id gender income_type  debt  total_income  \\\n",
       "0   женат / замужем                 0      F   сотрудник     0     253875.64   \n",
       "1   женат / замужем                 0      F   сотрудник     0     112080.01   \n",
       "2   женат / замужем                 0      M   сотрудник     0     145885.95   \n",
       "3   женат / замужем                 0      M   сотрудник     0     267628.55   \n",
       "4  гражданский брак                 1      F   пенсионер     0     158616.08   \n",
       "5  гражданский брак                 1      M   компаньон     0     255763.57   \n",
       "6   женат / замужем                 0      F   компаньон     0     240525.97   \n",
       "7   женат / замужем                 0      M   сотрудник     0     135823.93   \n",
       "8  гражданский брак                 1      F   сотрудник     0      95856.83   \n",
       "9   женат / замужем                 0      M   сотрудник     0     144425.94   \n",
       "\n",
       "                      purpose         credit_goal  \n",
       "0               покупка жилья  жилая недвижимость  \n",
       "1     приобретение автомобиля          автомобиль  \n",
       "2               покупка жилья  жилая недвижимость  \n",
       "3  дополнительное образование         образование  \n",
       "4             сыграть свадьбу             свадьба  \n",
       "5               покупка жилья  жилая недвижимость  \n",
       "6           операции с жильем  жилая недвижимость  \n",
       "7                 образование         образование  \n",
       "8       на проведение свадьбы             свадьба  \n",
       "9     покупка жилья для семьи  жилая недвижимость  "
      ]
     },
     "execution_count": 63,
     "metadata": {},
     "output_type": "execute_result"
    }
   ],
   "source": [
    "# рассмотрим текущий вид датасета: \n",
    "df.head(10)"
   ]
  },
  {
   "cell_type": "markdown",
   "metadata": {},
   "source": [
    "**Вывод**"
   ]
  },
  {
   "cell_type": "markdown",
   "metadata": {},
   "source": [
    "Лемматизация столбца __purpose__ — цель получения кредита позволила выделить пять целей получения кредита. \n",
    "\n",
    "В таком виде датасет готов к выделению категорий заемщиков и проверке гипотез. "
   ]
  },
  {
   "cell_type": "markdown",
   "metadata": {},
   "source": [
    "### Категоризация данных"
   ]
  },
  {
   "cell_type": "markdown",
   "metadata": {},
   "source": [
    "Наметим возможные категории заемщиков: \n",
    "1. Семейный статус: семейные (женат / замужем, гражданский брак) и несемейные (вдовец / вдова, в разводе, Не женат / не замужем)\n",
    "2. Наличие детей: с детьми и без детей\n",
    "3. По типу занятости: наемные сотрудники, инвесторы, незанятые\n",
    "4. По общему текущему стажу: минимальный (до года), средний (от 1 до 3 лет), продолжительный (более 3-х лет) \n",
    "5. По уровню дохода: минимальный (до 50 тыс.), средний (от 50 до 150) высокий (более 150)"
   ]
  },
  {
   "cell_type": "markdown",
   "metadata": {},
   "source": [
    "##### Добавим категории"
   ]
  },
  {
   "cell_type": "code",
   "execution_count": 64,
   "metadata": {},
   "outputs": [],
   "source": [
    "# создадим функцию определения семейного статуса:\n",
    "def martial_status(row):\n",
    "    status = row['family_status']\n",
    "    \n",
    "    if status in ['женат / замужем', 'гражданский брак']:\n",
    "        return 'семейные'\n",
    "\n",
    "    return 'несемейные'\n",
    "\n",
    "df['martial_status'] = df.apply(martial_status, axis=1)"
   ]
  },
  {
   "cell_type": "code",
   "execution_count": 65,
   "metadata": {},
   "outputs": [
    {
     "data": {
      "text/plain": [
       "21453"
      ]
     },
     "execution_count": 65,
     "metadata": {},
     "output_type": "execute_result"
    }
   ],
   "source": [
    "df['martial_status'].size"
   ]
  },
  {
   "cell_type": "code",
   "execution_count": 66,
   "metadata": {},
   "outputs": [],
   "source": [
    "# создадим функцию определения категории детности:\n",
    "def children_status(row):\n",
    "    status = row['children']\n",
    "    \n",
    "    if status == 0:\n",
    "        return 'без детей'\n",
    "\n",
    "    return 'с детьми'\n",
    "\n",
    "df['children_status'] = df.apply(children_status, axis=1)"
   ]
  },
  {
   "cell_type": "code",
   "execution_count": 67,
   "metadata": {},
   "outputs": [
    {
     "data": {
      "text/plain": [
       "21453"
      ]
     },
     "execution_count": 67,
     "metadata": {},
     "output_type": "execute_result"
    }
   ],
   "source": [
    "df['children_status'].size"
   ]
  },
  {
   "cell_type": "code",
   "execution_count": 68,
   "metadata": {},
   "outputs": [],
   "source": [
    "# создадим функцию определения статуса занятости:\n",
    "def employment_status(row):\n",
    "    status = row['income_type']\n",
    "    \n",
    "    if status in (['сотрудник', 'пенсионер', 'госслужащий', 'студент']):\n",
    "        if (row['days_employed'] > 0):\n",
    "            return 'наемные сотрудники'\n",
    "    if status in ['компаньон', 'предприниматель']: \n",
    "        if (row['days_employed'] > 0): \n",
    "            return 'инвесторы'\n",
    "    return 'незанятые'\n",
    "\n",
    "df['employment_status'] = df.apply(employment_status, axis=1)"
   ]
  },
  {
   "cell_type": "code",
   "execution_count": 69,
   "metadata": {},
   "outputs": [
    {
     "data": {
      "text/plain": [
       "21453"
      ]
     },
     "execution_count": 69,
     "metadata": {},
     "output_type": "execute_result"
    }
   ],
   "source": [
    "df['employment_status'].size"
   ]
  },
  {
   "cell_type": "code",
   "execution_count": 70,
   "metadata": {},
   "outputs": [],
   "source": [
    "# создадим функцию определения стажа:\n",
    "def experience(row):\n",
    "    status = row['days_employed']\n",
    "    \n",
    "    if status < 365:\n",
    "        return 'минимальный'\n",
    "    \n",
    "    if status > 365*3: \n",
    "        return 'продолжительный'\n",
    "\n",
    "    return 'средний'\n",
    "\n",
    "df['experience'] = df.apply(experience, axis=1)"
   ]
  },
  {
   "cell_type": "code",
   "execution_count": 71,
   "metadata": {},
   "outputs": [
    {
     "data": {
      "text/plain": [
       "21453"
      ]
     },
     "execution_count": 71,
     "metadata": {},
     "output_type": "execute_result"
    }
   ],
   "source": [
    "df['experience'].size"
   ]
  },
  {
   "cell_type": "code",
   "execution_count": 72,
   "metadata": {},
   "outputs": [],
   "source": [
    "# создадим функцию определения уровня дохода:\n",
    "def income(row):\n",
    "    status = row['total_income']\n",
    "    \n",
    "    if status < 50000:\n",
    "        return 'минимальный'\n",
    "    \n",
    "    if status > 150000: \n",
    "        return 'высокий'\n",
    "\n",
    "    return 'средний'\n",
    "\n",
    "df['income'] = df.apply(income, axis=1)"
   ]
  },
  {
   "cell_type": "code",
   "execution_count": 73,
   "metadata": {},
   "outputs": [
    {
     "data": {
      "text/plain": [
       "21453"
      ]
     },
     "execution_count": 73,
     "metadata": {},
     "output_type": "execute_result"
    }
   ],
   "source": [
    "df['income'].size"
   ]
  },
  {
   "cell_type": "code",
   "execution_count": 74,
   "metadata": {},
   "outputs": [
    {
     "data": {
      "text/html": [
       "<div>\n",
       "<style scoped>\n",
       "    .dataframe tbody tr th:only-of-type {\n",
       "        vertical-align: middle;\n",
       "    }\n",
       "\n",
       "    .dataframe tbody tr th {\n",
       "        vertical-align: top;\n",
       "    }\n",
       "\n",
       "    .dataframe thead th {\n",
       "        text-align: right;\n",
       "    }\n",
       "</style>\n",
       "<table border=\"1\" class=\"dataframe\">\n",
       "  <thead>\n",
       "    <tr style=\"text-align: right;\">\n",
       "      <th></th>\n",
       "      <th>children</th>\n",
       "      <th>days_employed</th>\n",
       "      <th>dob_years</th>\n",
       "      <th>education</th>\n",
       "      <th>education_id</th>\n",
       "      <th>family_status</th>\n",
       "      <th>family_status_id</th>\n",
       "      <th>gender</th>\n",
       "      <th>income_type</th>\n",
       "      <th>debt</th>\n",
       "      <th>total_income</th>\n",
       "      <th>purpose</th>\n",
       "      <th>credit_goal</th>\n",
       "      <th>martial_status</th>\n",
       "      <th>children_status</th>\n",
       "      <th>employment_status</th>\n",
       "      <th>experience</th>\n",
       "      <th>income</th>\n",
       "    </tr>\n",
       "  </thead>\n",
       "  <tbody>\n",
       "    <tr>\n",
       "      <td>0</td>\n",
       "      <td>1</td>\n",
       "      <td>8437</td>\n",
       "      <td>42</td>\n",
       "      <td>высшее</td>\n",
       "      <td>0</td>\n",
       "      <td>женат / замужем</td>\n",
       "      <td>0</td>\n",
       "      <td>F</td>\n",
       "      <td>сотрудник</td>\n",
       "      <td>0</td>\n",
       "      <td>253875.64</td>\n",
       "      <td>покупка жилья</td>\n",
       "      <td>жилая недвижимость</td>\n",
       "      <td>семейные</td>\n",
       "      <td>с детьми</td>\n",
       "      <td>наемные сотрудники</td>\n",
       "      <td>продолжительный</td>\n",
       "      <td>высокий</td>\n",
       "    </tr>\n",
       "    <tr>\n",
       "      <td>1</td>\n",
       "      <td>1</td>\n",
       "      <td>4024</td>\n",
       "      <td>36</td>\n",
       "      <td>среднее</td>\n",
       "      <td>1</td>\n",
       "      <td>женат / замужем</td>\n",
       "      <td>0</td>\n",
       "      <td>F</td>\n",
       "      <td>сотрудник</td>\n",
       "      <td>0</td>\n",
       "      <td>112080.01</td>\n",
       "      <td>приобретение автомобиля</td>\n",
       "      <td>автомобиль</td>\n",
       "      <td>семейные</td>\n",
       "      <td>с детьми</td>\n",
       "      <td>наемные сотрудники</td>\n",
       "      <td>продолжительный</td>\n",
       "      <td>средний</td>\n",
       "    </tr>\n",
       "    <tr>\n",
       "      <td>2</td>\n",
       "      <td>0</td>\n",
       "      <td>5623</td>\n",
       "      <td>33</td>\n",
       "      <td>среднее</td>\n",
       "      <td>1</td>\n",
       "      <td>женат / замужем</td>\n",
       "      <td>0</td>\n",
       "      <td>M</td>\n",
       "      <td>сотрудник</td>\n",
       "      <td>0</td>\n",
       "      <td>145885.95</td>\n",
       "      <td>покупка жилья</td>\n",
       "      <td>жилая недвижимость</td>\n",
       "      <td>семейные</td>\n",
       "      <td>без детей</td>\n",
       "      <td>наемные сотрудники</td>\n",
       "      <td>продолжительный</td>\n",
       "      <td>средний</td>\n",
       "    </tr>\n",
       "    <tr>\n",
       "      <td>3</td>\n",
       "      <td>3</td>\n",
       "      <td>4124</td>\n",
       "      <td>32</td>\n",
       "      <td>среднее</td>\n",
       "      <td>1</td>\n",
       "      <td>женат / замужем</td>\n",
       "      <td>0</td>\n",
       "      <td>M</td>\n",
       "      <td>сотрудник</td>\n",
       "      <td>0</td>\n",
       "      <td>267628.55</td>\n",
       "      <td>дополнительное образование</td>\n",
       "      <td>образование</td>\n",
       "      <td>семейные</td>\n",
       "      <td>с детьми</td>\n",
       "      <td>наемные сотрудники</td>\n",
       "      <td>продолжительный</td>\n",
       "      <td>высокий</td>\n",
       "    </tr>\n",
       "    <tr>\n",
       "      <td>4</td>\n",
       "      <td>0</td>\n",
       "      <td>3402</td>\n",
       "      <td>53</td>\n",
       "      <td>среднее</td>\n",
       "      <td>1</td>\n",
       "      <td>гражданский брак</td>\n",
       "      <td>1</td>\n",
       "      <td>F</td>\n",
       "      <td>пенсионер</td>\n",
       "      <td>0</td>\n",
       "      <td>158616.08</td>\n",
       "      <td>сыграть свадьбу</td>\n",
       "      <td>свадьба</td>\n",
       "      <td>семейные</td>\n",
       "      <td>без детей</td>\n",
       "      <td>наемные сотрудники</td>\n",
       "      <td>продолжительный</td>\n",
       "      <td>высокий</td>\n",
       "    </tr>\n",
       "  </tbody>\n",
       "</table>\n",
       "</div>"
      ],
      "text/plain": [
       "   children  days_employed  dob_years education  education_id  \\\n",
       "0         1           8437         42    высшее             0   \n",
       "1         1           4024         36   среднее             1   \n",
       "2         0           5623         33   среднее             1   \n",
       "3         3           4124         32   среднее             1   \n",
       "4         0           3402         53   среднее             1   \n",
       "\n",
       "      family_status  family_status_id gender income_type  debt  total_income  \\\n",
       "0   женат / замужем                 0      F   сотрудник     0     253875.64   \n",
       "1   женат / замужем                 0      F   сотрудник     0     112080.01   \n",
       "2   женат / замужем                 0      M   сотрудник     0     145885.95   \n",
       "3   женат / замужем                 0      M   сотрудник     0     267628.55   \n",
       "4  гражданский брак                 1      F   пенсионер     0     158616.08   \n",
       "\n",
       "                      purpose         credit_goal martial_status  \\\n",
       "0               покупка жилья  жилая недвижимость       семейные   \n",
       "1     приобретение автомобиля          автомобиль       семейные   \n",
       "2               покупка жилья  жилая недвижимость       семейные   \n",
       "3  дополнительное образование         образование       семейные   \n",
       "4             сыграть свадьбу             свадьба       семейные   \n",
       "\n",
       "  children_status   employment_status       experience   income  \n",
       "0        с детьми  наемные сотрудники  продолжительный  высокий  \n",
       "1        с детьми  наемные сотрудники  продолжительный  средний  \n",
       "2       без детей  наемные сотрудники  продолжительный  средний  \n",
       "3        с детьми  наемные сотрудники  продолжительный  высокий  \n",
       "4       без детей  наемные сотрудники  продолжительный  высокий  "
      ]
     },
     "execution_count": 74,
     "metadata": {},
     "output_type": "execute_result"
    }
   ],
   "source": [
    "df.head()"
   ]
  },
  {
   "cell_type": "markdown",
   "metadata": {},
   "source": [
    "**Вывод**"
   ]
  },
  {
   "cell_type": "markdown",
   "metadata": {},
   "source": [
    "Категоризация данных по признакам наличия детей, семейному статусу, типу занятости, уровню дохода и стажу позволит провести анализ зависимостей между категориями и сроком погашения кредита. "
   ]
  },
  {
   "cell_type": "markdown",
   "metadata": {},
   "source": [
    "## Шаг 3. Ответьте на вопросы"
   ]
  },
  {
   "cell_type": "markdown",
   "metadata": {},
   "source": [
    "- Есть ли зависимость между наличием детей и возвратом кредита в срок?"
   ]
  },
  {
   "cell_type": "code",
   "execution_count": 75,
   "metadata": {},
   "outputs": [
    {
     "data": {
      "text/html": [
       "<style  type=\"text/css\" >\n",
       "</style><table id=\"T_50ccda44_60b1_11ec_994c_02420a395090\" ><thead>    <tr>        <th class=\"blank level0\" ></th>        <th class=\"col_heading level0 col0\" >count</th>        <th class=\"col_heading level0 col1\" >mean</th>    </tr>    <tr>        <th class=\"index_name level0\" >children</th>        <th class=\"blank\" ></th>        <th class=\"blank\" ></th>    </tr></thead><tbody>\n",
       "                <tr>\n",
       "                        <th id=\"T_50ccda44_60b1_11ec_994c_02420a395090level0_row0\" class=\"row_heading level0 row0\" >0</th>\n",
       "                        <td id=\"T_50ccda44_60b1_11ec_994c_02420a395090row0_col0\" class=\"data row0 col0\" >14090</td>\n",
       "                        <td id=\"T_50ccda44_60b1_11ec_994c_02420a395090row0_col1\" class=\"data row0 col1\" >7.54%</td>\n",
       "            </tr>\n",
       "            <tr>\n",
       "                        <th id=\"T_50ccda44_60b1_11ec_994c_02420a395090level0_row1\" class=\"row_heading level0 row1\" >1</th>\n",
       "                        <td id=\"T_50ccda44_60b1_11ec_994c_02420a395090row1_col0\" class=\"data row1 col0\" >4855</td>\n",
       "                        <td id=\"T_50ccda44_60b1_11ec_994c_02420a395090row1_col1\" class=\"data row1 col1\" >9.17%</td>\n",
       "            </tr>\n",
       "            <tr>\n",
       "                        <th id=\"T_50ccda44_60b1_11ec_994c_02420a395090level0_row2\" class=\"row_heading level0 row2\" >2</th>\n",
       "                        <td id=\"T_50ccda44_60b1_11ec_994c_02420a395090row2_col0\" class=\"data row2 col0\" >2128</td>\n",
       "                        <td id=\"T_50ccda44_60b1_11ec_994c_02420a395090row2_col1\" class=\"data row2 col1\" >9.49%</td>\n",
       "            </tr>\n",
       "            <tr>\n",
       "                        <th id=\"T_50ccda44_60b1_11ec_994c_02420a395090level0_row3\" class=\"row_heading level0 row3\" >3</th>\n",
       "                        <td id=\"T_50ccda44_60b1_11ec_994c_02420a395090row3_col0\" class=\"data row3 col0\" >330</td>\n",
       "                        <td id=\"T_50ccda44_60b1_11ec_994c_02420a395090row3_col1\" class=\"data row3 col1\" >8.18%</td>\n",
       "            </tr>\n",
       "            <tr>\n",
       "                        <th id=\"T_50ccda44_60b1_11ec_994c_02420a395090level0_row4\" class=\"row_heading level0 row4\" >4</th>\n",
       "                        <td id=\"T_50ccda44_60b1_11ec_994c_02420a395090row4_col0\" class=\"data row4 col0\" >41</td>\n",
       "                        <td id=\"T_50ccda44_60b1_11ec_994c_02420a395090row4_col1\" class=\"data row4 col1\" >9.76%</td>\n",
       "            </tr>\n",
       "            <tr>\n",
       "                        <th id=\"T_50ccda44_60b1_11ec_994c_02420a395090level0_row5\" class=\"row_heading level0 row5\" >5</th>\n",
       "                        <td id=\"T_50ccda44_60b1_11ec_994c_02420a395090row5_col0\" class=\"data row5 col0\" >9</td>\n",
       "                        <td id=\"T_50ccda44_60b1_11ec_994c_02420a395090row5_col1\" class=\"data row5 col1\" >0.00%</td>\n",
       "            </tr>\n",
       "    </tbody></table>"
      ],
      "text/plain": [
       "<pandas.io.formats.style.Styler at 0x7fb8d5375f90>"
      ]
     },
     "execution_count": 75,
     "metadata": {},
     "output_type": "execute_result"
    }
   ],
   "source": [
    "# рассмотрим размер групп выборки по наличию детей и проценту просрочки по кредиту в каждой группе: \n",
    "df.groupby('children').debt.agg(['count','mean']).style.format({'mean':'{:.2%}'})"
   ]
  },
  {
   "cell_type": "markdown",
   "metadata": {},
   "source": [
    "**Вывод**"
   ]
  },
  {
   "cell_type": "markdown",
   "metadata": {},
   "source": [
    "Данный расчет показывает зависимость риска задолженности от наличия детей, также риск задолженности возрастает с увеличением количества детей. "
   ]
  },
  {
   "cell_type": "markdown",
   "metadata": {},
   "source": [
    "- Есть ли зависимость между семейным положением и возвратом кредита в срок?"
   ]
  },
  {
   "cell_type": "markdown",
   "metadata": {},
   "source": [
    "Рассмотрим два варианта: \n",
    "1. по столбцу martial_status - проверим гипотезу, что одиноким проще выплатить долг\n",
    "2. по столбцу family_status - проверим гипотезу зависимости просрочки от формального формления отношений"
   ]
  },
  {
   "cell_type": "code",
   "execution_count": 76,
   "metadata": {},
   "outputs": [
    {
     "data": {
      "text/html": [
       "<style  type=\"text/css\" >\n",
       "</style><table id=\"T_50d0391e_60b1_11ec_994c_02420a395090\" ><thead>    <tr>        <th class=\"blank level0\" ></th>        <th class=\"col_heading level0 col0\" >count</th>        <th class=\"col_heading level0 col1\" >mean</th>    </tr>    <tr>        <th class=\"index_name level0\" >martial_status</th>        <th class=\"blank\" ></th>        <th class=\"blank\" ></th>    </tr></thead><tbody>\n",
       "                <tr>\n",
       "                        <th id=\"T_50d0391e_60b1_11ec_994c_02420a395090level0_row0\" class=\"row_heading level0 row0\" >несемейные</th>\n",
       "                        <td id=\"T_50d0391e_60b1_11ec_994c_02420a395090row0_col0\" class=\"data row0 col0\" >4964</td>\n",
       "                        <td id=\"T_50d0391e_60b1_11ec_994c_02420a395090row0_col1\" class=\"data row0 col1\" >8.50%</td>\n",
       "            </tr>\n",
       "            <tr>\n",
       "                        <th id=\"T_50d0391e_60b1_11ec_994c_02420a395090level0_row1\" class=\"row_heading level0 row1\" >семейные</th>\n",
       "                        <td id=\"T_50d0391e_60b1_11ec_994c_02420a395090row1_col0\" class=\"data row1 col0\" >16489</td>\n",
       "                        <td id=\"T_50d0391e_60b1_11ec_994c_02420a395090row1_col1\" class=\"data row1 col1\" >8.00%</td>\n",
       "            </tr>\n",
       "    </tbody></table>"
      ],
      "text/plain": [
       "<pandas.io.formats.style.Styler at 0x7fb8cc3a1d50>"
      ]
     },
     "execution_count": 76,
     "metadata": {},
     "output_type": "execute_result"
    }
   ],
   "source": [
    "# сгруппируем классификатор задолженности по столбцу martial_status и посчитаем средние значения по каждой категории:\n",
    "df.groupby('martial_status').debt.agg(['count','mean']).style.format({'mean':'{:.2%}'})"
   ]
  },
  {
   "cell_type": "code",
   "execution_count": 77,
   "metadata": {},
   "outputs": [
    {
     "data": {
      "text/html": [
       "<style  type=\"text/css\" >\n",
       "</style><table id=\"T_50d44482_60b1_11ec_994c_02420a395090\" ><thead>    <tr>        <th class=\"blank level0\" ></th>        <th class=\"col_heading level0 col0\" >count</th>        <th class=\"col_heading level0 col1\" >mean</th>    </tr>    <tr>        <th class=\"index_name level0\" >family_status</th>        <th class=\"blank\" ></th>        <th class=\"blank\" ></th>    </tr></thead><tbody>\n",
       "                <tr>\n",
       "                        <th id=\"T_50d44482_60b1_11ec_994c_02420a395090level0_row0\" class=\"row_heading level0 row0\" >неженат / незамужем</th>\n",
       "                        <td id=\"T_50d44482_60b1_11ec_994c_02420a395090row0_col0\" class=\"data row0 col0\" >2810</td>\n",
       "                        <td id=\"T_50d44482_60b1_11ec_994c_02420a395090row0_col1\" class=\"data row0 col1\" >9.75%</td>\n",
       "            </tr>\n",
       "            <tr>\n",
       "                        <th id=\"T_50d44482_60b1_11ec_994c_02420a395090level0_row1\" class=\"row_heading level0 row1\" >гражданский брак</th>\n",
       "                        <td id=\"T_50d44482_60b1_11ec_994c_02420a395090row1_col0\" class=\"data row1 col0\" >4150</td>\n",
       "                        <td id=\"T_50d44482_60b1_11ec_994c_02420a395090row1_col1\" class=\"data row1 col1\" >9.35%</td>\n",
       "            </tr>\n",
       "            <tr>\n",
       "                        <th id=\"T_50d44482_60b1_11ec_994c_02420a395090level0_row2\" class=\"row_heading level0 row2\" >женат / замужем</th>\n",
       "                        <td id=\"T_50d44482_60b1_11ec_994c_02420a395090row2_col0\" class=\"data row2 col0\" >12339</td>\n",
       "                        <td id=\"T_50d44482_60b1_11ec_994c_02420a395090row2_col1\" class=\"data row2 col1\" >7.55%</td>\n",
       "            </tr>\n",
       "            <tr>\n",
       "                        <th id=\"T_50d44482_60b1_11ec_994c_02420a395090level0_row3\" class=\"row_heading level0 row3\" >в разводе</th>\n",
       "                        <td id=\"T_50d44482_60b1_11ec_994c_02420a395090row3_col0\" class=\"data row3 col0\" >1195</td>\n",
       "                        <td id=\"T_50d44482_60b1_11ec_994c_02420a395090row3_col1\" class=\"data row3 col1\" >7.11%</td>\n",
       "            </tr>\n",
       "            <tr>\n",
       "                        <th id=\"T_50d44482_60b1_11ec_994c_02420a395090level0_row4\" class=\"row_heading level0 row4\" >вдовец / вдова</th>\n",
       "                        <td id=\"T_50d44482_60b1_11ec_994c_02420a395090row4_col0\" class=\"data row4 col0\" >959</td>\n",
       "                        <td id=\"T_50d44482_60b1_11ec_994c_02420a395090row4_col1\" class=\"data row4 col1\" >6.57%</td>\n",
       "            </tr>\n",
       "    </tbody></table>"
      ],
      "text/plain": [
       "<pandas.io.formats.style.Styler at 0x7fb930c02bd0>"
      ]
     },
     "execution_count": 77,
     "metadata": {},
     "output_type": "execute_result"
    }
   ],
   "source": [
    "# сгруппируем классификатор задолженности по столбцу family_status и посчитаем средние значения по каждой категории:\n",
    "df.groupby('family_status').debt.agg(['count','mean']).sort_values(['mean'],ascending=False).style.format({'mean':'{:.2%}'})"
   ]
  },
  {
   "cell_type": "markdown",
   "metadata": {},
   "source": [
    "**Вывод**"
   ]
  },
  {
   "cell_type": "markdown",
   "metadata": {},
   "source": [
    "В общем и целом, семейные несколько реже допускают просрочку, чем несемейные. \n",
    "Однако при рассмотрении столбца семейное положение с более дробным классификатором, оказывается, что максимальный риск задолженности допускают две группы не женатые / не замужние и состоящие в гражданском браке. \n",
    "<br>Таким образом, есть зависимость риска задолженности и семейного положения заемщика. "
   ]
  },
  {
   "cell_type": "markdown",
   "metadata": {},
   "source": [
    "- Есть ли зависимость между уровнем дохода и возвратом кредита в срок?"
   ]
  },
  {
   "cell_type": "code",
   "execution_count": 78,
   "metadata": {
    "scrolled": true
   },
   "outputs": [
    {
     "data": {
      "text/html": [
       "<style  type=\"text/css\" >\n",
       "</style><table id=\"T_50d6d2a6_60b1_11ec_994c_02420a395090\" ><thead>    <tr>        <th class=\"blank level0\" ></th>        <th class=\"col_heading level0 col0\" >count</th>        <th class=\"col_heading level0 col1\" >mean</th>    </tr>    <tr>        <th class=\"index_name level0\" >income</th>        <th class=\"blank\" ></th>        <th class=\"blank\" ></th>    </tr></thead><tbody>\n",
       "                <tr>\n",
       "                        <th id=\"T_50d6d2a6_60b1_11ec_994c_02420a395090level0_row0\" class=\"row_heading level0 row0\" >средний</th>\n",
       "                        <td id=\"T_50d6d2a6_60b1_11ec_994c_02420a395090row0_col0\" class=\"data row0 col0\" >11402</td>\n",
       "                        <td id=\"T_50d6d2a6_60b1_11ec_994c_02420a395090row0_col1\" class=\"data row0 col1\" >8.51%</td>\n",
       "            </tr>\n",
       "            <tr>\n",
       "                        <th id=\"T_50d6d2a6_60b1_11ec_994c_02420a395090level0_row1\" class=\"row_heading level0 row1\" >высокий</th>\n",
       "                        <td id=\"T_50d6d2a6_60b1_11ec_994c_02420a395090row1_col0\" class=\"data row1 col0\" >9566</td>\n",
       "                        <td id=\"T_50d6d2a6_60b1_11ec_994c_02420a395090row1_col1\" class=\"data row1 col1\" >7.76%</td>\n",
       "            </tr>\n",
       "            <tr>\n",
       "                        <th id=\"T_50d6d2a6_60b1_11ec_994c_02420a395090level0_row2\" class=\"row_heading level0 row2\" >минимальный</th>\n",
       "                        <td id=\"T_50d6d2a6_60b1_11ec_994c_02420a395090row2_col0\" class=\"data row2 col0\" >485</td>\n",
       "                        <td id=\"T_50d6d2a6_60b1_11ec_994c_02420a395090row2_col1\" class=\"data row2 col1\" >5.98%</td>\n",
       "            </tr>\n",
       "    </tbody></table>"
      ],
      "text/plain": [
       "<pandas.io.formats.style.Styler at 0x7fb8d87a7ed0>"
      ]
     },
     "execution_count": 78,
     "metadata": {},
     "output_type": "execute_result"
    }
   ],
   "source": [
    "# сгруппируем классификатор задолженности по столбцу income и посчитаем средние значения по каждой категории:\n",
    "df.groupby('income').debt.agg(['count','mean']).sort_values(['mean'],ascending=False).style.format({'mean':'{:.2%}'})"
   ]
  },
  {
   "cell_type": "markdown",
   "metadata": {},
   "source": [
    "**Вывод**"
   ]
  },
  {
   "cell_type": "markdown",
   "metadata": {},
   "source": [
    "Уровень доходов имеет скорее обратную корреляцию с вероятностью задолженности. \n",
    "\n",
    "Заемщики со средним уровнем доходов наиболее часто погашают кредит не во время. Наименее обеспеченные - редко доводят до просрочки. "
   ]
  },
  {
   "cell_type": "markdown",
   "metadata": {},
   "source": [
    "- Как разные цели кредита влияют на его возврат в срок?"
   ]
  },
  {
   "cell_type": "code",
   "execution_count": 79,
   "metadata": {},
   "outputs": [
    {
     "data": {
      "text/html": [
       "<style  type=\"text/css\" >\n",
       "</style><table id=\"T_50d94414_60b1_11ec_994c_02420a395090\" ><thead>    <tr>        <th class=\"blank level0\" ></th>        <th class=\"col_heading level0 col0\" >count</th>        <th class=\"col_heading level0 col1\" >mean</th>    </tr>    <tr>        <th class=\"index_name level0\" >credit_goal</th>        <th class=\"blank\" ></th>        <th class=\"blank\" ></th>    </tr></thead><tbody>\n",
       "                <tr>\n",
       "                        <th id=\"T_50d94414_60b1_11ec_994c_02420a395090level0_row0\" class=\"row_heading level0 row0\" >автомобиль</th>\n",
       "                        <td id=\"T_50d94414_60b1_11ec_994c_02420a395090row0_col0\" class=\"data row0 col0\" >4306</td>\n",
       "                        <td id=\"T_50d94414_60b1_11ec_994c_02420a395090row0_col1\" class=\"data row0 col1\" >9.36%</td>\n",
       "            </tr>\n",
       "            <tr>\n",
       "                        <th id=\"T_50d94414_60b1_11ec_994c_02420a395090level0_row1\" class=\"row_heading level0 row1\" >образование</th>\n",
       "                        <td id=\"T_50d94414_60b1_11ec_994c_02420a395090row1_col0\" class=\"data row1 col0\" >4013</td>\n",
       "                        <td id=\"T_50d94414_60b1_11ec_994c_02420a395090row1_col1\" class=\"data row1 col1\" >9.22%</td>\n",
       "            </tr>\n",
       "            <tr>\n",
       "                        <th id=\"T_50d94414_60b1_11ec_994c_02420a395090level0_row2\" class=\"row_heading level0 row2\" >свадьба</th>\n",
       "                        <td id=\"T_50d94414_60b1_11ec_994c_02420a395090row2_col0\" class=\"data row2 col0\" >2324</td>\n",
       "                        <td id=\"T_50d94414_60b1_11ec_994c_02420a395090row2_col1\" class=\"data row2 col1\" >8.00%</td>\n",
       "            </tr>\n",
       "            <tr>\n",
       "                        <th id=\"T_50d94414_60b1_11ec_994c_02420a395090level0_row3\" class=\"row_heading level0 row3\" >коммерческая недвижимость</th>\n",
       "                        <td id=\"T_50d94414_60b1_11ec_994c_02420a395090row3_col0\" class=\"data row3 col0\" >6350</td>\n",
       "                        <td id=\"T_50d94414_60b1_11ec_994c_02420a395090row3_col1\" class=\"data row3 col1\" >7.46%</td>\n",
       "            </tr>\n",
       "            <tr>\n",
       "                        <th id=\"T_50d94414_60b1_11ec_994c_02420a395090level0_row4\" class=\"row_heading level0 row4\" >жилая недвижимость</th>\n",
       "                        <td id=\"T_50d94414_60b1_11ec_994c_02420a395090row4_col0\" class=\"data row4 col0\" >4460</td>\n",
       "                        <td id=\"T_50d94414_60b1_11ec_994c_02420a395090row4_col1\" class=\"data row4 col1\" >6.91%</td>\n",
       "            </tr>\n",
       "    </tbody></table>"
      ],
      "text/plain": [
       "<pandas.io.formats.style.Styler at 0x7fb930c371d0>"
      ]
     },
     "execution_count": 79,
     "metadata": {},
     "output_type": "execute_result"
    }
   ],
   "source": [
    "# сгруппируем классификатор задолженности по столбцу credit_goal и посчитаем средние значения по каждой категории:\n",
    "df.groupby('credit_goal').debt.agg(['count','mean']).sort_values(['mean'],ascending=False).style.format({'mean':'{:.2%}'})"
   ]
  },
  {
   "cell_type": "markdown",
   "metadata": {},
   "source": [
    "**Вывод**"
   ]
  },
  {
   "cell_type": "markdown",
   "metadata": {},
   "source": [
    "Наиболее высок риск просрочки кредита, оформленного на приобретение автомобиля или получение образования. \n",
    "<br>Заемщики, оформляющие кредит на жилую недвижимость реже всего допускают задолженность. "
   ]
  },
  {
   "cell_type": "markdown",
   "metadata": {},
   "source": [
    "## Шаг 4. Общий вывод"
   ]
  },
  {
   "cell_type": "markdown",
   "metadata": {},
   "source": [
    "1. Наличие детей увеличивает вероятность просрочки по кредиту. \n",
    "2. С ростом количества детей вероятность просрочки по кредиту также растет. \n",
    "3. Неженатые/незамужние и состоящие в гражданском браке имеют максимальный риск просрочки среди других групп по признаку семейного положения. \n",
    "4. Различные цели кредита также имеют значение при определении риска просрочки с максимальным значением у автокредита. \n"
   ]
  }
 ],
 "metadata": {
  "ExecuteTimeLog": [
   {
    "duration": 921,
    "start_time": "2021-12-18T13:43:57.797Z"
   },
   {
    "duration": 4,
    "start_time": "2021-12-18T13:43:58.721Z"
   },
   {
    "duration": 129,
    "start_time": "2021-12-18T13:43:58.728Z"
   },
   {
    "duration": 18,
    "start_time": "2021-12-18T13:43:58.859Z"
   },
   {
    "duration": 27,
    "start_time": "2021-12-18T13:43:58.879Z"
   },
   {
    "duration": 504,
    "start_time": "2021-12-18T13:43:58.908Z"
   },
   {
    "duration": 485,
    "start_time": "2021-12-18T13:43:59.414Z"
   },
   {
    "duration": 597,
    "start_time": "2021-12-18T13:43:59.902Z"
   },
   {
    "duration": 12,
    "start_time": "2021-12-18T13:44:00.503Z"
   },
   {
    "duration": 8,
    "start_time": "2021-12-18T13:44:00.518Z"
   },
   {
    "duration": 43,
    "start_time": "2021-12-18T13:44:00.528Z"
   },
   {
    "duration": 23,
    "start_time": "2021-12-18T13:44:00.573Z"
   },
   {
    "duration": 9,
    "start_time": "2021-12-18T13:44:00.599Z"
   },
   {
    "duration": 10,
    "start_time": "2021-12-18T13:44:00.610Z"
   },
   {
    "duration": 47,
    "start_time": "2021-12-18T13:44:00.623Z"
   },
   {
    "duration": 16,
    "start_time": "2021-12-18T13:44:00.672Z"
   },
   {
    "duration": 9,
    "start_time": "2021-12-18T13:44:00.691Z"
   },
   {
    "duration": 11,
    "start_time": "2021-12-18T13:44:00.703Z"
   },
   {
    "duration": 398,
    "start_time": "2021-12-18T13:44:00.716Z"
   },
   {
    "duration": 12,
    "start_time": "2021-12-18T13:44:01.117Z"
   },
   {
    "duration": 10,
    "start_time": "2021-12-18T13:44:01.132Z"
   },
   {
    "duration": 358,
    "start_time": "2021-12-18T13:44:01.144Z"
   },
   {
    "duration": 13,
    "start_time": "2021-12-18T13:44:01.509Z"
   },
   {
    "duration": 332,
    "start_time": "2021-12-18T13:44:01.525Z"
   },
   {
    "duration": 349,
    "start_time": "2021-12-18T13:44:01.859Z"
   },
   {
    "duration": 15,
    "start_time": "2021-12-18T13:44:02.211Z"
   },
   {
    "duration": 48,
    "start_time": "2021-12-18T13:44:02.228Z"
   },
   {
    "duration": 327,
    "start_time": "2021-12-18T13:44:02.279Z"
   },
   {
    "duration": 12,
    "start_time": "2021-12-18T13:44:02.609Z"
   },
   {
    "duration": 45,
    "start_time": "2021-12-18T13:44:02.624Z"
   },
   {
    "duration": 325,
    "start_time": "2021-12-18T13:44:02.672Z"
   },
   {
    "duration": 27,
    "start_time": "2021-12-18T13:44:03.000Z"
   },
   {
    "duration": 39,
    "start_time": "2021-12-18T13:44:03.030Z"
   },
   {
    "duration": 14,
    "start_time": "2021-12-18T13:44:03.072Z"
   },
   {
    "duration": 21,
    "start_time": "2021-12-18T13:44:03.089Z"
   },
   {
    "duration": 12,
    "start_time": "2021-12-18T13:44:03.112Z"
   },
   {
    "duration": 40,
    "start_time": "2021-12-18T13:44:03.127Z"
   },
   {
    "duration": 10,
    "start_time": "2021-12-18T13:44:03.170Z"
   },
   {
    "duration": 11,
    "start_time": "2021-12-18T13:44:03.182Z"
   },
   {
    "duration": 10,
    "start_time": "2021-12-18T13:44:03.196Z"
   },
   {
    "duration": 13,
    "start_time": "2021-12-18T13:44:03.208Z"
   },
   {
    "duration": 13,
    "start_time": "2021-12-18T13:44:03.267Z"
   },
   {
    "duration": 9,
    "start_time": "2021-12-18T13:44:03.282Z"
   },
   {
    "duration": 507,
    "start_time": "2021-12-18T13:44:03.293Z"
   },
   {
    "duration": 11,
    "start_time": "2021-12-18T13:44:03.803Z"
   },
   {
    "duration": 14,
    "start_time": "2021-12-18T13:44:03.817Z"
   },
   {
    "duration": 66,
    "start_time": "2021-12-18T13:44:03.834Z"
   },
   {
    "duration": 8,
    "start_time": "2021-12-18T13:44:03.903Z"
   },
   {
    "duration": 344,
    "start_time": "2021-12-18T13:44:03.913Z"
   },
   {
    "duration": 20,
    "start_time": "2021-12-18T13:44:04.260Z"
   },
   {
    "duration": 7,
    "start_time": "2021-12-18T13:44:04.283Z"
   },
   {
    "duration": 16,
    "start_time": "2021-12-18T13:44:04.293Z"
   },
   {
    "duration": 86,
    "start_time": "2021-12-18T13:44:04.312Z"
   },
   {
    "duration": 27,
    "start_time": "2021-12-18T13:44:04.400Z"
   },
   {
    "duration": 7,
    "start_time": "2021-12-18T13:44:04.430Z"
   },
   {
    "duration": 1002,
    "start_time": "2021-12-18T13:44:04.439Z"
   },
   {
    "duration": 7,
    "start_time": "2021-12-18T13:44:05.444Z"
   },
   {
    "duration": 20,
    "start_time": "2021-12-18T13:44:05.455Z"
   },
   {
    "duration": 6,
    "start_time": "2021-12-18T13:44:05.478Z"
   },
   {
    "duration": 22,
    "start_time": "2021-12-18T13:44:05.487Z"
   },
   {
    "duration": 95,
    "start_time": "2021-12-18T13:44:05.512Z"
   },
   {
    "duration": 13,
    "start_time": "2021-12-18T13:44:05.610Z"
   },
   {
    "duration": 43,
    "start_time": "2021-12-18T13:44:05.625Z"
   },
   {
    "duration": 613,
    "start_time": "2021-12-18T13:44:05.671Z"
   },
   {
    "duration": 6,
    "start_time": "2021-12-18T13:44:06.286Z"
   },
   {
    "duration": 421,
    "start_time": "2021-12-18T13:44:06.295Z"
   },
   {
    "duration": 5,
    "start_time": "2021-12-18T13:44:06.719Z"
   },
   {
    "duration": 669,
    "start_time": "2021-12-18T13:44:06.732Z"
   },
   {
    "duration": 5,
    "start_time": "2021-12-18T13:44:07.404Z"
   },
   {
    "duration": 412,
    "start_time": "2021-12-18T13:44:07.411Z"
   },
   {
    "duration": 5,
    "start_time": "2021-12-18T13:44:07.826Z"
   },
   {
    "duration": 419,
    "start_time": "2021-12-18T13:44:07.833Z"
   },
   {
    "duration": 5,
    "start_time": "2021-12-18T13:44:08.254Z"
   },
   {
    "duration": 29,
    "start_time": "2021-12-18T13:44:08.261Z"
   },
   {
    "duration": 21,
    "start_time": "2021-12-18T13:44:08.292Z"
   },
   {
    "duration": 13,
    "start_time": "2021-12-18T13:44:08.315Z"
   },
   {
    "duration": 41,
    "start_time": "2021-12-18T13:44:08.331Z"
   },
   {
    "duration": 16,
    "start_time": "2021-12-18T13:44:08.375Z"
   },
   {
    "duration": 13,
    "start_time": "2021-12-18T13:44:08.393Z"
   },
   {
    "duration": 8,
    "start_time": "2021-12-18T13:44:08.408Z"
   },
   {
    "duration": 57,
    "start_time": "2021-12-18T13:44:08.419Z"
   },
   {
    "duration": 13,
    "start_time": "2021-12-18T13:44:08.479Z"
   },
   {
    "duration": 11,
    "start_time": "2021-12-18T13:44:08.495Z"
   },
   {
    "duration": 19,
    "start_time": "2021-12-18T13:44:08.508Z"
   },
   {
    "duration": 44,
    "start_time": "2021-12-18T13:44:08.529Z"
   },
   {
    "duration": 9,
    "start_time": "2021-12-18T13:44:08.575Z"
   },
   {
    "duration": 19,
    "start_time": "2021-12-18T13:44:08.586Z"
   },
   {
    "duration": 14,
    "start_time": "2021-12-18T13:44:08.607Z"
   },
   {
    "duration": 50,
    "start_time": "2021-12-18T13:44:08.624Z"
   },
   {
    "duration": 8,
    "start_time": "2021-12-18T15:09:00.266Z"
   },
   {
    "duration": 26,
    "start_time": "2021-12-18T15:10:06.335Z"
   },
   {
    "duration": 18,
    "start_time": "2021-12-18T15:11:58.230Z"
   },
   {
    "duration": 18,
    "start_time": "2021-12-18T15:12:02.112Z"
   },
   {
    "duration": 329,
    "start_time": "2021-12-18T15:13:38.103Z"
   },
   {
    "duration": 357,
    "start_time": "2021-12-18T15:15:13.315Z"
   },
   {
    "duration": 19,
    "start_time": "2021-12-18T15:37:20.780Z"
   },
   {
    "duration": 5135,
    "start_time": "2021-12-18T15:38:06.679Z"
   },
   {
    "duration": 19,
    "start_time": "2021-12-18T15:38:19.976Z"
   },
   {
    "duration": 23,
    "start_time": "2021-12-18T15:38:24.670Z"
   },
   {
    "duration": 387,
    "start_time": "2021-12-18T17:00:10.160Z"
   },
   {
    "duration": 716,
    "start_time": "2021-12-18T17:00:20.744Z"
   },
   {
    "duration": 4,
    "start_time": "2021-12-18T17:00:21.462Z"
   },
   {
    "duration": 78,
    "start_time": "2021-12-18T17:00:21.471Z"
   },
   {
    "duration": 10,
    "start_time": "2021-12-18T17:00:21.551Z"
   },
   {
    "duration": 18,
    "start_time": "2021-12-18T17:00:21.563Z"
   },
   {
    "duration": 751,
    "start_time": "2021-12-18T17:00:21.583Z"
   },
   {
    "duration": 8,
    "start_time": "2021-12-18T17:00:22.330Z"
   },
   {
    "duration": -1,
    "start_time": "2021-12-18T17:00:22.340Z"
   },
   {
    "duration": -9,
    "start_time": "2021-12-18T17:00:22.349Z"
   },
   {
    "duration": -18,
    "start_time": "2021-12-18T17:00:22.359Z"
   },
   {
    "duration": -21,
    "start_time": "2021-12-18T17:00:22.363Z"
   },
   {
    "duration": -25,
    "start_time": "2021-12-18T17:00:22.368Z"
   },
   {
    "duration": -28,
    "start_time": "2021-12-18T17:00:22.372Z"
   },
   {
    "duration": -32,
    "start_time": "2021-12-18T17:00:22.377Z"
   },
   {
    "duration": -35,
    "start_time": "2021-12-18T17:00:22.381Z"
   },
   {
    "duration": -39,
    "start_time": "2021-12-18T17:00:22.385Z"
   },
   {
    "duration": -42,
    "start_time": "2021-12-18T17:00:22.389Z"
   },
   {
    "duration": -45,
    "start_time": "2021-12-18T17:00:22.393Z"
   },
   {
    "duration": -48,
    "start_time": "2021-12-18T17:00:22.397Z"
   },
   {
    "duration": -51,
    "start_time": "2021-12-18T17:00:22.401Z"
   },
   {
    "duration": -54,
    "start_time": "2021-12-18T17:00:22.405Z"
   },
   {
    "duration": -57,
    "start_time": "2021-12-18T17:00:22.409Z"
   },
   {
    "duration": -60,
    "start_time": "2021-12-18T17:00:22.413Z"
   },
   {
    "duration": -63,
    "start_time": "2021-12-18T17:00:22.417Z"
   },
   {
    "duration": -66,
    "start_time": "2021-12-18T17:00:22.421Z"
   },
   {
    "duration": -76,
    "start_time": "2021-12-18T17:00:22.432Z"
   },
   {
    "duration": -79,
    "start_time": "2021-12-18T17:00:22.436Z"
   },
   {
    "duration": -84,
    "start_time": "2021-12-18T17:00:22.441Z"
   },
   {
    "duration": -85,
    "start_time": "2021-12-18T17:00:22.444Z"
   },
   {
    "duration": -88,
    "start_time": "2021-12-18T17:00:22.448Z"
   },
   {
    "duration": -90,
    "start_time": "2021-12-18T17:00:22.452Z"
   },
   {
    "duration": -93,
    "start_time": "2021-12-18T17:00:22.456Z"
   },
   {
    "duration": -96,
    "start_time": "2021-12-18T17:00:22.460Z"
   },
   {
    "duration": -99,
    "start_time": "2021-12-18T17:00:22.464Z"
   },
   {
    "duration": -101,
    "start_time": "2021-12-18T17:00:22.467Z"
   },
   {
    "duration": -104,
    "start_time": "2021-12-18T17:00:22.471Z"
   },
   {
    "duration": -108,
    "start_time": "2021-12-18T17:00:22.475Z"
   },
   {
    "duration": -111,
    "start_time": "2021-12-18T17:00:22.479Z"
   },
   {
    "duration": -114,
    "start_time": "2021-12-18T17:00:22.483Z"
   },
   {
    "duration": -81,
    "start_time": "2021-12-18T17:00:22.487Z"
   },
   {
    "duration": -82,
    "start_time": "2021-12-18T17:00:22.490Z"
   },
   {
    "duration": -86,
    "start_time": "2021-12-18T17:00:22.495Z"
   },
   {
    "duration": -88,
    "start_time": "2021-12-18T17:00:22.498Z"
   },
   {
    "duration": -91,
    "start_time": "2021-12-18T17:00:22.502Z"
   },
   {
    "duration": -94,
    "start_time": "2021-12-18T17:00:22.506Z"
   },
   {
    "duration": -97,
    "start_time": "2021-12-18T17:00:22.510Z"
   },
   {
    "duration": -100,
    "start_time": "2021-12-18T17:00:22.514Z"
   },
   {
    "duration": -103,
    "start_time": "2021-12-18T17:00:22.518Z"
   },
   {
    "duration": -105,
    "start_time": "2021-12-18T17:00:22.522Z"
   },
   {
    "duration": -107,
    "start_time": "2021-12-18T17:00:22.526Z"
   },
   {
    "duration": -108,
    "start_time": "2021-12-18T17:00:22.529Z"
   },
   {
    "duration": -120,
    "start_time": "2021-12-18T17:00:22.542Z"
   },
   {
    "duration": -241,
    "start_time": "2021-12-18T17:00:22.664Z"
   },
   {
    "duration": -266,
    "start_time": "2021-12-18T17:00:22.691Z"
   },
   {
    "duration": -293,
    "start_time": "2021-12-18T17:00:22.719Z"
   },
   {
    "duration": -295,
    "start_time": "2021-12-18T17:00:22.723Z"
   },
   {
    "duration": -297,
    "start_time": "2021-12-18T17:00:22.726Z"
   },
   {
    "duration": -299,
    "start_time": "2021-12-18T17:00:22.730Z"
   },
   {
    "duration": -302,
    "start_time": "2021-12-18T17:00:22.734Z"
   },
   {
    "duration": -305,
    "start_time": "2021-12-18T17:00:22.739Z"
   },
   {
    "duration": -326,
    "start_time": "2021-12-18T17:00:22.761Z"
   },
   {
    "duration": -336,
    "start_time": "2021-12-18T17:00:22.773Z"
   },
   {
    "duration": -339,
    "start_time": "2021-12-18T17:00:22.777Z"
   },
   {
    "duration": -376,
    "start_time": "2021-12-18T17:00:22.816Z"
   },
   {
    "duration": -379,
    "start_time": "2021-12-18T17:00:22.821Z"
   },
   {
    "duration": -319,
    "start_time": "2021-12-18T17:00:22.824Z"
   },
   {
    "duration": -321,
    "start_time": "2021-12-18T17:00:22.828Z"
   },
   {
    "duration": -337,
    "start_time": "2021-12-18T17:00:22.846Z"
   },
   {
    "duration": -339,
    "start_time": "2021-12-18T17:00:22.850Z"
   },
   {
    "duration": -342,
    "start_time": "2021-12-18T17:00:22.854Z"
   },
   {
    "duration": -344,
    "start_time": "2021-12-18T17:00:22.858Z"
   },
   {
    "duration": -367,
    "start_time": "2021-12-18T17:00:22.882Z"
   },
   {
    "duration": -369,
    "start_time": "2021-12-18T17:00:22.886Z"
   },
   {
    "duration": -373,
    "start_time": "2021-12-18T17:00:22.890Z"
   },
   {
    "duration": -375,
    "start_time": "2021-12-18T17:00:22.894Z"
   },
   {
    "duration": -388,
    "start_time": "2021-12-18T17:00:22.908Z"
   },
   {
    "duration": -390,
    "start_time": "2021-12-18T17:00:22.911Z"
   },
   {
    "duration": -394,
    "start_time": "2021-12-18T17:00:22.916Z"
   },
   {
    "duration": -411,
    "start_time": "2021-12-18T17:00:22.934Z"
   },
   {
    "duration": -414,
    "start_time": "2021-12-18T17:00:22.938Z"
   },
   {
    "duration": -417,
    "start_time": "2021-12-18T17:00:22.942Z"
   },
   {
    "duration": -420,
    "start_time": "2021-12-18T17:00:22.946Z"
   },
   {
    "duration": -422,
    "start_time": "2021-12-18T17:00:22.949Z"
   },
   {
    "duration": -430,
    "start_time": "2021-12-18T17:00:22.958Z"
   },
   {
    "duration": -432,
    "start_time": "2021-12-18T17:00:22.961Z"
   },
   {
    "duration": -435,
    "start_time": "2021-12-18T17:00:22.965Z"
   },
   {
    "duration": -438,
    "start_time": "2021-12-18T17:00:22.969Z"
   },
   {
    "duration": -443,
    "start_time": "2021-12-18T17:00:22.975Z"
   },
   {
    "duration": -444,
    "start_time": "2021-12-18T17:00:22.978Z"
   },
   {
    "duration": 222,
    "start_time": "2021-12-18T17:00:53.322Z"
   },
   {
    "duration": 260,
    "start_time": "2021-12-18T17:01:34.388Z"
   },
   {
    "duration": 227,
    "start_time": "2021-12-18T17:02:09.882Z"
   },
   {
    "duration": 236,
    "start_time": "2021-12-18T17:03:09.407Z"
   },
   {
    "duration": 238,
    "start_time": "2021-12-18T17:03:45.603Z"
   },
   {
    "duration": 224,
    "start_time": "2021-12-18T17:04:46.929Z"
   },
   {
    "duration": 242,
    "start_time": "2021-12-18T17:07:11.286Z"
   },
   {
    "duration": 11,
    "start_time": "2021-12-18T17:09:14.684Z"
   },
   {
    "duration": 742,
    "start_time": "2021-12-18T17:13:44.019Z"
   },
   {
    "duration": 3,
    "start_time": "2021-12-18T17:13:44.763Z"
   },
   {
    "duration": 63,
    "start_time": "2021-12-18T17:13:44.768Z"
   },
   {
    "duration": 9,
    "start_time": "2021-12-18T17:13:44.833Z"
   },
   {
    "duration": 18,
    "start_time": "2021-12-18T17:13:44.843Z"
   },
   {
    "duration": 322,
    "start_time": "2021-12-18T17:13:44.863Z"
   },
   {
    "duration": 269,
    "start_time": "2021-12-18T17:13:45.186Z"
   },
   {
    "duration": 349,
    "start_time": "2021-12-18T17:13:45.458Z"
   },
   {
    "duration": 7,
    "start_time": "2021-12-18T17:13:45.810Z"
   },
   {
    "duration": 5,
    "start_time": "2021-12-18T17:13:45.819Z"
   },
   {
    "duration": 7,
    "start_time": "2021-12-18T17:13:45.826Z"
   },
   {
    "duration": 13,
    "start_time": "2021-12-18T17:13:45.835Z"
   },
   {
    "duration": 6,
    "start_time": "2021-12-18T17:13:45.849Z"
   },
   {
    "duration": 5,
    "start_time": "2021-12-18T17:13:45.857Z"
   },
   {
    "duration": 45,
    "start_time": "2021-12-18T17:13:45.863Z"
   },
   {
    "duration": 12,
    "start_time": "2021-12-18T17:13:45.910Z"
   },
   {
    "duration": 4,
    "start_time": "2021-12-18T17:13:45.924Z"
   },
   {
    "duration": 8,
    "start_time": "2021-12-18T17:13:45.930Z"
   },
   {
    "duration": 285,
    "start_time": "2021-12-18T17:13:45.939Z"
   },
   {
    "duration": 19,
    "start_time": "2021-12-18T17:13:46.226Z"
   },
   {
    "duration": 6,
    "start_time": "2021-12-18T17:13:46.248Z"
   },
   {
    "duration": 309,
    "start_time": "2021-12-18T17:13:46.256Z"
   },
   {
    "duration": 13,
    "start_time": "2021-12-18T17:13:46.571Z"
   },
   {
    "duration": 240,
    "start_time": "2021-12-18T17:13:46.587Z"
   },
   {
    "duration": 200,
    "start_time": "2021-12-18T17:13:46.829Z"
   },
   {
    "duration": 12,
    "start_time": "2021-12-18T17:13:47.032Z"
   },
   {
    "duration": 21,
    "start_time": "2021-12-18T17:13:47.046Z"
   },
   {
    "duration": 201,
    "start_time": "2021-12-18T17:13:47.069Z"
   },
   {
    "duration": 7,
    "start_time": "2021-12-18T17:13:47.271Z"
   },
   {
    "duration": 10,
    "start_time": "2021-12-18T17:13:47.280Z"
   },
   {
    "duration": 189,
    "start_time": "2021-12-18T17:13:47.306Z"
   },
   {
    "duration": 23,
    "start_time": "2021-12-18T17:13:47.497Z"
   },
   {
    "duration": 12,
    "start_time": "2021-12-18T17:13:47.521Z"
   },
   {
    "duration": 10,
    "start_time": "2021-12-18T17:13:47.535Z"
   },
   {
    "duration": 15,
    "start_time": "2021-12-18T17:13:47.547Z"
   },
   {
    "duration": 11,
    "start_time": "2021-12-18T17:13:47.563Z"
   },
   {
    "duration": 32,
    "start_time": "2021-12-18T17:13:47.575Z"
   },
   {
    "duration": 7,
    "start_time": "2021-12-18T17:13:47.609Z"
   },
   {
    "duration": 11,
    "start_time": "2021-12-18T17:13:47.618Z"
   },
   {
    "duration": 7,
    "start_time": "2021-12-18T17:13:47.630Z"
   },
   {
    "duration": 10,
    "start_time": "2021-12-18T17:13:47.639Z"
   },
   {
    "duration": 8,
    "start_time": "2021-12-18T17:13:47.651Z"
   },
   {
    "duration": 6,
    "start_time": "2021-12-18T17:13:47.661Z"
   },
   {
    "duration": 268,
    "start_time": "2021-12-18T17:13:47.668Z"
   },
   {
    "duration": 9,
    "start_time": "2021-12-18T17:13:47.938Z"
   },
   {
    "duration": 9,
    "start_time": "2021-12-18T17:13:47.948Z"
   },
   {
    "duration": 47,
    "start_time": "2021-12-18T17:13:47.959Z"
   },
   {
    "duration": 7,
    "start_time": "2021-12-18T17:13:48.008Z"
   },
   {
    "duration": 196,
    "start_time": "2021-12-18T17:13:48.016Z"
   },
   {
    "duration": 11,
    "start_time": "2021-12-18T17:13:48.214Z"
   },
   {
    "duration": 5,
    "start_time": "2021-12-18T17:13:48.227Z"
   },
   {
    "duration": 13,
    "start_time": "2021-12-18T17:13:48.234Z"
   },
   {
    "duration": 59,
    "start_time": "2021-12-18T17:13:48.249Z"
   },
   {
    "duration": 18,
    "start_time": "2021-12-18T17:13:48.310Z"
   },
   {
    "duration": 6,
    "start_time": "2021-12-18T17:13:48.329Z"
   },
   {
    "duration": 700,
    "start_time": "2021-12-18T17:13:48.337Z"
   },
   {
    "duration": 3,
    "start_time": "2021-12-18T17:13:49.039Z"
   },
   {
    "duration": 5,
    "start_time": "2021-12-18T17:13:49.044Z"
   },
   {
    "duration": 6,
    "start_time": "2021-12-18T17:13:49.051Z"
   },
   {
    "duration": 11,
    "start_time": "2021-12-18T17:13:49.058Z"
   },
   {
    "duration": 61,
    "start_time": "2021-12-18T17:13:49.071Z"
   },
   {
    "duration": 8,
    "start_time": "2021-12-18T17:13:49.133Z"
   },
   {
    "duration": 14,
    "start_time": "2021-12-18T17:13:49.143Z"
   },
   {
    "duration": 253,
    "start_time": "2021-12-18T17:13:49.159Z"
   },
   {
    "duration": 4,
    "start_time": "2021-12-18T17:13:49.414Z"
   },
   {
    "duration": 245,
    "start_time": "2021-12-18T17:13:49.419Z"
   },
   {
    "duration": 4,
    "start_time": "2021-12-18T17:13:49.666Z"
   },
   {
    "duration": 350,
    "start_time": "2021-12-18T17:13:49.677Z"
   },
   {
    "duration": 4,
    "start_time": "2021-12-18T17:13:50.029Z"
   },
   {
    "duration": 239,
    "start_time": "2021-12-18T17:13:50.034Z"
   },
   {
    "duration": 3,
    "start_time": "2021-12-18T17:13:50.275Z"
   },
   {
    "duration": 250,
    "start_time": "2021-12-18T17:13:50.280Z"
   },
   {
    "duration": 4,
    "start_time": "2021-12-18T17:13:50.531Z"
   },
   {
    "duration": 16,
    "start_time": "2021-12-18T17:13:50.536Z"
   },
   {
    "duration": 22,
    "start_time": "2021-12-18T17:13:50.554Z"
   },
   {
    "duration": 9,
    "start_time": "2021-12-18T17:13:50.577Z"
   },
   {
    "duration": 23,
    "start_time": "2021-12-18T17:13:50.587Z"
   },
   {
    "duration": 19,
    "start_time": "2021-12-18T17:13:50.612Z"
   },
   {
    "duration": 8,
    "start_time": "2021-12-18T17:13:50.633Z"
   },
   {
    "duration": 4,
    "start_time": "2021-12-18T17:13:50.643Z"
   },
   {
    "duration": 12,
    "start_time": "2021-12-18T17:13:50.649Z"
   },
   {
    "duration": 10,
    "start_time": "2021-12-18T17:13:50.662Z"
   },
   {
    "duration": 34,
    "start_time": "2021-12-18T17:13:50.673Z"
   },
   {
    "duration": 9,
    "start_time": "2021-12-18T17:13:50.709Z"
   },
   {
    "duration": 9,
    "start_time": "2021-12-18T17:13:50.719Z"
   },
   {
    "duration": 6,
    "start_time": "2021-12-18T17:13:50.729Z"
   },
   {
    "duration": 13,
    "start_time": "2021-12-18T17:13:50.736Z"
   },
   {
    "duration": 10,
    "start_time": "2021-12-18T17:13:50.751Z"
   },
   {
    "duration": 8,
    "start_time": "2021-12-18T17:13:50.762Z"
   },
   {
    "duration": 354,
    "start_time": "2021-12-18T17:15:56.201Z"
   },
   {
    "duration": 732,
    "start_time": "2021-12-18T17:26:09.247Z"
   },
   {
    "duration": 696,
    "start_time": "2021-12-18T17:30:21.131Z"
   },
   {
    "duration": 395,
    "start_time": "2021-12-18T17:39:02.915Z"
   },
   {
    "duration": 86,
    "start_time": "2021-12-18T17:39:45.662Z"
   },
   {
    "duration": 676,
    "start_time": "2021-12-18T17:39:56.386Z"
   },
   {
    "duration": 495,
    "start_time": "2021-12-18T17:40:04.898Z"
   },
   {
    "duration": 888,
    "start_time": "2021-12-18T17:40:28.949Z"
   },
   {
    "duration": 1118,
    "start_time": "2021-12-18T17:40:42.279Z"
   },
   {
    "duration": 8714,
    "start_time": "2021-12-18T17:50:24.034Z"
   },
   {
    "duration": 8607,
    "start_time": "2021-12-18T17:50:57.930Z"
   },
   {
    "duration": 1718,
    "start_time": "2021-12-18T17:51:13.250Z"
   },
   {
    "duration": 203,
    "start_time": "2021-12-18T17:51:30.414Z"
   },
   {
    "duration": 843,
    "start_time": "2021-12-18T17:53:14.635Z"
   },
   {
    "duration": 5,
    "start_time": "2021-12-18T17:53:15.481Z"
   },
   {
    "duration": 112,
    "start_time": "2021-12-18T17:53:15.488Z"
   },
   {
    "duration": 16,
    "start_time": "2021-12-18T17:53:15.602Z"
   },
   {
    "duration": 27,
    "start_time": "2021-12-18T17:53:15.621Z"
   },
   {
    "duration": 466,
    "start_time": "2021-12-18T17:53:15.650Z"
   },
   {
    "duration": 307,
    "start_time": "2021-12-18T17:53:16.119Z"
   },
   {
    "duration": 3,
    "start_time": "2021-12-18T17:53:16.429Z"
   },
   {
    "duration": 12,
    "start_time": "2021-12-18T17:53:16.434Z"
   },
   {
    "duration": 6,
    "start_time": "2021-12-18T17:53:16.448Z"
   },
   {
    "duration": 7,
    "start_time": "2021-12-18T17:53:16.456Z"
   },
   {
    "duration": 50,
    "start_time": "2021-12-18T17:53:16.466Z"
   },
   {
    "duration": 6,
    "start_time": "2021-12-18T17:53:16.518Z"
   },
   {
    "duration": 5,
    "start_time": "2021-12-18T17:53:16.526Z"
   },
   {
    "duration": 6,
    "start_time": "2021-12-18T17:53:16.533Z"
   },
   {
    "duration": 84,
    "start_time": "2021-12-18T17:53:16.540Z"
   },
   {
    "duration": 9,
    "start_time": "2021-12-18T17:53:16.626Z"
   },
   {
    "duration": 8,
    "start_time": "2021-12-18T17:53:16.636Z"
   },
   {
    "duration": 240,
    "start_time": "2021-12-18T17:53:16.646Z"
   },
   {
    "duration": 24,
    "start_time": "2021-12-18T17:53:16.889Z"
   },
   {
    "duration": 6,
    "start_time": "2021-12-18T17:53:16.915Z"
   },
   {
    "duration": 312,
    "start_time": "2021-12-18T17:53:16.923Z"
   },
   {
    "duration": 14,
    "start_time": "2021-12-18T17:53:17.241Z"
   },
   {
    "duration": 302,
    "start_time": "2021-12-18T17:53:17.259Z"
   },
   {
    "duration": 317,
    "start_time": "2021-12-18T17:53:17.563Z"
   },
   {
    "duration": 24,
    "start_time": "2021-12-18T17:53:17.883Z"
   },
   {
    "duration": 32,
    "start_time": "2021-12-18T17:53:17.910Z"
   },
   {
    "duration": 267,
    "start_time": "2021-12-18T17:53:17.945Z"
   },
   {
    "duration": 9,
    "start_time": "2021-12-18T17:53:18.214Z"
   },
   {
    "duration": 10,
    "start_time": "2021-12-18T17:53:18.225Z"
   },
   {
    "duration": 205,
    "start_time": "2021-12-18T17:53:18.237Z"
   },
   {
    "duration": 19,
    "start_time": "2021-12-18T17:53:18.444Z"
   },
   {
    "duration": 13,
    "start_time": "2021-12-18T17:53:18.464Z"
   },
   {
    "duration": 31,
    "start_time": "2021-12-18T17:53:18.479Z"
   },
   {
    "duration": 15,
    "start_time": "2021-12-18T17:53:18.512Z"
   },
   {
    "duration": 10,
    "start_time": "2021-12-18T17:53:18.528Z"
   },
   {
    "duration": 7,
    "start_time": "2021-12-18T17:53:18.539Z"
   },
   {
    "duration": 7,
    "start_time": "2021-12-18T17:53:18.548Z"
   },
   {
    "duration": 11,
    "start_time": "2021-12-18T17:53:18.557Z"
   },
   {
    "duration": 43,
    "start_time": "2021-12-18T17:53:18.570Z"
   },
   {
    "duration": 9,
    "start_time": "2021-12-18T17:53:18.616Z"
   },
   {
    "duration": 9,
    "start_time": "2021-12-18T17:53:18.626Z"
   },
   {
    "duration": 8,
    "start_time": "2021-12-18T17:53:18.637Z"
   },
   {
    "duration": 363,
    "start_time": "2021-12-18T17:53:18.647Z"
   },
   {
    "duration": 12,
    "start_time": "2021-12-18T17:53:19.012Z"
   },
   {
    "duration": 13,
    "start_time": "2021-12-18T17:53:19.026Z"
   },
   {
    "duration": 29,
    "start_time": "2021-12-18T17:53:19.041Z"
   },
   {
    "duration": 6,
    "start_time": "2021-12-18T17:53:19.071Z"
   },
   {
    "duration": 188,
    "start_time": "2021-12-18T17:53:19.107Z"
   },
   {
    "duration": 18,
    "start_time": "2021-12-18T17:53:19.297Z"
   },
   {
    "duration": 5,
    "start_time": "2021-12-18T17:53:19.317Z"
   },
   {
    "duration": 12,
    "start_time": "2021-12-18T17:53:19.324Z"
   },
   {
    "duration": 32,
    "start_time": "2021-12-18T17:53:19.338Z"
   },
   {
    "duration": 47,
    "start_time": "2021-12-18T17:53:19.372Z"
   },
   {
    "duration": 6,
    "start_time": "2021-12-18T17:53:19.421Z"
   },
   {
    "duration": 1002,
    "start_time": "2021-12-18T17:53:19.429Z"
   },
   {
    "duration": 4,
    "start_time": "2021-12-18T17:53:20.433Z"
   },
   {
    "duration": 5,
    "start_time": "2021-12-18T17:53:20.439Z"
   },
   {
    "duration": 5,
    "start_time": "2021-12-18T17:53:20.446Z"
   },
   {
    "duration": 11,
    "start_time": "2021-12-18T17:53:20.453Z"
   },
   {
    "duration": 72,
    "start_time": "2021-12-18T17:53:20.466Z"
   },
   {
    "duration": 10,
    "start_time": "2021-12-18T17:53:20.540Z"
   },
   {
    "duration": 15,
    "start_time": "2021-12-18T17:53:20.552Z"
   },
   {
    "duration": 271,
    "start_time": "2021-12-18T17:53:20.570Z"
   },
   {
    "duration": 5,
    "start_time": "2021-12-18T17:53:20.842Z"
   },
   {
    "duration": 257,
    "start_time": "2021-12-18T17:53:20.849Z"
   },
   {
    "duration": 5,
    "start_time": "2021-12-18T17:53:21.108Z"
   },
   {
    "duration": 651,
    "start_time": "2021-12-18T17:53:21.120Z"
   },
   {
    "duration": 5,
    "start_time": "2021-12-18T17:53:21.774Z"
   },
   {
    "duration": 264,
    "start_time": "2021-12-18T17:53:21.781Z"
   },
   {
    "duration": 4,
    "start_time": "2021-12-18T17:53:22.047Z"
   },
   {
    "duration": 422,
    "start_time": "2021-12-18T17:53:22.053Z"
   },
   {
    "duration": 5,
    "start_time": "2021-12-18T17:53:22.477Z"
   },
   {
    "duration": 38,
    "start_time": "2021-12-18T17:53:22.484Z"
   },
   {
    "duration": 15,
    "start_time": "2021-12-18T17:53:22.524Z"
   },
   {
    "duration": 8,
    "start_time": "2021-12-18T17:53:22.541Z"
   },
   {
    "duration": 6,
    "start_time": "2021-12-18T17:53:22.551Z"
   },
   {
    "duration": 16,
    "start_time": "2021-12-18T17:53:22.559Z"
   },
   {
    "duration": 35,
    "start_time": "2021-12-18T17:53:22.577Z"
   },
   {
    "duration": 6,
    "start_time": "2021-12-18T17:53:22.615Z"
   },
   {
    "duration": 25,
    "start_time": "2021-12-18T17:53:22.624Z"
   },
   {
    "duration": 15,
    "start_time": "2021-12-18T17:53:22.652Z"
   },
   {
    "duration": 9,
    "start_time": "2021-12-18T17:53:22.669Z"
   },
   {
    "duration": 10,
    "start_time": "2021-12-18T17:53:22.706Z"
   },
   {
    "duration": 11,
    "start_time": "2021-12-18T17:53:22.718Z"
   },
   {
    "duration": 11,
    "start_time": "2021-12-18T17:53:22.731Z"
   },
   {
    "duration": 18,
    "start_time": "2021-12-18T17:53:22.744Z"
   },
   {
    "duration": 22,
    "start_time": "2021-12-18T17:53:22.764Z"
   },
   {
    "duration": 29,
    "start_time": "2021-12-18T17:53:22.788Z"
   },
   {
    "duration": 262137,
    "start_time": "2021-12-18T17:54:48.956Z"
   },
   {
    "duration": 215,
    "start_time": "2021-12-18T17:59:18.443Z"
   },
   {
    "duration": 424,
    "start_time": "2021-12-18T17:59:34.856Z"
   },
   {
    "duration": 278,
    "start_time": "2021-12-18T18:01:22.490Z"
   },
   {
    "duration": 218,
    "start_time": "2021-12-18T18:01:28.857Z"
   },
   {
    "duration": 218,
    "start_time": "2021-12-18T18:02:53.364Z"
   },
   {
    "duration": 1222,
    "start_time": "2021-12-18T18:03:29.817Z"
   },
   {
    "duration": 4,
    "start_time": "2021-12-18T18:03:31.041Z"
   },
   {
    "duration": 75,
    "start_time": "2021-12-18T18:03:31.047Z"
   },
   {
    "duration": 9,
    "start_time": "2021-12-18T18:03:31.124Z"
   },
   {
    "duration": 19,
    "start_time": "2021-12-18T18:03:31.134Z"
   },
   {
    "duration": 255,
    "start_time": "2021-12-18T18:03:31.155Z"
   },
   {
    "duration": 289,
    "start_time": "2021-12-18T18:03:31.412Z"
   },
   {
    "duration": 213,
    "start_time": "2021-12-18T18:03:31.703Z"
   },
   {
    "duration": 219,
    "start_time": "2021-12-18T18:03:31.918Z"
   },
   {
    "duration": 6,
    "start_time": "2021-12-18T18:03:32.139Z"
   },
   {
    "duration": 5,
    "start_time": "2021-12-18T18:03:32.147Z"
   },
   {
    "duration": 8,
    "start_time": "2021-12-18T18:03:32.154Z"
   },
   {
    "duration": 13,
    "start_time": "2021-12-18T18:03:32.164Z"
   },
   {
    "duration": 29,
    "start_time": "2021-12-18T18:03:32.178Z"
   },
   {
    "duration": 8,
    "start_time": "2021-12-18T18:03:32.209Z"
   },
   {
    "duration": 7,
    "start_time": "2021-12-18T18:03:32.219Z"
   },
   {
    "duration": 12,
    "start_time": "2021-12-18T18:03:32.227Z"
   },
   {
    "duration": 3,
    "start_time": "2021-12-18T18:03:32.243Z"
   },
   {
    "duration": 6,
    "start_time": "2021-12-18T18:03:32.249Z"
   },
   {
    "duration": 237,
    "start_time": "2021-12-18T18:03:32.257Z"
   },
   {
    "duration": 17,
    "start_time": "2021-12-18T18:03:32.496Z"
   },
   {
    "duration": 7,
    "start_time": "2021-12-18T18:03:32.514Z"
   },
   {
    "duration": 191,
    "start_time": "2021-12-18T18:03:32.522Z"
   },
   {
    "duration": 8,
    "start_time": "2021-12-18T18:03:32.715Z"
   },
   {
    "duration": 247,
    "start_time": "2021-12-18T18:03:32.725Z"
   },
   {
    "duration": 198,
    "start_time": "2021-12-18T18:03:32.975Z"
   },
   {
    "duration": 10,
    "start_time": "2021-12-18T18:03:33.175Z"
   },
   {
    "duration": 31,
    "start_time": "2021-12-18T18:03:33.187Z"
   },
   {
    "duration": 177,
    "start_time": "2021-12-18T18:03:33.219Z"
   },
   {
    "duration": 11,
    "start_time": "2021-12-18T18:03:33.398Z"
   },
   {
    "duration": 11,
    "start_time": "2021-12-18T18:03:33.410Z"
   },
   {
    "duration": 191,
    "start_time": "2021-12-18T18:03:33.423Z"
   },
   {
    "duration": 17,
    "start_time": "2021-12-18T18:03:33.616Z"
   },
   {
    "duration": 12,
    "start_time": "2021-12-18T18:03:33.635Z"
   },
   {
    "duration": 11,
    "start_time": "2021-12-18T18:03:33.648Z"
   },
   {
    "duration": 14,
    "start_time": "2021-12-18T18:03:33.660Z"
   },
   {
    "duration": 35,
    "start_time": "2021-12-18T18:03:33.676Z"
   },
   {
    "duration": 10,
    "start_time": "2021-12-18T18:03:33.712Z"
   },
   {
    "duration": 7,
    "start_time": "2021-12-18T18:03:33.724Z"
   },
   {
    "duration": 8,
    "start_time": "2021-12-18T18:03:33.732Z"
   },
   {
    "duration": 7,
    "start_time": "2021-12-18T18:03:33.742Z"
   },
   {
    "duration": 9,
    "start_time": "2021-12-18T18:03:33.751Z"
   },
   {
    "duration": 8,
    "start_time": "2021-12-18T18:03:33.762Z"
   },
   {
    "duration": 6,
    "start_time": "2021-12-18T18:03:33.806Z"
   },
   {
    "duration": 226,
    "start_time": "2021-12-18T18:03:33.813Z"
   },
   {
    "duration": 8,
    "start_time": "2021-12-18T18:03:34.041Z"
   },
   {
    "duration": 12,
    "start_time": "2021-12-18T18:03:34.051Z"
   },
   {
    "duration": 43,
    "start_time": "2021-12-18T18:03:34.065Z"
   },
   {
    "duration": 6,
    "start_time": "2021-12-18T18:03:34.109Z"
   },
   {
    "duration": 188,
    "start_time": "2021-12-18T18:03:34.117Z"
   },
   {
    "duration": 10,
    "start_time": "2021-12-18T18:03:34.307Z"
   },
   {
    "duration": 5,
    "start_time": "2021-12-18T18:03:34.319Z"
   },
   {
    "duration": 13,
    "start_time": "2021-12-18T18:03:34.326Z"
   },
   {
    "duration": 32,
    "start_time": "2021-12-18T18:03:34.344Z"
   },
   {
    "duration": 44,
    "start_time": "2021-12-18T18:03:34.379Z"
   },
   {
    "duration": 7,
    "start_time": "2021-12-18T18:03:34.425Z"
   },
   {
    "duration": 673,
    "start_time": "2021-12-18T18:03:34.434Z"
   },
   {
    "duration": 4,
    "start_time": "2021-12-18T18:03:35.109Z"
   },
   {
    "duration": 4,
    "start_time": "2021-12-18T18:03:35.115Z"
   },
   {
    "duration": 16,
    "start_time": "2021-12-18T18:03:35.121Z"
   },
   {
    "duration": 16,
    "start_time": "2021-12-18T18:03:35.139Z"
   },
   {
    "duration": 49,
    "start_time": "2021-12-18T18:03:35.157Z"
   },
   {
    "duration": 8,
    "start_time": "2021-12-18T18:03:35.208Z"
   },
   {
    "duration": 29,
    "start_time": "2021-12-18T18:03:35.218Z"
   },
   {
    "duration": 237,
    "start_time": "2021-12-18T18:03:35.249Z"
   },
   {
    "duration": 4,
    "start_time": "2021-12-18T18:03:35.488Z"
   },
   {
    "duration": 229,
    "start_time": "2021-12-18T18:03:35.494Z"
   },
   {
    "duration": 4,
    "start_time": "2021-12-18T18:03:35.725Z"
   },
   {
    "duration": 391,
    "start_time": "2021-12-18T18:03:35.730Z"
   },
   {
    "duration": 4,
    "start_time": "2021-12-18T18:03:36.123Z"
   },
   {
    "duration": 235,
    "start_time": "2021-12-18T18:03:36.129Z"
   },
   {
    "duration": 4,
    "start_time": "2021-12-18T18:03:36.366Z"
   },
   {
    "duration": 243,
    "start_time": "2021-12-18T18:03:36.372Z"
   },
   {
    "duration": 4,
    "start_time": "2021-12-18T18:03:36.617Z"
   },
   {
    "duration": 15,
    "start_time": "2021-12-18T18:03:36.623Z"
   },
   {
    "duration": 15,
    "start_time": "2021-12-18T18:03:36.639Z"
   },
   {
    "duration": 8,
    "start_time": "2021-12-18T18:03:36.656Z"
   },
   {
    "duration": 5,
    "start_time": "2021-12-18T18:03:36.665Z"
   },
   {
    "duration": 40,
    "start_time": "2021-12-18T18:03:36.672Z"
   },
   {
    "duration": 8,
    "start_time": "2021-12-18T18:03:36.713Z"
   },
   {
    "duration": 5,
    "start_time": "2021-12-18T18:03:36.723Z"
   },
   {
    "duration": 12,
    "start_time": "2021-12-18T18:03:36.729Z"
   },
   {
    "duration": 9,
    "start_time": "2021-12-18T18:03:36.742Z"
   },
   {
    "duration": 8,
    "start_time": "2021-12-18T18:03:36.753Z"
   },
   {
    "duration": 45,
    "start_time": "2021-12-18T18:03:36.762Z"
   },
   {
    "duration": 9,
    "start_time": "2021-12-18T18:03:36.809Z"
   },
   {
    "duration": 6,
    "start_time": "2021-12-18T18:03:36.820Z"
   },
   {
    "duration": 12,
    "start_time": "2021-12-18T18:03:36.827Z"
   },
   {
    "duration": 9,
    "start_time": "2021-12-18T18:03:36.841Z"
   },
   {
    "duration": 8,
    "start_time": "2021-12-18T18:03:36.851Z"
   },
   {
    "duration": 214,
    "start_time": "2021-12-18T18:03:57.336Z"
   },
   {
    "duration": 197,
    "start_time": "2021-12-18T18:04:07.440Z"
   },
   {
    "duration": 206,
    "start_time": "2021-12-18T18:04:22.357Z"
   },
   {
    "duration": 252,
    "start_time": "2021-12-18T18:04:36.158Z"
   },
   {
    "duration": 216,
    "start_time": "2021-12-18T18:04:56.655Z"
   },
   {
    "duration": 316,
    "start_time": "2021-12-18T18:05:03.600Z"
   },
   {
    "duration": 4,
    "start_time": "2021-12-18T18:09:11.428Z"
   },
   {
    "duration": 206,
    "start_time": "2021-12-18T18:09:44.779Z"
   },
   {
    "duration": 168,
    "start_time": "2021-12-18T18:09:47.486Z"
   },
   {
    "duration": 171,
    "start_time": "2021-12-18T18:09:52.718Z"
   },
   {
    "duration": 233,
    "start_time": "2021-12-18T18:10:17.593Z"
   },
   {
    "duration": 194,
    "start_time": "2021-12-18T18:10:22.523Z"
   },
   {
    "duration": 197,
    "start_time": "2021-12-18T18:12:31.747Z"
   },
   {
    "duration": 444,
    "start_time": "2021-12-18T18:12:40.346Z"
   },
   {
    "duration": 196,
    "start_time": "2021-12-18T18:12:46.654Z"
   },
   {
    "duration": 192,
    "start_time": "2021-12-18T18:12:54.606Z"
   },
   {
    "duration": 205,
    "start_time": "2021-12-18T18:13:01.166Z"
   },
   {
    "duration": 174,
    "start_time": "2021-12-18T18:13:20.164Z"
   },
   {
    "duration": 1182,
    "start_time": "2021-12-18T18:13:32.749Z"
   },
   {
    "duration": 3,
    "start_time": "2021-12-18T18:13:33.934Z"
   },
   {
    "duration": 55,
    "start_time": "2021-12-18T18:13:33.939Z"
   },
   {
    "duration": 9,
    "start_time": "2021-12-18T18:13:34.006Z"
   },
   {
    "duration": 18,
    "start_time": "2021-12-18T18:13:34.017Z"
   },
   {
    "duration": 231,
    "start_time": "2021-12-18T18:13:34.037Z"
   },
   {
    "duration": 239,
    "start_time": "2021-12-18T18:13:34.269Z"
   },
   {
    "duration": 235,
    "start_time": "2021-12-18T18:13:34.511Z"
   },
   {
    "duration": 218,
    "start_time": "2021-12-18T18:13:34.748Z"
   },
   {
    "duration": 7,
    "start_time": "2021-12-18T18:13:34.968Z"
   },
   {
    "duration": 4,
    "start_time": "2021-12-18T18:13:34.977Z"
   },
   {
    "duration": 29,
    "start_time": "2021-12-18T18:13:34.983Z"
   },
   {
    "duration": 18,
    "start_time": "2021-12-18T18:13:35.013Z"
   },
   {
    "duration": 6,
    "start_time": "2021-12-18T18:13:35.033Z"
   },
   {
    "duration": 5,
    "start_time": "2021-12-18T18:13:35.041Z"
   },
   {
    "duration": 7,
    "start_time": "2021-12-18T18:13:35.047Z"
   },
   {
    "duration": 3,
    "start_time": "2021-12-18T18:13:35.056Z"
   },
   {
    "duration": 12,
    "start_time": "2021-12-18T18:13:35.061Z"
   },
   {
    "duration": 34,
    "start_time": "2021-12-18T18:13:35.075Z"
   },
   {
    "duration": 185,
    "start_time": "2021-12-18T18:13:35.111Z"
   },
   {
    "duration": 15,
    "start_time": "2021-12-18T18:13:35.298Z"
   },
   {
    "duration": 6,
    "start_time": "2021-12-18T18:13:35.315Z"
   },
   {
    "duration": 203,
    "start_time": "2021-12-18T18:13:35.325Z"
   },
   {
    "duration": 9,
    "start_time": "2021-12-18T18:13:35.531Z"
   },
   {
    "duration": 187,
    "start_time": "2021-12-18T18:13:35.542Z"
   },
   {
    "duration": 261,
    "start_time": "2021-12-18T18:13:35.731Z"
   },
   {
    "duration": 13,
    "start_time": "2021-12-18T18:13:35.994Z"
   },
   {
    "duration": 21,
    "start_time": "2021-12-18T18:13:36.009Z"
   },
   {
    "duration": 204,
    "start_time": "2021-12-18T18:13:36.032Z"
   },
   {
    "duration": 7,
    "start_time": "2021-12-18T18:13:36.239Z"
   },
   {
    "duration": 11,
    "start_time": "2021-12-18T18:13:36.248Z"
   },
   {
    "duration": 207,
    "start_time": "2021-12-18T18:13:36.261Z"
   },
   {
    "duration": 18,
    "start_time": "2021-12-18T18:13:36.470Z"
   },
   {
    "duration": 25,
    "start_time": "2021-12-18T18:13:36.490Z"
   },
   {
    "duration": 10,
    "start_time": "2021-12-18T18:13:36.517Z"
   },
   {
    "duration": 14,
    "start_time": "2021-12-18T18:13:36.529Z"
   },
   {
    "duration": 9,
    "start_time": "2021-12-18T18:13:36.544Z"
   },
   {
    "duration": 8,
    "start_time": "2021-12-18T18:13:36.554Z"
   },
   {
    "duration": 7,
    "start_time": "2021-12-18T18:13:36.563Z"
   },
   {
    "duration": 37,
    "start_time": "2021-12-18T18:13:36.572Z"
   },
   {
    "duration": 9,
    "start_time": "2021-12-18T18:13:36.611Z"
   },
   {
    "duration": 14,
    "start_time": "2021-12-18T18:13:36.622Z"
   },
   {
    "duration": 13,
    "start_time": "2021-12-18T18:13:36.638Z"
   },
   {
    "duration": 7,
    "start_time": "2021-12-18T18:13:36.653Z"
   },
   {
    "duration": 267,
    "start_time": "2021-12-18T18:13:36.662Z"
   },
   {
    "duration": 8,
    "start_time": "2021-12-18T18:13:36.931Z"
   },
   {
    "duration": 10,
    "start_time": "2021-12-18T18:13:36.941Z"
   },
   {
    "duration": 54,
    "start_time": "2021-12-18T18:13:36.953Z"
   },
   {
    "duration": 8,
    "start_time": "2021-12-18T18:13:37.009Z"
   },
   {
    "duration": 200,
    "start_time": "2021-12-18T18:13:37.019Z"
   },
   {
    "duration": 12,
    "start_time": "2021-12-18T18:13:37.221Z"
   },
   {
    "duration": 5,
    "start_time": "2021-12-18T18:13:37.235Z"
   },
   {
    "duration": 16,
    "start_time": "2021-12-18T18:13:37.241Z"
   },
   {
    "duration": 59,
    "start_time": "2021-12-18T18:13:37.258Z"
   },
   {
    "duration": 18,
    "start_time": "2021-12-18T18:13:37.319Z"
   },
   {
    "duration": 5,
    "start_time": "2021-12-18T18:13:37.339Z"
   },
   {
    "duration": 704,
    "start_time": "2021-12-18T18:13:37.346Z"
   },
   {
    "duration": 3,
    "start_time": "2021-12-18T18:13:38.052Z"
   },
   {
    "duration": 4,
    "start_time": "2021-12-18T18:13:38.058Z"
   },
   {
    "duration": 5,
    "start_time": "2021-12-18T18:13:38.063Z"
   },
   {
    "duration": 11,
    "start_time": "2021-12-18T18:13:38.070Z"
   },
   {
    "duration": 40,
    "start_time": "2021-12-18T18:13:38.107Z"
   },
   {
    "duration": 8,
    "start_time": "2021-12-18T18:13:38.149Z"
   },
   {
    "duration": 15,
    "start_time": "2021-12-18T18:13:38.159Z"
   },
   {
    "duration": 285,
    "start_time": "2021-12-18T18:13:38.176Z"
   },
   {
    "duration": 4,
    "start_time": "2021-12-18T18:13:38.463Z"
   },
   {
    "duration": 258,
    "start_time": "2021-12-18T18:13:38.468Z"
   },
   {
    "duration": 5,
    "start_time": "2021-12-18T18:13:38.732Z"
   },
   {
    "duration": 422,
    "start_time": "2021-12-18T18:13:38.739Z"
   },
   {
    "duration": 4,
    "start_time": "2021-12-18T18:13:39.163Z"
   },
   {
    "duration": 254,
    "start_time": "2021-12-18T18:13:39.168Z"
   },
   {
    "duration": 4,
    "start_time": "2021-12-18T18:13:39.423Z"
   },
   {
    "duration": 248,
    "start_time": "2021-12-18T18:13:39.428Z"
   },
   {
    "duration": 5,
    "start_time": "2021-12-18T18:13:39.678Z"
   },
   {
    "duration": 29,
    "start_time": "2021-12-18T18:13:39.685Z"
   },
   {
    "duration": 17,
    "start_time": "2021-12-18T18:13:39.716Z"
   },
   {
    "duration": 10,
    "start_time": "2021-12-18T18:13:39.735Z"
   },
   {
    "duration": 7,
    "start_time": "2021-12-18T18:13:39.746Z"
   },
   {
    "duration": 13,
    "start_time": "2021-12-18T18:13:39.754Z"
   },
   {
    "duration": 41,
    "start_time": "2021-12-18T18:13:39.769Z"
   },
   {
    "duration": 5,
    "start_time": "2021-12-18T18:13:39.812Z"
   },
   {
    "duration": 13,
    "start_time": "2021-12-18T18:13:39.819Z"
   },
   {
    "duration": 9,
    "start_time": "2021-12-18T18:13:39.834Z"
   },
   {
    "duration": 9,
    "start_time": "2021-12-18T18:13:39.845Z"
   },
   {
    "duration": 11,
    "start_time": "2021-12-18T18:13:39.856Z"
   },
   {
    "duration": 43,
    "start_time": "2021-12-18T18:13:39.869Z"
   },
   {
    "duration": 7,
    "start_time": "2021-12-18T18:13:39.914Z"
   },
   {
    "duration": 14,
    "start_time": "2021-12-18T18:13:39.923Z"
   },
   {
    "duration": 9,
    "start_time": "2021-12-18T18:13:39.939Z"
   },
   {
    "duration": 8,
    "start_time": "2021-12-18T18:13:39.950Z"
   },
   {
    "duration": 216,
    "start_time": "2021-12-18T19:20:40.595Z"
   },
   {
    "duration": 607,
    "start_time": "2021-12-18T19:24:37.358Z"
   },
   {
    "duration": 202,
    "start_time": "2021-12-18T19:24:59.539Z"
   },
   {
    "duration": 216,
    "start_time": "2021-12-18T19:25:35.376Z"
   },
   {
    "duration": 205,
    "start_time": "2021-12-18T19:26:59.220Z"
   },
   {
    "duration": 249,
    "start_time": "2021-12-18T19:27:21.500Z"
   },
   {
    "duration": 316,
    "start_time": "2021-12-18T19:27:47.357Z"
   },
   {
    "duration": 247,
    "start_time": "2021-12-18T19:28:42.333Z"
   },
   {
    "duration": 226,
    "start_time": "2021-12-18T19:28:57.865Z"
   },
   {
    "duration": 226,
    "start_time": "2021-12-18T19:30:58.618Z"
   },
   {
    "duration": 227,
    "start_time": "2021-12-18T19:31:34.675Z"
   },
   {
    "duration": 235,
    "start_time": "2021-12-18T19:32:37.825Z"
   },
   {
    "duration": 248,
    "start_time": "2021-12-18T19:33:27.271Z"
   },
   {
    "duration": 193,
    "start_time": "2021-12-18T19:34:36.394Z"
   },
   {
    "duration": 1198,
    "start_time": "2021-12-18T19:34:54.217Z"
   },
   {
    "duration": 4,
    "start_time": "2021-12-18T19:34:55.417Z"
   },
   {
    "duration": 58,
    "start_time": "2021-12-18T19:34:55.423Z"
   },
   {
    "duration": 9,
    "start_time": "2021-12-18T19:34:55.483Z"
   },
   {
    "duration": 18,
    "start_time": "2021-12-18T19:34:55.506Z"
   },
   {
    "duration": 216,
    "start_time": "2021-12-18T19:34:55.526Z"
   },
   {
    "duration": 226,
    "start_time": "2021-12-18T19:34:55.744Z"
   },
   {
    "duration": 237,
    "start_time": "2021-12-18T19:34:55.973Z"
   },
   {
    "duration": 216,
    "start_time": "2021-12-18T19:34:56.212Z"
   },
   {
    "duration": 9,
    "start_time": "2021-12-18T19:34:56.430Z"
   },
   {
    "duration": 4,
    "start_time": "2021-12-18T19:34:56.441Z"
   },
   {
    "duration": 7,
    "start_time": "2021-12-18T19:34:56.446Z"
   },
   {
    "duration": 13,
    "start_time": "2021-12-18T19:34:56.455Z"
   },
   {
    "duration": 37,
    "start_time": "2021-12-18T19:34:56.469Z"
   },
   {
    "duration": 5,
    "start_time": "2021-12-18T19:34:56.508Z"
   },
   {
    "duration": 6,
    "start_time": "2021-12-18T19:34:56.515Z"
   },
   {
    "duration": 3,
    "start_time": "2021-12-18T19:34:56.522Z"
   },
   {
    "duration": 5,
    "start_time": "2021-12-18T19:34:56.527Z"
   },
   {
    "duration": 6,
    "start_time": "2021-12-18T19:34:56.534Z"
   },
   {
    "duration": 224,
    "start_time": "2021-12-18T19:34:56.541Z"
   },
   {
    "duration": 9,
    "start_time": "2021-12-18T19:34:56.767Z"
   },
   {
    "duration": 6,
    "start_time": "2021-12-18T19:34:56.778Z"
   },
   {
    "duration": 243,
    "start_time": "2021-12-18T19:34:56.788Z"
   },
   {
    "duration": 8,
    "start_time": "2021-12-18T19:34:57.034Z"
   },
   {
    "duration": 244,
    "start_time": "2021-12-18T19:34:57.044Z"
   },
   {
    "duration": 332,
    "start_time": "2021-12-18T19:34:57.290Z"
   },
   {
    "duration": 10,
    "start_time": "2021-12-18T19:34:57.624Z"
   },
   {
    "duration": 20,
    "start_time": "2021-12-18T19:34:57.635Z"
   },
   {
    "duration": 283,
    "start_time": "2021-12-18T19:34:57.656Z"
   },
   {
    "duration": 6,
    "start_time": "2021-12-18T19:34:57.941Z"
   },
   {
    "duration": 11,
    "start_time": "2021-12-18T19:34:57.949Z"
   },
   {
    "duration": 192,
    "start_time": "2021-12-18T19:34:57.962Z"
   },
   {
    "duration": 19,
    "start_time": "2021-12-18T19:34:58.155Z"
   },
   {
    "duration": 33,
    "start_time": "2021-12-18T19:34:58.176Z"
   },
   {
    "duration": 10,
    "start_time": "2021-12-18T19:34:58.211Z"
   },
   {
    "duration": 15,
    "start_time": "2021-12-18T19:34:58.223Z"
   },
   {
    "duration": 11,
    "start_time": "2021-12-18T19:34:58.239Z"
   },
   {
    "duration": 7,
    "start_time": "2021-12-18T19:34:58.252Z"
   },
   {
    "duration": 7,
    "start_time": "2021-12-18T19:34:58.260Z"
   },
   {
    "duration": 39,
    "start_time": "2021-12-18T19:34:58.269Z"
   },
   {
    "duration": 9,
    "start_time": "2021-12-18T19:34:58.310Z"
   },
   {
    "duration": 9,
    "start_time": "2021-12-18T19:34:58.320Z"
   },
   {
    "duration": 9,
    "start_time": "2021-12-18T19:34:58.331Z"
   },
   {
    "duration": 8,
    "start_time": "2021-12-18T19:34:58.341Z"
   },
   {
    "duration": 262,
    "start_time": "2021-12-18T19:34:58.350Z"
   },
   {
    "duration": 9,
    "start_time": "2021-12-18T19:34:58.614Z"
   },
   {
    "duration": 9,
    "start_time": "2021-12-18T19:34:58.625Z"
   },
   {
    "duration": 26,
    "start_time": "2021-12-18T19:34:58.635Z"
   },
   {
    "duration": 5,
    "start_time": "2021-12-18T19:34:58.663Z"
   },
   {
    "duration": 210,
    "start_time": "2021-12-18T19:34:58.670Z"
   },
   {
    "duration": 24,
    "start_time": "2021-12-18T19:34:58.882Z"
   },
   {
    "duration": 6,
    "start_time": "2021-12-18T19:34:58.908Z"
   },
   {
    "duration": 13,
    "start_time": "2021-12-18T19:34:58.915Z"
   },
   {
    "duration": 31,
    "start_time": "2021-12-18T19:34:58.930Z"
   },
   {
    "duration": 47,
    "start_time": "2021-12-18T19:34:58.963Z"
   },
   {
    "duration": 8,
    "start_time": "2021-12-18T19:34:59.012Z"
   },
   {
    "duration": 665,
    "start_time": "2021-12-18T19:34:59.022Z"
   },
   {
    "duration": 4,
    "start_time": "2021-12-18T19:34:59.690Z"
   },
   {
    "duration": 12,
    "start_time": "2021-12-18T19:34:59.696Z"
   },
   {
    "duration": 4,
    "start_time": "2021-12-18T19:34:59.710Z"
   },
   {
    "duration": 9,
    "start_time": "2021-12-18T19:34:59.716Z"
   },
   {
    "duration": 38,
    "start_time": "2021-12-18T19:34:59.727Z"
   },
   {
    "duration": 8,
    "start_time": "2021-12-18T19:34:59.767Z"
   },
   {
    "duration": 38,
    "start_time": "2021-12-18T19:34:59.776Z"
   },
   {
    "duration": 236,
    "start_time": "2021-12-18T19:34:59.816Z"
   },
   {
    "duration": 4,
    "start_time": "2021-12-18T19:35:00.053Z"
   },
   {
    "duration": 238,
    "start_time": "2021-12-18T19:35:00.059Z"
   },
   {
    "duration": 3,
    "start_time": "2021-12-18T19:35:00.308Z"
   },
   {
    "duration": 371,
    "start_time": "2021-12-18T19:35:00.313Z"
   },
   {
    "duration": 3,
    "start_time": "2021-12-18T19:35:00.686Z"
   },
   {
    "duration": 239,
    "start_time": "2021-12-18T19:35:00.691Z"
   },
   {
    "duration": 3,
    "start_time": "2021-12-18T19:35:00.932Z"
   },
   {
    "duration": 237,
    "start_time": "2021-12-18T19:35:00.936Z"
   },
   {
    "duration": 5,
    "start_time": "2021-12-18T19:35:01.175Z"
   },
   {
    "duration": 29,
    "start_time": "2021-12-18T19:35:01.182Z"
   },
   {
    "duration": 19,
    "start_time": "2021-12-18T19:35:01.213Z"
   },
   {
    "duration": 10,
    "start_time": "2021-12-18T19:35:01.234Z"
   },
   {
    "duration": 6,
    "start_time": "2021-12-18T19:35:01.246Z"
   },
   {
    "duration": 15,
    "start_time": "2021-12-18T19:35:01.254Z"
   },
   {
    "duration": 37,
    "start_time": "2021-12-18T19:35:01.271Z"
   },
   {
    "duration": 5,
    "start_time": "2021-12-18T19:35:01.310Z"
   },
   {
    "duration": 12,
    "start_time": "2021-12-18T19:35:01.317Z"
   },
   {
    "duration": 9,
    "start_time": "2021-12-18T19:35:01.331Z"
   },
   {
    "duration": 10,
    "start_time": "2021-12-18T19:35:01.342Z"
   },
   {
    "duration": 13,
    "start_time": "2021-12-18T19:35:01.354Z"
   },
   {
    "duration": 7,
    "start_time": "2021-12-18T19:35:01.369Z"
   },
   {
    "duration": 6,
    "start_time": "2021-12-18T19:35:01.406Z"
   },
   {
    "duration": 14,
    "start_time": "2021-12-18T19:35:01.414Z"
   },
   {
    "duration": 9,
    "start_time": "2021-12-18T19:35:01.430Z"
   },
   {
    "duration": 8,
    "start_time": "2021-12-18T19:35:01.441Z"
   },
   {
    "duration": 194,
    "start_time": "2021-12-18T19:35:56.940Z"
   },
   {
    "duration": 205,
    "start_time": "2021-12-18T19:37:18.701Z"
   },
   {
    "duration": 11,
    "start_time": "2021-12-18T19:38:47.426Z"
   },
   {
    "duration": 8,
    "start_time": "2021-12-18T19:38:52.602Z"
   },
   {
    "duration": 458,
    "start_time": "2021-12-18T19:43:29.338Z"
   },
   {
    "duration": 1344,
    "start_time": "2021-12-18T19:43:45.875Z"
   },
   {
    "duration": 4,
    "start_time": "2021-12-18T19:43:47.221Z"
   },
   {
    "duration": 55,
    "start_time": "2021-12-18T19:43:47.228Z"
   },
   {
    "duration": 29,
    "start_time": "2021-12-18T19:43:47.285Z"
   },
   {
    "duration": 18,
    "start_time": "2021-12-18T19:43:47.316Z"
   },
   {
    "duration": 235,
    "start_time": "2021-12-18T19:43:47.336Z"
   },
   {
    "duration": 238,
    "start_time": "2021-12-18T19:43:47.573Z"
   },
   {
    "duration": 239,
    "start_time": "2021-12-18T19:43:47.815Z"
   },
   {
    "duration": 221,
    "start_time": "2021-12-18T19:43:48.057Z"
   },
   {
    "duration": 7,
    "start_time": "2021-12-18T19:43:48.280Z"
   },
   {
    "duration": 22,
    "start_time": "2021-12-18T19:43:48.288Z"
   },
   {
    "duration": 8,
    "start_time": "2021-12-18T19:43:48.311Z"
   },
   {
    "duration": 13,
    "start_time": "2021-12-18T19:43:48.320Z"
   },
   {
    "duration": 6,
    "start_time": "2021-12-18T19:43:48.335Z"
   },
   {
    "duration": 4,
    "start_time": "2021-12-18T19:43:48.342Z"
   },
   {
    "duration": 5,
    "start_time": "2021-12-18T19:43:48.348Z"
   },
   {
    "duration": 5,
    "start_time": "2021-12-18T19:43:48.355Z"
   },
   {
    "duration": 6,
    "start_time": "2021-12-18T19:43:48.362Z"
   },
   {
    "duration": 6,
    "start_time": "2021-12-18T19:43:48.407Z"
   },
   {
    "duration": 218,
    "start_time": "2021-12-18T19:43:48.414Z"
   },
   {
    "duration": 8,
    "start_time": "2021-12-18T19:43:48.634Z"
   },
   {
    "duration": 7,
    "start_time": "2021-12-18T19:43:48.644Z"
   },
   {
    "duration": 244,
    "start_time": "2021-12-18T19:43:48.655Z"
   },
   {
    "duration": 9,
    "start_time": "2021-12-18T19:43:48.902Z"
   },
   {
    "duration": 237,
    "start_time": "2021-12-18T19:43:48.912Z"
   },
   {
    "duration": 278,
    "start_time": "2021-12-18T19:43:49.151Z"
   },
   {
    "duration": 10,
    "start_time": "2021-12-18T19:43:49.431Z"
   },
   {
    "duration": 20,
    "start_time": "2021-12-18T19:43:49.442Z"
   },
   {
    "duration": 215,
    "start_time": "2021-12-18T19:43:49.464Z"
   },
   {
    "duration": 6,
    "start_time": "2021-12-18T19:43:49.681Z"
   },
   {
    "duration": 23,
    "start_time": "2021-12-18T19:43:49.689Z"
   },
   {
    "duration": 180,
    "start_time": "2021-12-18T19:43:49.714Z"
   },
   {
    "duration": 20,
    "start_time": "2021-12-18T19:43:49.896Z"
   },
   {
    "duration": 11,
    "start_time": "2021-12-18T19:43:49.918Z"
   },
   {
    "duration": 9,
    "start_time": "2021-12-18T19:43:49.931Z"
   },
   {
    "duration": 15,
    "start_time": "2021-12-18T19:43:49.942Z"
   },
   {
    "duration": 10,
    "start_time": "2021-12-18T19:43:49.958Z"
   },
   {
    "duration": 45,
    "start_time": "2021-12-18T19:43:49.970Z"
   },
   {
    "duration": 8,
    "start_time": "2021-12-18T19:43:50.017Z"
   },
   {
    "duration": 10,
    "start_time": "2021-12-18T19:43:50.027Z"
   },
   {
    "duration": 8,
    "start_time": "2021-12-18T19:43:50.039Z"
   },
   {
    "duration": 10,
    "start_time": "2021-12-18T19:43:50.049Z"
   },
   {
    "duration": 51,
    "start_time": "2021-12-18T19:43:50.061Z"
   },
   {
    "duration": 7,
    "start_time": "2021-12-18T19:43:50.114Z"
   },
   {
    "duration": 240,
    "start_time": "2021-12-18T19:43:50.123Z"
   },
   {
    "duration": 10,
    "start_time": "2021-12-18T19:43:50.365Z"
   },
   {
    "duration": 10,
    "start_time": "2021-12-18T19:43:50.376Z"
   },
   {
    "duration": 28,
    "start_time": "2021-12-18T19:43:50.407Z"
   },
   {
    "duration": 7,
    "start_time": "2021-12-18T19:43:50.437Z"
   },
   {
    "duration": 198,
    "start_time": "2021-12-18T19:43:50.446Z"
   },
   {
    "duration": 12,
    "start_time": "2021-12-18T19:43:50.646Z"
   },
   {
    "duration": 6,
    "start_time": "2021-12-18T19:43:50.660Z"
   },
   {
    "duration": 12,
    "start_time": "2021-12-18T19:43:50.668Z"
   },
   {
    "duration": 32,
    "start_time": "2021-12-18T19:43:50.707Z"
   },
   {
    "duration": 19,
    "start_time": "2021-12-18T19:43:50.741Z"
   },
   {
    "duration": 6,
    "start_time": "2021-12-18T19:43:50.762Z"
   },
   {
    "duration": 792,
    "start_time": "2021-12-18T19:43:50.770Z"
   },
   {
    "duration": 4,
    "start_time": "2021-12-18T19:43:51.564Z"
   },
   {
    "duration": 5,
    "start_time": "2021-12-18T19:43:51.570Z"
   },
   {
    "duration": 4,
    "start_time": "2021-12-18T19:43:51.577Z"
   },
   {
    "duration": 7,
    "start_time": "2021-12-18T19:43:51.606Z"
   },
   {
    "duration": 40,
    "start_time": "2021-12-18T19:43:51.614Z"
   },
   {
    "duration": 8,
    "start_time": "2021-12-18T19:43:51.655Z"
   },
   {
    "duration": 13,
    "start_time": "2021-12-18T19:43:51.664Z"
   },
   {
    "duration": 262,
    "start_time": "2021-12-18T19:43:51.679Z"
   },
   {
    "duration": 5,
    "start_time": "2021-12-18T19:43:51.942Z"
   },
   {
    "duration": 231,
    "start_time": "2021-12-18T19:43:51.948Z"
   },
   {
    "duration": 4,
    "start_time": "2021-12-18T19:43:52.185Z"
   },
   {
    "duration": 352,
    "start_time": "2021-12-18T19:43:52.191Z"
   },
   {
    "duration": 4,
    "start_time": "2021-12-18T19:43:52.544Z"
   },
   {
    "duration": 256,
    "start_time": "2021-12-18T19:43:52.550Z"
   },
   {
    "duration": 4,
    "start_time": "2021-12-18T19:43:52.808Z"
   },
   {
    "duration": 233,
    "start_time": "2021-12-18T19:43:52.814Z"
   },
   {
    "duration": 4,
    "start_time": "2021-12-18T19:43:53.049Z"
   },
   {
    "duration": 16,
    "start_time": "2021-12-18T19:43:53.054Z"
   },
   {
    "duration": 12,
    "start_time": "2021-12-18T19:43:53.071Z"
   },
   {
    "duration": 27,
    "start_time": "2021-12-18T19:43:53.085Z"
   },
   {
    "duration": 6,
    "start_time": "2021-12-18T19:43:53.113Z"
   },
   {
    "duration": 12,
    "start_time": "2021-12-18T19:43:53.120Z"
   },
   {
    "duration": 7,
    "start_time": "2021-12-18T19:43:53.134Z"
   },
   {
    "duration": 7,
    "start_time": "2021-12-18T19:43:53.143Z"
   },
   {
    "duration": 11,
    "start_time": "2021-12-18T19:43:53.152Z"
   },
   {
    "duration": 9,
    "start_time": "2021-12-18T19:43:53.164Z"
   },
   {
    "duration": 8,
    "start_time": "2021-12-18T19:43:53.207Z"
   },
   {
    "duration": 14,
    "start_time": "2021-12-18T19:43:53.217Z"
   },
   {
    "duration": 8,
    "start_time": "2021-12-18T19:43:53.233Z"
   },
   {
    "duration": 6,
    "start_time": "2021-12-18T19:43:53.243Z"
   },
   {
    "duration": 13,
    "start_time": "2021-12-18T19:43:53.250Z"
   },
   {
    "duration": 9,
    "start_time": "2021-12-18T19:43:53.265Z"
   },
   {
    "duration": 37,
    "start_time": "2021-12-18T19:43:53.276Z"
   },
   {
    "duration": 10,
    "start_time": "2021-12-18T19:45:09.714Z"
   },
   {
    "duration": 9,
    "start_time": "2021-12-18T19:45:24.037Z"
   },
   {
    "duration": 11,
    "start_time": "2021-12-18T19:45:26.082Z"
   },
   {
    "duration": 7,
    "start_time": "2021-12-18T19:45:27.524Z"
   },
   {
    "duration": 218,
    "start_time": "2021-12-18T19:45:29.725Z"
   },
   {
    "duration": 186,
    "start_time": "2021-12-18T19:46:50.763Z"
   },
   {
    "duration": 235,
    "start_time": "2021-12-18T19:48:29.236Z"
   },
   {
    "duration": 1273,
    "start_time": "2021-12-18T19:52:41.380Z"
   },
   {
    "duration": 3,
    "start_time": "2021-12-18T19:52:42.655Z"
   },
   {
    "duration": 75,
    "start_time": "2021-12-18T19:52:42.662Z"
   },
   {
    "duration": 11,
    "start_time": "2021-12-18T19:52:42.739Z"
   },
   {
    "duration": 19,
    "start_time": "2021-12-18T19:52:42.752Z"
   },
   {
    "duration": 239,
    "start_time": "2021-12-18T19:52:42.773Z"
   },
   {
    "duration": 242,
    "start_time": "2021-12-18T19:52:43.015Z"
   },
   {
    "duration": 239,
    "start_time": "2021-12-18T19:52:43.260Z"
   },
   {
    "duration": 247,
    "start_time": "2021-12-18T19:52:43.501Z"
   },
   {
    "duration": 11,
    "start_time": "2021-12-18T19:52:43.750Z"
   },
   {
    "duration": 9,
    "start_time": "2021-12-18T19:52:43.764Z"
   },
   {
    "duration": 8,
    "start_time": "2021-12-18T19:52:43.775Z"
   },
   {
    "duration": 16,
    "start_time": "2021-12-18T19:52:43.807Z"
   },
   {
    "duration": 6,
    "start_time": "2021-12-18T19:52:43.825Z"
   },
   {
    "duration": 8,
    "start_time": "2021-12-18T19:52:43.833Z"
   },
   {
    "duration": 9,
    "start_time": "2021-12-18T19:52:43.843Z"
   },
   {
    "duration": 4,
    "start_time": "2021-12-18T19:52:43.854Z"
   },
   {
    "duration": 5,
    "start_time": "2021-12-18T19:52:43.860Z"
   },
   {
    "duration": 40,
    "start_time": "2021-12-18T19:52:43.866Z"
   },
   {
    "duration": 206,
    "start_time": "2021-12-18T19:52:43.908Z"
   },
   {
    "duration": 9,
    "start_time": "2021-12-18T19:52:44.116Z"
   },
   {
    "duration": 5,
    "start_time": "2021-12-18T19:52:44.129Z"
   },
   {
    "duration": 247,
    "start_time": "2021-12-18T19:52:44.136Z"
   },
   {
    "duration": 9,
    "start_time": "2021-12-18T19:52:44.385Z"
   },
   {
    "duration": 249,
    "start_time": "2021-12-18T19:52:44.396Z"
   },
   {
    "duration": 290,
    "start_time": "2021-12-18T19:52:44.647Z"
   },
   {
    "duration": 10,
    "start_time": "2021-12-18T19:52:44.939Z"
   },
   {
    "duration": 21,
    "start_time": "2021-12-18T19:52:44.950Z"
   },
   {
    "duration": 218,
    "start_time": "2021-12-18T19:52:44.973Z"
   },
   {
    "duration": 15,
    "start_time": "2021-12-18T19:52:45.193Z"
   },
   {
    "duration": 10,
    "start_time": "2021-12-18T19:52:45.210Z"
   },
   {
    "duration": 215,
    "start_time": "2021-12-18T19:52:45.222Z"
   },
   {
    "duration": 20,
    "start_time": "2021-12-18T19:52:45.439Z"
   },
   {
    "duration": 12,
    "start_time": "2021-12-18T19:52:45.461Z"
   },
   {
    "duration": 35,
    "start_time": "2021-12-18T19:52:45.476Z"
   },
   {
    "duration": 14,
    "start_time": "2021-12-18T19:52:45.513Z"
   },
   {
    "duration": 12,
    "start_time": "2021-12-18T19:52:45.528Z"
   },
   {
    "duration": 11,
    "start_time": "2021-12-18T19:52:45.541Z"
   },
   {
    "duration": 6,
    "start_time": "2021-12-18T19:52:45.554Z"
   },
   {
    "duration": 10,
    "start_time": "2021-12-18T19:52:45.562Z"
   },
   {
    "duration": 10,
    "start_time": "2021-12-18T19:52:45.607Z"
   },
   {
    "duration": 10,
    "start_time": "2021-12-18T19:52:45.619Z"
   },
   {
    "duration": 8,
    "start_time": "2021-12-18T19:52:45.631Z"
   },
   {
    "duration": 13,
    "start_time": "2021-12-18T19:52:45.640Z"
   },
   {
    "duration": 273,
    "start_time": "2021-12-18T19:52:45.655Z"
   },
   {
    "duration": 8,
    "start_time": "2021-12-18T19:52:45.929Z"
   },
   {
    "duration": 9,
    "start_time": "2021-12-18T19:52:45.939Z"
   },
   {
    "duration": 28,
    "start_time": "2021-12-18T19:52:45.950Z"
   },
   {
    "duration": 31,
    "start_time": "2021-12-18T19:52:45.980Z"
   },
   {
    "duration": 198,
    "start_time": "2021-12-18T19:52:46.012Z"
   },
   {
    "duration": 11,
    "start_time": "2021-12-18T19:52:46.212Z"
   },
   {
    "duration": 5,
    "start_time": "2021-12-18T19:52:46.225Z"
   },
   {
    "duration": 13,
    "start_time": "2021-12-18T19:52:46.232Z"
   },
   {
    "duration": 61,
    "start_time": "2021-12-18T19:52:46.247Z"
   },
   {
    "duration": 18,
    "start_time": "2021-12-18T19:52:46.310Z"
   },
   {
    "duration": 6,
    "start_time": "2021-12-18T19:52:46.330Z"
   },
   {
    "duration": 707,
    "start_time": "2021-12-18T19:52:46.337Z"
   },
   {
    "duration": 3,
    "start_time": "2021-12-18T19:52:47.047Z"
   },
   {
    "duration": 6,
    "start_time": "2021-12-18T19:52:47.052Z"
   },
   {
    "duration": 5,
    "start_time": "2021-12-18T19:52:47.060Z"
   },
   {
    "duration": 12,
    "start_time": "2021-12-18T19:52:47.066Z"
   },
   {
    "duration": 61,
    "start_time": "2021-12-18T19:52:47.080Z"
   },
   {
    "duration": 8,
    "start_time": "2021-12-18T19:52:47.143Z"
   },
   {
    "duration": 14,
    "start_time": "2021-12-18T19:52:47.152Z"
   },
   {
    "duration": 252,
    "start_time": "2021-12-18T19:52:47.168Z"
   },
   {
    "duration": 4,
    "start_time": "2021-12-18T19:52:47.422Z"
   },
   {
    "duration": 245,
    "start_time": "2021-12-18T19:52:47.433Z"
   },
   {
    "duration": 4,
    "start_time": "2021-12-18T19:52:47.680Z"
   },
   {
    "duration": 381,
    "start_time": "2021-12-18T19:52:47.686Z"
   },
   {
    "duration": 4,
    "start_time": "2021-12-18T19:52:48.068Z"
   },
   {
    "duration": 252,
    "start_time": "2021-12-18T19:52:48.074Z"
   },
   {
    "duration": 4,
    "start_time": "2021-12-18T19:52:48.327Z"
   },
   {
    "duration": 257,
    "start_time": "2021-12-18T19:52:48.333Z"
   },
   {
    "duration": 5,
    "start_time": "2021-12-18T19:52:48.591Z"
   },
   {
    "duration": 24,
    "start_time": "2021-12-18T19:52:48.597Z"
   },
   {
    "duration": 14,
    "start_time": "2021-12-18T19:52:48.623Z"
   },
   {
    "duration": 10,
    "start_time": "2021-12-18T19:52:48.639Z"
   },
   {
    "duration": 7,
    "start_time": "2021-12-18T19:52:48.651Z"
   },
   {
    "duration": 49,
    "start_time": "2021-12-18T19:52:48.660Z"
   },
   {
    "duration": 11,
    "start_time": "2021-12-18T19:52:48.711Z"
   },
   {
    "duration": 5,
    "start_time": "2021-12-18T19:52:48.724Z"
   },
   {
    "duration": 13,
    "start_time": "2021-12-18T19:52:48.731Z"
   },
   {
    "duration": 10,
    "start_time": "2021-12-18T19:52:48.746Z"
   },
   {
    "duration": 8,
    "start_time": "2021-12-18T19:52:48.758Z"
   },
   {
    "duration": 46,
    "start_time": "2021-12-18T19:52:48.767Z"
   },
   {
    "duration": 9,
    "start_time": "2021-12-18T19:52:48.814Z"
   },
   {
    "duration": 5,
    "start_time": "2021-12-18T19:52:48.825Z"
   },
   {
    "duration": 14,
    "start_time": "2021-12-18T19:52:48.832Z"
   },
   {
    "duration": 9,
    "start_time": "2021-12-18T19:52:48.848Z"
   },
   {
    "duration": 7,
    "start_time": "2021-12-18T19:52:48.859Z"
   },
   {
    "duration": 195,
    "start_time": "2021-12-18T19:55:28.629Z"
   },
   {
    "duration": 218,
    "start_time": "2021-12-18T19:55:38.481Z"
   },
   {
    "duration": 409,
    "start_time": "2021-12-18T19:57:57.819Z"
   },
   {
    "duration": 1283,
    "start_time": "2021-12-18T19:58:28.742Z"
   },
   {
    "duration": 4,
    "start_time": "2021-12-18T19:58:30.027Z"
   },
   {
    "duration": 73,
    "start_time": "2021-12-18T19:58:30.036Z"
   },
   {
    "duration": 11,
    "start_time": "2021-12-18T19:58:30.111Z"
   },
   {
    "duration": 19,
    "start_time": "2021-12-18T19:58:30.124Z"
   },
   {
    "duration": 253,
    "start_time": "2021-12-18T19:58:30.145Z"
   },
   {
    "duration": 237,
    "start_time": "2021-12-18T19:58:30.400Z"
   },
   {
    "duration": 238,
    "start_time": "2021-12-18T19:58:30.639Z"
   },
   {
    "duration": 219,
    "start_time": "2021-12-18T19:58:30.878Z"
   },
   {
    "duration": 12,
    "start_time": "2021-12-18T19:58:31.099Z"
   },
   {
    "duration": 6,
    "start_time": "2021-12-18T19:58:31.113Z"
   },
   {
    "duration": 9,
    "start_time": "2021-12-18T19:58:31.121Z"
   },
   {
    "duration": 17,
    "start_time": "2021-12-18T19:58:31.131Z"
   },
   {
    "duration": 7,
    "start_time": "2021-12-18T19:58:31.149Z"
   },
   {
    "duration": 5,
    "start_time": "2021-12-18T19:58:31.157Z"
   },
   {
    "duration": 7,
    "start_time": "2021-12-18T19:58:31.164Z"
   },
   {
    "duration": 37,
    "start_time": "2021-12-18T19:58:31.172Z"
   },
   {
    "duration": 4,
    "start_time": "2021-12-18T19:58:31.211Z"
   },
   {
    "duration": 9,
    "start_time": "2021-12-18T19:58:31.217Z"
   },
   {
    "duration": 230,
    "start_time": "2021-12-18T19:58:31.228Z"
   },
   {
    "duration": 8,
    "start_time": "2021-12-18T19:58:31.460Z"
   },
   {
    "duration": 5,
    "start_time": "2021-12-18T19:58:31.473Z"
   },
   {
    "duration": 252,
    "start_time": "2021-12-18T19:58:31.481Z"
   },
   {
    "duration": 10,
    "start_time": "2021-12-18T19:58:31.735Z"
   },
   {
    "duration": 244,
    "start_time": "2021-12-18T19:58:31.747Z"
   },
   {
    "duration": 282,
    "start_time": "2021-12-18T19:58:31.993Z"
   },
   {
    "duration": 10,
    "start_time": "2021-12-18T19:58:32.276Z"
   },
   {
    "duration": 32,
    "start_time": "2021-12-18T19:58:32.287Z"
   },
   {
    "duration": 195,
    "start_time": "2021-12-18T19:58:32.320Z"
   },
   {
    "duration": 7,
    "start_time": "2021-12-18T19:58:32.517Z"
   },
   {
    "duration": 12,
    "start_time": "2021-12-18T19:58:32.525Z"
   },
   {
    "duration": 219,
    "start_time": "2021-12-18T19:58:32.538Z"
   },
   {
    "duration": 21,
    "start_time": "2021-12-18T19:58:32.758Z"
   },
   {
    "duration": 27,
    "start_time": "2021-12-18T19:58:32.781Z"
   },
   {
    "duration": 8,
    "start_time": "2021-12-18T19:58:32.810Z"
   },
   {
    "duration": 14,
    "start_time": "2021-12-18T19:58:32.820Z"
   },
   {
    "duration": 10,
    "start_time": "2021-12-18T19:58:32.836Z"
   },
   {
    "duration": 10,
    "start_time": "2021-12-18T19:58:32.848Z"
   },
   {
    "duration": 7,
    "start_time": "2021-12-18T19:58:32.859Z"
   },
   {
    "duration": 42,
    "start_time": "2021-12-18T19:58:32.868Z"
   },
   {
    "duration": 9,
    "start_time": "2021-12-18T19:58:32.911Z"
   },
   {
    "duration": 8,
    "start_time": "2021-12-18T19:58:32.921Z"
   },
   {
    "duration": 6,
    "start_time": "2021-12-18T19:58:32.930Z"
   },
   {
    "duration": 6,
    "start_time": "2021-12-18T19:58:32.938Z"
   },
   {
    "duration": 268,
    "start_time": "2021-12-18T19:58:32.945Z"
   },
   {
    "duration": 9,
    "start_time": "2021-12-18T19:58:33.215Z"
   },
   {
    "duration": 9,
    "start_time": "2021-12-18T19:58:33.226Z"
   },
   {
    "duration": 26,
    "start_time": "2021-12-18T19:58:33.237Z"
   },
   {
    "duration": 6,
    "start_time": "2021-12-18T19:58:33.265Z"
   },
   {
    "duration": 259,
    "start_time": "2021-12-18T19:58:33.273Z"
   },
   {
    "duration": 11,
    "start_time": "2021-12-18T19:58:33.534Z"
   },
   {
    "duration": 5,
    "start_time": "2021-12-18T19:58:33.547Z"
   },
   {
    "duration": 12,
    "start_time": "2021-12-18T19:58:33.554Z"
   },
   {
    "duration": 54,
    "start_time": "2021-12-18T19:58:33.568Z"
   },
   {
    "duration": 439,
    "start_time": "2021-12-18T19:58:33.624Z"
   },
   {
    "duration": 54,
    "start_time": "2021-12-18T19:58:34.011Z"
   },
   {
    "duration": 45,
    "start_time": "2021-12-18T19:58:34.021Z"
   },
   {
    "duration": 39,
    "start_time": "2021-12-18T19:58:34.028Z"
   },
   {
    "duration": 36,
    "start_time": "2021-12-18T19:58:34.032Z"
   },
   {
    "duration": 32,
    "start_time": "2021-12-18T19:58:34.036Z"
   },
   {
    "duration": 28,
    "start_time": "2021-12-18T19:58:34.041Z"
   },
   {
    "duration": 24,
    "start_time": "2021-12-18T19:58:34.046Z"
   },
   {
    "duration": 20,
    "start_time": "2021-12-18T19:58:34.051Z"
   },
   {
    "duration": 11,
    "start_time": "2021-12-18T19:58:34.061Z"
   },
   {
    "duration": 6,
    "start_time": "2021-12-18T19:58:34.067Z"
   },
   {
    "duration": 2,
    "start_time": "2021-12-18T19:58:34.071Z"
   },
   {
    "duration": -2,
    "start_time": "2021-12-18T19:58:34.076Z"
   },
   {
    "duration": -6,
    "start_time": "2021-12-18T19:58:34.081Z"
   },
   {
    "duration": -10,
    "start_time": "2021-12-18T19:58:34.086Z"
   },
   {
    "duration": -13,
    "start_time": "2021-12-18T19:58:34.090Z"
   },
   {
    "duration": -15,
    "start_time": "2021-12-18T19:58:34.094Z"
   },
   {
    "duration": -18,
    "start_time": "2021-12-18T19:58:34.098Z"
   },
   {
    "duration": -23,
    "start_time": "2021-12-18T19:58:34.103Z"
   },
   {
    "duration": -26,
    "start_time": "2021-12-18T19:58:34.107Z"
   },
   {
    "duration": -30,
    "start_time": "2021-12-18T19:58:34.112Z"
   },
   {
    "duration": -34,
    "start_time": "2021-12-18T19:58:34.117Z"
   },
   {
    "duration": -38,
    "start_time": "2021-12-18T19:58:34.122Z"
   },
   {
    "duration": -41,
    "start_time": "2021-12-18T19:58:34.126Z"
   },
   {
    "duration": -45,
    "start_time": "2021-12-18T19:58:34.131Z"
   },
   {
    "duration": -49,
    "start_time": "2021-12-18T19:58:34.136Z"
   },
   {
    "duration": -52,
    "start_time": "2021-12-18T19:58:34.140Z"
   },
   {
    "duration": -56,
    "start_time": "2021-12-18T19:58:34.145Z"
   },
   {
    "duration": -59,
    "start_time": "2021-12-18T19:58:34.149Z"
   },
   {
    "duration": -63,
    "start_time": "2021-12-18T19:58:34.154Z"
   },
   {
    "duration": -67,
    "start_time": "2021-12-18T19:58:34.159Z"
   },
   {
    "duration": -79,
    "start_time": "2021-12-18T19:58:34.172Z"
   },
   {
    "duration": -84,
    "start_time": "2021-12-18T19:58:34.178Z"
   },
   {
    "duration": -88,
    "start_time": "2021-12-18T19:58:34.183Z"
   },
   {
    "duration": -92,
    "start_time": "2021-12-18T19:58:34.188Z"
   },
   {
    "duration": -95,
    "start_time": "2021-12-18T19:58:34.192Z"
   },
   {
    "duration": 21,
    "start_time": "2021-12-18T19:59:36.864Z"
   },
   {
    "duration": 777,
    "start_time": "2021-12-18T20:00:35.742Z"
   },
   {
    "duration": 6,
    "start_time": "2021-12-18T20:00:36.521Z"
   },
   {
    "duration": 57,
    "start_time": "2021-12-18T20:00:36.529Z"
   },
   {
    "duration": 26,
    "start_time": "2021-12-18T20:00:36.588Z"
   },
   {
    "duration": 18,
    "start_time": "2021-12-18T20:00:36.616Z"
   },
   {
    "duration": 245,
    "start_time": "2021-12-18T20:00:36.636Z"
   },
   {
    "duration": 251,
    "start_time": "2021-12-18T20:00:36.883Z"
   },
   {
    "duration": 246,
    "start_time": "2021-12-18T20:00:37.138Z"
   },
   {
    "duration": 269,
    "start_time": "2021-12-18T20:00:37.387Z"
   },
   {
    "duration": 10,
    "start_time": "2021-12-18T20:00:37.658Z"
   },
   {
    "duration": 6,
    "start_time": "2021-12-18T20:00:37.670Z"
   },
   {
    "duration": 35,
    "start_time": "2021-12-18T20:00:37.677Z"
   },
   {
    "duration": 14,
    "start_time": "2021-12-18T20:00:37.714Z"
   },
   {
    "duration": 6,
    "start_time": "2021-12-18T20:00:37.730Z"
   },
   {
    "duration": 4,
    "start_time": "2021-12-18T20:00:37.738Z"
   },
   {
    "duration": 5,
    "start_time": "2021-12-18T20:00:37.744Z"
   },
   {
    "duration": 3,
    "start_time": "2021-12-18T20:00:37.751Z"
   },
   {
    "duration": 5,
    "start_time": "2021-12-18T20:00:37.756Z"
   },
   {
    "duration": 45,
    "start_time": "2021-12-18T20:00:37.762Z"
   },
   {
    "duration": 221,
    "start_time": "2021-12-18T20:00:37.809Z"
   },
   {
    "duration": 10,
    "start_time": "2021-12-18T20:00:38.032Z"
   },
   {
    "duration": 6,
    "start_time": "2021-12-18T20:00:38.045Z"
   },
   {
    "duration": 254,
    "start_time": "2021-12-18T20:00:38.055Z"
   },
   {
    "duration": 9,
    "start_time": "2021-12-18T20:00:38.312Z"
   },
   {
    "duration": 258,
    "start_time": "2021-12-18T20:00:38.322Z"
   },
   {
    "duration": 227,
    "start_time": "2021-12-18T20:00:38.581Z"
   },
   {
    "duration": 11,
    "start_time": "2021-12-18T20:00:38.810Z"
   },
   {
    "duration": 22,
    "start_time": "2021-12-18T20:00:38.823Z"
   },
   {
    "duration": 214,
    "start_time": "2021-12-18T20:00:38.847Z"
   },
   {
    "duration": 7,
    "start_time": "2021-12-18T20:00:39.064Z"
   },
   {
    "duration": 35,
    "start_time": "2021-12-18T20:00:39.073Z"
   },
   {
    "duration": 219,
    "start_time": "2021-12-18T20:00:39.109Z"
   },
   {
    "duration": 20,
    "start_time": "2021-12-18T20:00:39.329Z"
   },
   {
    "duration": 12,
    "start_time": "2021-12-18T20:00:39.351Z"
   },
   {
    "duration": 10,
    "start_time": "2021-12-18T20:00:39.365Z"
   },
   {
    "duration": 39,
    "start_time": "2021-12-18T20:00:39.377Z"
   },
   {
    "duration": 10,
    "start_time": "2021-12-18T20:00:39.418Z"
   },
   {
    "duration": 11,
    "start_time": "2021-12-18T20:00:39.429Z"
   },
   {
    "duration": 7,
    "start_time": "2021-12-18T20:00:39.442Z"
   },
   {
    "duration": 11,
    "start_time": "2021-12-18T20:00:39.451Z"
   },
   {
    "duration": 43,
    "start_time": "2021-12-18T20:00:39.464Z"
   },
   {
    "duration": 8,
    "start_time": "2021-12-18T20:00:39.509Z"
   },
   {
    "duration": 6,
    "start_time": "2021-12-18T20:00:39.519Z"
   },
   {
    "duration": 6,
    "start_time": "2021-12-18T20:00:39.527Z"
   },
   {
    "duration": 279,
    "start_time": "2021-12-18T20:00:39.535Z"
   },
   {
    "duration": 8,
    "start_time": "2021-12-18T20:00:39.816Z"
   },
   {
    "duration": 8,
    "start_time": "2021-12-18T20:00:39.826Z"
   },
   {
    "duration": 28,
    "start_time": "2021-12-18T20:00:39.836Z"
   },
   {
    "duration": 7,
    "start_time": "2021-12-18T20:00:39.866Z"
   },
   {
    "duration": 267,
    "start_time": "2021-12-18T20:00:39.874Z"
   },
   {
    "duration": 11,
    "start_time": "2021-12-18T20:00:40.143Z"
   },
   {
    "duration": 5,
    "start_time": "2021-12-18T20:00:40.156Z"
   },
   {
    "duration": 12,
    "start_time": "2021-12-18T20:00:40.163Z"
   },
   {
    "duration": 57,
    "start_time": "2021-12-18T20:00:40.177Z"
   },
   {
    "duration": 22,
    "start_time": "2021-12-18T20:00:40.236Z"
   },
   {
    "duration": 6,
    "start_time": "2021-12-18T20:00:40.260Z"
   },
   {
    "duration": 732,
    "start_time": "2021-12-18T20:00:40.268Z"
   },
   {
    "duration": 4,
    "start_time": "2021-12-18T20:00:41.006Z"
   },
   {
    "duration": 4,
    "start_time": "2021-12-18T20:00:41.012Z"
   },
   {
    "duration": 6,
    "start_time": "2021-12-18T20:00:41.017Z"
   },
   {
    "duration": 10,
    "start_time": "2021-12-18T20:00:41.025Z"
   },
   {
    "duration": 42,
    "start_time": "2021-12-18T20:00:41.036Z"
   },
   {
    "duration": 33,
    "start_time": "2021-12-18T20:00:41.080Z"
   },
   {
    "duration": 14,
    "start_time": "2021-12-18T20:00:41.115Z"
   },
   {
    "duration": 268,
    "start_time": "2021-12-18T20:00:41.130Z"
   },
   {
    "duration": 6,
    "start_time": "2021-12-18T20:00:41.401Z"
   },
   {
    "duration": 243,
    "start_time": "2021-12-18T20:00:41.409Z"
   },
   {
    "duration": 3,
    "start_time": "2021-12-18T20:00:41.658Z"
   },
   {
    "duration": 375,
    "start_time": "2021-12-18T20:00:41.663Z"
   },
   {
    "duration": 4,
    "start_time": "2021-12-18T20:00:42.039Z"
   },
   {
    "duration": 246,
    "start_time": "2021-12-18T20:00:42.045Z"
   },
   {
    "duration": 12,
    "start_time": "2021-12-18T20:00:42.294Z"
   },
   {
    "duration": 253,
    "start_time": "2021-12-18T20:00:42.308Z"
   },
   {
    "duration": 4,
    "start_time": "2021-12-18T20:00:42.563Z"
   },
   {
    "duration": 18,
    "start_time": "2021-12-18T20:00:42.568Z"
   },
   {
    "duration": 31,
    "start_time": "2021-12-18T20:00:42.587Z"
   },
   {
    "duration": 9,
    "start_time": "2021-12-18T20:00:42.619Z"
   },
   {
    "duration": 5,
    "start_time": "2021-12-18T20:00:42.630Z"
   },
   {
    "duration": 12,
    "start_time": "2021-12-18T20:00:42.637Z"
   },
   {
    "duration": 8,
    "start_time": "2021-12-18T20:00:42.650Z"
   },
   {
    "duration": 5,
    "start_time": "2021-12-18T20:00:42.660Z"
   },
   {
    "duration": 47,
    "start_time": "2021-12-18T20:00:42.666Z"
   },
   {
    "duration": 9,
    "start_time": "2021-12-18T20:00:42.715Z"
   },
   {
    "duration": 7,
    "start_time": "2021-12-18T20:00:42.726Z"
   },
   {
    "duration": 10,
    "start_time": "2021-12-18T20:00:42.735Z"
   },
   {
    "duration": 8,
    "start_time": "2021-12-18T20:00:42.747Z"
   },
   {
    "duration": 6,
    "start_time": "2021-12-18T20:00:42.756Z"
   },
   {
    "duration": 44,
    "start_time": "2021-12-18T20:00:42.763Z"
   },
   {
    "duration": 10,
    "start_time": "2021-12-18T20:00:42.809Z"
   },
   {
    "duration": 7,
    "start_time": "2021-12-18T20:00:42.821Z"
   },
   {
    "duration": 113,
    "start_time": "2021-12-18T20:21:09.555Z"
   },
   {
    "duration": 4,
    "start_time": "2021-12-18T20:21:24.944Z"
   },
   {
    "duration": 30092,
    "start_time": "2021-12-18T20:22:22.431Z"
   },
   {
    "duration": 861,
    "start_time": "2021-12-18T20:24:06.901Z"
   },
   {
    "duration": 3,
    "start_time": "2021-12-18T20:24:07.764Z"
   },
   {
    "duration": 74,
    "start_time": "2021-12-18T20:24:07.769Z"
   },
   {
    "duration": 10,
    "start_time": "2021-12-18T20:24:07.845Z"
   },
   {
    "duration": 19,
    "start_time": "2021-12-18T20:24:07.857Z"
   },
   {
    "duration": 264,
    "start_time": "2021-12-18T20:24:07.878Z"
   },
   {
    "duration": 262,
    "start_time": "2021-12-18T20:24:08.144Z"
   },
   {
    "duration": 257,
    "start_time": "2021-12-18T20:24:08.408Z"
   },
   {
    "duration": 409,
    "start_time": "2021-12-18T20:24:08.668Z"
   },
   {
    "duration": 10,
    "start_time": "2021-12-18T20:24:09.080Z"
   },
   {
    "duration": 20,
    "start_time": "2021-12-18T20:24:09.092Z"
   },
   {
    "duration": 9,
    "start_time": "2021-12-18T20:24:09.114Z"
   },
   {
    "duration": 15,
    "start_time": "2021-12-18T20:24:09.125Z"
   },
   {
    "duration": 6,
    "start_time": "2021-12-18T20:24:09.142Z"
   },
   {
    "duration": 4,
    "start_time": "2021-12-18T20:24:09.150Z"
   },
   {
    "duration": 6,
    "start_time": "2021-12-18T20:24:09.156Z"
   },
   {
    "duration": 44,
    "start_time": "2021-12-18T20:24:09.164Z"
   },
   {
    "duration": 6,
    "start_time": "2021-12-18T20:24:09.210Z"
   },
   {
    "duration": 9,
    "start_time": "2021-12-18T20:24:09.218Z"
   },
   {
    "duration": 234,
    "start_time": "2021-12-18T20:24:09.228Z"
   },
   {
    "duration": 10,
    "start_time": "2021-12-18T20:24:09.464Z"
   },
   {
    "duration": 6,
    "start_time": "2021-12-18T20:24:09.476Z"
   },
   {
    "duration": 263,
    "start_time": "2021-12-18T20:24:09.484Z"
   },
   {
    "duration": 10,
    "start_time": "2021-12-18T20:24:09.749Z"
   },
   {
    "duration": 265,
    "start_time": "2021-12-18T20:24:09.761Z"
   },
   {
    "duration": 240,
    "start_time": "2021-12-18T20:24:10.028Z"
   },
   {
    "duration": 12,
    "start_time": "2021-12-18T20:24:10.274Z"
   },
   {
    "duration": 36,
    "start_time": "2021-12-18T20:24:10.289Z"
   },
   {
    "duration": 220,
    "start_time": "2021-12-18T20:24:10.327Z"
   },
   {
    "duration": 7,
    "start_time": "2021-12-18T20:24:10.549Z"
   },
   {
    "duration": 10,
    "start_time": "2021-12-18T20:24:10.558Z"
   },
   {
    "duration": 221,
    "start_time": "2021-12-18T20:24:10.570Z"
   },
   {
    "duration": 28,
    "start_time": "2021-12-18T20:24:10.793Z"
   },
   {
    "duration": 11,
    "start_time": "2021-12-18T20:24:10.823Z"
   },
   {
    "duration": 11,
    "start_time": "2021-12-18T20:24:10.836Z"
   },
   {
    "duration": 14,
    "start_time": "2021-12-18T20:24:10.849Z"
   },
   {
    "duration": 9,
    "start_time": "2021-12-18T20:24:10.866Z"
   },
   {
    "duration": 39,
    "start_time": "2021-12-18T20:24:10.876Z"
   },
   {
    "duration": 8,
    "start_time": "2021-12-18T20:24:10.916Z"
   },
   {
    "duration": 9,
    "start_time": "2021-12-18T20:24:10.925Z"
   },
   {
    "duration": 9,
    "start_time": "2021-12-18T20:24:10.935Z"
   },
   {
    "duration": 9,
    "start_time": "2021-12-18T20:24:10.945Z"
   },
   {
    "duration": 6,
    "start_time": "2021-12-18T20:24:10.956Z"
   },
   {
    "duration": 44,
    "start_time": "2021-12-18T20:24:10.964Z"
   },
   {
    "duration": 285,
    "start_time": "2021-12-18T20:24:11.011Z"
   },
   {
    "duration": 9,
    "start_time": "2021-12-18T20:24:11.307Z"
   },
   {
    "duration": 10,
    "start_time": "2021-12-18T20:24:11.318Z"
   },
   {
    "duration": 30,
    "start_time": "2021-12-18T20:24:11.330Z"
   },
   {
    "duration": 8,
    "start_time": "2021-12-18T20:24:11.362Z"
   },
   {
    "duration": 274,
    "start_time": "2021-12-18T20:24:11.372Z"
   },
   {
    "duration": 13,
    "start_time": "2021-12-18T20:24:11.648Z"
   },
   {
    "duration": 7,
    "start_time": "2021-12-18T20:24:11.663Z"
   },
   {
    "duration": 39,
    "start_time": "2021-12-18T20:24:11.672Z"
   },
   {
    "duration": 33,
    "start_time": "2021-12-18T20:24:11.713Z"
   },
   {
    "duration": 22,
    "start_time": "2021-12-18T20:24:11.747Z"
   },
   {
    "duration": 6,
    "start_time": "2021-12-18T20:24:11.771Z"
   },
   {
    "duration": 795,
    "start_time": "2021-12-18T20:24:11.778Z"
   },
   {
    "duration": 3,
    "start_time": "2021-12-18T20:24:12.576Z"
   },
   {
    "duration": 4,
    "start_time": "2021-12-18T20:24:12.581Z"
   },
   {
    "duration": 41225,
    "start_time": "2021-12-18T20:24:12.607Z"
   },
   {
    "duration": 7,
    "start_time": "2021-12-18T20:24:53.834Z"
   },
   {
    "duration": 411,
    "start_time": "2021-12-18T20:24:53.842Z"
   },
   {
    "duration": -165,
    "start_time": "2021-12-18T20:24:54.421Z"
   },
   {
    "duration": -176,
    "start_time": "2021-12-18T20:24:54.433Z"
   },
   {
    "duration": -186,
    "start_time": "2021-12-18T20:24:54.443Z"
   },
   {
    "duration": -204,
    "start_time": "2021-12-18T20:24:54.462Z"
   },
   {
    "duration": -208,
    "start_time": "2021-12-18T20:24:54.467Z"
   },
   {
    "duration": -213,
    "start_time": "2021-12-18T20:24:54.473Z"
   },
   {
    "duration": -216,
    "start_time": "2021-12-18T20:24:54.477Z"
   },
   {
    "duration": -221,
    "start_time": "2021-12-18T20:24:54.483Z"
   },
   {
    "duration": -225,
    "start_time": "2021-12-18T20:24:54.488Z"
   },
   {
    "duration": -229,
    "start_time": "2021-12-18T20:24:54.493Z"
   },
   {
    "duration": -235,
    "start_time": "2021-12-18T20:24:54.499Z"
   },
   {
    "duration": -238,
    "start_time": "2021-12-18T20:24:54.503Z"
   },
   {
    "duration": -251,
    "start_time": "2021-12-18T20:24:54.518Z"
   },
   {
    "duration": -256,
    "start_time": "2021-12-18T20:24:54.523Z"
   },
   {
    "duration": -261,
    "start_time": "2021-12-18T20:24:54.529Z"
   },
   {
    "duration": -265,
    "start_time": "2021-12-18T20:24:54.534Z"
   },
   {
    "duration": -269,
    "start_time": "2021-12-18T20:24:54.539Z"
   },
   {
    "duration": -273,
    "start_time": "2021-12-18T20:24:54.544Z"
   },
   {
    "duration": -277,
    "start_time": "2021-12-18T20:24:54.549Z"
   },
   {
    "duration": -281,
    "start_time": "2021-12-18T20:24:54.554Z"
   },
   {
    "duration": -285,
    "start_time": "2021-12-18T20:24:54.559Z"
   },
   {
    "duration": -289,
    "start_time": "2021-12-18T20:24:54.564Z"
   },
   {
    "duration": -292,
    "start_time": "2021-12-18T20:24:54.568Z"
   },
   {
    "duration": -295,
    "start_time": "2021-12-18T20:24:54.572Z"
   },
   {
    "duration": -298,
    "start_time": "2021-12-18T20:24:54.576Z"
   },
   {
    "duration": -302,
    "start_time": "2021-12-18T20:24:54.581Z"
   },
   {
    "duration": -306,
    "start_time": "2021-12-18T20:24:54.586Z"
   },
   {
    "duration": -309,
    "start_time": "2021-12-18T20:24:54.591Z"
   },
   {
    "duration": -313,
    "start_time": "2021-12-18T20:24:54.596Z"
   },
   {
    "duration": 764,
    "start_time": "2021-12-18T20:25:17.840Z"
   },
   {
    "duration": 845,
    "start_time": "2021-12-18T20:25:26.570Z"
   },
   {
    "duration": 5,
    "start_time": "2021-12-18T20:25:27.417Z"
   },
   {
    "duration": 105,
    "start_time": "2021-12-18T20:25:27.424Z"
   },
   {
    "duration": 13,
    "start_time": "2021-12-18T20:25:27.531Z"
   },
   {
    "duration": 24,
    "start_time": "2021-12-18T20:25:27.546Z"
   },
   {
    "duration": 323,
    "start_time": "2021-12-18T20:25:27.572Z"
   },
   {
    "duration": 337,
    "start_time": "2021-12-18T20:25:27.897Z"
   },
   {
    "duration": 338,
    "start_time": "2021-12-18T20:25:28.237Z"
   },
   {
    "duration": 262,
    "start_time": "2021-12-18T20:25:28.578Z"
   },
   {
    "duration": 9,
    "start_time": "2021-12-18T20:25:28.842Z"
   },
   {
    "duration": 6,
    "start_time": "2021-12-18T20:25:28.853Z"
   },
   {
    "duration": 8,
    "start_time": "2021-12-18T20:25:28.861Z"
   },
   {
    "duration": 43,
    "start_time": "2021-12-18T20:25:28.871Z"
   },
   {
    "duration": 5,
    "start_time": "2021-12-18T20:25:28.916Z"
   },
   {
    "duration": 4,
    "start_time": "2021-12-18T20:25:28.923Z"
   },
   {
    "duration": 5,
    "start_time": "2021-12-18T20:25:28.929Z"
   },
   {
    "duration": 3,
    "start_time": "2021-12-18T20:25:28.936Z"
   },
   {
    "duration": 5,
    "start_time": "2021-12-18T20:25:28.941Z"
   },
   {
    "duration": 7,
    "start_time": "2021-12-18T20:25:28.948Z"
   },
   {
    "duration": 255,
    "start_time": "2021-12-18T20:25:28.956Z"
   },
   {
    "duration": 9,
    "start_time": "2021-12-18T20:25:29.213Z"
   },
   {
    "duration": 7,
    "start_time": "2021-12-18T20:25:29.224Z"
   },
   {
    "duration": 255,
    "start_time": "2021-12-18T20:25:29.236Z"
   },
   {
    "duration": 19,
    "start_time": "2021-12-18T20:25:29.493Z"
   },
   {
    "duration": 250,
    "start_time": "2021-12-18T20:25:29.514Z"
   },
   {
    "duration": 227,
    "start_time": "2021-12-18T20:25:29.766Z"
   },
   {
    "duration": 21,
    "start_time": "2021-12-18T20:25:29.995Z"
   },
   {
    "duration": 32,
    "start_time": "2021-12-18T20:25:30.018Z"
   },
   {
    "duration": 290,
    "start_time": "2021-12-18T20:25:30.053Z"
   },
   {
    "duration": 8,
    "start_time": "2021-12-18T20:25:30.345Z"
   },
   {
    "duration": 28,
    "start_time": "2021-12-18T20:25:30.355Z"
   },
   {
    "duration": 280,
    "start_time": "2021-12-18T20:25:30.386Z"
   },
   {
    "duration": 19,
    "start_time": "2021-12-18T20:25:30.668Z"
   },
   {
    "duration": 25,
    "start_time": "2021-12-18T20:25:30.689Z"
   },
   {
    "duration": 10,
    "start_time": "2021-12-18T20:25:30.716Z"
   },
   {
    "duration": 16,
    "start_time": "2021-12-18T20:25:30.727Z"
   },
   {
    "duration": 11,
    "start_time": "2021-12-18T20:25:30.745Z"
   },
   {
    "duration": 11,
    "start_time": "2021-12-18T20:25:30.757Z"
   },
   {
    "duration": 39,
    "start_time": "2021-12-18T20:25:30.769Z"
   },
   {
    "duration": 12,
    "start_time": "2021-12-18T20:25:30.810Z"
   },
   {
    "duration": 11,
    "start_time": "2021-12-18T20:25:30.824Z"
   },
   {
    "duration": 11,
    "start_time": "2021-12-18T20:25:30.837Z"
   },
   {
    "duration": 9,
    "start_time": "2021-12-18T20:25:30.850Z"
   },
   {
    "duration": 8,
    "start_time": "2021-12-18T20:25:30.861Z"
   },
   {
    "duration": 417,
    "start_time": "2021-12-18T20:25:30.871Z"
   },
   {
    "duration": 22,
    "start_time": "2021-12-18T20:25:31.290Z"
   },
   {
    "duration": 12,
    "start_time": "2021-12-18T20:25:31.314Z"
   },
   {
    "duration": 29,
    "start_time": "2021-12-18T20:25:31.328Z"
   },
   {
    "duration": 7,
    "start_time": "2021-12-18T20:25:31.359Z"
   },
   {
    "duration": 258,
    "start_time": "2021-12-18T20:25:31.368Z"
   },
   {
    "duration": 12,
    "start_time": "2021-12-18T20:25:31.628Z"
   },
   {
    "duration": 5,
    "start_time": "2021-12-18T20:25:31.642Z"
   },
   {
    "duration": 13,
    "start_time": "2021-12-18T20:25:31.649Z"
   },
   {
    "duration": 64,
    "start_time": "2021-12-18T20:25:31.664Z"
   },
   {
    "duration": 22,
    "start_time": "2021-12-18T20:25:31.729Z"
   },
   {
    "duration": 5,
    "start_time": "2021-12-18T20:25:31.753Z"
   },
   {
    "duration": 704,
    "start_time": "2021-12-18T20:25:31.760Z"
   },
   {
    "duration": 3,
    "start_time": "2021-12-18T20:25:32.467Z"
   },
   {
    "duration": 6,
    "start_time": "2021-12-18T20:25:32.472Z"
   },
   {
    "duration": 42404,
    "start_time": "2021-12-18T20:25:32.480Z"
   },
   {
    "duration": 2,
    "start_time": "2021-12-18T20:26:14.886Z"
   },
   {
    "duration": 501,
    "start_time": "2021-12-18T20:26:14.890Z"
   },
   {
    "duration": -111,
    "start_time": "2021-12-18T20:26:15.506Z"
   },
   {
    "duration": -120,
    "start_time": "2021-12-18T20:26:15.517Z"
   },
   {
    "duration": -127,
    "start_time": "2021-12-18T20:26:15.525Z"
   },
   {
    "duration": -140,
    "start_time": "2021-12-18T20:26:15.539Z"
   },
   {
    "duration": -144,
    "start_time": "2021-12-18T20:26:15.544Z"
   },
   {
    "duration": -146,
    "start_time": "2021-12-18T20:26:15.548Z"
   },
   {
    "duration": -149,
    "start_time": "2021-12-18T20:26:15.552Z"
   },
   {
    "duration": -153,
    "start_time": "2021-12-18T20:26:15.557Z"
   },
   {
    "duration": -157,
    "start_time": "2021-12-18T20:26:15.562Z"
   },
   {
    "duration": -159,
    "start_time": "2021-12-18T20:26:15.566Z"
   },
   {
    "duration": -162,
    "start_time": "2021-12-18T20:26:15.570Z"
   },
   {
    "duration": -165,
    "start_time": "2021-12-18T20:26:15.574Z"
   },
   {
    "duration": -168,
    "start_time": "2021-12-18T20:26:15.579Z"
   },
   {
    "duration": -171,
    "start_time": "2021-12-18T20:26:15.583Z"
   },
   {
    "duration": -175,
    "start_time": "2021-12-18T20:26:15.588Z"
   },
   {
    "duration": -178,
    "start_time": "2021-12-18T20:26:15.592Z"
   },
   {
    "duration": -182,
    "start_time": "2021-12-18T20:26:15.597Z"
   },
   {
    "duration": -184,
    "start_time": "2021-12-18T20:26:15.601Z"
   },
   {
    "duration": -188,
    "start_time": "2021-12-18T20:26:15.606Z"
   },
   {
    "duration": -191,
    "start_time": "2021-12-18T20:26:15.610Z"
   },
   {
    "duration": -194,
    "start_time": "2021-12-18T20:26:15.614Z"
   },
   {
    "duration": -197,
    "start_time": "2021-12-18T20:26:15.619Z"
   },
   {
    "duration": -200,
    "start_time": "2021-12-18T20:26:15.623Z"
   },
   {
    "duration": -202,
    "start_time": "2021-12-18T20:26:15.627Z"
   },
   {
    "duration": -205,
    "start_time": "2021-12-18T20:26:15.632Z"
   },
   {
    "duration": -208,
    "start_time": "2021-12-18T20:26:15.636Z"
   },
   {
    "duration": -220,
    "start_time": "2021-12-18T20:26:15.650Z"
   },
   {
    "duration": -223,
    "start_time": "2021-12-18T20:26:15.654Z"
   },
   {
    "duration": -227,
    "start_time": "2021-12-18T20:26:15.659Z"
   },
   {
    "duration": 817,
    "start_time": "2021-12-18T20:27:53.507Z"
   },
   {
    "duration": 3,
    "start_time": "2021-12-18T20:27:54.326Z"
   },
   {
    "duration": 58,
    "start_time": "2021-12-18T20:27:54.331Z"
   },
   {
    "duration": 10,
    "start_time": "2021-12-18T20:27:54.406Z"
   },
   {
    "duration": 20,
    "start_time": "2021-12-18T20:27:54.417Z"
   },
   {
    "duration": 254,
    "start_time": "2021-12-18T20:27:54.439Z"
   },
   {
    "duration": 240,
    "start_time": "2021-12-18T20:27:54.696Z"
   },
   {
    "duration": 246,
    "start_time": "2021-12-18T20:27:54.939Z"
   },
   {
    "duration": 269,
    "start_time": "2021-12-18T20:27:55.187Z"
   },
   {
    "duration": 7,
    "start_time": "2021-12-18T20:27:55.458Z"
   },
   {
    "duration": 5,
    "start_time": "2021-12-18T20:27:55.467Z"
   },
   {
    "duration": 9,
    "start_time": "2021-12-18T20:27:55.473Z"
   },
   {
    "duration": 34,
    "start_time": "2021-12-18T20:27:55.483Z"
   },
   {
    "duration": 6,
    "start_time": "2021-12-18T20:27:55.519Z"
   },
   {
    "duration": 4,
    "start_time": "2021-12-18T20:27:55.527Z"
   },
   {
    "duration": 5,
    "start_time": "2021-12-18T20:27:55.533Z"
   },
   {
    "duration": 4,
    "start_time": "2021-12-18T20:27:55.540Z"
   },
   {
    "duration": 4,
    "start_time": "2021-12-18T20:27:55.546Z"
   },
   {
    "duration": 7,
    "start_time": "2021-12-18T20:27:55.551Z"
   },
   {
    "duration": 248,
    "start_time": "2021-12-18T20:27:55.560Z"
   },
   {
    "duration": 11,
    "start_time": "2021-12-18T20:27:55.810Z"
   },
   {
    "duration": 5,
    "start_time": "2021-12-18T20:27:55.823Z"
   },
   {
    "duration": 257,
    "start_time": "2021-12-18T20:27:55.833Z"
   },
   {
    "duration": 19,
    "start_time": "2021-12-18T20:27:56.093Z"
   },
   {
    "duration": 274,
    "start_time": "2021-12-18T20:27:56.114Z"
   },
   {
    "duration": 218,
    "start_time": "2021-12-18T20:27:56.390Z"
   },
   {
    "duration": 11,
    "start_time": "2021-12-18T20:27:56.610Z"
   },
   {
    "duration": 21,
    "start_time": "2021-12-18T20:27:56.622Z"
   },
   {
    "duration": 208,
    "start_time": "2021-12-18T20:27:56.645Z"
   },
   {
    "duration": 6,
    "start_time": "2021-12-18T20:27:56.855Z"
   },
   {
    "duration": 11,
    "start_time": "2021-12-18T20:27:56.863Z"
   },
   {
    "duration": 221,
    "start_time": "2021-12-18T20:27:56.875Z"
   },
   {
    "duration": 22,
    "start_time": "2021-12-18T20:27:57.098Z"
   },
   {
    "duration": 10,
    "start_time": "2021-12-18T20:27:57.122Z"
   },
   {
    "duration": 10,
    "start_time": "2021-12-18T20:27:57.134Z"
   },
   {
    "duration": 14,
    "start_time": "2021-12-18T20:27:57.146Z"
   },
   {
    "duration": 9,
    "start_time": "2021-12-18T20:27:57.162Z"
   },
   {
    "duration": 38,
    "start_time": "2021-12-18T20:27:57.173Z"
   },
   {
    "duration": 7,
    "start_time": "2021-12-18T20:27:57.213Z"
   },
   {
    "duration": 9,
    "start_time": "2021-12-18T20:27:57.222Z"
   },
   {
    "duration": 8,
    "start_time": "2021-12-18T20:27:57.233Z"
   },
   {
    "duration": 9,
    "start_time": "2021-12-18T20:27:57.242Z"
   },
   {
    "duration": 7,
    "start_time": "2021-12-18T20:27:57.252Z"
   },
   {
    "duration": 47,
    "start_time": "2021-12-18T20:27:57.261Z"
   },
   {
    "duration": 333,
    "start_time": "2021-12-18T20:27:57.311Z"
   },
   {
    "duration": 9,
    "start_time": "2021-12-18T20:27:57.646Z"
   },
   {
    "duration": 16,
    "start_time": "2021-12-18T20:27:57.657Z"
   },
   {
    "duration": 52,
    "start_time": "2021-12-18T20:27:57.675Z"
   },
   {
    "duration": 7,
    "start_time": "2021-12-18T20:27:57.730Z"
   },
   {
    "duration": 260,
    "start_time": "2021-12-18T20:27:57.739Z"
   },
   {
    "duration": 15,
    "start_time": "2021-12-18T20:27:58.000Z"
   },
   {
    "duration": 5,
    "start_time": "2021-12-18T20:27:58.017Z"
   },
   {
    "duration": 12,
    "start_time": "2021-12-18T20:27:58.023Z"
   },
   {
    "duration": 31,
    "start_time": "2021-12-18T20:27:58.037Z"
   },
   {
    "duration": 55,
    "start_time": "2021-12-18T20:27:58.069Z"
   },
   {
    "duration": 5,
    "start_time": "2021-12-18T20:27:58.126Z"
   },
   {
    "duration": 699,
    "start_time": "2021-12-18T20:27:58.133Z"
   },
   {
    "duration": 6,
    "start_time": "2021-12-18T20:27:58.834Z"
   },
   {
    "duration": 4,
    "start_time": "2021-12-18T20:27:58.841Z"
   },
   {
    "duration": 9480,
    "start_time": "2021-12-18T20:27:58.847Z"
   },
   {
    "duration": 3,
    "start_time": "2021-12-18T20:28:08.329Z"
   },
   {
    "duration": 403,
    "start_time": "2021-12-18T20:28:08.334Z"
   },
   {
    "duration": -33,
    "start_time": "2021-12-18T20:28:08.773Z"
   },
   {
    "duration": -40,
    "start_time": "2021-12-18T20:28:08.781Z"
   },
   {
    "duration": -45,
    "start_time": "2021-12-18T20:28:08.787Z"
   },
   {
    "duration": -50,
    "start_time": "2021-12-18T20:28:08.794Z"
   },
   {
    "duration": -55,
    "start_time": "2021-12-18T20:28:08.800Z"
   },
   {
    "duration": -59,
    "start_time": "2021-12-18T20:28:08.805Z"
   },
   {
    "duration": -63,
    "start_time": "2021-12-18T20:28:08.810Z"
   },
   {
    "duration": -67,
    "start_time": "2021-12-18T20:28:08.815Z"
   },
   {
    "duration": -70,
    "start_time": "2021-12-18T20:28:08.819Z"
   },
   {
    "duration": -75,
    "start_time": "2021-12-18T20:28:08.825Z"
   },
   {
    "duration": -86,
    "start_time": "2021-12-18T20:28:08.837Z"
   },
   {
    "duration": -90,
    "start_time": "2021-12-18T20:28:08.843Z"
   },
   {
    "duration": -94,
    "start_time": "2021-12-18T20:28:08.848Z"
   },
   {
    "duration": -99,
    "start_time": "2021-12-18T20:28:08.854Z"
   },
   {
    "duration": -103,
    "start_time": "2021-12-18T20:28:08.859Z"
   },
   {
    "duration": -107,
    "start_time": "2021-12-18T20:28:08.864Z"
   },
   {
    "duration": -109,
    "start_time": "2021-12-18T20:28:08.868Z"
   },
   {
    "duration": -112,
    "start_time": "2021-12-18T20:28:08.872Z"
   },
   {
    "duration": -116,
    "start_time": "2021-12-18T20:28:08.877Z"
   },
   {
    "duration": -119,
    "start_time": "2021-12-18T20:28:08.881Z"
   },
   {
    "duration": -122,
    "start_time": "2021-12-18T20:28:08.885Z"
   },
   {
    "duration": -126,
    "start_time": "2021-12-18T20:28:08.890Z"
   },
   {
    "duration": -128,
    "start_time": "2021-12-18T20:28:08.894Z"
   },
   {
    "duration": -132,
    "start_time": "2021-12-18T20:28:08.899Z"
   },
   {
    "duration": -135,
    "start_time": "2021-12-18T20:28:08.903Z"
   },
   {
    "duration": -139,
    "start_time": "2021-12-18T20:28:08.908Z"
   },
   {
    "duration": -141,
    "start_time": "2021-12-18T20:28:08.912Z"
   },
   {
    "duration": -145,
    "start_time": "2021-12-18T20:28:08.917Z"
   },
   {
    "duration": -148,
    "start_time": "2021-12-18T20:28:08.921Z"
   },
   {
    "duration": 759,
    "start_time": "2021-12-18T20:28:46.428Z"
   },
   {
    "duration": 3,
    "start_time": "2021-12-18T20:28:47.189Z"
   },
   {
    "duration": 57,
    "start_time": "2021-12-18T20:28:47.194Z"
   },
   {
    "duration": 14,
    "start_time": "2021-12-18T20:28:47.253Z"
   },
   {
    "duration": 46,
    "start_time": "2021-12-18T20:28:47.269Z"
   },
   {
    "duration": 339,
    "start_time": "2021-12-18T20:28:47.317Z"
   },
   {
    "duration": 373,
    "start_time": "2021-12-18T20:28:47.658Z"
   },
   {
    "duration": 364,
    "start_time": "2021-12-18T20:28:48.035Z"
   },
   {
    "duration": 273,
    "start_time": "2021-12-18T20:28:48.401Z"
   },
   {
    "duration": 7,
    "start_time": "2021-12-18T20:28:48.676Z"
   },
   {
    "duration": 22,
    "start_time": "2021-12-18T20:28:48.685Z"
   },
   {
    "duration": 8,
    "start_time": "2021-12-18T20:28:48.709Z"
   },
   {
    "duration": 16,
    "start_time": "2021-12-18T20:28:48.718Z"
   },
   {
    "duration": 7,
    "start_time": "2021-12-18T20:28:48.736Z"
   },
   {
    "duration": 4,
    "start_time": "2021-12-18T20:28:48.745Z"
   },
   {
    "duration": 6,
    "start_time": "2021-12-18T20:28:48.751Z"
   },
   {
    "duration": 49,
    "start_time": "2021-12-18T20:28:48.758Z"
   },
   {
    "duration": 5,
    "start_time": "2021-12-18T20:28:48.809Z"
   },
   {
    "duration": 9,
    "start_time": "2021-12-18T20:28:48.816Z"
   },
   {
    "duration": 328,
    "start_time": "2021-12-18T20:28:48.828Z"
   },
   {
    "duration": 15,
    "start_time": "2021-12-18T20:28:49.158Z"
   },
   {
    "duration": 5,
    "start_time": "2021-12-18T20:28:49.175Z"
   },
   {
    "duration": 367,
    "start_time": "2021-12-18T20:28:49.207Z"
   },
   {
    "duration": 14,
    "start_time": "2021-12-18T20:28:49.578Z"
   },
   {
    "duration": 261,
    "start_time": "2021-12-18T20:28:49.594Z"
   },
   {
    "duration": 229,
    "start_time": "2021-12-18T20:28:49.857Z"
   },
   {
    "duration": 23,
    "start_time": "2021-12-18T20:28:50.088Z"
   },
   {
    "duration": 23,
    "start_time": "2021-12-18T20:28:50.113Z"
   },
   {
    "duration": 218,
    "start_time": "2021-12-18T20:28:50.138Z"
   },
   {
    "duration": 9,
    "start_time": "2021-12-18T20:28:50.358Z"
   },
   {
    "duration": 18,
    "start_time": "2021-12-18T20:28:50.369Z"
   },
   {
    "duration": 310,
    "start_time": "2021-12-18T20:28:50.408Z"
   },
   {
    "duration": 26,
    "start_time": "2021-12-18T20:28:50.720Z"
   },
   {
    "duration": 17,
    "start_time": "2021-12-18T20:28:50.748Z"
   },
   {
    "duration": 11,
    "start_time": "2021-12-18T20:28:50.767Z"
   },
   {
    "duration": 48,
    "start_time": "2021-12-18T20:28:50.780Z"
   },
   {
    "duration": 12,
    "start_time": "2021-12-18T20:28:50.830Z"
   },
   {
    "duration": 12,
    "start_time": "2021-12-18T20:28:50.844Z"
   },
   {
    "duration": 9,
    "start_time": "2021-12-18T20:28:50.859Z"
   },
   {
    "duration": 40,
    "start_time": "2021-12-18T20:28:50.871Z"
   },
   {
    "duration": 10,
    "start_time": "2021-12-18T20:28:50.913Z"
   },
   {
    "duration": 11,
    "start_time": "2021-12-18T20:28:50.925Z"
   },
   {
    "duration": 9,
    "start_time": "2021-12-18T20:28:50.938Z"
   },
   {
    "duration": 8,
    "start_time": "2021-12-18T20:28:50.949Z"
   },
   {
    "duration": 412,
    "start_time": "2021-12-18T20:28:50.959Z"
   },
   {
    "duration": 10,
    "start_time": "2021-12-18T20:28:51.374Z"
   },
   {
    "duration": 27,
    "start_time": "2021-12-18T20:28:51.386Z"
   },
   {
    "duration": 35,
    "start_time": "2021-12-18T20:28:51.415Z"
   },
   {
    "duration": 8,
    "start_time": "2021-12-18T20:28:51.453Z"
   },
   {
    "duration": 253,
    "start_time": "2021-12-18T20:28:51.463Z"
   },
   {
    "duration": 11,
    "start_time": "2021-12-18T20:28:51.718Z"
   },
   {
    "duration": 6,
    "start_time": "2021-12-18T20:28:51.731Z"
   },
   {
    "duration": 13,
    "start_time": "2021-12-18T20:28:51.739Z"
   },
   {
    "duration": 60,
    "start_time": "2021-12-18T20:28:51.754Z"
   },
   {
    "duration": 20,
    "start_time": "2021-12-18T20:28:51.816Z"
   },
   {
    "duration": 6,
    "start_time": "2021-12-18T20:28:51.838Z"
   },
   {
    "duration": 698,
    "start_time": "2021-12-18T20:28:51.846Z"
   },
   {
    "duration": 3,
    "start_time": "2021-12-18T20:28:52.547Z"
   },
   {
    "duration": 5,
    "start_time": "2021-12-18T20:28:52.552Z"
   },
   {
    "duration": 9576,
    "start_time": "2021-12-18T20:28:52.559Z"
   },
   {
    "duration": 2,
    "start_time": "2021-12-18T20:29:02.137Z"
   },
   {
    "duration": 459,
    "start_time": "2021-12-18T20:29:02.141Z"
   },
   {
    "duration": -20,
    "start_time": "2021-12-18T20:29:02.623Z"
   },
   {
    "duration": -31,
    "start_time": "2021-12-18T20:29:02.635Z"
   },
   {
    "duration": -40,
    "start_time": "2021-12-18T20:29:02.645Z"
   },
   {
    "duration": -47,
    "start_time": "2021-12-18T20:29:02.653Z"
   },
   {
    "duration": -52,
    "start_time": "2021-12-18T20:29:02.658Z"
   },
   {
    "duration": -57,
    "start_time": "2021-12-18T20:29:02.664Z"
   },
   {
    "duration": -62,
    "start_time": "2021-12-18T20:29:02.670Z"
   },
   {
    "duration": -66,
    "start_time": "2021-12-18T20:29:02.675Z"
   },
   {
    "duration": -70,
    "start_time": "2021-12-18T20:29:02.681Z"
   },
   {
    "duration": -76,
    "start_time": "2021-12-18T20:29:02.687Z"
   },
   {
    "duration": -80,
    "start_time": "2021-12-18T20:29:02.692Z"
   },
   {
    "duration": -84,
    "start_time": "2021-12-18T20:29:02.697Z"
   },
   {
    "duration": -88,
    "start_time": "2021-12-18T20:29:02.702Z"
   },
   {
    "duration": -93,
    "start_time": "2021-12-18T20:29:02.708Z"
   },
   {
    "duration": -97,
    "start_time": "2021-12-18T20:29:02.713Z"
   },
   {
    "duration": -101,
    "start_time": "2021-12-18T20:29:02.718Z"
   },
   {
    "duration": -116,
    "start_time": "2021-12-18T20:29:02.734Z"
   },
   {
    "duration": -122,
    "start_time": "2021-12-18T20:29:02.741Z"
   },
   {
    "duration": -127,
    "start_time": "2021-12-18T20:29:02.746Z"
   },
   {
    "duration": -132,
    "start_time": "2021-12-18T20:29:02.752Z"
   },
   {
    "duration": -135,
    "start_time": "2021-12-18T20:29:02.756Z"
   },
   {
    "duration": -140,
    "start_time": "2021-12-18T20:29:02.763Z"
   },
   {
    "duration": -143,
    "start_time": "2021-12-18T20:29:02.768Z"
   },
   {
    "duration": -147,
    "start_time": "2021-12-18T20:29:02.773Z"
   },
   {
    "duration": -151,
    "start_time": "2021-12-18T20:29:02.779Z"
   },
   {
    "duration": -156,
    "start_time": "2021-12-18T20:29:02.785Z"
   },
   {
    "duration": -160,
    "start_time": "2021-12-18T20:29:02.790Z"
   },
   {
    "duration": -164,
    "start_time": "2021-12-18T20:29:02.795Z"
   },
   {
    "duration": -167,
    "start_time": "2021-12-18T20:29:02.800Z"
   },
   {
    "duration": 817,
    "start_time": "2021-12-18T20:34:29.666Z"
   },
   {
    "duration": 5,
    "start_time": "2021-12-18T20:34:30.486Z"
   },
   {
    "duration": 62,
    "start_time": "2021-12-18T20:34:30.493Z"
   },
   {
    "duration": 11,
    "start_time": "2021-12-18T20:34:30.557Z"
   },
   {
    "duration": 39,
    "start_time": "2021-12-18T20:34:30.570Z"
   },
   {
    "duration": 234,
    "start_time": "2021-12-18T20:34:30.611Z"
   },
   {
    "duration": 255,
    "start_time": "2021-12-18T20:34:30.847Z"
   },
   {
    "duration": 287,
    "start_time": "2021-12-18T20:34:31.107Z"
   },
   {
    "duration": 262,
    "start_time": "2021-12-18T20:34:31.396Z"
   },
   {
    "duration": 10,
    "start_time": "2021-12-18T20:34:31.660Z"
   },
   {
    "duration": 9,
    "start_time": "2021-12-18T20:34:31.671Z"
   },
   {
    "duration": 29,
    "start_time": "2021-12-18T20:34:31.682Z"
   },
   {
    "duration": 23,
    "start_time": "2021-12-18T20:34:31.713Z"
   },
   {
    "duration": 5,
    "start_time": "2021-12-18T20:34:31.738Z"
   },
   {
    "duration": 8,
    "start_time": "2021-12-18T20:34:31.745Z"
   },
   {
    "duration": 5,
    "start_time": "2021-12-18T20:34:31.755Z"
   },
   {
    "duration": 4,
    "start_time": "2021-12-18T20:34:31.762Z"
   },
   {
    "duration": 5,
    "start_time": "2021-12-18T20:34:31.768Z"
   },
   {
    "duration": 37,
    "start_time": "2021-12-18T20:34:31.775Z"
   },
   {
    "duration": 207,
    "start_time": "2021-12-18T20:34:31.814Z"
   },
   {
    "duration": 10,
    "start_time": "2021-12-18T20:34:32.023Z"
   },
   {
    "duration": 7,
    "start_time": "2021-12-18T20:34:32.034Z"
   },
   {
    "duration": 240,
    "start_time": "2021-12-18T20:34:32.044Z"
   },
   {
    "duration": 20,
    "start_time": "2021-12-18T20:34:32.287Z"
   },
   {
    "duration": 232,
    "start_time": "2021-12-18T20:34:32.309Z"
   },
   {
    "duration": 216,
    "start_time": "2021-12-18T20:34:32.543Z"
   },
   {
    "duration": 9,
    "start_time": "2021-12-18T20:34:32.761Z"
   },
   {
    "duration": 20,
    "start_time": "2021-12-18T20:34:32.772Z"
   },
   {
    "duration": 203,
    "start_time": "2021-12-18T20:34:32.807Z"
   },
   {
    "duration": 7,
    "start_time": "2021-12-18T20:34:33.012Z"
   },
   {
    "duration": 11,
    "start_time": "2021-12-18T20:34:33.020Z"
   },
   {
    "duration": 213,
    "start_time": "2021-12-18T20:34:33.033Z"
   },
   {
    "duration": 19,
    "start_time": "2021-12-18T20:34:33.248Z"
   },
   {
    "duration": 12,
    "start_time": "2021-12-18T20:34:33.269Z"
   },
   {
    "duration": 30,
    "start_time": "2021-12-18T20:34:33.283Z"
   },
   {
    "duration": 13,
    "start_time": "2021-12-18T20:34:33.316Z"
   },
   {
    "duration": 14,
    "start_time": "2021-12-18T20:34:33.331Z"
   },
   {
    "duration": 11,
    "start_time": "2021-12-18T20:34:33.347Z"
   },
   {
    "duration": 6,
    "start_time": "2021-12-18T20:34:33.360Z"
   },
   {
    "duration": 40,
    "start_time": "2021-12-18T20:34:33.368Z"
   },
   {
    "duration": 9,
    "start_time": "2021-12-18T20:34:33.410Z"
   },
   {
    "duration": 9,
    "start_time": "2021-12-18T20:34:33.421Z"
   },
   {
    "duration": 6,
    "start_time": "2021-12-18T20:34:33.432Z"
   },
   {
    "duration": 6,
    "start_time": "2021-12-18T20:34:33.440Z"
   },
   {
    "duration": 288,
    "start_time": "2021-12-18T20:34:33.448Z"
   },
   {
    "duration": 8,
    "start_time": "2021-12-18T20:34:33.738Z"
   },
   {
    "duration": 9,
    "start_time": "2021-12-18T20:34:33.747Z"
   },
   {
    "duration": 52,
    "start_time": "2021-12-18T20:34:33.757Z"
   },
   {
    "duration": 6,
    "start_time": "2021-12-18T20:34:33.811Z"
   },
   {
    "duration": 235,
    "start_time": "2021-12-18T20:34:33.819Z"
   },
   {
    "duration": 13,
    "start_time": "2021-12-18T20:34:34.056Z"
   },
   {
    "duration": 6,
    "start_time": "2021-12-18T20:34:34.071Z"
   },
   {
    "duration": 33,
    "start_time": "2021-12-18T20:34:34.080Z"
   },
   {
    "duration": 34,
    "start_time": "2021-12-18T20:34:34.115Z"
   },
   {
    "duration": 21,
    "start_time": "2021-12-18T20:34:34.151Z"
   },
   {
    "duration": 35,
    "start_time": "2021-12-18T20:34:34.174Z"
   },
   {
    "duration": 830,
    "start_time": "2021-12-18T20:34:34.211Z"
   },
   {
    "duration": 17,
    "start_time": "2021-12-18T20:34:35.044Z"
   },
   {
    "duration": 9,
    "start_time": "2021-12-18T20:34:35.064Z"
   },
   {
    "duration": 8845,
    "start_time": "2021-12-18T20:34:35.076Z"
   },
   {
    "duration": 2,
    "start_time": "2021-12-18T20:34:43.923Z"
   },
   {
    "duration": 408,
    "start_time": "2021-12-18T20:34:43.927Z"
   },
   {
    "duration": -102,
    "start_time": "2021-12-18T20:34:44.439Z"
   },
   {
    "duration": -112,
    "start_time": "2021-12-18T20:34:44.450Z"
   },
   {
    "duration": -115,
    "start_time": "2021-12-18T20:34:44.454Z"
   },
   {
    "duration": -119,
    "start_time": "2021-12-18T20:34:44.459Z"
   },
   {
    "duration": -122,
    "start_time": "2021-12-18T20:34:44.463Z"
   },
   {
    "duration": -126,
    "start_time": "2021-12-18T20:34:44.468Z"
   },
   {
    "duration": -129,
    "start_time": "2021-12-18T20:34:44.472Z"
   },
   {
    "duration": -134,
    "start_time": "2021-12-18T20:34:44.478Z"
   },
   {
    "duration": -138,
    "start_time": "2021-12-18T20:34:44.483Z"
   },
   {
    "duration": -143,
    "start_time": "2021-12-18T20:34:44.489Z"
   },
   {
    "duration": -146,
    "start_time": "2021-12-18T20:34:44.493Z"
   },
   {
    "duration": -150,
    "start_time": "2021-12-18T20:34:44.498Z"
   },
   {
    "duration": -154,
    "start_time": "2021-12-18T20:34:44.503Z"
   },
   {
    "duration": -167,
    "start_time": "2021-12-18T20:34:44.517Z"
   },
   {
    "duration": -198,
    "start_time": "2021-12-18T20:34:44.549Z"
   },
   {
    "duration": -202,
    "start_time": "2021-12-18T20:34:44.554Z"
   },
   {
    "duration": -207,
    "start_time": "2021-12-18T20:34:44.560Z"
   },
   {
    "duration": -211,
    "start_time": "2021-12-18T20:34:44.565Z"
   },
   {
    "duration": -215,
    "start_time": "2021-12-18T20:34:44.570Z"
   },
   {
    "duration": -220,
    "start_time": "2021-12-18T20:34:44.576Z"
   },
   {
    "duration": -224,
    "start_time": "2021-12-18T20:34:44.581Z"
   },
   {
    "duration": -263,
    "start_time": "2021-12-18T20:34:44.621Z"
   },
   {
    "duration": -267,
    "start_time": "2021-12-18T20:34:44.626Z"
   },
   {
    "duration": -272,
    "start_time": "2021-12-18T20:34:44.632Z"
   },
   {
    "duration": -275,
    "start_time": "2021-12-18T20:34:44.636Z"
   },
   {
    "duration": -280,
    "start_time": "2021-12-18T20:34:44.642Z"
   },
   {
    "duration": -284,
    "start_time": "2021-12-18T20:34:44.647Z"
   },
   {
    "duration": -288,
    "start_time": "2021-12-18T20:34:44.652Z"
   },
   {
    "duration": -292,
    "start_time": "2021-12-18T20:34:44.657Z"
   },
   {
    "duration": 7,
    "start_time": "2021-12-18T20:37:42.945Z"
   },
   {
    "duration": 14,
    "start_time": "2021-12-18T20:37:49.676Z"
   },
   {
    "duration": 787,
    "start_time": "2021-12-18T20:38:05.144Z"
   },
   {
    "duration": 4,
    "start_time": "2021-12-18T20:38:05.933Z"
   },
   {
    "duration": 72,
    "start_time": "2021-12-18T20:38:05.939Z"
   },
   {
    "duration": 11,
    "start_time": "2021-12-18T20:38:06.013Z"
   },
   {
    "duration": 20,
    "start_time": "2021-12-18T20:38:06.026Z"
   },
   {
    "duration": 259,
    "start_time": "2021-12-18T20:38:06.049Z"
   },
   {
    "duration": 256,
    "start_time": "2021-12-18T20:38:06.310Z"
   },
   {
    "duration": 265,
    "start_time": "2021-12-18T20:38:06.568Z"
   },
   {
    "duration": 274,
    "start_time": "2021-12-18T20:38:06.836Z"
   },
   {
    "duration": 7,
    "start_time": "2021-12-18T20:38:07.112Z"
   },
   {
    "duration": 5,
    "start_time": "2021-12-18T20:38:07.121Z"
   },
   {
    "duration": 6,
    "start_time": "2021-12-18T20:38:07.128Z"
   },
   {
    "duration": 12,
    "start_time": "2021-12-18T20:38:07.136Z"
   },
   {
    "duration": 6,
    "start_time": "2021-12-18T20:38:07.150Z"
   },
   {
    "duration": 5,
    "start_time": "2021-12-18T20:38:07.157Z"
   },
   {
    "duration": 6,
    "start_time": "2021-12-18T20:38:07.207Z"
   },
   {
    "duration": 4,
    "start_time": "2021-12-18T20:38:07.214Z"
   },
   {
    "duration": 7,
    "start_time": "2021-12-18T20:38:07.219Z"
   },
   {
    "duration": 8,
    "start_time": "2021-12-18T20:38:07.228Z"
   },
   {
    "duration": 231,
    "start_time": "2021-12-18T20:38:07.238Z"
   },
   {
    "duration": 14,
    "start_time": "2021-12-18T20:38:07.472Z"
   },
   {
    "duration": 17,
    "start_time": "2021-12-18T20:38:07.489Z"
   },
   {
    "duration": 275,
    "start_time": "2021-12-18T20:38:07.509Z"
   },
   {
    "duration": 10,
    "start_time": "2021-12-18T20:38:07.785Z"
   },
   {
    "duration": 264,
    "start_time": "2021-12-18T20:38:07.796Z"
   },
   {
    "duration": 247,
    "start_time": "2021-12-18T20:38:08.062Z"
   },
   {
    "duration": 10,
    "start_time": "2021-12-18T20:38:08.314Z"
   },
   {
    "duration": 21,
    "start_time": "2021-12-18T20:38:08.327Z"
   },
   {
    "duration": 216,
    "start_time": "2021-12-18T20:38:08.350Z"
   },
   {
    "duration": 7,
    "start_time": "2021-12-18T20:38:08.568Z"
   },
   {
    "duration": 10,
    "start_time": "2021-12-18T20:38:08.576Z"
   },
   {
    "duration": 227,
    "start_time": "2021-12-18T20:38:08.588Z"
   },
   {
    "duration": 20,
    "start_time": "2021-12-18T20:38:08.817Z"
   },
   {
    "duration": 14,
    "start_time": "2021-12-18T20:38:08.839Z"
   },
   {
    "duration": 11,
    "start_time": "2021-12-18T20:38:08.855Z"
   },
   {
    "duration": 49,
    "start_time": "2021-12-18T20:38:08.869Z"
   },
   {
    "duration": 11,
    "start_time": "2021-12-18T20:38:08.919Z"
   },
   {
    "duration": 11,
    "start_time": "2021-12-18T20:38:08.932Z"
   },
   {
    "duration": 9,
    "start_time": "2021-12-18T20:38:08.945Z"
   },
   {
    "duration": 10,
    "start_time": "2021-12-18T20:38:08.956Z"
   },
   {
    "duration": 46,
    "start_time": "2021-12-18T20:38:08.968Z"
   },
   {
    "duration": 11,
    "start_time": "2021-12-18T20:38:09.016Z"
   },
   {
    "duration": 8,
    "start_time": "2021-12-18T20:38:09.028Z"
   },
   {
    "duration": 8,
    "start_time": "2021-12-18T20:38:09.038Z"
   },
   {
    "duration": 283,
    "start_time": "2021-12-18T20:38:09.048Z"
   },
   {
    "duration": 10,
    "start_time": "2021-12-18T20:38:09.333Z"
   },
   {
    "duration": 10,
    "start_time": "2021-12-18T20:38:09.345Z"
   },
   {
    "duration": 58,
    "start_time": "2021-12-18T20:38:09.357Z"
   },
   {
    "duration": 7,
    "start_time": "2021-12-18T20:38:09.417Z"
   },
   {
    "duration": 243,
    "start_time": "2021-12-18T20:38:09.425Z"
   },
   {
    "duration": 12,
    "start_time": "2021-12-18T20:38:09.669Z"
   },
   {
    "duration": 8,
    "start_time": "2021-12-18T20:38:09.683Z"
   },
   {
    "duration": 20,
    "start_time": "2021-12-18T20:38:09.693Z"
   },
   {
    "duration": 31,
    "start_time": "2021-12-18T20:38:09.715Z"
   },
   {
    "duration": 22,
    "start_time": "2021-12-18T20:38:09.748Z"
   },
   {
    "duration": 39,
    "start_time": "2021-12-18T20:38:09.772Z"
   },
   {
    "duration": 702,
    "start_time": "2021-12-18T20:38:09.813Z"
   },
   {
    "duration": 4,
    "start_time": "2021-12-18T20:38:10.518Z"
   },
   {
    "duration": 7,
    "start_time": "2021-12-18T20:38:10.524Z"
   },
   {
    "duration": 7949,
    "start_time": "2021-12-18T20:38:10.532Z"
   },
   {
    "duration": 2,
    "start_time": "2021-12-18T20:38:18.483Z"
   },
   {
    "duration": 22,
    "start_time": "2021-12-18T20:38:18.487Z"
   },
   {
    "duration": 14,
    "start_time": "2021-12-18T20:38:18.510Z"
   },
   {
    "duration": 244,
    "start_time": "2021-12-18T20:38:18.526Z"
   },
   {
    "duration": 4,
    "start_time": "2021-12-18T20:38:18.772Z"
   },
   {
    "duration": 239,
    "start_time": "2021-12-18T20:38:18.777Z"
   },
   {
    "duration": 4,
    "start_time": "2021-12-18T20:38:19.018Z"
   },
   {
    "duration": 371,
    "start_time": "2021-12-18T20:38:19.024Z"
   },
   {
    "duration": 11,
    "start_time": "2021-12-18T20:38:19.396Z"
   },
   {
    "duration": 341,
    "start_time": "2021-12-18T20:38:19.408Z"
   },
   {
    "duration": 4,
    "start_time": "2021-12-18T20:38:19.750Z"
   },
   {
    "duration": 246,
    "start_time": "2021-12-18T20:38:19.756Z"
   },
   {
    "duration": 4,
    "start_time": "2021-12-18T20:38:20.006Z"
   },
   {
    "duration": 17,
    "start_time": "2021-12-18T20:38:20.012Z"
   },
   {
    "duration": 17,
    "start_time": "2021-12-18T20:38:20.031Z"
   },
   {
    "duration": 8,
    "start_time": "2021-12-18T20:38:20.050Z"
   },
   {
    "duration": 5,
    "start_time": "2021-12-18T20:38:20.060Z"
   },
   {
    "duration": 41,
    "start_time": "2021-12-18T20:38:20.067Z"
   },
   {
    "duration": 9,
    "start_time": "2021-12-18T20:38:20.110Z"
   },
   {
    "duration": 5,
    "start_time": "2021-12-18T20:38:20.121Z"
   },
   {
    "duration": 10,
    "start_time": "2021-12-18T20:38:20.132Z"
   },
   {
    "duration": 10,
    "start_time": "2021-12-18T20:38:20.144Z"
   },
   {
    "duration": 8,
    "start_time": "2021-12-18T20:38:20.155Z"
   },
   {
    "duration": 48,
    "start_time": "2021-12-18T20:38:20.165Z"
   },
   {
    "duration": 9,
    "start_time": "2021-12-18T20:38:20.214Z"
   },
   {
    "duration": 7,
    "start_time": "2021-12-18T20:38:20.224Z"
   },
   {
    "duration": 18,
    "start_time": "2021-12-18T20:38:20.233Z"
   },
   {
    "duration": 12,
    "start_time": "2021-12-18T20:38:20.253Z"
   },
   {
    "duration": 8,
    "start_time": "2021-12-18T20:38:20.267Z"
   },
   {
    "duration": 587,
    "start_time": "2021-12-18T20:40:20.818Z"
   },
   {
    "duration": 9,
    "start_time": "2021-12-18T20:42:08.695Z"
   },
   {
    "duration": 11,
    "start_time": "2021-12-18T20:47:42.689Z"
   },
   {
    "duration": 13,
    "start_time": "2021-12-18T20:48:17.548Z"
   },
   {
    "duration": 390,
    "start_time": "2021-12-18T20:49:17.780Z"
   },
   {
    "duration": 12,
    "start_time": "2021-12-18T20:49:27.605Z"
   },
   {
    "duration": 358,
    "start_time": "2021-12-18T20:49:50.614Z"
   },
   {
    "duration": 354,
    "start_time": "2021-12-18T20:50:07.039Z"
   },
   {
    "duration": 11,
    "start_time": "2021-12-18T20:50:19.160Z"
   },
   {
    "duration": 12,
    "start_time": "2021-12-18T20:51:43.271Z"
   },
   {
    "duration": 10,
    "start_time": "2021-12-18T20:58:58.728Z"
   },
   {
    "duration": 10,
    "start_time": "2021-12-18T20:59:29.639Z"
   },
   {
    "duration": 12,
    "start_time": "2021-12-18T21:00:45.459Z"
   },
   {
    "duration": 13,
    "start_time": "2021-12-18T21:01:20.075Z"
   },
   {
    "duration": 12,
    "start_time": "2021-12-18T21:01:29.242Z"
   },
   {
    "duration": 16,
    "start_time": "2021-12-18T21:17:19.643Z"
   },
   {
    "duration": 9,
    "start_time": "2021-12-18T21:17:21.068Z"
   },
   {
    "duration": 754,
    "start_time": "2021-12-18T21:17:31.529Z"
   },
   {
    "duration": 4,
    "start_time": "2021-12-18T21:17:32.285Z"
   },
   {
    "duration": 56,
    "start_time": "2021-12-18T21:17:32.292Z"
   },
   {
    "duration": 9,
    "start_time": "2021-12-18T21:17:32.350Z"
   },
   {
    "duration": 19,
    "start_time": "2021-12-18T21:17:32.360Z"
   },
   {
    "duration": 235,
    "start_time": "2021-12-18T21:17:32.381Z"
   },
   {
    "duration": 246,
    "start_time": "2021-12-18T21:17:32.618Z"
   },
   {
    "duration": 240,
    "start_time": "2021-12-18T21:17:32.866Z"
   },
   {
    "duration": 261,
    "start_time": "2021-12-18T21:17:33.108Z"
   },
   {
    "duration": 8,
    "start_time": "2021-12-18T21:17:33.370Z"
   },
   {
    "duration": 5,
    "start_time": "2021-12-18T21:17:33.380Z"
   },
   {
    "duration": 26,
    "start_time": "2021-12-18T21:17:33.386Z"
   },
   {
    "duration": 17,
    "start_time": "2021-12-18T21:17:33.413Z"
   },
   {
    "duration": 10,
    "start_time": "2021-12-18T21:17:33.431Z"
   },
   {
    "duration": 5,
    "start_time": "2021-12-18T21:17:33.442Z"
   },
   {
    "duration": 8,
    "start_time": "2021-12-18T21:17:33.449Z"
   },
   {
    "duration": 3,
    "start_time": "2021-12-18T21:17:33.459Z"
   },
   {
    "duration": 6,
    "start_time": "2021-12-18T21:17:33.464Z"
   },
   {
    "duration": 33,
    "start_time": "2021-12-18T21:17:33.473Z"
   },
   {
    "duration": 221,
    "start_time": "2021-12-18T21:17:33.508Z"
   },
   {
    "duration": 9,
    "start_time": "2021-12-18T21:17:33.731Z"
   },
   {
    "duration": 8,
    "start_time": "2021-12-18T21:17:33.742Z"
   },
   {
    "duration": 262,
    "start_time": "2021-12-18T21:17:33.754Z"
   },
   {
    "duration": 10,
    "start_time": "2021-12-18T21:17:34.019Z"
   },
   {
    "duration": 250,
    "start_time": "2021-12-18T21:17:34.030Z"
   },
   {
    "duration": 227,
    "start_time": "2021-12-18T21:17:34.281Z"
   },
   {
    "duration": 9,
    "start_time": "2021-12-18T21:17:34.510Z"
   },
   {
    "duration": 21,
    "start_time": "2021-12-18T21:17:34.521Z"
   },
   {
    "duration": 214,
    "start_time": "2021-12-18T21:17:34.543Z"
   },
   {
    "duration": 7,
    "start_time": "2021-12-18T21:17:34.759Z"
   },
   {
    "duration": 11,
    "start_time": "2021-12-18T21:17:34.768Z"
   },
   {
    "duration": 210,
    "start_time": "2021-12-18T21:17:34.781Z"
   },
   {
    "duration": 28,
    "start_time": "2021-12-18T21:17:34.993Z"
   },
   {
    "duration": 13,
    "start_time": "2021-12-18T21:17:35.023Z"
   },
   {
    "duration": 14,
    "start_time": "2021-12-18T21:17:35.038Z"
   },
   {
    "duration": 20,
    "start_time": "2021-12-18T21:17:35.054Z"
   },
   {
    "duration": 33,
    "start_time": "2021-12-18T21:17:35.076Z"
   },
   {
    "duration": 10,
    "start_time": "2021-12-18T21:17:35.111Z"
   },
   {
    "duration": 8,
    "start_time": "2021-12-18T21:17:35.123Z"
   },
   {
    "duration": 9,
    "start_time": "2021-12-18T21:17:35.133Z"
   },
   {
    "duration": 10,
    "start_time": "2021-12-18T21:17:35.144Z"
   },
   {
    "duration": 9,
    "start_time": "2021-12-18T21:17:35.156Z"
   },
   {
    "duration": 8,
    "start_time": "2021-12-18T21:17:35.207Z"
   },
   {
    "duration": 7,
    "start_time": "2021-12-18T21:17:35.217Z"
   },
   {
    "duration": 272,
    "start_time": "2021-12-18T21:17:35.226Z"
   },
   {
    "duration": 14,
    "start_time": "2021-12-18T21:17:35.500Z"
   },
   {
    "duration": 11,
    "start_time": "2021-12-18T21:17:35.516Z"
   },
   {
    "duration": 29,
    "start_time": "2021-12-18T21:17:35.529Z"
   },
   {
    "duration": 7,
    "start_time": "2021-12-18T21:17:35.560Z"
   },
   {
    "duration": 272,
    "start_time": "2021-12-18T21:17:35.569Z"
   },
   {
    "duration": 13,
    "start_time": "2021-12-18T21:17:35.844Z"
   },
   {
    "duration": 7,
    "start_time": "2021-12-18T21:17:35.859Z"
   },
   {
    "duration": 14,
    "start_time": "2021-12-18T21:17:35.868Z"
   },
   {
    "duration": 31,
    "start_time": "2021-12-18T21:17:35.907Z"
   },
   {
    "duration": 22,
    "start_time": "2021-12-18T21:17:35.941Z"
   },
   {
    "duration": 7,
    "start_time": "2021-12-18T21:17:35.965Z"
   },
   {
    "duration": 718,
    "start_time": "2021-12-18T21:17:35.974Z"
   },
   {
    "duration": 3,
    "start_time": "2021-12-18T21:17:36.694Z"
   },
   {
    "duration": 3,
    "start_time": "2021-12-18T21:17:36.707Z"
   },
   {
    "duration": 7784,
    "start_time": "2021-12-18T21:17:36.711Z"
   },
   {
    "duration": 11,
    "start_time": "2021-12-18T21:17:44.497Z"
   },
   {
    "duration": 12,
    "start_time": "2021-12-18T21:17:44.509Z"
   },
   {
    "duration": 15,
    "start_time": "2021-12-18T21:17:44.523Z"
   },
   {
    "duration": 236,
    "start_time": "2021-12-18T21:17:44.540Z"
   },
   {
    "duration": 4,
    "start_time": "2021-12-18T21:17:44.778Z"
   },
   {
    "duration": 231,
    "start_time": "2021-12-18T21:17:44.783Z"
   },
   {
    "duration": 4,
    "start_time": "2021-12-18T21:17:45.016Z"
   },
   {
    "duration": 366,
    "start_time": "2021-12-18T21:17:45.027Z"
   },
   {
    "duration": 10,
    "start_time": "2021-12-18T21:17:45.395Z"
   },
   {
    "duration": 238,
    "start_time": "2021-12-18T21:17:45.407Z"
   },
   {
    "duration": 5,
    "start_time": "2021-12-18T21:17:45.647Z"
   },
   {
    "duration": 242,
    "start_time": "2021-12-18T21:17:45.653Z"
   },
   {
    "duration": 9,
    "start_time": "2021-12-18T21:17:45.897Z"
   },
   {
    "duration": 16,
    "start_time": "2021-12-18T21:17:45.907Z"
   },
   {
    "duration": 595,
    "start_time": "2021-12-18T21:17:45.925Z"
   },
   {
    "duration": 12,
    "start_time": "2021-12-18T21:17:46.522Z"
   },
   {
    "duration": 12,
    "start_time": "2021-12-18T21:17:46.536Z"
   },
   {
    "duration": 10,
    "start_time": "2021-12-18T21:17:46.550Z"
   },
   {
    "duration": 12,
    "start_time": "2021-12-18T21:17:46.561Z"
   },
   {
    "duration": 1017,
    "start_time": "2021-12-19T09:51:40.774Z"
   },
   {
    "duration": 5,
    "start_time": "2021-12-19T09:51:41.793Z"
   },
   {
    "duration": 101,
    "start_time": "2021-12-19T09:51:41.801Z"
   },
   {
    "duration": 21,
    "start_time": "2021-12-19T09:51:41.904Z"
   },
   {
    "duration": 25,
    "start_time": "2021-12-19T09:51:41.927Z"
   },
   {
    "duration": 375,
    "start_time": "2021-12-19T09:51:41.954Z"
   },
   {
    "duration": 386,
    "start_time": "2021-12-19T09:51:42.331Z"
   },
   {
    "duration": 379,
    "start_time": "2021-12-19T09:51:42.721Z"
   },
   {
    "duration": 400,
    "start_time": "2021-12-19T09:51:43.103Z"
   },
   {
    "duration": 18,
    "start_time": "2021-12-19T09:51:43.505Z"
   },
   {
    "duration": 7,
    "start_time": "2021-12-19T09:51:43.525Z"
   },
   {
    "duration": 10,
    "start_time": "2021-12-19T09:51:43.534Z"
   },
   {
    "duration": 21,
    "start_time": "2021-12-19T09:51:43.546Z"
   },
   {
    "duration": 49,
    "start_time": "2021-12-19T09:51:43.569Z"
   },
   {
    "duration": 6,
    "start_time": "2021-12-19T09:51:43.620Z"
   },
   {
    "duration": 6,
    "start_time": "2021-12-19T09:51:43.629Z"
   },
   {
    "duration": 4,
    "start_time": "2021-12-19T09:51:43.638Z"
   },
   {
    "duration": 5,
    "start_time": "2021-12-19T09:51:43.644Z"
   },
   {
    "duration": 8,
    "start_time": "2021-12-19T09:51:43.651Z"
   },
   {
    "duration": 391,
    "start_time": "2021-12-19T09:51:43.662Z"
   },
   {
    "duration": 12,
    "start_time": "2021-12-19T09:51:44.055Z"
   },
   {
    "duration": 8,
    "start_time": "2021-12-19T09:51:44.069Z"
   },
   {
    "duration": 395,
    "start_time": "2021-12-19T09:51:44.084Z"
   },
   {
    "duration": 13,
    "start_time": "2021-12-19T09:51:44.482Z"
   },
   {
    "duration": 396,
    "start_time": "2021-12-19T09:51:44.497Z"
   },
   {
    "duration": 369,
    "start_time": "2021-12-19T09:51:44.895Z"
   },
   {
    "duration": 12,
    "start_time": "2021-12-19T09:51:45.266Z"
   },
   {
    "duration": 44,
    "start_time": "2021-12-19T09:51:45.280Z"
   },
   {
    "duration": 318,
    "start_time": "2021-12-19T09:51:45.327Z"
   },
   {
    "duration": 9,
    "start_time": "2021-12-19T09:51:45.647Z"
   },
   {
    "duration": 16,
    "start_time": "2021-12-19T09:51:45.658Z"
   },
   {
    "duration": 347,
    "start_time": "2021-12-19T09:51:45.676Z"
   },
   {
    "duration": 27,
    "start_time": "2021-12-19T09:51:46.025Z"
   },
   {
    "duration": 17,
    "start_time": "2021-12-19T09:51:46.054Z"
   },
   {
    "duration": 14,
    "start_time": "2021-12-19T09:51:46.073Z"
   },
   {
    "duration": 20,
    "start_time": "2021-12-19T09:51:46.117Z"
   },
   {
    "duration": 16,
    "start_time": "2021-12-19T09:51:46.139Z"
   },
   {
    "duration": 16,
    "start_time": "2021-12-19T09:51:46.157Z"
   },
   {
    "duration": 9,
    "start_time": "2021-12-19T09:51:46.175Z"
   },
   {
    "duration": 12,
    "start_time": "2021-12-19T09:51:46.218Z"
   },
   {
    "duration": 12,
    "start_time": "2021-12-19T09:51:46.232Z"
   },
   {
    "duration": 13,
    "start_time": "2021-12-19T09:51:46.246Z"
   },
   {
    "duration": 9,
    "start_time": "2021-12-19T09:51:46.262Z"
   },
   {
    "duration": 46,
    "start_time": "2021-12-19T09:51:46.273Z"
   },
   {
    "duration": 398,
    "start_time": "2021-12-19T09:51:46.322Z"
   },
   {
    "duration": 12,
    "start_time": "2021-12-19T09:51:46.722Z"
   },
   {
    "duration": 13,
    "start_time": "2021-12-19T09:51:46.736Z"
   },
   {
    "duration": 69,
    "start_time": "2021-12-19T09:51:46.752Z"
   },
   {
    "duration": 8,
    "start_time": "2021-12-19T09:51:46.823Z"
   },
   {
    "duration": 506,
    "start_time": "2021-12-19T09:51:46.833Z"
   },
   {
    "duration": 15,
    "start_time": "2021-12-19T09:51:47.341Z"
   },
   {
    "duration": 6,
    "start_time": "2021-12-19T09:51:47.358Z"
   },
   {
    "duration": 19,
    "start_time": "2021-12-19T09:51:47.367Z"
   },
   {
    "duration": 46,
    "start_time": "2021-12-19T09:51:47.389Z"
   },
   {
    "duration": 28,
    "start_time": "2021-12-19T09:51:47.438Z"
   },
   {
    "duration": 8,
    "start_time": "2021-12-19T09:51:47.468Z"
   },
   {
    "duration": 1279,
    "start_time": "2021-12-19T09:51:47.478Z"
   },
   {
    "duration": 4,
    "start_time": "2021-12-19T09:51:48.760Z"
   },
   {
    "duration": 10,
    "start_time": "2021-12-19T09:51:48.767Z"
   },
   {
    "duration": 9992,
    "start_time": "2021-12-19T09:51:48.779Z"
   },
   {
    "duration": 3,
    "start_time": "2021-12-19T09:51:58.774Z"
   },
   {
    "duration": 16,
    "start_time": "2021-12-19T09:51:58.779Z"
   },
   {
    "duration": 33,
    "start_time": "2021-12-19T09:51:58.797Z"
   },
   {
    "duration": 402,
    "start_time": "2021-12-19T09:51:58.832Z"
   },
   {
    "duration": 5,
    "start_time": "2021-12-19T09:51:59.236Z"
   },
   {
    "duration": 395,
    "start_time": "2021-12-19T09:51:59.244Z"
   },
   {
    "duration": 5,
    "start_time": "2021-12-19T09:51:59.641Z"
   },
   {
    "duration": 606,
    "start_time": "2021-12-19T09:51:59.654Z"
   },
   {
    "duration": 5,
    "start_time": "2021-12-19T09:52:00.262Z"
   },
   {
    "duration": 398,
    "start_time": "2021-12-19T09:52:00.269Z"
   },
   {
    "duration": 5,
    "start_time": "2021-12-19T09:52:00.669Z"
   },
   {
    "duration": 406,
    "start_time": "2021-12-19T09:52:00.677Z"
   },
   {
    "duration": 5,
    "start_time": "2021-12-19T09:52:01.086Z"
   },
   {
    "duration": 40,
    "start_time": "2021-12-19T09:52:01.093Z"
   },
   {
    "duration": 1144,
    "start_time": "2021-12-19T09:52:01.136Z"
   },
   {
    "duration": 16,
    "start_time": "2021-12-19T09:52:02.282Z"
   },
   {
    "duration": 24,
    "start_time": "2021-12-19T09:52:02.301Z"
   },
   {
    "duration": 13,
    "start_time": "2021-12-19T09:52:02.328Z"
   },
   {
    "duration": 16,
    "start_time": "2021-12-19T09:52:02.343Z"
   },
   {
    "duration": 13,
    "start_time": "2021-12-19T10:02:39.766Z"
   }
  ],
  "kernelspec": {
   "display_name": "Python 3 (ipykernel)",
   "language": "python",
   "name": "python3"
  },
  "language_info": {
   "codemirror_mode": {
    "name": "ipython",
    "version": 3
   },
   "file_extension": ".py",
   "mimetype": "text/x-python",
   "name": "python",
   "nbconvert_exporter": "python",
   "pygments_lexer": "ipython3",
   "version": "3.8.12"
  },
  "toc": {
   "base_numbering": 1,
   "nav_menu": {},
   "number_sections": true,
   "sideBar": true,
   "skip_h1_title": true,
   "title_cell": "Table of Contents",
   "title_sidebar": "Contents",
   "toc_cell": false,
   "toc_position": {},
   "toc_section_display": true,
   "toc_window_display": true
  },
  "varInspector": {
   "cols": {
    "lenName": 16,
    "lenType": 16,
    "lenVar": 40
   },
   "kernels_config": {
    "python": {
     "delete_cmd_postfix": "",
     "delete_cmd_prefix": "del ",
     "library": "var_list.py",
     "varRefreshCmd": "print(var_dic_list())"
    },
    "r": {
     "delete_cmd_postfix": ") ",
     "delete_cmd_prefix": "rm(",
     "library": "var_list.r",
     "varRefreshCmd": "cat(var_dic_list()) "
    }
   },
   "types_to_exclude": [
    "module",
    "function",
    "builtin_function_or_method",
    "instance",
    "_Feature"
   ],
   "window_display": false
  }
 },
 "nbformat": 4,
 "nbformat_minor": 2
}
