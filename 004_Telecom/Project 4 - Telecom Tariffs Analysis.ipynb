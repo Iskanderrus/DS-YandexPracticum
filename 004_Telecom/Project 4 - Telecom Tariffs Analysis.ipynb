{
 "cells": [
  {
   "cell_type": "markdown",
   "id": "c66cf62a",
   "metadata": {
    "toc": true
   },
   "source": [
    "<h1>Содержание<span class=\"tocSkip\"></span></h1>\n",
    "<div class=\"toc\"><ul class=\"toc-item\"><li><span><a href=\"#Рекомендация-тарифа-на-основании-поведения-клиентов\" data-toc-modified-id=\"Рекомендация-тарифа-на-основании-поведения-клиентов-1\"><span class=\"toc-item-num\">1&nbsp;&nbsp;</span>Рекомендация тарифа на основании поведения клиентов</a></span><ul class=\"toc-item\"><li><span><a href=\"#Описание-проекта\" data-toc-modified-id=\"Описание-проекта-1.1\"><span class=\"toc-item-num\">1.1&nbsp;&nbsp;</span>Описание проекта</a></span></li><li><span><a href=\"#Описание-данных\" data-toc-modified-id=\"Описание-данных-1.2\"><span class=\"toc-item-num\">1.2&nbsp;&nbsp;</span>Описание данных</a></span></li></ul></li><li><span><a href=\"#Изучение-данных-из-файла-&amp;-предварительная-подготовка\" data-toc-modified-id=\"Изучение-данных-из-файла-&amp;-предварительная-подготовка-2\"><span class=\"toc-item-num\">2&nbsp;&nbsp;</span><strong>Изучение данных из файла &amp; предварительная подготовка</strong></a></span><ul class=\"toc-item\"><li><span><a href=\"#Импорт-библиотек\" data-toc-modified-id=\"Импорт-библиотек-2.1\"><span class=\"toc-item-num\">2.1&nbsp;&nbsp;</span>Импорт библиотек</a></span></li><li><span><a href=\"#Откроем-локальную-или-веб-версию-файла-данных\" data-toc-modified-id=\"Откроем-локальную-или-веб-версию-файла-данных-2.2\"><span class=\"toc-item-num\">2.2&nbsp;&nbsp;</span>Откроем локальную или веб-версию файла данных</a></span></li><li><span><a href=\"#Построим-графики-&quot;ящик-с-усами&quot;-для-каждого-столбца-в-разбивке-по-тарифам\" data-toc-modified-id=\"Построим-графики-&quot;ящик-с-усами&quot;-для-каждого-столбца-в-разбивке-по-тарифам-2.3\"><span class=\"toc-item-num\">2.3&nbsp;&nbsp;</span>Построим графики \"ящик с усами\" для каждого столбца в разбивке по тарифам</a></span><ul class=\"toc-item\"><li><span><a href=\"#Промежуточные-выводы\" data-toc-modified-id=\"Промежуточные-выводы-2.3.1\"><span class=\"toc-item-num\">2.3.1&nbsp;&nbsp;</span><em>Промежуточные выводы</em></a></span></li></ul></li><li><span><a href=\"#Проверка-корреляции-между-столбцами-датафрейма\" data-toc-modified-id=\"Проверка-корреляции-между-столбцами-датафрейма-2.4\"><span class=\"toc-item-num\">2.4&nbsp;&nbsp;</span>Проверка корреляции между столбцами датафрейма</a></span><ul class=\"toc-item\"><li><span><a href=\"#Промежуточные-выводы\" data-toc-modified-id=\"Промежуточные-выводы-2.4.1\"><span class=\"toc-item-num\">2.4.1&nbsp;&nbsp;</span><em>Промежуточные выводы</em></a></span></li></ul></li></ul></li><li><span><a href=\"#Подготовка-данных-для-построения-модели\" data-toc-modified-id=\"Подготовка-данных-для-построения-модели-3\"><span class=\"toc-item-num\">3&nbsp;&nbsp;</span><strong>Подготовка данных для построения модели</strong></a></span><ul class=\"toc-item\"><li><span><a href=\"#Извлечем-признаки-и-целевой-признак\" data-toc-modified-id=\"Извлечем-признаки-и-целевой-признак-3.1\"><span class=\"toc-item-num\">3.1&nbsp;&nbsp;</span>Извлечем признаки и целевой признак</a></span></li><li><span><a href=\"#Разделение-данных\" data-toc-modified-id=\"Разделение-данных-3.2\"><span class=\"toc-item-num\">3.2&nbsp;&nbsp;</span>Разделение данных</a></span></li></ul></li><li><span><a href=\"#Модель---Дерево-решений\" data-toc-modified-id=\"Модель---Дерево-решений-4\"><span class=\"toc-item-num\">4&nbsp;&nbsp;</span><strong>Модель - Дерево решений</strong></a></span><ul class=\"toc-item\"><li><ul class=\"toc-item\"><li><span><a href=\"#Промежуточные-выводы\" data-toc-modified-id=\"Промежуточные-выводы-4.0.1\"><span class=\"toc-item-num\">4.0.1&nbsp;&nbsp;</span><em>Промежуточные выводы</em></a></span></li></ul></li></ul></li><li><span><a href=\"#Модель---Случайный-лес\" data-toc-modified-id=\"Модель---Случайный-лес-5\"><span class=\"toc-item-num\">5&nbsp;&nbsp;</span><strong>Модель - Случайный лес</strong></a></span><ul class=\"toc-item\"><li><ul class=\"toc-item\"><li><span><a href=\"#Промежуточные-выводы\" data-toc-modified-id=\"Промежуточные-выводы-5.0.1\"><span class=\"toc-item-num\">5.0.1&nbsp;&nbsp;</span><em>Промежуточные выводы</em></a></span></li></ul></li></ul></li><li><span><a href=\"#Модель---Логистическая-регрессия\" data-toc-modified-id=\"Модель---Логистическая-регрессия-6\"><span class=\"toc-item-num\">6&nbsp;&nbsp;</span><strong>Модель - Логистическая регрессия</strong></a></span><ul class=\"toc-item\"><li><ul class=\"toc-item\"><li><span><a href=\"#Промежуточные-выводы\" data-toc-modified-id=\"Промежуточные-выводы-6.0.1\"><span class=\"toc-item-num\">6.0.1&nbsp;&nbsp;</span><em>Промежуточные выводы</em></a></span></li></ul></li></ul></li><li><span><a href=\"#Нормализация-датафрейма\" data-toc-modified-id=\"Нормализация-датафрейма-7\"><span class=\"toc-item-num\">7&nbsp;&nbsp;</span><strong>Нормализация датафрейма</strong></a></span><ul class=\"toc-item\"><li><span><a href=\"#Корреляция-параметров-будущей-модели-в-нормализованном-датафрейме\" data-toc-modified-id=\"Корреляция-параметров-будущей-модели-в-нормализованном-датафрейме-7.1\"><span class=\"toc-item-num\">7.1&nbsp;&nbsp;</span>Корреляция параметров будущей модели в нормализованном датафрейме</a></span></li><li><span><a href=\"#Извлечение-признаков-и-разделение-данных-нормализованного-датафрейма\" data-toc-modified-id=\"Извлечение-признаков-и-разделение-данных-нормализованного-датафрейма-7.2\"><span class=\"toc-item-num\">7.2&nbsp;&nbsp;</span>Извлечение признаков и разделение данных нормализованного датафрейма</a></span></li></ul></li><li><span><a href=\"#Обучение-моделей-на-нормализованном-датасете-без-изменения-размеров-выборки\" data-toc-modified-id=\"Обучение-моделей-на-нормализованном-датасете-без-изменения-размеров-выборки-8\"><span class=\"toc-item-num\">8&nbsp;&nbsp;</span><strong>Обучение моделей на нормализованном датасете без изменения размеров выборки</strong></a></span><ul class=\"toc-item\"><li><span><a href=\"#Логистическая-регрессия-на-нормализованнном-датасете\" data-toc-modified-id=\"Логистическая-регрессия-на-нормализованнном-датасете-8.1\"><span class=\"toc-item-num\">8.1&nbsp;&nbsp;</span>Логистическая регрессия на нормализованнном датасете</a></span></li><li><span><a href=\"#Дерево-решений-на-нормализованном-датасете\" data-toc-modified-id=\"Дерево-решений-на-нормализованном-датасете-8.2\"><span class=\"toc-item-num\">8.2&nbsp;&nbsp;</span>Дерево решений на нормализованном датасете</a></span></li><li><span><a href=\"#Случайный-лес-на-нормализованнном-датасете\" data-toc-modified-id=\"Случайный-лес-на-нормализованнном-датасете-8.3\"><span class=\"toc-item-num\">8.3&nbsp;&nbsp;</span>Случайный лес на нормализованнном датасете</a></span><ul class=\"toc-item\"><li><span><a href=\"#Промежуточные-выводы\" data-toc-modified-id=\"Промежуточные-выводы-8.3.1\"><span class=\"toc-item-num\">8.3.1&nbsp;&nbsp;</span><em>Промежуточные выводы</em></a></span></li></ul></li></ul></li><li><span><a href=\"#Общий-вывод\" data-toc-modified-id=\"Общий-вывод-9\"><span class=\"toc-item-num\">9&nbsp;&nbsp;</span>Общий вывод</a></span></li></ul></div>"
   ]
  },
  {
   "cell_type": "markdown",
   "id": "45c0007a",
   "metadata": {},
   "source": [
    "# Рекомендация тарифа на основании поведения клиентов"
   ]
  },
  {
   "cell_type": "markdown",
   "id": "396fd807",
   "metadata": {},
   "source": [
    "## Описание проекта"
   ]
  },
  {
   "cell_type": "markdown",
   "id": "3f9c47e5",
   "metadata": {},
   "source": [
    "Оператор мобильной связи «Мегалайн» выяснил: многие клиенты пользуются архивными тарифами. Они хотят построить систему, способную проанализировать поведение клиентов и предложить пользователям новый тариф: «Смарт» или «Ультра».\n",
    "\n",
    "В вашем распоряжении данные о поведении клиентов, которые уже перешли на эти тарифы (из проекта курса «Статистический анализ данных»). Нужно построить модель для задачи классификации, которая выберет подходящий тариф. Предобработка данных не понадобится — вы её уже сделали.\n",
    "\n",
    "Постройте модель с максимально большим значением accuracy. Чтобы сдать проект успешно, нужно довести долю правильных ответов по крайней мере до 0.75. Проверьте accuracy на тестовой выборке самостоятельно."
   ]
  },
  {
   "cell_type": "markdown",
   "id": "27eb5363",
   "metadata": {},
   "source": [
    "## Описание данных"
   ]
  },
  {
   "cell_type": "markdown",
   "id": "27227408",
   "metadata": {},
   "source": [
    "Каждый объект в наборе данных — это информация о поведении одного пользователя за месяц. Известно:\n",
    "- сalls — количество звонков,\n",
    "- minutes — суммарная длительность звонков в минутах,\n",
    "- messages — количество sms-сообщений,\n",
    "- mb_used — израсходованный интернет-трафик в Мб,\n",
    "- is_ultra — каким тарифом пользовался в течение месяца («Ультра» — 1, «Смарт» — 0)."
   ]
  },
  {
   "cell_type": "markdown",
   "id": "ca4de65c",
   "metadata": {},
   "source": [
    "# **Изучение данных из файла & предварительная подготовка**"
   ]
  },
  {
   "cell_type": "markdown",
   "id": "17316fd9",
   "metadata": {},
   "source": [
    "## Импорт библиотек"
   ]
  },
  {
   "cell_type": "code",
   "execution_count": 1,
   "id": "25a25354",
   "metadata": {},
   "outputs": [],
   "source": [
    "import pandas as pd\n",
    "import os\n",
    "import numpy as np\n",
    "\n",
    "from matplotlib import pyplot\n",
    "from matplotlib.pyplot import figure\n",
    "import seaborn as sns\n",
    "\n",
    "from sklearn.tree import DecisionTreeClassifier\n",
    "from sklearn.ensemble import RandomForestClassifier\n",
    "from sklearn.linear_model import LogisticRegression\n",
    "\n",
    "from sklearn.model_selection import train_test_split\n",
    "from sklearn.metrics import accuracy_score, classification_report\n",
    "\n",
    "from sklearn.preprocessing import StandardScaler\n",
    "\n",
    "pd.set_option('display.float_format', lambda x: '%.2f' % x)\n",
    "pyplot.style.use('seaborn-deep')"
   ]
  },
  {
   "cell_type": "markdown",
   "id": "e19b29d9",
   "metadata": {},
   "source": [
    "## Откроем локальную или веб-версию файла данных"
   ]
  },
  {
   "cell_type": "markdown",
   "id": "12d1ac5b",
   "metadata": {},
   "source": [
    "Напишем функцию поиска файла на локальном диске или в сети;<br>\n",
    "После того как файл найден, прочтем его, получив детальную сводку."
   ]
  },
  {
   "cell_type": "code",
   "execution_count": 2,
   "id": "c6105239",
   "metadata": {},
   "outputs": [
    {
     "name": "stdout",
     "output_type": "stream",
     "text": [
      "Файл users_behavior.csv открыт в режиме online.\n"
     ]
    }
   ],
   "source": [
    "def find(name, path):\n",
    "    '''\n",
    "    Function to find the data file stored locally.\n",
    "    Takes name of the file and root directory.\n",
    "    Scanes the local directory tree for the first orrurance of the file.\n",
    "    '''\n",
    "    for root, dirs, files in os.walk(path):\n",
    "        if name in files:\n",
    "            return os.path.join(root, name)\n",
    "\n",
    "\n",
    "online_path = 'datasets'\n",
    "offline_path = '/home/'\n",
    "file = 'users_behavior.csv'\n",
    "\n",
    "try:\n",
    "    df = pd.read_csv(f'/{online_path}/{file}')\n",
    "except FileNotFoundError:\n",
    "    df = pd.read_csv(find(file, offline_path))\n",
    "    print(f\"Файл {file} найден на локальном диске.\")\n",
    "else:\n",
    "    print(f\"Файл {file} открыт в режиме online.\")"
   ]
  },
  {
   "cell_type": "code",
   "execution_count": 3,
   "id": "a88c667d",
   "metadata": {},
   "outputs": [
    {
     "name": "stdout",
     "output_type": "stream",
     "text": [
      "Внешний вид первых пяти строк датафрейма \u001b[1mUSERS_BEHAVIOR\u001b[0;0m:\n"
     ]
    },
    {
     "data": {
      "text/html": [
       "<div>\n",
       "<style scoped>\n",
       "    .dataframe tbody tr th:only-of-type {\n",
       "        vertical-align: middle;\n",
       "    }\n",
       "\n",
       "    .dataframe tbody tr th {\n",
       "        vertical-align: top;\n",
       "    }\n",
       "\n",
       "    .dataframe thead th {\n",
       "        text-align: right;\n",
       "    }\n",
       "</style>\n",
       "<table border=\"1\" class=\"dataframe\">\n",
       "  <thead>\n",
       "    <tr style=\"text-align: right;\">\n",
       "      <th></th>\n",
       "      <th>calls</th>\n",
       "      <th>minutes</th>\n",
       "      <th>messages</th>\n",
       "      <th>mb_used</th>\n",
       "      <th>is_ultra</th>\n",
       "    </tr>\n",
       "  </thead>\n",
       "  <tbody>\n",
       "    <tr>\n",
       "      <td>0</td>\n",
       "      <td>40.00</td>\n",
       "      <td>311.90</td>\n",
       "      <td>83.00</td>\n",
       "      <td>19915.42</td>\n",
       "      <td>0</td>\n",
       "    </tr>\n",
       "    <tr>\n",
       "      <td>1</td>\n",
       "      <td>85.00</td>\n",
       "      <td>516.75</td>\n",
       "      <td>56.00</td>\n",
       "      <td>22696.96</td>\n",
       "      <td>0</td>\n",
       "    </tr>\n",
       "    <tr>\n",
       "      <td>2</td>\n",
       "      <td>77.00</td>\n",
       "      <td>467.66</td>\n",
       "      <td>86.00</td>\n",
       "      <td>21060.45</td>\n",
       "      <td>0</td>\n",
       "    </tr>\n",
       "    <tr>\n",
       "      <td>3</td>\n",
       "      <td>106.00</td>\n",
       "      <td>745.53</td>\n",
       "      <td>81.00</td>\n",
       "      <td>8437.39</td>\n",
       "      <td>1</td>\n",
       "    </tr>\n",
       "    <tr>\n",
       "      <td>4</td>\n",
       "      <td>66.00</td>\n",
       "      <td>418.74</td>\n",
       "      <td>1.00</td>\n",
       "      <td>14502.75</td>\n",
       "      <td>0</td>\n",
       "    </tr>\n",
       "  </tbody>\n",
       "</table>\n",
       "</div>"
      ],
      "text/plain": [
       "   calls  minutes  messages  mb_used  is_ultra\n",
       "0  40.00   311.90     83.00 19915.42         0\n",
       "1  85.00   516.75     56.00 22696.96         0\n",
       "2  77.00   467.66     86.00 21060.45         0\n",
       "3 106.00   745.53     81.00  8437.39         1\n",
       "4  66.00   418.74      1.00 14502.75         0"
      ]
     },
     "metadata": {},
     "output_type": "display_data"
    },
    {
     "name": "stdout",
     "output_type": "stream",
     "text": [
      "\n",
      "Размер датафрейма \u001b[1mUSERS_BEHAVIOR\u001b[0;0m:         \n",
      "количество строк - 3214, \n",
      "количество столбцов - 5.\n",
      "\n",
      "Развернутая сводка датафрейма \u001b[1mUSERS_BEHAVIOR\u001b[0;0m \n",
      "по наименованию столбцов, типу данных, ненулевых значениях и объему памяти:\n",
      "\n",
      "<class 'pandas.core.frame.DataFrame'>\n",
      "RangeIndex: 3214 entries, 0 to 3213\n",
      "Data columns (total 5 columns):\n",
      "calls       3214 non-null float64\n",
      "minutes     3214 non-null float64\n",
      "messages    3214 non-null float64\n",
      "mb_used     3214 non-null float64\n",
      "is_ultra    3214 non-null int64\n",
      "dtypes: float64(4), int64(1)\n",
      "memory usage: 125.7 KB\n",
      "--------------------------------------------------------------------\n",
      "\n"
     ]
    }
   ],
   "source": [
    "start = \"\\033[1m\"\n",
    "end = \"\\033[0;0m\"\n",
    "print(\n",
    "    f\"Внешний вид первых пяти строк датафрейма {start}{str(file).split('.')[0].upper()}{end}:\"\n",
    ")\n",
    "display(df.head())\n",
    "print()\n",
    "print(f\"Размер датафрейма {start}{str(file).split('.')[0].upper()}{end}: \\\n",
    "        \\nколичество строк - {df.shape[0]}, \\nколичество столбцов - {df.shape[1]}.\"\n",
    "      )\n",
    "print()\n",
    "print(\n",
    "    f\"Развернутая сводка датафрейма {start}{str(file).split('.')[0].upper()}{end} \\nпо наименованию столбцов, типу данных, ненулевых значениях и объему памяти:\"\n",
    ")\n",
    "print()\n",
    "df.info(memory_usage='deep')\n",
    "print('--------------------------------------------------------------------')\n",
    "print()"
   ]
  },
  {
   "cell_type": "code",
   "execution_count": 4,
   "id": "7315d3cf",
   "metadata": {
    "scrolled": true
   },
   "outputs": [
    {
     "name": "stdout",
     "output_type": "stream",
     "text": [
      "Доля записей о пользователях тарифа ULTRA: 31.0%\n",
      "Доля записей о пользователях тарифа SMART: 69.0%\n"
     ]
    }
   ],
   "source": [
    "# рассмотрим количество записей, соответствующих тарифам ultra и smart:\n",
    "print(\n",
    "    f'Доля записей о пользователях тарифа ULTRA: {round(df.is_ultra.sum() / df.shape[0], 2) * 100}%'\n",
    ")\n",
    "print(\n",
    "    f'Доля записей о пользователях тарифа SMART: {round((df.shape[0] - df.is_ultra.sum()) / df.shape[0], 2) * 100}%'\n",
    ")"
   ]
  },
  {
   "cell_type": "code",
   "execution_count": 5,
   "id": "393c8059",
   "metadata": {},
   "outputs": [
    {
     "data": {
      "text/html": [
       "<div>\n",
       "<style scoped>\n",
       "    .dataframe tbody tr th:only-of-type {\n",
       "        vertical-align: middle;\n",
       "    }\n",
       "\n",
       "    .dataframe tbody tr th {\n",
       "        vertical-align: top;\n",
       "    }\n",
       "\n",
       "    .dataframe thead th {\n",
       "        text-align: right;\n",
       "    }\n",
       "</style>\n",
       "<table border=\"1\" class=\"dataframe\">\n",
       "  <thead>\n",
       "    <tr style=\"text-align: right;\">\n",
       "      <th></th>\n",
       "      <th>calls</th>\n",
       "      <th>minutes</th>\n",
       "      <th>messages</th>\n",
       "      <th>mb_used</th>\n",
       "      <th>is_ultra</th>\n",
       "    </tr>\n",
       "  </thead>\n",
       "  <tbody>\n",
       "    <tr>\n",
       "      <td>0</td>\n",
       "      <td>40.00</td>\n",
       "      <td>311.90</td>\n",
       "      <td>83.00</td>\n",
       "      <td>19915.42</td>\n",
       "      <td>0</td>\n",
       "    </tr>\n",
       "    <tr>\n",
       "      <td>1</td>\n",
       "      <td>85.00</td>\n",
       "      <td>516.75</td>\n",
       "      <td>56.00</td>\n",
       "      <td>22696.96</td>\n",
       "      <td>0</td>\n",
       "    </tr>\n",
       "    <tr>\n",
       "      <td>2</td>\n",
       "      <td>77.00</td>\n",
       "      <td>467.66</td>\n",
       "      <td>86.00</td>\n",
       "      <td>21060.45</td>\n",
       "      <td>0</td>\n",
       "    </tr>\n",
       "    <tr>\n",
       "      <td>3</td>\n",
       "      <td>106.00</td>\n",
       "      <td>745.53</td>\n",
       "      <td>81.00</td>\n",
       "      <td>8437.39</td>\n",
       "      <td>1</td>\n",
       "    </tr>\n",
       "    <tr>\n",
       "      <td>4</td>\n",
       "      <td>66.00</td>\n",
       "      <td>418.74</td>\n",
       "      <td>1.00</td>\n",
       "      <td>14502.75</td>\n",
       "      <td>0</td>\n",
       "    </tr>\n",
       "  </tbody>\n",
       "</table>\n",
       "</div>"
      ],
      "text/plain": [
       "   calls  minutes  messages  mb_used  is_ultra\n",
       "0  40.00   311.90     83.00 19915.42         0\n",
       "1  85.00   516.75     56.00 22696.96         0\n",
       "2  77.00   467.66     86.00 21060.45         0\n",
       "3 106.00   745.53     81.00  8437.39         1\n",
       "4  66.00   418.74      1.00 14502.75         0"
      ]
     },
     "execution_count": 5,
     "metadata": {},
     "output_type": "execute_result"
    }
   ],
   "source": [
    "# рассмотрим первые 5 строк датафрейма:\n",
    "df.head(5)"
   ]
  },
  {
   "cell_type": "markdown",
   "id": "d65de5f9",
   "metadata": {},
   "source": [
    "## Построим графики \"ящик с усами\" для каждого столбца в разбивке по тарифам"
   ]
  },
  {
   "cell_type": "code",
   "execution_count": 6,
   "id": "0c5c4e4e",
   "metadata": {
    "scrolled": false
   },
   "outputs": [
    {
     "data": {
      "text/plain": [
       "Text(0, 0.5, 'Тариф Ultra')"
      ]
     },
     "execution_count": 6,
     "metadata": {},
     "output_type": "execute_result"
    },
    {
     "data": {
      "image/png": "[encoded data removed]",
      "text/plain": [
       "<Figure size 864x432 with 1 Axes>"
      ]
     },
     "metadata": {},
     "output_type": "display_data"
    }
   ],
   "source": [
    "sns.set(rc={'figure.figsize': (12, 6)})\n",
    "ax = sns.boxplot(x='minutes',\n",
    "                 y='is_ultra',\n",
    "                 data=df,\n",
    "                 orient=\"h\",\n",
    "                 hue='is_ultra',\n",
    "                 palette=\"coolwarm\",\n",
    "                 showmeans=True,\n",
    "                 meanline=True)\n",
    "ax.axes.set_title('\"Ящик с усами\" для данных столбца minutes', fontsize=18)\n",
    "ax.set_xlabel(\"Минут разговора\", fontsize=14)\n",
    "ax.set_ylabel(\"Тариф Ultra\", fontsize=14)"
   ]
  },
  {
   "cell_type": "markdown",
   "id": "4108b6ca",
   "metadata": {},
   "source": [
    "Данный график наглядно демонстрирует разницу потребительского поведения пользователей двух тарифов: \n",
    "- для данных тарифа **ultra** характерно наличие большого числа выбросов максимальных значений\n",
    "- однако в абсолютных значениях лидируют выбросы в данных для пользователей тарифа **smart**, хотя их количество значительно меньше. "
   ]
  },
  {
   "cell_type": "code",
   "execution_count": 7,
   "id": "f1479f41",
   "metadata": {},
   "outputs": [
    {
     "data": {
      "text/plain": [
       "Text(0, 0.5, 'Тариф Ultra')"
      ]
     },
     "execution_count": 7,
     "metadata": {},
     "output_type": "execute_result"
    },
    {
     "data": {
      "image/png": "[encoded data removed]",
      "text/plain": [
       "<Figure size 864x432 with 1 Axes>"
      ]
     },
     "metadata": {},
     "output_type": "display_data"
    }
   ],
   "source": [
    "sns.set(rc={'figure.figsize': (12, 6)})\n",
    "ax = sns.boxplot(x='messages',\n",
    "                 y='is_ultra',\n",
    "                 data=df,\n",
    "                 orient=\"h\",\n",
    "                 hue='is_ultra',\n",
    "                 palette=\"coolwarm\",\n",
    "                 showmeans=True,\n",
    "                 meanline=True)\n",
    "ax.axes.set_title('\"Ящик с усами\" для данных столбца messages', fontsize=18)\n",
    "ax.set_xlabel(\"Количество отправленных смс\", fontsize=14)\n",
    "ax.set_ylabel(\"Тариф Ultra\", fontsize=14)"
   ]
  },
  {
   "cell_type": "markdown",
   "id": "008a131d",
   "metadata": {},
   "source": [
    "Пользователи обоих тарифов используют достаточно небольшое количество смс. При этом в обоих тарифах есть выбросы - пользователи отправляющие более 100 смс в месяц. "
   ]
  },
  {
   "cell_type": "code",
   "execution_count": 8,
   "id": "128d749e",
   "metadata": {},
   "outputs": [
    {
     "data": {
      "text/plain": [
       "Text(0, 0.5, 'Тариф Ultra')"
      ]
     },
     "execution_count": 8,
     "metadata": {},
     "output_type": "execute_result"
    },
    {
     "data": {
      "image/png": "[encoded data removed]",
      "text/plain": [
       "<Figure size 864x432 with 1 Axes>"
      ]
     },
     "metadata": {},
     "output_type": "display_data"
    }
   ],
   "source": [
    "sns.set(rc={'figure.figsize': (12, 6)})\n",
    "ax = sns.boxplot(x='mb_used',\n",
    "                 y='is_ultra',\n",
    "                 data=df,\n",
    "                 orient=\"h\",\n",
    "                 hue='is_ultra',\n",
    "                 palette=\"coolwarm\",\n",
    "                 showmeans=True,\n",
    "                 meanline=True)\n",
    "ax.axes.set_title('\"Ящик с усами\" для данных столбца mb_used', fontsize=18)\n",
    "ax.set_xlabel(\"Ежемесячный трафик, мб\", fontsize=14)\n",
    "ax.set_ylabel(\"Тариф Ultra\", fontsize=14)"
   ]
  },
  {
   "cell_type": "markdown",
   "id": "1e208e2d",
   "metadata": {},
   "source": [
    "Пользователи обоих тарифов достаточно активно используют трафик. Интересны выбросы в данных для трифа **smart** - они указывают на наличие пользователей вовсе не использующих интернет, и на большое число пользователей, использующих гораздо больше трафика, нежели основное число пользователей данного тарифа. "
   ]
  },
  {
   "cell_type": "code",
   "execution_count": 9,
   "id": "c2dcd6b4",
   "metadata": {},
   "outputs": [
    {
     "data": {
      "text/html": [
       "<div>\n",
       "<style scoped>\n",
       "    .dataframe tbody tr th:only-of-type {\n",
       "        vertical-align: middle;\n",
       "    }\n",
       "\n",
       "    .dataframe tbody tr th {\n",
       "        vertical-align: top;\n",
       "    }\n",
       "\n",
       "    .dataframe thead th {\n",
       "        text-align: right;\n",
       "    }\n",
       "</style>\n",
       "<table border=\"1\" class=\"dataframe\">\n",
       "  <thead>\n",
       "    <tr style=\"text-align: right;\">\n",
       "      <th></th>\n",
       "      <th>calls</th>\n",
       "      <th>minutes</th>\n",
       "      <th>messages</th>\n",
       "      <th>mb_used</th>\n",
       "    </tr>\n",
       "  </thead>\n",
       "  <tbody>\n",
       "    <tr>\n",
       "      <td>count</td>\n",
       "      <td>3214.00</td>\n",
       "      <td>3214.00</td>\n",
       "      <td>3214.00</td>\n",
       "      <td>3214.00</td>\n",
       "    </tr>\n",
       "    <tr>\n",
       "      <td>mean</td>\n",
       "      <td>63.04</td>\n",
       "      <td>438.21</td>\n",
       "      <td>38.28</td>\n",
       "      <td>17207.67</td>\n",
       "    </tr>\n",
       "    <tr>\n",
       "      <td>std</td>\n",
       "      <td>33.24</td>\n",
       "      <td>234.57</td>\n",
       "      <td>36.15</td>\n",
       "      <td>7570.97</td>\n",
       "    </tr>\n",
       "    <tr>\n",
       "      <td>min</td>\n",
       "      <td>0.00</td>\n",
       "      <td>0.00</td>\n",
       "      <td>0.00</td>\n",
       "      <td>0.00</td>\n",
       "    </tr>\n",
       "    <tr>\n",
       "      <td>25%</td>\n",
       "      <td>40.00</td>\n",
       "      <td>274.58</td>\n",
       "      <td>9.00</td>\n",
       "      <td>12491.90</td>\n",
       "    </tr>\n",
       "    <tr>\n",
       "      <td>50%</td>\n",
       "      <td>62.00</td>\n",
       "      <td>430.60</td>\n",
       "      <td>30.00</td>\n",
       "      <td>16943.24</td>\n",
       "    </tr>\n",
       "    <tr>\n",
       "      <td>75%</td>\n",
       "      <td>82.00</td>\n",
       "      <td>571.93</td>\n",
       "      <td>57.00</td>\n",
       "      <td>21424.70</td>\n",
       "    </tr>\n",
       "    <tr>\n",
       "      <td>max</td>\n",
       "      <td>244.00</td>\n",
       "      <td>1632.06</td>\n",
       "      <td>224.00</td>\n",
       "      <td>49745.73</td>\n",
       "    </tr>\n",
       "  </tbody>\n",
       "</table>\n",
       "</div>"
      ],
      "text/plain": [
       "        calls  minutes  messages  mb_used\n",
       "count 3214.00  3214.00   3214.00  3214.00\n",
       "mean    63.04   438.21     38.28 17207.67\n",
       "std     33.24   234.57     36.15  7570.97\n",
       "min      0.00     0.00      0.00     0.00\n",
       "25%     40.00   274.58      9.00 12491.90\n",
       "50%     62.00   430.60     30.00 16943.24\n",
       "75%     82.00   571.93     57.00 21424.70\n",
       "max    244.00  1632.06    224.00 49745.73"
      ]
     },
     "execution_count": 9,
     "metadata": {},
     "output_type": "execute_result"
    }
   ],
   "source": [
    "# получим статистические данные по каждому столбцу, кроме маркера тарифа:\n",
    "df.drop('is_ultra', axis=1).describe()"
   ]
  },
  {
   "cell_type": "code",
   "execution_count": 10,
   "id": "f832bb99",
   "metadata": {},
   "outputs": [
    {
     "data": {
      "image/png": "[encoded data removed]",
      "text/plain": [
       "<Figure size 864x432 with 4 Axes>"
      ]
     },
     "metadata": {},
     "output_type": "display_data"
    }
   ],
   "source": [
    "# построим графики распределений для каждого столбца:\n",
    "n_bins = 10\n",
    "colors = sns.color_palette('coolwarm')\n",
    "\n",
    "fig, ((ax0, ax1), (ax2, ax3)) = pyplot.subplots(nrows=2,\n",
    "                                                ncols=2,\n",
    "                                                figsize=(12, 6))\n",
    "\n",
    "ax0.hist(df.calls,\n",
    "         n_bins,\n",
    "         density=True,\n",
    "         histtype='bar',\n",
    "         color='red',\n",
    "         label=colors,\n",
    "         alpha=0.5)\n",
    "ax0.set_title('Calls')\n",
    "\n",
    "ax1.hist(df.minutes,\n",
    "         n_bins,\n",
    "         density=True,\n",
    "         histtype='bar',\n",
    "         color='tan',\n",
    "         label=colors,\n",
    "         alpha=0.5)\n",
    "ax1.set_title('Minutes')\n",
    "\n",
    "ax2.hist(df.messages,\n",
    "         n_bins,\n",
    "         density=True,\n",
    "         histtype='bar',\n",
    "         color='lime',\n",
    "         label=colors,\n",
    "         alpha=0.5)\n",
    "ax2.set_title('Messages')\n",
    "\n",
    "ax3.hist(df.mb_used,\n",
    "         n_bins,\n",
    "         density=True,\n",
    "         histtype='bar',\n",
    "         color='blue',\n",
    "         label=colors,\n",
    "         alpha=0.5)\n",
    "ax3.set_title('Traffic')\n",
    "\n",
    "fig.tight_layout()\n",
    "pyplot.show()"
   ]
  },
  {
   "cell_type": "markdown",
   "id": "0d97e85c",
   "metadata": {},
   "source": [
    "### _Промежуточные выводы_"
   ]
  },
  {
   "cell_type": "markdown",
   "id": "9d131414",
   "metadata": {},
   "source": [
    "1. Необходимо проверить корреляцию между исходными столбцами. Если корреляция присутствует, удалить один из столбцов после добавления расчетных столбцов. \n",
    "2. На основании значений столбцов **calls** и **minutes** найдем и добавим с датафрейм среднюю продолжительность разговора для каждого пользователя. \n",
    "3. На основании значений столбцов **calls** и **messages** найдем соотношение количества звонков к количеству сообщений смс. \n",
    "4. На основании значений столбцов **minutes** и **mb_used** найдем соотношение продолжительности разговоров к использованному трафику.\n",
    "5. Проведем анализ исходных данных для каждого тарифа и классифицируем пользователей на основании данных исходных столбцов - разбивка на категории от 0 до 3 по каждому из признаков внутри тарифа.  "
   ]
  },
  {
   "cell_type": "markdown",
   "id": "9d7d64e3",
   "metadata": {},
   "source": [
    "## Проверка корреляции между столбцами датафрейма"
   ]
  },
  {
   "cell_type": "code",
   "execution_count": 11,
   "id": "b76aef55",
   "metadata": {},
   "outputs": [
    {
     "data": {
      "text/plain": [
       "Text(0.5, 1, 'Тепловая карта корреляции параметров будущей модели')"
      ]
     },
     "execution_count": 11,
     "metadata": {},
     "output_type": "execute_result"
    },
    {
     "data": {
      "image/png": "[encoded data removed]",
      "text/plain": [
       "<Figure size 864x432 with 2 Axes>"
      ]
     },
     "metadata": {},
     "output_type": "display_data"
    }
   ],
   "source": [
    "# рассмотрим графическое отражение корреляции полученного датафрейма:\n",
    "ax = pyplot.axes()\n",
    "sns.heatmap(df.drop(columns=['is_ultra']).corr(method='pearson'),\n",
    "            annot=True,\n",
    "            cmap='coolwarm')\n",
    "ax.set_title('Тепловая карта корреляции параметров будущей модели',\n",
    "             fontsize=20)"
   ]
  },
  {
   "cell_type": "code",
   "execution_count": null,
   "id": "4459c2bf",
   "metadata": {},
   "outputs": [],
   "source": [
    "# рассмотрим графическое отражение корреляции в разбивке по тарифам:\n",
    "graph = sns.pairplot(df, hue='is_ultra', diag_kind=\"hist\", corner=True)\n",
    "graph.fig.suptitle(\n",
    "    \"Корреляция параметров будущей модели с разбивкой по тарифам\", y=1.08)"
   ]
  },
  {
   "cell_type": "markdown",
   "id": "d72328d9",
   "metadata": {},
   "source": [
    "### _Промежуточные выводы_"
   ]
  },
  {
   "cell_type": "markdown",
   "id": "8016d302",
   "metadata": {},
   "source": [
    "1. В целом корреляция одинакова для данных пользователей обоих тарифов. \n",
    "2. Однако, в виду разного размера выборок, количество выбросов в данных пользователей тарифа **ultra** больше. При этом в процентном отношении выбросов больше в данных пользователей **smart**.\n",
    "3. Корреляция между данными столбцов **calls** и **minutes** подтверждена. \n",
    "4. Так как задача состоит в разделении пользователей на две группы - предлагаем тот или иной тариф, то это задача кластеризации. Стало быть, можем применить три известные на данный момент модели: \n",
    "    - дерево решений, \n",
    "    - случайный лес, \n",
    "    - логистическая регрессия."
   ]
  },
  {
   "cell_type": "markdown",
   "id": "67f5187c",
   "metadata": {},
   "source": [
    "# **Подготовка данных для построения модели**"
   ]
  },
  {
   "cell_type": "markdown",
   "id": "53df9b9a",
   "metadata": {},
   "source": [
    "## Извлечем признаки и целевой признак"
   ]
  },
  {
   "cell_type": "code",
   "execution_count": 13,
   "id": "165a7fa7",
   "metadata": {},
   "outputs": [],
   "source": [
    "# удалим столбец calls:\n",
    "df.drop(columns=['calls'], inplace=True)"
   ]
  },
  {
   "cell_type": "code",
   "execution_count": 14,
   "id": "e6e57a89",
   "metadata": {},
   "outputs": [],
   "source": [
    "# признаки = все столбцы, кроме маркера тарифа:\n",
    "features = df.drop(\"is_ultra\", axis=1)"
   ]
  },
  {
   "cell_type": "code",
   "execution_count": 15,
   "id": "08632345",
   "metadata": {},
   "outputs": [],
   "source": [
    "# целевой признак - маркер тарифа в столбце is_ultra:\n",
    "target = df.is_ultra"
   ]
  },
  {
   "cell_type": "markdown",
   "id": "9cc8b151",
   "metadata": {},
   "source": [
    "## Разделение данных"
   ]
  },
  {
   "cell_type": "markdown",
   "id": "7726a1a0",
   "metadata": {},
   "source": [
    "Выделим 25% данных для валидации. Для обучения используем выборку в 75% от полученных данных.\n",
    "<br>Так как данные по тарифам имеют различный размер необходимо стритифицировать выборки по целевому признаку. "
   ]
  },
  {
   "cell_type": "code",
   "execution_count": 16,
   "id": "7f2d8f29",
   "metadata": {},
   "outputs": [],
   "source": [
    "# разделим выборку на основную (ее далее поделим на обучающую и валидационную) и тестовую: \n",
    "features_main, features_test, target_main, target_test = train_test_split(\n",
    "    features, target, test_size=0.25, random_state=12345, stratify=target)"
   ]
  },
  {
   "cell_type": "code",
   "execution_count": 17,
   "id": "d943493e",
   "metadata": {},
   "outputs": [
    {
     "name": "stdout",
     "output_type": "stream",
     "text": [
      "(2410, 3)\n",
      "(804, 3)\n",
      "(2410,)\n",
      "(804,)\n"
     ]
    }
   ],
   "source": [
    "# рассмотрим размеры полученных выборок: \n",
    "print(features_main.shape)\n",
    "print(features_test.shape)\n",
    "print(target_main.shape)\n",
    "print(target_test.shape)"
   ]
  },
  {
   "cell_type": "code",
   "execution_count": 18,
   "id": "75d5ff75",
   "metadata": {},
   "outputs": [],
   "source": [
    "# разделим основную выборку на основную на обучающую и валидационную: \n",
    "features_train, features_valid, target_train, target_valid = train_test_split(\n",
    "    features_main, target_main, test_size=0.25, random_state=12345, stratify=target_main)"
   ]
  },
  {
   "cell_type": "code",
   "execution_count": 19,
   "id": "487553ae",
   "metadata": {},
   "outputs": [
    {
     "name": "stdout",
     "output_type": "stream",
     "text": [
      "(1807, 3)\n",
      "(603, 3)\n",
      "(1807,)\n",
      "(603,)\n"
     ]
    }
   ],
   "source": [
    "# рассмотрим размеры полученных выборок: \n",
    "print(features_train.shape)\n",
    "print(features_valid.shape)\n",
    "print(target_train.shape)\n",
    "print(target_valid.shape)"
   ]
  },
  {
   "cell_type": "markdown",
   "id": "8eb446c6",
   "metadata": {},
   "source": [
    "# **Модель - Дерево решений**"
   ]
  },
  {
   "cell_type": "code",
   "execution_count": 20,
   "id": "8238e92d",
   "metadata": {
    "scrolled": false
   },
   "outputs": [],
   "source": [
    "%%time\n",
    "best_model = None\n",
    "best_result = 0\n",
    "best_depth = 0\n",
    "\n",
    "for x in range(1, 20):\n",
    "    model = DecisionTreeClassifier(random_state=12345, max_depth=x)\n",
    "    model.fit(features_train, target_train)\n",
    "    predictions_valid = model.predict(features_valid)\n",
    "    result = accuracy_score(target_valid, predictions_valid)\n",
    "    if result > best_result:\n",
    "        best_depth = x\n",
    "        best_model = model\n",
    "        best_result = result\n",
    "\n",
    "print('Accuracy наилучшей модели \"Дерево решений\" на валидационной выборке:',\n",
    "      best_result, '\\nDepth: ', best_depth)"
   ]
  },
  {
   "cell_type": "code",
   "execution_count": 21,
   "id": "7332935b",
   "metadata": {},
   "outputs": [],
   "source": [
    "# получим развернутый отчет о качестве работы модели:\n",
    "print(\n",
    "    classification_report(target_valid,\n",
    "                          best_model.predict(features_valid),\n",
    "                          target_names=['smart', 'ultra']))"
   ]
  },
  {
   "cell_type": "code",
   "execution_count": 22,
   "id": "556a76d0",
   "metadata": {},
   "outputs": [],
   "source": [
    "# получим развернутый отчет о качестве работы лучшей модели на тестовой выборке:\n",
    "print(\n",
    "    classification_report(target_test,\n",
    "                          best_model.predict(features_test),\n",
    "                          target_names=['smart', 'ultra']))"
   ]
  },
  {
   "cell_type": "markdown",
   "id": "229c5a2a",
   "metadata": {},
   "source": [
    "### _Промежуточные выводы_"
   ]
  },
  {
   "cell_type": "markdown",
   "id": "51743e80",
   "metadata": {},
   "source": [
    "Точность модели в значительной степени зависит от размера выборки данных для обучения: \n",
    "<br>**75%** - Accuracy наилучшей модели на валидационной выборке: 0.7947761194029851 \n",
    "Depth:  11\n",
    "<br>**80%** - Accuracy наилучшей модели на валидационной выборке: 0.7962674961119751 \n",
    "Depth:  6\n",
    "<br>**90%** - Accuracy наилучшей модели на валидационной выборке: 0.8105590062111802 \n",
    "Depth:  5\n",
    "\n",
    "При этом также уменьшается высота дерева - с 11 до 5 в приведенных выше примерах. \n",
    "\n",
    "Точность прогноза зависит от количества объектов того или иного класса в данных. \n",
    "\n",
    "Точность лучшей модели на тестовой выборке крайне близка к точности данной модели на валидационной выборке.  "
   ]
  },
  {
   "cell_type": "markdown",
   "id": "fefcf4fa",
   "metadata": {},
   "source": [
    "# **Модель - Случайный лес**"
   ]
  },
  {
   "cell_type": "code",
   "execution_count": 23,
   "id": "ace34223",
   "metadata": {},
   "outputs": [],
   "source": [
    "%%time\n",
    "best_model = None\n",
    "best_result = 0\n",
    "best_est = 0\n",
    "for est in range(200, 225):\n",
    "    model = RandomForestClassifier(random_state=12345, n_estimators=est)\n",
    "    model.fit(features_train, target_train)\n",
    "    result = model.score(features_valid, target_valid)\n",
    "    if result > best_result:\n",
    "        best_est = est\n",
    "        best_model = model\n",
    "        best_result = result\n",
    "\n",
    "print(\"Accuracy наилучшей модели 'Случайный лес' на валидационной выборке:\",\n",
    "      best_result, '\\nNumber of estimators: ', best_est)"
   ]
  },
  {
   "cell_type": "code",
   "execution_count": 24,
   "id": "1ae4564a",
   "metadata": {},
   "outputs": [],
   "source": [
    "# получим развернутый отчет о качестве работы модели:\n",
    "print(\n",
    "    classification_report(target_valid,\n",
    "                          best_model.predict(features_valid),\n",
    "                          target_names=['smart', 'ultra']))"
   ]
  },
  {
   "cell_type": "code",
   "execution_count": 25,
   "id": "0bd969b4",
   "metadata": {},
   "outputs": [],
   "source": [
    "# получим развернутый отчет о качестве работы лучшей модели на тестовой выборке:\n",
    "print(\n",
    "    classification_report(target_test,\n",
    "                          best_model.predict(features_test),\n",
    "                          target_names=['smart', 'ultra']))"
   ]
  },
  {
   "cell_type": "markdown",
   "id": "6c97db0a",
   "metadata": {},
   "source": [
    "### _Промежуточные выводы_"
   ]
  },
  {
   "cell_type": "markdown",
   "id": "92dadb02",
   "metadata": {},
   "source": [
    "В данной модели точность зависит от двух параметров: \n",
    "- размер выборки \n",
    "- максимальное количество деревьев. \n",
    "\n",
    "Например: \n",
    "\n",
    "Макс. количество деревьев - **250 (step=5)** - размер выборки для обучения **75**%: \n",
    "<br>Accuracy наилучшей модели на валидационной выборке: 0.8146766169154229 \n",
    "<br>Number of estimators:  221\n",
    "\n",
    "Макс. количество деревьев - **50** - размер выборки для обучения **80%**: \n",
    "<br>Accuracy наилучшей модели на валидационной выборке: 0.8164852255054432 \n",
    "<br>Number of estimators:  21\n",
    "\n",
    "Макс. количество деревьев - **100** - размер выборки для обучения **90%**\n",
    "<br>Accuracy наилучшей модели на валидационной выборке: 0.8229813664596274 \n",
    "<br>Number of estimators:  75\n",
    "\n",
    "Точность прогноза также зависит от количества объектов того или иного класса в данных. \n",
    "\n",
    "Точность лучшей модели на тестовой выборке незначительно выше точности данной модели на валидационной выборке, что скорее всего обусловлено несколько большим размером тестовой выборки. "
   ]
  },
  {
   "cell_type": "markdown",
   "id": "f6f7da6b",
   "metadata": {},
   "source": [
    "# **Модель - Логистическая регрессия**"
   ]
  },
  {
   "cell_type": "code",
   "execution_count": 26,
   "id": "feeed4e1",
   "metadata": {},
   "outputs": [],
   "source": [
    "%%time\n",
    "model = LogisticRegression(random_state=12345)\n",
    "model.fit(features_train, target_train)\n",
    "result = model.score(features_valid, target_valid)\n",
    "\n",
    "print(\"Accuracy модели логистической регрессии на валидационной выборке:\",\n",
    "      result)"
   ]
  },
  {
   "cell_type": "code",
   "execution_count": 27,
   "id": "5bd78dfa",
   "metadata": {},
   "outputs": [],
   "source": [
    "# получим развернутый отчет о качестве работы модели:\n",
    "print(\n",
    "    classification_report(target_valid,\n",
    "                          model.predict(features_valid),\n",
    "                          target_names=['smart', 'ultra']))"
   ]
  },
  {
   "cell_type": "code",
   "execution_count": 28,
   "id": "ad082c13",
   "metadata": {},
   "outputs": [],
   "source": [
    "# получим развернутый отчет о качестве работы модели на тестовой выборке:\n",
    "print(\n",
    "    classification_report(target_test,\n",
    "                          model.predict(features_test),\n",
    "                          target_names=['smart', 'ultra']))"
   ]
  },
  {
   "cell_type": "code",
   "execution_count": 29,
   "id": "d764e81d",
   "metadata": {},
   "outputs": [
    {
     "data": {},
     "execution_count": 29,
     "metadata": {},
     "output_type": "execute_result"
    }
   ],
   "source": [
    "model.score(features_test, target_test)"
   ]
  },
  {
   "cell_type": "markdown",
   "id": "e6ca01ad",
   "metadata": {},
   "source": [
    "### _Промежуточные выводы_"
   ]
  },
  {
   "cell_type": "markdown",
   "id": "7940126f",
   "metadata": {},
   "source": [
    "Пожлуй, это наиболее быстрая модель из всех рассмотренных, но при этом значение accuracy наиболее низкое вне зависимости от размера выборки для обучения: \n",
    "<br>**75%** - Accuracy модели логистической регрессии на валидационной выборке: 0.7114427860696517\n",
    "<br>**80%** - Accuracy модели логистической регрессии на валидационной выборке: 0.7091757387247278\n",
    "<br>**90%** - Accuracy модели логистической регрессии на валидационной выборке: 0.7391304347826086\n",
    "\n",
    "Для более качественной работы модели логистической регресси попробуем нормализовать значения всех столбцов датасета, используемых для тренировки и тестирования модели. \n",
    "\n",
    "Для этого создадим копию датасета, проведем нормализацию с оффсетом в 1,25 и разделим данные на выборки. \n",
    "\n",
    "Точность данной модели на тестовой выборке ниже точности обученной модели на валидационной выборке. "
   ]
  },
  {
   "cell_type": "markdown",
   "id": "34365482",
   "metadata": {},
   "source": [
    "# **Нормализация датафрейма**"
   ]
  },
  {
   "cell_type": "code",
   "execution_count": 30,
   "id": "0dcb15d9",
   "metadata": {},
   "outputs": [],
   "source": [
    "# создаем копию датасета: \n",
    "normalized_df = df.copy()"
   ]
  },
  {
   "cell_type": "code",
   "execution_count": 31,
   "id": "e42f3b31",
   "metadata": {},
   "outputs": [],
   "source": [
    "# найдем максимумы для каждого столбца:\n",
    "#max_minutes = normalized_df.minutes.max()\n",
    "#max_messages = normalized_df.messages.max()\n",
    "#max_mb = normalized_df.mb_used.max()"
   ]
  },
  {
   "cell_type": "code",
   "execution_count": 32,
   "id": "b8f78b3e",
   "metadata": {},
   "outputs": [],
   "source": [
    "# проведем нормализацию:\n",
    "#normalized_df['minutes'] = 12 * (normalized_df.minutes / max_minutes)**5 + 1.25\n",
    "#normalized_df['messages'] = 12 * (normalized_df.messages /\n",
    "#                                  max_messages)**5 + 1.25\n",
    "#normalized_df['mb_used'] = 12 * (normalized_df.mb_used / max_mb)**5 + 1.25"
   ]
  },
  {
   "cell_type": "code",
   "execution_count": 33,
   "id": "ddd4c0f4",
   "metadata": {},
   "outputs": [],
   "source": [
    "scaler = StandardScaler()"
   ]
  },
  {
   "cell_type": "code",
   "execution_count": 34,
   "id": "78f840f0",
   "metadata": {},
   "outputs": [
    {
     "data": {},
     "execution_count": 34,
     "metadata": {},
     "output_type": "execute_result"
    }
   ],
   "source": [
    "scaler.fit(normalized_df)"
   ]
  },
  {
   "cell_type": "code",
   "execution_count": 35,
   "id": "08547464",
   "metadata": {},
   "outputs": [],
   "source": [
    "morm_array = scaler.transform(normalized_df)"
   ]
  },
  {
   "cell_type": "code",
   "execution_count": 36,
   "id": "6acf15d5",
   "metadata": {},
   "outputs": [],
   "source": [
    "normalized_df = pd.DataFrame(data=morm_array, columns=df.columns)"
   ]
  },
  {
   "cell_type": "code",
   "execution_count": 37,
   "id": "d82a5259",
   "metadata": {},
   "outputs": [],
   "source": [
    "normalized_df['is_ultra'] = df.is_ultra"
   ]
  },
  {
   "cell_type": "code",
   "execution_count": 38,
   "id": "34c52069",
   "metadata": {
    "scrolled": true
   },
   "outputs": [
    {
     "data": {},
     "execution_count": 38,
     "metadata": {},
     "output_type": "execute_result"
    }
   ],
   "source": [
    "# рассмотрим первые пять строк полученного датасета:\n",
    "normalized_df.head()"
   ]
  },
  {
   "cell_type": "markdown",
   "id": "07cb36a7",
   "metadata": {},
   "source": [
    "## Корреляция параметров будущей модели в нормализованном датафрейме"
   ]
  },
  {
   "cell_type": "code",
   "execution_count": 39,
   "id": "edaa03ea",
   "metadata": {
    "scrolled": false
   },
   "outputs": [
    {
     "data": {},
     "execution_count": 39,
     "metadata": {},
     "output_type": "execute_result"
    },
    {
     "data": {
      "image/png": "[encoded data removed]"
     },
     "metadata": {},
     "output_type": "display_data"
    }
   ],
   "source": [
    "# рассмотрим графическое отражение корреляции полученного датафрейма:\n",
    "ax = pyplot.axes()\n",
    "sns.heatmap(normalized_df.drop(columns=['is_ultra']).corr(method='pearson'),\n",
    "            annot=True,\n",
    "            cmap='coolwarm')\n",
    "ax.set_title('Тепловая карта корреляции параметров будущей модели',\n",
    "             fontsize=20)"
   ]
  },
  {
   "cell_type": "markdown",
   "id": "cb5e9f21",
   "metadata": {},
   "source": [
    "## Извлечение признаков и разделение данных нормализованного датафрейма"
   ]
  },
  {
   "cell_type": "code",
   "execution_count": 40,
   "id": "3e719a06",
   "metadata": {},
   "outputs": [],
   "source": [
    "# извлечем признаки и целевой признак:\n",
    "features = normalized_df.drop(\"is_ultra\", axis=1)\n",
    "target = normalized_df.is_ultra"
   ]
  },
  {
   "cell_type": "code",
   "execution_count": 41,
   "id": "7e10e475",
   "metadata": {},
   "outputs": [],
   "source": [
    "# разделим выборку на основную (ее далее поделим на обучающую и валидационную) и тестовую: \n",
    "features_main, features_test, target_main, target_test = train_test_split(\n",
    "    features, target, test_size=0.25, random_state=12345, stratify=target)"
   ]
  },
  {
   "cell_type": "code",
   "execution_count": 42,
   "id": "cffb8041",
   "metadata": {},
   "outputs": [],
   "source": [
    "# разделим основную выборку на основную на обучающую и валидационную: \n",
    "features_train, features_valid, target_train, target_valid = train_test_split(\n",
    "    features_main, target_main, test_size=0.25, random_state=12345, stratify=target_main)"
   ]
  },
  {
   "cell_type": "markdown",
   "id": "6a634298",
   "metadata": {},
   "source": [
    "# **Обучение моделей на нормализованном датасете без изменения размеров выборки**"
   ]
  },
  {
   "cell_type": "markdown",
   "id": "b0be1b12",
   "metadata": {},
   "source": [
    "## Логистическая регрессия на нормализованнном датасете"
   ]
  },
  {
   "cell_type": "code",
   "execution_count": 43,
   "id": "ae856707",
   "metadata": {
    "scrolled": true
   },
   "outputs": [],
   "source": [
    "%%time\n",
    "model = LogisticRegression(random_state=12345)\n",
    "model.fit(features_train, target_train)\n",
    "result = model.score(features_valid, target_valid)\n",
    "\n",
    "print(\"Accuracy модели логистической регрессии на валидационной выборке:\",\n",
    "      result)"
   ]
  },
  {
   "cell_type": "code",
   "execution_count": 44,
   "id": "b99a1517",
   "metadata": {},
   "outputs": [],
   "source": [
    "# получим развернутый отчет о качестве работы модели:\n",
    "print(\n",
    "    classification_report(target_valid,\n",
    "                          model.predict(features_valid),\n",
    "                          target_names=['smart', 'ultra']))"
   ]
  },
  {
   "cell_type": "code",
   "execution_count": 45,
   "id": "cdacf891",
   "metadata": {},
   "outputs": [],
   "source": [
    "# получим развернутый отчет о качестве работы модели на тестовой выборке:\n",
    "print(\n",
    "    classification_report(target_test,\n",
    "                          model.predict(features_test),\n",
    "                          target_names=['smart', 'ultra']))"
   ]
  },
  {
   "cell_type": "code",
   "execution_count": 46,
   "id": "8bfe1c68",
   "metadata": {},
   "outputs": [
    {
     "data": {},
     "execution_count": 46,
     "metadata": {},
     "output_type": "execute_result"
    }
   ],
   "source": [
    "model.score(features_test, target_test)"
   ]
  },
  {
   "cell_type": "markdown",
   "id": "9e2a60d3",
   "metadata": {},
   "source": [
    "## Дерево решений на нормализованном датасете"
   ]
  },
  {
   "cell_type": "code",
   "execution_count": 47,
   "id": "75423697",
   "metadata": {},
   "outputs": [],
   "source": [
    "%%time\n",
    "best_model = None\n",
    "best_result = 0\n",
    "best_depth = 0\n",
    "\n",
    "for x in range(1, 10):\n",
    "    model = DecisionTreeClassifier(random_state=12345, max_depth=x)\n",
    "    model.fit(features_train, target_train)\n",
    "    predictions_valid = model.predict(features_valid)\n",
    "    result = accuracy_score(target_valid, predictions_valid)\n",
    "    if result > best_result:\n",
    "        best_depth = x\n",
    "        best_model = model\n",
    "        best_result = result\n",
    "print(\"Accuracy наилучшей модели 'Дерево решений' на валидационной выборке:\",\n",
    "      best_result, '\\nDepth: ', best_depth)"
   ]
  },
  {
   "cell_type": "code",
   "execution_count": 48,
   "id": "44ef71c8",
   "metadata": {},
   "outputs": [],
   "source": [
    "# получим развернутый отчет о качестве работы модели:\n",
    "print(\n",
    "    classification_report(target_valid,\n",
    "                          best_model.predict(features_valid),\n",
    "                          target_names=['smart', 'ultra']))"
   ]
  },
  {
   "cell_type": "code",
   "execution_count": 49,
   "id": "d621094e",
   "metadata": {},
   "outputs": [],
   "source": [
    "# получим развернутый отчет о качестве работы лучшей модели на тестовой выборке:\n",
    "print(\n",
    "    classification_report(target_test,\n",
    "                          best_model.predict(features_test),\n",
    "                          target_names=['smart', 'ultra']))"
   ]
  },
  {
   "cell_type": "markdown",
   "id": "8e934abf",
   "metadata": {},
   "source": [
    "## Случайный лес на нормализованнном датасете"
   ]
  },
  {
   "cell_type": "code",
   "execution_count": 50,
   "id": "fede8582",
   "metadata": {},
   "outputs": [],
   "source": [
    "%%time\n",
    "best_model = None\n",
    "best_result = 0\n",
    "best_est = 0\n",
    "for est in range(600, 620):\n",
    "    model = RandomForestClassifier(random_state=12345, n_estimators=est)\n",
    "    model.fit(features_train, target_train)\n",
    "    result = model.score(features_valid, target_valid)\n",
    "    if result > best_result:\n",
    "        best_est = est\n",
    "        best_model = model\n",
    "        best_result = result\n",
    "\n",
    "print(\"Accuracy наилучшей модели 'Случайный лес' на валидационной выборке:\",\n",
    "      best_result, '\\nNumber of estimators: ', best_est)"
   ]
  },
  {
   "cell_type": "code",
   "execution_count": 51,
   "id": "e7a2ea0a",
   "metadata": {},
   "outputs": [],
   "source": [
    "# получим развернутый отчет о качестве работы модели:\n",
    "print(\n",
    "    classification_report(target_valid,\n",
    "                          best_model.predict(features_valid),\n",
    "                          target_names=['smart', 'ultra']))"
   ]
  },
  {
   "cell_type": "code",
   "execution_count": 52,
   "id": "3ea11749",
   "metadata": {},
   "outputs": [],
   "source": [
    "# получим развернутый отчет о качестве работы лучшей модели на тестовой выборке:\n",
    "print(\n",
    "    classification_report(target_test,\n",
    "                          best_model.predict(features_test),\n",
    "                          target_names=['smart', 'ultra']))"
   ]
  },
  {
   "cell_type": "markdown",
   "id": "e6e9651a",
   "metadata": {},
   "source": [
    "### _Промежуточные выводы_"
   ]
  },
  {
   "cell_type": "markdown",
   "id": "2bf59472",
   "metadata": {},
   "source": [
    "Нормализация датасета позволяет существенно повысить точность модели логистической регресси, однако, для дерева решений показатель accuracy падает, хотя высота дерева при этом всего 4. Для модели случайного леса accuracy также падает, а вот количество деревьев существенно возрастает. "
   ]
  },
  {
   "cell_type": "markdown",
   "id": "591ec05a",
   "metadata": {},
   "source": [
    "# Общий вывод"
   ]
  },
  {
   "cell_type": "markdown",
   "id": "aab9c6cb",
   "metadata": {},
   "source": [
    "Наилучший результат с точки зрения точности прогноза показала модель **Случайный лес** на исходных данных accuracy = 0.814676616915423. Однако эта модель имеет самую низкую скорость обработки данных - Wall time: 16.4 s. Если объем данных не велик и скорость обработки не имеет значения, то стоит использовать эту модель. Нормализация данных привела к снижению точности для данной модели - 0.7885572139303483 и существенному снижению скорости - 35.5 s. <br>\n",
    "<br>Если же объем данных значительный и требуется высокая скорость обработки данных (например рекомендательный микросервис веб-сайта), то наиболее оптимальным выглядит использование модели **Дерево решений** со значением accuracy = 0.794776119402985 и временем обработки - Wall time: 191 ms на ненормализованных данных. Нормализация данных несколько снижает точность данной модели, но существенно сокращает время обработки: 74.5 ms с точностью 0.7922885572139303. <br>\n",
    "<br>**Логистическая регрессия** - самая быстрая модель (Wall time на нормализованных данных: 12.8 ms), может быть использована только в том случае, когда погрешность может иметь достаточно большие допуски - наилучшая точность 0,779850746268657 получена на нормализованных данных. На \"сырых\" данных эта модель показала самую высокую скорость (Wall time: 22.7 ms), но и самую низкую точность: 0,711442786069652.\n",
    "\n",
    "Полагаю, что в рамках этой работы - на этом датасете и с учетом параметров скорости и точности победителем необходимо признать модель **Дерево решений** на нормализованных данных. "
   ]
  }
 ],
 "metadata": {
  "ExecuteTimeLog": [
   {
    "duration": 1555,
    "start_time": "2022-02-22T08:45:55.160Z"
   },
   {
    "duration": 22,
    "start_time": "2022-02-22T08:45:56.719Z"
   },
   {
    "duration": 34,
    "start_time": "2022-02-22T08:45:56.744Z"
   },
   {
    "duration": 7,
    "start_time": "2022-02-22T08:45:56.781Z"
   },
   {
    "duration": 23,
    "start_time": "2022-02-22T08:45:56.790Z"
   },
   {
    "duration": 591,
    "start_time": "2022-02-22T08:45:56.816Z"
   },
   {
    "duration": 540,
    "start_time": "2022-02-22T08:45:57.410Z"
   },
   {
    "duration": 559,
    "start_time": "2022-02-22T08:45:57.961Z"
   },
   {
    "duration": 48,
    "start_time": "2022-02-22T08:45:58.523Z"
   },
   {
    "duration": 2354,
    "start_time": "2022-02-22T08:45:58.573Z"
   },
   {
    "duration": 580,
    "start_time": "2022-02-22T08:46:00.930Z"
   },
   {
    "duration": 437,
    "start_time": "2022-02-22T08:46:01.513Z"
   },
   {
    "duration": 994,
    "start_time": "2022-02-22T08:46:00.958Z"
   },
   {
    "duration": 976,
    "start_time": "2022-02-22T08:46:00.978Z"
   },
   {
    "duration": 963,
    "start_time": "2022-02-22T08:46:00.993Z"
   },
   {
    "duration": 945,
    "start_time": "2022-02-22T08:46:01.012Z"
   },
   {
    "duration": 927,
    "start_time": "2022-02-22T08:46:01.031Z"
   },
   {
    "duration": 912,
    "start_time": "2022-02-22T08:46:01.048Z"
   },
   {
    "duration": 887,
    "start_time": "2022-02-22T08:46:01.074Z"
   },
   {
    "duration": 5,
    "start_time": "2022-02-22T08:46:25.991Z"
   },
   {
    "duration": 5,
    "start_time": "2022-02-22T08:46:26.976Z"
   },
   {
    "duration": 4,
    "start_time": "2022-02-22T08:46:27.855Z"
   },
   {
    "duration": 12,
    "start_time": "2022-02-22T08:46:30.041Z"
   },
   {
    "duration": 9,
    "start_time": "2022-02-22T08:46:31.900Z"
   },
   {
    "duration": 11,
    "start_time": "2022-02-22T08:46:34.446Z"
   },
   {
    "duration": 7,
    "start_time": "2022-02-22T08:46:35.877Z"
   },
   {
    "duration": 5,
    "start_time": "2022-02-22T08:48:18.140Z"
   },
   {
    "duration": 8,
    "start_time": "2022-02-22T08:48:53.391Z"
   }
  ],
  "kernelspec": {
   "display_name": "Python 3 (ipykernel)",
   "language": "python",
   "name": "python3"
  },
  "language_info": {
   "codemirror_mode": {
    "name": "ipython",
    "version": 3
   },
   "file_extension": ".py",
   "mimetype": "text/x-python",
   "name": "python",
   "nbconvert_exporter": "python",
   "pygments_lexer": "ipython3",
   "version": "3.8.12"
  },
  "toc": {
   "base_numbering": 1,
   "nav_menu": {},
   "number_sections": true,
   "sideBar": true,
   "skip_h1_title": false,
   "title_cell": "Содержание",
   "title_sidebar": "Содержание",
   "toc_cell": true,
   "toc_position": {
    "height": "calc(100% - 180px)",
    "left": "10px",
    "top": "150px",
    "width": "282px"
   },
   "toc_section_display": true,
   "toc_window_display": true
  },
  "varInspector": {
   "cols": {
    "lenName": 16,
    "lenType": 16,
    "lenVar": 40
   },
   "kernels_config": {
    "python": {
     "delete_cmd_postfix": "",
     "delete_cmd_prefix": "del ",
     "library": "var_list.py",
     "varRefreshCmd": "print(var_dic_list())"
    },
    "r": {
     "delete_cmd_postfix": ") ",
     "delete_cmd_prefix": "rm(",
     "library": "var_list.r",
     "varRefreshCmd": "cat(var_dic_list()) "
    }
   },
   "types_to_exclude": [
    "module",
    "function",
    "builtin_function_or_method",
    "instance",
    "_Feature"
   ],
   "window_display": false
  }
 },
 "nbformat": 4,
 "nbformat_minor": 5
}
