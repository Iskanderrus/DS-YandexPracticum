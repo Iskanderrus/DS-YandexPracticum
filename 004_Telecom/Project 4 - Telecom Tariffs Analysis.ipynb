{
 "cells": [
  {
   "cell_type": "markdown",
   "id": "047e162c",
   "metadata": {},
   "source": [
    "# Определение перспективного тарифа для телеком-компании"
   ]
  },
  {
   "cell_type": "markdown",
   "id": "14332e3f",
   "metadata": {},
   "source": [
    "# Описание проекта"
   ]
  },
  {
   "cell_type": "markdown",
   "id": "f963ae45",
   "metadata": {},
   "source": [
    "Компания «Мегалайн» — федеральный оператор сотовой связи. Клиентам предлагают два тарифных плана: «Смарт» и «Ультра». Чтобы скорректировать рекламный бюджет, коммерческий департамент хочет понять, какой тариф приносит больше денег.<br>\n",
    "Необходимо сделать предварительный анализ тарифов на небольшой выборке клиентов - данные 500 пользователей «Мегалайна»: кто они, откуда, каким тарифом пользуются, сколько звонков и сообщений каждый отправил за 2018 год. Нужно проанализировать поведение клиентов и сделать вывод — какой тариф лучше."
   ]
  },
  {
   "cell_type": "markdown",
   "id": "f3fe00b5",
   "metadata": {},
   "source": [
    "# Описание тарифов"
   ]
  },
  {
   "cell_type": "markdown",
   "id": "96c4228e",
   "metadata": {},
   "source": [
    "## Тариф «Смарт»"
   ]
  },
  {
   "cell_type": "markdown",
   "id": "327dae5c",
   "metadata": {},
   "source": [
    "1. Ежемесячная плата: 550 рублей<br>\n",
    "2. Включено 500 минут разговора, 50 сообщений и 15 Гб интернет-трафика<br>\n",
    "3. Стоимость услуг сверх тарифного пакета: <br>- минута разговора: 3 рубля; <br>- сообщение: 3 рубля; <br>- 1 Гб интернет-трафика: 200 рублей."
   ]
  },
  {
   "cell_type": "markdown",
   "id": "b5db04b4",
   "metadata": {},
   "source": [
    "## Тариф «Ультра»"
   ]
  },
  {
   "cell_type": "markdown",
   "id": "4e659006",
   "metadata": {},
   "source": [
    "1. Ежемесячная плата: 1950 рублей<br>\n",
    "2. Включено 3000 минут разговора, 1000 сообщений и 30 Гб интернет-трафика<br>\n",
    "3. Стоимость услуг сверх тарифного пакета: <br>- минута разговора: 1 рубль; <br>- сообщение: 1 рубль; <br>- 1 Гб интернет-трафика: 150 рублей."
   ]
  },
  {
   "cell_type": "markdown",
   "id": "44eeb19b",
   "metadata": {},
   "source": [
    "# 1. **Изучение данных из файла & предварительная подготовка**"
   ]
  },
  {
   "cell_type": "markdown",
   "id": "97fd204b",
   "metadata": {},
   "source": [
    "## 1.1. Импорт библиотек"
   ]
  },
  {
   "cell_type": "code",
   "execution_count": 1,
   "id": "3c0ff60e",
   "metadata": {},
   "outputs": [],
   "source": [
    "import pandas as pd\n",
    "import os\n",
    "from matplotlib import pyplot\n",
    "import numpy as np\n",
    "import re\n",
    "import math\n",
    "from matplotlib.pyplot import figure\n",
    "import matplotlib.dates as mdates\n",
    "from scipy import stats as st\n",
    "\n",
    "pd.set_option('display.float_format', lambda x: '%.2f' % x)\n",
    "pyplot.style.use('seaborn-deep')"
   ]
  },
  {
   "cell_type": "markdown",
   "id": "a3000ee4",
   "metadata": {},
   "source": [
    "## 1.2. Откроем локальные или веб-версии файлов данных"
   ]
  },
  {
   "cell_type": "markdown",
   "id": "3d2642a3",
   "metadata": {},
   "source": [
    "1.2.1. напишем функцию поиска файлов из списка на локальном диске или в сети;<br>\n",
    "1.2.2. после того как файлы найдены, прочтем их, поместив в список датафреймов."
   ]
  },
  {
   "cell_type": "code",
   "execution_count": 2,
   "id": "2b3692ed",
   "metadata": {
    "scrolled": true
   },
   "outputs": [
    {
     "name": "stdout",
     "output_type": "stream",
     "text": [
      "Файл calls.csv найден на локальном диске.\n",
      "Файл internet.csv найден на локальном диске.\n",
      "Файл messages.csv найден на локальном диске.\n",
      "Файл tariffs.csv найден на локальном диске.\n",
      "Файл users.csv найден на локальном диске.\n"
     ]
    }
   ],
   "source": [
    "def find(name, path):\n",
    "    '''\n",
    "    Function to find the data file stored locally. \n",
    "    Takes name of the file and root directory. \n",
    "    Scanes the local directory tree for the first orrurance of the file. \n",
    "    '''\n",
    "    for root, dirs, files in os.walk(path):\n",
    "        if name in files:\n",
    "            return os.path.join(root, name)\n",
    "\n",
    "\n",
    "online_path = 'datasets'\n",
    "offline_path = '/home/'\n",
    "file_list = [\n",
    "    'calls.csv',\n",
    "    'internet.csv',\n",
    "    'messages.csv',\n",
    "    'tariffs.csv',\n",
    "    'users.csv'\n",
    "]\n",
    "df_list = []\n",
    "\n",
    "for file in file_list:\n",
    "    try:\n",
    "        df = pd.read_csv(f'/{online_path}/{file}', index_col=0)\n",
    "    except FileNotFoundError:\n",
    "        df = pd.read_csv(find(file, offline_path), index_col=0)\n",
    "        print(f\"Файл {file} найден на локальном диске.\")\n",
    "    else:\n",
    "        print(f\"Файл {file} открыт в режиме online.\")\n",
    "    finally:\n",
    "        df_list.append(df)"
   ]
  },
  {
   "cell_type": "markdown",
   "id": "c69b9e0c",
   "metadata": {},
   "source": [
    "## 1.3. Получим сводку по каждому датафрейму"
   ]
  },
  {
   "cell_type": "code",
   "execution_count": 3,
   "id": "9861ae2c",
   "metadata": {
    "scrolled": false
   },
   "outputs": [
    {
     "name": "stdout",
     "output_type": "stream",
     "text": [
      "Размер датафрейма \u001b[1mCALLS\u001b[0;0m:         \n",
      "количество строк - 202607, \n",
      "количество столбцов - 3.\n",
      "\n",
      "Развернутая сводка датафрейма \u001b[1mCALLS\u001b[0;0m \n",
      "по наименованию столбцов, типу данных, ненулевых значениях и объему памяти:\n",
      "\n",
      "<class 'pandas.core.frame.DataFrame'>\n",
      "Index: 202607 entries, 1000_0 to 1499_219\n",
      "Data columns (total 3 columns):\n",
      " #   Column     Non-Null Count   Dtype  \n",
      "---  ------     --------------   -----  \n",
      " 0   call_date  202607 non-null  object \n",
      " 1   duration   202607 non-null  float64\n",
      " 2   user_id    202607 non-null  int64  \n",
      "dtypes: float64(1), int64(1), object(1)\n",
      "memory usage: 28.6 MB\n",
      "--------------------------------------------------------------------\n",
      "\n",
      "Размер датафрейма \u001b[1mINTERNET\u001b[0;0m:         \n",
      "количество строк - 149396, \n",
      "количество столбцов - 4.\n",
      "\n",
      "Развернутая сводка датафрейма \u001b[1mINTERNET\u001b[0;0m \n",
      "по наименованию столбцов, типу данных, ненулевых значениях и объему памяти:\n",
      "\n",
      "<class 'pandas.core.frame.DataFrame'>\n",
      "Int64Index: 149396 entries, 0 to 149395\n",
      "Data columns (total 4 columns):\n",
      " #   Column        Non-Null Count   Dtype  \n",
      "---  ------        --------------   -----  \n",
      " 0   id            149396 non-null  object \n",
      " 1   mb_used       149396 non-null  float64\n",
      " 2   session_date  149396 non-null  object \n",
      " 3   user_id       149396 non-null  int64  \n",
      "dtypes: float64(1), int64(1), object(2)\n",
      "memory usage: 22.2 MB\n",
      "--------------------------------------------------------------------\n",
      "\n",
      "Размер датафрейма \u001b[1mMESSAGES\u001b[0;0m:         \n",
      "количество строк - 123036, \n",
      "количество столбцов - 2.\n",
      "\n",
      "Развернутая сводка датафрейма \u001b[1mMESSAGES\u001b[0;0m \n",
      "по наименованию столбцов, типу данных, ненулевых значениях и объему памяти:\n",
      "\n",
      "<class 'pandas.core.frame.DataFrame'>\n",
      "Index: 123036 entries, 1000_0 to 1499_183\n",
      "Data columns (total 2 columns):\n",
      " #   Column        Non-Null Count   Dtype \n",
      "---  ------        --------------   ----- \n",
      " 0   message_date  123036 non-null  object\n",
      " 1   user_id       123036 non-null  int64 \n",
      "dtypes: int64(1), object(1)\n",
      "memory usage: 16.4 MB\n",
      "--------------------------------------------------------------------\n",
      "\n",
      "Размер датафрейма \u001b[1mTARIFFS\u001b[0;0m:         \n",
      "количество строк - 2, \n",
      "количество столбцов - 7.\n",
      "\n",
      "Развернутая сводка датафрейма \u001b[1mTARIFFS\u001b[0;0m \n",
      "по наименованию столбцов, типу данных, ненулевых значениях и объему памяти:\n",
      "\n",
      "<class 'pandas.core.frame.DataFrame'>\n",
      "Int64Index: 2 entries, 50 to 1000\n",
      "Data columns (total 7 columns):\n",
      " #   Column                 Non-Null Count  Dtype \n",
      "---  ------                 --------------  ----- \n",
      " 0   mb_per_month_included  2 non-null      int64 \n",
      " 1   minutes_included       2 non-null      int64 \n",
      " 2   rub_monthly_fee        2 non-null      int64 \n",
      " 3   rub_per_gb             2 non-null      int64 \n",
      " 4   rub_per_message        2 non-null      int64 \n",
      " 5   rub_per_minute         2 non-null      int64 \n",
      " 6   tariff_name            2 non-null      object\n",
      "dtypes: int64(6), object(1)\n",
      "memory usage: 236.0 bytes\n",
      "--------------------------------------------------------------------\n",
      "\n",
      "Размер датафрейма \u001b[1mUSERS\u001b[0;0m:         \n",
      "количество строк - 500, \n",
      "количество столбцов - 7.\n",
      "\n",
      "Развернутая сводка датафрейма \u001b[1mUSERS\u001b[0;0m \n",
      "по наименованию столбцов, типу данных, ненулевых значениях и объему памяти:\n",
      "\n",
      "<class 'pandas.core.frame.DataFrame'>\n",
      "Int64Index: 500 entries, 1000 to 1499\n",
      "Data columns (total 7 columns):\n",
      " #   Column      Non-Null Count  Dtype \n",
      "---  ------      --------------  ----- \n",
      " 0   age         500 non-null    int64 \n",
      " 1   churn_date  38 non-null     object\n",
      " 2   city        500 non-null    object\n",
      " 3   first_name  500 non-null    object\n",
      " 4   last_name   500 non-null    object\n",
      " 5   reg_date    500 non-null    object\n",
      " 6   tariff      500 non-null    object\n",
      "dtypes: int64(1), object(6)\n",
      "memory usage: 229.5 KB\n",
      "--------------------------------------------------------------------\n",
      "\n"
     ]
    }
   ],
   "source": [
    "start = \"\\033[1m\"\n",
    "end = \"\\033[0;0m\"\n",
    "for i in range(0, len(df_list)):\n",
    "    print(\n",
    "        f\"Размер датафрейма {start}{str(file_list[i]).split('.')[0].upper()}{end}: \\\n",
    "        \\nколичество строк - {df_list[i].shape[0]}, \\nколичество столбцов - {df_list[i].shape[1]}.\")\n",
    "    print()\n",
    "    print(\n",
    "        f\"Развернутая сводка датафрейма {start}{str(file_list[i]).split('.')[0].upper()}{end} \\nпо наименованию столбцов, типу данных, ненулевых значениях и объему памяти:\")\n",
    "    print()\n",
    "    df_list[i].info(memory_usage='deep')\n",
    "    print('--------------------------------------------------------------------')\n",
    "    print()"
   ]
  },
  {
   "cell_type": "markdown",
   "id": "be69359f",
   "metadata": {},
   "source": [
    "## 1.4. Поместим полученные датафреймы в соответствующие переменные"
   ]
  },
  {
   "cell_type": "code",
   "execution_count": 4,
   "id": "68e11405",
   "metadata": {},
   "outputs": [],
   "source": [
    "calls = df_list[0]\n",
    "internet = df_list[1]\n",
    "messages = df_list[2]\n",
    "tariffs = df_list[3]\n",
    "users = df_list[4]"
   ]
  },
  {
   "cell_type": "markdown",
   "id": "ce917a1d",
   "metadata": {},
   "source": [
    "## 1.5. Промежуточные выводы и устранение недочетов"
   ]
  },
  {
   "cell_type": "markdown",
   "id": "fd2eddc9",
   "metadata": {},
   "source": [
    "### 1.5.1.  Датафрейм **CALLS**"
   ]
  },
  {
   "cell_type": "markdown",
   "id": "74012007",
   "metadata": {},
   "source": [
    "#### a. рассмотрим значения датафрейма"
   ]
  },
  {
   "cell_type": "code",
   "execution_count": 5,
   "id": "ba26c4e3",
   "metadata": {
    "scrolled": true
   },
   "outputs": [
    {
     "data": {
      "text/html": [
       "<div>\n",
       "<style scoped>\n",
       "    .dataframe tbody tr th:only-of-type {\n",
       "        vertical-align: middle;\n",
       "    }\n",
       "\n",
       "    .dataframe tbody tr th {\n",
       "        vertical-align: top;\n",
       "    }\n",
       "\n",
       "    .dataframe thead th {\n",
       "        text-align: right;\n",
       "    }\n",
       "</style>\n",
       "<table border=\"1\" class=\"dataframe\">\n",
       "  <thead>\n",
       "    <tr style=\"text-align: right;\">\n",
       "      <th></th>\n",
       "      <th>call_date</th>\n",
       "      <th>duration</th>\n",
       "      <th>user_id</th>\n",
       "    </tr>\n",
       "    <tr>\n",
       "      <th>id</th>\n",
       "      <th></th>\n",
       "      <th></th>\n",
       "      <th></th>\n",
       "    </tr>\n",
       "  </thead>\n",
       "  <tbody>\n",
       "    <tr>\n",
       "      <th>1000_0</th>\n",
       "      <td>2018-07-25</td>\n",
       "      <td>0.00</td>\n",
       "      <td>1000</td>\n",
       "    </tr>\n",
       "    <tr>\n",
       "      <th>1000_1</th>\n",
       "      <td>2018-08-17</td>\n",
       "      <td>0.00</td>\n",
       "      <td>1000</td>\n",
       "    </tr>\n",
       "    <tr>\n",
       "      <th>1000_2</th>\n",
       "      <td>2018-06-11</td>\n",
       "      <td>2.85</td>\n",
       "      <td>1000</td>\n",
       "    </tr>\n",
       "    <tr>\n",
       "      <th>1000_3</th>\n",
       "      <td>2018-09-21</td>\n",
       "      <td>13.80</td>\n",
       "      <td>1000</td>\n",
       "    </tr>\n",
       "    <tr>\n",
       "      <th>1000_4</th>\n",
       "      <td>2018-12-15</td>\n",
       "      <td>5.18</td>\n",
       "      <td>1000</td>\n",
       "    </tr>\n",
       "  </tbody>\n",
       "</table>\n",
       "</div>"
      ],
      "text/plain": [
       "         call_date  duration  user_id\n",
       "id                                   \n",
       "1000_0  2018-07-25      0.00     1000\n",
       "1000_1  2018-08-17      0.00     1000\n",
       "1000_2  2018-06-11      2.85     1000\n",
       "1000_3  2018-09-21     13.80     1000\n",
       "1000_4  2018-12-15      5.18     1000"
      ]
     },
     "execution_count": 5,
     "metadata": {},
     "output_type": "execute_result"
    }
   ],
   "source": [
    "calls.head()"
   ]
  },
  {
   "cell_type": "code",
   "execution_count": 6,
   "id": "bb8c061d",
   "metadata": {},
   "outputs": [
    {
     "data": {
      "text/plain": [
       "count   202607.00\n",
       "mean         6.76\n",
       "std          5.84\n",
       "min          0.00\n",
       "25%          1.30\n",
       "50%          6.00\n",
       "75%         10.70\n",
       "max         38.00\n",
       "Name: duration, dtype: float64"
      ]
     },
     "execution_count": 6,
     "metadata": {},
     "output_type": "execute_result"
    }
   ],
   "source": [
    "calls.duration.describe()"
   ]
  },
  {
   "cell_type": "markdown",
   "id": "b5ad4391",
   "metadata": {},
   "source": [
    "#### b. проверим наличие нулевых значений датафрейма"
   ]
  },
  {
   "cell_type": "code",
   "execution_count": 7,
   "id": "b37e5eef",
   "metadata": {},
   "outputs": [
    {
     "data": {
      "text/plain": [
       "call_date    0\n",
       "duration     0\n",
       "user_id      0\n",
       "dtype: int64"
      ]
     },
     "execution_count": 7,
     "metadata": {},
     "output_type": "execute_result"
    }
   ],
   "source": [
    "calls.isnull().sum()"
   ]
  },
  {
   "cell_type": "markdown",
   "id": "bdc36adb",
   "metadata": {},
   "source": [
    "#### _Промежуточные выводы_"
   ]
  },
  {
   "cell_type": "markdown",
   "id": "8701a71f",
   "metadata": {},
   "source": [
    "1. Пропущенные значения отсутствуют. \n",
    "2. Столбец **call_date** необходимо перевести в тип данных - дата. \n",
    "3. Значения столбца **duration** необходимо округлить до целого в сторону большего для корректных расчетов в дальнейшем.\n",
    "4. Столбец **id** переименуем в **call_id**."
   ]
  },
  {
   "cell_type": "markdown",
   "id": "b0b2493e",
   "metadata": {},
   "source": [
    "#### c. Изменение типов данных"
   ]
  },
  {
   "cell_type": "code",
   "execution_count": 8,
   "id": "f024cb71",
   "metadata": {},
   "outputs": [],
   "source": [
    "calls['call_date'] = pd.to_datetime(calls['call_date'])"
   ]
  },
  {
   "cell_type": "code",
   "execution_count": 9,
   "id": "bea44798",
   "metadata": {},
   "outputs": [
    {
     "data": {
      "text/plain": [
       "call_date    datetime64[ns]\n",
       "duration            float64\n",
       "user_id               int64\n",
       "dtype: object"
      ]
     },
     "execution_count": 9,
     "metadata": {},
     "output_type": "execute_result"
    }
   ],
   "source": [
    "# проверим результат изменения: \n",
    "calls.dtypes"
   ]
  },
  {
   "cell_type": "markdown",
   "id": "cc53060f",
   "metadata": {},
   "source": [
    "#### d. Переименование столбца **id**"
   ]
  },
  {
   "cell_type": "code",
   "execution_count": 11,
   "id": "1adba52f",
   "metadata": {},
   "outputs": [],
   "source": [
    "calls = calls.rename(\n",
    "    columns={\n",
    "        'id': 'call_id'\n",
    "    })"
   ]
  },
  {
   "cell_type": "code",
   "execution_count": 12,
   "id": "76e35e9c",
   "metadata": {},
   "outputs": [
    {
     "data": {
      "text/plain": [
       "Index(['call_date', 'duration', 'user_id'], dtype='object')"
      ]
     },
     "execution_count": 12,
     "metadata": {},
     "output_type": "execute_result"
    }
   ],
   "source": [
    "# проверим результат изменения: \n",
    "calls.columns"
   ]
  },
  {
   "cell_type": "markdown",
   "id": "027ed9e0",
   "metadata": {},
   "source": [
    "### 1.5.2.  Датафрейм **INTERNET**"
   ]
  },
  {
   "cell_type": "markdown",
   "id": "c00829b2",
   "metadata": {},
   "source": [
    "#### a. рассмотрим значения датафрейма"
   ]
  },
  {
   "cell_type": "code",
   "execution_count": 13,
   "id": "d5f47e3b",
   "metadata": {},
   "outputs": [
    {
     "data": {
      "text/html": [
       "<div>\n",
       "<style scoped>\n",
       "    .dataframe tbody tr th:only-of-type {\n",
       "        vertical-align: middle;\n",
       "    }\n",
       "\n",
       "    .dataframe tbody tr th {\n",
       "        vertical-align: top;\n",
       "    }\n",
       "\n",
       "    .dataframe thead th {\n",
       "        text-align: right;\n",
       "    }\n",
       "</style>\n",
       "<table border=\"1\" class=\"dataframe\">\n",
       "  <thead>\n",
       "    <tr style=\"text-align: right;\">\n",
       "      <th></th>\n",
       "      <th>id</th>\n",
       "      <th>mb_used</th>\n",
       "      <th>session_date</th>\n",
       "      <th>user_id</th>\n",
       "    </tr>\n",
       "  </thead>\n",
       "  <tbody>\n",
       "    <tr>\n",
       "      <th>0</th>\n",
       "      <td>1000_0</td>\n",
       "      <td>112.95</td>\n",
       "      <td>2018-11-25</td>\n",
       "      <td>1000</td>\n",
       "    </tr>\n",
       "    <tr>\n",
       "      <th>1</th>\n",
       "      <td>1000_1</td>\n",
       "      <td>1052.81</td>\n",
       "      <td>2018-09-07</td>\n",
       "      <td>1000</td>\n",
       "    </tr>\n",
       "    <tr>\n",
       "      <th>2</th>\n",
       "      <td>1000_2</td>\n",
       "      <td>1197.26</td>\n",
       "      <td>2018-06-25</td>\n",
       "      <td>1000</td>\n",
       "    </tr>\n",
       "    <tr>\n",
       "      <th>3</th>\n",
       "      <td>1000_3</td>\n",
       "      <td>550.27</td>\n",
       "      <td>2018-08-22</td>\n",
       "      <td>1000</td>\n",
       "    </tr>\n",
       "    <tr>\n",
       "      <th>4</th>\n",
       "      <td>1000_4</td>\n",
       "      <td>302.56</td>\n",
       "      <td>2018-09-24</td>\n",
       "      <td>1000</td>\n",
       "    </tr>\n",
       "  </tbody>\n",
       "</table>\n",
       "</div>"
      ],
      "text/plain": [
       "       id  mb_used session_date  user_id\n",
       "0  1000_0   112.95   2018-11-25     1000\n",
       "1  1000_1  1052.81   2018-09-07     1000\n",
       "2  1000_2  1197.26   2018-06-25     1000\n",
       "3  1000_3   550.27   2018-08-22     1000\n",
       "4  1000_4   302.56   2018-09-24     1000"
      ]
     },
     "execution_count": 13,
     "metadata": {},
     "output_type": "execute_result"
    }
   ],
   "source": [
    "internet.head()"
   ]
  },
  {
   "cell_type": "code",
   "execution_count": 14,
   "id": "11fd26b6",
   "metadata": {},
   "outputs": [
    {
     "data": {
      "text/plain": [
       "count   149396.00\n",
       "mean       370.19\n",
       "std        278.30\n",
       "min          0.00\n",
       "25%        138.19\n",
       "50%        348.01\n",
       "75%        559.55\n",
       "max       1724.83\n",
       "Name: mb_used, dtype: float64"
      ]
     },
     "execution_count": 14,
     "metadata": {},
     "output_type": "execute_result"
    }
   ],
   "source": [
    "internet.mb_used.describe()"
   ]
  },
  {
   "cell_type": "markdown",
   "id": "848f7567",
   "metadata": {},
   "source": [
    "#### b. проверим наличие нулевых значений датафрейма"
   ]
  },
  {
   "cell_type": "code",
   "execution_count": 15,
   "id": "8f769e7b",
   "metadata": {},
   "outputs": [
    {
     "data": {
      "text/plain": [
       "id              0\n",
       "mb_used         0\n",
       "session_date    0\n",
       "user_id         0\n",
       "dtype: int64"
      ]
     },
     "execution_count": 15,
     "metadata": {},
     "output_type": "execute_result"
    }
   ],
   "source": [
    "internet.isnull().sum()"
   ]
  },
  {
   "cell_type": "markdown",
   "id": "de7a21c6",
   "metadata": {},
   "source": [
    "#### _Промежуточные выводы_"
   ]
  },
  {
   "cell_type": "markdown",
   "id": "aaf94670",
   "metadata": {},
   "source": [
    "1. Пропущенные значения отсутствуют. \n",
    "2. Столбец **session_date** необходимо перевести в тип данных - дата. \n",
    "3. На основании значений столбца **mb_used** создадим столбец **gb_used** с округлением до целого в сторону большего для корректных расчетов в дальнейшем.\n",
    "4. Столбец **id** переименуем в **session_id**."
   ]
  },
  {
   "cell_type": "markdown",
   "id": "0fc8f4cb",
   "metadata": {},
   "source": [
    "#### c. Изменение типов данных"
   ]
  },
  {
   "cell_type": "code",
   "execution_count": 16,
   "id": "1f4e0450",
   "metadata": {},
   "outputs": [],
   "source": [
    "internet['session_date'] = pd.to_datetime(internet['session_date'])"
   ]
  },
  {
   "cell_type": "code",
   "execution_count": 17,
   "id": "b1745e49",
   "metadata": {},
   "outputs": [
    {
     "data": {
      "text/plain": [
       "id                      object\n",
       "mb_used                float64\n",
       "session_date    datetime64[ns]\n",
       "user_id                  int64\n",
       "dtype: object"
      ]
     },
     "execution_count": 17,
     "metadata": {},
     "output_type": "execute_result"
    }
   ],
   "source": [
    "# проверим результат изменения: \n",
    "internet.dtypes"
   ]
  },
  {
   "cell_type": "markdown",
   "id": "b3e10bd9",
   "metadata": {},
   "source": [
    "#### d. Переименование столбца **id**"
   ]
  },
  {
   "cell_type": "code",
   "execution_count": 19,
   "id": "d58d849f",
   "metadata": {},
   "outputs": [],
   "source": [
    "internet = internet.rename(\n",
    "    columns={\n",
    "        'id': 'session_id'\n",
    "    })"
   ]
  },
  {
   "cell_type": "code",
   "execution_count": 20,
   "id": "89a5d1d0",
   "metadata": {},
   "outputs": [
    {
     "data": {
      "text/plain": [
       "Index(['session_id', 'mb_used', 'session_date', 'user_id'], dtype='object')"
      ]
     },
     "execution_count": 20,
     "metadata": {},
     "output_type": "execute_result"
    }
   ],
   "source": [
    "# проверим результат изменения: \n",
    "internet.columns"
   ]
  },
  {
   "cell_type": "markdown",
   "id": "c8988019",
   "metadata": {},
   "source": [
    "### 1.5.3.  Датафрейм **MESSAGES**"
   ]
  },
  {
   "cell_type": "markdown",
   "id": "1b1620bb",
   "metadata": {},
   "source": [
    "#### a. рассмотрим значения датафрейма"
   ]
  },
  {
   "cell_type": "code",
   "execution_count": 21,
   "id": "c3ece4c3",
   "metadata": {},
   "outputs": [
    {
     "data": {
      "text/html": [
       "<div>\n",
       "<style scoped>\n",
       "    .dataframe tbody tr th:only-of-type {\n",
       "        vertical-align: middle;\n",
       "    }\n",
       "\n",
       "    .dataframe tbody tr th {\n",
       "        vertical-align: top;\n",
       "    }\n",
       "\n",
       "    .dataframe thead th {\n",
       "        text-align: right;\n",
       "    }\n",
       "</style>\n",
       "<table border=\"1\" class=\"dataframe\">\n",
       "  <thead>\n",
       "    <tr style=\"text-align: right;\">\n",
       "      <th></th>\n",
       "      <th>message_date</th>\n",
       "      <th>user_id</th>\n",
       "    </tr>\n",
       "    <tr>\n",
       "      <th>id</th>\n",
       "      <th></th>\n",
       "      <th></th>\n",
       "    </tr>\n",
       "  </thead>\n",
       "  <tbody>\n",
       "    <tr>\n",
       "      <th>1000_0</th>\n",
       "      <td>2018-06-27</td>\n",
       "      <td>1000</td>\n",
       "    </tr>\n",
       "    <tr>\n",
       "      <th>1000_1</th>\n",
       "      <td>2018-10-08</td>\n",
       "      <td>1000</td>\n",
       "    </tr>\n",
       "    <tr>\n",
       "      <th>1000_2</th>\n",
       "      <td>2018-08-04</td>\n",
       "      <td>1000</td>\n",
       "    </tr>\n",
       "    <tr>\n",
       "      <th>1000_3</th>\n",
       "      <td>2018-06-16</td>\n",
       "      <td>1000</td>\n",
       "    </tr>\n",
       "    <tr>\n",
       "      <th>1000_4</th>\n",
       "      <td>2018-12-05</td>\n",
       "      <td>1000</td>\n",
       "    </tr>\n",
       "  </tbody>\n",
       "</table>\n",
       "</div>"
      ],
      "text/plain": [
       "       message_date  user_id\n",
       "id                          \n",
       "1000_0   2018-06-27     1000\n",
       "1000_1   2018-10-08     1000\n",
       "1000_2   2018-08-04     1000\n",
       "1000_3   2018-06-16     1000\n",
       "1000_4   2018-12-05     1000"
      ]
     },
     "execution_count": 21,
     "metadata": {},
     "output_type": "execute_result"
    }
   ],
   "source": [
    "messages.head()"
   ]
  },
  {
   "cell_type": "markdown",
   "id": "473af86c",
   "metadata": {},
   "source": [
    "#### b. проверим наличие нулевых значений датафрейма"
   ]
  },
  {
   "cell_type": "code",
   "execution_count": 22,
   "id": "4fb15b68",
   "metadata": {},
   "outputs": [
    {
     "data": {
      "text/plain": [
       "message_date    0\n",
       "user_id         0\n",
       "dtype: int64"
      ]
     },
     "execution_count": 22,
     "metadata": {},
     "output_type": "execute_result"
    }
   ],
   "source": [
    "messages.isnull().sum()"
   ]
  },
  {
   "cell_type": "markdown",
   "id": "210131b9",
   "metadata": {},
   "source": [
    "#### _Промежуточные выводы_"
   ]
  },
  {
   "cell_type": "markdown",
   "id": "d76c6223",
   "metadata": {},
   "source": [
    "1. Пропущенные значения отсутствуют. \n",
    "2. Столбец **message_date** необходимо перевести в тип данных - дата. "
   ]
  },
  {
   "cell_type": "markdown",
   "id": "ede0ade5",
   "metadata": {},
   "source": [
    "#### c. Изменение типов данных"
   ]
  },
  {
   "cell_type": "code",
   "execution_count": 23,
   "id": "351f55a2",
   "metadata": {},
   "outputs": [],
   "source": [
    "messages['message_date'] = pd.to_datetime(messages['message_date'])"
   ]
  },
  {
   "cell_type": "code",
   "execution_count": 24,
   "id": "ac3ed8df",
   "metadata": {},
   "outputs": [
    {
     "data": {
      "text/plain": [
       "message_date    datetime64[ns]\n",
       "user_id                  int64\n",
       "dtype: object"
      ]
     },
     "execution_count": 24,
     "metadata": {},
     "output_type": "execute_result"
    }
   ],
   "source": [
    "# проверим результат изменения: \n",
    "messages.dtypes"
   ]
  },
  {
   "cell_type": "markdown",
   "id": "27a3b52b",
   "metadata": {},
   "source": [
    "### 1.5.4.  Датафрейм **TARIFFS**"
   ]
  },
  {
   "cell_type": "markdown",
   "id": "3527d590",
   "metadata": {},
   "source": [
    "#### a. рассмотрим значения датафрейма"
   ]
  },
  {
   "cell_type": "code",
   "execution_count": 25,
   "id": "ae32620e",
   "metadata": {},
   "outputs": [
    {
     "data": {
      "text/html": [
       "<div>\n",
       "<style scoped>\n",
       "    .dataframe tbody tr th:only-of-type {\n",
       "        vertical-align: middle;\n",
       "    }\n",
       "\n",
       "    .dataframe tbody tr th {\n",
       "        vertical-align: top;\n",
       "    }\n",
       "\n",
       "    .dataframe thead th {\n",
       "        text-align: right;\n",
       "    }\n",
       "</style>\n",
       "<table border=\"1\" class=\"dataframe\">\n",
       "  <thead>\n",
       "    <tr style=\"text-align: right;\">\n",
       "      <th></th>\n",
       "      <th>mb_per_month_included</th>\n",
       "      <th>minutes_included</th>\n",
       "      <th>rub_monthly_fee</th>\n",
       "      <th>rub_per_gb</th>\n",
       "      <th>rub_per_message</th>\n",
       "      <th>rub_per_minute</th>\n",
       "      <th>tariff_name</th>\n",
       "    </tr>\n",
       "    <tr>\n",
       "      <th>messages_included</th>\n",
       "      <th></th>\n",
       "      <th></th>\n",
       "      <th></th>\n",
       "      <th></th>\n",
       "      <th></th>\n",
       "      <th></th>\n",
       "      <th></th>\n",
       "    </tr>\n",
       "  </thead>\n",
       "  <tbody>\n",
       "    <tr>\n",
       "      <th>50</th>\n",
       "      <td>15360</td>\n",
       "      <td>500</td>\n",
       "      <td>550</td>\n",
       "      <td>200</td>\n",
       "      <td>3</td>\n",
       "      <td>3</td>\n",
       "      <td>smart</td>\n",
       "    </tr>\n",
       "    <tr>\n",
       "      <th>1000</th>\n",
       "      <td>30720</td>\n",
       "      <td>3000</td>\n",
       "      <td>1950</td>\n",
       "      <td>150</td>\n",
       "      <td>1</td>\n",
       "      <td>1</td>\n",
       "      <td>ultra</td>\n",
       "    </tr>\n",
       "  </tbody>\n",
       "</table>\n",
       "</div>"
      ],
      "text/plain": [
       "                   mb_per_month_included  minutes_included  rub_monthly_fee  \\\n",
       "messages_included                                                             \n",
       "50                                 15360               500              550   \n",
       "1000                               30720              3000             1950   \n",
       "\n",
       "                   rub_per_gb  rub_per_message  rub_per_minute tariff_name  \n",
       "messages_included                                                           \n",
       "50                        200                3               3       smart  \n",
       "1000                      150                1               1       ultra  "
      ]
     },
     "metadata": {},
     "output_type": "display_data"
    }
   ],
   "source": [
    "display(tariffs)"
   ]
  },
  {
   "cell_type": "code",
   "execution_count": 26,
   "id": "4cdd9887",
   "metadata": {},
   "outputs": [],
   "source": [
    "# сбросим индекс: \n",
    "tariffs.reset_index(inplace=True)"
   ]
  },
  {
   "cell_type": "markdown",
   "id": "3bed4b31",
   "metadata": {},
   "source": [
    "#### b. проверим наличие нулевых значений датафрейма"
   ]
  },
  {
   "cell_type": "code",
   "execution_count": 27,
   "id": "6fdfa360",
   "metadata": {},
   "outputs": [
    {
     "data": {
      "text/plain": [
       "messages_included        0\n",
       "mb_per_month_included    0\n",
       "minutes_included         0\n",
       "rub_monthly_fee          0\n",
       "rub_per_gb               0\n",
       "rub_per_message          0\n",
       "rub_per_minute           0\n",
       "tariff_name              0\n",
       "dtype: int64"
      ]
     },
     "execution_count": 27,
     "metadata": {},
     "output_type": "execute_result"
    }
   ],
   "source": [
    "tariffs.isnull().sum()"
   ]
  },
  {
   "cell_type": "markdown",
   "id": "e4084b5e",
   "metadata": {},
   "source": [
    "#### _Промежуточные выводы_"
   ]
  },
  {
   "cell_type": "markdown",
   "id": "9a530ca0",
   "metadata": {},
   "source": [
    "1. Пропущенные значения отсутствуют. \n",
    "2. Для удобства дальнейших расчетов переведем столбец **mb_per_month_included** из мегабайт в гигабайты и переименуем столбец в **gb_per_month_included**. Также изменим тип данных на цельночисленные значения. \n",
    "3. Зададим колонку **tariff_name** в качестве индекса."
   ]
  },
  {
   "cell_type": "markdown",
   "id": "0e9e4a90",
   "metadata": {},
   "source": [
    "#### c. изменение столбца **mb_per_month_included**"
   ]
  },
  {
   "cell_type": "code",
   "execution_count": 28,
   "id": "699913f3",
   "metadata": {},
   "outputs": [],
   "source": [
    "# переведем значения столбца в гигабайты в виде целых чисел:\n",
    "tariffs['mb_per_month_included'] = tariffs.apply(\n",
    "    lambda x: x.mb_per_month_included / 1024, axis=1).astype(int)"
   ]
  },
  {
   "cell_type": "code",
   "execution_count": 29,
   "id": "cbf2c705",
   "metadata": {},
   "outputs": [],
   "source": [
    "# переименуем столбец:\n",
    "tariffs = tariffs.rename(\n",
    "    columns={\n",
    "        'mb_per_month_included': 'gb_per_month_included'\n",
    "    })"
   ]
  },
  {
   "cell_type": "code",
   "execution_count": 30,
   "id": "7573d772",
   "metadata": {},
   "outputs": [],
   "source": [
    "# обновим индекс: \n",
    "tariffs.set_index('tariff_name', inplace=True, drop=False)"
   ]
  },
  {
   "cell_type": "markdown",
   "id": "c470f03a",
   "metadata": {},
   "source": [
    "### 1.5.5.  Датафрейм **USERS**"
   ]
  },
  {
   "cell_type": "markdown",
   "id": "edd9f5c7",
   "metadata": {},
   "source": [
    "#### a. рассмотрим значения датафрейма"
   ]
  },
  {
   "cell_type": "code",
   "execution_count": 31,
   "id": "0e942257",
   "metadata": {},
   "outputs": [
    {
     "data": {
      "text/html": [
       "<div>\n",
       "<style scoped>\n",
       "    .dataframe tbody tr th:only-of-type {\n",
       "        vertical-align: middle;\n",
       "    }\n",
       "\n",
       "    .dataframe tbody tr th {\n",
       "        vertical-align: top;\n",
       "    }\n",
       "\n",
       "    .dataframe thead th {\n",
       "        text-align: right;\n",
       "    }\n",
       "</style>\n",
       "<table border=\"1\" class=\"dataframe\">\n",
       "  <thead>\n",
       "    <tr style=\"text-align: right;\">\n",
       "      <th></th>\n",
       "      <th>age</th>\n",
       "      <th>churn_date</th>\n",
       "      <th>city</th>\n",
       "      <th>first_name</th>\n",
       "      <th>last_name</th>\n",
       "      <th>reg_date</th>\n",
       "      <th>tariff</th>\n",
       "    </tr>\n",
       "    <tr>\n",
       "      <th>user_id</th>\n",
       "      <th></th>\n",
       "      <th></th>\n",
       "      <th></th>\n",
       "      <th></th>\n",
       "      <th></th>\n",
       "      <th></th>\n",
       "      <th></th>\n",
       "    </tr>\n",
       "  </thead>\n",
       "  <tbody>\n",
       "    <tr>\n",
       "      <th>1000</th>\n",
       "      <td>52</td>\n",
       "      <td>NaN</td>\n",
       "      <td>Краснодар</td>\n",
       "      <td>Рафаил</td>\n",
       "      <td>Верещагин</td>\n",
       "      <td>2018-05-25</td>\n",
       "      <td>ultra</td>\n",
       "    </tr>\n",
       "    <tr>\n",
       "      <th>1001</th>\n",
       "      <td>41</td>\n",
       "      <td>NaN</td>\n",
       "      <td>Москва</td>\n",
       "      <td>Иван</td>\n",
       "      <td>Ежов</td>\n",
       "      <td>2018-11-01</td>\n",
       "      <td>smart</td>\n",
       "    </tr>\n",
       "    <tr>\n",
       "      <th>1002</th>\n",
       "      <td>59</td>\n",
       "      <td>NaN</td>\n",
       "      <td>Стерлитамак</td>\n",
       "      <td>Евгений</td>\n",
       "      <td>Абрамович</td>\n",
       "      <td>2018-06-17</td>\n",
       "      <td>smart</td>\n",
       "    </tr>\n",
       "    <tr>\n",
       "      <th>1003</th>\n",
       "      <td>23</td>\n",
       "      <td>NaN</td>\n",
       "      <td>Москва</td>\n",
       "      <td>Белла</td>\n",
       "      <td>Белякова</td>\n",
       "      <td>2018-08-17</td>\n",
       "      <td>ultra</td>\n",
       "    </tr>\n",
       "    <tr>\n",
       "      <th>1004</th>\n",
       "      <td>68</td>\n",
       "      <td>NaN</td>\n",
       "      <td>Новокузнецк</td>\n",
       "      <td>Татьяна</td>\n",
       "      <td>Авдеенко</td>\n",
       "      <td>2018-05-14</td>\n",
       "      <td>ultra</td>\n",
       "    </tr>\n",
       "  </tbody>\n",
       "</table>\n",
       "</div>"
      ],
      "text/plain": [
       "         age churn_date         city first_name  last_name    reg_date tariff\n",
       "user_id                                                                      \n",
       "1000      52        NaN    Краснодар     Рафаил  Верещагин  2018-05-25  ultra\n",
       "1001      41        NaN       Москва       Иван       Ежов  2018-11-01  smart\n",
       "1002      59        NaN  Стерлитамак    Евгений  Абрамович  2018-06-17  smart\n",
       "1003      23        NaN       Москва      Белла   Белякова  2018-08-17  ultra\n",
       "1004      68        NaN  Новокузнецк    Татьяна   Авдеенко  2018-05-14  ultra"
      ]
     },
     "execution_count": 31,
     "metadata": {},
     "output_type": "execute_result"
    }
   ],
   "source": [
    "users.head()"
   ]
  },
  {
   "cell_type": "markdown",
   "id": "7085c84d",
   "metadata": {},
   "source": [
    "#### b. проверим наличие нулевых значений датафрейма"
   ]
  },
  {
   "cell_type": "code",
   "execution_count": 32,
   "id": "3c0ebf4f",
   "metadata": {},
   "outputs": [
    {
     "data": {
      "text/plain": [
       "age             0\n",
       "churn_date    462\n",
       "city            0\n",
       "first_name      0\n",
       "last_name       0\n",
       "reg_date        0\n",
       "tariff          0\n",
       "dtype: int64"
      ]
     },
     "execution_count": 32,
     "metadata": {},
     "output_type": "execute_result"
    }
   ],
   "source": [
    "users.isnull().sum()"
   ]
  },
  {
   "cell_type": "markdown",
   "id": "770ee138",
   "metadata": {},
   "source": [
    "#### d. проверим уникальные значения столбцов **city** и **tariff**"
   ]
  },
  {
   "cell_type": "code",
   "execution_count": 33,
   "id": "2bb36cf1",
   "metadata": {},
   "outputs": [
    {
     "data": {
      "text/plain": [
       "Москва             99\n",
       "Санкт-Петербург    39\n",
       "Новосибирск        16\n",
       "Омск               14\n",
       "Казань             14\n",
       "                   ..\n",
       "Архангельск         1\n",
       "Иваново             1\n",
       "Нижневартовск       1\n",
       "Химки               1\n",
       "Подольск            1\n",
       "Name: city, Length: 76, dtype: int64"
      ]
     },
     "execution_count": 33,
     "metadata": {},
     "output_type": "execute_result"
    }
   ],
   "source": [
    "users.city.value_counts()"
   ]
  },
  {
   "cell_type": "code",
   "execution_count": 34,
   "id": "9ea999d1",
   "metadata": {},
   "outputs": [
    {
     "data": {
      "text/plain": [
       "array(['ultra', 'smart'], dtype=object)"
      ]
     },
     "execution_count": 34,
     "metadata": {},
     "output_type": "execute_result"
    }
   ],
   "source": [
    "users.tariff.unique()"
   ]
  },
  {
   "cell_type": "markdown",
   "id": "82f49f88",
   "metadata": {},
   "source": [
    "#### e. проверим значения столбца **age**"
   ]
  },
  {
   "cell_type": "code",
   "execution_count": 35,
   "id": "abf2467f",
   "metadata": {},
   "outputs": [
    {
     "data": {
      "text/plain": [
       "Text(0, 0.5, 'Количество пользователей, человек')"
      ]
     },
     "execution_count": 35,
     "metadata": {},
     "output_type": "execute_result"
    },
    {
     "data": {
      "image/png": "[encoded data removed]",
      "text/plain": [
       "<Figure size 1080x504 with 1 Axes>"
      ]
     },
     "metadata": {
      "needs_background": "light"
     },
     "output_type": "display_data"
    }
   ],
   "source": [
    "age_plot = users.age.hist(bins=60, figsize=(15, 7))\n",
    "age_plot.set_title('Распределение возраста пользователей')\n",
    "age_plot.set_xlabel('Возраст, лет')\n",
    "age_plot.set_ylabel('Количество пользователей, человек')"
   ]
  },
  {
   "cell_type": "markdown",
   "id": "e6fc7c6d",
   "metadata": {},
   "source": [
    "#### _Промежуточные выводы_"
   ]
  },
  {
   "cell_type": "markdown",
   "id": "c30d4152",
   "metadata": {},
   "source": [
    "1. Пропущенные значения присутствуют в столбце **churn_date** (дата прекращения пользования тарифом). Отсутствующее значение свидетельствует о том, что пользователь продолжает пользоваться тарифом на момент выгрузки данных. Поэтому удалять или заменять пропуски не имеет смысла. \n",
    "2. Столбцы **reg_date** и **churn_date** необходимо перевести в тип данных - дата. \n",
    "3. Возраст пользователей выборки имеет логичный диапазон и количественные всплески в точках 22, 43, 54 63-64, 71 и 74, на которые имеет смысл обратить внимание в процессе анализа. \n",
    "4. Столбцы не содержат пропусков или очевидно ошибочных данных. "
   ]
  },
  {
   "cell_type": "markdown",
   "id": "6f20cf68",
   "metadata": {},
   "source": [
    "#### f. Изменение типов данных"
   ]
  },
  {
   "cell_type": "code",
   "execution_count": 36,
   "id": "22c7ee7f",
   "metadata": {},
   "outputs": [],
   "source": [
    "users['reg_date'] = pd.to_datetime(users['reg_date'])"
   ]
  },
  {
   "cell_type": "code",
   "execution_count": 37,
   "id": "f35e9bbf",
   "metadata": {},
   "outputs": [],
   "source": [
    "users['churn_date'] = pd.to_datetime(users['churn_date'])"
   ]
  },
  {
   "cell_type": "code",
   "execution_count": 38,
   "id": "7d548a0b",
   "metadata": {},
   "outputs": [
    {
     "data": {
      "text/plain": [
       "age                    int64\n",
       "churn_date    datetime64[ns]\n",
       "city                  object\n",
       "first_name            object\n",
       "last_name             object\n",
       "reg_date      datetime64[ns]\n",
       "tariff                object\n",
       "dtype: object"
      ]
     },
     "execution_count": 38,
     "metadata": {},
     "output_type": "execute_result"
    }
   ],
   "source": [
    "# проверим результат изменения: \n",
    "users.dtypes"
   ]
  },
  {
   "cell_type": "markdown",
   "id": "209d2d2c",
   "metadata": {},
   "source": [
    "# 2. **Предобработка данных**"
   ]
  },
  {
   "cell_type": "markdown",
   "id": "207ef5c0",
   "metadata": {},
   "source": [
    "Для анализа данных определим наличие дубликатов и добавим в таблицы **calls, internet, messages, users** столбец месяц, и при помощи сводных таблиц получим количество минут, гигиабайт и смс для каждого пользователя в месяц. <br>\n",
    "Полученные сводные таблицы объединим в единый датасет - **data_df**, в который добавим данные о тарифе из датафрейма **tariffs**.<br>\n",
    "В таблице **data_df** проведем вычисления согласно тарифу и фактическому ежемесячному использованию минут, трафика и смс для каждого пользователя. Результатом вычислений должны стать столбцы:<br> \n",
    "- **calls_monthly_costs** - стоимость телефонных звонков сверх тарифа для каждого пользователя, \n",
    "- **sms_monthly_costs** - стоимость смс сверх тарифа для каждого пользователя, \n",
    "- **internet_monthly_costs** - стоимость трафика сверх тарифа для каждого пользователя,\n",
    "- **monthly_expences** - суммарные расходы каждого пользователя с учетом ежемесячной стоимости пакета и расходов сверх лимита."
   ]
  },
  {
   "cell_type": "markdown",
   "id": "c13c43c7",
   "metadata": {},
   "source": [
    "Таблицу **data_df** объединим с таблицей **users** в датафрейм **df** для дальнейшего статистического анализа. "
   ]
  },
  {
   "cell_type": "markdown",
   "id": "051edb1e",
   "metadata": {},
   "source": [
    "## 2.1. Округление значений столбца **duration** таблицы **CALLS**"
   ]
  },
  {
   "cell_type": "code",
   "execution_count": 39,
   "id": "0066bc63",
   "metadata": {},
   "outputs": [],
   "source": [
    "calls['duration'] = np.ceil(calls['duration'])"
   ]
  },
  {
   "cell_type": "code",
   "execution_count": 40,
   "id": "1ad8f6d4",
   "metadata": {},
   "outputs": [
    {
     "data": {
      "text/html": [
       "<div>\n",
       "<style scoped>\n",
       "    .dataframe tbody tr th:only-of-type {\n",
       "        vertical-align: middle;\n",
       "    }\n",
       "\n",
       "    .dataframe tbody tr th {\n",
       "        vertical-align: top;\n",
       "    }\n",
       "\n",
       "    .dataframe thead th {\n",
       "        text-align: right;\n",
       "    }\n",
       "</style>\n",
       "<table border=\"1\" class=\"dataframe\">\n",
       "  <thead>\n",
       "    <tr style=\"text-align: right;\">\n",
       "      <th></th>\n",
       "      <th>call_date</th>\n",
       "      <th>duration</th>\n",
       "      <th>user_id</th>\n",
       "    </tr>\n",
       "    <tr>\n",
       "      <th>id</th>\n",
       "      <th></th>\n",
       "      <th></th>\n",
       "      <th></th>\n",
       "    </tr>\n",
       "  </thead>\n",
       "  <tbody>\n",
       "    <tr>\n",
       "      <th>1000_0</th>\n",
       "      <td>2018-07-25</td>\n",
       "      <td>0.00</td>\n",
       "      <td>1000</td>\n",
       "    </tr>\n",
       "    <tr>\n",
       "      <th>1000_1</th>\n",
       "      <td>2018-08-17</td>\n",
       "      <td>0.00</td>\n",
       "      <td>1000</td>\n",
       "    </tr>\n",
       "    <tr>\n",
       "      <th>1000_2</th>\n",
       "      <td>2018-06-11</td>\n",
       "      <td>3.00</td>\n",
       "      <td>1000</td>\n",
       "    </tr>\n",
       "    <tr>\n",
       "      <th>1000_3</th>\n",
       "      <td>2018-09-21</td>\n",
       "      <td>14.00</td>\n",
       "      <td>1000</td>\n",
       "    </tr>\n",
       "    <tr>\n",
       "      <th>1000_4</th>\n",
       "      <td>2018-12-15</td>\n",
       "      <td>6.00</td>\n",
       "      <td>1000</td>\n",
       "    </tr>\n",
       "  </tbody>\n",
       "</table>\n",
       "</div>"
      ],
      "text/plain": [
       "        call_date  duration  user_id\n",
       "id                                  \n",
       "1000_0 2018-07-25      0.00     1000\n",
       "1000_1 2018-08-17      0.00     1000\n",
       "1000_2 2018-06-11      3.00     1000\n",
       "1000_3 2018-09-21     14.00     1000\n",
       "1000_4 2018-12-15      6.00     1000"
      ]
     },
     "execution_count": 40,
     "metadata": {},
     "output_type": "execute_result"
    }
   ],
   "source": [
    "# проверим полученный результат:\n",
    "calls.head(5)"
   ]
  },
  {
   "cell_type": "markdown",
   "id": "4d17a1e1",
   "metadata": {},
   "source": [
    "## 2.2. Поиск дубликатов"
   ]
  },
  {
   "cell_type": "markdown",
   "id": "24d04ab8",
   "metadata": {},
   "source": [
    "Исходя из специфики рассматриваемых датасетов рассмотрим наличие дубликатов в датафреймах **calls, internet, messages** и **users**."
   ]
  },
  {
   "cell_type": "code",
   "execution_count": 41,
   "id": "05e67d69",
   "metadata": {
    "scrolled": false
   },
   "outputs": [
    {
     "data": {
      "text/html": [
       "<div>\n",
       "<style scoped>\n",
       "    .dataframe tbody tr th:only-of-type {\n",
       "        vertical-align: middle;\n",
       "    }\n",
       "\n",
       "    .dataframe tbody tr th {\n",
       "        vertical-align: top;\n",
       "    }\n",
       "\n",
       "    .dataframe thead th {\n",
       "        text-align: right;\n",
       "    }\n",
       "</style>\n",
       "<table border=\"1\" class=\"dataframe\">\n",
       "  <thead>\n",
       "    <tr style=\"text-align: right;\">\n",
       "      <th></th>\n",
       "      <th>call_date</th>\n",
       "      <th>duration</th>\n",
       "      <th>user_id</th>\n",
       "    </tr>\n",
       "    <tr>\n",
       "      <th>id</th>\n",
       "      <th></th>\n",
       "      <th></th>\n",
       "      <th></th>\n",
       "    </tr>\n",
       "  </thead>\n",
       "  <tbody>\n",
       "    <tr>\n",
       "      <th>1000_72</th>\n",
       "      <td>2018-12-21</td>\n",
       "      <td>3.00</td>\n",
       "      <td>1000</td>\n",
       "    </tr>\n",
       "    <tr>\n",
       "      <th>1000_79</th>\n",
       "      <td>2018-06-17</td>\n",
       "      <td>0.00</td>\n",
       "      <td>1000</td>\n",
       "    </tr>\n",
       "    <tr>\n",
       "      <th>1000_184</th>\n",
       "      <td>2018-08-17</td>\n",
       "      <td>0.00</td>\n",
       "      <td>1000</td>\n",
       "    </tr>\n",
       "    <tr>\n",
       "      <th>1000_204</th>\n",
       "      <td>2018-09-25</td>\n",
       "      <td>13.00</td>\n",
       "      <td>1000</td>\n",
       "    </tr>\n",
       "    <tr>\n",
       "      <th>1000_205</th>\n",
       "      <td>2018-05-31</td>\n",
       "      <td>0.00</td>\n",
       "      <td>1000</td>\n",
       "    </tr>\n",
       "    <tr>\n",
       "      <th>...</th>\n",
       "      <td>...</td>\n",
       "      <td>...</td>\n",
       "      <td>...</td>\n",
       "    </tr>\n",
       "    <tr>\n",
       "      <th>1499_119</th>\n",
       "      <td>2018-10-21</td>\n",
       "      <td>0.00</td>\n",
       "      <td>1499</td>\n",
       "    </tr>\n",
       "    <tr>\n",
       "      <th>1499_146</th>\n",
       "      <td>2018-10-03</td>\n",
       "      <td>0.00</td>\n",
       "      <td>1499</td>\n",
       "    </tr>\n",
       "    <tr>\n",
       "      <th>1499_155</th>\n",
       "      <td>2018-10-16</td>\n",
       "      <td>0.00</td>\n",
       "      <td>1499</td>\n",
       "    </tr>\n",
       "    <tr>\n",
       "      <th>1499_195</th>\n",
       "      <td>2018-11-18</td>\n",
       "      <td>2.00</td>\n",
       "      <td>1499</td>\n",
       "    </tr>\n",
       "    <tr>\n",
       "      <th>1499_205</th>\n",
       "      <td>2018-10-13</td>\n",
       "      <td>0.00</td>\n",
       "      <td>1499</td>\n",
       "    </tr>\n",
       "  </tbody>\n",
       "</table>\n",
       "<p>18277 rows × 3 columns</p>\n",
       "</div>"
      ],
      "text/plain": [
       "          call_date  duration  user_id\n",
       "id                                    \n",
       "1000_72  2018-12-21      3.00     1000\n",
       "1000_79  2018-06-17      0.00     1000\n",
       "1000_184 2018-08-17      0.00     1000\n",
       "1000_204 2018-09-25     13.00     1000\n",
       "1000_205 2018-05-31      0.00     1000\n",
       "...             ...       ...      ...\n",
       "1499_119 2018-10-21      0.00     1499\n",
       "1499_146 2018-10-03      0.00     1499\n",
       "1499_155 2018-10-16      0.00     1499\n",
       "1499_195 2018-11-18      2.00     1499\n",
       "1499_205 2018-10-13      0.00     1499\n",
       "\n",
       "[18277 rows x 3 columns]"
      ]
     },
     "execution_count": 41,
     "metadata": {},
     "output_type": "execute_result"
    }
   ],
   "source": [
    "calls[calls.duplicated()]"
   ]
  },
  {
   "cell_type": "code",
   "execution_count": 42,
   "id": "f5b0563f",
   "metadata": {},
   "outputs": [
    {
     "data": {
      "text/html": [
       "<div>\n",
       "<style scoped>\n",
       "    .dataframe tbody tr th:only-of-type {\n",
       "        vertical-align: middle;\n",
       "    }\n",
       "\n",
       "    .dataframe tbody tr th {\n",
       "        vertical-align: top;\n",
       "    }\n",
       "\n",
       "    .dataframe thead th {\n",
       "        text-align: right;\n",
       "    }\n",
       "</style>\n",
       "<table border=\"1\" class=\"dataframe\">\n",
       "  <thead>\n",
       "    <tr style=\"text-align: right;\">\n",
       "      <th></th>\n",
       "      <th>session_id</th>\n",
       "      <th>mb_used</th>\n",
       "      <th>session_date</th>\n",
       "      <th>user_id</th>\n",
       "    </tr>\n",
       "  </thead>\n",
       "  <tbody>\n",
       "  </tbody>\n",
       "</table>\n",
       "</div>"
      ],
      "text/plain": [
       "Empty DataFrame\n",
       "Columns: [session_id, mb_used, session_date, user_id]\n",
       "Index: []"
      ]
     },
     "execution_count": 42,
     "metadata": {},
     "output_type": "execute_result"
    }
   ],
   "source": [
    "internet[internet.duplicated()]"
   ]
  },
  {
   "cell_type": "code",
   "execution_count": 43,
   "id": "80141fa9",
   "metadata": {},
   "outputs": [
    {
     "data": {
      "text/html": [
       "<div>\n",
       "<style scoped>\n",
       "    .dataframe tbody tr th:only-of-type {\n",
       "        vertical-align: middle;\n",
       "    }\n",
       "\n",
       "    .dataframe tbody tr th {\n",
       "        vertical-align: top;\n",
       "    }\n",
       "\n",
       "    .dataframe thead th {\n",
       "        text-align: right;\n",
       "    }\n",
       "</style>\n",
       "<table border=\"1\" class=\"dataframe\">\n",
       "  <thead>\n",
       "    <tr style=\"text-align: right;\">\n",
       "      <th></th>\n",
       "      <th>message_date</th>\n",
       "      <th>user_id</th>\n",
       "    </tr>\n",
       "    <tr>\n",
       "      <th>id</th>\n",
       "      <th></th>\n",
       "      <th></th>\n",
       "    </tr>\n",
       "  </thead>\n",
       "  <tbody>\n",
       "    <tr>\n",
       "      <th>1000_16</th>\n",
       "      <td>2018-06-25</td>\n",
       "      <td>1000</td>\n",
       "    </tr>\n",
       "    <tr>\n",
       "      <th>1000_26</th>\n",
       "      <td>2018-07-29</td>\n",
       "      <td>1000</td>\n",
       "    </tr>\n",
       "    <tr>\n",
       "      <th>1000_32</th>\n",
       "      <td>2018-07-07</td>\n",
       "      <td>1000</td>\n",
       "    </tr>\n",
       "    <tr>\n",
       "      <th>1000_36</th>\n",
       "      <td>2018-08-15</td>\n",
       "      <td>1000</td>\n",
       "    </tr>\n",
       "    <tr>\n",
       "      <th>1000_37</th>\n",
       "      <td>2018-12-07</td>\n",
       "      <td>1000</td>\n",
       "    </tr>\n",
       "    <tr>\n",
       "      <th>...</th>\n",
       "      <td>...</td>\n",
       "      <td>...</td>\n",
       "    </tr>\n",
       "    <tr>\n",
       "      <th>1499_179</th>\n",
       "      <td>2018-12-12</td>\n",
       "      <td>1499</td>\n",
       "    </tr>\n",
       "    <tr>\n",
       "      <th>1499_180</th>\n",
       "      <td>2018-09-28</td>\n",
       "      <td>1499</td>\n",
       "    </tr>\n",
       "    <tr>\n",
       "      <th>1499_181</th>\n",
       "      <td>2018-09-27</td>\n",
       "      <td>1499</td>\n",
       "    </tr>\n",
       "    <tr>\n",
       "      <th>1499_182</th>\n",
       "      <td>2018-11-15</td>\n",
       "      <td>1499</td>\n",
       "    </tr>\n",
       "    <tr>\n",
       "      <th>1499_183</th>\n",
       "      <td>2018-11-16</td>\n",
       "      <td>1499</td>\n",
       "    </tr>\n",
       "  </tbody>\n",
       "</table>\n",
       "<p>70379 rows × 2 columns</p>\n",
       "</div>"
      ],
      "text/plain": [
       "         message_date  user_id\n",
       "id                            \n",
       "1000_16    2018-06-25     1000\n",
       "1000_26    2018-07-29     1000\n",
       "1000_32    2018-07-07     1000\n",
       "1000_36    2018-08-15     1000\n",
       "1000_37    2018-12-07     1000\n",
       "...               ...      ...\n",
       "1499_179   2018-12-12     1499\n",
       "1499_180   2018-09-28     1499\n",
       "1499_181   2018-09-27     1499\n",
       "1499_182   2018-11-15     1499\n",
       "1499_183   2018-11-16     1499\n",
       "\n",
       "[70379 rows x 2 columns]"
      ]
     },
     "execution_count": 43,
     "metadata": {},
     "output_type": "execute_result"
    }
   ],
   "source": [
    "messages[messages.duplicated()]"
   ]
  },
  {
   "cell_type": "code",
   "execution_count": 44,
   "id": "7d1ca7f2",
   "metadata": {},
   "outputs": [
    {
     "data": {
      "text/html": [
       "<div>\n",
       "<style scoped>\n",
       "    .dataframe tbody tr th:only-of-type {\n",
       "        vertical-align: middle;\n",
       "    }\n",
       "\n",
       "    .dataframe tbody tr th {\n",
       "        vertical-align: top;\n",
       "    }\n",
       "\n",
       "    .dataframe thead th {\n",
       "        text-align: right;\n",
       "    }\n",
       "</style>\n",
       "<table border=\"1\" class=\"dataframe\">\n",
       "  <thead>\n",
       "    <tr style=\"text-align: right;\">\n",
       "      <th></th>\n",
       "      <th>age</th>\n",
       "      <th>churn_date</th>\n",
       "      <th>city</th>\n",
       "      <th>first_name</th>\n",
       "      <th>last_name</th>\n",
       "      <th>reg_date</th>\n",
       "      <th>tariff</th>\n",
       "    </tr>\n",
       "    <tr>\n",
       "      <th>user_id</th>\n",
       "      <th></th>\n",
       "      <th></th>\n",
       "      <th></th>\n",
       "      <th></th>\n",
       "      <th></th>\n",
       "      <th></th>\n",
       "      <th></th>\n",
       "    </tr>\n",
       "  </thead>\n",
       "  <tbody>\n",
       "  </tbody>\n",
       "</table>\n",
       "</div>"
      ],
      "text/plain": [
       "Empty DataFrame\n",
       "Columns: [age, churn_date, city, first_name, last_name, reg_date, tariff]\n",
       "Index: []"
      ]
     },
     "execution_count": 44,
     "metadata": {},
     "output_type": "execute_result"
    }
   ],
   "source": [
    "users[users.duplicated()]"
   ]
  },
  {
   "cell_type": "markdown",
   "id": "1f5933fd",
   "metadata": {},
   "source": [
    "#### _Промежуточные выводы_"
   ]
  },
  {
   "cell_type": "markdown",
   "id": "4bac361a",
   "metadata": {},
   "source": [
    "Все датафреймы свободны от дубликатов. "
   ]
  },
  {
   "cell_type": "markdown",
   "id": "5908d4b4",
   "metadata": {},
   "source": [
    "## 2.3. Добавление столбца месяц в датафреймы **CALLS, INTERNET, MESSAGES и USERS**"
   ]
  },
  {
   "cell_type": "code",
   "execution_count": 45,
   "id": "05de2564",
   "metadata": {},
   "outputs": [],
   "source": [
    "calls['month'] = calls['call_date'].dt.to_period('m')"
   ]
  },
  {
   "cell_type": "code",
   "execution_count": 46,
   "id": "4d6d2ce2",
   "metadata": {},
   "outputs": [
    {
     "data": {
      "text/html": [
       "<div>\n",
       "<style scoped>\n",
       "    .dataframe tbody tr th:only-of-type {\n",
       "        vertical-align: middle;\n",
       "    }\n",
       "\n",
       "    .dataframe tbody tr th {\n",
       "        vertical-align: top;\n",
       "    }\n",
       "\n",
       "    .dataframe thead th {\n",
       "        text-align: right;\n",
       "    }\n",
       "</style>\n",
       "<table border=\"1\" class=\"dataframe\">\n",
       "  <thead>\n",
       "    <tr style=\"text-align: right;\">\n",
       "      <th></th>\n",
       "      <th>call_date</th>\n",
       "      <th>duration</th>\n",
       "      <th>user_id</th>\n",
       "      <th>month</th>\n",
       "    </tr>\n",
       "    <tr>\n",
       "      <th>id</th>\n",
       "      <th></th>\n",
       "      <th></th>\n",
       "      <th></th>\n",
       "      <th></th>\n",
       "    </tr>\n",
       "  </thead>\n",
       "  <tbody>\n",
       "    <tr>\n",
       "      <th>1000_0</th>\n",
       "      <td>2018-07-25</td>\n",
       "      <td>0.00</td>\n",
       "      <td>1000</td>\n",
       "      <td>2018-07</td>\n",
       "    </tr>\n",
       "    <tr>\n",
       "      <th>1000_1</th>\n",
       "      <td>2018-08-17</td>\n",
       "      <td>0.00</td>\n",
       "      <td>1000</td>\n",
       "      <td>2018-08</td>\n",
       "    </tr>\n",
       "    <tr>\n",
       "      <th>1000_2</th>\n",
       "      <td>2018-06-11</td>\n",
       "      <td>3.00</td>\n",
       "      <td>1000</td>\n",
       "      <td>2018-06</td>\n",
       "    </tr>\n",
       "    <tr>\n",
       "      <th>1000_3</th>\n",
       "      <td>2018-09-21</td>\n",
       "      <td>14.00</td>\n",
       "      <td>1000</td>\n",
       "      <td>2018-09</td>\n",
       "    </tr>\n",
       "    <tr>\n",
       "      <th>1000_4</th>\n",
       "      <td>2018-12-15</td>\n",
       "      <td>6.00</td>\n",
       "      <td>1000</td>\n",
       "      <td>2018-12</td>\n",
       "    </tr>\n",
       "  </tbody>\n",
       "</table>\n",
       "</div>"
      ],
      "text/plain": [
       "        call_date  duration  user_id    month\n",
       "id                                           \n",
       "1000_0 2018-07-25      0.00     1000  2018-07\n",
       "1000_1 2018-08-17      0.00     1000  2018-08\n",
       "1000_2 2018-06-11      3.00     1000  2018-06\n",
       "1000_3 2018-09-21     14.00     1000  2018-09\n",
       "1000_4 2018-12-15      6.00     1000  2018-12"
      ]
     },
     "execution_count": 46,
     "metadata": {},
     "output_type": "execute_result"
    }
   ],
   "source": [
    "# проверим полученный результат:\n",
    "calls.head()"
   ]
  },
  {
   "cell_type": "code",
   "execution_count": 47,
   "id": "bc767f33",
   "metadata": {},
   "outputs": [],
   "source": [
    "internet['month'] = internet['session_date'].dt.to_period('m')"
   ]
  },
  {
   "cell_type": "code",
   "execution_count": 48,
   "id": "e97b26b9",
   "metadata": {},
   "outputs": [
    {
     "data": {
      "text/html": [
       "<div>\n",
       "<style scoped>\n",
       "    .dataframe tbody tr th:only-of-type {\n",
       "        vertical-align: middle;\n",
       "    }\n",
       "\n",
       "    .dataframe tbody tr th {\n",
       "        vertical-align: top;\n",
       "    }\n",
       "\n",
       "    .dataframe thead th {\n",
       "        text-align: right;\n",
       "    }\n",
       "</style>\n",
       "<table border=\"1\" class=\"dataframe\">\n",
       "  <thead>\n",
       "    <tr style=\"text-align: right;\">\n",
       "      <th></th>\n",
       "      <th>session_id</th>\n",
       "      <th>mb_used</th>\n",
       "      <th>session_date</th>\n",
       "      <th>user_id</th>\n",
       "      <th>month</th>\n",
       "    </tr>\n",
       "  </thead>\n",
       "  <tbody>\n",
       "    <tr>\n",
       "      <th>0</th>\n",
       "      <td>1000_0</td>\n",
       "      <td>112.95</td>\n",
       "      <td>2018-11-25</td>\n",
       "      <td>1000</td>\n",
       "      <td>2018-11</td>\n",
       "    </tr>\n",
       "    <tr>\n",
       "      <th>1</th>\n",
       "      <td>1000_1</td>\n",
       "      <td>1052.81</td>\n",
       "      <td>2018-09-07</td>\n",
       "      <td>1000</td>\n",
       "      <td>2018-09</td>\n",
       "    </tr>\n",
       "    <tr>\n",
       "      <th>2</th>\n",
       "      <td>1000_2</td>\n",
       "      <td>1197.26</td>\n",
       "      <td>2018-06-25</td>\n",
       "      <td>1000</td>\n",
       "      <td>2018-06</td>\n",
       "    </tr>\n",
       "    <tr>\n",
       "      <th>3</th>\n",
       "      <td>1000_3</td>\n",
       "      <td>550.27</td>\n",
       "      <td>2018-08-22</td>\n",
       "      <td>1000</td>\n",
       "      <td>2018-08</td>\n",
       "    </tr>\n",
       "    <tr>\n",
       "      <th>4</th>\n",
       "      <td>1000_4</td>\n",
       "      <td>302.56</td>\n",
       "      <td>2018-09-24</td>\n",
       "      <td>1000</td>\n",
       "      <td>2018-09</td>\n",
       "    </tr>\n",
       "  </tbody>\n",
       "</table>\n",
       "</div>"
      ],
      "text/plain": [
       "  session_id  mb_used session_date  user_id    month\n",
       "0     1000_0   112.95   2018-11-25     1000  2018-11\n",
       "1     1000_1  1052.81   2018-09-07     1000  2018-09\n",
       "2     1000_2  1197.26   2018-06-25     1000  2018-06\n",
       "3     1000_3   550.27   2018-08-22     1000  2018-08\n",
       "4     1000_4   302.56   2018-09-24     1000  2018-09"
      ]
     },
     "execution_count": 48,
     "metadata": {},
     "output_type": "execute_result"
    }
   ],
   "source": [
    "# проверим полученный результат:\n",
    "internet.head()"
   ]
  },
  {
   "cell_type": "code",
   "execution_count": 49,
   "id": "3fa63343",
   "metadata": {},
   "outputs": [],
   "source": [
    "messages['month'] = messages['message_date'].dt.to_period('m')"
   ]
  },
  {
   "cell_type": "code",
   "execution_count": 50,
   "id": "1dc5dba4",
   "metadata": {},
   "outputs": [
    {
     "data": {
      "text/html": [
       "<div>\n",
       "<style scoped>\n",
       "    .dataframe tbody tr th:only-of-type {\n",
       "        vertical-align: middle;\n",
       "    }\n",
       "\n",
       "    .dataframe tbody tr th {\n",
       "        vertical-align: top;\n",
       "    }\n",
       "\n",
       "    .dataframe thead th {\n",
       "        text-align: right;\n",
       "    }\n",
       "</style>\n",
       "<table border=\"1\" class=\"dataframe\">\n",
       "  <thead>\n",
       "    <tr style=\"text-align: right;\">\n",
       "      <th></th>\n",
       "      <th>message_date</th>\n",
       "      <th>user_id</th>\n",
       "      <th>month</th>\n",
       "    </tr>\n",
       "    <tr>\n",
       "      <th>id</th>\n",
       "      <th></th>\n",
       "      <th></th>\n",
       "      <th></th>\n",
       "    </tr>\n",
       "  </thead>\n",
       "  <tbody>\n",
       "    <tr>\n",
       "      <th>1000_0</th>\n",
       "      <td>2018-06-27</td>\n",
       "      <td>1000</td>\n",
       "      <td>2018-06</td>\n",
       "    </tr>\n",
       "    <tr>\n",
       "      <th>1000_1</th>\n",
       "      <td>2018-10-08</td>\n",
       "      <td>1000</td>\n",
       "      <td>2018-10</td>\n",
       "    </tr>\n",
       "    <tr>\n",
       "      <th>1000_2</th>\n",
       "      <td>2018-08-04</td>\n",
       "      <td>1000</td>\n",
       "      <td>2018-08</td>\n",
       "    </tr>\n",
       "    <tr>\n",
       "      <th>1000_3</th>\n",
       "      <td>2018-06-16</td>\n",
       "      <td>1000</td>\n",
       "      <td>2018-06</td>\n",
       "    </tr>\n",
       "    <tr>\n",
       "      <th>1000_4</th>\n",
       "      <td>2018-12-05</td>\n",
       "      <td>1000</td>\n",
       "      <td>2018-12</td>\n",
       "    </tr>\n",
       "  </tbody>\n",
       "</table>\n",
       "</div>"
      ],
      "text/plain": [
       "       message_date  user_id    month\n",
       "id                                   \n",
       "1000_0   2018-06-27     1000  2018-06\n",
       "1000_1   2018-10-08     1000  2018-10\n",
       "1000_2   2018-08-04     1000  2018-08\n",
       "1000_3   2018-06-16     1000  2018-06\n",
       "1000_4   2018-12-05     1000  2018-12"
      ]
     },
     "execution_count": 50,
     "metadata": {},
     "output_type": "execute_result"
    }
   ],
   "source": [
    "# проверим полученный результат:\n",
    "messages.head()"
   ]
  },
  {
   "cell_type": "code",
   "execution_count": 51,
   "id": "3b482608",
   "metadata": {},
   "outputs": [],
   "source": [
    "users['reg_month'] = users['reg_date'].dt.to_period('m')"
   ]
  },
  {
   "cell_type": "code",
   "execution_count": 52,
   "id": "16c07032",
   "metadata": {},
   "outputs": [],
   "source": [
    "users['churn_month'] = users['churn_date'].dt.to_period('m')"
   ]
  },
  {
   "cell_type": "code",
   "execution_count": 53,
   "id": "7bd5efc0",
   "metadata": {},
   "outputs": [
    {
     "data": {
      "text/html": [
       "<div>\n",
       "<style scoped>\n",
       "    .dataframe tbody tr th:only-of-type {\n",
       "        vertical-align: middle;\n",
       "    }\n",
       "\n",
       "    .dataframe tbody tr th {\n",
       "        vertical-align: top;\n",
       "    }\n",
       "\n",
       "    .dataframe thead th {\n",
       "        text-align: right;\n",
       "    }\n",
       "</style>\n",
       "<table border=\"1\" class=\"dataframe\">\n",
       "  <thead>\n",
       "    <tr style=\"text-align: right;\">\n",
       "      <th></th>\n",
       "      <th>age</th>\n",
       "      <th>churn_date</th>\n",
       "      <th>city</th>\n",
       "      <th>first_name</th>\n",
       "      <th>last_name</th>\n",
       "      <th>reg_date</th>\n",
       "      <th>tariff</th>\n",
       "      <th>reg_month</th>\n",
       "      <th>churn_month</th>\n",
       "    </tr>\n",
       "    <tr>\n",
       "      <th>user_id</th>\n",
       "      <th></th>\n",
       "      <th></th>\n",
       "      <th></th>\n",
       "      <th></th>\n",
       "      <th></th>\n",
       "      <th></th>\n",
       "      <th></th>\n",
       "      <th></th>\n",
       "      <th></th>\n",
       "    </tr>\n",
       "  </thead>\n",
       "  <tbody>\n",
       "    <tr>\n",
       "      <th>1000</th>\n",
       "      <td>52</td>\n",
       "      <td>NaT</td>\n",
       "      <td>Краснодар</td>\n",
       "      <td>Рафаил</td>\n",
       "      <td>Верещагин</td>\n",
       "      <td>2018-05-25</td>\n",
       "      <td>ultra</td>\n",
       "      <td>2018-05</td>\n",
       "      <td>NaT</td>\n",
       "    </tr>\n",
       "    <tr>\n",
       "      <th>1001</th>\n",
       "      <td>41</td>\n",
       "      <td>NaT</td>\n",
       "      <td>Москва</td>\n",
       "      <td>Иван</td>\n",
       "      <td>Ежов</td>\n",
       "      <td>2018-11-01</td>\n",
       "      <td>smart</td>\n",
       "      <td>2018-11</td>\n",
       "      <td>NaT</td>\n",
       "    </tr>\n",
       "    <tr>\n",
       "      <th>1002</th>\n",
       "      <td>59</td>\n",
       "      <td>NaT</td>\n",
       "      <td>Стерлитамак</td>\n",
       "      <td>Евгений</td>\n",
       "      <td>Абрамович</td>\n",
       "      <td>2018-06-17</td>\n",
       "      <td>smart</td>\n",
       "      <td>2018-06</td>\n",
       "      <td>NaT</td>\n",
       "    </tr>\n",
       "    <tr>\n",
       "      <th>1003</th>\n",
       "      <td>23</td>\n",
       "      <td>NaT</td>\n",
       "      <td>Москва</td>\n",
       "      <td>Белла</td>\n",
       "      <td>Белякова</td>\n",
       "      <td>2018-08-17</td>\n",
       "      <td>ultra</td>\n",
       "      <td>2018-08</td>\n",
       "      <td>NaT</td>\n",
       "    </tr>\n",
       "    <tr>\n",
       "      <th>1004</th>\n",
       "      <td>68</td>\n",
       "      <td>NaT</td>\n",
       "      <td>Новокузнецк</td>\n",
       "      <td>Татьяна</td>\n",
       "      <td>Авдеенко</td>\n",
       "      <td>2018-05-14</td>\n",
       "      <td>ultra</td>\n",
       "      <td>2018-05</td>\n",
       "      <td>NaT</td>\n",
       "    </tr>\n",
       "  </tbody>\n",
       "</table>\n",
       "</div>"
      ],
      "text/plain": [
       "         age churn_date         city first_name  last_name   reg_date tariff  \\\n",
       "user_id                                                                        \n",
       "1000      52        NaT    Краснодар     Рафаил  Верещагин 2018-05-25  ultra   \n",
       "1001      41        NaT       Москва       Иван       Ежов 2018-11-01  smart   \n",
       "1002      59        NaT  Стерлитамак    Евгений  Абрамович 2018-06-17  smart   \n",
       "1003      23        NaT       Москва      Белла   Белякова 2018-08-17  ultra   \n",
       "1004      68        NaT  Новокузнецк    Татьяна   Авдеенко 2018-05-14  ultra   \n",
       "\n",
       "        reg_month churn_month  \n",
       "user_id                        \n",
       "1000      2018-05         NaT  \n",
       "1001      2018-11         NaT  \n",
       "1002      2018-06         NaT  \n",
       "1003      2018-08         NaT  \n",
       "1004      2018-05         NaT  "
      ]
     },
     "execution_count": 53,
     "metadata": {},
     "output_type": "execute_result"
    }
   ],
   "source": [
    "# проверим полученный результат:\n",
    "users.head()"
   ]
  },
  {
   "cell_type": "markdown",
   "id": "3ec386f8",
   "metadata": {},
   "source": [
    "## 2.4. Получение сводных таблиц с данными по каждому пользователю в месяц"
   ]
  },
  {
   "cell_type": "code",
   "execution_count": 54,
   "id": "f5a96ae5",
   "metadata": {},
   "outputs": [],
   "source": [
    "calls_pivot = calls.pivot_table(index=['user_id','month'], values='duration', aggfunc='sum')"
   ]
  },
  {
   "cell_type": "code",
   "execution_count": 55,
   "id": "102c5e73",
   "metadata": {},
   "outputs": [],
   "source": [
    "calls_pivot = calls_pivot.rename(\n",
    "    columns={\n",
    "        'duration': 'minutes_used',\n",
    "    })"
   ]
  },
  {
   "cell_type": "code",
   "execution_count": 56,
   "id": "892f9c8b",
   "metadata": {},
   "outputs": [
    {
     "data": {
      "text/html": [
       "<div>\n",
       "<style scoped>\n",
       "    .dataframe tbody tr th:only-of-type {\n",
       "        vertical-align: middle;\n",
       "    }\n",
       "\n",
       "    .dataframe tbody tr th {\n",
       "        vertical-align: top;\n",
       "    }\n",
       "\n",
       "    .dataframe thead th {\n",
       "        text-align: right;\n",
       "    }\n",
       "</style>\n",
       "<table border=\"1\" class=\"dataframe\">\n",
       "  <thead>\n",
       "    <tr style=\"text-align: right;\">\n",
       "      <th></th>\n",
       "      <th></th>\n",
       "      <th>minutes_used</th>\n",
       "    </tr>\n",
       "    <tr>\n",
       "      <th>user_id</th>\n",
       "      <th>month</th>\n",
       "      <th></th>\n",
       "    </tr>\n",
       "  </thead>\n",
       "  <tbody>\n",
       "    <tr>\n",
       "      <th rowspan=\"8\" valign=\"top\">1000</th>\n",
       "      <th>2018-05</th>\n",
       "      <td>159.00</td>\n",
       "    </tr>\n",
       "    <tr>\n",
       "      <th>2018-06</th>\n",
       "      <td>172.00</td>\n",
       "    </tr>\n",
       "    <tr>\n",
       "      <th>2018-07</th>\n",
       "      <td>340.00</td>\n",
       "    </tr>\n",
       "    <tr>\n",
       "      <th>2018-08</th>\n",
       "      <td>408.00</td>\n",
       "    </tr>\n",
       "    <tr>\n",
       "      <th>2018-09</th>\n",
       "      <td>466.00</td>\n",
       "    </tr>\n",
       "    <tr>\n",
       "      <th>2018-10</th>\n",
       "      <td>350.00</td>\n",
       "    </tr>\n",
       "    <tr>\n",
       "      <th>2018-11</th>\n",
       "      <td>338.00</td>\n",
       "    </tr>\n",
       "    <tr>\n",
       "      <th>2018-12</th>\n",
       "      <td>333.00</td>\n",
       "    </tr>\n",
       "    <tr>\n",
       "      <th rowspan=\"2\" valign=\"top\">1001</th>\n",
       "      <th>2018-11</th>\n",
       "      <td>430.00</td>\n",
       "    </tr>\n",
       "    <tr>\n",
       "      <th>2018-12</th>\n",
       "      <td>414.00</td>\n",
       "    </tr>\n",
       "    <tr>\n",
       "      <th rowspan=\"2\" valign=\"top\">1002</th>\n",
       "      <th>2018-06</th>\n",
       "      <td>117.00</td>\n",
       "    </tr>\n",
       "    <tr>\n",
       "      <th>2018-07</th>\n",
       "      <td>214.00</td>\n",
       "    </tr>\n",
       "  </tbody>\n",
       "</table>\n",
       "</div>"
      ],
      "text/plain": [
       "                 minutes_used\n",
       "user_id month                \n",
       "1000    2018-05        159.00\n",
       "        2018-06        172.00\n",
       "        2018-07        340.00\n",
       "        2018-08        408.00\n",
       "        2018-09        466.00\n",
       "        2018-10        350.00\n",
       "        2018-11        338.00\n",
       "        2018-12        333.00\n",
       "1001    2018-11        430.00\n",
       "        2018-12        414.00\n",
       "1002    2018-06        117.00\n",
       "        2018-07        214.00"
      ]
     },
     "execution_count": 56,
     "metadata": {},
     "output_type": "execute_result"
    }
   ],
   "source": [
    "# проверим полученный результат:\n",
    "calls_pivot.head(12)"
   ]
  },
  {
   "cell_type": "code",
   "execution_count": 57,
   "id": "4470c230",
   "metadata": {},
   "outputs": [
    {
     "data": {
      "text/plain": [
       "count   3174.00\n",
       "mean     456.93\n",
       "std      238.03\n",
       "min        0.00\n",
       "25%      290.00\n",
       "50%      447.00\n",
       "75%      592.00\n",
       "max     1673.00\n",
       "Name: minutes_used, dtype: float64"
      ]
     },
     "execution_count": 57,
     "metadata": {},
     "output_type": "execute_result"
    }
   ],
   "source": [
    "calls_pivot.minutes_used.describe()"
   ]
  },
  {
   "cell_type": "code",
   "execution_count": 58,
   "id": "70644dcb",
   "metadata": {},
   "outputs": [],
   "source": [
    "internet_pivot = internet.pivot_table(index=['user_id', 'month'],\n",
    "                                      values='mb_used',\n",
    "                                      aggfunc='sum')"
   ]
  },
  {
   "cell_type": "code",
   "execution_count": 59,
   "id": "1566f5b6",
   "metadata": {},
   "outputs": [],
   "source": [
    "# переведем трафик в гигабайты и округлим данные до единицы вверх, заменим тип данных на цельночисленный:\n",
    "internet_pivot['gb_used'] = np.ceil(internet_pivot.mb_used / 1024).astype(int)"
   ]
  },
  {
   "cell_type": "code",
   "execution_count": 60,
   "id": "22275da4",
   "metadata": {},
   "outputs": [
    {
     "data": {
      "text/html": [
       "<div>\n",
       "<style scoped>\n",
       "    .dataframe tbody tr th:only-of-type {\n",
       "        vertical-align: middle;\n",
       "    }\n",
       "\n",
       "    .dataframe tbody tr th {\n",
       "        vertical-align: top;\n",
       "    }\n",
       "\n",
       "    .dataframe thead th {\n",
       "        text-align: right;\n",
       "    }\n",
       "</style>\n",
       "<table border=\"1\" class=\"dataframe\">\n",
       "  <thead>\n",
       "    <tr style=\"text-align: right;\">\n",
       "      <th></th>\n",
       "      <th></th>\n",
       "      <th>mb_used</th>\n",
       "      <th>gb_used</th>\n",
       "    </tr>\n",
       "    <tr>\n",
       "      <th>user_id</th>\n",
       "      <th>month</th>\n",
       "      <th></th>\n",
       "      <th></th>\n",
       "    </tr>\n",
       "  </thead>\n",
       "  <tbody>\n",
       "    <tr>\n",
       "      <th rowspan=\"8\" valign=\"top\">1000</th>\n",
       "      <th>2018-05</th>\n",
       "      <td>2253.49</td>\n",
       "      <td>3</td>\n",
       "    </tr>\n",
       "    <tr>\n",
       "      <th>2018-06</th>\n",
       "      <td>23233.77</td>\n",
       "      <td>23</td>\n",
       "    </tr>\n",
       "    <tr>\n",
       "      <th>2018-07</th>\n",
       "      <td>14003.64</td>\n",
       "      <td>14</td>\n",
       "    </tr>\n",
       "    <tr>\n",
       "      <th>2018-08</th>\n",
       "      <td>14055.93</td>\n",
       "      <td>14</td>\n",
       "    </tr>\n",
       "    <tr>\n",
       "      <th>2018-09</th>\n",
       "      <td>14568.91</td>\n",
       "      <td>15</td>\n",
       "    </tr>\n",
       "    <tr>\n",
       "      <th>2018-10</th>\n",
       "      <td>14702.49</td>\n",
       "      <td>15</td>\n",
       "    </tr>\n",
       "    <tr>\n",
       "      <th>2018-11</th>\n",
       "      <td>14756.47</td>\n",
       "      <td>15</td>\n",
       "    </tr>\n",
       "    <tr>\n",
       "      <th>2018-12</th>\n",
       "      <td>9817.61</td>\n",
       "      <td>10</td>\n",
       "    </tr>\n",
       "    <tr>\n",
       "      <th rowspan=\"2\" valign=\"top\">1001</th>\n",
       "      <th>2018-11</th>\n",
       "      <td>18429.34</td>\n",
       "      <td>18</td>\n",
       "    </tr>\n",
       "    <tr>\n",
       "      <th>2018-12</th>\n",
       "      <td>14036.66</td>\n",
       "      <td>14</td>\n",
       "    </tr>\n",
       "    <tr>\n",
       "      <th rowspan=\"2\" valign=\"top\">1002</th>\n",
       "      <th>2018-06</th>\n",
       "      <td>10856.82</td>\n",
       "      <td>11</td>\n",
       "    </tr>\n",
       "    <tr>\n",
       "      <th>2018-07</th>\n",
       "      <td>17580.10</td>\n",
       "      <td>18</td>\n",
       "    </tr>\n",
       "  </tbody>\n",
       "</table>\n",
       "</div>"
      ],
      "text/plain": [
       "                 mb_used  gb_used\n",
       "user_id month                    \n",
       "1000    2018-05  2253.49        3\n",
       "        2018-06 23233.77       23\n",
       "        2018-07 14003.64       14\n",
       "        2018-08 14055.93       14\n",
       "        2018-09 14568.91       15\n",
       "        2018-10 14702.49       15\n",
       "        2018-11 14756.47       15\n",
       "        2018-12  9817.61       10\n",
       "1001    2018-11 18429.34       18\n",
       "        2018-12 14036.66       14\n",
       "1002    2018-06 10856.82       11\n",
       "        2018-07 17580.10       18"
      ]
     },
     "execution_count": 60,
     "metadata": {},
     "output_type": "execute_result"
    }
   ],
   "source": [
    "# проверим полученный результат:\n",
    "internet_pivot.head(12)"
   ]
  },
  {
   "cell_type": "code",
   "execution_count": 61,
   "id": "c2b0c148",
   "metadata": {},
   "outputs": [
    {
     "data": {
      "text/plain": [
       "count   3203.00\n",
       "mean      17.36\n",
       "std        7.34\n",
       "min        0.00\n",
       "25%       13.00\n",
       "50%       17.00\n",
       "75%       21.00\n",
       "max       49.00\n",
       "Name: gb_used, dtype: float64"
      ]
     },
     "execution_count": 61,
     "metadata": {},
     "output_type": "execute_result"
    }
   ],
   "source": [
    "internet_pivot.gb_used.describe()"
   ]
  },
  {
   "cell_type": "code",
   "execution_count": 62,
   "id": "0d7d2600",
   "metadata": {},
   "outputs": [],
   "source": [
    "messages_pivot = messages.reset_index().pivot_table(\n",
    "    index=['user_id', 'month'], \n",
    "    values='id', \n",
    "    aggfunc='count').astype(int)"
   ]
  },
  {
   "cell_type": "code",
   "execution_count": 63,
   "id": "fcafda0e",
   "metadata": {},
   "outputs": [],
   "source": [
    "messages_pivot = messages_pivot.rename(\n",
    "    columns={\n",
    "        'id': 'sms_used',\n",
    "    })"
   ]
  },
  {
   "cell_type": "code",
   "execution_count": 64,
   "id": "f745f642",
   "metadata": {},
   "outputs": [
    {
     "data": {
      "text/html": [
       "<div>\n",
       "<style scoped>\n",
       "    .dataframe tbody tr th:only-of-type {\n",
       "        vertical-align: middle;\n",
       "    }\n",
       "\n",
       "    .dataframe tbody tr th {\n",
       "        vertical-align: top;\n",
       "    }\n",
       "\n",
       "    .dataframe thead th {\n",
       "        text-align: right;\n",
       "    }\n",
       "</style>\n",
       "<table border=\"1\" class=\"dataframe\">\n",
       "  <thead>\n",
       "    <tr style=\"text-align: right;\">\n",
       "      <th></th>\n",
       "      <th></th>\n",
       "      <th>sms_used</th>\n",
       "    </tr>\n",
       "    <tr>\n",
       "      <th>user_id</th>\n",
       "      <th>month</th>\n",
       "      <th></th>\n",
       "    </tr>\n",
       "  </thead>\n",
       "  <tbody>\n",
       "    <tr>\n",
       "      <th rowspan=\"8\" valign=\"top\">1000</th>\n",
       "      <th>2018-05</th>\n",
       "      <td>22</td>\n",
       "    </tr>\n",
       "    <tr>\n",
       "      <th>2018-06</th>\n",
       "      <td>60</td>\n",
       "    </tr>\n",
       "    <tr>\n",
       "      <th>2018-07</th>\n",
       "      <td>75</td>\n",
       "    </tr>\n",
       "    <tr>\n",
       "      <th>2018-08</th>\n",
       "      <td>81</td>\n",
       "    </tr>\n",
       "    <tr>\n",
       "      <th>2018-09</th>\n",
       "      <td>57</td>\n",
       "    </tr>\n",
       "    <tr>\n",
       "      <th>2018-10</th>\n",
       "      <td>73</td>\n",
       "    </tr>\n",
       "    <tr>\n",
       "      <th>2018-11</th>\n",
       "      <td>58</td>\n",
       "    </tr>\n",
       "    <tr>\n",
       "      <th>2018-12</th>\n",
       "      <td>70</td>\n",
       "    </tr>\n",
       "    <tr>\n",
       "      <th rowspan=\"4\" valign=\"top\">1002</th>\n",
       "      <th>2018-06</th>\n",
       "      <td>4</td>\n",
       "    </tr>\n",
       "    <tr>\n",
       "      <th>2018-07</th>\n",
       "      <td>11</td>\n",
       "    </tr>\n",
       "    <tr>\n",
       "      <th>2018-08</th>\n",
       "      <td>13</td>\n",
       "    </tr>\n",
       "    <tr>\n",
       "      <th>2018-09</th>\n",
       "      <td>4</td>\n",
       "    </tr>\n",
       "  </tbody>\n",
       "</table>\n",
       "</div>"
      ],
      "text/plain": [
       "                 sms_used\n",
       "user_id month            \n",
       "1000    2018-05        22\n",
       "        2018-06        60\n",
       "        2018-07        75\n",
       "        2018-08        81\n",
       "        2018-09        57\n",
       "        2018-10        73\n",
       "        2018-11        58\n",
       "        2018-12        70\n",
       "1002    2018-06         4\n",
       "        2018-07        11\n",
       "        2018-08        13\n",
       "        2018-09         4"
      ]
     },
     "execution_count": 64,
     "metadata": {},
     "output_type": "execute_result"
    }
   ],
   "source": [
    "# проверим полученный результат:\n",
    "messages_pivot.head(12)"
   ]
  },
  {
   "cell_type": "code",
   "execution_count": 65,
   "id": "74d66a13",
   "metadata": {},
   "outputs": [
    {
     "data": {
      "text/plain": [
       "count   2717.00\n",
       "mean      45.28\n",
       "std       35.05\n",
       "min        1.00\n",
       "25%       19.00\n",
       "50%       38.00\n",
       "75%       63.00\n",
       "max      224.00\n",
       "Name: sms_used, dtype: float64"
      ]
     },
     "execution_count": 65,
     "metadata": {},
     "output_type": "execute_result"
    }
   ],
   "source": [
    "messages_pivot.sms_used.describe()"
   ]
  },
  {
   "cell_type": "markdown",
   "id": "b3e36637",
   "metadata": {},
   "source": [
    "Рассмотрим размер полученных сводных таблиц. "
   ]
  },
  {
   "cell_type": "code",
   "execution_count": 66,
   "id": "bfb6d72a",
   "metadata": {},
   "outputs": [
    {
     "data": {
      "text/plain": [
       "(3174, 1)"
      ]
     },
     "execution_count": 66,
     "metadata": {},
     "output_type": "execute_result"
    }
   ],
   "source": [
    "calls_pivot.shape"
   ]
  },
  {
   "cell_type": "code",
   "execution_count": 67,
   "id": "f29ce015",
   "metadata": {},
   "outputs": [
    {
     "data": {
      "text/plain": [
       "(3203, 2)"
      ]
     },
     "execution_count": 67,
     "metadata": {},
     "output_type": "execute_result"
    }
   ],
   "source": [
    "internet_pivot.shape"
   ]
  },
  {
   "cell_type": "code",
   "execution_count": 68,
   "id": "7486bcdd",
   "metadata": {},
   "outputs": [
    {
     "data": {
      "text/plain": [
       "(2717, 1)"
      ]
     },
     "execution_count": 68,
     "metadata": {},
     "output_type": "execute_result"
    }
   ],
   "source": [
    "messages_pivot.shape"
   ]
  },
  {
   "cell_type": "markdown",
   "id": "001bc89d",
   "metadata": {},
   "source": [
    "## 2.5. Объединение сводных таблиц в **DATA_DF**"
   ]
  },
  {
   "cell_type": "code",
   "execution_count": 69,
   "id": "2cbe80c4",
   "metadata": {},
   "outputs": [],
   "source": [
    "data_df = calls_pivot.merge(\n",
    "    right=internet_pivot, \n",
    "    how='outer', \n",
    "    left_index=True, \n",
    "    right_on=['user_id', 'month']\n",
    ")"
   ]
  },
  {
   "cell_type": "code",
   "execution_count": 70,
   "id": "db8a589b",
   "metadata": {},
   "outputs": [],
   "source": [
    "data_df = data_df.merge(right=messages_pivot, \n",
    "                        how='outer',\n",
    "                        left_index=True, \n",
    "                        right_on=['user_id', 'month']\n",
    "                       )"
   ]
  },
  {
   "cell_type": "code",
   "execution_count": 71,
   "id": "f26bd7b5",
   "metadata": {},
   "outputs": [
    {
     "data": {
      "text/html": [
       "<div>\n",
       "<style scoped>\n",
       "    .dataframe tbody tr th:only-of-type {\n",
       "        vertical-align: middle;\n",
       "    }\n",
       "\n",
       "    .dataframe tbody tr th {\n",
       "        vertical-align: top;\n",
       "    }\n",
       "\n",
       "    .dataframe thead th {\n",
       "        text-align: right;\n",
       "    }\n",
       "</style>\n",
       "<table border=\"1\" class=\"dataframe\">\n",
       "  <thead>\n",
       "    <tr style=\"text-align: right;\">\n",
       "      <th></th>\n",
       "      <th></th>\n",
       "      <th>minutes_used</th>\n",
       "      <th>mb_used</th>\n",
       "      <th>gb_used</th>\n",
       "      <th>sms_used</th>\n",
       "    </tr>\n",
       "    <tr>\n",
       "      <th>user_id</th>\n",
       "      <th>month</th>\n",
       "      <th></th>\n",
       "      <th></th>\n",
       "      <th></th>\n",
       "      <th></th>\n",
       "    </tr>\n",
       "  </thead>\n",
       "  <tbody>\n",
       "    <tr>\n",
       "      <th rowspan=\"8\" valign=\"top\">1000</th>\n",
       "      <th>2018-05</th>\n",
       "      <td>159.00</td>\n",
       "      <td>2253.49</td>\n",
       "      <td>3.00</td>\n",
       "      <td>22.00</td>\n",
       "    </tr>\n",
       "    <tr>\n",
       "      <th>2018-06</th>\n",
       "      <td>172.00</td>\n",
       "      <td>23233.77</td>\n",
       "      <td>23.00</td>\n",
       "      <td>60.00</td>\n",
       "    </tr>\n",
       "    <tr>\n",
       "      <th>2018-07</th>\n",
       "      <td>340.00</td>\n",
       "      <td>14003.64</td>\n",
       "      <td>14.00</td>\n",
       "      <td>75.00</td>\n",
       "    </tr>\n",
       "    <tr>\n",
       "      <th>2018-08</th>\n",
       "      <td>408.00</td>\n",
       "      <td>14055.93</td>\n",
       "      <td>14.00</td>\n",
       "      <td>81.00</td>\n",
       "    </tr>\n",
       "    <tr>\n",
       "      <th>2018-09</th>\n",
       "      <td>466.00</td>\n",
       "      <td>14568.91</td>\n",
       "      <td>15.00</td>\n",
       "      <td>57.00</td>\n",
       "    </tr>\n",
       "    <tr>\n",
       "      <th>2018-10</th>\n",
       "      <td>350.00</td>\n",
       "      <td>14702.49</td>\n",
       "      <td>15.00</td>\n",
       "      <td>73.00</td>\n",
       "    </tr>\n",
       "    <tr>\n",
       "      <th>2018-11</th>\n",
       "      <td>338.00</td>\n",
       "      <td>14756.47</td>\n",
       "      <td>15.00</td>\n",
       "      <td>58.00</td>\n",
       "    </tr>\n",
       "    <tr>\n",
       "      <th>2018-12</th>\n",
       "      <td>333.00</td>\n",
       "      <td>9817.61</td>\n",
       "      <td>10.00</td>\n",
       "      <td>70.00</td>\n",
       "    </tr>\n",
       "    <tr>\n",
       "      <th rowspan=\"2\" valign=\"top\">1001</th>\n",
       "      <th>2018-11</th>\n",
       "      <td>430.00</td>\n",
       "      <td>18429.34</td>\n",
       "      <td>18.00</td>\n",
       "      <td>NaN</td>\n",
       "    </tr>\n",
       "    <tr>\n",
       "      <th>2018-12</th>\n",
       "      <td>414.00</td>\n",
       "      <td>14036.66</td>\n",
       "      <td>14.00</td>\n",
       "      <td>NaN</td>\n",
       "    </tr>\n",
       "    <tr>\n",
       "      <th rowspan=\"2\" valign=\"top\">1002</th>\n",
       "      <th>2018-06</th>\n",
       "      <td>117.00</td>\n",
       "      <td>10856.82</td>\n",
       "      <td>11.00</td>\n",
       "      <td>4.00</td>\n",
       "    </tr>\n",
       "    <tr>\n",
       "      <th>2018-07</th>\n",
       "      <td>214.00</td>\n",
       "      <td>17580.10</td>\n",
       "      <td>18.00</td>\n",
       "      <td>11.00</td>\n",
       "    </tr>\n",
       "  </tbody>\n",
       "</table>\n",
       "</div>"
      ],
      "text/plain": [
       "                 minutes_used  mb_used  gb_used  sms_used\n",
       "user_id month                                            \n",
       "1000    2018-05        159.00  2253.49     3.00     22.00\n",
       "        2018-06        172.00 23233.77    23.00     60.00\n",
       "        2018-07        340.00 14003.64    14.00     75.00\n",
       "        2018-08        408.00 14055.93    14.00     81.00\n",
       "        2018-09        466.00 14568.91    15.00     57.00\n",
       "        2018-10        350.00 14702.49    15.00     73.00\n",
       "        2018-11        338.00 14756.47    15.00     58.00\n",
       "        2018-12        333.00  9817.61    10.00     70.00\n",
       "1001    2018-11        430.00 18429.34    18.00       NaN\n",
       "        2018-12        414.00 14036.66    14.00       NaN\n",
       "1002    2018-06        117.00 10856.82    11.00      4.00\n",
       "        2018-07        214.00 17580.10    18.00     11.00"
      ]
     },
     "execution_count": 71,
     "metadata": {},
     "output_type": "execute_result"
    }
   ],
   "source": [
    "# проверим полученный результат:\n",
    "data_df.head(12)"
   ]
  },
  {
   "cell_type": "code",
   "execution_count": 72,
   "id": "acbd544e",
   "metadata": {},
   "outputs": [
    {
     "data": {
      "text/plain": [
       "(3214, 4)"
      ]
     },
     "execution_count": 72,
     "metadata": {},
     "output_type": "execute_result"
    }
   ],
   "source": [
    "# проверим размер полученного объединенного датафрейма:\n",
    "data_df.shape"
   ]
  },
  {
   "cell_type": "markdown",
   "id": "fa1f59d9",
   "metadata": {},
   "source": [
    "Так как часть пользователей могла не отправлять смс или не пользоваться интернетом/звонками в какие-то периоды, то предположу наличие пропусков в объединенной таблице. Если таковые имеются, заменяем на 0. "
   ]
  },
  {
   "cell_type": "code",
   "execution_count": 73,
   "id": "7417efd3",
   "metadata": {},
   "outputs": [
    {
     "data": {
      "text/plain": [
       "minutes_used     40\n",
       "mb_used          11\n",
       "gb_used          11\n",
       "sms_used        497\n",
       "dtype: int64"
      ]
     },
     "execution_count": 73,
     "metadata": {},
     "output_type": "execute_result"
    }
   ],
   "source": [
    "data_df.isnull().sum()"
   ]
  },
  {
   "cell_type": "code",
   "execution_count": 74,
   "id": "6d688311",
   "metadata": {},
   "outputs": [],
   "source": [
    "data_df.fillna(0, inplace=True)"
   ]
  },
  {
   "cell_type": "code",
   "execution_count": 75,
   "id": "b895dd6a",
   "metadata": {},
   "outputs": [
    {
     "data": {
      "text/plain": [
       "minutes_used    0\n",
       "mb_used         0\n",
       "gb_used         0\n",
       "sms_used        0\n",
       "dtype: int64"
      ]
     },
     "execution_count": 75,
     "metadata": {},
     "output_type": "execute_result"
    }
   ],
   "source": [
    "# проверим полученный результат: \n",
    "data_df.isnull().sum()"
   ]
  },
  {
   "cell_type": "code",
   "execution_count": 76,
   "id": "a7bf9e39",
   "metadata": {},
   "outputs": [],
   "source": [
    "# вернем тип данных столбцов к цельночисленному: \n",
    "data_df = data_df[['minutes_used', 'gb_used', 'sms_used']].astype(int)"
   ]
  },
  {
   "cell_type": "code",
   "execution_count": 77,
   "id": "0c17248d",
   "metadata": {},
   "outputs": [],
   "source": [
    "# сбросим индекс: \n",
    "data_df.reset_index(inplace=True)"
   ]
  },
  {
   "cell_type": "code",
   "execution_count": 78,
   "id": "22d9d415",
   "metadata": {
    "scrolled": false
   },
   "outputs": [
    {
     "data": {
      "text/html": [
       "<div>\n",
       "<style scoped>\n",
       "    .dataframe tbody tr th:only-of-type {\n",
       "        vertical-align: middle;\n",
       "    }\n",
       "\n",
       "    .dataframe tbody tr th {\n",
       "        vertical-align: top;\n",
       "    }\n",
       "\n",
       "    .dataframe thead th {\n",
       "        text-align: right;\n",
       "    }\n",
       "</style>\n",
       "<table border=\"1\" class=\"dataframe\">\n",
       "  <thead>\n",
       "    <tr style=\"text-align: right;\">\n",
       "      <th></th>\n",
       "      <th>user_id</th>\n",
       "      <th>month</th>\n",
       "      <th>minutes_used</th>\n",
       "      <th>gb_used</th>\n",
       "      <th>sms_used</th>\n",
       "    </tr>\n",
       "  </thead>\n",
       "  <tbody>\n",
       "    <tr>\n",
       "      <th>0</th>\n",
       "      <td>1000</td>\n",
       "      <td>2018-05</td>\n",
       "      <td>159</td>\n",
       "      <td>3</td>\n",
       "      <td>22</td>\n",
       "    </tr>\n",
       "    <tr>\n",
       "      <th>1</th>\n",
       "      <td>1000</td>\n",
       "      <td>2018-06</td>\n",
       "      <td>172</td>\n",
       "      <td>23</td>\n",
       "      <td>60</td>\n",
       "    </tr>\n",
       "    <tr>\n",
       "      <th>2</th>\n",
       "      <td>1000</td>\n",
       "      <td>2018-07</td>\n",
       "      <td>340</td>\n",
       "      <td>14</td>\n",
       "      <td>75</td>\n",
       "    </tr>\n",
       "    <tr>\n",
       "      <th>3</th>\n",
       "      <td>1000</td>\n",
       "      <td>2018-08</td>\n",
       "      <td>408</td>\n",
       "      <td>14</td>\n",
       "      <td>81</td>\n",
       "    </tr>\n",
       "    <tr>\n",
       "      <th>4</th>\n",
       "      <td>1000</td>\n",
       "      <td>2018-09</td>\n",
       "      <td>466</td>\n",
       "      <td>15</td>\n",
       "      <td>57</td>\n",
       "    </tr>\n",
       "  </tbody>\n",
       "</table>\n",
       "</div>"
      ],
      "text/plain": [
       "   user_id    month  minutes_used  gb_used  sms_used\n",
       "0     1000  2018-05           159        3        22\n",
       "1     1000  2018-06           172       23        60\n",
       "2     1000  2018-07           340       14        75\n",
       "3     1000  2018-08           408       14        81\n",
       "4     1000  2018-09           466       15        57"
      ]
     },
     "execution_count": 78,
     "metadata": {},
     "output_type": "execute_result"
    }
   ],
   "source": [
    "# проверим полученный результат: \n",
    "data_df.head(5)"
   ]
  },
  {
   "cell_type": "code",
   "execution_count": 79,
   "id": "21673dde",
   "metadata": {},
   "outputs": [
    {
     "data": {
      "text/plain": [
       "True"
      ]
     },
     "execution_count": 79,
     "metadata": {},
     "output_type": "execute_result"
    }
   ],
   "source": [
    "data_df.query('minutes_used > 0').shape[0] == calls_pivot.query('minutes_used > 0').shape[0]"
   ]
  },
  {
   "cell_type": "code",
   "execution_count": 80,
   "id": "0df712ed",
   "metadata": {},
   "outputs": [
    {
     "data": {
      "text/plain": [
       "True"
      ]
     },
     "execution_count": 80,
     "metadata": {},
     "output_type": "execute_result"
    }
   ],
   "source": [
    "data_df.query('gb_used > 0').shape[0] == internet_pivot.query('gb_used > 0').shape[0]"
   ]
  },
  {
   "cell_type": "code",
   "execution_count": 81,
   "id": "bc0fb15d",
   "metadata": {},
   "outputs": [
    {
     "data": {
      "text/plain": [
       "True"
      ]
     },
     "execution_count": 81,
     "metadata": {},
     "output_type": "execute_result"
    }
   ],
   "source": [
    "data_df.query('sms_used > 0').shape[0] == messages_pivot.query('sms_used > 0').shape[0]"
   ]
  },
  {
   "cell_type": "markdown",
   "id": "b607b60a",
   "metadata": {},
   "source": [
    "## 2.6. Объединение таблиц **DATA_DF** и **USERS**"
   ]
  },
  {
   "cell_type": "code",
   "execution_count": 82,
   "id": "c9656bd3",
   "metadata": {},
   "outputs": [],
   "source": [
    "df = data_df.merge(right=users, how='inner', left_on=['user_id'], right_on=['user_id'])"
   ]
  },
  {
   "cell_type": "code",
   "execution_count": 83,
   "id": "cf7a9133",
   "metadata": {},
   "outputs": [
    {
     "data": {
      "text/html": [
       "<div>\n",
       "<style scoped>\n",
       "    .dataframe tbody tr th:only-of-type {\n",
       "        vertical-align: middle;\n",
       "    }\n",
       "\n",
       "    .dataframe tbody tr th {\n",
       "        vertical-align: top;\n",
       "    }\n",
       "\n",
       "    .dataframe thead th {\n",
       "        text-align: right;\n",
       "    }\n",
       "</style>\n",
       "<table border=\"1\" class=\"dataframe\">\n",
       "  <thead>\n",
       "    <tr style=\"text-align: right;\">\n",
       "      <th></th>\n",
       "      <th>user_id</th>\n",
       "      <th>month</th>\n",
       "      <th>minutes_used</th>\n",
       "      <th>gb_used</th>\n",
       "      <th>sms_used</th>\n",
       "      <th>age</th>\n",
       "      <th>churn_date</th>\n",
       "      <th>city</th>\n",
       "      <th>first_name</th>\n",
       "      <th>last_name</th>\n",
       "      <th>reg_date</th>\n",
       "      <th>tariff</th>\n",
       "      <th>reg_month</th>\n",
       "      <th>churn_month</th>\n",
       "    </tr>\n",
       "  </thead>\n",
       "  <tbody>\n",
       "    <tr>\n",
       "      <th>0</th>\n",
       "      <td>1000</td>\n",
       "      <td>2018-05</td>\n",
       "      <td>159</td>\n",
       "      <td>3</td>\n",
       "      <td>22</td>\n",
       "      <td>52</td>\n",
       "      <td>NaT</td>\n",
       "      <td>Краснодар</td>\n",
       "      <td>Рафаил</td>\n",
       "      <td>Верещагин</td>\n",
       "      <td>2018-05-25</td>\n",
       "      <td>ultra</td>\n",
       "      <td>2018-05</td>\n",
       "      <td>NaT</td>\n",
       "    </tr>\n",
       "    <tr>\n",
       "      <th>1</th>\n",
       "      <td>1000</td>\n",
       "      <td>2018-06</td>\n",
       "      <td>172</td>\n",
       "      <td>23</td>\n",
       "      <td>60</td>\n",
       "      <td>52</td>\n",
       "      <td>NaT</td>\n",
       "      <td>Краснодар</td>\n",
       "      <td>Рафаил</td>\n",
       "      <td>Верещагин</td>\n",
       "      <td>2018-05-25</td>\n",
       "      <td>ultra</td>\n",
       "      <td>2018-05</td>\n",
       "      <td>NaT</td>\n",
       "    </tr>\n",
       "    <tr>\n",
       "      <th>2</th>\n",
       "      <td>1000</td>\n",
       "      <td>2018-07</td>\n",
       "      <td>340</td>\n",
       "      <td>14</td>\n",
       "      <td>75</td>\n",
       "      <td>52</td>\n",
       "      <td>NaT</td>\n",
       "      <td>Краснодар</td>\n",
       "      <td>Рафаил</td>\n",
       "      <td>Верещагин</td>\n",
       "      <td>2018-05-25</td>\n",
       "      <td>ultra</td>\n",
       "      <td>2018-05</td>\n",
       "      <td>NaT</td>\n",
       "    </tr>\n",
       "    <tr>\n",
       "      <th>3</th>\n",
       "      <td>1000</td>\n",
       "      <td>2018-08</td>\n",
       "      <td>408</td>\n",
       "      <td>14</td>\n",
       "      <td>81</td>\n",
       "      <td>52</td>\n",
       "      <td>NaT</td>\n",
       "      <td>Краснодар</td>\n",
       "      <td>Рафаил</td>\n",
       "      <td>Верещагин</td>\n",
       "      <td>2018-05-25</td>\n",
       "      <td>ultra</td>\n",
       "      <td>2018-05</td>\n",
       "      <td>NaT</td>\n",
       "    </tr>\n",
       "    <tr>\n",
       "      <th>4</th>\n",
       "      <td>1000</td>\n",
       "      <td>2018-09</td>\n",
       "      <td>466</td>\n",
       "      <td>15</td>\n",
       "      <td>57</td>\n",
       "      <td>52</td>\n",
       "      <td>NaT</td>\n",
       "      <td>Краснодар</td>\n",
       "      <td>Рафаил</td>\n",
       "      <td>Верещагин</td>\n",
       "      <td>2018-05-25</td>\n",
       "      <td>ultra</td>\n",
       "      <td>2018-05</td>\n",
       "      <td>NaT</td>\n",
       "    </tr>\n",
       "  </tbody>\n",
       "</table>\n",
       "</div>"
      ],
      "text/plain": [
       "   user_id    month  minutes_used  gb_used  sms_used  age churn_date  \\\n",
       "0     1000  2018-05           159        3        22   52        NaT   \n",
       "1     1000  2018-06           172       23        60   52        NaT   \n",
       "2     1000  2018-07           340       14        75   52        NaT   \n",
       "3     1000  2018-08           408       14        81   52        NaT   \n",
       "4     1000  2018-09           466       15        57   52        NaT   \n",
       "\n",
       "        city first_name  last_name   reg_date tariff reg_month churn_month  \n",
       "0  Краснодар     Рафаил  Верещагин 2018-05-25  ultra   2018-05         NaT  \n",
       "1  Краснодар     Рафаил  Верещагин 2018-05-25  ultra   2018-05         NaT  \n",
       "2  Краснодар     Рафаил  Верещагин 2018-05-25  ultra   2018-05         NaT  \n",
       "3  Краснодар     Рафаил  Верещагин 2018-05-25  ultra   2018-05         NaT  \n",
       "4  Краснодар     Рафаил  Верещагин 2018-05-25  ultra   2018-05         NaT  "
      ]
     },
     "execution_count": 83,
     "metadata": {},
     "output_type": "execute_result"
    }
   ],
   "source": [
    "# проверим полученный результат: \n",
    "df.head(5)"
   ]
  },
  {
   "cell_type": "code",
   "execution_count": 84,
   "id": "0654b592",
   "metadata": {},
   "outputs": [],
   "source": [
    "# добавим столбец категории capital, содержащий в бинарной форме данные о том, находится ли пользователь в столице или нет: \n",
    "df['is_capital'] = (df['city'] == 'Москва').astype(int)"
   ]
  },
  {
   "cell_type": "code",
   "execution_count": 85,
   "id": "711d9fd9",
   "metadata": {
    "scrolled": true
   },
   "outputs": [
    {
     "data": {
      "text/plain": [
       "0    2603\n",
       "1     611\n",
       "Name: is_capital, dtype: int64"
      ]
     },
     "execution_count": 85,
     "metadata": {},
     "output_type": "execute_result"
    }
   ],
   "source": [
    "# рассмотрим общее количество пользователей в столице и за ее пределами:\n",
    "df.is_capital.value_counts()"
   ]
  },
  {
   "cell_type": "code",
   "execution_count": 86,
   "id": "387bb17b",
   "metadata": {},
   "outputs": [],
   "source": [
    "# добавим столбец категории tariff, содержащий в бинарной форме данные о том, какой тариф использует пользователь: \n",
    "df['tariff_name'] = (df['tariff'] == 'smart').astype(int)"
   ]
  },
  {
   "cell_type": "code",
   "execution_count": 87,
   "id": "882be44e",
   "metadata": {},
   "outputs": [
    {
     "data": {
      "text/plain": [
       "1    2229\n",
       "0     985\n",
       "Name: tariff_name, dtype: int64"
      ]
     },
     "execution_count": 87,
     "metadata": {},
     "output_type": "execute_result"
    }
   ],
   "source": [
    "# рассмотрим общее количество пользователей каждого тарифа:\n",
    "df.tariff_name.value_counts()"
   ]
  },
  {
   "cell_type": "code",
   "execution_count": 88,
   "id": "51edc3c7",
   "metadata": {},
   "outputs": [
    {
     "data": {
      "text/plain": [
       "(3214, 16)"
      ]
     },
     "execution_count": 88,
     "metadata": {},
     "output_type": "execute_result"
    }
   ],
   "source": [
    "# проверим размер полученного датафрейма: \n",
    "df.shape"
   ]
  },
  {
   "cell_type": "code",
   "execution_count": 89,
   "id": "0ee8be50",
   "metadata": {},
   "outputs": [
    {
     "data": {
      "text/plain": [
       "Index(['user_id', 'month', 'minutes_used', 'gb_used', 'sms_used', 'age',\n",
       "       'churn_date', 'city', 'first_name', 'last_name', 'reg_date', 'tariff',\n",
       "       'reg_month', 'churn_month', 'is_capital', 'tariff_name'],\n",
       "      dtype='object')"
      ]
     },
     "execution_count": 89,
     "metadata": {},
     "output_type": "execute_result"
    }
   ],
   "source": [
    "# получим список колонок нового датафрейма: \n",
    "df.columns"
   ]
  },
  {
   "cell_type": "markdown",
   "id": "5c9ba96b",
   "metadata": {},
   "source": [
    "## 2.7. Расчёты и добавление результатов в таблицу **DF**"
   ]
  },
  {
   "cell_type": "markdown",
   "id": "8e8ed8e1",
   "metadata": {},
   "source": [
    "Напишем функцию расчета ежемесячных расходов в зависимости от тарифа и фактически использованных минут, гигабайтов и смс: \n"
   ]
  },
  {
   "cell_type": "code",
   "execution_count": 90,
   "id": "fd19786d",
   "metadata": {},
   "outputs": [],
   "source": [
    "def tariff_calculator(row):\n",
    "    tariff = row['tariff']\n",
    "    payment = tariffs.loc[tariff, 'rub_monthly_fee']\n",
    "\n",
    "    if row['minutes_used'] > tariffs.loc[tariff, 'minutes_included']:\n",
    "        payment += (row['minutes_used'] -\n",
    "                    tariffs.loc[tariff, 'minutes_included']\n",
    "                    ) * tariffs.loc[tariff, 'rub_per_minute']\n",
    "    if row['gb_used'] > tariffs.loc[tariff, 'gb_per_month_included']:\n",
    "        payment += (row['gb_used'] -\n",
    "                    tariffs.loc[tariff, 'gb_per_month_included']\n",
    "                    ) * tariffs.loc[tariff, 'rub_per_gb']\n",
    "    if row['sms_used'] > tariffs.loc[tariff, 'messages_included']:\n",
    "        payment += (row['sms_used'] - tariffs.loc[tariff, 'messages_included']\n",
    "                    ) * tariffs.loc[tariff, 'rub_per_message']\n",
    "    row['actual_payment'] = payment\n",
    "    return row"
   ]
  },
  {
   "cell_type": "code",
   "execution_count": 91,
   "id": "336095c3",
   "metadata": {},
   "outputs": [],
   "source": [
    "# применим полученную функцию к сводному датафрейму:\n",
    "df = df.apply(tariff_calculator, axis=1)"
   ]
  },
  {
   "cell_type": "code",
   "execution_count": 92,
   "id": "eed2c2d8",
   "metadata": {},
   "outputs": [
    {
     "data": {
      "text/html": [
       "<div>\n",
       "<style scoped>\n",
       "    .dataframe tbody tr th:only-of-type {\n",
       "        vertical-align: middle;\n",
       "    }\n",
       "\n",
       "    .dataframe tbody tr th {\n",
       "        vertical-align: top;\n",
       "    }\n",
       "\n",
       "    .dataframe thead th {\n",
       "        text-align: right;\n",
       "    }\n",
       "</style>\n",
       "<table border=\"1\" class=\"dataframe\">\n",
       "  <thead>\n",
       "    <tr style=\"text-align: right;\">\n",
       "      <th></th>\n",
       "      <th>user_id</th>\n",
       "      <th>month</th>\n",
       "      <th>minutes_used</th>\n",
       "      <th>gb_used</th>\n",
       "      <th>sms_used</th>\n",
       "      <th>age</th>\n",
       "      <th>churn_date</th>\n",
       "      <th>city</th>\n",
       "      <th>first_name</th>\n",
       "      <th>last_name</th>\n",
       "      <th>reg_date</th>\n",
       "      <th>tariff</th>\n",
       "      <th>reg_month</th>\n",
       "      <th>churn_month</th>\n",
       "      <th>is_capital</th>\n",
       "      <th>tariff_name</th>\n",
       "      <th>actual_payment</th>\n",
       "    </tr>\n",
       "  </thead>\n",
       "  <tbody>\n",
       "    <tr>\n",
       "      <th>0</th>\n",
       "      <td>1000</td>\n",
       "      <td>2018-05</td>\n",
       "      <td>159</td>\n",
       "      <td>3</td>\n",
       "      <td>22</td>\n",
       "      <td>52</td>\n",
       "      <td>NaT</td>\n",
       "      <td>Краснодар</td>\n",
       "      <td>Рафаил</td>\n",
       "      <td>Верещагин</td>\n",
       "      <td>2018-05-25</td>\n",
       "      <td>ultra</td>\n",
       "      <td>2018-05</td>\n",
       "      <td>NaT</td>\n",
       "      <td>0</td>\n",
       "      <td>0</td>\n",
       "      <td>1950</td>\n",
       "    </tr>\n",
       "    <tr>\n",
       "      <th>1</th>\n",
       "      <td>1000</td>\n",
       "      <td>2018-06</td>\n",
       "      <td>172</td>\n",
       "      <td>23</td>\n",
       "      <td>60</td>\n",
       "      <td>52</td>\n",
       "      <td>NaT</td>\n",
       "      <td>Краснодар</td>\n",
       "      <td>Рафаил</td>\n",
       "      <td>Верещагин</td>\n",
       "      <td>2018-05-25</td>\n",
       "      <td>ultra</td>\n",
       "      <td>2018-05</td>\n",
       "      <td>NaT</td>\n",
       "      <td>0</td>\n",
       "      <td>0</td>\n",
       "      <td>1950</td>\n",
       "    </tr>\n",
       "    <tr>\n",
       "      <th>2</th>\n",
       "      <td>1000</td>\n",
       "      <td>2018-07</td>\n",
       "      <td>340</td>\n",
       "      <td>14</td>\n",
       "      <td>75</td>\n",
       "      <td>52</td>\n",
       "      <td>NaT</td>\n",
       "      <td>Краснодар</td>\n",
       "      <td>Рафаил</td>\n",
       "      <td>Верещагин</td>\n",
       "      <td>2018-05-25</td>\n",
       "      <td>ultra</td>\n",
       "      <td>2018-05</td>\n",
       "      <td>NaT</td>\n",
       "      <td>0</td>\n",
       "      <td>0</td>\n",
       "      <td>1950</td>\n",
       "    </tr>\n",
       "    <tr>\n",
       "      <th>3</th>\n",
       "      <td>1000</td>\n",
       "      <td>2018-08</td>\n",
       "      <td>408</td>\n",
       "      <td>14</td>\n",
       "      <td>81</td>\n",
       "      <td>52</td>\n",
       "      <td>NaT</td>\n",
       "      <td>Краснодар</td>\n",
       "      <td>Рафаил</td>\n",
       "      <td>Верещагин</td>\n",
       "      <td>2018-05-25</td>\n",
       "      <td>ultra</td>\n",
       "      <td>2018-05</td>\n",
       "      <td>NaT</td>\n",
       "      <td>0</td>\n",
       "      <td>0</td>\n",
       "      <td>1950</td>\n",
       "    </tr>\n",
       "    <tr>\n",
       "      <th>4</th>\n",
       "      <td>1000</td>\n",
       "      <td>2018-09</td>\n",
       "      <td>466</td>\n",
       "      <td>15</td>\n",
       "      <td>57</td>\n",
       "      <td>52</td>\n",
       "      <td>NaT</td>\n",
       "      <td>Краснодар</td>\n",
       "      <td>Рафаил</td>\n",
       "      <td>Верещагин</td>\n",
       "      <td>2018-05-25</td>\n",
       "      <td>ultra</td>\n",
       "      <td>2018-05</td>\n",
       "      <td>NaT</td>\n",
       "      <td>0</td>\n",
       "      <td>0</td>\n",
       "      <td>1950</td>\n",
       "    </tr>\n",
       "  </tbody>\n",
       "</table>\n",
       "</div>"
      ],
      "text/plain": [
       "   user_id    month  minutes_used  gb_used  sms_used  age churn_date  \\\n",
       "0     1000  2018-05           159        3        22   52        NaT   \n",
       "1     1000  2018-06           172       23        60   52        NaT   \n",
       "2     1000  2018-07           340       14        75   52        NaT   \n",
       "3     1000  2018-08           408       14        81   52        NaT   \n",
       "4     1000  2018-09           466       15        57   52        NaT   \n",
       "\n",
       "        city first_name  last_name   reg_date tariff reg_month churn_month  \\\n",
       "0  Краснодар     Рафаил  Верещагин 2018-05-25  ultra   2018-05         NaT   \n",
       "1  Краснодар     Рафаил  Верещагин 2018-05-25  ultra   2018-05         NaT   \n",
       "2  Краснодар     Рафаил  Верещагин 2018-05-25  ultra   2018-05         NaT   \n",
       "3  Краснодар     Рафаил  Верещагин 2018-05-25  ultra   2018-05         NaT   \n",
       "4  Краснодар     Рафаил  Верещагин 2018-05-25  ultra   2018-05         NaT   \n",
       "\n",
       "   is_capital  tariff_name  actual_payment  \n",
       "0           0            0            1950  \n",
       "1           0            0            1950  \n",
       "2           0            0            1950  \n",
       "3           0            0            1950  \n",
       "4           0            0            1950  "
      ]
     },
     "execution_count": 92,
     "metadata": {},
     "output_type": "execute_result"
    }
   ],
   "source": [
    "# проверим полученный результат:\n",
    "df.head(5)"
   ]
  },
  {
   "cell_type": "code",
   "execution_count": 93,
   "id": "cffdfd55",
   "metadata": {},
   "outputs": [
    {
     "data": {
      "text/plain": [
       "0"
      ]
     },
     "execution_count": 93,
     "metadata": {},
     "output_type": "execute_result"
    }
   ],
   "source": [
    "# проверим столбец actual_payment на наличие пропусков:\n",
    "df.actual_payment.isnull().sum()"
   ]
  },
  {
   "cell_type": "code",
   "execution_count": 94,
   "id": "82fadd0a",
   "metadata": {
    "scrolled": true
   },
   "outputs": [
    {
     "data": {
      "text/plain": [
       "count   3214.00\n",
       "mean    1529.08\n",
       "std      798.25\n",
       "min      550.00\n",
       "25%      750.00\n",
       "50%     1653.50\n",
       "75%     1950.00\n",
       "max     6770.00\n",
       "Name: actual_payment, dtype: float64"
      ]
     },
     "execution_count": 94,
     "metadata": {},
     "output_type": "execute_result"
    }
   ],
   "source": [
    "# получим статистическое описание данных по столбцу actual_payment:\n",
    "df.actual_payment.describe()"
   ]
  },
  {
   "cell_type": "code",
   "execution_count": 95,
   "id": "09d01b0b",
   "metadata": {},
   "outputs": [
    {
     "data": {
      "text/plain": [
       "Text(0.5, 0, 'Ежемесячные затраты, руб.')"
      ]
     },
     "execution_count": 95,
     "metadata": {},
     "output_type": "execute_result"
    },
    {
     "data": {
      "image/png": "[encoded data removed]",
      "text/plain": [
       "<Figure size 960x480 with 1 Axes>"
      ]
     },
     "metadata": {
      "needs_background": "light"
     },
     "output_type": "display_data"
    }
   ],
   "source": [
    "payments_plot = df.actual_payment\n",
    "\n",
    "figure(figsize=(12, 6), dpi=80)\n",
    "pyplot.grid(color='black', \n",
    "            linestyle=\"dotted\", \n",
    "            linewidth=1)\n",
    "pyplot.hist(payments_plot, \n",
    "            bins=50, \n",
    "            alpha=0.7)\n",
    "pyplot.title(label='Распределение фактических ежемесячных затрат пользователей', \n",
    "             fontdict={'fontsize': 'x-large',\n",
    "                       'fontweight': 'semibold'})\n",
    "pyplot.ylabel(\"Количество пользователей\", \n",
    "              fontsize='large')\n",
    "pyplot.xlabel(\"Ежемесячные затраты, руб.\", \n",
    "              fontsize='large')"
   ]
  },
  {
   "cell_type": "markdown",
   "id": "cd62f360",
   "metadata": {},
   "source": [
    "#### _Промежуточные выводы_"
   ]
  },
  {
   "cell_type": "markdown",
   "id": "5f64d8b9",
   "metadata": {},
   "source": [
    "Распределение фактических затрат пользователей указывает на наличие двух всплесков по количеству пользователей в районе значений фиксированного ежемесячного платежа для двух тарифов. Что указывает на наличие достаточно большой доли пользователей, которые используют только минуты/смс/трафик, входящие в пакет тарифа. <br>\n",
    "Кром того, имеются выбросы по размеру затрат в месяц, существенно превышающие затраты большинства пользователей - в диапазоне от 4000 до 7000 руб."
   ]
  },
  {
   "cell_type": "markdown",
   "id": "f5ce2ad7",
   "metadata": {},
   "source": [
    "# 3. **Анализ данных**"
   ]
  },
  {
   "cell_type": "markdown",
   "id": "cead1409",
   "metadata": {},
   "source": [
    "## 3.1. Средние значения использования минут, смс и трафика по каждому тарифу. "
   ]
  },
  {
   "cell_type": "markdown",
   "id": "33be0ef5",
   "metadata": {},
   "source": [
    "Создадим две выборки согласно тарифам, имеющегося датафрейма."
   ]
  },
  {
   "cell_type": "code",
   "execution_count": 96,
   "id": "30d190cf",
   "metadata": {},
   "outputs": [],
   "source": [
    "ultra_df = df.query('tariff_name == 0')"
   ]
  },
  {
   "cell_type": "code",
   "execution_count": 97,
   "id": "8a06b237",
   "metadata": {},
   "outputs": [
    {
     "data": {
      "text/plain": [
       "148"
      ]
     },
     "execution_count": 97,
     "metadata": {},
     "output_type": "execute_result"
    }
   ],
   "source": [
    "# найдем количество пользователей данного тарифа:\n",
    "ultra_df.user_id.nunique()"
   ]
  },
  {
   "cell_type": "code",
   "execution_count": 98,
   "id": "51451297",
   "metadata": {},
   "outputs": [],
   "source": [
    "smart_df = df.query('tariff_name == 1')"
   ]
  },
  {
   "cell_type": "code",
   "execution_count": 99,
   "id": "448106e9",
   "metadata": {},
   "outputs": [
    {
     "data": {
      "text/plain": [
       "350"
      ]
     },
     "execution_count": 99,
     "metadata": {},
     "output_type": "execute_result"
    }
   ],
   "source": [
    "# найдем количество пользователей данного тарифа:\n",
    "smart_df.user_id.nunique()"
   ]
  },
  {
   "cell_type": "code",
   "execution_count": 100,
   "id": "06b60a9f",
   "metadata": {},
   "outputs": [
    {
     "data": {
      "text/plain": [
       "minutes_used   526.62\n",
       "gb_used         19.49\n",
       "sms_used        49.36\n",
       "dtype: float64"
      ]
     },
     "execution_count": 100,
     "metadata": {},
     "output_type": "execute_result"
    }
   ],
   "source": [
    "# расчитаем среднее количество звонков, смс и интернет соединений пользователей тарифа Ультра: \n",
    "ultra_df[['minutes_used', 'gb_used', 'sms_used']].mean()"
   ]
  },
  {
   "cell_type": "code",
   "execution_count": 101,
   "id": "7d2527d0",
   "metadata": {},
   "outputs": [
    {
     "data": {
      "text/plain": [
       "minutes_used   417.93\n",
       "gb_used         16.33\n",
       "sms_used        33.38\n",
       "dtype: float64"
      ]
     },
     "execution_count": 101,
     "metadata": {},
     "output_type": "execute_result"
    }
   ],
   "source": [
    "# расчитаем среднее количество звонков, смс и интернет соединений пользователей тарифа Смарт: \n",
    "smart_df[['minutes_used', 'gb_used', 'sms_used']].mean()"
   ]
  },
  {
   "cell_type": "code",
   "execution_count": 102,
   "id": "249c4a8b",
   "metadata": {},
   "outputs": [
    {
     "data": {
      "text/plain": [
       "minutes_used   100771.22\n",
       "gb_used            96.99\n",
       "sms_used         2282.95\n",
       "dtype: float64"
      ]
     },
     "execution_count": 102,
     "metadata": {},
     "output_type": "execute_result"
    }
   ],
   "source": [
    "# расчитаем дисперсию для звонков, смс и интернет соединений пользователей тарифа Ультра:\n",
    "np.var(ultra_df[['minutes_used', 'gb_used', 'sms_used']], axis = 0)"
   ]
  },
  {
   "cell_type": "code",
   "execution_count": 103,
   "id": "80ce1a63",
   "metadata": {},
   "outputs": [
    {
     "data": {
      "text/plain": [
       "minutes_used   36203.07\n",
       "gb_used           33.01\n",
       "sms_used         796.46\n",
       "dtype: float64"
      ]
     },
     "execution_count": 103,
     "metadata": {},
     "output_type": "execute_result"
    }
   ],
   "source": [
    "# расчитаем дисперсию для звонков, смс и интернет соединений пользователей тарифа Смарт:\n",
    "np.var(smart_df[['minutes_used', 'gb_used', 'sms_used']], axis = 0)"
   ]
  },
  {
   "cell_type": "code",
   "execution_count": 104,
   "id": "9f457697",
   "metadata": {},
   "outputs": [
    {
     "data": {
      "text/plain": [
       "minutes_used   317.44\n",
       "gb_used          9.85\n",
       "sms_used        47.78\n",
       "dtype: float64"
      ]
     },
     "execution_count": 104,
     "metadata": {},
     "output_type": "execute_result"
    }
   ],
   "source": [
    "# расчитаем стандартное отклонение для звонков, смс и интернет соединений пользователей тарифа Смарт:\n",
    "np.std(ultra_df[['minutes_used', 'gb_used', 'sms_used']], axis = 0)"
   ]
  },
  {
   "cell_type": "code",
   "execution_count": 105,
   "id": "fa8fd2c4",
   "metadata": {},
   "outputs": [
    {
     "data": {
      "text/plain": [
       "minutes_used   190.27\n",
       "gb_used          5.75\n",
       "sms_used        28.22\n",
       "dtype: float64"
      ]
     },
     "execution_count": 105,
     "metadata": {},
     "output_type": "execute_result"
    }
   ],
   "source": [
    "# расчитаем стандартное отклонение для звонков, смс и интернет соединений пользователей тарифа Ультра:\n",
    "np.std(smart_df[['minutes_used', 'gb_used', 'sms_used']], axis = 0)"
   ]
  },
  {
   "cell_type": "code",
   "execution_count": 106,
   "id": "2dca7a4c",
   "metadata": {},
   "outputs": [
    {
     "data": {
      "text/plain": [
       "array([[<AxesSubplot:xlabel='minutes_used', ylabel='minutes_used'>,\n",
       "        <AxesSubplot:xlabel='gb_used', ylabel='minutes_used'>,\n",
       "        <AxesSubplot:xlabel='sms_used', ylabel='minutes_used'>,\n",
       "        <AxesSubplot:xlabel='tariff_name', ylabel='minutes_used'>],\n",
       "       [<AxesSubplot:xlabel='minutes_used', ylabel='gb_used'>,\n",
       "        <AxesSubplot:xlabel='gb_used', ylabel='gb_used'>,\n",
       "        <AxesSubplot:xlabel='sms_used', ylabel='gb_used'>,\n",
       "        <AxesSubplot:xlabel='tariff_name', ylabel='gb_used'>],\n",
       "       [<AxesSubplot:xlabel='minutes_used', ylabel='sms_used'>,\n",
       "        <AxesSubplot:xlabel='gb_used', ylabel='sms_used'>,\n",
       "        <AxesSubplot:xlabel='sms_used', ylabel='sms_used'>,\n",
       "        <AxesSubplot:xlabel='tariff_name', ylabel='sms_used'>],\n",
       "       [<AxesSubplot:xlabel='minutes_used', ylabel='tariff_name'>,\n",
       "        <AxesSubplot:xlabel='gb_used', ylabel='tariff_name'>,\n",
       "        <AxesSubplot:xlabel='sms_used', ylabel='tariff_name'>,\n",
       "        <AxesSubplot:xlabel='tariff_name', ylabel='tariff_name'>]],\n",
       "      dtype=object)"
      ]
     },
     "execution_count": 106,
     "metadata": {},
     "output_type": "execute_result"
    },
    {
     "data": {
      "image/png": "[encoded data removed]",
      "text/plain": [
       "<Figure size 648x648 with 16 Axes>"
      ]
     },
     "metadata": {
      "needs_background": "light"
     },
     "output_type": "display_data"
    }
   ],
   "source": [
    "# рассмотрим корреляцию расхода минут, смс и трафика в зависимости от тарифа пользователя: \n",
    "pd.plotting.scatter_matrix(df[['minutes_used', 'gb_used', 'sms_used', 'tariff_name']],\n",
    "                           figsize=(9, 9))"
   ]
  },
  {
   "cell_type": "markdown",
   "id": "2465058b",
   "metadata": {},
   "source": [
    "1. Пользователей тарифа Смарт почти в три раза больше, чем пользователей тарифа Ультра. \n",
    "2. Пользователи тарифа Ультра в основном используют больше трафика, смс и минут разговоров, чем пользователи тарифа Смарт. \n",
    "3. Графически можно увидеть положительную корреляцию между объемом используемого трафика и минутами разговора. \n",
    "4. Предположение, что пользователи, использующие больше трафика меньше пользуются смс, не потдверждается графиком.   "
   ]
  },
  {
   "cell_type": "code",
   "execution_count": 107,
   "id": "d3e4d608",
   "metadata": {},
   "outputs": [],
   "source": [
    "# создадим сводную таблицу средних значений для тарифа Ультра по месяцам: \n",
    "ultra_avg_monthly_usage = ultra_df.pivot_table(\n",
    "    index=['month'], \n",
    "    values=['minutes_used', 'gb_used', 'sms_used'], \n",
    "    aggfunc='mean')"
   ]
  },
  {
   "cell_type": "code",
   "execution_count": 108,
   "id": "cef95436",
   "metadata": {},
   "outputs": [],
   "source": [
    "# создадим сводную таблицу средних значений для тарифа Смарт по месяцам: \n",
    "smart_avg_monthly_usage = smart_df.pivot_table(\n",
    "    index=['month'], \n",
    "    values=['minutes_used', 'gb_used', 'sms_used'], \n",
    "    aggfunc='mean')"
   ]
  },
  {
   "cell_type": "code",
   "execution_count": 128,
   "id": "7c53dde2",
   "metadata": {},
   "outputs": [],
   "source": [
    "# сравним средние значения между собой:\n",
    "comparison = round(\n",
    "    (ultra_avg_monthly_usage / smart_avg_monthly_usage) * 100).astype(int)"
   ]
  },
  {
   "cell_type": "code",
   "execution_count": 129,
   "id": "e0fb7d9d",
   "metadata": {},
   "outputs": [
    {
     "data": {
      "text/html": [
       "<div>\n",
       "<style scoped>\n",
       "    .dataframe tbody tr th:only-of-type {\n",
       "        vertical-align: middle;\n",
       "    }\n",
       "\n",
       "    .dataframe tbody tr th {\n",
       "        vertical-align: top;\n",
       "    }\n",
       "\n",
       "    .dataframe thead th {\n",
       "        text-align: right;\n",
       "    }\n",
       "</style>\n",
       "<table border=\"1\" class=\"dataframe\">\n",
       "  <thead>\n",
       "    <tr style=\"text-align: right;\">\n",
       "      <th></th>\n",
       "      <th>gb_used</th>\n",
       "      <th>minutes_used</th>\n",
       "      <th>sms_used</th>\n",
       "    </tr>\n",
       "    <tr>\n",
       "      <th>month</th>\n",
       "      <th></th>\n",
       "      <th></th>\n",
       "      <th></th>\n",
       "    </tr>\n",
       "  </thead>\n",
       "  <tbody>\n",
       "    <tr>\n",
       "      <th>2018-01</th>\n",
       "      <td>151</td>\n",
       "      <td>210</td>\n",
       "      <td>185</td>\n",
       "    </tr>\n",
       "    <tr>\n",
       "      <th>2018-02</th>\n",
       "      <td>101</td>\n",
       "      <td>99</td>\n",
       "      <td>91</td>\n",
       "    </tr>\n",
       "    <tr>\n",
       "      <th>2018-03</th>\n",
       "      <td>116</td>\n",
       "      <td>126</td>\n",
       "      <td>101</td>\n",
       "    </tr>\n",
       "    <tr>\n",
       "      <th>2018-04</th>\n",
       "      <td>125</td>\n",
       "      <td>125</td>\n",
       "      <td>103</td>\n",
       "    </tr>\n",
       "    <tr>\n",
       "      <th>2018-05</th>\n",
       "      <td>122</td>\n",
       "      <td>132</td>\n",
       "      <td>112</td>\n",
       "    </tr>\n",
       "    <tr>\n",
       "      <th>2018-06</th>\n",
       "      <td>119</td>\n",
       "      <td>121</td>\n",
       "      <td>125</td>\n",
       "    </tr>\n",
       "    <tr>\n",
       "      <th>2018-07</th>\n",
       "      <td>129</td>\n",
       "      <td>134</td>\n",
       "      <td>148</td>\n",
       "    </tr>\n",
       "    <tr>\n",
       "      <th>2018-08</th>\n",
       "      <td>117</td>\n",
       "      <td>121</td>\n",
       "      <td>144</td>\n",
       "    </tr>\n",
       "    <tr>\n",
       "      <th>2018-09</th>\n",
       "      <td>117</td>\n",
       "      <td>126</td>\n",
       "      <td>155</td>\n",
       "    </tr>\n",
       "    <tr>\n",
       "      <th>2018-10</th>\n",
       "      <td>119</td>\n",
       "      <td>131</td>\n",
       "      <td>173</td>\n",
       "    </tr>\n",
       "    <tr>\n",
       "      <th>2018-11</th>\n",
       "      <td>117</td>\n",
       "      <td>124</td>\n",
       "      <td>164</td>\n",
       "    </tr>\n",
       "    <tr>\n",
       "      <th>2018-12</th>\n",
       "      <td>119</td>\n",
       "      <td>124</td>\n",
       "      <td>168</td>\n",
       "    </tr>\n",
       "  </tbody>\n",
       "</table>\n",
       "</div>"
      ],
      "text/plain": [
       "         gb_used  minutes_used  sms_used\n",
       "month                                   \n",
       "2018-01      151           210       185\n",
       "2018-02      101            99        91\n",
       "2018-03      116           126       101\n",
       "2018-04      125           125       103\n",
       "2018-05      122           132       112\n",
       "2018-06      119           121       125\n",
       "2018-07      129           134       148\n",
       "2018-08      117           121       144\n",
       "2018-09      117           126       155\n",
       "2018-10      119           131       173\n",
       "2018-11      117           124       164\n",
       "2018-12      119           124       168"
      ]
     },
     "metadata": {},
     "output_type": "display_data"
    }
   ],
   "source": [
    "display(comparison)"
   ]
  },
  {
   "cell_type": "markdown",
   "id": "68b60048",
   "metadata": {},
   "source": [
    "#### _Промежуточные выводы_"
   ]
  },
  {
   "cell_type": "markdown",
   "id": "c2740876",
   "metadata": {},
   "source": [
    "В основном пользователи тарифа **Ультра** используют больше минут и смс, нежели пользователи тарифа **Смарт**. Однако, пользователи тарифа **Смарт** используют больше интернет трафика по сравнению с пользователями тарифа **Ультра**.<br>\n",
    "Высокие показатели стандартного отклонения для минут и смс пользователей тарифа **Смарт** говорят о наличии в выборке пользователей с расходом, значительно превышающем средние значения. "
   ]
  },
  {
   "cell_type": "markdown",
   "id": "b0185f6f",
   "metadata": {},
   "source": [
    "### 3.1.1. Анализ среднего использования минут"
   ]
  },
  {
   "cell_type": "code",
   "execution_count": 111,
   "id": "b9dce18f",
   "metadata": {
    "scrolled": false
   },
   "outputs": [
    {
     "data": {
      "text/plain": [
       "Text(0.5, 0, 'Месяц')"
      ]
     },
     "execution_count": 111,
     "metadata": {},
     "output_type": "execute_result"
    },
    {
     "data": {
      "image/png": "[encoded data removed]",
      "text/plain": [
       "<Figure size 960x640 with 1 Axes>"
      ]
     },
     "metadata": {
      "needs_background": "light"
     },
     "output_type": "display_data"
    }
   ],
   "source": [
    "# построим график использования времени разговоров в среднем по месяцам в зависимости от тарифа: \n",
    "minutes_total_ultra_plot = ultra_avg_monthly_usage[\"minutes_used\"]\n",
    "minutes_total_smart_plot = smart_avg_monthly_usage[\"minutes_used\"]\n",
    "labels =  ultra_avg_monthly_usage.index.month\n",
    "figure(figsize=(12, 8), dpi=80)\n",
    "pyplot.grid(color='black', \n",
    "            linestyle=\"dotted\", \n",
    "            linewidth=1)\n",
    "pyplot.bar(labels, minutes_total_ultra_plot, \n",
    "            alpha=0.2, \n",
    "            label='ultra')\n",
    "pyplot.bar(labels, minutes_total_smart_plot, \n",
    "            alpha=0.5, \n",
    "            label='smart')\n",
    "pyplot.title(label='Сравнение среднемесячного использования минут пользователей в зависимости от тарифа', \n",
    "             fontdict={'fontsize': 'x-large',\n",
    "                       'fontweight': 'semibold'})\n",
    "pyplot.legend(title='Название тарифа',\n",
    "              title_fontsize='large', \n",
    "              loc='upper right')\n",
    "pyplot.ylabel(\"Среднее количество минут, использованных пользователями\", \n",
    "              fontsize='large')\n",
    "pyplot.xlabel(\"Месяц\", \n",
    "              fontsize='large')"
   ]
  },
  {
   "cell_type": "markdown",
   "id": "e3e342ae",
   "metadata": {},
   "source": [
    "#### _Промежуточные выводы_"
   ]
  },
  {
   "cell_type": "markdown",
   "id": "338d154c",
   "metadata": {},
   "source": [
    "Использование минут для двух тарифов имеет тенденцию к росту в течение года с минимальными значениями в январе-феврале. <br>Пользователи тарифа **Ультра** используют больше минут разговоров по сравнению с пользователями тарифа **Смарт**. <br>В феврале пользователи двух тарифов использовали одинаковое количество минут. "
   ]
  },
  {
   "cell_type": "markdown",
   "id": "f3a01808",
   "metadata": {},
   "source": [
    "### 3.1.2. Анализ среднего использования СМС"
   ]
  },
  {
   "cell_type": "code",
   "execution_count": 112,
   "id": "68107089",
   "metadata": {
    "scrolled": false
   },
   "outputs": [
    {
     "data": {
      "text/plain": [
       "Text(0.5, 0, 'Месяц')"
      ]
     },
     "execution_count": 112,
     "metadata": {},
     "output_type": "execute_result"
    },
    {
     "data": {
      "image/png": "[encoded data removed]",
      "text/plain": [
       "<Figure size 960x640 with 1 Axes>"
      ]
     },
     "metadata": {
      "needs_background": "light"
     },
     "output_type": "display_data"
    }
   ],
   "source": [
    "# построим график использования смс в среднем по месяцам в зависимости от тарифа: \n",
    "sms_total_ultra_plot = ultra_avg_monthly_usage[\"sms_used\"]\n",
    "sms_total_smart_plot = smart_avg_monthly_usage[\"sms_used\"]\n",
    "labels =  ultra_avg_monthly_usage.index.month\n",
    "figure(figsize=(12, 8), dpi=80)\n",
    "pyplot.grid(color='black', \n",
    "            linestyle=\"dotted\", \n",
    "            linewidth=1)\n",
    "pyplot.bar(labels, sms_total_ultra_plot, \n",
    "            alpha=0.2, \n",
    "            label='ultra')\n",
    "pyplot.bar(labels, sms_total_smart_plot, \n",
    "            alpha=0.5, \n",
    "            label='smart')\n",
    "pyplot.title(label='Сравнение среднемесячного использования смс пользователей в зависимости от тарифа', \n",
    "             fontdict={'fontsize': 'x-large',\n",
    "                       'fontweight': 'semibold'})\n",
    "pyplot.legend(title='Название тарифа',\n",
    "              title_fontsize='large', \n",
    "              loc='upper right')\n",
    "pyplot.ylabel(\"Среднее количество смс, использованных пользователями\", \n",
    "              fontsize='large')\n",
    "pyplot.xlabel(\"Месяц\", \n",
    "              fontsize='large')"
   ]
  },
  {
   "cell_type": "markdown",
   "id": "1cb4ceb7",
   "metadata": {},
   "source": [
    "#### _Промежуточные выводы_"
   ]
  },
  {
   "cell_type": "markdown",
   "id": "a3bb6c39",
   "metadata": {},
   "source": [
    "Как и для минут, использование смс для двух тарифов имеет тенденцию к росту в течение года, однако  минимальные значения фиксируются в периоде с января по апрель. В этот же период (за исключением января) разрыв между пользователями двух тарифов минимален. <br>Пользователи тарифа **Ультра** также используют больше смс по сравнению с пользователями тарифа **Смарт**. <br>В феврале пользователи тарифа **Смарт** опередили пользователей тарифа **Ультра** по количеству отправленных смс."
   ]
  },
  {
   "cell_type": "markdown",
   "id": "85b7b6a5",
   "metadata": {},
   "source": [
    "### 3.1.3. Анализ среднего использования интернет трафика"
   ]
  },
  {
   "cell_type": "code",
   "execution_count": 113,
   "id": "1b527c2c",
   "metadata": {},
   "outputs": [
    {
     "data": {
      "text/plain": [
       "Text(0.5, 0, 'Месяц')"
      ]
     },
     "execution_count": 113,
     "metadata": {},
     "output_type": "execute_result"
    },
    {
     "data": {
      "image/png": "[encoded data removed]",
      "text/plain": [
       "<Figure size 960x640 with 1 Axes>"
      ]
     },
     "metadata": {
      "needs_background": "light"
     },
     "output_type": "display_data"
    }
   ],
   "source": [
    "# построим график использования смс в среднем по месяцам в зависимости от тарифа: \n",
    "gb_total_ultra_plot = ultra_avg_monthly_usage[\"gb_used\"]\n",
    "gb_total_smart_plot = smart_avg_monthly_usage[\"gb_used\"]\n",
    "labels =  ultra_avg_monthly_usage.index.month\n",
    "figure(figsize=(12, 8), dpi=80)\n",
    "pyplot.grid(color='black', \n",
    "            linestyle=\"dotted\", \n",
    "            linewidth=1)\n",
    "pyplot.bar(labels, gb_total_ultra_plot, \n",
    "            alpha=0.2, \n",
    "            label='ultra')\n",
    "pyplot.bar(labels, gb_total_smart_plot, \n",
    "            alpha=0.5, \n",
    "            label='smart')\n",
    "pyplot.title(label='Сравнение среднемесячного использования интернет трафика пользователей в зависимости от тарифа', \n",
    "             fontdict={'fontsize': 'x-large',\n",
    "                       'fontweight': 'semibold'})\n",
    "pyplot.legend(title='Название тарифа',\n",
    "              title_fontsize='large', \n",
    "              loc='upper right')\n",
    "pyplot.ylabel(\"Среднее количество GB интернет трафика, \\n использованных пользователями\", \n",
    "              fontsize='large')\n",
    "pyplot.xlabel(\"Месяц\", \n",
    "              fontsize='large')"
   ]
  },
  {
   "cell_type": "markdown",
   "id": "d92128e2",
   "metadata": {},
   "source": [
    "#### _Промежуточные выводы_"
   ]
  },
  {
   "cell_type": "markdown",
   "id": "f1d0ae97",
   "metadata": {},
   "source": [
    "Использование трафика для двух тарифов также имеет тенденцию к росту в течение года, однако данный рост менее выражен. Минимумы фиксируются в январе-феврале. <br>Пользователи тарифа **Ультра** используют больше трафика по сравнению с пользователями тарифа **Смарт**. <br>В феврале пользователи двух тарифов использовали примерно одинаковое количество гигабайт. "
   ]
  },
  {
   "cell_type": "markdown",
   "id": "49d4de80",
   "metadata": {},
   "source": [
    "## 3.2. Анализ потребительского поведения пользователей"
   ]
  },
  {
   "cell_type": "markdown",
   "id": "8c2bff6e",
   "metadata": {},
   "source": [
    "### 3.2.1. Анализ использования минут пользователями"
   ]
  },
  {
   "cell_type": "code",
   "execution_count": 114,
   "id": "ae38d232",
   "metadata": {},
   "outputs": [
    {
     "data": {
      "text/plain": [
       "Text(0.5, 0, 'Расход минут пользователя в месяц')"
      ]
     },
     "execution_count": 114,
     "metadata": {},
     "output_type": "execute_result"
    },
    {
     "data": {
      "image/png": "[encoded data removed]",
      "text/plain": [
       "<Figure size 960x640 with 1 Axes>"
      ]
     },
     "metadata": {
      "needs_background": "light"
     },
     "output_type": "display_data"
    }
   ],
   "source": [
    "ultra_plot = ultra_df.minutes_used\n",
    "smart_plot = smart_df.minutes_used\n",
    "\n",
    "figure(figsize=(12, 8), dpi=80)\n",
    "pyplot.grid(color='black', \n",
    "            linestyle=\"dotted\", \n",
    "            linewidth=1)\n",
    "pyplot.hist(ultra_plot, \n",
    "            bins=20, \n",
    "            alpha=0.5, \n",
    "            label='ultra')\n",
    "pyplot.hist(smart_plot, \n",
    "            bins=20, \n",
    "            alpha=0.4, \n",
    "            label='smart')\n",
    "pyplot.title(label='Распределение использования минут пользователями в зависимости от тарифа', \n",
    "             fontdict={'fontsize': 'x-large',\n",
    "                       'fontweight': 'semibold'})\n",
    "pyplot.legend(title='Название тарифа',\n",
    "              title_fontsize='large', \n",
    "              loc='upper right')\n",
    "pyplot.ylabel(\"Количество пользователей\", \n",
    "              fontsize='large')\n",
    "pyplot.xlabel(\"Расход минут пользователя в месяц\", \n",
    "              fontsize='large')"
   ]
  },
  {
   "cell_type": "markdown",
   "id": "cfce83d1",
   "metadata": {},
   "source": [
    "#### _Промежуточные выводы_"
   ]
  },
  {
   "cell_type": "markdown",
   "id": "5455f17e",
   "metadata": {},
   "source": [
    "Пользователи тарифа **Смарт** в подавляющем большинстве остаются в пределах 500 минут по пакету тарифа. <br>Пользователи тарифа **Ультра** не выбирают 3000 минут, включенные в тариф. "
   ]
  },
  {
   "cell_type": "code",
   "execution_count": 115,
   "id": "93f50212",
   "metadata": {},
   "outputs": [
    {
     "name": "stdout",
     "output_type": "stream",
     "text": [
      "Среднее для тарифа Ультра: 526.6233502538071\n",
      "Медиана для тарифа Ультра: 518.0\n",
      "Среднее для тарифа Смарт: 417.9349484073576\n",
      "Медиана для тарифа Смарт: 422.0\n"
     ]
    }
   ],
   "source": [
    "# проверим совпадение среднего и медианы: \n",
    "\n",
    "print(f'Среднее для тарифа Ультра: {ultra_df.minutes_used.mean()}')\n",
    "print(f'Медиана для тарифа Ультра: {ultra_df.minutes_used.median()}')\n",
    "print(f'Среднее для тарифа Смарт: {smart_df.minutes_used.mean()}')\n",
    "print(f'Медиана для тарифа Смарт: {smart_df.minutes_used.median()}')"
   ]
  },
  {
   "cell_type": "markdown",
   "id": "8fbdc0c3",
   "metadata": {},
   "source": [
    "Оба графика имеют нормальное распределение. Распределение тарифа Ультра незначительно скошено вправо, а тарифа Смарт - влево. "
   ]
  },
  {
   "cell_type": "markdown",
   "id": "d8112aea",
   "metadata": {},
   "source": [
    "### 3.2.2. Анализ использования смс пользователями"
   ]
  },
  {
   "cell_type": "code",
   "execution_count": 116,
   "id": "fe72dbf7",
   "metadata": {
    "scrolled": false
   },
   "outputs": [
    {
     "data": {
      "text/plain": [
       "Text(0.5, 0, 'Расход смс пользователя в месяц')"
      ]
     },
     "execution_count": 116,
     "metadata": {},
     "output_type": "execute_result"
    },
    {
     "data": {
      "image/png": "[encoded data removed]",
      "text/plain": [
       "<Figure size 960x640 with 1 Axes>"
      ]
     },
     "metadata": {
      "needs_background": "light"
     },
     "output_type": "display_data"
    }
   ],
   "source": [
    "ultra_plot = ultra_df.sms_used\n",
    "smart_plot = smart_df.sms_used\n",
    "\n",
    "figure(figsize=(12, 8), dpi=80)\n",
    "pyplot.grid(color='black', \n",
    "            linestyle=\"dotted\", \n",
    "            linewidth=1)\n",
    "pyplot.hist(ultra_plot, \n",
    "            bins=20, \n",
    "            alpha=0.5, \n",
    "            label='ultra')\n",
    "pyplot.hist(smart_plot, \n",
    "            bins=20, \n",
    "            alpha=0.4, \n",
    "            label='smart')\n",
    "pyplot.title(label='Распределение использования смс пользователями в зависимости от тарифа', \n",
    "             fontdict={'fontsize': 'x-large',\n",
    "                       'fontweight': 'semibold'})\n",
    "pyplot.legend(title='Название тарифа',\n",
    "              title_fontsize='large', \n",
    "              loc='upper right')\n",
    "pyplot.ylabel(\"Количество пользователей\", \n",
    "              fontsize='large')\n",
    "pyplot.xlabel(\"Расход смс пользователя в месяц\", \n",
    "              fontsize='large')"
   ]
  },
  {
   "cell_type": "code",
   "execution_count": 117,
   "id": "ed00abc8",
   "metadata": {},
   "outputs": [
    {
     "name": "stdout",
     "output_type": "stream",
     "text": [
      "Среднее для тарифа Ультра: 49.36345177664975\n",
      "Медиана для тарифа Ультра: 38.0\n",
      "Среднее для тарифа Смарт: 33.384028712427096\n",
      "Медиана для тарифа Смарт: 28.0\n"
     ]
    }
   ],
   "source": [
    "# проверим совпадение среднего и медианы: \n",
    "\n",
    "print(f'Среднее для тарифа Ультра: {ultra_df.sms_used.mean()}')\n",
    "print(f'Медиана для тарифа Ультра: {ultra_df.sms_used.median()}')\n",
    "print(f'Среднее для тарифа Смарт: {smart_df.sms_used.mean()}')\n",
    "print(f'Медиана для тарифа Смарт: {smart_df.sms_used.median()}')"
   ]
  },
  {
   "cell_type": "markdown",
   "id": "e04582ff",
   "metadata": {},
   "source": [
    "#### _Промежуточные выводы_"
   ]
  },
  {
   "cell_type": "markdown",
   "id": "0d97cc7d",
   "metadata": {},
   "source": [
    "Оба графика скошены вправо.<br>\n",
    "Для пользователей обоих тарифов характерен всплеск в диапазоне значений от 0 до 10 - т.е. количество пользователей не использующих или почти не использующих смс достаточно велико. <br>\n",
    "Доля пользователей тарифа **Смарт**, превышающих лимит в 50 смс достаточна велика. <br>\n",
    "Пользователи тарифа **Ультра** не выбирают пакет в 1000 смс даже в единичных случаях.  "
   ]
  },
  {
   "cell_type": "markdown",
   "id": "6f422ce7",
   "metadata": {},
   "source": [
    "### 3.2.3. Анализ использования интернет трафика пользователями"
   ]
  },
  {
   "cell_type": "code",
   "execution_count": 118,
   "id": "45b03586",
   "metadata": {},
   "outputs": [
    {
     "data": {
      "text/plain": [
       "Text(0.5, 0, 'Расход трафика пользователя в месяц, ГБ')"
      ]
     },
     "execution_count": 118,
     "metadata": {},
     "output_type": "execute_result"
    },
    {
     "data": {
      "image/png": "[encoded data removed]",
      "text/plain": [
       "<Figure size 960x640 with 1 Axes>"
      ]
     },
     "metadata": {
      "needs_background": "light"
     },
     "output_type": "display_data"
    }
   ],
   "source": [
    "ultra_plot = ultra_df.gb_used\n",
    "smart_plot = smart_df.gb_used\n",
    "\n",
    "figure(figsize=(12, 8), dpi=80)\n",
    "pyplot.grid(color='black', \n",
    "            linestyle=\"dotted\", \n",
    "            linewidth=1)\n",
    "pyplot.hist(ultra_plot, \n",
    "            bins=20, \n",
    "            alpha=0.5, \n",
    "            label='ultra')\n",
    "pyplot.hist(smart_plot, \n",
    "            bins=20, \n",
    "            alpha=0.4, \n",
    "            label='smart')\n",
    "pyplot.title(label='Распределение использования интернет трафика пользователями в зависимости от тарифа', \n",
    "             fontdict={'fontsize': 'x-large',\n",
    "                       'fontweight': 'semibold'})\n",
    "pyplot.legend(title='Название тарифа',\n",
    "              title_fontsize='large', \n",
    "              loc='upper right')\n",
    "pyplot.ylabel(\"Количество пользователей\", \n",
    "              fontsize='large')\n",
    "pyplot.xlabel(\"Расход трафика пользователя в месяц, ГБ\", \n",
    "              fontsize='large')"
   ]
  },
  {
   "cell_type": "code",
   "execution_count": 119,
   "id": "1f685c23",
   "metadata": {
    "scrolled": true
   },
   "outputs": [
    {
     "name": "stdout",
     "output_type": "stream",
     "text": [
      "Среднее для тарифа Ультра: 19.494416243654822\n",
      "Медиана для тарифа Ультра: 19.0\n",
      "Среднее для тарифа Смарт: 16.328847016599372\n",
      "Медиана для тарифа Смарт: 17.0\n"
     ]
    }
   ],
   "source": [
    "# проверим совпадение среднего и медианы: \n",
    "\n",
    "print(f'Среднее для тарифа Ультра: {ultra_df.gb_used.mean()}')\n",
    "print(f'Медиана для тарифа Ультра: {ultra_df.gb_used.median()}')\n",
    "print(f'Среднее для тарифа Смарт: {smart_df.gb_used.mean()}')\n",
    "print(f'Медиана для тарифа Смарт: {smart_df.gb_used.median()}')"
   ]
  },
  {
   "cell_type": "markdown",
   "id": "1309148b",
   "metadata": {},
   "source": [
    "#### _Промежуточные выводы_"
   ]
  },
  {
   "cell_type": "markdown",
   "id": "05dad13e",
   "metadata": {},
   "source": [
    "Оба графика имеют нормальное распределение. Распределение тарифа Смарт незначительно скошено влево.<br>\n",
    "Пользователи обоих тарифов превышают лимиты по интернет трафику (15 и 30 Гб соответственно). <br>\n",
    "При этом доля пользователей тарифа **Смарт**, превысивших свой лимит, гораздо выше, нежели доля таких пользователей тарифа **Ультра**. <br>\n",
    "Оба графика показывают пиковые значения в районе 15 и 20 Гб.<br>"
   ]
  },
  {
   "cell_type": "markdown",
   "id": "e5862dd4",
   "metadata": {},
   "source": [
    "### 3.2.4. Анализ фактических расходов пользователей"
   ]
  },
  {
   "cell_type": "markdown",
   "id": "0cc835a3",
   "metadata": {},
   "source": [
    "Получим статистическое описание данных по столбцу actual_payment для обеих выборок. "
   ]
  },
  {
   "cell_type": "code",
   "execution_count": 120,
   "id": "1059cd75",
   "metadata": {},
   "outputs": [
    {
     "data": {
      "text/plain": [
       "count    985.00\n",
       "mean    2070.15\n",
       "std      376.19\n",
       "min     1950.00\n",
       "25%     1950.00\n",
       "50%     1950.00\n",
       "75%     1950.00\n",
       "max     4800.00\n",
       "Name: actual_payment, dtype: float64"
      ]
     },
     "execution_count": 120,
     "metadata": {},
     "output_type": "execute_result"
    }
   ],
   "source": [
    "ultra_df.actual_payment.describe()"
   ]
  },
  {
   "cell_type": "code",
   "execution_count": 121,
   "id": "0f55c71e",
   "metadata": {},
   "outputs": [
    {
     "data": {
      "text/plain": [
       "count   2229.00\n",
       "mean    1289.97\n",
       "std      818.40\n",
       "min      550.00\n",
       "25%      550.00\n",
       "50%     1023.00\n",
       "75%     1750.00\n",
       "max     6770.00\n",
       "Name: actual_payment, dtype: float64"
      ]
     },
     "execution_count": 121,
     "metadata": {},
     "output_type": "execute_result"
    }
   ],
   "source": [
    "smart_df.actual_payment.describe()"
   ]
  },
  {
   "cell_type": "markdown",
   "id": "71220029",
   "metadata": {},
   "source": [
    "Построим диаграмму распределения ежемесячных затрат пользователей в зависимости от тарифа. "
   ]
  },
  {
   "cell_type": "code",
   "execution_count": 130,
   "id": "52187c6e",
   "metadata": {
    "scrolled": false
   },
   "outputs": [
    {
     "data": {
      "text/plain": [
       "Text(0.5, 0, 'Расход пользователя в месяц, руб.')"
      ]
     },
     "execution_count": 130,
     "metadata": {},
     "output_type": "execute_result"
    },
    {
     "data": {
      "image/png": "[encoded data removed]",
      "text/plain": [
       "<Figure size 960x640 with 1 Axes>"
      ]
     },
     "metadata": {
      "needs_background": "light"
     },
     "output_type": "display_data"
    }
   ],
   "source": [
    "ultra_plot = ultra_df.actual_payment\n",
    "smart_plot = smart_df.actual_payment\n",
    "\n",
    "figure(figsize=(12, 8), dpi=80)\n",
    "pyplot.grid(color='black', \n",
    "            linestyle=\"dotted\", \n",
    "            linewidth=1)\n",
    "pyplot.hist(ultra_plot, \n",
    "            bins=20, \n",
    "            alpha=0.5, \n",
    "            label='ultra')\n",
    "pyplot.hist(smart_plot, \n",
    "            bins=20, \n",
    "            alpha=0.4, \n",
    "            label='smart')\n",
    "pyplot.title(label='Распределение расходов пользователей в месяц в зависимости от тарифа', \n",
    "             fontdict={'fontsize': 'x-large',\n",
    "                       'fontweight': 'semibold'})\n",
    "pyplot.legend(title='Название тарифа',\n",
    "              title_fontsize='large', \n",
    "              loc='upper right')\n",
    "pyplot.ylabel(\"Количество пользователей\", \n",
    "              fontsize='large')\n",
    "pyplot.xlabel(\"Расход пользователя в месяц, руб.\", \n",
    "              fontsize='large')"
   ]
  },
  {
   "cell_type": "code",
   "execution_count": 123,
   "id": "e351ca13",
   "metadata": {},
   "outputs": [
    {
     "name": "stdout",
     "output_type": "stream",
     "text": [
      "Среднее для тарифа Ультра: 2070.1522842639592\n",
      "Медиана для тарифа Ультра: 1950.0\n",
      "Среднее для тарифа Смарт: 1289.9735307312696\n",
      "Медиана для тарифа Смарт: 1023.0\n"
     ]
    }
   ],
   "source": [
    "# проверим совпадение среднего и медианы: \n",
    "\n",
    "print(f'Среднее для тарифа Ультра: {ultra_df.actual_payment.mean()}')\n",
    "print(f'Медиана для тарифа Ультра: {ultra_df.actual_payment.median()}')\n",
    "print(f'Среднее для тарифа Смарт: {smart_df.actual_payment.mean()}')\n",
    "print(f'Медиана для тарифа Смарт: {smart_df.actual_payment.median()}')"
   ]
  },
  {
   "cell_type": "markdown",
   "id": "424fdf9e",
   "metadata": {},
   "source": [
    "#### _Промежуточные выводы_"
   ]
  },
  {
   "cell_type": "markdown",
   "id": "03c6d7e5",
   "metadata": {},
   "source": [
    "График распределения затрат пользователей тарифа **Ультра** скошен вправо, пользователей тарифа **Смарт** - влево.<br>\n",
    "Затраты на услуги связи по обоим тарифам показывают пиковые значения для пользователей, которые предпочитают не выходить за рамки лимитов по тарифу. При этом среди пользователей тарифа **Ультра** таких подавляющее большинство, а значит для компании средний пользователь тарифа **Смарт** выгоднее, т.к. он чаще будет превышать лимиты по тарифу, тем более с учетом численного перевеса пользователей тарифа **Смарт**. "
   ]
  },
  {
   "cell_type": "code",
   "execution_count": 131,
   "id": "b5d11842",
   "metadata": {},
   "outputs": [
    {
     "data": {
      "text/plain": [
       "Text(0.5, 0, 'Расход пользователя в месяц, руб.')"
      ]
     },
     "execution_count": 131,
     "metadata": {},
     "output_type": "execute_result"
    },
    {
     "data": {
      "image/png": "[encoded data removed]",
      "text/plain": [
       "<Figure size 960x640 with 1 Axes>"
      ]
     },
     "metadata": {
      "needs_background": "light"
     },
     "output_type": "display_data"
    }
   ],
   "source": [
    "ultra_plot = ultra_df.actual_payment\n",
    "\n",
    "figure(figsize=(12, 8), dpi=80)\n",
    "pyplot.grid(color='black', \n",
    "            linestyle=\"dotted\", \n",
    "            linewidth=1)\n",
    "pyplot.hist(ultra_plot, \n",
    "            bins=20, \n",
    "            alpha=0.5, \n",
    "            label='ultra')\n",
    "pyplot.title(label='Распределение расходов пользователей тарифа ULTRA в месяц в зависимости от тарифа', \n",
    "             fontdict={'fontsize': 'x-large',\n",
    "                       'fontweight': 'semibold'})\n",
    "pyplot.legend(title='Название тарифа',\n",
    "              title_fontsize='large', \n",
    "              loc='upper right')\n",
    "pyplot.ylabel(\"Количество пользователей\", \n",
    "              fontsize='large')\n",
    "pyplot.xlabel(\"Расход пользователя в месяц, руб.\", \n",
    "              fontsize='large')"
   ]
  },
  {
   "cell_type": "code",
   "execution_count": 132,
   "id": "fc3146bf",
   "metadata": {},
   "outputs": [
    {
     "data": {
      "text/plain": [
       "Text(0.5, 0, 'Расход пользователя в месяц, руб.')"
      ]
     },
     "execution_count": 132,
     "metadata": {},
     "output_type": "execute_result"
    },
    {
     "data": {
      "image/png": "[encoded data removed]",
      "text/plain": [
       "<Figure size 960x640 with 1 Axes>"
      ]
     },
     "metadata": {
      "needs_background": "light"
     },
     "output_type": "display_data"
    }
   ],
   "source": [
    "smart_plot = smart_df.actual_payment\n",
    "\n",
    "figure(figsize=(12, 8), dpi=80)\n",
    "pyplot.grid(color='black', \n",
    "            linestyle=\"dotted\", \n",
    "            linewidth=1)\n",
    "pyplot.hist(smart_plot, \n",
    "            bins=20, \n",
    "            alpha=0.4, \n",
    "            label='smart')\n",
    "pyplot.title(label='Распределение расходов пользователей тарифа SMART в месяц в зависимости от тарифа', \n",
    "             fontdict={'fontsize': 'x-large',\n",
    "                       'fontweight': 'semibold'})\n",
    "pyplot.legend(title='Название тарифа',\n",
    "              title_fontsize='large', \n",
    "              loc='upper right')\n",
    "pyplot.ylabel(\"Количество пользователей\", \n",
    "              fontsize='large')\n",
    "pyplot.xlabel(\"Расход пользователя в месяц, руб.\", \n",
    "              fontsize='large')"
   ]
  },
  {
   "cell_type": "markdown",
   "id": "246fd245",
   "metadata": {},
   "source": [
    "## 3.3. Проверка гипотезы о равенстве средней выручки пользователей тарифов **Ультра** и **Смарт**"
   ]
  },
  {
   "cell_type": "markdown",
   "id": "4578bb0e",
   "metadata": {},
   "source": [
    "**Нулевая гипотеза**: средняя выручка пользователей тарифов одинакова. <br>\n",
    "**Альтернативная гипотеза**: средняя выручка пользователей тарифов различается."
   ]
  },
  {
   "cell_type": "code",
   "execution_count": 126,
   "id": "1781175a",
   "metadata": {},
   "outputs": [
    {
     "name": "stdout",
     "output_type": "stream",
     "text": [
      "p-значение:  0.0\n",
      "Отвергаем нулевую гипотезу\n"
     ]
    }
   ],
   "source": [
    "sample_1 = ultra_df['actual_payment']\n",
    "sample_2 = smart_df['actual_payment']\n",
    "\n",
    "alpha = .05  # критический уровень статистической значимости, если p-value окажется меньше него - отвегнем гипотезу\n",
    "\n",
    "results = st.ttest_ind(\n",
    "    sample_1,\n",
    "    sample_2,\n",
    "    equal_var=False  # т.к. размеры выборок отличаются\n",
    ")\n",
    "\n",
    "print('p-значение: ', round(results.pvalue, 10))\n",
    "\n",
    "if results.pvalue < alpha:\n",
    "    print(\"Отвергаем нулевую гипотезу\")\n",
    "else:\n",
    "    print(\"Не получилось отвергнуть нулевую гипотезу\")"
   ]
  },
  {
   "cell_type": "markdown",
   "id": "ff7e309c",
   "metadata": {},
   "source": [
    "## 3.4. Проверка гипотезы о равенстве средней выручки пользователей, проживающих в столице и за ее пределами"
   ]
  },
  {
   "cell_type": "markdown",
   "id": "2a621ad7",
   "metadata": {},
   "source": [
    "**Нулевая гипотеза**: средняя выручка пользователей в столице совпадает с выручкой пользователей за пределами столицы. <br>\n",
    "**Альтернативная гипотеза**: средняя выручка пользователей различается в зависимости от нахождения в столичном регионе."
   ]
  },
  {
   "cell_type": "code",
   "execution_count": 127,
   "id": "45f0f742",
   "metadata": {},
   "outputs": [
    {
     "name": "stdout",
     "output_type": "stream",
     "text": [
      "p-значение:  0.5257376664\n",
      "Не получилось отвергнуть нулевую гипотезу\n"
     ]
    }
   ],
   "source": [
    "sample_1 = df.query(\"is_capital == 1\")['actual_payment']\n",
    "sample_2 = df.query(\"is_capital == 0\")['actual_payment']\n",
    "\n",
    "alpha = .05  # критический уровень статистической значимости, если p-value окажется меньше него - отвегнем гипотезу\n",
    "\n",
    "results = st.ttest_ind(\n",
    "    sample_1,\n",
    "    sample_2,\n",
    "    equal_var=False  # т.к. размеры выборок отличаются примерно в 4 раза\n",
    ")\n",
    "\n",
    "print('p-значение: ', round(results.pvalue, 10))\n",
    "\n",
    "if results.pvalue < alpha:\n",
    "    print(\"Отвергаем нулевую гипотезу\")\n",
    "else:\n",
    "    print(\"Не получилось отвергнуть нулевую гипотезу\")"
   ]
  },
  {
   "cell_type": "markdown",
   "id": "fcee39b5",
   "metadata": {},
   "source": [
    "# 4. **Общий вывод**"
   ]
  },
  {
   "cell_type": "markdown",
   "id": "6c9936f3",
   "metadata": {},
   "source": [
    "Ввиду того, что проверка гипотезы о равенстве средних затрат пользователя вне зависимости от тарифа не подтвердилась, тариф **Смарт** должен быть признан более выгодным для оператора, т.к. несмотря на низкую стоимость ежемесячной платы (благодаря чему количество пользователей данного тарифа выше), пользователи данного тарифа склонны к перерасходу наиболее значимой статьи расхода - интернет-трафика. <br>\n",
    "Потребительское поведение пользователей в столице не отличается от поведенческого поведения пользователей за пределами столицы.  "
   ]
  }
 ],
 "metadata": {
  "ExecuteTimeLog": [
   {
    "duration": 1016,
    "start_time": "2022-01-30T13:46:22.672Z"
   },
   {
    "duration": 352,
    "start_time": "2022-01-30T13:46:23.690Z"
   },
   {
    "duration": 502,
    "start_time": "2022-01-30T13:46:24.043Z"
   },
   {
    "duration": 2,
    "start_time": "2022-01-30T13:46:24.547Z"
   },
   {
    "duration": 18,
    "start_time": "2022-01-30T13:46:24.551Z"
   },
   {
    "duration": 15,
    "start_time": "2022-01-30T13:46:24.571Z"
   },
   {
    "duration": 16,
    "start_time": "2022-01-30T13:46:24.588Z"
   },
   {
    "duration": 45,
    "start_time": "2022-01-30T13:46:24.606Z"
   },
   {
    "duration": 5,
    "start_time": "2022-01-30T13:46:24.653Z"
   },
   {
    "duration": 2579,
    "start_time": "2022-01-30T13:46:24.660Z"
   },
   {
    "duration": 7,
    "start_time": "2022-01-30T13:46:27.240Z"
   },
   {
    "duration": 22,
    "start_time": "2022-01-30T13:46:27.249Z"
   },
   {
    "duration": 4,
    "start_time": "2022-01-30T13:46:27.272Z"
   },
   {
    "duration": 8,
    "start_time": "2022-01-30T13:46:27.277Z"
   },
   {
    "duration": 13,
    "start_time": "2022-01-30T13:46:27.287Z"
   },
   {
    "duration": 30,
    "start_time": "2022-01-30T13:46:27.302Z"
   },
   {
    "duration": 6,
    "start_time": "2022-01-30T13:46:27.333Z"
   },
   {
    "duration": 4,
    "start_time": "2022-01-30T13:46:27.340Z"
   },
   {
    "duration": 19,
    "start_time": "2022-01-30T13:46:27.345Z"
   },
   {
    "duration": 4,
    "start_time": "2022-01-30T13:46:27.366Z"
   },
   {
    "duration": 2169,
    "start_time": "2022-01-30T13:46:27.371Z"
   },
   {
    "duration": 7,
    "start_time": "2022-01-30T13:46:29.542Z"
   },
   {
    "duration": 10,
    "start_time": "2022-01-30T13:46:29.551Z"
   },
   {
    "duration": 12,
    "start_time": "2022-01-30T13:46:29.562Z"
   },
   {
    "duration": 4,
    "start_time": "2022-01-30T13:46:29.575Z"
   },
   {
    "duration": 8,
    "start_time": "2022-01-30T13:46:29.580Z"
   },
   {
    "duration": 43,
    "start_time": "2022-01-30T13:46:29.592Z"
   },
   {
    "duration": 15,
    "start_time": "2022-01-30T13:46:29.637Z"
   },
   {
    "duration": 4,
    "start_time": "2022-01-30T13:46:29.653Z"
   },
   {
    "duration": 11,
    "start_time": "2022-01-30T13:46:29.658Z"
   },
   {
    "duration": 3,
    "start_time": "2022-01-30T13:46:29.671Z"
   },
   {
    "duration": 8,
    "start_time": "2022-01-30T13:46:29.676Z"
   },
   {
    "duration": 8,
    "start_time": "2022-01-30T13:46:29.685Z"
   },
   {
    "duration": 7,
    "start_time": "2022-01-30T13:46:29.694Z"
   },
   {
    "duration": 28,
    "start_time": "2022-01-30T13:46:29.702Z"
   },
   {
    "duration": 10,
    "start_time": "2022-01-30T13:46:29.732Z"
   },
   {
    "duration": 11,
    "start_time": "2022-01-30T13:46:29.743Z"
   },
   {
    "duration": 7,
    "start_time": "2022-01-30T13:46:29.755Z"
   },
   {
    "duration": 12,
    "start_time": "2022-01-30T13:46:29.763Z"
   },
   {
    "duration": 5,
    "start_time": "2022-01-30T13:46:29.776Z"
   },
   {
    "duration": 367,
    "start_time": "2022-01-30T13:46:29.782Z"
   },
   {
    "duration": 4,
    "start_time": "2022-01-30T13:46:30.150Z"
   },
   {
    "duration": 13,
    "start_time": "2022-01-30T13:46:30.156Z"
   },
   {
    "duration": 18,
    "start_time": "2022-01-30T13:46:30.170Z"
   },
   {
    "duration": 76,
    "start_time": "2022-01-30T13:46:30.190Z"
   },
   {
    "duration": 33,
    "start_time": "2022-01-30T13:46:30.268Z"
   },
   {
    "duration": 36,
    "start_time": "2022-01-30T13:46:30.303Z"
   },
   {
    "duration": 9,
    "start_time": "2022-01-30T13:46:30.341Z"
   },
   {
    "duration": 25,
    "start_time": "2022-01-30T13:46:30.351Z"
   },
   {
    "duration": 8,
    "start_time": "2022-01-30T13:46:30.377Z"
   },
   {
    "duration": 26,
    "start_time": "2022-01-30T13:46:30.387Z"
   },
   {
    "duration": 19,
    "start_time": "2022-01-30T13:46:30.414Z"
   },
   {
    "duration": 29,
    "start_time": "2022-01-30T13:46:30.434Z"
   },
   {
    "duration": 10,
    "start_time": "2022-01-30T13:46:30.464Z"
   },
   {
    "duration": 16,
    "start_time": "2022-01-30T13:46:30.475Z"
   },
   {
    "duration": 6,
    "start_time": "2022-01-30T13:46:30.493Z"
   },
   {
    "duration": 13,
    "start_time": "2022-01-30T13:46:30.501Z"
   },
   {
    "duration": 29,
    "start_time": "2022-01-30T13:46:30.515Z"
   },
   {
    "duration": 3,
    "start_time": "2022-01-30T13:46:30.545Z"
   },
   {
    "duration": 28,
    "start_time": "2022-01-30T13:46:30.549Z"
   },
   {
    "duration": 12,
    "start_time": "2022-01-30T13:46:30.578Z"
   },
   {
    "duration": 43,
    "start_time": "2022-01-30T13:46:30.592Z"
   },
   {
    "duration": 7,
    "start_time": "2022-01-30T13:46:30.636Z"
   },
   {
    "duration": 39,
    "start_time": "2022-01-30T13:46:30.644Z"
   },
   {
    "duration": 36,
    "start_time": "2022-01-30T13:46:30.684Z"
   },
   {
    "duration": 4,
    "start_time": "2022-01-30T13:46:30.721Z"
   },
   {
    "duration": 14,
    "start_time": "2022-01-30T13:46:30.726Z"
   },
   {
    "duration": 23,
    "start_time": "2022-01-30T13:46:30.741Z"
   },
   {
    "duration": 10,
    "start_time": "2022-01-30T13:46:30.765Z"
   },
   {
    "duration": 13,
    "start_time": "2022-01-30T13:46:30.776Z"
   },
   {
    "duration": 6,
    "start_time": "2022-01-30T13:46:30.791Z"
   },
   {
    "duration": 14,
    "start_time": "2022-01-30T13:46:30.798Z"
   },
   {
    "duration": 8,
    "start_time": "2022-01-30T13:46:30.814Z"
   },
   {
    "duration": 9,
    "start_time": "2022-01-30T13:46:30.823Z"
   },
   {
    "duration": 5,
    "start_time": "2022-01-30T13:46:30.833Z"
   },
   {
    "duration": 6,
    "start_time": "2022-01-30T13:46:30.839Z"
   },
   {
    "duration": 6,
    "start_time": "2022-01-30T13:46:30.847Z"
   },
   {
    "duration": 8,
    "start_time": "2022-01-30T13:46:30.855Z"
   },
   {
    "duration": 23,
    "start_time": "2022-01-30T13:46:30.865Z"
   },
   {
    "duration": 7,
    "start_time": "2022-01-30T13:46:30.890Z"
   },
   {
    "duration": 6,
    "start_time": "2022-01-30T13:46:30.902Z"
   },
   {
    "duration": 8,
    "start_time": "2022-01-30T13:46:30.910Z"
   },
   {
    "duration": 15,
    "start_time": "2022-01-30T13:46:30.919Z"
   },
   {
    "duration": 19,
    "start_time": "2022-01-30T13:46:30.936Z"
   },
   {
    "duration": 2,
    "start_time": "2022-01-30T13:46:30.957Z"
   },
   {
    "duration": 74,
    "start_time": "2022-01-30T13:46:30.960Z"
   },
   {
    "duration": 4,
    "start_time": "2022-01-30T13:46:31.036Z"
   },
   {
    "duration": 5,
    "start_time": "2022-01-30T13:46:31.042Z"
   },
   {
    "duration": 63,
    "start_time": "2022-01-30T13:46:31.048Z"
   },
   {
    "duration": 4,
    "start_time": "2022-01-30T13:46:31.112Z"
   },
   {
    "duration": 4,
    "start_time": "2022-01-30T13:46:31.127Z"
   },
   {
    "duration": 5,
    "start_time": "2022-01-30T13:46:31.132Z"
   },
   {
    "duration": 2172,
    "start_time": "2022-01-30T13:46:31.139Z"
   },
   {
    "duration": 20,
    "start_time": "2022-01-30T13:46:33.313Z"
   },
   {
    "duration": 7,
    "start_time": "2022-01-30T13:46:33.335Z"
   },
   {
    "duration": 10,
    "start_time": "2022-01-30T13:46:33.343Z"
   },
   {
    "duration": 348,
    "start_time": "2022-01-30T13:46:33.354Z"
   },
   {
    "duration": 9,
    "start_time": "2022-01-30T13:46:33.704Z"
   },
   {
    "duration": 13,
    "start_time": "2022-01-30T13:46:33.715Z"
   },
   {
    "duration": 6,
    "start_time": "2022-01-30T13:46:33.730Z"
   },
   {
    "duration": 7,
    "start_time": "2022-01-30T13:46:33.737Z"
   },
   {
    "duration": 8,
    "start_time": "2022-01-30T13:46:33.745Z"
   },
   {
    "duration": 5,
    "start_time": "2022-01-30T13:46:33.754Z"
   },
   {
    "duration": 6,
    "start_time": "2022-01-30T13:46:33.761Z"
   },
   {
    "duration": 8,
    "start_time": "2022-01-30T13:46:33.768Z"
   },
   {
    "duration": 5,
    "start_time": "2022-01-30T13:46:33.778Z"
   },
   {
    "duration": 8,
    "start_time": "2022-01-30T13:46:33.784Z"
   },
   {
    "duration": 1588,
    "start_time": "2022-01-30T13:46:33.793Z"
   },
   {
    "duration": 11,
    "start_time": "2022-01-30T13:46:35.383Z"
   },
   {
    "duration": 13,
    "start_time": "2022-01-30T13:46:35.395Z"
   },
   {
    "duration": 22,
    "start_time": "2022-01-30T13:46:35.409Z"
   },
   {
    "duration": 6,
    "start_time": "2022-01-30T13:46:35.432Z"
   },
   {
    "duration": 317,
    "start_time": "2022-01-30T13:46:35.440Z"
   },
   {
    "duration": 321,
    "start_time": "2022-01-30T13:46:35.759Z"
   },
   {
    "duration": 329,
    "start_time": "2022-01-30T13:46:36.082Z"
   },
   {
    "duration": 337,
    "start_time": "2022-01-30T13:46:36.412Z"
   },
   {
    "duration": 5,
    "start_time": "2022-01-30T13:46:36.750Z"
   },
   {
    "duration": 386,
    "start_time": "2022-01-30T13:46:36.756Z"
   },
   {
    "duration": 4,
    "start_time": "2022-01-30T13:46:37.144Z"
   },
   {
    "duration": 340,
    "start_time": "2022-01-30T13:46:37.150Z"
   },
   {
    "duration": 5,
    "start_time": "2022-01-30T13:46:37.491Z"
   },
   {
    "duration": 7,
    "start_time": "2022-01-30T13:46:37.498Z"
   },
   {
    "duration": 24,
    "start_time": "2022-01-30T13:46:37.507Z"
   },
   {
    "duration": 347,
    "start_time": "2022-01-30T13:46:37.533Z"
   },
   {
    "duration": 5,
    "start_time": "2022-01-30T13:46:37.882Z"
   },
   {
    "duration": 6,
    "start_time": "2022-01-30T13:46:37.889Z"
   },
   {
    "duration": 30,
    "start_time": "2022-01-30T13:46:37.897Z"
   },
   {
    "duration": 27,
    "start_time": "2022-01-30T15:05:45.228Z"
   },
   {
    "duration": 309,
    "start_time": "2022-01-30T15:08:06.337Z"
   },
   {
    "duration": 25,
    "start_time": "2022-01-30T15:08:08.634Z"
   },
   {
    "duration": 13,
    "start_time": "2022-01-30T15:11:32.766Z"
   },
   {
    "duration": 28,
    "start_time": "2022-01-30T15:11:46.906Z"
   }
  ],
  "kernelspec": {
   "display_name": "Python 3 (ipykernel)",
   "language": "python",
   "name": "python3"
  },
  "language_info": {
   "codemirror_mode": {
    "name": "ipython",
    "version": 3
   },
   "file_extension": ".py",
   "mimetype": "text/x-python",
   "name": "python",
   "nbconvert_exporter": "python",
   "pygments_lexer": "ipython3",
   "version": "3.8.12"
  },
  "toc": {
   "base_numbering": 1,
   "nav_menu": {},
   "number_sections": false,
   "sideBar": true,
   "skip_h1_title": false,
   "title_cell": "Содержание",
   "title_sidebar": "Содержание",
   "toc_cell": true,
   "toc_position": {
    "height": "calc(100% - 180px)",
    "left": "10px",
    "top": "150px",
    "width": "166px"
   },
   "toc_section_display": true,
   "toc_window_display": true
  },
  "varInspector": {
   "cols": {
    "lenName": 16,
    "lenType": 16,
    "lenVar": 40
   },
   "kernels_config": {
    "python": {
     "delete_cmd_postfix": "",
     "delete_cmd_prefix": "del ",
     "library": "var_list.py",
     "varRefreshCmd": "print(var_dic_list())"
    },
    "r": {
     "delete_cmd_postfix": ") ",
     "delete_cmd_prefix": "rm(",
     "library": "var_list.r",
     "varRefreshCmd": "cat(var_dic_list()) "
    }
   },
   "types_to_exclude": [
    "module",
    "function",
    "builtin_function_or_method",
    "instance",
    "_Feature"
   ],
   "window_display": false
  }
 },
 "nbformat": 4,
 "nbformat_minor": 5
}
