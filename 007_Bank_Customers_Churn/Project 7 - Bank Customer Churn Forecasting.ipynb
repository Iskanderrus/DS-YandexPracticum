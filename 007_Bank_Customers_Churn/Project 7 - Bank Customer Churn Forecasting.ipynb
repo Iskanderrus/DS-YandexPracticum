{
 "cells": [
  {
   "cell_type": "markdown",
   "id": "353fa62f",
   "metadata": {},
   "source": [
    "# Отток клиентов"
   ]
  },
  {
   "cell_type": "markdown",
   "id": "4eb6c89d",
   "metadata": {},
   "source": [
    "## Описание проекта"
   ]
  },
  {
   "cell_type": "markdown",
   "id": "7530c3b3",
   "metadata": {},
   "source": [
    "Из «Бета-Банка» стали уходить клиенты. Каждый месяц. Немного, но заметно. Банковские маркетологи посчитали: сохранять текущих клиентов дешевле, чем привлекать новых.<br><br>\n",
    "Нужно спрогнозировать, уйдёт клиент из банка в ближайшее время или нет. Вам предоставлены исторические данные о поведении клиентов и расторжении договоров с банком.<br><br>\n",
    "Постройте модель с предельно большим значением F1-меры. Чтобы сдать проект успешно, нужно довести метрику до 0.59. Проверьте F1-меру на тестовой выборке самостоятельно.<br><br>\n",
    "Дополнительно измеряйте AUC-ROC, сравнивайте её значение с F1-мерой."
   ]
  },
  {
   "cell_type": "markdown",
   "id": "c1e1307f",
   "metadata": {},
   "source": [
    "## Описание данных"
   ]
  },
  {
   "cell_type": "markdown",
   "id": "d366b788",
   "metadata": {},
   "source": [
    "Данные находятся в файле /datasets/Churn.csv (англ. «отток клиентов»).\n",
    "<br><br><strong>Признаки</strong>\n",
    "<br><br><em>RowNumber</em> — индекс строки в данных\n",
    "<br><em>CustomerId</em> — уникальный идентификатор клиента\n",
    "<br><em>Surname</em> — фамилия\n",
    "<br><em>CreditScore</em> — кредитный рейтинг\n",
    "<br><em>Geography</em> — страна проживания\n",
    "<br><em>Gender</em> — пол\n",
    "<br><em>Age</em> — возраст\n",
    "<br><em>Tenure</em> — сколько лет человек является клиентом банка\n",
    "<br><em>Balance</em> — баланс на счёте\n",
    "<br><em>NumOfProducts</em> — количество продуктов банка, используемых клиентом\n",
    "<br><em>HasCrCard</em> — наличие кредитной карты\n",
    "<br><em>IsActiveMember</em> — активность клиента\n",
    "<br><em>EstimatedSalary</em> — предполагаемая зарплата\n",
    "<br><br><strong>Целевой признак</strong>\n",
    "<br><br><em>Exited</em> — факт ухода клиента\n"
   ]
  },
  {
   "cell_type": "markdown",
   "id": "2545f351",
   "metadata": {},
   "source": [
    "# Изучение данных из файла & предварительная подготовка"
   ]
  },
  {
   "cell_type": "markdown",
   "id": "fcc433b1",
   "metadata": {},
   "source": [
    "## Импорт библиотек"
   ]
  },
  {
   "cell_type": "code",
   "execution_count": 1,
   "id": "4c0220ef",
   "metadata": {},
   "outputs": [],
   "source": [
    "import pandas as pd\n",
    "import os\n",
    "import numpy as np\n",
    "import re\n",
    "\n",
    "from matplotlib import pyplot as plt\n",
    "\n",
    "from sklearn.tree import DecisionTreeClassifier\n",
    "from sklearn.ensemble import RandomForestClassifier\n",
    "from sklearn.linear_model import LogisticRegression\n",
    "\n",
    "from sklearn.preprocessing import StandardScaler\n",
    "from sklearn.metrics import f1_score, roc_auc_score, accuracy_score, classification_report, roc_curve, confusion_matrix, mean_absolute_error\n",
    "from sklearn.model_selection import train_test_split\n",
    "from sklearn.utils import shuffle\n",
    "\n",
    "pd.set_option('display.float_format', lambda x: '%.2f' % x)\n",
    "plt.style.use('seaborn-deep')\n",
    "%matplotlib inline"
   ]
  },
  {
   "cell_type": "markdown",
   "id": "106cc508",
   "metadata": {},
   "source": [
    "## Откроем локальную или веб-версию файла данных"
   ]
  },
  {
   "cell_type": "markdown",
   "id": "a89b32ab",
   "metadata": {},
   "source": [
    "Напишем функцию поиска файла на локальном диске или в сети;\n",
    "<br>После того как файл найден, прочтем его, получив детальную сводку."
   ]
  },
  {
   "cell_type": "code",
   "execution_count": 2,
   "id": "f6ca019a",
   "metadata": {},
   "outputs": [
    {
     "name": "stdout",
     "output_type": "stream",
     "text": [
      "Файл Churn.csv открыт в режиме online.\n"
     ]
    }
   ],
   "source": [
    "def find(name, path):\n",
    "    '''\n",
    "    Function to find the data file stored locally.\n",
    "    Takes name of the file and root directory.\n",
    "    Scanes the local directory tree for the first orrurance of the file.\n",
    "    '''\n",
    "    for root, dirs, files in os.walk(path):\n",
    "        if name in files:\n",
    "            return os.path.join(root, name)\n",
    "\n",
    "\n",
    "online_path = 'datasets'\n",
    "offline_path = '/home/'\n",
    "file = 'Churn.csv'\n",
    "\n",
    "try:\n",
    "    df = pd.read_csv(f'/{online_path}/{file}', index_col='RowNumber')\n",
    "except FileNotFoundError:\n",
    "    df = pd.read_csv(find(file, offline_path), index_col='RowNumber')\n",
    "    print(f\"Файл {file} найден на локальном диске.\")\n",
    "else:\n",
    "    print(f\"Файл {file} открыт в режиме online.\")"
   ]
  },
  {
   "cell_type": "code",
   "execution_count": 3,
   "id": "12c49707",
   "metadata": {
    "scrolled": false
   },
   "outputs": [
    {
     "name": "stdout",
     "output_type": "stream",
     "text": [
      "Внешний вид первых пяти строк датафрейма \u001b[1mCHURN\u001b[0;0m:\n"
     ]
    },
    {
     "data": {
      "text/html": [
       "<div>\n",
       "<style scoped>\n",
       "    .dataframe tbody tr th:only-of-type {\n",
       "        vertical-align: middle;\n",
       "    }\n",
       "\n",
       "    .dataframe tbody tr th {\n",
       "        vertical-align: top;\n",
       "    }\n",
       "\n",
       "    .dataframe thead th {\n",
       "        text-align: right;\n",
       "    }\n",
       "</style>\n",
       "<table border=\"1\" class=\"dataframe\">\n",
       "  <thead>\n",
       "    <tr style=\"text-align: right;\">\n",
       "      <th></th>\n",
       "      <th>CustomerId</th>\n",
       "      <th>Surname</th>\n",
       "      <th>CreditScore</th>\n",
       "      <th>Geography</th>\n",
       "      <th>Gender</th>\n",
       "      <th>Age</th>\n",
       "      <th>Tenure</th>\n",
       "      <th>Balance</th>\n",
       "      <th>NumOfProducts</th>\n",
       "      <th>HasCrCard</th>\n",
       "      <th>IsActiveMember</th>\n",
       "      <th>EstimatedSalary</th>\n",
       "      <th>Exited</th>\n",
       "    </tr>\n",
       "    <tr>\n",
       "      <th>RowNumber</th>\n",
       "      <th></th>\n",
       "      <th></th>\n",
       "      <th></th>\n",
       "      <th></th>\n",
       "      <th></th>\n",
       "      <th></th>\n",
       "      <th></th>\n",
       "      <th></th>\n",
       "      <th></th>\n",
       "      <th></th>\n",
       "      <th></th>\n",
       "      <th></th>\n",
       "      <th></th>\n",
       "    </tr>\n",
       "  </thead>\n",
       "  <tbody>\n",
       "    <tr>\n",
       "      <td>1</td>\n",
       "      <td>15634602</td>\n",
       "      <td>Hargrave</td>\n",
       "      <td>619</td>\n",
       "      <td>France</td>\n",
       "      <td>Female</td>\n",
       "      <td>42</td>\n",
       "      <td>2.00</td>\n",
       "      <td>0.00</td>\n",
       "      <td>1</td>\n",
       "      <td>1</td>\n",
       "      <td>1</td>\n",
       "      <td>101348.88</td>\n",
       "      <td>1</td>\n",
       "    </tr>\n",
       "    <tr>\n",
       "      <td>2</td>\n",
       "      <td>15647311</td>\n",
       "      <td>Hill</td>\n",
       "      <td>608</td>\n",
       "      <td>Spain</td>\n",
       "      <td>Female</td>\n",
       "      <td>41</td>\n",
       "      <td>1.00</td>\n",
       "      <td>83807.86</td>\n",
       "      <td>1</td>\n",
       "      <td>0</td>\n",
       "      <td>1</td>\n",
       "      <td>112542.58</td>\n",
       "      <td>0</td>\n",
       "    </tr>\n",
       "    <tr>\n",
       "      <td>3</td>\n",
       "      <td>15619304</td>\n",
       "      <td>Onio</td>\n",
       "      <td>502</td>\n",
       "      <td>France</td>\n",
       "      <td>Female</td>\n",
       "      <td>42</td>\n",
       "      <td>8.00</td>\n",
       "      <td>159660.80</td>\n",
       "      <td>3</td>\n",
       "      <td>1</td>\n",
       "      <td>0</td>\n",
       "      <td>113931.57</td>\n",
       "      <td>1</td>\n",
       "    </tr>\n",
       "    <tr>\n",
       "      <td>4</td>\n",
       "      <td>15701354</td>\n",
       "      <td>Boni</td>\n",
       "      <td>699</td>\n",
       "      <td>France</td>\n",
       "      <td>Female</td>\n",
       "      <td>39</td>\n",
       "      <td>1.00</td>\n",
       "      <td>0.00</td>\n",
       "      <td>2</td>\n",
       "      <td>0</td>\n",
       "      <td>0</td>\n",
       "      <td>93826.63</td>\n",
       "      <td>0</td>\n",
       "    </tr>\n",
       "    <tr>\n",
       "      <td>5</td>\n",
       "      <td>15737888</td>\n",
       "      <td>Mitchell</td>\n",
       "      <td>850</td>\n",
       "      <td>Spain</td>\n",
       "      <td>Female</td>\n",
       "      <td>43</td>\n",
       "      <td>2.00</td>\n",
       "      <td>125510.82</td>\n",
       "      <td>1</td>\n",
       "      <td>1</td>\n",
       "      <td>1</td>\n",
       "      <td>79084.10</td>\n",
       "      <td>0</td>\n",
       "    </tr>\n",
       "  </tbody>\n",
       "</table>\n",
       "</div>"
      ],
      "text/plain": [
       "           CustomerId   Surname  CreditScore Geography  Gender  Age  Tenure  \\\n",
       "RowNumber                                                                     \n",
       "1            15634602  Hargrave          619    France  Female   42    2.00   \n",
       "2            15647311      Hill          608     Spain  Female   41    1.00   \n",
       "3            15619304      Onio          502    France  Female   42    8.00   \n",
       "4            15701354      Boni          699    France  Female   39    1.00   \n",
       "5            15737888  Mitchell          850     Spain  Female   43    2.00   \n",
       "\n",
       "            Balance  NumOfProducts  HasCrCard  IsActiveMember  \\\n",
       "RowNumber                                                       \n",
       "1              0.00              1          1               1   \n",
       "2          83807.86              1          0               1   \n",
       "3         159660.80              3          1               0   \n",
       "4              0.00              2          0               0   \n",
       "5         125510.82              1          1               1   \n",
       "\n",
       "           EstimatedSalary  Exited  \n",
       "RowNumber                           \n",
       "1                101348.88       1  \n",
       "2                112542.58       0  \n",
       "3                113931.57       1  \n",
       "4                 93826.63       0  \n",
       "5                 79084.10       0  "
      ]
     },
     "metadata": {},
     "output_type": "display_data"
    },
    {
     "name": "stdout",
     "output_type": "stream",
     "text": [
      "\n",
      "Размер датафрейма \u001b[1mCHURN\u001b[0;0m:         \n",
      "количество строк - 10000, \n",
      "количество столбцов - 13.\n",
      "\n",
      "Развернутая сводка датафрейма \u001b[1mCHURN\u001b[0;0m \n",
      "по наименованию столбцов, типу данных, ненулевых значениях и объему памяти:\n",
      "\n",
      "<class 'pandas.core.frame.DataFrame'>\n",
      "Int64Index: 10000 entries, 1 to 10000\n",
      "Data columns (total 13 columns):\n",
      "CustomerId         10000 non-null int64\n",
      "Surname            10000 non-null object\n",
      "CreditScore        10000 non-null int64\n",
      "Geography          10000 non-null object\n",
      "Gender             10000 non-null object\n",
      "Age                10000 non-null int64\n",
      "Tenure             9091 non-null float64\n",
      "Balance            10000 non-null float64\n",
      "NumOfProducts      10000 non-null int64\n",
      "HasCrCard          10000 non-null int64\n",
      "IsActiveMember     10000 non-null int64\n",
      "EstimatedSalary    10000 non-null float64\n",
      "Exited             10000 non-null int64\n",
      "dtypes: float64(3), int64(7), object(3)\n",
      "memory usage: 2.6 MB\n",
      "--------------------------------------------------------------------\n",
      "\n"
     ]
    }
   ],
   "source": [
    "start = \"\\033[1m\"\n",
    "end = \"\\033[0;0m\"\n",
    "print(\n",
    "    f\"Внешний вид первых пяти строк датафрейма {start}{str(file).split('.')[0].upper()}{end}:\"\n",
    ")\n",
    "display(df.head())\n",
    "print()\n",
    "print(f\"Размер датафрейма {start}{str(file).split('.')[0].upper()}{end}: \\\n",
    "        \\nколичество строк - {df.shape[0]}, \\nколичество столбцов - {df.shape[1]}.\"\n",
    "      )\n",
    "print()\n",
    "print(\n",
    "    f\"Развернутая сводка датафрейма {start}{str(file).split('.')[0].upper()}{end} \\nпо наименованию столбцов, типу данных, ненулевых значениях и объему памяти:\"\n",
    ")\n",
    "print()\n",
    "df.info(memory_usage='deep')\n",
    "print('--------------------------------------------------------------------')\n",
    "print()"
   ]
  },
  {
   "cell_type": "markdown",
   "id": "2d3b2b2c",
   "metadata": {},
   "source": [
    "### _Промежуточные выводы_"
   ]
  },
  {
   "cell_type": "markdown",
   "id": "49a437a6",
   "metadata": {},
   "source": [
    "1. Наименование столбцов и индекса в стиле CamelCase --> перевести в snake_case. \n",
    "2. Столбец **Tenure** имеет пропуски --> выяснить причину и возможные пути устранения. \n",
    "3. Столбец **Tenure** представлен в виде вещественного числа --> перевести в цельночисленное после обработки пропусков.\n",
    "4. Проверим уникальность значений столбца customer_id."
   ]
  },
  {
   "cell_type": "markdown",
   "id": "165ee7df",
   "metadata": {},
   "source": [
    "## Обработка стиля наименования столбцов"
   ]
  },
  {
   "cell_type": "code",
   "execution_count": 4,
   "id": "715cc39d",
   "metadata": {},
   "outputs": [],
   "source": [
    "df.columns = [\n",
    "    re.sub(r'(?<!^)(?=[A-Z])', '_', column_name).lower()\n",
    "    for column_name in df.columns\n",
    "]"
   ]
  },
  {
   "cell_type": "code",
   "execution_count": 5,
   "id": "516121c5",
   "metadata": {},
   "outputs": [],
   "source": [
    "df.index.rename(re.sub(r'(?<!^)(?=[A-Z])', '_', df.index.name).lower(),\n",
    "                inplace=True)"
   ]
  },
  {
   "cell_type": "code",
   "execution_count": 6,
   "id": "4e85c4a7",
   "metadata": {},
   "outputs": [
    {
     "data": {
      "text/html": [
       "<div>\n",
       "<style scoped>\n",
       "    .dataframe tbody tr th:only-of-type {\n",
       "        vertical-align: middle;\n",
       "    }\n",
       "\n",
       "    .dataframe tbody tr th {\n",
       "        vertical-align: top;\n",
       "    }\n",
       "\n",
       "    .dataframe thead th {\n",
       "        text-align: right;\n",
       "    }\n",
       "</style>\n",
       "<table border=\"1\" class=\"dataframe\">\n",
       "  <thead>\n",
       "    <tr style=\"text-align: right;\">\n",
       "      <th></th>\n",
       "      <th>customer_id</th>\n",
       "      <th>surname</th>\n",
       "      <th>credit_score</th>\n",
       "      <th>geography</th>\n",
       "      <th>gender</th>\n",
       "      <th>age</th>\n",
       "      <th>tenure</th>\n",
       "      <th>balance</th>\n",
       "      <th>num_of_products</th>\n",
       "      <th>has_cr_card</th>\n",
       "      <th>is_active_member</th>\n",
       "      <th>estimated_salary</th>\n",
       "      <th>exited</th>\n",
       "    </tr>\n",
       "    <tr>\n",
       "      <th>row_number</th>\n",
       "      <th></th>\n",
       "      <th></th>\n",
       "      <th></th>\n",
       "      <th></th>\n",
       "      <th></th>\n",
       "      <th></th>\n",
       "      <th></th>\n",
       "      <th></th>\n",
       "      <th></th>\n",
       "      <th></th>\n",
       "      <th></th>\n",
       "      <th></th>\n",
       "      <th></th>\n",
       "    </tr>\n",
       "  </thead>\n",
       "  <tbody>\n",
       "    <tr>\n",
       "      <td>1</td>\n",
       "      <td>15634602</td>\n",
       "      <td>Hargrave</td>\n",
       "      <td>619</td>\n",
       "      <td>France</td>\n",
       "      <td>Female</td>\n",
       "      <td>42</td>\n",
       "      <td>2.00</td>\n",
       "      <td>0.00</td>\n",
       "      <td>1</td>\n",
       "      <td>1</td>\n",
       "      <td>1</td>\n",
       "      <td>101348.88</td>\n",
       "      <td>1</td>\n",
       "    </tr>\n",
       "    <tr>\n",
       "      <td>2</td>\n",
       "      <td>15647311</td>\n",
       "      <td>Hill</td>\n",
       "      <td>608</td>\n",
       "      <td>Spain</td>\n",
       "      <td>Female</td>\n",
       "      <td>41</td>\n",
       "      <td>1.00</td>\n",
       "      <td>83807.86</td>\n",
       "      <td>1</td>\n",
       "      <td>0</td>\n",
       "      <td>1</td>\n",
       "      <td>112542.58</td>\n",
       "      <td>0</td>\n",
       "    </tr>\n",
       "    <tr>\n",
       "      <td>3</td>\n",
       "      <td>15619304</td>\n",
       "      <td>Onio</td>\n",
       "      <td>502</td>\n",
       "      <td>France</td>\n",
       "      <td>Female</td>\n",
       "      <td>42</td>\n",
       "      <td>8.00</td>\n",
       "      <td>159660.80</td>\n",
       "      <td>3</td>\n",
       "      <td>1</td>\n",
       "      <td>0</td>\n",
       "      <td>113931.57</td>\n",
       "      <td>1</td>\n",
       "    </tr>\n",
       "    <tr>\n",
       "      <td>4</td>\n",
       "      <td>15701354</td>\n",
       "      <td>Boni</td>\n",
       "      <td>699</td>\n",
       "      <td>France</td>\n",
       "      <td>Female</td>\n",
       "      <td>39</td>\n",
       "      <td>1.00</td>\n",
       "      <td>0.00</td>\n",
       "      <td>2</td>\n",
       "      <td>0</td>\n",
       "      <td>0</td>\n",
       "      <td>93826.63</td>\n",
       "      <td>0</td>\n",
       "    </tr>\n",
       "    <tr>\n",
       "      <td>5</td>\n",
       "      <td>15737888</td>\n",
       "      <td>Mitchell</td>\n",
       "      <td>850</td>\n",
       "      <td>Spain</td>\n",
       "      <td>Female</td>\n",
       "      <td>43</td>\n",
       "      <td>2.00</td>\n",
       "      <td>125510.82</td>\n",
       "      <td>1</td>\n",
       "      <td>1</td>\n",
       "      <td>1</td>\n",
       "      <td>79084.10</td>\n",
       "      <td>0</td>\n",
       "    </tr>\n",
       "  </tbody>\n",
       "</table>\n",
       "</div>"
      ],
      "text/plain": [
       "            customer_id   surname  credit_score geography  gender  age  \\\n",
       "row_number                                                               \n",
       "1              15634602  Hargrave           619    France  Female   42   \n",
       "2              15647311      Hill           608     Spain  Female   41   \n",
       "3              15619304      Onio           502    France  Female   42   \n",
       "4              15701354      Boni           699    France  Female   39   \n",
       "5              15737888  Mitchell           850     Spain  Female   43   \n",
       "\n",
       "            tenure   balance  num_of_products  has_cr_card  is_active_member  \\\n",
       "row_number                                                                     \n",
       "1             2.00      0.00                1            1                 1   \n",
       "2             1.00  83807.86                1            0                 1   \n",
       "3             8.00 159660.80                3            1                 0   \n",
       "4             1.00      0.00                2            0                 0   \n",
       "5             2.00 125510.82                1            1                 1   \n",
       "\n",
       "            estimated_salary  exited  \n",
       "row_number                            \n",
       "1                  101348.88       1  \n",
       "2                  112542.58       0  \n",
       "3                  113931.57       1  \n",
       "4                   93826.63       0  \n",
       "5                   79084.10       0  "
      ]
     },
     "execution_count": 6,
     "metadata": {},
     "output_type": "execute_result"
    }
   ],
   "source": [
    "# проверим полученный результат: \n",
    "df.head()"
   ]
  },
  {
   "cell_type": "markdown",
   "id": "25f22b59",
   "metadata": {},
   "source": [
    "## Обработка пропусков столбца **TENURE**"
   ]
  },
  {
   "cell_type": "code",
   "execution_count": 7,
   "id": "fd8896b7",
   "metadata": {},
   "outputs": [
    {
     "data": {
      "text/plain": [
       "1.00     952\n",
       "2.00     950\n",
       "8.00     933\n",
       "3.00     928\n",
       "5.00     927\n",
       "7.00     925\n",
       "4.00     885\n",
       "9.00     882\n",
       "6.00     881\n",
       "10.00    446\n",
       "0.00     382\n",
       "Name: tenure, dtype: int64"
      ]
     },
     "execution_count": 7,
     "metadata": {},
     "output_type": "execute_result"
    }
   ],
   "source": [
    "# рассмотрим все возможные значения столбца Tenure: \n",
    "df.tenure.value_counts()"
   ]
  },
  {
   "cell_type": "markdown",
   "id": "ee3edb08",
   "metadata": {},
   "source": [
    "### _Промежуточные выводы_"
   ]
  },
  {
   "cell_type": "markdown",
   "id": "1c870ccd",
   "metadata": {},
   "source": [
    "Так как в данном столбце собраны данные о количестве лет, в течение которых человек является клиентом банка, и значения в столбце от 0 до 10 лет, то данный столбец можно принять за категориальный и разбить его на столбцы методом ОНЕ. Таким образом, алгоритм сможет использовать в том числе и те данные, которые содержат пропуски. Обработка формата числа столбца **Tenure** теряет смысл.  "
   ]
  },
  {
   "cell_type": "markdown",
   "id": "d7728007",
   "metadata": {},
   "source": [
    "## Обработка значений столбца **CUSTOMER_ID**"
   ]
  },
  {
   "cell_type": "code",
   "execution_count": 8,
   "id": "7ac17411",
   "metadata": {},
   "outputs": [
    {
     "data": {
      "text/plain": [
       "0"
      ]
     },
     "execution_count": 8,
     "metadata": {},
     "output_type": "execute_result"
    }
   ],
   "source": [
    "# вычтем количество уникальных значений из общего числа значений\n",
    "df.customer_id.size - df.customer_id.nunique()"
   ]
  },
  {
   "cell_type": "markdown",
   "id": "b19e7b57",
   "metadata": {},
   "source": [
    "### _Промежуточные выводы_"
   ]
  },
  {
   "cell_type": "markdown",
   "id": "4cd6412f",
   "metadata": {},
   "source": [
    "Все значения столбца **customer_id** уникальны. Таким образом, для первичной тренировки моделей потребуется отбросить нечисловые столбцы, включая **customer_id** и преобразовать столбец **tenure** методом OHE. "
   ]
  },
  {
   "cell_type": "markdown",
   "id": "0fe2b9c3",
   "metadata": {},
   "source": [
    "## OHE для столбца **TENURE**"
   ]
  },
  {
   "cell_type": "code",
   "execution_count": 9,
   "id": "fc25d59f",
   "metadata": {},
   "outputs": [],
   "source": [
    "#  применим метод OHE к столбцу tenure: \n",
    "tenure_ohe = pd.get_dummies(df['tenure'], prefix='tenure_', dummy_na=True)"
   ]
  },
  {
   "cell_type": "code",
   "execution_count": 10,
   "id": "f67f6f1f",
   "metadata": {},
   "outputs": [
    {
     "data": {
      "text/html": [
       "<div>\n",
       "<style scoped>\n",
       "    .dataframe tbody tr th:only-of-type {\n",
       "        vertical-align: middle;\n",
       "    }\n",
       "\n",
       "    .dataframe tbody tr th {\n",
       "        vertical-align: top;\n",
       "    }\n",
       "\n",
       "    .dataframe thead th {\n",
       "        text-align: right;\n",
       "    }\n",
       "</style>\n",
       "<table border=\"1\" class=\"dataframe\">\n",
       "  <thead>\n",
       "    <tr style=\"text-align: right;\">\n",
       "      <th></th>\n",
       "      <th>tenure__0.0</th>\n",
       "      <th>tenure__1.0</th>\n",
       "      <th>tenure__2.0</th>\n",
       "      <th>tenure__3.0</th>\n",
       "      <th>tenure__4.0</th>\n",
       "      <th>tenure__5.0</th>\n",
       "      <th>tenure__6.0</th>\n",
       "      <th>tenure__7.0</th>\n",
       "      <th>tenure__8.0</th>\n",
       "      <th>tenure__9.0</th>\n",
       "      <th>tenure__10.0</th>\n",
       "      <th>tenure__nan</th>\n",
       "    </tr>\n",
       "    <tr>\n",
       "      <th>row_number</th>\n",
       "      <th></th>\n",
       "      <th></th>\n",
       "      <th></th>\n",
       "      <th></th>\n",
       "      <th></th>\n",
       "      <th></th>\n",
       "      <th></th>\n",
       "      <th></th>\n",
       "      <th></th>\n",
       "      <th></th>\n",
       "      <th></th>\n",
       "      <th></th>\n",
       "    </tr>\n",
       "  </thead>\n",
       "  <tbody>\n",
       "    <tr>\n",
       "      <td>1</td>\n",
       "      <td>0</td>\n",
       "      <td>0</td>\n",
       "      <td>1</td>\n",
       "      <td>0</td>\n",
       "      <td>0</td>\n",
       "      <td>0</td>\n",
       "      <td>0</td>\n",
       "      <td>0</td>\n",
       "      <td>0</td>\n",
       "      <td>0</td>\n",
       "      <td>0</td>\n",
       "      <td>0</td>\n",
       "    </tr>\n",
       "    <tr>\n",
       "      <td>2</td>\n",
       "      <td>0</td>\n",
       "      <td>1</td>\n",
       "      <td>0</td>\n",
       "      <td>0</td>\n",
       "      <td>0</td>\n",
       "      <td>0</td>\n",
       "      <td>0</td>\n",
       "      <td>0</td>\n",
       "      <td>0</td>\n",
       "      <td>0</td>\n",
       "      <td>0</td>\n",
       "      <td>0</td>\n",
       "    </tr>\n",
       "    <tr>\n",
       "      <td>3</td>\n",
       "      <td>0</td>\n",
       "      <td>0</td>\n",
       "      <td>0</td>\n",
       "      <td>0</td>\n",
       "      <td>0</td>\n",
       "      <td>0</td>\n",
       "      <td>0</td>\n",
       "      <td>0</td>\n",
       "      <td>1</td>\n",
       "      <td>0</td>\n",
       "      <td>0</td>\n",
       "      <td>0</td>\n",
       "    </tr>\n",
       "    <tr>\n",
       "      <td>4</td>\n",
       "      <td>0</td>\n",
       "      <td>1</td>\n",
       "      <td>0</td>\n",
       "      <td>0</td>\n",
       "      <td>0</td>\n",
       "      <td>0</td>\n",
       "      <td>0</td>\n",
       "      <td>0</td>\n",
       "      <td>0</td>\n",
       "      <td>0</td>\n",
       "      <td>0</td>\n",
       "      <td>0</td>\n",
       "    </tr>\n",
       "    <tr>\n",
       "      <td>5</td>\n",
       "      <td>0</td>\n",
       "      <td>0</td>\n",
       "      <td>1</td>\n",
       "      <td>0</td>\n",
       "      <td>0</td>\n",
       "      <td>0</td>\n",
       "      <td>0</td>\n",
       "      <td>0</td>\n",
       "      <td>0</td>\n",
       "      <td>0</td>\n",
       "      <td>0</td>\n",
       "      <td>0</td>\n",
       "    </tr>\n",
       "  </tbody>\n",
       "</table>\n",
       "</div>"
      ],
      "text/plain": [
       "            tenure__0.0  tenure__1.0  tenure__2.0  tenure__3.0  tenure__4.0  \\\n",
       "row_number                                                                    \n",
       "1                     0            0            1            0            0   \n",
       "2                     0            1            0            0            0   \n",
       "3                     0            0            0            0            0   \n",
       "4                     0            1            0            0            0   \n",
       "5                     0            0            1            0            0   \n",
       "\n",
       "            tenure__5.0  tenure__6.0  tenure__7.0  tenure__8.0  tenure__9.0  \\\n",
       "row_number                                                                    \n",
       "1                     0            0            0            0            0   \n",
       "2                     0            0            0            0            0   \n",
       "3                     0            0            0            1            0   \n",
       "4                     0            0            0            0            0   \n",
       "5                     0            0            0            0            0   \n",
       "\n",
       "            tenure__10.0  tenure__nan  \n",
       "row_number                             \n",
       "1                      0            0  \n",
       "2                      0            0  \n",
       "3                      0            0  \n",
       "4                      0            0  \n",
       "5                      0            0  "
      ]
     },
     "execution_count": 10,
     "metadata": {},
     "output_type": "execute_result"
    }
   ],
   "source": [
    "# рассмотрим полученный результат: \n",
    "tenure_ohe.head()"
   ]
  },
  {
   "cell_type": "code",
   "execution_count": 11,
   "id": "dcd6e3ad",
   "metadata": {},
   "outputs": [],
   "source": [
    "# удалим столбец tenure из датафрейма: \n",
    "df_modified = df.drop('tenure', axis=1)"
   ]
  },
  {
   "cell_type": "code",
   "execution_count": 12,
   "id": "7c82a7bd",
   "metadata": {},
   "outputs": [],
   "source": [
    "# объединим оба датафрейма: \n",
    "df_modified = df_modified.join(tenure_ohe)"
   ]
  },
  {
   "cell_type": "code",
   "execution_count": 13,
   "id": "f4e53181",
   "metadata": {},
   "outputs": [],
   "source": [
    "# удалим последний столбец, чтобы избежать dummy-ловушки: \n",
    "df_modified.drop('tenure__nan', axis=1, inplace=True)"
   ]
  },
  {
   "cell_type": "markdown",
   "id": "962cbc24",
   "metadata": {},
   "source": [
    "## Подготовка датафрейма для разделения данных"
   ]
  },
  {
   "cell_type": "code",
   "execution_count": 14,
   "id": "b6f2d6b4",
   "metadata": {},
   "outputs": [],
   "source": [
    "# отбросим текстовые столбцы и столбец customer_id: \n",
    "df_raw_numeric = df_modified.drop(['customer_id', 'surname', 'geography', 'gender'], axis=1)"
   ]
  },
  {
   "cell_type": "code",
   "execution_count": 15,
   "id": "494ec14f",
   "metadata": {
    "scrolled": true
   },
   "outputs": [
    {
     "data": {
      "text/html": [
       "<div>\n",
       "<style scoped>\n",
       "    .dataframe tbody tr th:only-of-type {\n",
       "        vertical-align: middle;\n",
       "    }\n",
       "\n",
       "    .dataframe tbody tr th {\n",
       "        vertical-align: top;\n",
       "    }\n",
       "\n",
       "    .dataframe thead th {\n",
       "        text-align: right;\n",
       "    }\n",
       "</style>\n",
       "<table border=\"1\" class=\"dataframe\">\n",
       "  <thead>\n",
       "    <tr style=\"text-align: right;\">\n",
       "      <th></th>\n",
       "      <th>credit_score</th>\n",
       "      <th>age</th>\n",
       "      <th>balance</th>\n",
       "      <th>num_of_products</th>\n",
       "      <th>has_cr_card</th>\n",
       "      <th>is_active_member</th>\n",
       "      <th>estimated_salary</th>\n",
       "      <th>exited</th>\n",
       "      <th>tenure__0.0</th>\n",
       "      <th>tenure__1.0</th>\n",
       "      <th>tenure__2.0</th>\n",
       "      <th>tenure__3.0</th>\n",
       "      <th>tenure__4.0</th>\n",
       "      <th>tenure__5.0</th>\n",
       "      <th>tenure__6.0</th>\n",
       "      <th>tenure__7.0</th>\n",
       "      <th>tenure__8.0</th>\n",
       "      <th>tenure__9.0</th>\n",
       "      <th>tenure__10.0</th>\n",
       "    </tr>\n",
       "    <tr>\n",
       "      <th>row_number</th>\n",
       "      <th></th>\n",
       "      <th></th>\n",
       "      <th></th>\n",
       "      <th></th>\n",
       "      <th></th>\n",
       "      <th></th>\n",
       "      <th></th>\n",
       "      <th></th>\n",
       "      <th></th>\n",
       "      <th></th>\n",
       "      <th></th>\n",
       "      <th></th>\n",
       "      <th></th>\n",
       "      <th></th>\n",
       "      <th></th>\n",
       "      <th></th>\n",
       "      <th></th>\n",
       "      <th></th>\n",
       "      <th></th>\n",
       "    </tr>\n",
       "  </thead>\n",
       "  <tbody>\n",
       "    <tr>\n",
       "      <td>1</td>\n",
       "      <td>619</td>\n",
       "      <td>42</td>\n",
       "      <td>0.00</td>\n",
       "      <td>1</td>\n",
       "      <td>1</td>\n",
       "      <td>1</td>\n",
       "      <td>101348.88</td>\n",
       "      <td>1</td>\n",
       "      <td>0</td>\n",
       "      <td>0</td>\n",
       "      <td>1</td>\n",
       "      <td>0</td>\n",
       "      <td>0</td>\n",
       "      <td>0</td>\n",
       "      <td>0</td>\n",
       "      <td>0</td>\n",
       "      <td>0</td>\n",
       "      <td>0</td>\n",
       "      <td>0</td>\n",
       "    </tr>\n",
       "    <tr>\n",
       "      <td>2</td>\n",
       "      <td>608</td>\n",
       "      <td>41</td>\n",
       "      <td>83807.86</td>\n",
       "      <td>1</td>\n",
       "      <td>0</td>\n",
       "      <td>1</td>\n",
       "      <td>112542.58</td>\n",
       "      <td>0</td>\n",
       "      <td>0</td>\n",
       "      <td>1</td>\n",
       "      <td>0</td>\n",
       "      <td>0</td>\n",
       "      <td>0</td>\n",
       "      <td>0</td>\n",
       "      <td>0</td>\n",
       "      <td>0</td>\n",
       "      <td>0</td>\n",
       "      <td>0</td>\n",
       "      <td>0</td>\n",
       "    </tr>\n",
       "    <tr>\n",
       "      <td>3</td>\n",
       "      <td>502</td>\n",
       "      <td>42</td>\n",
       "      <td>159660.80</td>\n",
       "      <td>3</td>\n",
       "      <td>1</td>\n",
       "      <td>0</td>\n",
       "      <td>113931.57</td>\n",
       "      <td>1</td>\n",
       "      <td>0</td>\n",
       "      <td>0</td>\n",
       "      <td>0</td>\n",
       "      <td>0</td>\n",
       "      <td>0</td>\n",
       "      <td>0</td>\n",
       "      <td>0</td>\n",
       "      <td>0</td>\n",
       "      <td>1</td>\n",
       "      <td>0</td>\n",
       "      <td>0</td>\n",
       "    </tr>\n",
       "    <tr>\n",
       "      <td>4</td>\n",
       "      <td>699</td>\n",
       "      <td>39</td>\n",
       "      <td>0.00</td>\n",
       "      <td>2</td>\n",
       "      <td>0</td>\n",
       "      <td>0</td>\n",
       "      <td>93826.63</td>\n",
       "      <td>0</td>\n",
       "      <td>0</td>\n",
       "      <td>1</td>\n",
       "      <td>0</td>\n",
       "      <td>0</td>\n",
       "      <td>0</td>\n",
       "      <td>0</td>\n",
       "      <td>0</td>\n",
       "      <td>0</td>\n",
       "      <td>0</td>\n",
       "      <td>0</td>\n",
       "      <td>0</td>\n",
       "    </tr>\n",
       "    <tr>\n",
       "      <td>5</td>\n",
       "      <td>850</td>\n",
       "      <td>43</td>\n",
       "      <td>125510.82</td>\n",
       "      <td>1</td>\n",
       "      <td>1</td>\n",
       "      <td>1</td>\n",
       "      <td>79084.10</td>\n",
       "      <td>0</td>\n",
       "      <td>0</td>\n",
       "      <td>0</td>\n",
       "      <td>1</td>\n",
       "      <td>0</td>\n",
       "      <td>0</td>\n",
       "      <td>0</td>\n",
       "      <td>0</td>\n",
       "      <td>0</td>\n",
       "      <td>0</td>\n",
       "      <td>0</td>\n",
       "      <td>0</td>\n",
       "    </tr>\n",
       "  </tbody>\n",
       "</table>\n",
       "</div>"
      ],
      "text/plain": [
       "            credit_score  age   balance  num_of_products  has_cr_card  \\\n",
       "row_number                                                              \n",
       "1                    619   42      0.00                1            1   \n",
       "2                    608   41  83807.86                1            0   \n",
       "3                    502   42 159660.80                3            1   \n",
       "4                    699   39      0.00                2            0   \n",
       "5                    850   43 125510.82                1            1   \n",
       "\n",
       "            is_active_member  estimated_salary  exited  tenure__0.0  \\\n",
       "row_number                                                            \n",
       "1                          1         101348.88       1            0   \n",
       "2                          1         112542.58       0            0   \n",
       "3                          0         113931.57       1            0   \n",
       "4                          0          93826.63       0            0   \n",
       "5                          1          79084.10       0            0   \n",
       "\n",
       "            tenure__1.0  tenure__2.0  tenure__3.0  tenure__4.0  tenure__5.0  \\\n",
       "row_number                                                                    \n",
       "1                     0            1            0            0            0   \n",
       "2                     1            0            0            0            0   \n",
       "3                     0            0            0            0            0   \n",
       "4                     1            0            0            0            0   \n",
       "5                     0            1            0            0            0   \n",
       "\n",
       "            tenure__6.0  tenure__7.0  tenure__8.0  tenure__9.0  tenure__10.0  \n",
       "row_number                                                                    \n",
       "1                     0            0            0            0             0  \n",
       "2                     0            0            0            0             0  \n",
       "3                     0            0            1            0             0  \n",
       "4                     0            0            0            0             0  \n",
       "5                     0            0            0            0             0  "
      ]
     },
     "execution_count": 15,
     "metadata": {},
     "output_type": "execute_result"
    }
   ],
   "source": [
    "# рассмотрим полученный датафрейм: \n",
    "df_raw_numeric.head()"
   ]
  },
  {
   "cell_type": "markdown",
   "id": "71861772",
   "metadata": {},
   "source": [
    "# Подготовка данных для построения модели"
   ]
  },
  {
   "cell_type": "markdown",
   "id": "26d74157",
   "metadata": {},
   "source": [
    "## Извлечем признаки и целевой признак"
   ]
  },
  {
   "cell_type": "code",
   "execution_count": 16,
   "id": "2a0720fa",
   "metadata": {},
   "outputs": [],
   "source": [
    "# признаки = все столбцы, кроме exited:\n",
    "features = df_raw_numeric.drop(\"exited\", axis=1)"
   ]
  },
  {
   "cell_type": "code",
   "execution_count": 17,
   "id": "920fe11c",
   "metadata": {},
   "outputs": [],
   "source": [
    "# целевой признак - столбец exited:\n",
    "target = df_raw_numeric.exited"
   ]
  },
  {
   "cell_type": "markdown",
   "id": "70c82f4d",
   "metadata": {},
   "source": [
    "## Разделение данных"
   ]
  },
  {
   "cell_type": "code",
   "execution_count": 18,
   "id": "e239b980",
   "metadata": {},
   "outputs": [],
   "source": [
    "# выделим данные для обучения: \n",
    "features_train, features_1, target_train, target_1 = train_test_split(\n",
    "    features, target, test_size=0.4, random_state=12345)"
   ]
  },
  {
   "cell_type": "code",
   "execution_count": 19,
   "id": "60b45672",
   "metadata": {},
   "outputs": [],
   "source": [
    "# выделим данные для валидации и тестирования:\n",
    "features_test, features_valid, target_test, target_valid = train_test_split(\n",
    "    features_1, target_1, test_size=0.5, random_state=12345)"
   ]
  },
  {
   "cell_type": "markdown",
   "id": "465177df",
   "metadata": {},
   "source": [
    "# Обучение моделей на исходных данных"
   ]
  },
  {
   "cell_type": "markdown",
   "id": "b0aa4573",
   "metadata": {},
   "source": [
    "## Модель - Логистическая регрессия"
   ]
  },
  {
   "cell_type": "code",
   "execution_count": 20,
   "id": "179a5e6a",
   "metadata": {},
   "outputs": [
    {
     "data": {
      "image/png": "[encoded data removed]",
      "text/plain": [
       "<Figure size 432x288 with 1 Axes>"
      ]
     },
     "metadata": {
      "needs_background": "light"
     },
     "output_type": "display_data"
    },
    {
     "name": "stdout",
     "output_type": "stream",
     "text": [
      "Accuracy модели логистической регрессии на валидационной выборке: 0.787 \n",
      "F1 result:  0.13414634146341464 \n",
      "AUC-ROC:  0.6404085921888374\n",
      "CPU times: user 255 ms, sys: 124 ms, total: 379 ms\n",
      "Wall time: 390 ms\n"
     ]
    }
   ],
   "source": [
    "%%time\n",
    "model = LogisticRegression(random_state=12345, solver='liblinear')\n",
    "model.fit(features_train, target_train)\n",
    "result = model.score(features_valid, target_valid)\n",
    "f1_result = f1_score(target_valid, model.predict(features_valid))\n",
    "\n",
    "probabilities_valid = model.predict_proba(features_valid)\n",
    "probabilities_one_valid = probabilities_valid[:, 1] \n",
    "auc_roc = roc_auc_score(target_valid, probabilities_one_valid)\n",
    "        \n",
    "fpr, tpr, thresholds = roc_curve(target_valid, probabilities_one_valid)\n",
    "\n",
    "plt.figure()\n",
    "plt.plot(fpr, tpr)\n",
    "plt.plot([0, 1], [0, 1], linestyle='--')\n",
    "plt.ylim([0.0, 1.0])\n",
    "plt.xlim([0.0, 1.0])\n",
    "plt.xlabel('False Positive Rate')\n",
    "plt.ylabel('True Positive Rate')\n",
    "plt.title('ROC-кривая на валидационных данных')\n",
    "plt.show()\n",
    "\n",
    "print(\"Accuracy модели логистической регрессии на валидационной выборке:\",\n",
    "      result, '\\nF1 result: ', f1_result, '\\nAUC-ROC: ', auc_roc)"
   ]
  },
  {
   "cell_type": "markdown",
   "id": "58c890cb",
   "metadata": {},
   "source": [
    "## Модель - Дерево решений"
   ]
  },
  {
   "cell_type": "code",
   "execution_count": 21,
   "id": "9239fb23",
   "metadata": {},
   "outputs": [
    {
     "name": "stderr",
     "output_type": "stream",
     "text": [
      "/opt/conda/lib/python3.7/site-packages/sklearn/metrics/classification.py:1437: UndefinedMetricWarning: F-score is ill-defined and being set to 0.0 due to no predicted samples.\n",
      "  'precision', 'predicted', average, warn_for)\n",
      "/opt/conda/lib/python3.7/site-packages/sklearn/metrics/classification.py:1437: UndefinedMetricWarning: F-score is ill-defined and being set to 0.0 due to no predicted samples.\n",
      "  'precision', 'predicted', average, warn_for)\n"
     ]
    },
    {
     "data": {
      "image/png": "[encoded data removed]",
      "text/plain": [
       "<Figure size 432x288 with 1 Axes>"
      ]
     },
     "metadata": {
      "needs_background": "light"
     },
     "output_type": "display_data"
    },
    {
     "name": "stdout",
     "output_type": "stream",
     "text": [
      "F1 наилучшей модели \"Дерево решений\" на валидационной выборке: 0.5114155251141553 \n",
      "AUC-ROC:  0.8339247246544972 \n",
      "Depth:  5 \n",
      "Criterion:  entropy\n",
      "CPU times: user 417 ms, sys: 840 µs, total: 418 ms\n",
      "Wall time: 425 ms\n"
     ]
    }
   ],
   "source": [
    "%%time\n",
    "best_model = None\n",
    "best_result = 0\n",
    "best_depth = 0\n",
    "best_auc = 0\n",
    "criterions = ['gini', 'entropy']\n",
    "\n",
    "for criterion in criterions:\n",
    "    for x in range(1, 10):\n",
    "        model = DecisionTreeClassifier(random_state=12345,\n",
    "                                       max_depth=x,\n",
    "                                       criterion=criterion)\n",
    "        model.fit(features_train, target_train)\n",
    "        f1_result = f1_score(target_valid, model.predict(features_valid))\n",
    "        probabilities_valid = model.predict_proba(features_valid)\n",
    "        auc_roc = roc_auc_score(target_valid, probabilities_valid[:, 1])\n",
    "        if f1_result > best_result:\n",
    "            best_depth = x\n",
    "            best_model = model\n",
    "            best_result = f1_result\n",
    "            best_criterion = criterion\n",
    "            best_auc = auc_roc\n",
    "\n",
    "probabilities_valid = best_model.predict_proba(features_valid)\n",
    "probabilities_one_valid = probabilities_valid[:, 1]\n",
    "fpr, tpr, thresholds = roc_curve(target_valid, probabilities_one_valid)\n",
    "\n",
    "plt.figure()\n",
    "plt.plot(fpr, tpr)\n",
    "plt.plot([0, 1], [0, 1], linestyle='--')\n",
    "plt.ylim([0.0, 1.0])\n",
    "plt.xlim([0.0, 1.0])\n",
    "plt.xlabel('False Positive Rate')\n",
    "plt.ylabel('True Positive Rate')\n",
    "plt.title('ROC-кривая лучшей модели на валидационных данных')\n",
    "plt.show()\n",
    "\n",
    "print('F1 наилучшей модели \"Дерево решений\" на валидационной выборке:',\n",
    "      best_result, '\\nAUC-ROC: ', best_auc, '\\nDepth: ', best_depth,\n",
    "      '\\nCriterion: ', best_criterion)"
   ]
  },
  {
   "cell_type": "code",
   "execution_count": 22,
   "id": "068531bf",
   "metadata": {},
   "outputs": [
    {
     "name": "stdout",
     "output_type": "stream",
     "text": [
      "              precision    recall  f1-score   support\n",
      "\n",
      " not excited       0.86      0.96      0.90      1577\n",
      "     excited       0.72      0.40      0.51       423\n",
      "\n",
      "    accuracy                           0.84      2000\n",
      "   macro avg       0.79      0.68      0.71      2000\n",
      "weighted avg       0.83      0.84      0.82      2000\n",
      "\n"
     ]
    }
   ],
   "source": [
    "# получим развернутый отчет о качестве работы модели:\n",
    "print(\n",
    "    classification_report(target_valid,\n",
    "                          best_model.predict(features_valid),\n",
    "                          target_names=['not excited', 'excited']))"
   ]
  },
  {
   "cell_type": "code",
   "execution_count": 23,
   "id": "8c5dd875",
   "metadata": {},
   "outputs": [
    {
     "name": "stdout",
     "output_type": "stream",
     "text": [
      "              precision    recall  f1-score   support\n",
      "\n",
      " not excited       0.87      0.96      0.91      1582\n",
      "     excited       0.75      0.44      0.55       418\n",
      "\n",
      "    accuracy                           0.85      2000\n",
      "   macro avg       0.81      0.70      0.73      2000\n",
      "weighted avg       0.84      0.85      0.84      2000\n",
      "\n"
     ]
    }
   ],
   "source": [
    "# получим развернутый отчет о качестве работы лучшей модели на тестовой выборке:\n",
    "print(\n",
    "    classification_report(target_test,\n",
    "                          best_model.predict(features_test),\n",
    "                          target_names=['not excited', 'excited']))"
   ]
  },
  {
   "cell_type": "markdown",
   "id": "423ad897",
   "metadata": {},
   "source": [
    "## Модель - Случайный лес"
   ]
  },
  {
   "cell_type": "code",
   "execution_count": 24,
   "id": "ba7b7121",
   "metadata": {},
   "outputs": [
    {
     "data": {
      "image/png": "[encoded data removed]",
      "text/plain": [
       "<Figure size 432x288 with 1 Axes>"
      ]
     },
     "metadata": {
      "needs_background": "light"
     },
     "output_type": "display_data"
    },
    {
     "name": "stdout",
     "output_type": "stream",
     "text": [
      "F1 наилучшей модели 'Случайный лес' на валидационной выборке: 0.43812709030100333 \n",
      "AUC-ROC:  0.7876597843407973 \n",
      "Depth:  5 \n",
      "Number of estimators:  8 \n",
      "Criterion:  gini\n",
      "CPU times: user 493 ms, sys: 9.64 ms, total: 503 ms\n",
      "Wall time: 514 ms\n"
     ]
    }
   ],
   "source": [
    "%%time\n",
    "best_model = None\n",
    "best_result = 0\n",
    "best_est = 0\n",
    "best_auc = 0\n",
    "criterions = ['gini', 'entropy']\n",
    "\n",
    "for criterion in criterions:\n",
    "    for est in range(1, 10):\n",
    "        model = RandomForestClassifier(random_state=12345,\n",
    "                                       max_depth=5,\n",
    "                                       criterion=criterion,\n",
    "                                       n_estimators=est)\n",
    "        model.fit(features_train, target_train)\n",
    "        f1_result = f1_score(target_valid, model.predict(features_valid))\n",
    "        if f1_result > best_result:\n",
    "            best_est = est\n",
    "            best_model = model\n",
    "            best_result = f1_result\n",
    "            best_criterion = criterion\n",
    "            best_auc = auc_roc\n",
    "\n",
    "probabilities_valid = best_model.predict_proba(features_valid)\n",
    "probabilities_one_valid = probabilities_valid[:, 1]\n",
    "fpr, tpr, thresholds = roc_curve(target_valid, probabilities_one_valid)\n",
    "\n",
    "plt.figure()\n",
    "plt.plot(fpr, tpr)\n",
    "plt.plot([0, 1], [0, 1], linestyle='--')\n",
    "plt.ylim([0.0, 1.0])\n",
    "plt.xlim([0.0, 1.0])\n",
    "plt.xlabel('False Positive Rate')\n",
    "plt.ylabel('True Positive Rate')\n",
    "plt.title('ROC-кривая лучшей модели валидационных данных')\n",
    "plt.show()\n",
    "\n",
    "print(\"F1 наилучшей модели 'Случайный лес' на валидационной выборке:\",\n",
    "      best_result, '\\nAUC-ROC: ', best_auc, '\\nDepth: ', best_depth,\n",
    "      '\\nNumber of estimators: ', best_est, '\\nCriterion: ', best_criterion)"
   ]
  },
  {
   "cell_type": "code",
   "execution_count": 25,
   "id": "a05723b5",
   "metadata": {},
   "outputs": [
    {
     "name": "stdout",
     "output_type": "stream",
     "text": [
      "              precision    recall  f1-score   support\n",
      "\n",
      " not excited       0.84      0.97      0.90      1577\n",
      "     excited       0.75      0.31      0.44       423\n",
      "\n",
      "    accuracy                           0.83      2000\n",
      "   macro avg       0.79      0.64      0.67      2000\n",
      "weighted avg       0.82      0.83      0.80      2000\n",
      "\n"
     ]
    }
   ],
   "source": [
    "# получим развернутый отчет о качестве работы модели:\n",
    "print(\n",
    "    classification_report(target_valid,\n",
    "                          best_model.predict(features_valid),\n",
    "                          target_names=['not excited', 'excited']))"
   ]
  },
  {
   "cell_type": "code",
   "execution_count": 26,
   "id": "080a5015",
   "metadata": {
    "scrolled": false
   },
   "outputs": [
    {
     "name": "stdout",
     "output_type": "stream",
     "text": [
      "              precision    recall  f1-score   support\n",
      "\n",
      " not excited       0.85      0.98      0.91      1582\n",
      "     excited       0.80      0.34      0.48       418\n",
      "\n",
      "    accuracy                           0.85      2000\n",
      "   macro avg       0.83      0.66      0.70      2000\n",
      "weighted avg       0.84      0.85      0.82      2000\n",
      "\n"
     ]
    }
   ],
   "source": [
    "# получим развернутый отчет о качестве работы лучшей модели на тестовой выборке:\n",
    "print(\n",
    "    classification_report(target_test,\n",
    "                          best_model.predict(features_test),\n",
    "                          target_names=['not excited', 'excited']))"
   ]
  },
  {
   "cell_type": "markdown",
   "id": "a61f665d",
   "metadata": {},
   "source": [
    "### _Промежуточные выводы_"
   ]
  },
  {
   "cell_type": "markdown",
   "id": "5d8cd24d",
   "metadata": {},
   "source": [
    "Наилучший результат на несбалансированных данных показывает модель **Дерево решений**. Но даже эта модель не позволяет добиться целевого результата в 0,59 для F1. \n",
    " \n",
    "При этом в виду того, что данные не прошли дополнительной подготовки, точность определения между лояльными и не лояльными клиентами имеет разницу почти в два раза."
   ]
  },
  {
   "cell_type": "markdown",
   "id": "2b4053c9",
   "metadata": {},
   "source": [
    "# Предварительная подготовка данных для обучения моделей"
   ]
  },
  {
   "cell_type": "markdown",
   "id": "a59befea",
   "metadata": {},
   "source": [
    "## Кодирование категориальных данных"
   ]
  },
  {
   "cell_type": "code",
   "execution_count": 27,
   "id": "c6afe4fd",
   "metadata": {},
   "outputs": [],
   "source": [
    "# отбросим столбцы customer_id и surname:\n",
    "df = df.drop(['customer_id', 'surname'], axis=1)"
   ]
  },
  {
   "cell_type": "code",
   "execution_count": 28,
   "id": "7296dcbf",
   "metadata": {},
   "outputs": [],
   "source": [
    "#  применим метод OHE к столбцам датафрейма, содержащим категориальные данные:\n",
    "df_ohe = pd.get_dummies(\n",
    "    df,\n",
    "    columns=['geography', 'gender', 'tenure', 'num_of_products'],\n",
    "    dummy_na=True,\n",
    "    drop_first=True)"
   ]
  },
  {
   "cell_type": "markdown",
   "id": "7727e8e4",
   "metadata": {},
   "source": [
    "## Извлечем признаки и целевой признак"
   ]
  },
  {
   "cell_type": "code",
   "execution_count": 29,
   "id": "00dc09ac",
   "metadata": {},
   "outputs": [],
   "source": [
    "# признаки = все столбцы, кроме exited:\n",
    "features = df_ohe.drop(\"exited\", axis=1)"
   ]
  },
  {
   "cell_type": "code",
   "execution_count": 30,
   "id": "30b64ea8",
   "metadata": {},
   "outputs": [],
   "source": [
    "# целевой признак - столбец exited:\n",
    "target = df_ohe.exited"
   ]
  },
  {
   "cell_type": "markdown",
   "id": "b4f4a66a",
   "metadata": {},
   "source": [
    "## Разделение данных"
   ]
  },
  {
   "cell_type": "code",
   "execution_count": 31,
   "id": "59dc33de",
   "metadata": {},
   "outputs": [],
   "source": [
    "# выделим данные для обучения с учетом стратификации: \n",
    "features_train, features_1, target_train, target_1 = train_test_split(\n",
    "    features, target, test_size=0.4, random_state=12345, stratify=target)"
   ]
  },
  {
   "cell_type": "code",
   "execution_count": 32,
   "id": "2a09efaa",
   "metadata": {},
   "outputs": [],
   "source": [
    "# выделим данные для валидации и тестирования с учетом стратификации:\n",
    "features_test, features_valid, target_test, target_valid = train_test_split(\n",
    "    features_1, target_1, test_size=0.5, random_state=12345, stratify=target_1)"
   ]
  },
  {
   "cell_type": "markdown",
   "id": "45cd1782",
   "metadata": {},
   "source": [
    "## Масштабирование данных"
   ]
  },
  {
   "cell_type": "code",
   "execution_count": 33,
   "id": "16f27e8c",
   "metadata": {},
   "outputs": [],
   "source": [
    "# создадим список столбцов, содержащих числовые значения: \n",
    "numeric = ['credit_score', 'age', 'balance', 'estimated_salary']"
   ]
  },
  {
   "cell_type": "code",
   "execution_count": 34,
   "id": "58dbf00d",
   "metadata": {},
   "outputs": [
    {
     "name": "stderr",
     "output_type": "stream",
     "text": [
      "/opt/conda/lib/python3.7/site-packages/ipykernel_launcher.py:5: SettingWithCopyWarning: \n",
      "A value is trying to be set on a copy of a slice from a DataFrame.\n",
      "Try using .loc[row_indexer,col_indexer] = value instead\n",
      "\n",
      "See the caveats in the documentation: http://pandas.pydata.org/pandas-docs/stable/user_guide/indexing.html#returning-a-view-versus-a-copy\n",
      "  \"\"\"\n",
      "/opt/conda/lib/python3.7/site-packages/pandas/core/indexing.py:494: SettingWithCopyWarning: \n",
      "A value is trying to be set on a copy of a slice from a DataFrame.\n",
      "Try using .loc[row_indexer,col_indexer] = value instead\n",
      "\n",
      "See the caveats in the documentation: http://pandas.pydata.org/pandas-docs/stable/user_guide/indexing.html#returning-a-view-versus-a-copy\n",
      "  self.obj[item] = s\n",
      "/opt/conda/lib/python3.7/site-packages/ipykernel_launcher.py:6: SettingWithCopyWarning: \n",
      "A value is trying to be set on a copy of a slice from a DataFrame.\n",
      "Try using .loc[row_indexer,col_indexer] = value instead\n",
      "\n",
      "See the caveats in the documentation: http://pandas.pydata.org/pandas-docs/stable/user_guide/indexing.html#returning-a-view-versus-a-copy\n",
      "  \n",
      "/opt/conda/lib/python3.7/site-packages/pandas/core/indexing.py:494: SettingWithCopyWarning: \n",
      "A value is trying to be set on a copy of a slice from a DataFrame.\n",
      "Try using .loc[row_indexer,col_indexer] = value instead\n",
      "\n",
      "See the caveats in the documentation: http://pandas.pydata.org/pandas-docs/stable/user_guide/indexing.html#returning-a-view-versus-a-copy\n",
      "  self.obj[item] = s\n",
      "/opt/conda/lib/python3.7/site-packages/ipykernel_launcher.py:7: SettingWithCopyWarning: \n",
      "A value is trying to be set on a copy of a slice from a DataFrame.\n",
      "Try using .loc[row_indexer,col_indexer] = value instead\n",
      "\n",
      "See the caveats in the documentation: http://pandas.pydata.org/pandas-docs/stable/user_guide/indexing.html#returning-a-view-versus-a-copy\n",
      "  import sys\n",
      "/opt/conda/lib/python3.7/site-packages/pandas/core/indexing.py:494: SettingWithCopyWarning: \n",
      "A value is trying to be set on a copy of a slice from a DataFrame.\n",
      "Try using .loc[row_indexer,col_indexer] = value instead\n",
      "\n",
      "See the caveats in the documentation: http://pandas.pydata.org/pandas-docs/stable/user_guide/indexing.html#returning-a-view-versus-a-copy\n",
      "  self.obj[item] = s\n"
     ]
    }
   ],
   "source": [
    "# стандартизируем числовые данные признаков:  \n",
    "scaler = StandardScaler()\n",
    "scaler.fit(features_train[numeric])\n",
    "\n",
    "features_train[numeric] = scaler.transform(features_train[numeric])\n",
    "features_valid[numeric] = scaler.transform(features_valid[numeric])\n",
    "features_test[numeric] = scaler.transform(features_test[numeric])"
   ]
  },
  {
   "cell_type": "markdown",
   "id": "26870a1e",
   "metadata": {},
   "source": [
    "## Увеличение обучающей выборки - upsampling"
   ]
  },
  {
   "cell_type": "code",
   "execution_count": 35,
   "id": "cc0a4a8d",
   "metadata": {},
   "outputs": [
    {
     "data": {
      "text/plain": [
       "3.9091801669121256"
      ]
     },
     "execution_count": 35,
     "metadata": {},
     "output_type": "execute_result"
    }
   ],
   "source": [
    "# рассмотрим разницу в количестве отрицательных и положительных объектов: \n",
    "target.value_counts()[0] / target.value_counts()[1]"
   ]
  },
  {
   "cell_type": "markdown",
   "id": "be772477",
   "metadata": {},
   "source": [
    "Так как разница почти 4 раза, создадим функцию для увеличения выборки по отрицательному признаку."
   ]
  },
  {
   "cell_type": "code",
   "execution_count": 36,
   "id": "72b9d380",
   "metadata": {},
   "outputs": [],
   "source": [
    "def upsample(features, target, repeat):\n",
    "    features_zeros = features[target == 0]\n",
    "    features_ones = features[target == 1]\n",
    "    target_zeros = target[target == 0]\n",
    "    target_ones = target[target == 1]\n",
    "\n",
    "    features_upsampled = pd.concat([features_zeros] + [features_ones] * repeat)\n",
    "    target_upsampled = pd.concat([target_zeros] + [target_ones] * repeat)\n",
    "    \n",
    "    features_upsampled, target_upsampled = shuffle(\n",
    "        features_upsampled, target_upsampled, random_state=12345)\n",
    "    \n",
    "    return features_upsampled, target_upsampled"
   ]
  },
  {
   "cell_type": "code",
   "execution_count": 37,
   "id": "8c056c11",
   "metadata": {},
   "outputs": [],
   "source": [
    "# вызовем полученную функцию на обучающую выборку: \n",
    "features_train, target_train = upsample(features_train, target_train, 4)"
   ]
  },
  {
   "cell_type": "markdown",
   "id": "f2bfd6a7",
   "metadata": {},
   "source": [
    "# Обучение моделей на категоризированных и стандартизированных данных "
   ]
  },
  {
   "cell_type": "markdown",
   "id": "8dc77dbd",
   "metadata": {},
   "source": [
    "## Модель - Логистическая регрессия"
   ]
  },
  {
   "cell_type": "code",
   "execution_count": 38,
   "id": "edbf9403",
   "metadata": {},
   "outputs": [
    {
     "data": {
      "image/png": "[encoded data removed]",
      "text/plain": [
       "<Figure size 432x288 with 1 Axes>"
      ]
     },
     "metadata": {
      "needs_background": "light"
     },
     "output_type": "display_data"
    },
    {
     "name": "stdout",
     "output_type": "stream",
     "text": [
      "Accuracy модели логистической регрессии на валидационной выборке: 0.749 \n",
      "F1 result:  0.5549645390070921 \n",
      "AUC-ROC:  0.8343752072565632\n",
      "CPU times: user 291 ms, sys: 117 ms, total: 407 ms\n",
      "Wall time: 424 ms\n"
     ]
    }
   ],
   "source": [
    "%%time\n",
    "model = LogisticRegression(random_state=12345, solver='liblinear', class_weight='balanced')\n",
    "model.fit(features_train, target_train)\n",
    "result = model.score(features_valid, target_valid)\n",
    "f1_result = f1_score(target_valid, model.predict(features_valid))\n",
    "\n",
    "probabilities_valid = model.predict_proba(features_valid)\n",
    "probabilities_one_valid = probabilities_valid[:, 1] \n",
    "auc_roc = roc_auc_score(target_valid, probabilities_one_valid)\n",
    "        \n",
    "fpr, tpr, thresholds = roc_curve(target_valid, probabilities_one_valid)\n",
    "\n",
    "plt.figure()\n",
    "plt.plot(fpr, tpr)\n",
    "plt.plot([0, 1], [0, 1], linestyle='--')\n",
    "plt.ylim([0.0, 1.0])\n",
    "plt.xlim([0.0, 1.0])\n",
    "plt.xlabel('False Positive Rate')\n",
    "plt.ylabel('True Positive Rate')\n",
    "plt.title('ROC-кривая на валидационных данных')\n",
    "plt.show()\n",
    "\n",
    "print(\"Accuracy модели логистической регрессии на валидационной выборке:\",\n",
    "      result, '\\nF1 result: ', f1_result, '\\nAUC-ROC: ', auc_roc)"
   ]
  },
  {
   "cell_type": "code",
   "execution_count": 39,
   "id": "7db956bb",
   "metadata": {},
   "outputs": [
    {
     "name": "stdout",
     "output_type": "stream",
     "text": [
      "Значение метрики F1 на тестовых данных: 0.5866177818515124\n",
      "AUC-ROC на тестовых данных: 0.8440964011232633\n"
     ]
    }
   ],
   "source": [
    "print(f'Значение метрики F1 на тестовых данных: {f1_score(target_test, model.predict(features_test))}')\n",
    "print(f'AUC-ROC на тестовых данных: {roc_auc_score(target_test, model.predict_proba(features_test)[:, 1])}')"
   ]
  },
  {
   "cell_type": "markdown",
   "id": "cbd86097",
   "metadata": {},
   "source": [
    "## Модель - Дерево решений"
   ]
  },
  {
   "cell_type": "code",
   "execution_count": 40,
   "id": "3d395e1a",
   "metadata": {
    "scrolled": false
   },
   "outputs": [
    {
     "data": {
      "image/png": "[encoded data removed]",
      "text/plain": [
       "<Figure size 432x288 with 1 Axes>"
      ]
     },
     "metadata": {
      "needs_background": "light"
     },
     "output_type": "display_data"
    },
    {
     "name": "stdout",
     "output_type": "stream",
     "text": [
      "F1 наилучшей модели \"Дерево решений\" на валидационной выборке: 0.5496489468405217 \n",
      "AUC-ROC:  0.8164227401515537 \n",
      "Depth:  4 \n",
      "Criterion:  entropy\n",
      "CPU times: user 651 ms, sys: 49.9 ms, total: 701 ms\n",
      "Wall time: 713 ms\n"
     ]
    }
   ],
   "source": [
    "%%time\n",
    "best_model = None\n",
    "best_result = 0\n",
    "best_depth = 0\n",
    "best_auc = 0\n",
    "criterions = ['gini', 'entropy']\n",
    "\n",
    "for criterion in criterions:\n",
    "    for x in range(1, 10):\n",
    "        model = DecisionTreeClassifier(random_state=12345,\n",
    "                                       max_depth=x,\n",
    "                                       criterion=criterion, \n",
    "                                       class_weight='balanced')\n",
    "        model.fit(features_train, target_train)\n",
    "        f1_result = f1_score(target_valid, model.predict(features_valid))\n",
    "        probabilities_valid = model.predict_proba(features_valid)\n",
    "        auc_roc = roc_auc_score(target_valid, probabilities_valid[:, 1])\n",
    "        if f1_result > best_result:\n",
    "            best_depth = x\n",
    "            best_model = model\n",
    "            best_result = f1_result\n",
    "            best_criterion = criterion\n",
    "            best_auc = auc_roc\n",
    "\n",
    "probabilities_valid = best_model.predict_proba(features_valid)\n",
    "probabilities_one_valid = probabilities_valid[:, 1]\n",
    "fpr, tpr, thresholds = roc_curve(target_valid, probabilities_one_valid)\n",
    "\n",
    "plt.figure()\n",
    "plt.plot(fpr, tpr)\n",
    "plt.plot([0, 1], [0, 1], linestyle='--')\n",
    "plt.ylim([0.0, 1.0])\n",
    "plt.xlim([0.0, 1.0])\n",
    "plt.xlabel('False Positive Rate')\n",
    "plt.ylabel('True Positive Rate')\n",
    "plt.title('ROC-кривая лучшей модели на валидационных данных')\n",
    "plt.show()\n",
    "\n",
    "print('F1 наилучшей модели \"Дерево решений\" на валидационной выборке:',\n",
    "      best_result, '\\nAUC-ROC: ', best_auc, '\\nDepth: ', best_depth,\n",
    "      '\\nCriterion: ', best_criterion)"
   ]
  },
  {
   "cell_type": "code",
   "execution_count": 41,
   "id": "597a051a",
   "metadata": {},
   "outputs": [
    {
     "name": "stdout",
     "output_type": "stream",
     "text": [
      "Значение метрики F1 на тестовых данных: 0.5903257650542941\n",
      "AUC-ROC на тестовых данных: 0.8391467139619667\n"
     ]
    }
   ],
   "source": [
    "print(f'Значение метрики F1 на тестовых данных: {f1_score(target_test, best_model.predict(features_test))}')\n",
    "print(f'AUC-ROC на тестовых данных: {roc_auc_score(target_test, best_model.predict_proba(features_test)[:, 1])}')"
   ]
  },
  {
   "cell_type": "markdown",
   "id": "3522ceb4",
   "metadata": {},
   "source": [
    "## Модель - Случайный лес"
   ]
  },
  {
   "cell_type": "code",
   "execution_count": 42,
   "id": "3a8bcc55",
   "metadata": {},
   "outputs": [
    {
     "data": {
      "image/png": "[encoded data removed]",
      "text/plain": [
       "<Figure size 432x288 with 1 Axes>"
      ]
     },
     "metadata": {
      "needs_background": "light"
     },
     "output_type": "display_data"
    },
    {
     "name": "stdout",
     "output_type": "stream",
     "text": [
      "F1 наилучшей модели 'Случайный лес' на валидационной выборке: 0.5747800586510264 \n",
      "AUC-ROC:  0.7690972945210233 \n",
      "Depth:  4 \n",
      "Number of estimators:  9 \n",
      "Criterion:  entropy\n",
      "CPU times: user 2.06 s, sys: 0 ns, total: 2.06 s\n",
      "Wall time: 2.08 s\n"
     ]
    }
   ],
   "source": [
    "%%time\n",
    "best_model = None\n",
    "best_result = 0\n",
    "best_est = 0\n",
    "best_auc = 0\n",
    "criterions = ['gini', 'entropy']\n",
    "\n",
    "for criterion in criterions:\n",
    "    for est in range(1, 20):\n",
    "        model = RandomForestClassifier(random_state=12345,\n",
    "                                       max_depth=4,\n",
    "                                       criterion=criterion,\n",
    "                                       n_estimators=est, \n",
    "                                       class_weight='balanced')\n",
    "        model.fit(features_train, target_train)\n",
    "        f1_result = f1_score(target_valid, model.predict(features_valid))\n",
    "        if f1_result > best_result:\n",
    "            best_est = est\n",
    "            best_model = model\n",
    "            best_result = f1_result\n",
    "            best_criterion = criterion\n",
    "            best_auc = auc_roc\n",
    "\n",
    "probabilities_valid = best_model.predict_proba(features_valid)\n",
    "probabilities_one_valid = probabilities_valid[:, 1]\n",
    "fpr, tpr, thresholds = roc_curve(target_valid, probabilities_one_valid)\n",
    "\n",
    "plt.figure()\n",
    "plt.plot(fpr, tpr)\n",
    "plt.plot([0, 1], [0, 1], linestyle='--')\n",
    "plt.ylim([0.0, 1.0])\n",
    "plt.xlim([0.0, 1.0])\n",
    "plt.xlabel('False Positive Rate')\n",
    "plt.ylabel('True Positive Rate')\n",
    "plt.title('ROC-кривая лучшей модели валидационных данных')\n",
    "plt.show()\n",
    "\n",
    "print(\"F1 наилучшей модели 'Случайный лес' на валидационной выборке:\",\n",
    "      best_result, '\\nAUC-ROC: ', best_auc, '\\nDepth: ', best_depth,\n",
    "      '\\nNumber of estimators: ', best_est, '\\nCriterion: ', best_criterion)"
   ]
  },
  {
   "cell_type": "code",
   "execution_count": 43,
   "id": "867a0951",
   "metadata": {
    "scrolled": true
   },
   "outputs": [
    {
     "name": "stdout",
     "output_type": "stream",
     "text": [
      "Значение метрики F1 на тестовых данных: 0.61003861003861\n",
      "AUC-ROC на тестовых данных: 0.8568270272933294\n"
     ]
    }
   ],
   "source": [
    "print(f'Значение метрики F1 на тестовых данных: {f1_score(target_test, best_model.predict(features_test))}')\n",
    "print(f'AUC-ROC на тестовых данных: {roc_auc_score(target_test, best_model.predict_proba(features_test)[:, 1])}')"
   ]
  },
  {
   "cell_type": "markdown",
   "id": "8c4be95f",
   "metadata": {},
   "source": [
    "# Вывод"
   ]
  },
  {
   "cell_type": "markdown",
   "id": "91b8c206",
   "metadata": {},
   "source": [
    "Наивысшее значение метрики F1 получено на модели **Случайный лес** с глубиной 4 и количеством деревьев 10. "
   ]
  },
  {
   "cell_type": "code",
   "execution_count": 46,
   "id": "aa6c0600",
   "metadata": {},
   "outputs": [
    {
     "data": {
      "text/plain": [
       "Text(0, 0.5, 'Фактор')"
      ]
     },
     "execution_count": 46,
     "metadata": {},
     "output_type": "execute_result"
    },
    {
     "data": {
      "image/png": "[encoded data removed]",
      "text/plain": [
       "<Figure size 864x432 with 1 Axes>"
      ]
     },
     "metadata": {
      "needs_background": "light"
     },
     "output_type": "display_data"
    }
   ],
   "source": [
    "feat_importances = pd.Series(best_model.feature_importances_, index=features_test.columns)\n",
    "plot = feat_importances.nlargest(12).plot(kind='barh', figsize=(12, 6))\n",
    "plot.axes.set_title('График важности факторов лучшей модели \"Случайный лес\"', fontsize=18)\n",
    "plot.set_xlabel('Важность фактора', fontsize=14)\n",
    "plot.set_ylabel('Фактор', fontsize=14)\n"
   ]
  }
 ],
 "metadata": {
  "ExecuteTimeLog": [
   {
    "duration": 1077,
    "start_time": "2022-03-09T20:31:48.728Z"
   },
   {
    "duration": 32,
    "start_time": "2022-03-09T20:31:49.807Z"
   },
   {
    "duration": 30,
    "start_time": "2022-03-09T20:31:49.841Z"
   },
   {
    "duration": 2,
    "start_time": "2022-03-09T20:31:49.873Z"
   },
   {
    "duration": 5,
    "start_time": "2022-03-09T20:31:49.877Z"
   },
   {
    "duration": 23,
    "start_time": "2022-03-09T20:31:49.883Z"
   },
   {
    "duration": 4,
    "start_time": "2022-03-09T20:31:49.908Z"
   },
   {
    "duration": 20,
    "start_time": "2022-03-09T20:31:49.914Z"
   },
   {
    "duration": 4,
    "start_time": "2022-03-09T20:31:49.936Z"
   },
   {
    "duration": 14,
    "start_time": "2022-03-09T20:31:49.941Z"
   },
   {
    "duration": 16,
    "start_time": "2022-03-09T20:31:49.956Z"
   },
   {
    "duration": 13,
    "start_time": "2022-03-09T20:31:49.973Z"
   },
   {
    "duration": 25,
    "start_time": "2022-03-09T20:31:49.988Z"
   },
   {
    "duration": 12,
    "start_time": "2022-03-09T20:31:50.014Z"
   },
   {
    "duration": 26,
    "start_time": "2022-03-09T20:31:50.027Z"
   },
   {
    "duration": 17,
    "start_time": "2022-03-09T20:31:50.054Z"
   },
   {
    "duration": 11,
    "start_time": "2022-03-09T20:31:50.072Z"
   },
   {
    "duration": 20,
    "start_time": "2022-03-09T20:31:50.084Z"
   },
   {
    "duration": 10,
    "start_time": "2022-03-09T20:31:50.105Z"
   },
   {
    "duration": 324,
    "start_time": "2022-03-09T20:31:50.116Z"
   },
   {
    "duration": 426,
    "start_time": "2022-03-09T20:31:50.442Z"
   },
   {
    "duration": 8,
    "start_time": "2022-03-09T20:31:50.870Z"
   },
   {
    "duration": 8,
    "start_time": "2022-03-09T20:31:50.880Z"
   },
   {
    "duration": 483,
    "start_time": "2022-03-09T20:31:50.890Z"
   },
   {
    "duration": 9,
    "start_time": "2022-03-09T20:31:51.375Z"
   },
   {
    "duration": 25,
    "start_time": "2022-03-09T20:31:51.386Z"
   },
   {
    "duration": 3,
    "start_time": "2022-03-09T20:31:51.412Z"
   },
   {
    "duration": 12,
    "start_time": "2022-03-09T20:31:51.417Z"
   },
   {
    "duration": 4,
    "start_time": "2022-03-09T20:31:51.430Z"
   },
   {
    "duration": 2,
    "start_time": "2022-03-09T20:31:51.435Z"
   },
   {
    "duration": 10,
    "start_time": "2022-03-09T20:31:51.439Z"
   },
   {
    "duration": 6,
    "start_time": "2022-03-09T20:31:51.450Z"
   },
   {
    "duration": 2,
    "start_time": "2022-03-09T20:31:51.457Z"
   },
   {
    "duration": 46,
    "start_time": "2022-03-09T20:31:51.460Z"
   },
   {
    "duration": 4,
    "start_time": "2022-03-09T20:31:51.507Z"
   },
   {
    "duration": 3,
    "start_time": "2022-03-09T20:31:51.513Z"
   },
   {
    "duration": 13,
    "start_time": "2022-03-09T20:31:51.517Z"
   },
   {
    "duration": 403,
    "start_time": "2022-03-09T20:31:51.531Z"
   },
   {
    "duration": 73,
    "start_time": "2022-03-09T20:31:51.935Z"
   },
   {
    "duration": 665,
    "start_time": "2022-03-09T20:31:52.010Z"
   },
   {
    "duration": 7,
    "start_time": "2022-03-09T20:31:52.677Z"
   },
   {
    "duration": 1956,
    "start_time": "2022-03-09T20:31:52.686Z"
   },
   {
    "duration": 12,
    "start_time": "2022-03-09T20:31:54.643Z"
   },
   {
    "duration": 4,
    "start_time": "2022-03-09T20:31:54.656Z"
   },
   {
    "duration": 37,
    "start_time": "2022-03-09T20:34:43.389Z"
   },
   {
    "duration": 30,
    "start_time": "2022-03-09T20:34:45.919Z"
   },
   {
    "duration": 29,
    "start_time": "2022-03-09T20:34:48.432Z"
   },
   {
    "duration": 3,
    "start_time": "2022-03-09T20:34:56.404Z"
   },
   {
    "duration": 3,
    "start_time": "2022-03-09T20:34:57.089Z"
   },
   {
    "duration": 9,
    "start_time": "2022-03-09T20:34:57.837Z"
   },
   {
    "duration": 6,
    "start_time": "2022-03-09T20:34:59.397Z"
   },
   {
    "duration": 5,
    "start_time": "2022-03-09T20:35:03.018Z"
   },
   {
    "duration": 4,
    "start_time": "2022-03-09T20:35:06.882Z"
   },
   {
    "duration": 8,
    "start_time": "2022-03-09T20:35:07.625Z"
   },
   {
    "duration": 4,
    "start_time": "2022-03-09T20:35:13.633Z"
   },
   {
    "duration": 5,
    "start_time": "2022-03-09T20:35:14.133Z"
   },
   {
    "duration": 6,
    "start_time": "2022-03-09T20:35:14.571Z"
   },
   {
    "duration": 3,
    "start_time": "2022-03-09T20:35:16.602Z"
   },
   {
    "duration": 10,
    "start_time": "2022-03-09T20:35:17.118Z"
   },
   {
    "duration": 4,
    "start_time": "2022-03-09T20:35:21.155Z"
   },
   {
    "duration": 3,
    "start_time": "2022-03-09T20:35:21.652Z"
   },
   {
    "duration": 82,
    "start_time": "2022-03-09T20:35:22.983Z"
   },
   {
    "duration": 5,
    "start_time": "2022-03-09T20:35:23.257Z"
   },
   {
    "duration": 325,
    "start_time": "2022-03-09T20:35:25.047Z"
   },
   {
    "duration": 425,
    "start_time": "2022-03-09T20:35:34.455Z"
   },
   {
    "duration": 9,
    "start_time": "2022-03-09T20:35:52.259Z"
   },
   {
    "duration": 8,
    "start_time": "2022-03-09T20:35:52.972Z"
   },
   {
    "duration": 481,
    "start_time": "2022-03-09T20:35:54.058Z"
   },
   {
    "duration": 11,
    "start_time": "2022-03-09T20:35:54.639Z"
   },
   {
    "duration": 11,
    "start_time": "2022-03-09T20:35:55.300Z"
   },
   {
    "duration": 4,
    "start_time": "2022-03-09T20:35:58.420Z"
   },
   {
    "duration": 11,
    "start_time": "2022-03-09T20:35:58.968Z"
   },
   {
    "duration": 4,
    "start_time": "2022-03-09T20:35:59.874Z"
   },
   {
    "duration": 3,
    "start_time": "2022-03-09T20:36:00.290Z"
   },
   {
    "duration": 9,
    "start_time": "2022-03-09T20:36:01.354Z"
   },
   {
    "duration": 7,
    "start_time": "2022-03-09T20:36:02.005Z"
   },
   {
    "duration": 3,
    "start_time": "2022-03-09T20:36:03.195Z"
   },
   {
    "duration": 19,
    "start_time": "2022-03-09T20:36:03.941Z"
   },
   {
    "duration": 7,
    "start_time": "2022-03-09T20:36:07.530Z"
   },
   {
    "duration": 4,
    "start_time": "2022-03-09T20:36:08.615Z"
   },
   {
    "duration": 12,
    "start_time": "2022-03-09T20:36:09.378Z"
   },
   {
    "duration": 378,
    "start_time": "2022-03-09T20:36:10.957Z"
   },
   {
    "duration": 11,
    "start_time": "2022-03-09T20:36:17.849Z"
   },
   {
    "duration": 560,
    "start_time": "2022-03-09T20:36:19.032Z"
   },
   {
    "duration": 10,
    "start_time": "2022-03-09T20:36:24.890Z"
   },
   {
    "duration": 1819,
    "start_time": "2022-03-09T20:36:27.967Z"
   },
   {
    "duration": 13,
    "start_time": "2022-03-09T20:36:33.259Z"
   },
   {
    "duration": 5,
    "start_time": "2022-03-09T20:36:48.336Z"
   },
   {
    "duration": 390,
    "start_time": "2022-03-09T20:36:59.283Z"
   },
   {
    "duration": 6,
    "start_time": "2022-03-09T20:37:16.900Z"
   },
   {
    "duration": 306,
    "start_time": "2022-03-09T20:37:26.617Z"
   },
   {
    "duration": 6,
    "start_time": "2022-03-09T20:37:33.513Z"
   },
   {
    "duration": 318,
    "start_time": "2022-03-09T20:39:23.822Z"
   },
   {
    "duration": 303,
    "start_time": "2022-03-09T20:39:34.262Z"
   },
   {
    "duration": 297,
    "start_time": "2022-03-09T20:39:48.485Z"
   },
   {
    "duration": 203,
    "start_time": "2022-03-09T20:41:42.428Z"
   },
   {
    "duration": 157,
    "start_time": "2022-03-09T20:43:03.609Z"
   },
   {
    "duration": 151,
    "start_time": "2022-03-09T20:43:23.748Z"
   },
   {
    "duration": 169,
    "start_time": "2022-03-09T20:55:28.683Z"
   },
   {
    "duration": 173,
    "start_time": "2022-03-09T20:57:47.864Z"
   },
   {
    "duration": 517,
    "start_time": "2022-03-09T20:58:10.661Z"
   },
   {
    "duration": 453,
    "start_time": "2022-03-09T20:58:23.918Z"
   },
   {
    "duration": 519,
    "start_time": "2022-03-09T20:58:46.345Z"
   },
   {
    "duration": 216,
    "start_time": "2022-03-09T20:58:57.734Z"
   },
   {
    "duration": 214,
    "start_time": "2022-03-09T20:59:15.239Z"
   },
   {
    "duration": 1048,
    "start_time": "2022-03-09T20:59:42.981Z"
   },
   {
    "duration": 31,
    "start_time": "2022-03-09T20:59:44.031Z"
   },
   {
    "duration": 29,
    "start_time": "2022-03-09T20:59:44.064Z"
   },
   {
    "duration": 3,
    "start_time": "2022-03-09T20:59:44.094Z"
   },
   {
    "duration": 5,
    "start_time": "2022-03-09T20:59:44.098Z"
   },
   {
    "duration": 9,
    "start_time": "2022-03-09T20:59:44.104Z"
   },
   {
    "duration": 6,
    "start_time": "2022-03-09T20:59:44.114Z"
   },
   {
    "duration": 3,
    "start_time": "2022-03-09T20:59:44.123Z"
   },
   {
    "duration": 6,
    "start_time": "2022-03-09T20:59:44.128Z"
   },
   {
    "duration": 8,
    "start_time": "2022-03-09T20:59:44.135Z"
   },
   {
    "duration": 4,
    "start_time": "2022-03-09T20:59:44.144Z"
   },
   {
    "duration": 6,
    "start_time": "2022-03-09T20:59:44.150Z"
   },
   {
    "duration": 5,
    "start_time": "2022-03-09T20:59:44.158Z"
   },
   {
    "duration": 4,
    "start_time": "2022-03-09T20:59:44.164Z"
   },
   {
    "duration": 45,
    "start_time": "2022-03-09T20:59:44.169Z"
   },
   {
    "duration": 5,
    "start_time": "2022-03-09T20:59:44.215Z"
   },
   {
    "duration": 6,
    "start_time": "2022-03-09T20:59:44.221Z"
   },
   {
    "duration": 8,
    "start_time": "2022-03-09T20:59:44.228Z"
   },
   {
    "duration": 14,
    "start_time": "2022-03-09T20:59:44.237Z"
   },
   {
    "duration": 395,
    "start_time": "2022-03-09T20:59:44.252Z"
   },
   {
    "duration": 431,
    "start_time": "2022-03-09T20:59:44.649Z"
   },
   {
    "duration": 9,
    "start_time": "2022-03-09T20:59:45.082Z"
   },
   {
    "duration": 17,
    "start_time": "2022-03-09T20:59:45.094Z"
   },
   {
    "duration": 523,
    "start_time": "2022-03-09T20:59:45.112Z"
   },
   {
    "duration": 11,
    "start_time": "2022-03-09T20:59:45.637Z"
   },
   {
    "duration": 12,
    "start_time": "2022-03-09T20:59:45.650Z"
   },
   {
    "duration": 4,
    "start_time": "2022-03-09T20:59:45.663Z"
   },
   {
    "duration": 39,
    "start_time": "2022-03-09T20:59:45.669Z"
   },
   {
    "duration": 6,
    "start_time": "2022-03-09T20:59:45.710Z"
   },
   {
    "duration": 4,
    "start_time": "2022-03-09T20:59:45.717Z"
   },
   {
    "duration": 14,
    "start_time": "2022-03-09T20:59:45.723Z"
   },
   {
    "duration": 7,
    "start_time": "2022-03-09T20:59:45.738Z"
   },
   {
    "duration": 3,
    "start_time": "2022-03-09T20:59:45.746Z"
   },
   {
    "duration": 24,
    "start_time": "2022-03-09T20:59:45.750Z"
   },
   {
    "duration": 30,
    "start_time": "2022-03-09T20:59:45.776Z"
   },
   {
    "duration": 4,
    "start_time": "2022-03-09T20:59:45.807Z"
   },
   {
    "duration": 15,
    "start_time": "2022-03-09T20:59:45.812Z"
   },
   {
    "duration": 429,
    "start_time": "2022-03-09T20:59:45.828Z"
   },
   {
    "duration": 51,
    "start_time": "2022-03-09T20:59:46.258Z"
   },
   {
    "duration": 811,
    "start_time": "2022-03-09T20:59:46.311Z"
   },
   {
    "duration": 9,
    "start_time": "2022-03-09T20:59:47.123Z"
   },
   {
    "duration": 2082,
    "start_time": "2022-03-09T20:59:47.133Z"
   },
   {
    "duration": 12,
    "start_time": "2022-03-09T20:59:49.216Z"
   },
   {
    "duration": 289,
    "start_time": "2022-03-09T20:59:49.230Z"
   },
   {
    "duration": 318,
    "start_time": "2022-03-09T21:00:15.212Z"
   },
   {
    "duration": 253,
    "start_time": "2022-03-09T21:00:28.661Z"
   }
  ],
  "kernelspec": {
   "display_name": "Python 3 (ipykernel)",
   "language": "python",
   "name": "python3"
  },
  "language_info": {
   "codemirror_mode": {
    "name": "ipython",
    "version": 3
   },
   "file_extension": ".py",
   "mimetype": "text/x-python",
   "name": "python",
   "nbconvert_exporter": "python",
   "pygments_lexer": "ipython3",
   "version": "3.8.12"
  },
  "toc": {
   "base_numbering": 1,
   "nav_menu": {},
   "number_sections": true,
   "sideBar": true,
   "skip_h1_title": false,
   "title_cell": "Table of Contents",
   "title_sidebar": "Contents",
   "toc_cell": false,
   "toc_position": {
    "height": "calc(100% - 180px)",
    "left": "10px",
    "top": "150px",
    "width": "295.825px"
   },
   "toc_section_display": true,
   "toc_window_display": false
  },
  "varInspector": {
   "cols": {
    "lenName": 16,
    "lenType": 16,
    "lenVar": 40
   },
   "kernels_config": {
    "python": {
     "delete_cmd_postfix": "",
     "delete_cmd_prefix": "del ",
     "library": "var_list.py",
     "varRefreshCmd": "print(var_dic_list())"
    },
    "r": {
     "delete_cmd_postfix": ") ",
     "delete_cmd_prefix": "rm(",
     "library": "var_list.r",
     "varRefreshCmd": "cat(var_dic_list()) "
    }
   },
   "types_to_exclude": [
    "module",
    "function",
    "builtin_function_or_method",
    "instance",
    "_Feature"
   ],
   "window_display": false
  }
 },
 "nbformat": 4,
 "nbformat_minor": 5
}
