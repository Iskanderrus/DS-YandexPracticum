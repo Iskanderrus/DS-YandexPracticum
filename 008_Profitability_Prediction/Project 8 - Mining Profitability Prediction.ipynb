{
 "cells": [
  {
   "cell_type": "markdown",
   "id": "3c4e0442",
   "metadata": {},
   "source": [
    "# Выбор локации для скважины"
   ]
  },
  {
   "cell_type": "markdown",
   "id": "748fd816",
   "metadata": {},
   "source": [
    "Допустим, вы работаете в добывающей компании «ГлавРосГосНефть». Нужно решить, где бурить новую скважину.\n",
    "\n",
    "Вам предоставлены пробы нефти в трёх регионах: в каждом 10 000 месторождений, где измерили качество нефти и объём её запасов. Постройте модель машинного обучения, которая поможет определить регион, где добыча принесёт наибольшую прибыль. Проанализируйте возможную прибыль и риски техникой *Bootstrap.*\n",
    "\n",
    "Шаги для выбора локации:\n",
    "\n",
    "- В избранном регионе ищут месторождения, для каждого определяют значения признаков;\n",
    "- Строят модель и оценивают объём запасов;\n",
    "- Выбирают месторождения с самым высокими оценками значений. Количество месторождений зависит от бюджета компании и стоимости разработки одной скважины;\n",
    "- Прибыль равна суммарной прибыли отобранных месторождений."
   ]
  },
  {
   "cell_type": "markdown",
   "id": "97d4f3b0",
   "metadata": {},
   "source": [
    "## Загрузка и подготовка данных"
   ]
  },
  {
   "cell_type": "markdown",
   "id": "0e9c66be",
   "metadata": {},
   "source": [
    "### Импорт библиотек"
   ]
  },
  {
   "cell_type": "code",
   "execution_count": 1,
   "id": "acdae39c",
   "metadata": {},
   "outputs": [],
   "source": [
    "import pandas as pd\n",
    "import os\n",
    "import numpy as np\n",
    "from scipy import stats as st\n",
    "\n",
    "from matplotlib import pyplot\n",
    "from matplotlib.pyplot import figure\n",
    "import seaborn as sns\n",
    "\n",
    "from sklearn.linear_model import LinearRegression\n",
    "from sklearn.metrics import mean_squared_error\n",
    "\n",
    "from sklearn.model_selection import train_test_split\n",
    "\n",
    "pd.set_option('display.float_format', lambda x: '%.2f' % x)\n",
    "pyplot.style.use('seaborn-deep')\n",
    "state = np.random.RandomState(12345)"
   ]
  },
  {
   "cell_type": "markdown",
   "id": "0194afb6",
   "metadata": {},
   "source": [
    "### Откроем локальную или веб-версию файлов данных"
   ]
  },
  {
   "cell_type": "markdown",
   "id": "3688a768",
   "metadata": {},
   "source": [
    "Напишем функцию поиска файлов на локальном диске или в сети;<br>\n",
    "После того как файлы найдены, прочтем их, получив детальную сводку."
   ]
  },
  {
   "cell_type": "code",
   "execution_count": 2,
   "id": "7b0f4e8b",
   "metadata": {},
   "outputs": [
    {
     "name": "stdout",
     "output_type": "stream",
     "text": [
      "Файл geo_data_0.csv открыт в режиме online.\n",
      "Файл geo_data_1.csv открыт в режиме online.\n",
      "Файл geo_data_2.csv открыт в режиме online.\n"
     ]
    }
   ],
   "source": [
    "def find(name, path):\n",
    "    '''\n",
    "    Function to find the data file stored locally.\n",
    "    Takes name of the file and root directory.\n",
    "    Scanes the local directory tree for the first orrurance of the file.\n",
    "    '''\n",
    "    for root, dirs, files in os.walk(path):\n",
    "        if name in files:\n",
    "            return os.path.join(root, name)\n",
    "\n",
    "\n",
    "online_path = 'datasets'\n",
    "offline_path = '/home/'\n",
    "files = ['geo_data_0.csv', 'geo_data_1.csv', 'geo_data_2.csv']\n",
    "df_list = []\n",
    "\n",
    "for file in files:\n",
    "    try:\n",
    "        df = pd.read_csv(f'/{online_path}/{file}', index_col='id')\n",
    "        df_list.append(df)\n",
    "    except FileNotFoundError:\n",
    "        df = pd.read_csv(find(file, offline_path), index_col='id')\n",
    "        df_list.append(df)\n",
    "        print(f\"Файл {file} найден на локальном диске.\")\n",
    "    else:\n",
    "        print(f\"Файл {file} открыт в режиме online.\")"
   ]
  },
  {
   "cell_type": "code",
   "execution_count": 3,
   "id": "7d7be084",
   "metadata": {},
   "outputs": [
    {
     "name": "stdout",
     "output_type": "stream",
     "text": [
      "Внешний вид первых пяти строк датафрейма \u001b[1mGEO_DATA_0\u001b[0;0m:\n"
     ]
    },
    {
     "data": {
      "text/html": [
       "<div>\n",
       "<style scoped>\n",
       "    .dataframe tbody tr th:only-of-type {\n",
       "        vertical-align: middle;\n",
       "    }\n",
       "\n",
       "    .dataframe tbody tr th {\n",
       "        vertical-align: top;\n",
       "    }\n",
       "\n",
       "    .dataframe thead th {\n",
       "        text-align: right;\n",
       "    }\n",
       "</style>\n",
       "<table border=\"1\" class=\"dataframe\">\n",
       "  <thead>\n",
       "    <tr style=\"text-align: right;\">\n",
       "      <th></th>\n",
       "      <th>f0</th>\n",
       "      <th>f1</th>\n",
       "      <th>f2</th>\n",
       "      <th>product</th>\n",
       "    </tr>\n",
       "    <tr>\n",
       "      <th>id</th>\n",
       "      <th></th>\n",
       "      <th></th>\n",
       "      <th></th>\n",
       "      <th></th>\n",
       "    </tr>\n",
       "  </thead>\n",
       "  <tbody>\n",
       "    <tr>\n",
       "      <th>txEyH</th>\n",
       "      <td>0.71</td>\n",
       "      <td>-0.50</td>\n",
       "      <td>1.22</td>\n",
       "      <td>105.28</td>\n",
       "    </tr>\n",
       "    <tr>\n",
       "      <th>2acmU</th>\n",
       "      <td>1.33</td>\n",
       "      <td>-0.34</td>\n",
       "      <td>4.37</td>\n",
       "      <td>73.04</td>\n",
       "    </tr>\n",
       "    <tr>\n",
       "      <th>409Wp</th>\n",
       "      <td>1.02</td>\n",
       "      <td>0.15</td>\n",
       "      <td>1.42</td>\n",
       "      <td>85.27</td>\n",
       "    </tr>\n",
       "    <tr>\n",
       "      <th>iJLyR</th>\n",
       "      <td>-0.03</td>\n",
       "      <td>0.14</td>\n",
       "      <td>2.98</td>\n",
       "      <td>168.62</td>\n",
       "    </tr>\n",
       "    <tr>\n",
       "      <th>Xdl7t</th>\n",
       "      <td>1.99</td>\n",
       "      <td>0.16</td>\n",
       "      <td>4.75</td>\n",
       "      <td>154.04</td>\n",
       "    </tr>\n",
       "  </tbody>\n",
       "</table>\n",
       "</div>"
      ],
      "text/plain": [
       "         f0    f1   f2  product\n",
       "id                             \n",
       "txEyH  0.71 -0.50 1.22   105.28\n",
       "2acmU  1.33 -0.34 4.37    73.04\n",
       "409Wp  1.02  0.15 1.42    85.27\n",
       "iJLyR -0.03  0.14 2.98   168.62\n",
       "Xdl7t  1.99  0.16 4.75   154.04"
      ]
     },
     "metadata": {},
     "output_type": "display_data"
    },
    {
     "name": "stdout",
     "output_type": "stream",
     "text": [
      "\n",
      "Размер датафрейма \u001b[1mGEO_DATA_0\u001b[0;0m:         \n",
      "количество строк - 100000, \n",
      "количество столбцов - 4.\n",
      "\n",
      "Развернутая сводка датафрейма \u001b[1mGEO_DATA_0\u001b[0;0m \n",
      "по наименованию столбцов, типу данных, ненулевых значениях и объему памяти:\n",
      "\n",
      "<class 'pandas.core.frame.DataFrame'>\n",
      "Index: 100000 entries, txEyH to 1CWhH\n",
      "Data columns (total 4 columns):\n",
      " #   Column   Non-Null Count   Dtype  \n",
      "---  ------   --------------   -----  \n",
      " 0   f0       100000 non-null  float64\n",
      " 1   f1       100000 non-null  float64\n",
      " 2   f2       100000 non-null  float64\n",
      " 3   product  100000 non-null  float64\n",
      "dtypes: float64(4)\n",
      "memory usage: 9.0 MB\n",
      "--------------------------------------------------------------------\n",
      "\n",
      "Внешний вид первых пяти строк датафрейма \u001b[1mGEO_DATA_1\u001b[0;0m:\n"
     ]
    },
    {
     "data": {
      "text/html": [
       "<div>\n",
       "<style scoped>\n",
       "    .dataframe tbody tr th:only-of-type {\n",
       "        vertical-align: middle;\n",
       "    }\n",
       "\n",
       "    .dataframe tbody tr th {\n",
       "        vertical-align: top;\n",
       "    }\n",
       "\n",
       "    .dataframe thead th {\n",
       "        text-align: right;\n",
       "    }\n",
       "</style>\n",
       "<table border=\"1\" class=\"dataframe\">\n",
       "  <thead>\n",
       "    <tr style=\"text-align: right;\">\n",
       "      <th></th>\n",
       "      <th>f0</th>\n",
       "      <th>f1</th>\n",
       "      <th>f2</th>\n",
       "      <th>product</th>\n",
       "    </tr>\n",
       "    <tr>\n",
       "      <th>id</th>\n",
       "      <th></th>\n",
       "      <th></th>\n",
       "      <th></th>\n",
       "      <th></th>\n",
       "    </tr>\n",
       "  </thead>\n",
       "  <tbody>\n",
       "    <tr>\n",
       "      <th>txEyH</th>\n",
       "      <td>0.71</td>\n",
       "      <td>-0.50</td>\n",
       "      <td>1.22</td>\n",
       "      <td>105.28</td>\n",
       "    </tr>\n",
       "    <tr>\n",
       "      <th>2acmU</th>\n",
       "      <td>1.33</td>\n",
       "      <td>-0.34</td>\n",
       "      <td>4.37</td>\n",
       "      <td>73.04</td>\n",
       "    </tr>\n",
       "    <tr>\n",
       "      <th>409Wp</th>\n",
       "      <td>1.02</td>\n",
       "      <td>0.15</td>\n",
       "      <td>1.42</td>\n",
       "      <td>85.27</td>\n",
       "    </tr>\n",
       "    <tr>\n",
       "      <th>iJLyR</th>\n",
       "      <td>-0.03</td>\n",
       "      <td>0.14</td>\n",
       "      <td>2.98</td>\n",
       "      <td>168.62</td>\n",
       "    </tr>\n",
       "    <tr>\n",
       "      <th>Xdl7t</th>\n",
       "      <td>1.99</td>\n",
       "      <td>0.16</td>\n",
       "      <td>4.75</td>\n",
       "      <td>154.04</td>\n",
       "    </tr>\n",
       "  </tbody>\n",
       "</table>\n",
       "</div>"
      ],
      "text/plain": [
       "         f0    f1   f2  product\n",
       "id                             \n",
       "txEyH  0.71 -0.50 1.22   105.28\n",
       "2acmU  1.33 -0.34 4.37    73.04\n",
       "409Wp  1.02  0.15 1.42    85.27\n",
       "iJLyR -0.03  0.14 2.98   168.62\n",
       "Xdl7t  1.99  0.16 4.75   154.04"
      ]
     },
     "metadata": {},
     "output_type": "display_data"
    },
    {
     "name": "stdout",
     "output_type": "stream",
     "text": [
      "\n",
      "Размер датафрейма \u001b[1mGEO_DATA_1\u001b[0;0m:         \n",
      "количество строк - 100000, \n",
      "количество столбцов - 4.\n",
      "\n",
      "Развернутая сводка датафрейма \u001b[1mGEO_DATA_1\u001b[0;0m \n",
      "по наименованию столбцов, типу данных, ненулевых значениях и объему памяти:\n",
      "\n",
      "<class 'pandas.core.frame.DataFrame'>\n",
      "Index: 100000 entries, txEyH to 1CWhH\n",
      "Data columns (total 4 columns):\n",
      " #   Column   Non-Null Count   Dtype  \n",
      "---  ------   --------------   -----  \n",
      " 0   f0       100000 non-null  float64\n",
      " 1   f1       100000 non-null  float64\n",
      " 2   f2       100000 non-null  float64\n",
      " 3   product  100000 non-null  float64\n",
      "dtypes: float64(4)\n",
      "memory usage: 9.0 MB\n",
      "--------------------------------------------------------------------\n",
      "\n",
      "Внешний вид первых пяти строк датафрейма \u001b[1mGEO_DATA_2\u001b[0;0m:\n"
     ]
    },
    {
     "data": {
      "text/html": [
       "<div>\n",
       "<style scoped>\n",
       "    .dataframe tbody tr th:only-of-type {\n",
       "        vertical-align: middle;\n",
       "    }\n",
       "\n",
       "    .dataframe tbody tr th {\n",
       "        vertical-align: top;\n",
       "    }\n",
       "\n",
       "    .dataframe thead th {\n",
       "        text-align: right;\n",
       "    }\n",
       "</style>\n",
       "<table border=\"1\" class=\"dataframe\">\n",
       "  <thead>\n",
       "    <tr style=\"text-align: right;\">\n",
       "      <th></th>\n",
       "      <th>f0</th>\n",
       "      <th>f1</th>\n",
       "      <th>f2</th>\n",
       "      <th>product</th>\n",
       "    </tr>\n",
       "    <tr>\n",
       "      <th>id</th>\n",
       "      <th></th>\n",
       "      <th></th>\n",
       "      <th></th>\n",
       "      <th></th>\n",
       "    </tr>\n",
       "  </thead>\n",
       "  <tbody>\n",
       "    <tr>\n",
       "      <th>txEyH</th>\n",
       "      <td>0.71</td>\n",
       "      <td>-0.50</td>\n",
       "      <td>1.22</td>\n",
       "      <td>105.28</td>\n",
       "    </tr>\n",
       "    <tr>\n",
       "      <th>2acmU</th>\n",
       "      <td>1.33</td>\n",
       "      <td>-0.34</td>\n",
       "      <td>4.37</td>\n",
       "      <td>73.04</td>\n",
       "    </tr>\n",
       "    <tr>\n",
       "      <th>409Wp</th>\n",
       "      <td>1.02</td>\n",
       "      <td>0.15</td>\n",
       "      <td>1.42</td>\n",
       "      <td>85.27</td>\n",
       "    </tr>\n",
       "    <tr>\n",
       "      <th>iJLyR</th>\n",
       "      <td>-0.03</td>\n",
       "      <td>0.14</td>\n",
       "      <td>2.98</td>\n",
       "      <td>168.62</td>\n",
       "    </tr>\n",
       "    <tr>\n",
       "      <th>Xdl7t</th>\n",
       "      <td>1.99</td>\n",
       "      <td>0.16</td>\n",
       "      <td>4.75</td>\n",
       "      <td>154.04</td>\n",
       "    </tr>\n",
       "  </tbody>\n",
       "</table>\n",
       "</div>"
      ],
      "text/plain": [
       "         f0    f1   f2  product\n",
       "id                             \n",
       "txEyH  0.71 -0.50 1.22   105.28\n",
       "2acmU  1.33 -0.34 4.37    73.04\n",
       "409Wp  1.02  0.15 1.42    85.27\n",
       "iJLyR -0.03  0.14 2.98   168.62\n",
       "Xdl7t  1.99  0.16 4.75   154.04"
      ]
     },
     "metadata": {},
     "output_type": "display_data"
    },
    {
     "name": "stdout",
     "output_type": "stream",
     "text": [
      "\n",
      "Размер датафрейма \u001b[1mGEO_DATA_2\u001b[0;0m:         \n",
      "количество строк - 100000, \n",
      "количество столбцов - 4.\n",
      "\n",
      "Развернутая сводка датафрейма \u001b[1mGEO_DATA_2\u001b[0;0m \n",
      "по наименованию столбцов, типу данных, ненулевых значениях и объему памяти:\n",
      "\n",
      "<class 'pandas.core.frame.DataFrame'>\n",
      "Index: 100000 entries, txEyH to 1CWhH\n",
      "Data columns (total 4 columns):\n",
      " #   Column   Non-Null Count   Dtype  \n",
      "---  ------   --------------   -----  \n",
      " 0   f0       100000 non-null  float64\n",
      " 1   f1       100000 non-null  float64\n",
      " 2   f2       100000 non-null  float64\n",
      " 3   product  100000 non-null  float64\n",
      "dtypes: float64(4)\n",
      "memory usage: 9.0 MB\n",
      "--------------------------------------------------------------------\n",
      "\n"
     ]
    }
   ],
   "source": [
    "counter = 0\n",
    "for file in files:\n",
    "    start = \"\\033[1m\"\n",
    "    end = \"\\033[0;0m\"\n",
    "    print(\n",
    "        f\"Внешний вид первых пяти строк датафрейма {start}{str(file).split('.')[0].upper()}{end}:\"\n",
    "    )\n",
    "    display(df_list[counter].head())\n",
    "    print()\n",
    "    print(f\"Размер датафрейма {start}{str(file).split('.')[0].upper()}{end}: \\\n",
    "        \\nколичество строк - {df_list[counter].shape[0]}, \\nколичество столбцов - {df_list[counter].shape[1]}.\"\n",
    "          )\n",
    "    print()\n",
    "    print(\n",
    "        f\"Развернутая сводка датафрейма {start}{str(file).split('.')[0].upper()}{end} \\nпо наименованию столбцов, типу данных, ненулевых значениях и объему памяти:\"\n",
    "    )\n",
    "    print()\n",
    "    df_list[counter].info(memory_usage='deep')\n",
    "    print(\n",
    "        '--------------------------------------------------------------------')\n",
    "    print()"
   ]
  },
  {
   "cell_type": "code",
   "execution_count": 4,
   "id": "e98e9111",
   "metadata": {},
   "outputs": [
    {
     "name": "stdout",
     "output_type": "stream",
     "text": [
      "0\n",
      "0\n",
      "0\n"
     ]
    }
   ],
   "source": [
    "# проверим наличие дубликатов в каждом датафрейме:\n",
    "for df in df_list:\n",
    "    print(df.duplicated().sum())"
   ]
  },
  {
   "cell_type": "markdown",
   "id": "b159af18",
   "metadata": {},
   "source": [
    "### _Промежуточные выводы_"
   ]
  },
  {
   "cell_type": "markdown",
   "id": "4c68e443",
   "metadata": {},
   "source": [
    "Данные в датафреймах не имеют пропусков и дубликатов. Типы данных соответствуют реальным данным. Дальнейшая подготовка данных не требуется. "
   ]
  },
  {
   "cell_type": "markdown",
   "id": "7340694a",
   "metadata": {},
   "source": [
    "## Обучение и проверка модели"
   ]
  },
  {
   "cell_type": "code",
   "execution_count": 5,
   "id": "aa63c0d7",
   "metadata": {},
   "outputs": [],
   "source": [
    "real_product = []\n",
    "predictions = []\n",
    "accuracy_list = []\n",
    "models_list = []\n",
    "index_list = []\n",
    "for df in df_list:\n",
    "    # разбиваем данные на параметры и целевые значения:\n",
    "    features = df.drop(['product'], axis=1)\n",
    "    target = df['product']\n",
    "\n",
    "    # разделение данных на обучающую и валидационную выборки:\n",
    "    features_train, features_valid, target_train, target_valid = train_test_split(\n",
    "        features, target, test_size=0.25, random_state=state)\n",
    "\n",
    "    # обучение модели и получение предсказаний:\n",
    "    model = LinearRegression()\n",
    "    model.fit(features_train, target_train)\n",
    "    predictions_valid = model.predict(features_valid)\n",
    "    result = model.score(features_valid, target_valid)\n",
    "\n",
    "    # сохранение данных:\n",
    "    index_list.append(features_valid.index)\n",
    "    real_product.append(target_valid)\n",
    "    predictions.append(predictions_valid)\n",
    "    accuracy_list.append(result)\n",
    "    models_list.append(model)"
   ]
  },
  {
   "cell_type": "code",
   "execution_count": 6,
   "id": "cd13ed89",
   "metadata": {
    "scrolled": false
   },
   "outputs": [
    {
     "name": "stdout",
     "output_type": "stream",
     "text": [
      "\n",
      "_______________________________________________________\n",
      "\n",
      "Accuracy модели на данных датафрейма geo_data_0.csv: 0.28\n",
      "RMSE модели на данных датафрейма geo_data_0.csv: 37.579\n",
      "Средний запас предсказанного сырья на данных датафрейма geo_data_0.csv: 92.593\n",
      "Средний фактический запас сырья на данных датафрейма geo_data_0.csv: 92.079\n",
      "\n",
      "_______________________________________________________\n",
      "\n",
      "Accuracy модели на данных датафрейма geo_data_1.csv: 1.0\n",
      "RMSE модели на данных датафрейма geo_data_1.csv: 0.89\n",
      "Средний запас предсказанного сырья на данных датафрейма geo_data_1.csv: 68.77\n",
      "Средний фактический запас сырья на данных датафрейма geo_data_1.csv: 68.772\n",
      "\n",
      "_______________________________________________________\n",
      "\n",
      "Accuracy модели на данных датафрейма geo_data_2.csv: 0.203\n",
      "RMSE модели на данных датафрейма geo_data_2.csv: 39.958\n",
      "Средний запас предсказанного сырья на данных датафрейма geo_data_2.csv: 95.088\n",
      "Средний фактический запас сырья на данных датафрейма geo_data_2.csv: 94.749\n"
     ]
    }
   ],
   "source": [
    "# распечатка результатов:\n",
    "for i in range(len(df_list)):\n",
    "\n",
    "    print()\n",
    "    print(\"_______________________________________________________\")\n",
    "    print()\n",
    "    print(\n",
    "        f'Accuracy модели на данных датафрейма {files[i]}: {round(accuracy_list[i], 3)}'\n",
    "    )\n",
    "    print(\n",
    "        f'RMSE модели на данных датафрейма {files[i]}: {round(mean_squared_error(real_product[i], predictions[i])**0.5, 3)}'\n",
    "    )\n",
    "    print(\n",
    "        f'Средний запас предсказанного сырья на данных датафрейма {files[i]}: {round(predictions[i].mean(), 3)}'\n",
    "    )\n",
    "    print(\n",
    "        f'Средний фактический запас сырья на данных датафрейма {files[i]}: {round(real_product[i].mean(), 3)}'\n",
    "    )"
   ]
  },
  {
   "cell_type": "code",
   "execution_count": 7,
   "id": "939bc194",
   "metadata": {},
   "outputs": [
    {
     "data": {
      "image/png": "[encoded data removed]",
      "text/plain": [
       "<Figure size 480x320 with 1 Axes>"
      ]
     },
     "metadata": {
      "needs_background": "light"
     },
     "output_type": "display_data"
    },
    {
     "data": {
      "image/png": "[encoded data removed]",
      "text/plain": [
       "<Figure size 480x320 with 1 Axes>"
      ]
     },
     "metadata": {
      "needs_background": "light"
     },
     "output_type": "display_data"
    },
    {
     "data": {
      "image/png": "[encoded data removed]",
      "text/plain": [
       "<Figure size 480x320 with 1 Axes>"
      ]
     },
     "metadata": {
      "needs_background": "light"
     },
     "output_type": "display_data"
    }
   ],
   "source": [
    "# построим графики распределения фактических и предсказанных запасов для каждого региона:\n",
    "for x in range(0, 3):\n",
    "    predicted_plot = predictions[x]\n",
    "    real_plot = real_product[x]\n",
    "    #labels =  ultra_avg_monthly_usage.index.month\n",
    "    figure(figsize=(6, 4), dpi=80)\n",
    "    pyplot.grid(color='black', linestyle=\"dotted\", linewidth=1)\n",
    "    pyplot.hist(predicted_plot, bins=50, alpha=0.5, label='predicted')\n",
    "    pyplot.hist(real_plot, bins='auto', alpha=0.5, label='real')\n",
    "    pyplot.title(label=f'Сравнение распределений реального и предсказанного запаса скважины региона {x}',\n",
    "             fontdict={\n",
    "                 'fontsize': 'x-large',\n",
    "                 'fontweight': 'semibold'\n",
    "             })\n",
    "    pyplot.legend(title='Значение', title_fontsize='large', loc='upper right')\n",
    "    pyplot.ylabel(\"Количество скважин\", fontsize='large')\n",
    "    pyplot.xlabel(\"Запас скважины, тыс. баррелей\", fontsize='large')"
   ]
  },
  {
   "cell_type": "markdown",
   "id": "a9939634",
   "metadata": {},
   "source": [
    "### _Промежуточные выводы_"
   ]
  },
  {
   "cell_type": "markdown",
   "id": "a4e38fce",
   "metadata": {},
   "source": [
    "Наиболее высокий показатель **accuracy** получен на датафрейме второй территории (источник данных \"geo_data_1.csv\"). При этом модель предсказала отрицательные значения для части скважин второй территории, а наиболее высокое среднее предсказанное значение запасов сырья получено на третьем датафрейме (источник данных \"geo_data_2.csv\") "
   ]
  },
  {
   "cell_type": "markdown",
   "id": "50df5433",
   "metadata": {},
   "source": [
    "## Подготовка к расчёту прибыли"
   ]
  },
  {
   "cell_type": "code",
   "execution_count": 8,
   "id": "a2cd799c",
   "metadata": {},
   "outputs": [],
   "source": [
    "# создадим датафреймы для каждого региона, содержащие данные о фактическом и предсказанном запасе сырья:\n",
    "df_list = []\n",
    "for x in range(0, 3):\n",
    "    df = pd.DataFrame(\n",
    "        {\n",
    "            'real': real_product[x],\n",
    "            'predicted': predictions[x]\n",
    "        },\n",
    "        index=index_list[x])\n",
    "    df_list.append(df)"
   ]
  },
  {
   "cell_type": "code",
   "execution_count": 9,
   "id": "d8ee8015",
   "metadata": {},
   "outputs": [],
   "source": [
    "# добавим переменные согласно условиям задачи:  \n",
    "BUDGET = 10**10\n",
    "WELLS_TO_EXPLORE = 500\n",
    "WELLS_TO_DRILL = 200\n",
    "\n",
    "PROFIT_PER_BARREL = 450_000\n",
    "BUDGET_PER_WELL = BUDGET / WELLS_TO_DRILL\n",
    "MIN_REQUIRED_BARRELS_PER_REGION = BUDGET / PROFIT_PER_BARREL\n",
    "MIN_AVG_WELL_BALANCE = BUDGET_PER_WELL / PROFIT_PER_BARREL"
   ]
  },
  {
   "cell_type": "code",
   "execution_count": 10,
   "id": "0daac53e",
   "metadata": {},
   "outputs": [
    {
     "name": "stdout",
     "output_type": "stream",
     "text": [
      "Минимальный уровень добычи в регионе (нулевая рентабельность): 22222.22\n",
      "Минимальный средний запас скважины: 111.11\n"
     ]
    }
   ],
   "source": [
    "print(\n",
    "    f'Минимальный уровень добычи в регионе (нулевая рентабельность): {round(MIN_REQUIRED_BARRELS_PER_REGION, 2)}'\n",
    ")\n",
    "print(f'Минимальный средний запас скважины: {round(MIN_AVG_WELL_BALANCE, 2)}')"
   ]
  },
  {
   "cell_type": "code",
   "execution_count": 11,
   "id": "dad33c56",
   "metadata": {},
   "outputs": [],
   "source": [
    "# напишем функцию расчета прибыли для территории:\n",
    "def region_profit_calculator(\n",
    "    df, count, budget\n",
    "):  # функция принимает датафрейм с предсказанными и реальными значениями, требуемое количество скважин и размер планируемого бюджета\n",
    "    df = df.nlargest(\n",
    "        n=count, columns='predicted'\n",
    "    )  # отбираем первые n строк по столбцу предсказанных значений\n",
    "    return PROFIT_PER_BARREL * df.real.sum(\n",
    "    ) - budget  # суммируем реальные значения полученного датафрейма и рассчитываем рентабельность относительно инвестиций"
   ]
  },
  {
   "cell_type": "code",
   "execution_count": 12,
   "id": "0e0ce3c3",
   "metadata": {},
   "outputs": [
    {
     "name": "stdout",
     "output_type": "stream",
     "text": [
      "-3 343 308 241.83 руб.\n",
      "1 656 691 758.17 руб.\n",
      "3 320 826 043.14 руб.\n",
      "22 287 531 170.61 руб.\n"
     ]
    }
   ],
   "source": [
    "# проверим работу функции:\n",
    "print(\n",
    "    '{:,}'.format(round(region_profit_calculator(df_list[0], 100, BUDGET),\n",
    "                        2)).replace(',', ' '), \"руб.\")\n",
    "print(\n",
    "    '{:,}'.format(\n",
    "        round(region_profit_calculator(df_list[0], 100, budget=BUDGET / 2),\n",
    "              2)).replace(',', ' '), \"руб.\")\n",
    "print(\n",
    "    '{:,}'.format(round(region_profit_calculator(df_list[0], WELLS_TO_DRILL, BUDGET),\n",
    "                        2)).replace(',', ' '), \"руб.\")\n",
    "print(\n",
    "    '{:,}'.format(round(region_profit_calculator(df_list[0], 500, BUDGET),\n",
    "                        2)).replace(',', ' '), \"руб.\")"
   ]
  },
  {
   "cell_type": "markdown",
   "id": "2408a587",
   "metadata": {},
   "source": [
    "### _Промежуточные выводы_"
   ]
  },
  {
   "cell_type": "markdown",
   "id": "521f487a",
   "metadata": {},
   "source": [
    "Точка безубыточности для региона определена как 2222.22 тыс. баррелей на 200 скважин, или 11.11 тыс. баррелей на одну скважину. \n",
    "<br>Средние запасы сырья на скважину в каждом регионе (как предсказанные, так и фактические) значительно выше точки безубыточности на скважину. "
   ]
  },
  {
   "cell_type": "markdown",
   "id": "847fb8e6",
   "metadata": {},
   "source": [
    "## Расчёт прибыли и рисков "
   ]
  },
  {
   "cell_type": "code",
   "execution_count": 13,
   "id": "f075b18b",
   "metadata": {
    "scrolled": false
   },
   "outputs": [
    {
     "name": "stdout",
     "output_type": "stream",
     "text": [
      "Средняя выручка региона 0: \t394 284 411.34\n",
      "2.5%-квантиль региона 0: \t-69 450 566.86\n",
      "97.5%-квантиль региона 0: \t915 496 165.83\n",
      "Риск убытков в регионе 0: \t6.1%\n",
      "________________________________________________\n",
      "\n",
      "Средняя выручка региона 1: \t454 736 359.1\n",
      "2.5%-квантиль региона 1: \t61 071 811.3\n",
      "97.5%-квантиль региона 1: \t855 914 149.14\n",
      "Риск убытков в регионе 1: \t0.7%\n",
      "________________________________________________\n",
      "\n",
      "Средняя выручка региона 2: \t353 664 097.52\n",
      "2.5%-квантиль региона 2: \t-162 650 946.94\n",
      "97.5%-квантиль региона 2: \t847 761 844.51\n",
      "Риск убытков в регионе 2: \t7.6%\n",
      "________________________________________________\n",
      "\n"
     ]
    }
   ],
   "source": [
    "for x in range(len(df_list)):\n",
    "    values = []\n",
    "    for i in range(1000):\n",
    "        subsample = df_list[x].sample(n=WELLS_TO_EXPLORE,\n",
    "                                      replace=True,\n",
    "                                      random_state=state)\n",
    "        sample_profitability = region_profit_calculator(\n",
    "            subsample, WELLS_TO_DRILL, BUDGET)\n",
    "        values.append(sample_profitability)\n",
    "\n",
    "    values = pd.Series(values)\n",
    "    mean = values.mean()\n",
    "\n",
    "    print(\n",
    "        f'Средняя выручка региона {x}: \\t{\"{:,}\".format(round(mean, 2)).replace(\",\", \" \")}'\n",
    "    )\n",
    "    print(\n",
    "        f'2.5%-квантиль региона {x}: \\t{\"{:,}\".format(round(values.quantile(0.025), 2)).replace(\",\", \" \")}'\n",
    "    )\n",
    "    print(\n",
    "        f'97.5%-квантиль региона {x}: \\t{\"{:,}\".format(round(values.quantile(0.975), 2)).replace(\",\", \" \")}'\n",
    "    )\n",
    "    print(\n",
    "        f'Риск убытков в регионе {x}: \\t{round(values[values<0].count() / values.count() * 100, 2)}%'\n",
    "    )\n",
    "    print(\n",
    "        '________________________________________________'\n",
    "    )\n",
    "    print()"
   ]
  },
  {
   "cell_type": "markdown",
   "id": "862c252e",
   "metadata": {},
   "source": [
    "## _Вывод_"
   ]
  },
  {
   "cell_type": "markdown",
   "id": "d5e70834",
   "metadata": {},
   "source": [
    "Наиболее высокое значение accuracy получено на данных второй территории, эта же территория демонстрирует и наиболее низкий риск убытков. \n",
    "<br>Исходя из того, точность модели, минимальное значение риска убытков и абсолютное значение средней выручки указывают на вторую территорию, наиболее целесообразной выглядит разработка месторождений второй территории. "
   ]
  }
 ],
 "metadata": {
  "ExecuteTimeLog": [
   {
    "duration": 1768,
    "start_time": "2022-03-22T12:32:25.755Z"
   },
   {
    "duration": 412,
    "start_time": "2022-03-22T12:32:27.525Z"
   },
   {
    "duration": 66,
    "start_time": "2022-03-22T12:32:27.939Z"
   },
   {
    "duration": 96,
    "start_time": "2022-03-22T12:32:28.008Z"
   },
   {
    "duration": 630,
    "start_time": "2022-03-22T12:32:28.105Z"
   },
   {
    "duration": 102,
    "start_time": "2022-03-22T12:32:28.737Z"
   },
   {
    "duration": 862,
    "start_time": "2022-03-22T12:32:28.840Z"
   },
   {
    "duration": 31,
    "start_time": "2022-03-22T12:32:29.704Z"
   },
   {
    "duration": 11,
    "start_time": "2022-03-22T12:32:29.737Z"
   },
   {
    "duration": 9,
    "start_time": "2022-03-22T12:32:29.751Z"
   },
   {
    "duration": 13,
    "start_time": "2022-03-22T12:32:29.761Z"
   },
   {
    "duration": 16,
    "start_time": "2022-03-22T12:32:29.775Z"
   },
   {
    "duration": 3355,
    "start_time": "2022-03-22T12:32:29.793Z"
   },
   {
    "duration": 1574,
    "start_time": "2022-03-22T12:33:16.638Z"
   },
   {
    "duration": 399,
    "start_time": "2022-03-22T12:33:18.214Z"
   },
   {
    "duration": 72,
    "start_time": "2022-03-22T12:33:18.615Z"
   },
   {
    "duration": 105,
    "start_time": "2022-03-22T12:33:18.690Z"
   },
   {
    "duration": 540,
    "start_time": "2022-03-22T12:33:18.797Z"
   },
   {
    "duration": 99,
    "start_time": "2022-03-22T12:33:19.340Z"
   },
   {
    "duration": 859,
    "start_time": "2022-03-22T12:33:19.441Z"
   },
   {
    "duration": 18,
    "start_time": "2022-03-22T12:33:20.301Z"
   },
   {
    "duration": 14,
    "start_time": "2022-03-22T12:33:20.320Z"
   },
   {
    "duration": 7,
    "start_time": "2022-03-22T12:33:20.337Z"
   },
   {
    "duration": 7,
    "start_time": "2022-03-22T12:33:20.346Z"
   },
   {
    "duration": 16,
    "start_time": "2022-03-22T12:33:20.355Z"
   },
   {
    "duration": 3455,
    "start_time": "2022-03-22T12:33:20.373Z"
   },
   {
    "duration": 1832,
    "start_time": "2022-03-23T06:47:37.900Z"
   },
   {
    "duration": 447,
    "start_time": "2022-03-23T06:47:39.734Z"
   },
   {
    "duration": 83,
    "start_time": "2022-03-23T06:47:40.183Z"
   },
   {
    "duration": 101,
    "start_time": "2022-03-23T06:47:40.268Z"
   },
   {
    "duration": 631,
    "start_time": "2022-03-23T06:47:40.372Z"
   },
   {
    "duration": 101,
    "start_time": "2022-03-23T06:47:41.006Z"
   },
   {
    "duration": 928,
    "start_time": "2022-03-23T06:47:41.109Z"
   },
   {
    "duration": 19,
    "start_time": "2022-03-23T06:47:42.039Z"
   },
   {
    "duration": 24,
    "start_time": "2022-03-23T06:47:42.059Z"
   },
   {
    "duration": 10,
    "start_time": "2022-03-23T06:47:42.085Z"
   },
   {
    "duration": 12,
    "start_time": "2022-03-23T06:47:42.097Z"
   },
   {
    "duration": 18,
    "start_time": "2022-03-23T06:47:42.111Z"
   },
   {
    "duration": 3592,
    "start_time": "2022-03-23T06:47:42.131Z"
   }
  ],
  "kernelspec": {
   "display_name": "Python 3 (ipykernel)",
   "language": "python",
   "name": "python3"
  },
  "language_info": {
   "codemirror_mode": {
    "name": "ipython",
    "version": 3
   },
   "file_extension": ".py",
   "mimetype": "text/x-python",
   "name": "python",
   "nbconvert_exporter": "python",
   "pygments_lexer": "ipython3",
   "version": "3.8.12"
  },
  "toc": {
   "base_numbering": 1,
   "nav_menu": {},
   "number_sections": true,
   "sideBar": true,
   "skip_h1_title": true,
   "title_cell": "Содержание",
   "title_sidebar": "Содержание",
   "toc_cell": false,
   "toc_position": {},
   "toc_section_display": true,
   "toc_window_display": false
  },
  "varInspector": {
   "cols": {
    "lenName": 16,
    "lenType": 16,
    "lenVar": 40
   },
   "kernels_config": {
    "python": {
     "delete_cmd_postfix": "",
     "delete_cmd_prefix": "del ",
     "library": "var_list.py",
     "varRefreshCmd": "print(var_dic_list())"
    },
    "r": {
     "delete_cmd_postfix": ") ",
     "delete_cmd_prefix": "rm(",
     "library": "var_list.r",
     "varRefreshCmd": "cat(var_dic_list()) "
    }
   },
   "types_to_exclude": [
    "module",
    "function",
    "builtin_function_or_method",
    "instance",
    "_Feature"
   ],
   "window_display": false
  }
 },
 "nbformat": 4,
 "nbformat_minor": 5
}
