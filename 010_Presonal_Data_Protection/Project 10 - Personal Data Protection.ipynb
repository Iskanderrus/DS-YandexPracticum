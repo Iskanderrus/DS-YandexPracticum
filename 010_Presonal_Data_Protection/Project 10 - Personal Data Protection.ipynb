{
 "cells": [
  {
   "cell_type": "markdown",
   "metadata": {},
   "source": [
    "# Защита персональных данных клиентов"
   ]
  },
  {
   "cell_type": "markdown",
   "metadata": {},
   "source": [
    "Вам нужно защитить данные клиентов страховой компании «Хоть потоп». Разработайте такой метод преобразования данных, чтобы по ним было сложно восстановить персональную информацию. Обоснуйте корректность его работы.\n",
    "\n",
    "Нужно защитить данные, чтобы при преобразовании качество моделей машинного обучения не ухудшилось. Подбирать наилучшую модель не требуется."
   ]
  },
  {
   "cell_type": "markdown",
   "metadata": {},
   "source": [
    "## Загрузка данных"
   ]
  },
  {
   "cell_type": "markdown",
   "metadata": {},
   "source": [
    "### Импорт библиотек"
   ]
  },
  {
   "cell_type": "code",
   "execution_count": 1,
   "metadata": {},
   "outputs": [],
   "source": [
    "import pandas as pd\n",
    "import os\n",
    "import numpy as np\n",
    "\n",
    "from matplotlib import pyplot\n",
    "from matplotlib.pyplot import figure\n",
    "import seaborn as sns\n",
    "\n",
    "from sklearn.model_selection import train_test_split\n",
    "from sklearn.linear_model import LinearRegression\n",
    "from sklearn.metrics import r2_score\n",
    "\n",
    "pd.set_option('display.float_format', lambda x: '%.3f' % x)\n",
    "pyplot.style.use('seaborn-deep')\n",
    "STATE = np.random.RandomState(12345)"
   ]
  },
  {
   "cell_type": "markdown",
   "metadata": {},
   "source": [
    "### Поиск файла и загрузка датафрейма"
   ]
  },
  {
   "cell_type": "code",
   "execution_count": 2,
   "metadata": {},
   "outputs": [],
   "source": [
    "def find(name, path):\n",
    "    '''\n",
    "    Function to find the data file stored locally.\n",
    "    Takes name of the file and root directory.\n",
    "    Scanes the local directory tree for the first orrurance of the file.\n",
    "    '''\n",
    "    for root, dirs, files in os.walk(path):\n",
    "        if name in files:\n",
    "            return os.path.join(root, name)\n",
    "    "
   ]
  },
  {
   "cell_type": "code",
   "execution_count": 3,
   "metadata": {},
   "outputs": [
    {
     "name": "stdout",
     "output_type": "stream",
     "text": [
      "Файл insurance.csv найден на локальном диске.\n"
     ]
    }
   ],
   "source": [
    "online_path = 'datasets'\n",
    "offline_path = '/home/'\n",
    "file = 'insurance.csv'\n",
    "\n",
    "\n",
    "try:\n",
    "    df = pd.read_csv(f'/{online_path}/{file}')\n",
    "except FileNotFoundError:\n",
    "    df = pd.read_csv(find(file, offline_path))\n",
    "    print(f\"Файл {file} найден на локальном диске.\")\n",
    "else:\n",
    "    print(f\"Файл {file} открыт в режиме online.\")"
   ]
  },
  {
   "cell_type": "markdown",
   "metadata": {},
   "source": [
    "### Развёрнутая сводка по датафрейму"
   ]
  },
  {
   "cell_type": "code",
   "execution_count": 4,
   "metadata": {
    "scrolled": false
   },
   "outputs": [
    {
     "name": "stdout",
     "output_type": "stream",
     "text": [
      "Внешний вид первых пяти строк датафрейма \u001b[1mINSURANCE\u001b[0;0m:\n"
     ]
    },
    {
     "data": {
      "text/html": [
       "<div>\n",
       "<style scoped>\n",
       "    .dataframe tbody tr th:only-of-type {\n",
       "        vertical-align: middle;\n",
       "    }\n",
       "\n",
       "    .dataframe tbody tr th {\n",
       "        vertical-align: top;\n",
       "    }\n",
       "\n",
       "    .dataframe thead th {\n",
       "        text-align: right;\n",
       "    }\n",
       "</style>\n",
       "<table border=\"1\" class=\"dataframe\">\n",
       "  <thead>\n",
       "    <tr style=\"text-align: right;\">\n",
       "      <th></th>\n",
       "      <th>Пол</th>\n",
       "      <th>Возраст</th>\n",
       "      <th>Зарплата</th>\n",
       "      <th>Члены семьи</th>\n",
       "      <th>Страховые выплаты</th>\n",
       "    </tr>\n",
       "  </thead>\n",
       "  <tbody>\n",
       "    <tr>\n",
       "      <th>0</th>\n",
       "      <td>1</td>\n",
       "      <td>41.000</td>\n",
       "      <td>49600.000</td>\n",
       "      <td>1</td>\n",
       "      <td>0</td>\n",
       "    </tr>\n",
       "    <tr>\n",
       "      <th>1</th>\n",
       "      <td>0</td>\n",
       "      <td>46.000</td>\n",
       "      <td>38000.000</td>\n",
       "      <td>1</td>\n",
       "      <td>1</td>\n",
       "    </tr>\n",
       "    <tr>\n",
       "      <th>2</th>\n",
       "      <td>0</td>\n",
       "      <td>29.000</td>\n",
       "      <td>21000.000</td>\n",
       "      <td>0</td>\n",
       "      <td>0</td>\n",
       "    </tr>\n",
       "    <tr>\n",
       "      <th>3</th>\n",
       "      <td>0</td>\n",
       "      <td>21.000</td>\n",
       "      <td>41700.000</td>\n",
       "      <td>2</td>\n",
       "      <td>0</td>\n",
       "    </tr>\n",
       "    <tr>\n",
       "      <th>4</th>\n",
       "      <td>1</td>\n",
       "      <td>28.000</td>\n",
       "      <td>26100.000</td>\n",
       "      <td>0</td>\n",
       "      <td>0</td>\n",
       "    </tr>\n",
       "  </tbody>\n",
       "</table>\n",
       "</div>"
      ],
      "text/plain": [
       "   Пол  Возраст  Зарплата  Члены семьи  Страховые выплаты\n",
       "0    1   41.000 49600.000            1                  0\n",
       "1    0   46.000 38000.000            1                  1\n",
       "2    0   29.000 21000.000            0                  0\n",
       "3    0   21.000 41700.000            2                  0\n",
       "4    1   28.000 26100.000            0                  0"
      ]
     },
     "metadata": {},
     "output_type": "display_data"
    },
    {
     "name": "stdout",
     "output_type": "stream",
     "text": [
      "\n",
      "Размер датафрейма \u001b[1mINSURANCE\u001b[0;0m:         \n",
      "количество строк - 5000, \n",
      "количество столбцов - 5.\n",
      "\n",
      "Развернутая сводка датафрейма \u001b[1mINSURANCE\u001b[0;0m \n",
      "по наименованию столбцов, типу данных, ненулевых значениях и объему памяти:\n",
      "\n",
      "<class 'pandas.core.frame.DataFrame'>\n",
      "RangeIndex: 5000 entries, 0 to 4999\n",
      "Data columns (total 5 columns):\n",
      " #   Column             Non-Null Count  Dtype  \n",
      "---  ------             --------------  -----  \n",
      " 0   Пол                5000 non-null   int64  \n",
      " 1   Возраст            5000 non-null   float64\n",
      " 2   Зарплата           5000 non-null   float64\n",
      " 3   Члены семьи        5000 non-null   int64  \n",
      " 4   Страховые выплаты  5000 non-null   int64  \n",
      "dtypes: float64(2), int64(3)\n",
      "memory usage: 195.4 KB\n"
     ]
    },
    {
     "data": {
      "text/html": [
       "<div>\n",
       "<style scoped>\n",
       "    .dataframe tbody tr th:only-of-type {\n",
       "        vertical-align: middle;\n",
       "    }\n",
       "\n",
       "    .dataframe tbody tr th {\n",
       "        vertical-align: top;\n",
       "    }\n",
       "\n",
       "    .dataframe thead th {\n",
       "        text-align: right;\n",
       "    }\n",
       "</style>\n",
       "<table border=\"1\" class=\"dataframe\">\n",
       "  <thead>\n",
       "    <tr style=\"text-align: right;\">\n",
       "      <th></th>\n",
       "      <th>Пол</th>\n",
       "      <th>Возраст</th>\n",
       "      <th>Зарплата</th>\n",
       "      <th>Члены семьи</th>\n",
       "      <th>Страховые выплаты</th>\n",
       "    </tr>\n",
       "  </thead>\n",
       "  <tbody>\n",
       "    <tr>\n",
       "      <th>count</th>\n",
       "      <td>5000.000</td>\n",
       "      <td>5000.000</td>\n",
       "      <td>5000.000</td>\n",
       "      <td>5000.000</td>\n",
       "      <td>5000.000</td>\n",
       "    </tr>\n",
       "    <tr>\n",
       "      <th>mean</th>\n",
       "      <td>0.499</td>\n",
       "      <td>30.953</td>\n",
       "      <td>39916.360</td>\n",
       "      <td>1.194</td>\n",
       "      <td>0.148</td>\n",
       "    </tr>\n",
       "    <tr>\n",
       "      <th>std</th>\n",
       "      <td>0.500</td>\n",
       "      <td>8.441</td>\n",
       "      <td>9900.084</td>\n",
       "      <td>1.091</td>\n",
       "      <td>0.463</td>\n",
       "    </tr>\n",
       "    <tr>\n",
       "      <th>min</th>\n",
       "      <td>0.000</td>\n",
       "      <td>18.000</td>\n",
       "      <td>5300.000</td>\n",
       "      <td>0.000</td>\n",
       "      <td>0.000</td>\n",
       "    </tr>\n",
       "    <tr>\n",
       "      <th>25%</th>\n",
       "      <td>0.000</td>\n",
       "      <td>24.000</td>\n",
       "      <td>33300.000</td>\n",
       "      <td>0.000</td>\n",
       "      <td>0.000</td>\n",
       "    </tr>\n",
       "    <tr>\n",
       "      <th>50%</th>\n",
       "      <td>0.000</td>\n",
       "      <td>30.000</td>\n",
       "      <td>40200.000</td>\n",
       "      <td>1.000</td>\n",
       "      <td>0.000</td>\n",
       "    </tr>\n",
       "    <tr>\n",
       "      <th>75%</th>\n",
       "      <td>1.000</td>\n",
       "      <td>37.000</td>\n",
       "      <td>46600.000</td>\n",
       "      <td>2.000</td>\n",
       "      <td>0.000</td>\n",
       "    </tr>\n",
       "    <tr>\n",
       "      <th>max</th>\n",
       "      <td>1.000</td>\n",
       "      <td>65.000</td>\n",
       "      <td>79000.000</td>\n",
       "      <td>6.000</td>\n",
       "      <td>5.000</td>\n",
       "    </tr>\n",
       "  </tbody>\n",
       "</table>\n",
       "</div>"
      ],
      "text/plain": [
       "           Пол  Возраст  Зарплата  Члены семьи  Страховые выплаты\n",
       "count 5000.000 5000.000  5000.000     5000.000           5000.000\n",
       "mean     0.499   30.953 39916.360        1.194              0.148\n",
       "std      0.500    8.441  9900.084        1.091              0.463\n",
       "min      0.000   18.000  5300.000        0.000              0.000\n",
       "25%      0.000   24.000 33300.000        0.000              0.000\n",
       "50%      0.000   30.000 40200.000        1.000              0.000\n",
       "75%      1.000   37.000 46600.000        2.000              0.000\n",
       "max      1.000   65.000 79000.000        6.000              5.000"
      ]
     },
     "metadata": {},
     "output_type": "display_data"
    }
   ],
   "source": [
    "start = \"\\033[1m\"\n",
    "end = \"\\033[0;0m\"\n",
    "print(\n",
    "        f\"Внешний вид первых пяти строк датафрейма {start}{str(file).split('.')[0].upper()}{end}:\"\n",
    "    )\n",
    "display(df.head())\n",
    "print()\n",
    "print(f\"Размер датафрейма {start}{str(file).split('.')[0].upper()}{end}: \\\n",
    "        \\nколичество строк - {df.shape[0]}, \\nколичество столбцов - {df.shape[1]}.\"\n",
    "          )\n",
    "print()\n",
    "print(\n",
    "        f\"Развернутая сводка датафрейма {start}{str(file).split('.')[0].upper()}{end} \\nпо наименованию столбцов, типу данных, ненулевых значениях и объему памяти:\"\n",
    "    )\n",
    "print()\n",
    "df.info(show_counts=True, memory_usage='deep')\n",
    "display(df.describe(include='all'))"
   ]
  },
  {
   "cell_type": "markdown",
   "metadata": {},
   "source": [
    "### *Промежуточные выводы*"
   ]
  },
  {
   "cell_type": "markdown",
   "metadata": {},
   "source": [
    "Датафрейм не содержит пропусков. Так как данные не персонифицированы, то возможно наличие полностью совпадающих строк. Поэтому их поиск и пропуск не представляются логичными. Столбец **Возраст** содержит вещественные значения - необходимо исправить на цельночисленные значения. "
   ]
  },
  {
   "cell_type": "markdown",
   "metadata": {},
   "source": [
    "### Изменение типа данных"
   ]
  },
  {
   "cell_type": "code",
   "execution_count": 5,
   "metadata": {},
   "outputs": [],
   "source": [
    "df['Возраст'] = df['Возраст'].astype(int)"
   ]
  },
  {
   "cell_type": "code",
   "execution_count": 6,
   "metadata": {},
   "outputs": [
    {
     "name": "stdout",
     "output_type": "stream",
     "text": [
      "<class 'pandas.core.frame.DataFrame'>\n",
      "RangeIndex: 5000 entries, 0 to 4999\n",
      "Data columns (total 5 columns):\n",
      " #   Column             Non-Null Count  Dtype  \n",
      "---  ------             --------------  -----  \n",
      " 0   Пол                5000 non-null   int64  \n",
      " 1   Возраст            5000 non-null   int64  \n",
      " 2   Зарплата           5000 non-null   float64\n",
      " 3   Члены семьи        5000 non-null   int64  \n",
      " 4   Страховые выплаты  5000 non-null   int64  \n",
      "dtypes: float64(1), int64(4)\n",
      "memory usage: 195.4 KB\n"
     ]
    }
   ],
   "source": [
    "# проверим полученный результат: \n",
    "df.info()"
   ]
  },
  {
   "cell_type": "markdown",
   "metadata": {},
   "source": [
    "### Корреляция данных датафрейма"
   ]
  },
  {
   "cell_type": "code",
   "execution_count": 7,
   "metadata": {},
   "outputs": [
    {
     "data": {
      "text/plain": [
       "Text(0.5, 1.0, 'Корреляция параметров датафрейма')"
      ]
     },
     "execution_count": 7,
     "metadata": {},
     "output_type": "execute_result"
    },
    {
     "data": {
      "image/png": "[encoded data removed]",
      "text/plain": [
       "<Figure size 792x648 with 2 Axes>"
      ]
     },
     "metadata": {},
     "output_type": "display_data"
    }
   ],
   "source": [
    "# рассчитаем корреляцию параметров:\n",
    "corr = df.corr()\n",
    "\n",
    "# создадим маску верхнего треугольника\n",
    "mask = np.triu(np.ones_like(corr, dtype=bool))\n",
    "\n",
    "# зададим размеры фигуры matplotlib\n",
    "sns.set_theme(style=\"white\")\n",
    "f, ax = pyplot.subplots(figsize=(11, 9))\n",
    "\n",
    "# создадим тепловую карту: \n",
    "sns.heatmap(corr,\n",
    "            mask=mask,\n",
    "            center=0,\n",
    "            square=True,\n",
    "            linewidths=.5,\n",
    "            cbar_kws={\"shrink\": .5}, \n",
    "            annot=True)\n",
    "ax.set_title(f'Корреляция параметров датафрейма',\n",
    "             fontsize=16)"
   ]
  },
  {
   "cell_type": "markdown",
   "metadata": {},
   "source": [
    "### *Промежуточные выводы*"
   ]
  },
  {
   "cell_type": "markdown",
   "metadata": {},
   "source": [
    "Параметры датафрейма не обнаруживают корреляцию, кроме средней степени зависимости количества страховых выплат от возраста. "
   ]
  },
  {
   "cell_type": "markdown",
   "metadata": {},
   "source": [
    "### Разделение выборки на целевой признак и параметры "
   ]
  },
  {
   "cell_type": "code",
   "execution_count": 8,
   "metadata": {},
   "outputs": [],
   "source": [
    "features = df.iloc[:, :-1]"
   ]
  },
  {
   "cell_type": "code",
   "execution_count": 9,
   "metadata": {},
   "outputs": [],
   "source": [
    "target = df.iloc[:, -1]"
   ]
  },
  {
   "cell_type": "markdown",
   "metadata": {},
   "source": [
    "## Умножение матриц"
   ]
  },
  {
   "cell_type": "markdown",
   "metadata": {},
   "source": [
    "Для кодирования данных датасета используем умножение исходной матрицы на случайную обратимую матрицу.  "
   ]
  },
  {
   "cell_type": "markdown",
   "metadata": {},
   "source": [
    "### Случайная обратимая матрица"
   ]
  },
  {
   "cell_type": "code",
   "execution_count": 10,
   "metadata": {},
   "outputs": [],
   "source": [
    "# создание случайной квадратной матрицы:\n",
    "rand_matrix = np.random.randint(1,5,(4,4)) "
   ]
  },
  {
   "cell_type": "code",
   "execution_count": 11,
   "metadata": {},
   "outputs": [
    {
     "data": {
      "text/plain": [
       "array([[4, 4, 4, 2],\n",
       "       [2, 4, 4, 3],\n",
       "       [4, 1, 4, 1],\n",
       "       [4, 2, 1, 2]])"
      ]
     },
     "execution_count": 11,
     "metadata": {},
     "output_type": "execute_result"
    }
   ],
   "source": [
    "# проверим полученный результат: \n",
    "rand_matrix"
   ]
  },
  {
   "cell_type": "code",
   "execution_count": 12,
   "metadata": {},
   "outputs": [],
   "source": [
    "# получим матрицу, обратную случайной: \n",
    "inverted_matrix = np.linalg.inv(rand_matrix)"
   ]
  },
  {
   "cell_type": "code",
   "execution_count": 13,
   "metadata": {},
   "outputs": [
    {
     "data": {
      "text/plain": [
       "array([[ 0.109375, -0.21875 ,  0.0625  ,  0.1875  ],\n",
       "       [ 0.59375 , -0.1875  , -0.375   , -0.125   ],\n",
       "       [-0.0625  ,  0.125   ,  0.25    , -0.25    ],\n",
       "       [-0.78125 ,  0.5625  ,  0.125   ,  0.375   ]])"
      ]
     },
     "execution_count": 13,
     "metadata": {},
     "output_type": "execute_result"
    }
   ],
   "source": [
    "# проверим полученный результат: \n",
    "inverted_matrix"
   ]
  },
  {
   "cell_type": "markdown",
   "metadata": {},
   "source": [
    "Проверим равенство: \n",
    "$$\n",
    "(A * B)^T = B^T * A^T\n",
    "$$\n"
   ]
  },
  {
   "cell_type": "code",
   "execution_count": 14,
   "metadata": {
    "scrolled": true
   },
   "outputs": [
    {
     "data": {
      "text/plain": [
       "array([[ True,  True,  True,  True],\n",
       "       [ True,  True,  True,  True],\n",
       "       [ True,  True,  True,  True],\n",
       "       [ True,  True,  True,  True]])"
      ]
     },
     "execution_count": 14,
     "metadata": {},
     "output_type": "execute_result"
    }
   ],
   "source": [
    "(rand_matrix @ inverted_matrix).T == inverted_matrix.T @ rand_matrix.T"
   ]
  },
  {
   "cell_type": "markdown",
   "metadata": {},
   "source": [
    "### Умножение матриц"
   ]
  },
  {
   "cell_type": "code",
   "execution_count": 15,
   "metadata": {},
   "outputs": [],
   "source": [
    "coded_data = features @ rand_matrix"
   ]
  },
  {
   "cell_type": "markdown",
   "metadata": {},
   "source": [
    "$$\n",
    "w' = (P^T (X^T X) P)^{-1} (XP)^T y\n",
    "$$\n",
    "$$\n",
    "w' = (P^T (X^T X) P)^{-1} P^T X^T y\n",
    "$$\n",
    "$$\n",
    "w' = P^{-1} (X^T X)^{-1} (P^T)^{-1} P^T X^T y\n",
    "$$\n",
    "$$\n",
    "w' = P^{-1} (X^T X)^{-1} E X^T y\n",
    "$$\n",
    "\\\n",
    "$$\n",
    "w' = P^{-1}w\n",
    "$$"
   ]
  },
  {
   "cell_type": "markdown",
   "metadata": {},
   "source": [
    "## Алгоритм преобразования"
   ]
  },
  {
   "cell_type": "markdown",
   "metadata": {},
   "source": [
    "**Алгоритм**\n",
    "\n",
    "Матрица исходных данных умножается на случайную обратимую матрицу. При этом высота случайной матрицы должна соответствовать ширине матрицы с исходными данными, а ширина случайной матрицы должна быть равна ее высоте (квадратная матрица). "
   ]
  },
  {
   "cell_type": "markdown",
   "metadata": {},
   "source": [
    "**Обоснование**\n",
    "\n",
    "Этот метод позволит закодировать персональные данные пользователей, что позволит использовать их в дальнейшей работе без риска потери качества работы модели машинного обучения и утечки персональных данных. <br><br>Для восстановления первоначальных данных, в случае необходимости, используется обратная матрица - закодированная матрица умножается на обратную матрицу *inverted_matrix*."
   ]
  },
  {
   "cell_type": "markdown",
   "metadata": {},
   "source": [
    "## Проверка алгоритма"
   ]
  },
  {
   "cell_type": "markdown",
   "metadata": {},
   "source": [
    "### Обучение модели линейной регрессии на исходном датасете"
   ]
  },
  {
   "cell_type": "code",
   "execution_count": 16,
   "metadata": {},
   "outputs": [],
   "source": [
    "# обучение модели и получение предсказаний:\n",
    "model = LinearRegression()\n",
    "model.fit(features, target)\n",
    "predictions_valid = model.predict(features)\n",
    "result = r2_score(target, predictions_valid)"
   ]
  },
  {
   "cell_type": "code",
   "execution_count": 17,
   "metadata": {},
   "outputs": [
    {
     "name": "stdout",
     "output_type": "stream",
     "text": [
      "0.42494550286668\n"
     ]
    }
   ],
   "source": [
    "print(result)"
   ]
  },
  {
   "cell_type": "markdown",
   "metadata": {},
   "source": [
    "### Обучение модели линейной регрессии на закодированных данных"
   ]
  },
  {
   "cell_type": "code",
   "execution_count": 18,
   "metadata": {},
   "outputs": [],
   "source": [
    "# обучение модели и получение предсказаний:\n",
    "model = LinearRegression()\n",
    "model.fit(coded_data, target)\n",
    "predictions_valid = model.predict(coded_data)\n",
    "result = r2_score(target, predictions_valid)"
   ]
  },
  {
   "cell_type": "code",
   "execution_count": 19,
   "metadata": {},
   "outputs": [
    {
     "name": "stdout",
     "output_type": "stream",
     "text": [
      "0.42494550286668087\n"
     ]
    }
   ],
   "source": [
    "print(result)"
   ]
  },
  {
   "cell_type": "markdown",
   "metadata": {},
   "source": [
    "## Вывод"
   ]
  },
  {
   "cell_type": "markdown",
   "metadata": {},
   "source": [
    "Метод умножения исходной матрицы на случайную обратимую матрицу позволяет закодировать персональные данные пользователей для использования их в дальнейшей работе без риска потери качества работы модели машинного обучения и утечки персональных данных."
   ]
  }
 ],
 "metadata": {
  "ExecuteTimeLog": [
   {
    "duration": 1946,
    "start_time": "2022-04-12T15:53:47.379Z"
   },
   {
    "duration": 6,
    "start_time": "2022-04-12T15:53:56.399Z"
   },
   {
    "duration": 5,
    "start_time": "2022-04-12T15:57:21.696Z"
   },
   {
    "duration": 3,
    "start_time": "2022-04-12T15:57:22.091Z"
   },
   {
    "duration": 114,
    "start_time": "2022-04-12T15:57:41.000Z"
   },
   {
    "duration": 151,
    "start_time": "2022-04-12T15:57:51.379Z"
   },
   {
    "duration": 90,
    "start_time": "2022-04-12T15:58:06.317Z"
   },
   {
    "duration": 4,
    "start_time": "2022-04-12T16:01:24.860Z"
   },
   {
    "duration": 130,
    "start_time": "2022-04-12T16:01:40.207Z"
   },
   {
    "duration": 148,
    "start_time": "2022-04-12T16:02:00.668Z"
   },
   {
    "duration": 140,
    "start_time": "2022-04-12T16:02:10.516Z"
   },
   {
    "duration": 182,
    "start_time": "2022-04-12T16:02:25.742Z"
   },
   {
    "duration": 156,
    "start_time": "2022-04-12T16:03:14.928Z"
   },
   {
    "duration": 25,
    "start_time": "2022-04-12T16:03:41.887Z"
   },
   {
    "duration": 15,
    "start_time": "2022-04-12T16:05:18.052Z"
   },
   {
    "duration": 13,
    "start_time": "2022-04-12T16:05:29.814Z"
   },
   {
    "duration": 36,
    "start_time": "2022-04-12T16:07:34.270Z"
   },
   {
    "duration": 14,
    "start_time": "2022-04-12T16:15:24.400Z"
   },
   {
    "duration": 7,
    "start_time": "2022-04-12T16:15:28.653Z"
   },
   {
    "duration": 4,
    "start_time": "2022-04-12T16:15:33.691Z"
   },
   {
    "duration": 12,
    "start_time": "2022-04-12T16:15:56.728Z"
   },
   {
    "duration": 3,
    "start_time": "2022-04-12T16:16:12.216Z"
   },
   {
    "duration": 13,
    "start_time": "2022-04-12T16:16:16.424Z"
   },
   {
    "duration": 377,
    "start_time": "2022-04-12T16:17:59.633Z"
   },
   {
    "duration": 491,
    "start_time": "2022-04-12T16:19:09.870Z"
   },
   {
    "duration": 378,
    "start_time": "2022-04-12T16:20:07.240Z"
   },
   {
    "duration": 420,
    "start_time": "2022-04-12T16:20:17.672Z"
   },
   {
    "duration": 15,
    "start_time": "2022-04-12T16:29:01.132Z"
   },
   {
    "duration": 14,
    "start_time": "2022-04-12T16:29:43.922Z"
   },
   {
    "duration": 6,
    "start_time": "2022-04-12T16:29:53.731Z"
   },
   {
    "duration": 449,
    "start_time": "2022-04-12T16:43:08.958Z"
   },
   {
    "duration": 1525,
    "start_time": "2022-04-13T08:43:47.090Z"
   },
   {
    "duration": 64,
    "start_time": "2022-04-13T08:43:48.617Z"
   },
   {
    "duration": 0,
    "start_time": "2022-04-13T08:43:48.683Z"
   },
   {
    "duration": 0,
    "start_time": "2022-04-13T08:43:48.685Z"
   },
   {
    "duration": 0,
    "start_time": "2022-04-13T08:43:48.686Z"
   },
   {
    "duration": 0,
    "start_time": "2022-04-13T08:43:48.687Z"
   },
   {
    "duration": 0,
    "start_time": "2022-04-13T08:43:48.689Z"
   },
   {
    "duration": 4,
    "start_time": "2022-04-13T08:47:24.738Z"
   },
   {
    "duration": 14,
    "start_time": "2022-04-13T08:47:26.377Z"
   },
   {
    "duration": 35,
    "start_time": "2022-04-13T08:47:30.992Z"
   },
   {
    "duration": 4,
    "start_time": "2022-04-13T08:47:40.331Z"
   },
   {
    "duration": 12,
    "start_time": "2022-04-13T08:47:41.080Z"
   },
   {
    "duration": 459,
    "start_time": "2022-04-13T08:47:45.553Z"
   },
   {
    "duration": 2,
    "start_time": "2022-04-13T08:52:53.064Z"
   },
   {
    "duration": 3,
    "start_time": "2022-04-13T08:53:26.365Z"
   },
   {
    "duration": 4,
    "start_time": "2022-04-13T08:53:37.774Z"
   },
   {
    "duration": 3,
    "start_time": "2022-04-13T08:54:03.305Z"
   },
   {
    "duration": 4,
    "start_time": "2022-04-13T08:54:03.834Z"
   },
   {
    "duration": 3,
    "start_time": "2022-04-13T08:54:28.374Z"
   },
   {
    "duration": 4,
    "start_time": "2022-04-13T08:54:29.580Z"
   },
   {
    "duration": 93,
    "start_time": "2022-04-13T08:55:02.661Z"
   },
   {
    "duration": 103,
    "start_time": "2022-04-13T09:04:01.150Z"
   },
   {
    "duration": 7,
    "start_time": "2022-04-13T09:04:09.788Z"
   },
   {
    "duration": 8,
    "start_time": "2022-04-13T09:04:57.766Z"
   },
   {
    "duration": 3,
    "start_time": "2022-04-13T09:05:00.912Z"
   },
   {
    "duration": 4,
    "start_time": "2022-04-13T09:05:01.111Z"
   },
   {
    "duration": 3,
    "start_time": "2022-04-13T09:05:16.732Z"
   },
   {
    "duration": 5,
    "start_time": "2022-04-13T09:05:22.612Z"
   },
   {
    "duration": 9,
    "start_time": "2022-04-13T09:06:54.057Z"
   },
   {
    "duration": 10,
    "start_time": "2022-04-13T09:07:26.642Z"
   },
   {
    "duration": 4,
    "start_time": "2022-04-13T09:08:31.253Z"
   },
   {
    "duration": 4,
    "start_time": "2022-04-13T09:08:35.819Z"
   },
   {
    "duration": 4,
    "start_time": "2022-04-13T09:09:26.376Z"
   },
   {
    "duration": 3,
    "start_time": "2022-04-13T09:09:33.484Z"
   },
   {
    "duration": 9,
    "start_time": "2022-04-13T09:09:40.654Z"
   },
   {
    "duration": 4,
    "start_time": "2022-04-13T09:09:55.986Z"
   },
   {
    "duration": 4,
    "start_time": "2022-04-13T09:10:07.787Z"
   },
   {
    "duration": 1353,
    "start_time": "2022-04-13T09:11:25.260Z"
   },
   {
    "duration": 3,
    "start_time": "2022-04-13T09:11:26.615Z"
   },
   {
    "duration": 20,
    "start_time": "2022-04-13T09:11:26.619Z"
   },
   {
    "duration": 35,
    "start_time": "2022-04-13T09:11:26.642Z"
   },
   {
    "duration": 4,
    "start_time": "2022-04-13T09:11:26.678Z"
   },
   {
    "duration": 12,
    "start_time": "2022-04-13T09:11:26.683Z"
   },
   {
    "duration": 388,
    "start_time": "2022-04-13T09:11:26.707Z"
   },
   {
    "duration": 3,
    "start_time": "2022-04-13T09:11:27.097Z"
   },
   {
    "duration": 8,
    "start_time": "2022-04-13T09:11:27.102Z"
   },
   {
    "duration": 4,
    "start_time": "2022-04-13T09:11:27.113Z"
   },
   {
    "duration": 91,
    "start_time": "2022-04-13T09:11:27.118Z"
   },
   {
    "duration": 6,
    "start_time": "2022-04-13T09:11:27.211Z"
   },
   {
    "duration": 4,
    "start_time": "2022-04-13T09:19:42.575Z"
   },
   {
    "duration": 74,
    "start_time": "2022-04-13T09:24:35.019Z"
   },
   {
    "duration": 3,
    "start_time": "2022-04-13T09:24:40.417Z"
   },
   {
    "duration": 12,
    "start_time": "2022-04-13T09:24:45.186Z"
   },
   {
    "duration": 3,
    "start_time": "2022-04-13T09:25:18.574Z"
   },
   {
    "duration": 6,
    "start_time": "2022-04-13T09:25:22.605Z"
   },
   {
    "duration": 3,
    "start_time": "2022-04-13T09:26:25.516Z"
   },
   {
    "duration": 4,
    "start_time": "2022-04-13T09:26:29.654Z"
   },
   {
    "duration": 1361,
    "start_time": "2022-04-13T09:27:06.178Z"
   },
   {
    "duration": 3,
    "start_time": "2022-04-13T09:27:07.541Z"
   },
   {
    "duration": 16,
    "start_time": "2022-04-13T09:27:07.545Z"
   },
   {
    "duration": 37,
    "start_time": "2022-04-13T09:27:07.563Z"
   },
   {
    "duration": 5,
    "start_time": "2022-04-13T09:27:07.607Z"
   },
   {
    "duration": 14,
    "start_time": "2022-04-13T09:27:07.613Z"
   },
   {
    "duration": 363,
    "start_time": "2022-04-13T09:27:07.628Z"
   },
   {
    "duration": 4,
    "start_time": "2022-04-13T09:27:07.992Z"
   },
   {
    "duration": 3,
    "start_time": "2022-04-13T09:27:08.007Z"
   },
   {
    "duration": 9,
    "start_time": "2022-04-13T09:27:08.013Z"
   },
   {
    "duration": 9,
    "start_time": "2022-04-13T09:27:08.024Z"
   },
   {
    "duration": 77,
    "start_time": "2022-04-13T09:27:08.035Z"
   },
   {
    "duration": 5,
    "start_time": "2022-04-13T09:27:08.114Z"
   },
   {
    "duration": 6,
    "start_time": "2022-04-13T09:27:08.121Z"
   },
   {
    "duration": 4,
    "start_time": "2022-04-13T09:27:08.208Z"
   },
   {
    "duration": 6,
    "start_time": "2022-04-13T09:27:08.213Z"
   },
   {
    "duration": 4,
    "start_time": "2022-04-13T09:29:37.717Z"
   },
   {
    "duration": 3,
    "start_time": "2022-04-13T09:29:50.117Z"
   },
   {
    "duration": 2,
    "start_time": "2022-04-13T09:31:18.721Z"
   },
   {
    "duration": 7,
    "start_time": "2022-04-13T09:31:39.861Z"
   },
   {
    "duration": 108,
    "start_time": "2022-04-13T09:34:09.605Z"
   },
   {
    "duration": 5,
    "start_time": "2022-04-13T09:34:56.588Z"
   },
   {
    "duration": 9,
    "start_time": "2022-04-13T09:35:02.476Z"
   },
   {
    "duration": 4,
    "start_time": "2022-04-13T09:35:07.809Z"
   },
   {
    "duration": 6,
    "start_time": "2022-04-13T09:35:14.121Z"
   },
   {
    "duration": 8,
    "start_time": "2022-04-13T09:35:30.328Z"
   },
   {
    "duration": 1302,
    "start_time": "2022-04-13T09:36:41.123Z"
   },
   {
    "duration": 4,
    "start_time": "2022-04-13T09:36:42.427Z"
   },
   {
    "duration": 19,
    "start_time": "2022-04-13T09:36:42.433Z"
   },
   {
    "duration": 34,
    "start_time": "2022-04-13T09:36:42.454Z"
   },
   {
    "duration": 4,
    "start_time": "2022-04-13T09:36:42.489Z"
   },
   {
    "duration": 19,
    "start_time": "2022-04-13T09:36:42.494Z"
   },
   {
    "duration": 390,
    "start_time": "2022-04-13T09:36:42.515Z"
   },
   {
    "duration": 4,
    "start_time": "2022-04-13T09:36:42.907Z"
   },
   {
    "duration": 6,
    "start_time": "2022-04-13T09:36:42.913Z"
   },
   {
    "duration": 3,
    "start_time": "2022-04-13T09:36:42.922Z"
   },
   {
    "duration": 7,
    "start_time": "2022-04-13T09:36:42.927Z"
   },
   {
    "duration": 6,
    "start_time": "2022-04-13T09:36:43.007Z"
   },
   {
    "duration": 7,
    "start_time": "2022-04-13T09:36:43.014Z"
   },
   {
    "duration": 84,
    "start_time": "2022-04-13T09:36:43.023Z"
   },
   {
    "duration": 5,
    "start_time": "2022-04-13T09:36:43.109Z"
   },
   {
    "duration": 114,
    "start_time": "2022-04-13T09:36:43.115Z"
   },
   {
    "duration": 0,
    "start_time": "2022-04-13T09:36:43.231Z"
   },
   {
    "duration": 0,
    "start_time": "2022-04-13T09:36:43.232Z"
   },
   {
    "duration": 9,
    "start_time": "2022-04-13T09:37:00.986Z"
   },
   {
    "duration": 3,
    "start_time": "2022-04-13T09:37:05.618Z"
   },
   {
    "duration": 3,
    "start_time": "2022-04-13T09:37:36.056Z"
   },
   {
    "duration": 1338,
    "start_time": "2022-04-13T09:37:49.303Z"
   },
   {
    "duration": 6,
    "start_time": "2022-04-13T09:37:50.643Z"
   },
   {
    "duration": 15,
    "start_time": "2022-04-13T09:37:50.653Z"
   },
   {
    "duration": 57,
    "start_time": "2022-04-13T09:37:50.670Z"
   },
   {
    "duration": 4,
    "start_time": "2022-04-13T09:37:50.728Z"
   },
   {
    "duration": 15,
    "start_time": "2022-04-13T09:37:50.733Z"
   },
   {
    "duration": 393,
    "start_time": "2022-04-13T09:37:50.749Z"
   },
   {
    "duration": 3,
    "start_time": "2022-04-13T09:37:51.143Z"
   },
   {
    "duration": 6,
    "start_time": "2022-04-13T09:37:51.148Z"
   },
   {
    "duration": 5,
    "start_time": "2022-04-13T09:37:51.156Z"
   },
   {
    "duration": 46,
    "start_time": "2022-04-13T09:37:51.163Z"
   },
   {
    "duration": 5,
    "start_time": "2022-04-13T09:37:51.211Z"
   },
   {
    "duration": 9,
    "start_time": "2022-04-13T09:37:51.218Z"
   },
   {
    "duration": 4,
    "start_time": "2022-04-13T09:37:51.308Z"
   },
   {
    "duration": 7,
    "start_time": "2022-04-13T09:37:51.314Z"
   },
   {
    "duration": 10,
    "start_time": "2022-04-13T09:37:51.322Z"
   },
   {
    "duration": 3,
    "start_time": "2022-04-13T09:37:51.333Z"
   },
   {
    "duration": 7,
    "start_time": "2022-04-13T09:37:51.338Z"
   },
   {
    "duration": 9,
    "start_time": "2022-04-13T09:37:51.346Z"
   },
   {
    "duration": 3,
    "start_time": "2022-04-13T09:41:10.192Z"
   },
   {
    "duration": 4,
    "start_time": "2022-04-13T09:42:04.772Z"
   },
   {
    "duration": 6,
    "start_time": "2022-04-13T09:43:17.523Z"
   },
   {
    "duration": 3,
    "start_time": "2022-04-13T09:43:24.021Z"
   },
   {
    "duration": 107,
    "start_time": "2022-04-13T09:43:39.446Z"
   },
   {
    "duration": 3,
    "start_time": "2022-04-13T09:43:47.941Z"
   },
   {
    "duration": 4,
    "start_time": "2022-04-13T09:43:48.913Z"
   },
   {
    "duration": 5,
    "start_time": "2022-04-13T09:43:49.312Z"
   },
   {
    "duration": 4,
    "start_time": "2022-04-13T09:43:49.742Z"
   },
   {
    "duration": 1415,
    "start_time": "2022-04-13T09:44:12.733Z"
   },
   {
    "duration": 3,
    "start_time": "2022-04-13T09:44:14.150Z"
   },
   {
    "duration": 18,
    "start_time": "2022-04-13T09:44:14.157Z"
   },
   {
    "duration": 50,
    "start_time": "2022-04-13T09:44:14.178Z"
   },
   {
    "duration": 4,
    "start_time": "2022-04-13T09:44:14.230Z"
   },
   {
    "duration": 12,
    "start_time": "2022-04-13T09:44:14.235Z"
   },
   {
    "duration": 431,
    "start_time": "2022-04-13T09:44:14.249Z"
   },
   {
    "duration": 3,
    "start_time": "2022-04-13T09:44:14.682Z"
   },
   {
    "duration": 9,
    "start_time": "2022-04-13T09:44:14.686Z"
   },
   {
    "duration": 13,
    "start_time": "2022-04-13T09:44:14.696Z"
   },
   {
    "duration": 8,
    "start_time": "2022-04-13T09:44:14.712Z"
   },
   {
    "duration": 86,
    "start_time": "2022-04-13T09:44:14.722Z"
   },
   {
    "duration": 5,
    "start_time": "2022-04-13T09:44:14.813Z"
   },
   {
    "duration": 6,
    "start_time": "2022-04-13T09:44:14.820Z"
   },
   {
    "duration": 6,
    "start_time": "2022-04-13T09:44:14.908Z"
   },
   {
    "duration": 10,
    "start_time": "2022-04-13T09:44:14.916Z"
   },
   {
    "duration": 4,
    "start_time": "2022-04-13T09:44:14.927Z"
   },
   {
    "duration": 4,
    "start_time": "2022-04-13T09:44:14.932Z"
   },
   {
    "duration": 5,
    "start_time": "2022-04-13T09:44:14.938Z"
   },
   {
    "duration": 3,
    "start_time": "2022-04-13T09:44:14.945Z"
   },
   {
    "duration": 5,
    "start_time": "2022-04-13T09:44:14.950Z"
   },
   {
    "duration": 7,
    "start_time": "2022-04-13T09:44:14.957Z"
   },
   {
    "duration": 44,
    "start_time": "2022-04-13T09:44:14.965Z"
   },
   {
    "duration": 1669,
    "start_time": "2022-04-13T09:45:26.520Z"
   },
   {
    "duration": 3,
    "start_time": "2022-04-13T09:45:28.191Z"
   },
   {
    "duration": 14,
    "start_time": "2022-04-13T09:45:28.196Z"
   },
   {
    "duration": 36,
    "start_time": "2022-04-13T09:45:28.212Z"
   },
   {
    "duration": 4,
    "start_time": "2022-04-13T09:45:28.249Z"
   },
   {
    "duration": 12,
    "start_time": "2022-04-13T09:45:28.254Z"
   },
   {
    "duration": 402,
    "start_time": "2022-04-13T09:45:28.267Z"
   },
   {
    "duration": 3,
    "start_time": "2022-04-13T09:45:28.671Z"
   },
   {
    "duration": 6,
    "start_time": "2022-04-13T09:45:28.675Z"
   },
   {
    "duration": 3,
    "start_time": "2022-04-13T09:45:28.683Z"
   },
   {
    "duration": 6,
    "start_time": "2022-04-13T09:45:28.708Z"
   },
   {
    "duration": 6,
    "start_time": "2022-04-13T09:45:28.716Z"
   },
   {
    "duration": 94,
    "start_time": "2022-04-13T09:45:28.724Z"
   },
   {
    "duration": 15,
    "start_time": "2022-04-13T09:45:28.820Z"
   },
   {
    "duration": 17,
    "start_time": "2022-04-13T09:45:28.837Z"
   },
   {
    "duration": 18,
    "start_time": "2022-04-13T09:45:28.855Z"
   },
   {
    "duration": 3,
    "start_time": "2022-04-13T09:45:28.875Z"
   },
   {
    "duration": 19,
    "start_time": "2022-04-13T09:45:28.879Z"
   },
   {
    "duration": 13,
    "start_time": "2022-04-13T09:45:28.900Z"
   },
   {
    "duration": 25,
    "start_time": "2022-04-13T09:45:28.914Z"
   },
   {
    "duration": 12,
    "start_time": "2022-04-13T09:45:28.941Z"
   },
   {
    "duration": 13,
    "start_time": "2022-04-13T09:45:28.955Z"
   },
   {
    "duration": 8,
    "start_time": "2022-04-13T09:45:28.970Z"
   },
   {
    "duration": 3,
    "start_time": "2022-04-13T09:46:15.053Z"
   },
   {
    "duration": 4,
    "start_time": "2022-04-13T09:46:15.518Z"
   },
   {
    "duration": 5,
    "start_time": "2022-04-13T09:46:16.286Z"
   },
   {
    "duration": 3,
    "start_time": "2022-04-13T09:46:16.943Z"
   },
   {
    "duration": 1347,
    "start_time": "2022-04-13T09:46:28.494Z"
   },
   {
    "duration": 4,
    "start_time": "2022-04-13T09:46:29.843Z"
   },
   {
    "duration": 15,
    "start_time": "2022-04-13T09:46:29.849Z"
   },
   {
    "duration": 46,
    "start_time": "2022-04-13T09:46:29.865Z"
   },
   {
    "duration": 3,
    "start_time": "2022-04-13T09:46:29.914Z"
   },
   {
    "duration": 11,
    "start_time": "2022-04-13T09:46:29.919Z"
   },
   {
    "duration": 363,
    "start_time": "2022-04-13T09:46:29.931Z"
   },
   {
    "duration": 3,
    "start_time": "2022-04-13T09:46:30.296Z"
   },
   {
    "duration": 4,
    "start_time": "2022-04-13T09:46:30.307Z"
   },
   {
    "duration": 5,
    "start_time": "2022-04-13T09:46:30.312Z"
   },
   {
    "duration": 14,
    "start_time": "2022-04-13T09:46:30.319Z"
   },
   {
    "duration": 76,
    "start_time": "2022-04-13T09:46:30.335Z"
   },
   {
    "duration": 11,
    "start_time": "2022-04-13T09:46:30.413Z"
   },
   {
    "duration": 94,
    "start_time": "2022-04-13T09:46:30.427Z"
   },
   {
    "duration": 21,
    "start_time": "2022-04-13T09:46:30.523Z"
   },
   {
    "duration": 15,
    "start_time": "2022-04-13T09:46:30.545Z"
   },
   {
    "duration": 10,
    "start_time": "2022-04-13T09:46:30.561Z"
   },
   {
    "duration": 24,
    "start_time": "2022-04-13T09:46:30.572Z"
   },
   {
    "duration": 17,
    "start_time": "2022-04-13T09:46:30.598Z"
   },
   {
    "duration": 8,
    "start_time": "2022-04-13T09:46:30.617Z"
   },
   {
    "duration": 12,
    "start_time": "2022-04-13T09:46:30.626Z"
   },
   {
    "duration": 23,
    "start_time": "2022-04-13T09:46:30.639Z"
   },
   {
    "duration": 17,
    "start_time": "2022-04-13T09:46:30.664Z"
   },
   {
    "duration": 3,
    "start_time": "2022-04-13T09:48:59.147Z"
   },
   {
    "duration": 4,
    "start_time": "2022-04-13T09:48:59.434Z"
   },
   {
    "duration": 6,
    "start_time": "2022-04-13T09:48:59.722Z"
   },
   {
    "duration": 3,
    "start_time": "2022-04-13T09:49:00.169Z"
   },
   {
    "duration": 5,
    "start_time": "2022-04-13T09:50:17.653Z"
   },
   {
    "duration": 5,
    "start_time": "2022-04-13T09:51:03.713Z"
   },
   {
    "duration": 3,
    "start_time": "2022-04-13T09:51:04.908Z"
   },
   {
    "duration": 1383,
    "start_time": "2022-04-13T09:51:20.055Z"
   },
   {
    "duration": 3,
    "start_time": "2022-04-13T09:51:21.440Z"
   },
   {
    "duration": 16,
    "start_time": "2022-04-13T09:51:21.445Z"
   },
   {
    "duration": 49,
    "start_time": "2022-04-13T09:51:21.462Z"
   },
   {
    "duration": 4,
    "start_time": "2022-04-13T09:51:21.513Z"
   },
   {
    "duration": 13,
    "start_time": "2022-04-13T09:51:21.518Z"
   },
   {
    "duration": 362,
    "start_time": "2022-04-13T09:51:21.533Z"
   },
   {
    "duration": 3,
    "start_time": "2022-04-13T09:51:21.896Z"
   },
   {
    "duration": 9,
    "start_time": "2022-04-13T09:51:21.901Z"
   },
   {
    "duration": 4,
    "start_time": "2022-04-13T09:51:21.912Z"
   },
   {
    "duration": 8,
    "start_time": "2022-04-13T09:51:21.918Z"
   },
   {
    "duration": 81,
    "start_time": "2022-04-13T09:51:21.928Z"
   },
   {
    "duration": 4,
    "start_time": "2022-04-13T09:51:22.012Z"
   },
   {
    "duration": 7,
    "start_time": "2022-04-13T09:51:22.018Z"
   },
   {
    "duration": 84,
    "start_time": "2022-04-13T09:51:22.027Z"
   },
   {
    "duration": 8,
    "start_time": "2022-04-13T09:51:22.113Z"
   },
   {
    "duration": 3,
    "start_time": "2022-04-13T09:51:22.123Z"
   },
   {
    "duration": 4,
    "start_time": "2022-04-13T09:51:22.127Z"
   },
   {
    "duration": 6,
    "start_time": "2022-04-13T09:51:22.133Z"
   },
   {
    "duration": 4,
    "start_time": "2022-04-13T09:51:22.140Z"
   },
   {
    "duration": 6,
    "start_time": "2022-04-13T09:51:22.145Z"
   },
   {
    "duration": 7,
    "start_time": "2022-04-13T09:51:22.152Z"
   },
   {
    "duration": 3,
    "start_time": "2022-04-13T09:51:22.160Z"
   },
   {
    "duration": 106,
    "start_time": "2022-04-13T09:54:15.956Z"
   },
   {
    "duration": 294,
    "start_time": "2022-04-13T09:56:13.505Z"
   },
   {
    "duration": 10,
    "start_time": "2022-04-13T09:56:23.200Z"
   },
   {
    "duration": 821,
    "start_time": "2022-04-13T09:56:30.764Z"
   },
   {
    "duration": 0,
    "start_time": "2022-04-13T09:56:31.587Z"
   },
   {
    "duration": 2,
    "start_time": "2022-04-13T09:56:49.660Z"
   },
   {
    "duration": 4,
    "start_time": "2022-04-13T09:56:50.276Z"
   },
   {
    "duration": 3,
    "start_time": "2022-04-13T09:56:51.324Z"
   },
   {
    "duration": 4,
    "start_time": "2022-04-13T09:56:51.941Z"
   },
   {
    "duration": 4,
    "start_time": "2022-04-13T09:56:53.724Z"
   },
   {
    "duration": 10,
    "start_time": "2022-04-13T09:56:55.019Z"
   },
   {
    "duration": 10,
    "start_time": "2022-04-13T09:57:38.562Z"
   },
   {
    "duration": 1491,
    "start_time": "2022-04-13T09:58:12.065Z"
   },
   {
    "duration": 3,
    "start_time": "2022-04-13T09:58:13.558Z"
   },
   {
    "duration": 16,
    "start_time": "2022-04-13T09:58:13.563Z"
   },
   {
    "duration": 49,
    "start_time": "2022-04-13T09:58:13.581Z"
   },
   {
    "duration": 4,
    "start_time": "2022-04-13T09:58:13.632Z"
   },
   {
    "duration": 16,
    "start_time": "2022-04-13T09:58:13.638Z"
   },
   {
    "duration": 441,
    "start_time": "2022-04-13T09:58:13.657Z"
   },
   {
    "duration": 8,
    "start_time": "2022-04-13T09:58:14.100Z"
   },
   {
    "duration": 7,
    "start_time": "2022-04-13T09:58:14.111Z"
   },
   {
    "duration": 4,
    "start_time": "2022-04-13T09:58:14.122Z"
   },
   {
    "duration": 8,
    "start_time": "2022-04-13T09:58:14.127Z"
   },
   {
    "duration": 74,
    "start_time": "2022-04-13T09:58:14.137Z"
   },
   {
    "duration": 6,
    "start_time": "2022-04-13T09:58:14.213Z"
   },
   {
    "duration": 5,
    "start_time": "2022-04-13T09:58:14.221Z"
   },
   {
    "duration": 5,
    "start_time": "2022-04-13T09:58:14.308Z"
   },
   {
    "duration": 9,
    "start_time": "2022-04-13T09:58:14.315Z"
   },
   {
    "duration": 3,
    "start_time": "2022-04-13T09:58:14.325Z"
   },
   {
    "duration": 4,
    "start_time": "2022-04-13T09:58:14.330Z"
   },
   {
    "duration": 6,
    "start_time": "2022-04-13T09:58:14.335Z"
   },
   {
    "duration": 4,
    "start_time": "2022-04-13T09:58:14.342Z"
   },
   {
    "duration": 5,
    "start_time": "2022-04-13T09:58:14.348Z"
   },
   {
    "duration": 10,
    "start_time": "2022-04-13T09:58:14.355Z"
   },
   {
    "duration": 8,
    "start_time": "2022-04-13T09:58:14.366Z"
   },
   {
    "duration": 12,
    "start_time": "2022-04-13T09:59:45.829Z"
   },
   {
    "duration": 110,
    "start_time": "2022-04-13T10:00:23.323Z"
   },
   {
    "duration": 3,
    "start_time": "2022-04-13T10:00:46.283Z"
   },
   {
    "duration": 4,
    "start_time": "2022-04-13T10:00:46.794Z"
   },
   {
    "duration": 1426,
    "start_time": "2022-04-13T10:00:53.016Z"
   },
   {
    "duration": 4,
    "start_time": "2022-04-13T10:00:54.444Z"
   },
   {
    "duration": 31,
    "start_time": "2022-04-13T10:00:54.449Z"
   },
   {
    "duration": 39,
    "start_time": "2022-04-13T10:00:54.483Z"
   },
   {
    "duration": 3,
    "start_time": "2022-04-13T10:00:54.524Z"
   },
   {
    "duration": 13,
    "start_time": "2022-04-13T10:00:54.529Z"
   },
   {
    "duration": 392,
    "start_time": "2022-04-13T10:00:54.543Z"
   },
   {
    "duration": 3,
    "start_time": "2022-04-13T10:00:54.936Z"
   },
   {
    "duration": 6,
    "start_time": "2022-04-13T10:00:54.941Z"
   },
   {
    "duration": 214,
    "start_time": "2022-04-13T10:00:54.950Z"
   },
   {
    "duration": 0,
    "start_time": "2022-04-13T10:00:55.166Z"
   },
   {
    "duration": 0,
    "start_time": "2022-04-13T10:00:55.167Z"
   },
   {
    "duration": 0,
    "start_time": "2022-04-13T10:00:55.168Z"
   },
   {
    "duration": 0,
    "start_time": "2022-04-13T10:00:55.169Z"
   },
   {
    "duration": 0,
    "start_time": "2022-04-13T10:00:55.170Z"
   },
   {
    "duration": 0,
    "start_time": "2022-04-13T10:00:55.172Z"
   },
   {
    "duration": 0,
    "start_time": "2022-04-13T10:00:55.173Z"
   },
   {
    "duration": 0,
    "start_time": "2022-04-13T10:00:55.174Z"
   },
   {
    "duration": 0,
    "start_time": "2022-04-13T10:00:55.175Z"
   },
   {
    "duration": 0,
    "start_time": "2022-04-13T10:00:55.176Z"
   },
   {
    "duration": 0,
    "start_time": "2022-04-13T10:00:55.177Z"
   },
   {
    "duration": 0,
    "start_time": "2022-04-13T10:00:55.178Z"
   },
   {
    "duration": 0,
    "start_time": "2022-04-13T10:00:55.179Z"
   },
   {
    "duration": 0,
    "start_time": "2022-04-13T10:00:55.180Z"
   },
   {
    "duration": 375,
    "start_time": "2022-04-13T10:01:18.909Z"
   },
   {
    "duration": 4,
    "start_time": "2022-04-13T10:01:19.406Z"
   },
   {
    "duration": 15047,
    "start_time": "2022-04-13T10:01:20.267Z"
   },
   {
    "duration": 4,
    "start_time": "2022-04-13T10:01:36.969Z"
   },
   {
    "duration": 18518,
    "start_time": "2022-04-13T10:01:39.467Z"
   },
   {
    "duration": 3,
    "start_time": "2022-04-13T10:02:03.074Z"
   },
   {
    "duration": 7,
    "start_time": "2022-04-13T10:02:03.453Z"
   },
   {
    "duration": 3,
    "start_time": "2022-04-13T10:02:04.235Z"
   },
   {
    "duration": 5,
    "start_time": "2022-04-13T10:02:04.828Z"
   },
   {
    "duration": 9,
    "start_time": "2022-04-13T10:02:06.073Z"
   },
   {
    "duration": 3,
    "start_time": "2022-04-13T10:02:06.799Z"
   },
   {
    "duration": 3,
    "start_time": "2022-04-13T10:02:08.536Z"
   },
   {
    "duration": 4,
    "start_time": "2022-04-13T10:02:09.016Z"
   },
   {
    "duration": 204,
    "start_time": "2022-04-13T10:02:10.606Z"
   },
   {
    "duration": 14,
    "start_time": "2022-04-13T10:02:11.419Z"
   },
   {
    "duration": 4,
    "start_time": "2022-04-13T10:02:29.904Z"
   },
   {
    "duration": 6,
    "start_time": "2022-04-13T10:02:32.719Z"
   },
   {
    "duration": 2,
    "start_time": "2022-04-13T10:02:33.918Z"
   },
   {
    "duration": 3,
    "start_time": "2022-04-13T10:03:23.942Z"
   },
   {
    "duration": 4,
    "start_time": "2022-04-13T10:03:24.333Z"
   },
   {
    "duration": 4,
    "start_time": "2022-04-13T10:03:24.829Z"
   },
   {
    "duration": 4,
    "start_time": "2022-04-13T10:03:25.365Z"
   },
   {
    "duration": 5,
    "start_time": "2022-04-13T10:03:26.673Z"
   },
   {
    "duration": 4,
    "start_time": "2022-04-13T10:03:27.774Z"
   },
   {
    "duration": 8,
    "start_time": "2022-04-13T10:03:28.266Z"
   },
   {
    "duration": 3,
    "start_time": "2022-04-13T10:03:29.047Z"
   },
   {
    "duration": 5,
    "start_time": "2022-04-13T10:03:29.635Z"
   },
   {
    "duration": 8,
    "start_time": "2022-04-13T10:03:33.136Z"
   },
   {
    "duration": 3,
    "start_time": "2022-04-13T10:03:34.099Z"
   },
   {
    "duration": 3,
    "start_time": "2022-04-13T10:03:36.843Z"
   },
   {
    "duration": 4,
    "start_time": "2022-04-13T10:03:37.970Z"
   },
   {
    "duration": 3,
    "start_time": "2022-04-13T10:03:45.058Z"
   },
   {
    "duration": 12,
    "start_time": "2022-04-13T10:03:45.571Z"
   },
   {
    "duration": 8,
    "start_time": "2022-04-13T10:03:52.699Z"
   },
   {
    "duration": 3,
    "start_time": "2022-04-13T10:03:58.649Z"
   },
   {
    "duration": 11,
    "start_time": "2022-04-13T10:03:59.387Z"
   },
   {
    "duration": 4,
    "start_time": "2022-04-13T10:04:03.410Z"
   },
   {
    "duration": 6,
    "start_time": "2022-04-13T10:04:04.458Z"
   },
   {
    "duration": 3,
    "start_time": "2022-04-13T10:04:04.926Z"
   },
   {
    "duration": 1374,
    "start_time": "2022-04-13T10:04:14.464Z"
   },
   {
    "duration": 4,
    "start_time": "2022-04-13T10:04:15.840Z"
   },
   {
    "duration": 20,
    "start_time": "2022-04-13T10:04:15.845Z"
   },
   {
    "duration": 41,
    "start_time": "2022-04-13T10:04:15.867Z"
   },
   {
    "duration": 4,
    "start_time": "2022-04-13T10:04:15.910Z"
   },
   {
    "duration": 19,
    "start_time": "2022-04-13T10:04:15.916Z"
   },
   {
    "duration": 347,
    "start_time": "2022-04-13T10:04:15.937Z"
   },
   {
    "duration": 3,
    "start_time": "2022-04-13T10:04:16.286Z"
   },
   {
    "duration": 17,
    "start_time": "2022-04-13T10:04:16.291Z"
   },
   {
    "duration": 3,
    "start_time": "2022-04-13T10:04:16.310Z"
   },
   {
    "duration": 6,
    "start_time": "2022-04-13T10:04:16.315Z"
   },
   {
    "duration": 6,
    "start_time": "2022-04-13T10:04:16.322Z"
   },
   {
    "duration": 4,
    "start_time": "2022-04-13T10:04:16.408Z"
   },
   {
    "duration": 12,
    "start_time": "2022-04-13T10:04:16.414Z"
   },
   {
    "duration": 3,
    "start_time": "2022-04-13T10:04:16.508Z"
   },
   {
    "duration": 7,
    "start_time": "2022-04-13T10:04:16.513Z"
   },
   {
    "duration": 13,
    "start_time": "2022-04-13T10:04:16.521Z"
   },
   {
    "duration": 8,
    "start_time": "2022-04-13T10:04:16.535Z"
   },
   {
    "duration": 10,
    "start_time": "2022-04-13T10:04:16.544Z"
   },
   {
    "duration": 9,
    "start_time": "2022-04-13T10:04:16.555Z"
   },
   {
    "duration": 12,
    "start_time": "2022-04-13T10:04:16.565Z"
   },
   {
    "duration": 5,
    "start_time": "2022-04-13T10:04:16.579Z"
   },
   {
    "duration": 21,
    "start_time": "2022-04-13T10:04:16.586Z"
   },
   {
    "duration": 3,
    "start_time": "2022-04-13T10:04:16.609Z"
   },
   {
    "duration": 3,
    "start_time": "2022-04-13T10:07:10.671Z"
   },
   {
    "duration": 4,
    "start_time": "2022-04-13T10:07:11.087Z"
   },
   {
    "duration": 3,
    "start_time": "2022-04-13T10:07:21.524Z"
   },
   {
    "duration": 4,
    "start_time": "2022-04-13T10:07:21.904Z"
   },
   {
    "duration": 1325,
    "start_time": "2022-04-13T10:07:39.011Z"
   },
   {
    "duration": 4,
    "start_time": "2022-04-13T10:07:40.338Z"
   },
   {
    "duration": 18,
    "start_time": "2022-04-13T10:07:40.343Z"
   },
   {
    "duration": 45,
    "start_time": "2022-04-13T10:07:40.362Z"
   },
   {
    "duration": 4,
    "start_time": "2022-04-13T10:07:40.409Z"
   },
   {
    "duration": 19,
    "start_time": "2022-04-13T10:07:40.414Z"
   },
   {
    "duration": 350,
    "start_time": "2022-04-13T10:07:40.435Z"
   },
   {
    "duration": 3,
    "start_time": "2022-04-13T10:07:40.787Z"
   },
   {
    "duration": 17,
    "start_time": "2022-04-13T10:07:40.791Z"
   },
   {
    "duration": 4,
    "start_time": "2022-04-13T10:07:40.810Z"
   },
   {
    "duration": 7,
    "start_time": "2022-04-13T10:07:40.816Z"
   },
   {
    "duration": 8,
    "start_time": "2022-04-13T10:07:40.825Z"
   },
   {
    "duration": 5,
    "start_time": "2022-04-13T10:07:40.908Z"
   },
   {
    "duration": 91,
    "start_time": "2022-04-13T10:07:40.917Z"
   },
   {
    "duration": 3,
    "start_time": "2022-04-13T10:07:41.009Z"
   },
   {
    "duration": 7,
    "start_time": "2022-04-13T10:07:41.014Z"
   },
   {
    "duration": 8,
    "start_time": "2022-04-13T10:07:41.023Z"
   },
   {
    "duration": 3,
    "start_time": "2022-04-13T10:07:41.032Z"
   },
   {
    "duration": 4,
    "start_time": "2022-04-13T10:07:41.036Z"
   },
   {
    "duration": 6,
    "start_time": "2022-04-13T10:07:41.041Z"
   },
   {
    "duration": 4,
    "start_time": "2022-04-13T10:07:41.048Z"
   },
   {
    "duration": 5,
    "start_time": "2022-04-13T10:07:41.054Z"
   },
   {
    "duration": 7,
    "start_time": "2022-04-13T10:07:41.061Z"
   },
   {
    "duration": 40,
    "start_time": "2022-04-13T10:07:41.069Z"
   },
   {
    "duration": 3,
    "start_time": "2022-04-13T10:08:14.049Z"
   },
   {
    "duration": 4,
    "start_time": "2022-04-13T10:08:14.517Z"
   },
   {
    "duration": 3,
    "start_time": "2022-04-13T10:08:15.828Z"
   },
   {
    "duration": 4,
    "start_time": "2022-04-13T10:08:16.291Z"
   },
   {
    "duration": 4,
    "start_time": "2022-04-13T10:08:18.069Z"
   },
   {
    "duration": 3,
    "start_time": "2022-04-13T10:08:19.239Z"
   },
   {
    "duration": 8,
    "start_time": "2022-04-13T10:08:19.663Z"
   },
   {
    "duration": 3,
    "start_time": "2022-04-13T10:08:20.247Z"
   },
   {
    "duration": 7,
    "start_time": "2022-04-13T10:08:20.814Z"
   },
   {
    "duration": 11,
    "start_time": "2022-04-13T10:08:22.102Z"
   },
   {
    "duration": 3,
    "start_time": "2022-04-13T10:08:23.045Z"
   },
   {
    "duration": 3,
    "start_time": "2022-04-13T10:08:24.647Z"
   },
   {
    "duration": 6,
    "start_time": "2022-04-13T10:08:25.037Z"
   },
   {
    "duration": 3,
    "start_time": "2022-04-13T10:08:26.237Z"
   },
   {
    "duration": 4,
    "start_time": "2022-04-13T10:08:26.501Z"
   },
   {
    "duration": 6,
    "start_time": "2022-04-13T10:08:26.965Z"
   },
   {
    "duration": 3,
    "start_time": "2022-04-13T10:08:27.615Z"
   },
   {
    "duration": 1386,
    "start_time": "2022-04-13T10:08:34.383Z"
   },
   {
    "duration": 3,
    "start_time": "2022-04-13T10:08:35.771Z"
   },
   {
    "duration": 16,
    "start_time": "2022-04-13T10:08:35.776Z"
   },
   {
    "duration": 39,
    "start_time": "2022-04-13T10:08:35.793Z"
   },
   {
    "duration": 4,
    "start_time": "2022-04-13T10:08:35.835Z"
   },
   {
    "duration": 14,
    "start_time": "2022-04-13T10:08:35.840Z"
   },
   {
    "duration": 436,
    "start_time": "2022-04-13T10:08:35.856Z"
   },
   {
    "duration": 3,
    "start_time": "2022-04-13T10:08:36.294Z"
   },
   {
    "duration": 5,
    "start_time": "2022-04-13T10:08:36.307Z"
   },
   {
    "duration": 208,
    "start_time": "2022-04-13T10:08:36.313Z"
   },
   {
    "duration": 0,
    "start_time": "2022-04-13T10:08:36.523Z"
   },
   {
    "duration": 0,
    "start_time": "2022-04-13T10:08:36.524Z"
   },
   {
    "duration": 0,
    "start_time": "2022-04-13T10:08:36.525Z"
   },
   {
    "duration": 0,
    "start_time": "2022-04-13T10:08:36.526Z"
   },
   {
    "duration": 0,
    "start_time": "2022-04-13T10:08:36.527Z"
   },
   {
    "duration": 0,
    "start_time": "2022-04-13T10:08:36.528Z"
   },
   {
    "duration": 0,
    "start_time": "2022-04-13T10:08:36.529Z"
   },
   {
    "duration": 0,
    "start_time": "2022-04-13T10:08:36.529Z"
   },
   {
    "duration": 0,
    "start_time": "2022-04-13T10:08:36.530Z"
   },
   {
    "duration": 0,
    "start_time": "2022-04-13T10:08:36.531Z"
   },
   {
    "duration": 0,
    "start_time": "2022-04-13T10:08:36.532Z"
   },
   {
    "duration": 0,
    "start_time": "2022-04-13T10:08:36.533Z"
   },
   {
    "duration": 0,
    "start_time": "2022-04-13T10:08:36.534Z"
   },
   {
    "duration": 0,
    "start_time": "2022-04-13T10:08:36.535Z"
   },
   {
    "duration": 1472,
    "start_time": "2022-04-13T10:09:27.983Z"
   },
   {
    "duration": 4,
    "start_time": "2022-04-13T10:09:29.457Z"
   },
   {
    "duration": 19,
    "start_time": "2022-04-13T10:09:29.462Z"
   },
   {
    "duration": 36,
    "start_time": "2022-04-13T10:09:29.483Z"
   },
   {
    "duration": 3,
    "start_time": "2022-04-13T10:09:29.521Z"
   },
   {
    "duration": 11,
    "start_time": "2022-04-13T10:09:29.526Z"
   },
   {
    "duration": 357,
    "start_time": "2022-04-13T10:09:29.538Z"
   },
   {
    "duration": 10,
    "start_time": "2022-04-13T10:09:29.897Z"
   },
   {
    "duration": 5,
    "start_time": "2022-04-13T10:09:29.909Z"
   },
   {
    "duration": 8,
    "start_time": "2022-04-13T10:09:29.916Z"
   },
   {
    "duration": 10,
    "start_time": "2022-04-13T10:09:29.926Z"
   },
   {
    "duration": 75,
    "start_time": "2022-04-13T10:09:29.938Z"
   },
   {
    "duration": 7,
    "start_time": "2022-04-13T10:09:30.016Z"
   },
   {
    "duration": 87,
    "start_time": "2022-04-13T10:09:30.026Z"
   },
   {
    "duration": 13,
    "start_time": "2022-04-13T10:09:30.115Z"
   },
   {
    "duration": 19,
    "start_time": "2022-04-13T10:09:30.130Z"
   },
   {
    "duration": 12,
    "start_time": "2022-04-13T10:09:30.150Z"
   },
   {
    "duration": 7,
    "start_time": "2022-04-13T10:09:30.163Z"
   },
   {
    "duration": 17,
    "start_time": "2022-04-13T10:09:30.172Z"
   },
   {
    "duration": 15,
    "start_time": "2022-04-13T10:09:30.190Z"
   },
   {
    "duration": 23,
    "start_time": "2022-04-13T10:09:30.208Z"
   },
   {
    "duration": 9,
    "start_time": "2022-04-13T10:09:30.232Z"
   },
   {
    "duration": 46,
    "start_time": "2022-04-13T10:09:30.243Z"
   },
   {
    "duration": 20,
    "start_time": "2022-04-13T10:09:30.291Z"
   },
   {
    "duration": 3,
    "start_time": "2022-04-13T10:27:14.112Z"
   },
   {
    "duration": 6,
    "start_time": "2022-04-13T10:27:14.505Z"
   },
   {
    "duration": 1537,
    "start_time": "2022-04-13T10:50:17.339Z"
   },
   {
    "duration": 4,
    "start_time": "2022-04-13T10:50:18.879Z"
   },
   {
    "duration": 16,
    "start_time": "2022-04-13T10:50:18.884Z"
   },
   {
    "duration": 40,
    "start_time": "2022-04-13T10:50:18.902Z"
   },
   {
    "duration": 4,
    "start_time": "2022-04-13T10:50:18.943Z"
   },
   {
    "duration": 14,
    "start_time": "2022-04-13T10:50:18.948Z"
   },
   {
    "duration": 434,
    "start_time": "2022-04-13T10:50:18.964Z"
   },
   {
    "duration": 7,
    "start_time": "2022-04-13T10:50:19.400Z"
   },
   {
    "duration": 4,
    "start_time": "2022-04-13T10:50:19.409Z"
   },
   {
    "duration": 3,
    "start_time": "2022-04-13T10:50:19.416Z"
   },
   {
    "duration": 6,
    "start_time": "2022-04-13T10:50:19.422Z"
   },
   {
    "duration": 78,
    "start_time": "2022-04-13T10:50:19.430Z"
   },
   {
    "duration": 5,
    "start_time": "2022-04-13T10:50:19.510Z"
   },
   {
    "duration": 92,
    "start_time": "2022-04-13T10:50:19.516Z"
   },
   {
    "duration": 4,
    "start_time": "2022-04-13T10:50:19.609Z"
   },
   {
    "duration": 8,
    "start_time": "2022-04-13T10:50:19.614Z"
   },
   {
    "duration": 9,
    "start_time": "2022-04-13T10:50:19.623Z"
   },
   {
    "duration": 3,
    "start_time": "2022-04-13T10:50:19.634Z"
   },
   {
    "duration": 4,
    "start_time": "2022-04-13T10:50:19.639Z"
   },
   {
    "duration": 7,
    "start_time": "2022-04-13T10:50:19.645Z"
   },
   {
    "duration": 5,
    "start_time": "2022-04-13T10:50:19.654Z"
   },
   {
    "duration": 9,
    "start_time": "2022-04-13T10:50:19.660Z"
   },
   {
    "duration": 44,
    "start_time": "2022-04-13T10:50:19.670Z"
   },
   {
    "duration": 4,
    "start_time": "2022-04-13T10:50:19.716Z"
   },
   {
    "duration": 1378,
    "start_time": "2022-04-13T10:51:06.040Z"
   },
   {
    "duration": 4,
    "start_time": "2022-04-13T10:51:07.420Z"
   },
   {
    "duration": 20,
    "start_time": "2022-04-13T10:51:07.426Z"
   },
   {
    "duration": 38,
    "start_time": "2022-04-13T10:51:07.448Z"
   },
   {
    "duration": 21,
    "start_time": "2022-04-13T10:51:07.488Z"
   },
   {
    "duration": 11,
    "start_time": "2022-04-13T10:51:07.511Z"
   },
   {
    "duration": 385,
    "start_time": "2022-04-13T10:51:07.524Z"
   },
   {
    "duration": 3,
    "start_time": "2022-04-13T10:51:07.912Z"
   },
   {
    "duration": 12,
    "start_time": "2022-04-13T10:51:07.917Z"
   },
   {
    "duration": 4,
    "start_time": "2022-04-13T10:51:07.931Z"
   },
   {
    "duration": 70,
    "start_time": "2022-04-13T10:51:07.938Z"
   },
   {
    "duration": 6,
    "start_time": "2022-04-13T10:51:08.010Z"
   },
   {
    "duration": 5,
    "start_time": "2022-04-13T10:51:08.019Z"
   },
   {
    "duration": 88,
    "start_time": "2022-04-13T10:51:08.028Z"
   },
   {
    "duration": 6,
    "start_time": "2022-04-13T10:51:08.118Z"
   },
   {
    "duration": 9,
    "start_time": "2022-04-13T10:51:08.126Z"
   },
   {
    "duration": 11,
    "start_time": "2022-04-13T10:51:08.137Z"
   },
   {
    "duration": 4,
    "start_time": "2022-04-13T10:51:08.149Z"
   },
   {
    "duration": 10,
    "start_time": "2022-04-13T10:51:08.155Z"
   },
   {
    "duration": 10,
    "start_time": "2022-04-13T10:51:08.167Z"
   },
   {
    "duration": 32,
    "start_time": "2022-04-13T10:51:08.179Z"
   },
   {
    "duration": 3,
    "start_time": "2022-04-13T10:51:08.213Z"
   },
   {
    "duration": 1351,
    "start_time": "2022-04-13T10:58:56.000Z"
   },
   {
    "duration": 4,
    "start_time": "2022-04-13T10:58:57.353Z"
   },
   {
    "duration": 19,
    "start_time": "2022-04-13T10:58:57.359Z"
   },
   {
    "duration": 45,
    "start_time": "2022-04-13T10:58:57.380Z"
   },
   {
    "duration": 3,
    "start_time": "2022-04-13T10:58:57.427Z"
   },
   {
    "duration": 12,
    "start_time": "2022-04-13T10:58:57.432Z"
   },
   {
    "duration": 419,
    "start_time": "2022-04-13T10:58:57.446Z"
   },
   {
    "duration": 3,
    "start_time": "2022-04-13T10:58:57.866Z"
   },
   {
    "duration": 12,
    "start_time": "2022-04-13T10:58:57.871Z"
   },
   {
    "duration": 5,
    "start_time": "2022-04-13T10:58:57.885Z"
   },
   {
    "duration": 6,
    "start_time": "2022-04-13T10:58:57.907Z"
   },
   {
    "duration": 10,
    "start_time": "2022-04-13T10:58:57.915Z"
   },
   {
    "duration": 83,
    "start_time": "2022-04-13T10:58:57.927Z"
   },
   {
    "duration": 38,
    "start_time": "2022-04-13T10:58:58.011Z"
   },
   {
    "duration": 19,
    "start_time": "2022-04-13T10:58:58.050Z"
   },
   {
    "duration": 18,
    "start_time": "2022-04-13T10:58:58.070Z"
   },
   {
    "duration": 17,
    "start_time": "2022-04-13T10:58:58.090Z"
   },
   {
    "duration": 9,
    "start_time": "2022-04-13T10:58:58.109Z"
   },
   {
    "duration": 22,
    "start_time": "2022-04-13T10:58:58.119Z"
   },
   {
    "duration": 32,
    "start_time": "2022-04-13T10:58:58.143Z"
   },
   {
    "duration": 12,
    "start_time": "2022-04-13T10:58:58.177Z"
   },
   {
    "duration": 16,
    "start_time": "2022-04-13T10:58:58.191Z"
   },
   {
    "duration": 1448,
    "start_time": "2022-04-13T11:42:44.088Z"
   },
   {
    "duration": 4,
    "start_time": "2022-04-13T11:42:54.905Z"
   },
   {
    "duration": 4,
    "start_time": "2022-04-13T11:42:55.529Z"
   },
   {
    "duration": 4,
    "start_time": "2022-04-13T11:42:57.543Z"
   },
   {
    "duration": 4,
    "start_time": "2022-04-13T11:42:58.598Z"
   },
   {
    "duration": 14,
    "start_time": "2022-04-13T11:43:00.213Z"
   },
   {
    "duration": 40,
    "start_time": "2022-04-13T11:43:03.770Z"
   },
   {
    "duration": 4,
    "start_time": "2022-04-13T11:43:07.623Z"
   },
   {
    "duration": 10,
    "start_time": "2022-04-13T11:43:08.853Z"
   },
   {
    "duration": 404,
    "start_time": "2022-04-13T11:43:11.105Z"
   },
   {
    "duration": 3,
    "start_time": "2022-04-13T11:43:17.672Z"
   },
   {
    "duration": 4,
    "start_time": "2022-04-13T11:43:21.384Z"
   },
   {
    "duration": 4,
    "start_time": "2022-04-13T11:43:22.615Z"
   },
   {
    "duration": 4,
    "start_time": "2022-04-13T11:43:26.040Z"
   },
   {
    "duration": 6,
    "start_time": "2022-04-13T11:43:42.852Z"
   },
   {
    "duration": 3,
    "start_time": "2022-04-13T11:43:44.229Z"
   },
   {
    "duration": 8,
    "start_time": "2022-04-13T11:43:44.896Z"
   },
   {
    "duration": 3,
    "start_time": "2022-04-13T11:43:54.757Z"
   },
   {
    "duration": 5,
    "start_time": "2022-04-13T11:43:56.579Z"
   },
   {
    "duration": 9,
    "start_time": "2022-04-13T11:43:58.373Z"
   },
   {
    "duration": 3,
    "start_time": "2022-04-13T11:43:59.321Z"
   },
   {
    "duration": 4,
    "start_time": "2022-04-13T11:44:07.487Z"
   },
   {
    "duration": 5,
    "start_time": "2022-04-13T11:44:12.081Z"
   },
   {
    "duration": 8,
    "start_time": "2022-04-13T11:44:13.096Z"
   },
   {
    "duration": 3,
    "start_time": "2022-04-13T11:44:13.775Z"
   },
   {
    "duration": 9,
    "start_time": "2022-04-13T11:46:08.110Z"
   },
   {
    "duration": 11,
    "start_time": "2022-04-13T11:46:08.638Z"
   },
   {
    "duration": 1355,
    "start_time": "2022-04-13T11:46:29.297Z"
   },
   {
    "duration": 4,
    "start_time": "2022-04-13T11:46:30.654Z"
   },
   {
    "duration": 39,
    "start_time": "2022-04-13T11:46:30.659Z"
   },
   {
    "duration": 39,
    "start_time": "2022-04-13T11:46:30.700Z"
   },
   {
    "duration": 5,
    "start_time": "2022-04-13T11:46:30.741Z"
   },
   {
    "duration": 29,
    "start_time": "2022-04-13T11:46:30.748Z"
   },
   {
    "duration": 416,
    "start_time": "2022-04-13T11:46:30.779Z"
   },
   {
    "duration": 11,
    "start_time": "2022-04-13T11:46:31.197Z"
   },
   {
    "duration": 14,
    "start_time": "2022-04-13T11:46:31.210Z"
   },
   {
    "duration": 6,
    "start_time": "2022-04-13T11:46:31.227Z"
   },
   {
    "duration": 9,
    "start_time": "2022-04-13T11:46:31.236Z"
   },
   {
    "duration": 6,
    "start_time": "2022-04-13T11:46:31.307Z"
   },
   {
    "duration": 96,
    "start_time": "2022-04-13T11:46:31.315Z"
   },
   {
    "duration": 10,
    "start_time": "2022-04-13T11:46:31.413Z"
   },
   {
    "duration": 5,
    "start_time": "2022-04-13T11:46:31.425Z"
   },
   {
    "duration": 11,
    "start_time": "2022-04-13T11:46:31.431Z"
   },
   {
    "duration": 12,
    "start_time": "2022-04-13T11:46:31.443Z"
   },
   {
    "duration": 4,
    "start_time": "2022-04-13T11:46:31.457Z"
   },
   {
    "duration": 5,
    "start_time": "2022-04-13T11:46:31.463Z"
   },
   {
    "duration": 6,
    "start_time": "2022-04-13T11:46:31.470Z"
   },
   {
    "duration": 29,
    "start_time": "2022-04-13T11:46:31.478Z"
   },
   {
    "duration": 3,
    "start_time": "2022-04-13T11:46:31.509Z"
   },
   {
    "duration": 1343,
    "start_time": "2022-04-13T11:47:08.388Z"
   },
   {
    "duration": 4,
    "start_time": "2022-04-13T11:47:09.732Z"
   },
   {
    "duration": 24,
    "start_time": "2022-04-13T11:47:09.737Z"
   },
   {
    "duration": 39,
    "start_time": "2022-04-13T11:47:09.763Z"
   },
   {
    "duration": 4,
    "start_time": "2022-04-13T11:47:09.806Z"
   },
   {
    "duration": 12,
    "start_time": "2022-04-13T11:47:09.811Z"
   },
   {
    "duration": 382,
    "start_time": "2022-04-13T11:47:09.825Z"
   },
   {
    "duration": 2,
    "start_time": "2022-04-13T11:47:10.209Z"
   },
   {
    "duration": 6,
    "start_time": "2022-04-13T11:47:10.213Z"
   },
   {
    "duration": 4,
    "start_time": "2022-04-13T11:47:10.221Z"
   },
   {
    "duration": 7,
    "start_time": "2022-04-13T11:47:10.226Z"
   },
   {
    "duration": 5,
    "start_time": "2022-04-13T11:47:10.235Z"
   },
   {
    "duration": 8,
    "start_time": "2022-04-13T11:47:10.309Z"
   },
   {
    "duration": 89,
    "start_time": "2022-04-13T11:47:10.319Z"
   },
   {
    "duration": 3,
    "start_time": "2022-04-13T11:47:10.409Z"
   },
   {
    "duration": 7,
    "start_time": "2022-04-13T11:47:10.414Z"
   },
   {
    "duration": 8,
    "start_time": "2022-04-13T11:47:10.423Z"
   },
   {
    "duration": 2,
    "start_time": "2022-04-13T11:47:10.433Z"
   },
   {
    "duration": 4,
    "start_time": "2022-04-13T11:47:10.437Z"
   },
   {
    "duration": 4,
    "start_time": "2022-04-13T11:47:10.442Z"
   },
   {
    "duration": 7,
    "start_time": "2022-04-13T11:47:10.448Z"
   },
   {
    "duration": 3,
    "start_time": "2022-04-13T11:47:10.457Z"
   },
   {
    "duration": 1421,
    "start_time": "2022-04-13T18:01:35.304Z"
   },
   {
    "duration": 4,
    "start_time": "2022-04-13T18:01:36.727Z"
   },
   {
    "duration": 21,
    "start_time": "2022-04-13T18:01:36.732Z"
   },
   {
    "duration": 39,
    "start_time": "2022-04-13T18:01:36.755Z"
   },
   {
    "duration": 4,
    "start_time": "2022-04-13T18:01:36.809Z"
   },
   {
    "duration": 17,
    "start_time": "2022-04-13T18:01:36.814Z"
   },
   {
    "duration": 378,
    "start_time": "2022-04-13T18:01:36.833Z"
   },
   {
    "duration": 3,
    "start_time": "2022-04-13T18:01:37.212Z"
   },
   {
    "duration": 10,
    "start_time": "2022-04-13T18:01:37.217Z"
   },
   {
    "duration": 5,
    "start_time": "2022-04-13T18:01:37.228Z"
   },
   {
    "duration": 6,
    "start_time": "2022-04-13T18:01:37.236Z"
   },
   {
    "duration": 69,
    "start_time": "2022-04-13T18:01:37.244Z"
   },
   {
    "duration": 6,
    "start_time": "2022-04-13T18:01:37.316Z"
   },
   {
    "duration": 88,
    "start_time": "2022-04-13T18:01:37.326Z"
   },
   {
    "duration": 5,
    "start_time": "2022-04-13T18:01:37.415Z"
   },
   {
    "duration": 8,
    "start_time": "2022-04-13T18:01:37.421Z"
   },
   {
    "duration": 9,
    "start_time": "2022-04-13T18:01:37.430Z"
   },
   {
    "duration": 4,
    "start_time": "2022-04-13T18:01:37.508Z"
   },
   {
    "duration": 94,
    "start_time": "2022-04-13T18:01:37.515Z"
   },
   {
    "duration": 7,
    "start_time": "2022-04-13T18:01:37.611Z"
   },
   {
    "duration": 10,
    "start_time": "2022-04-13T18:01:37.620Z"
   },
   {
    "duration": 81,
    "start_time": "2022-04-13T18:01:37.633Z"
   },
   {
    "duration": 129,
    "start_time": "2022-04-13T18:09:19.768Z"
   },
   {
    "duration": 152,
    "start_time": "2022-04-13T18:09:30.731Z"
   },
   {
    "duration": 1189,
    "start_time": "2022-04-13T18:10:00.846Z"
   },
   {
    "duration": 495,
    "start_time": "2022-04-13T18:10:43.709Z"
   },
   {
    "duration": 10,
    "start_time": "2022-04-13T18:18:31.513Z"
   },
   {
    "duration": 234,
    "start_time": "2022-04-13T18:18:45.615Z"
   },
   {
    "duration": 1800,
    "start_time": "2022-04-14T08:40:02.604Z"
   },
   {
    "duration": 4,
    "start_time": "2022-04-14T08:40:04.407Z"
   },
   {
    "duration": 30,
    "start_time": "2022-04-14T08:40:04.413Z"
   },
   {
    "duration": 42,
    "start_time": "2022-04-14T08:40:04.446Z"
   },
   {
    "duration": 5,
    "start_time": "2022-04-14T08:40:04.491Z"
   },
   {
    "duration": 25,
    "start_time": "2022-04-14T08:40:04.498Z"
   },
   {
    "duration": 455,
    "start_time": "2022-04-14T08:40:04.526Z"
   },
   {
    "duration": 4,
    "start_time": "2022-04-14T08:40:04.982Z"
   },
   {
    "duration": 12,
    "start_time": "2022-04-14T08:40:04.987Z"
   },
   {
    "duration": 3,
    "start_time": "2022-04-14T08:40:05.018Z"
   },
   {
    "duration": 12,
    "start_time": "2022-04-14T08:40:05.024Z"
   },
   {
    "duration": 100,
    "start_time": "2022-04-14T08:40:05.038Z"
   },
   {
    "duration": 80,
    "start_time": "2022-04-14T08:40:05.140Z"
   },
   {
    "duration": 10,
    "start_time": "2022-04-14T08:40:05.222Z"
   },
   {
    "duration": 88,
    "start_time": "2022-04-14T08:40:05.234Z"
   },
   {
    "duration": 97,
    "start_time": "2022-04-14T08:40:05.325Z"
   },
   {
    "duration": 9,
    "start_time": "2022-04-14T08:40:05.424Z"
   },
   {
    "duration": 16,
    "start_time": "2022-04-14T08:40:05.435Z"
   },
   {
    "duration": 67,
    "start_time": "2022-04-14T08:40:05.454Z"
   },
   {
    "duration": 1764,
    "start_time": "2022-04-14T08:44:00.340Z"
   },
   {
    "duration": 4,
    "start_time": "2022-04-14T08:44:02.107Z"
   },
   {
    "duration": 38,
    "start_time": "2022-04-14T08:44:02.112Z"
   },
   {
    "duration": 63,
    "start_time": "2022-04-14T08:44:02.152Z"
   },
   {
    "duration": 4,
    "start_time": "2022-04-14T08:44:02.218Z"
   },
   {
    "duration": 26,
    "start_time": "2022-04-14T08:44:02.224Z"
   },
   {
    "duration": 465,
    "start_time": "2022-04-14T08:44:02.252Z"
   },
   {
    "duration": 3,
    "start_time": "2022-04-14T08:44:02.719Z"
   },
   {
    "duration": 15,
    "start_time": "2022-04-14T08:44:02.724Z"
   },
   {
    "duration": 12,
    "start_time": "2022-04-14T08:44:02.741Z"
   },
   {
    "duration": 65,
    "start_time": "2022-04-14T08:44:02.755Z"
   },
   {
    "duration": 15,
    "start_time": "2022-04-14T08:44:02.823Z"
   },
   {
    "duration": 131,
    "start_time": "2022-04-14T08:44:02.919Z"
   },
   {
    "duration": 0,
    "start_time": "2022-04-14T08:44:03.053Z"
   },
   {
    "duration": 0,
    "start_time": "2022-04-14T08:44:03.054Z"
   },
   {
    "duration": 0,
    "start_time": "2022-04-14T08:44:03.055Z"
   },
   {
    "duration": 0,
    "start_time": "2022-04-14T08:44:03.057Z"
   },
   {
    "duration": 0,
    "start_time": "2022-04-14T08:44:03.058Z"
   },
   {
    "duration": 0,
    "start_time": "2022-04-14T08:44:03.059Z"
   },
   {
    "duration": 1766,
    "start_time": "2022-04-14T08:45:05.893Z"
   },
   {
    "duration": 4,
    "start_time": "2022-04-14T08:45:07.661Z"
   },
   {
    "duration": 25,
    "start_time": "2022-04-14T08:45:07.666Z"
   },
   {
    "duration": 48,
    "start_time": "2022-04-14T08:45:07.693Z"
   },
   {
    "duration": 3,
    "start_time": "2022-04-14T08:45:07.743Z"
   },
   {
    "duration": 16,
    "start_time": "2022-04-14T08:45:07.748Z"
   },
   {
    "duration": 424,
    "start_time": "2022-04-14T08:45:07.766Z"
   },
   {
    "duration": 3,
    "start_time": "2022-04-14T08:45:08.192Z"
   },
   {
    "duration": 11,
    "start_time": "2022-04-14T08:45:08.197Z"
   },
   {
    "duration": 4,
    "start_time": "2022-04-14T08:45:08.219Z"
   },
   {
    "duration": 14,
    "start_time": "2022-04-14T08:45:08.224Z"
   },
   {
    "duration": 10,
    "start_time": "2022-04-14T08:45:08.241Z"
   },
   {
    "duration": 66,
    "start_time": "2022-04-14T08:45:08.254Z"
   },
   {
    "duration": 97,
    "start_time": "2022-04-14T08:45:08.323Z"
   },
   {
    "duration": 12,
    "start_time": "2022-04-14T08:45:08.422Z"
   },
   {
    "duration": 15,
    "start_time": "2022-04-14T08:45:08.435Z"
   },
   {
    "duration": 68,
    "start_time": "2022-04-14T08:45:08.452Z"
   },
   {
    "duration": 103,
    "start_time": "2022-04-14T08:45:08.522Z"
   },
   {
    "duration": 94,
    "start_time": "2022-04-14T08:45:08.626Z"
   },
   {
    "duration": 1901,
    "start_time": "2022-04-14T08:59:10.940Z"
   },
   {
    "duration": 6,
    "start_time": "2022-04-14T08:59:12.845Z"
   },
   {
    "duration": 21,
    "start_time": "2022-04-14T08:59:12.853Z"
   },
   {
    "duration": 59,
    "start_time": "2022-04-14T08:59:12.877Z"
   },
   {
    "duration": 5,
    "start_time": "2022-04-14T08:59:12.939Z"
   },
   {
    "duration": 34,
    "start_time": "2022-04-14T08:59:12.946Z"
   },
   {
    "duration": 465,
    "start_time": "2022-04-14T08:59:12.982Z"
   },
   {
    "duration": 5,
    "start_time": "2022-04-14T08:59:13.449Z"
   },
   {
    "duration": 10,
    "start_time": "2022-04-14T08:59:13.456Z"
   },
   {
    "duration": 7,
    "start_time": "2022-04-14T08:59:13.469Z"
   },
   {
    "duration": 17,
    "start_time": "2022-04-14T08:59:13.477Z"
   },
   {
    "duration": 36,
    "start_time": "2022-04-14T08:59:13.496Z"
   },
   {
    "duration": 9,
    "start_time": "2022-04-14T08:59:13.533Z"
   },
   {
    "duration": 86,
    "start_time": "2022-04-14T08:59:13.543Z"
   },
   {
    "duration": 28,
    "start_time": "2022-04-14T08:59:13.631Z"
   },
   {
    "duration": 12,
    "start_time": "2022-04-14T08:59:13.662Z"
   },
   {
    "duration": 171,
    "start_time": "2022-04-14T08:59:13.676Z"
   },
   {
    "duration": 20,
    "start_time": "2022-04-14T08:59:13.849Z"
   },
   {
    "duration": 128,
    "start_time": "2022-04-14T08:59:13.922Z"
   }
  ],
  "kernelspec": {
   "display_name": "Python 3 (ipykernel)",
   "language": "python",
   "name": "python3"
  },
  "language_info": {
   "codemirror_mode": {
    "name": "ipython",
    "version": 3
   },
   "file_extension": ".py",
   "mimetype": "text/x-python",
   "name": "python",
   "nbconvert_exporter": "python",
   "pygments_lexer": "ipython3",
   "version": "3.8.12"
  },
  "toc": {
   "base_numbering": 1,
   "nav_menu": {},
   "number_sections": true,
   "sideBar": true,
   "skip_h1_title": true,
   "title_cell": "Содержание",
   "title_sidebar": "Contents",
   "toc_cell": true,
   "toc_position": {
    "height": "calc(100% - 180px)",
    "left": "10px",
    "top": "150px",
    "width": "204.35px"
   },
   "toc_section_display": true,
   "toc_window_display": false
  },
  "varInspector": {
   "cols": {
    "lenName": 16,
    "lenType": 16,
    "lenVar": 40
   },
   "kernels_config": {
    "python": {
     "delete_cmd_postfix": "",
     "delete_cmd_prefix": "del ",
     "library": "var_list.py",
     "varRefreshCmd": "print(var_dic_list())"
    },
    "r": {
     "delete_cmd_postfix": ") ",
     "delete_cmd_prefix": "rm(",
     "library": "var_list.r",
     "varRefreshCmd": "cat(var_dic_list()) "
    }
   },
   "types_to_exclude": [
    "module",
    "function",
    "builtin_function_or_method",
    "instance",
    "_Feature"
   ],
   "window_display": false
  }
 },
 "nbformat": 4,
 "nbformat_minor": 2
}
