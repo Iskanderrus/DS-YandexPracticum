{
 "cells": [
  {
   "cell_type": "markdown",
   "id": "5668b514",
   "metadata": {},
   "source": [
    "# Определение стоимости автомобилей"
   ]
  },
  {
   "cell_type": "markdown",
   "id": "58ea04af",
   "metadata": {},
   "source": [
    "# *Описание проекта*"
   ]
  },
  {
   "cell_type": "markdown",
   "id": "3202fcb0",
   "metadata": {},
   "source": [
    "Сервис по продаже автомобилей с пробегом **«Не бит, не крашен»** разрабатывает приложение для привлечения новых клиентов. В нём можно быстро узнать рыночную стоимость своего автомобиля. В вашем распоряжении исторические данные: технические характеристики, комплектации и цены автомобилей.<br>Вам нужно построить модель для определения стоимости.\n",
    "<br>Заказчику важны:\n",
    "- качество предсказания;\n",
    "- скорость предсказания;\n",
    "- время обучения."
   ]
  },
  {
   "cell_type": "markdown",
   "id": "f1a9febf",
   "metadata": {},
   "source": [
    "# Описание данных"
   ]
  },
  {
   "cell_type": "markdown",
   "id": "9ba8b251",
   "metadata": {},
   "source": [
    "<br>**Признаки:**<br>\n",
    "<ul><em>DateCrawled</em> — дата скачивания анкеты из базы</ul>\n",
    "<ul><em>VehicleType</em> — тип автомобильного кузова</ul>\n",
    "<ul><em>RegistrationYear</em> — год регистрации автомобиля</ul>\n",
    "<ul><em>Gearbox</em> — тип коробки передач</ul>\n",
    "<ul><em>Power</em> — мощность (л. с.)</ul>\n",
    "<ul><em>Model</em> — модель автомобиля</ul>\n",
    "<ul><em>Kilometer</em> — пробег (км)</ul>\n",
    "<ul><em>RegistrationMonth</em> — месяц регистрации автомобиля</ul>\n",
    "<ul><em>FuelType</em> — тип топлива</ul>\n",
    "<ul><em>Brand</em> — марка автомобиля</ul>\n",
    "<ul><em>NotRepaired</em> — была машина в ремонте или нет</ul>\n",
    "<ul><em>DateCreated</em> — дата создания анкеты</ul>\n",
    "<ul><em>NumberOfPictures</em> — количество фотографий автомобиля</ul>\n",
    "<ul><em>PostalCode</em> — почтовый индекс владельца анкеты (пользователя)</ul>\n",
    "<ul><em>LastSeen</em> — дата последней активности пользователя</ul>\n",
    "<br><strong>Целевой признак:</strong><br>\n",
    "<em>Price</em> — цена (евро)"
   ]
  },
  {
   "cell_type": "markdown",
   "id": "e36d0648",
   "metadata": {},
   "source": [
    "## Загрузка и подготовка данных"
   ]
  },
  {
   "cell_type": "markdown",
   "id": "c907fe98",
   "metadata": {},
   "source": [
    "### Импорт библиотек"
   ]
  },
  {
   "cell_type": "code",
   "execution_count": 1,
   "id": "e5f845e8",
   "metadata": {},
   "outputs": [],
   "source": [
    "import pandas as pd\n",
    "import time\n",
    "import datetime\n",
    "import os\n",
    "import numpy as np\n",
    "import math\n",
    "from pandas.api.types import is_string_dtype, is_numeric_dtype\n",
    "\n",
    "from matplotlib import pyplot\n",
    "import seaborn as sns\n",
    "\n",
    "from sklearn.linear_model import LinearRegression\n",
    "from sklearn.tree import DecisionTreeRegressor\n",
    "from sklearn.ensemble import RandomForestRegressor\n",
    "\n",
    "from sklearn.pipeline import Pipeline\n",
    "from sklearn.metrics import mean_squared_error\n",
    "from sklearn.preprocessing import OrdinalEncoder, StandardScaler, OneHotEncoder, MinMaxScaler\n",
    "from sklearn.model_selection import train_test_split, cross_val_score, GridSearchCV, RandomizedSearchCV\n",
    "\n",
    "from xgboost.sklearn import XGBRegressor\n",
    "from lightgbm import LGBMRegressor\n",
    "from catboost import CatBoostRegressor\n",
    "\n",
    "pd.set_option('display.float_format', lambda x: '%.3f' % x)\n",
    "pyplot.style.use('seaborn-deep')\n",
    "STATE = 12345"
   ]
  },
  {
   "cell_type": "code",
   "execution_count": 2,
   "id": "19130536",
   "metadata": {},
   "outputs": [],
   "source": [
    "# напишем функцию для поиска файла на локальном диске: \n",
    "def find(name, path):\n",
    "    '''\n",
    "    Function to find the data file stored locally.\n",
    "    Takes name of the file and root directory.\n",
    "    Scanes the local directory tree for the first orrurance of the file.\n",
    "    '''\n",
    "    for root, dirs, files in os.walk(path):\n",
    "        if name in files:\n",
    "            return os.path.join(root, name)"
   ]
  },
  {
   "cell_type": "code",
   "execution_count": 3,
   "id": "6b164f1c",
   "metadata": {},
   "outputs": [
    {
     "name": "stdout",
     "output_type": "stream",
     "text": [
      "Файл autos.csv открыт в режиме online.\n"
     ]
    }
   ],
   "source": [
    "# найдем файл на диске или онлайн: \n",
    "\n",
    "online_path = 'datasets'\n",
    "offline_path = '/home/alex/Документы/'\n",
    "file = 'autos.csv'\n",
    "\n",
    "\n",
    "try:\n",
    "    df = pd.read_csv(f'/{online_path}/{file}', parse_dates=[0, 12, 15])\n",
    "except FileNotFoundError:\n",
    "    df = pd.read_csv(find(file, offline_path), parse_dates=[0, 12, 15])\n",
    "    print(f\"Файл {file} найден на локальном диске.\")\n",
    "else:\n",
    "    print(f\"Файл {file} открыт в режиме online.\")"
   ]
  },
  {
   "cell_type": "markdown",
   "id": "a4563f75",
   "metadata": {},
   "source": [
    "### Развёрнутая сводка по датафрейму"
   ]
  },
  {
   "cell_type": "code",
   "execution_count": 4,
   "id": "379143ea",
   "metadata": {
    "scrolled": false
   },
   "outputs": [
    {
     "name": "stdout",
     "output_type": "stream",
     "text": [
      "Внешний вид первых пяти строк датафрейма \u001b[1mAUTOS\u001b[0;0m:\n"
     ]
    },
    {
     "data": {
      "text/html": [
       "<div>\n",
       "<style scoped>\n",
       "    .dataframe tbody tr th:only-of-type {\n",
       "        vertical-align: middle;\n",
       "    }\n",
       "\n",
       "    .dataframe tbody tr th {\n",
       "        vertical-align: top;\n",
       "    }\n",
       "\n",
       "    .dataframe thead th {\n",
       "        text-align: right;\n",
       "    }\n",
       "</style>\n",
       "<table border=\"1\" class=\"dataframe\">\n",
       "  <thead>\n",
       "    <tr style=\"text-align: right;\">\n",
       "      <th></th>\n",
       "      <th>DateCrawled</th>\n",
       "      <th>Price</th>\n",
       "      <th>VehicleType</th>\n",
       "      <th>RegistrationYear</th>\n",
       "      <th>Gearbox</th>\n",
       "      <th>Power</th>\n",
       "      <th>Model</th>\n",
       "      <th>Kilometer</th>\n",
       "      <th>RegistrationMonth</th>\n",
       "      <th>FuelType</th>\n",
       "      <th>Brand</th>\n",
       "      <th>NotRepaired</th>\n",
       "      <th>DateCreated</th>\n",
       "      <th>NumberOfPictures</th>\n",
       "      <th>PostalCode</th>\n",
       "      <th>LastSeen</th>\n",
       "    </tr>\n",
       "  </thead>\n",
       "  <tbody>\n",
       "    <tr>\n",
       "      <th>0</th>\n",
       "      <td>2016-03-24 11:52:17</td>\n",
       "      <td>480</td>\n",
       "      <td>NaN</td>\n",
       "      <td>1993</td>\n",
       "      <td>manual</td>\n",
       "      <td>0</td>\n",
       "      <td>golf</td>\n",
       "      <td>150000</td>\n",
       "      <td>0</td>\n",
       "      <td>petrol</td>\n",
       "      <td>volkswagen</td>\n",
       "      <td>NaN</td>\n",
       "      <td>2016-03-24</td>\n",
       "      <td>0</td>\n",
       "      <td>70435</td>\n",
       "      <td>2016-04-07 03:16:57</td>\n",
       "    </tr>\n",
       "    <tr>\n",
       "      <th>1</th>\n",
       "      <td>2016-03-24 10:58:45</td>\n",
       "      <td>18300</td>\n",
       "      <td>coupe</td>\n",
       "      <td>2011</td>\n",
       "      <td>manual</td>\n",
       "      <td>190</td>\n",
       "      <td>NaN</td>\n",
       "      <td>125000</td>\n",
       "      <td>5</td>\n",
       "      <td>gasoline</td>\n",
       "      <td>audi</td>\n",
       "      <td>yes</td>\n",
       "      <td>2016-03-24</td>\n",
       "      <td>0</td>\n",
       "      <td>66954</td>\n",
       "      <td>2016-04-07 01:46:50</td>\n",
       "    </tr>\n",
       "    <tr>\n",
       "      <th>2</th>\n",
       "      <td>2016-03-14 12:52:21</td>\n",
       "      <td>9800</td>\n",
       "      <td>suv</td>\n",
       "      <td>2004</td>\n",
       "      <td>auto</td>\n",
       "      <td>163</td>\n",
       "      <td>grand</td>\n",
       "      <td>125000</td>\n",
       "      <td>8</td>\n",
       "      <td>gasoline</td>\n",
       "      <td>jeep</td>\n",
       "      <td>NaN</td>\n",
       "      <td>2016-03-14</td>\n",
       "      <td>0</td>\n",
       "      <td>90480</td>\n",
       "      <td>2016-04-05 12:47:46</td>\n",
       "    </tr>\n",
       "    <tr>\n",
       "      <th>3</th>\n",
       "      <td>2016-03-17 16:54:04</td>\n",
       "      <td>1500</td>\n",
       "      <td>small</td>\n",
       "      <td>2001</td>\n",
       "      <td>manual</td>\n",
       "      <td>75</td>\n",
       "      <td>golf</td>\n",
       "      <td>150000</td>\n",
       "      <td>6</td>\n",
       "      <td>petrol</td>\n",
       "      <td>volkswagen</td>\n",
       "      <td>no</td>\n",
       "      <td>2016-03-17</td>\n",
       "      <td>0</td>\n",
       "      <td>91074</td>\n",
       "      <td>2016-03-17 17:40:17</td>\n",
       "    </tr>\n",
       "    <tr>\n",
       "      <th>4</th>\n",
       "      <td>2016-03-31 17:25:20</td>\n",
       "      <td>3600</td>\n",
       "      <td>small</td>\n",
       "      <td>2008</td>\n",
       "      <td>manual</td>\n",
       "      <td>69</td>\n",
       "      <td>fabia</td>\n",
       "      <td>90000</td>\n",
       "      <td>7</td>\n",
       "      <td>gasoline</td>\n",
       "      <td>skoda</td>\n",
       "      <td>no</td>\n",
       "      <td>2016-03-31</td>\n",
       "      <td>0</td>\n",
       "      <td>60437</td>\n",
       "      <td>2016-04-06 10:17:21</td>\n",
       "    </tr>\n",
       "  </tbody>\n",
       "</table>\n",
       "</div>"
      ],
      "text/plain": [
       "          DateCrawled  Price VehicleType  RegistrationYear Gearbox  Power  \\\n",
       "0 2016-03-24 11:52:17    480         NaN              1993  manual      0   \n",
       "1 2016-03-24 10:58:45  18300       coupe              2011  manual    190   \n",
       "2 2016-03-14 12:52:21   9800         suv              2004    auto    163   \n",
       "3 2016-03-17 16:54:04   1500       small              2001  manual     75   \n",
       "4 2016-03-31 17:25:20   3600       small              2008  manual     69   \n",
       "\n",
       "   Model  Kilometer  RegistrationMonth  FuelType       Brand NotRepaired  \\\n",
       "0   golf     150000                  0    petrol  volkswagen         NaN   \n",
       "1    NaN     125000                  5  gasoline        audi         yes   \n",
       "2  grand     125000                  8  gasoline        jeep         NaN   \n",
       "3   golf     150000                  6    petrol  volkswagen          no   \n",
       "4  fabia      90000                  7  gasoline       skoda          no   \n",
       "\n",
       "  DateCreated  NumberOfPictures  PostalCode            LastSeen  \n",
       "0  2016-03-24                 0       70435 2016-04-07 03:16:57  \n",
       "1  2016-03-24                 0       66954 2016-04-07 01:46:50  \n",
       "2  2016-03-14                 0       90480 2016-04-05 12:47:46  \n",
       "3  2016-03-17                 0       91074 2016-03-17 17:40:17  \n",
       "4  2016-03-31                 0       60437 2016-04-06 10:17:21  "
      ]
     },
     "metadata": {},
     "output_type": "display_data"
    },
    {
     "name": "stdout",
     "output_type": "stream",
     "text": [
      "\n",
      "Размер датафрейма \u001b[1mAUTOS\u001b[0;0m:         \n",
      "количество строк - 354369, \n",
      "количество столбцов - 16.\n",
      "\n",
      "Развернутая сводка датафрейма \u001b[1mAUTOS\u001b[0;0m \n",
      "по наименованию столбцов, типу данных, ненулевых значениях и объему памяти:\n",
      "\n",
      "<class 'pandas.core.frame.DataFrame'>\n",
      "RangeIndex: 354369 entries, 0 to 354368\n",
      "Data columns (total 16 columns):\n",
      " #   Column             Non-Null Count   Dtype         \n",
      "---  ------             --------------   -----         \n",
      " 0   DateCrawled        354369 non-null  datetime64[ns]\n",
      " 1   Price              354369 non-null  int64         \n",
      " 2   VehicleType        316879 non-null  object        \n",
      " 3   RegistrationYear   354369 non-null  int64         \n",
      " 4   Gearbox            334536 non-null  object        \n",
      " 5   Power              354369 non-null  int64         \n",
      " 6   Model              334664 non-null  object        \n",
      " 7   Kilometer          354369 non-null  int64         \n",
      " 8   RegistrationMonth  354369 non-null  int64         \n",
      " 9   FuelType           321474 non-null  object        \n",
      " 10  Brand              354369 non-null  object        \n",
      " 11  NotRepaired        283215 non-null  object        \n",
      " 12  DateCreated        354369 non-null  datetime64[ns]\n",
      " 13  NumberOfPictures   354369 non-null  int64         \n",
      " 14  PostalCode         354369 non-null  int64         \n",
      " 15  LastSeen           354369 non-null  datetime64[ns]\n",
      "dtypes: datetime64[ns](3), int64(7), object(6)\n",
      "memory usage: 148.1 MB\n",
      "\n",
      "Пропуски в столбцах датафрейма \u001b[1mAUTOS\u001b[0;0m:\n"
     ]
    },
    {
     "data": {
      "text/plain": [
       "DateCrawled              0\n",
       "Price                    0\n",
       "VehicleType          37490\n",
       "RegistrationYear         0\n",
       "Gearbox              19833\n",
       "Power                    0\n",
       "Model                19705\n",
       "Kilometer                0\n",
       "RegistrationMonth        0\n",
       "FuelType             32895\n",
       "Brand                    0\n",
       "NotRepaired          71154\n",
       "DateCreated              0\n",
       "NumberOfPictures         0\n",
       "PostalCode               0\n",
       "LastSeen                 0\n",
       "dtype: int64"
      ]
     },
     "metadata": {},
     "output_type": "display_data"
    },
    {
     "name": "stdout",
     "output_type": "stream",
     "text": [
      "Статистические данные по столбцам датафрейма \u001b[1mAUTOS\u001b[0;0m, содержащим численные значения:\n"
     ]
    },
    {
     "data": {
      "text/html": [
       "<div>\n",
       "<style scoped>\n",
       "    .dataframe tbody tr th:only-of-type {\n",
       "        vertical-align: middle;\n",
       "    }\n",
       "\n",
       "    .dataframe tbody tr th {\n",
       "        vertical-align: top;\n",
       "    }\n",
       "\n",
       "    .dataframe thead th {\n",
       "        text-align: right;\n",
       "    }\n",
       "</style>\n",
       "<table border=\"1\" class=\"dataframe\">\n",
       "  <thead>\n",
       "    <tr style=\"text-align: right;\">\n",
       "      <th></th>\n",
       "      <th>Price</th>\n",
       "      <th>RegistrationYear</th>\n",
       "      <th>Power</th>\n",
       "      <th>Kilometer</th>\n",
       "      <th>RegistrationMonth</th>\n",
       "      <th>NumberOfPictures</th>\n",
       "      <th>PostalCode</th>\n",
       "    </tr>\n",
       "  </thead>\n",
       "  <tbody>\n",
       "    <tr>\n",
       "      <th>count</th>\n",
       "      <td>354369.000</td>\n",
       "      <td>354369.000</td>\n",
       "      <td>354369.000</td>\n",
       "      <td>354369.000</td>\n",
       "      <td>354369.000</td>\n",
       "      <td>354369.000</td>\n",
       "      <td>354369.000</td>\n",
       "    </tr>\n",
       "    <tr>\n",
       "      <th>mean</th>\n",
       "      <td>4416.657</td>\n",
       "      <td>2004.234</td>\n",
       "      <td>110.094</td>\n",
       "      <td>128211.173</td>\n",
       "      <td>5.715</td>\n",
       "      <td>0.000</td>\n",
       "      <td>50508.689</td>\n",
       "    </tr>\n",
       "    <tr>\n",
       "      <th>std</th>\n",
       "      <td>4514.159</td>\n",
       "      <td>90.228</td>\n",
       "      <td>189.850</td>\n",
       "      <td>37905.342</td>\n",
       "      <td>3.726</td>\n",
       "      <td>0.000</td>\n",
       "      <td>25783.096</td>\n",
       "    </tr>\n",
       "    <tr>\n",
       "      <th>min</th>\n",
       "      <td>0.000</td>\n",
       "      <td>1000.000</td>\n",
       "      <td>0.000</td>\n",
       "      <td>5000.000</td>\n",
       "      <td>0.000</td>\n",
       "      <td>0.000</td>\n",
       "      <td>1067.000</td>\n",
       "    </tr>\n",
       "    <tr>\n",
       "      <th>25%</th>\n",
       "      <td>1050.000</td>\n",
       "      <td>1999.000</td>\n",
       "      <td>69.000</td>\n",
       "      <td>125000.000</td>\n",
       "      <td>3.000</td>\n",
       "      <td>0.000</td>\n",
       "      <td>30165.000</td>\n",
       "    </tr>\n",
       "    <tr>\n",
       "      <th>50%</th>\n",
       "      <td>2700.000</td>\n",
       "      <td>2003.000</td>\n",
       "      <td>105.000</td>\n",
       "      <td>150000.000</td>\n",
       "      <td>6.000</td>\n",
       "      <td>0.000</td>\n",
       "      <td>49413.000</td>\n",
       "    </tr>\n",
       "    <tr>\n",
       "      <th>75%</th>\n",
       "      <td>6400.000</td>\n",
       "      <td>2008.000</td>\n",
       "      <td>143.000</td>\n",
       "      <td>150000.000</td>\n",
       "      <td>9.000</td>\n",
       "      <td>0.000</td>\n",
       "      <td>71083.000</td>\n",
       "    </tr>\n",
       "    <tr>\n",
       "      <th>max</th>\n",
       "      <td>20000.000</td>\n",
       "      <td>9999.000</td>\n",
       "      <td>20000.000</td>\n",
       "      <td>150000.000</td>\n",
       "      <td>12.000</td>\n",
       "      <td>0.000</td>\n",
       "      <td>99998.000</td>\n",
       "    </tr>\n",
       "  </tbody>\n",
       "</table>\n",
       "</div>"
      ],
      "text/plain": [
       "           Price  RegistrationYear      Power  Kilometer  RegistrationMonth  \\\n",
       "count 354369.000        354369.000 354369.000 354369.000         354369.000   \n",
       "mean    4416.657          2004.234    110.094 128211.173              5.715   \n",
       "std     4514.159            90.228    189.850  37905.342              3.726   \n",
       "min        0.000          1000.000      0.000   5000.000              0.000   \n",
       "25%     1050.000          1999.000     69.000 125000.000              3.000   \n",
       "50%     2700.000          2003.000    105.000 150000.000              6.000   \n",
       "75%     6400.000          2008.000    143.000 150000.000              9.000   \n",
       "max    20000.000          9999.000  20000.000 150000.000             12.000   \n",
       "\n",
       "       NumberOfPictures  PostalCode  \n",
       "count        354369.000  354369.000  \n",
       "mean              0.000   50508.689  \n",
       "std               0.000   25783.096  \n",
       "min               0.000    1067.000  \n",
       "25%               0.000   30165.000  \n",
       "50%               0.000   49413.000  \n",
       "75%               0.000   71083.000  \n",
       "max               0.000   99998.000  "
      ]
     },
     "metadata": {},
     "output_type": "display_data"
    },
    {
     "name": "stdout",
     "output_type": "stream",
     "text": [
      "\n",
      "Уникальные значения столбцов датафрейма \u001b[1mAUTOS\u001b[0;0m, содержащих категориальные значения:\n",
      "    Наименование столбца: \u001b[1mVehicleType\u001b[0;0m\n",
      "        ['bus', 'convertible', 'coupe', 'nan', 'other', 'sedan', 'small', 'suv', 'wagon']\n",
      "\n",
      "    Наименование столбца: \u001b[1mGearbox\u001b[0;0m\n",
      "        ['auto', 'manual', 'nan']\n",
      "\n",
      "    Наименование столбца: \u001b[1mModel\u001b[0;0m\n",
      "        ['100', '145', '147', '156', '159', '1_reihe', '1er', '200', '2_reihe', '300c', '3_reihe', '3er', '4_reihe', '500', '5_reihe', '5er', '601', '6_reihe', '6er', '7er', '80', '850', '90', '900', '9000', '911', 'a1', 'a2', 'a3', 'a4', 'a5', 'a6', 'a8', 'a_klasse', 'accord', 'agila', 'alhambra', 'almera', 'altea', 'amarok', 'antara', 'arosa', 'astra', 'auris', 'avensis', 'aveo', 'aygo', 'b_klasse', 'b_max', 'beetle', 'berlingo', 'bora', 'boxster', 'bravo', 'c1', 'c2', 'c3', 'c4', 'c5', 'c_klasse', 'c_max', 'c_reihe', 'caddy', 'calibra', 'captiva', 'carisma', 'carnival', 'cayenne', 'cc', 'ceed', 'charade', 'cherokee', 'citigo', 'civic', 'cl', 'clio', 'clk', 'clubman', 'colt', 'combo', 'cooper', 'cordoba', 'corolla', 'corsa', 'cr_reihe', 'croma', 'crossfire', 'cuore', 'cx_reihe', 'defender', 'delta', 'discovery', 'doblo', 'ducato', 'duster', 'e_klasse', 'elefantino', 'eos', 'escort', 'espace', 'exeo', 'fabia', 'fiesta', 'focus', 'forester', 'forfour', 'fortwo', 'fox', 'freelander', 'fusion', 'g_klasse', 'galant', 'galaxy', 'getz', 'gl', 'glk', 'golf', 'grand', 'i3', 'i_reihe', 'ibiza', 'impreza', 'insignia', 'jazz', 'jetta', 'jimny', 'juke', 'justy', 'ka', 'kadett', 'kaefer', 'kalina', 'kalos', 'kangoo', 'kappa', 'kuga', 'laguna', 'lancer', 'lanos', 'legacy', 'leon', 'lodgy', 'logan', 'lupo', 'lybra', 'm_klasse', 'm_reihe', 'materia', 'matiz', 'megane', 'meriva', 'micra', 'mii', 'modus', 'mondeo', 'move', 'musa', 'mustang', 'mx_reihe', 'nan', 'navara', 'niva', 'note', 'nubira', 'octavia', 'omega', 'one', 'other', 'outlander', 'pajero', 'panda', 'passat', 'phaeton', 'picanto', 'polo', 'primera', 'ptcruiser', 'punto', 'q3', 'q5', 'q7', 'qashqai', 'r19', 'range_rover', 'range_rover_evoque', 'range_rover_sport', 'rangerover', 'rav', 'rio', 'roadster', 'roomster', 'rx_reihe', 's60', 's_klasse', 's_max', 's_type', 'samara', 'sandero', 'santa', 'scenic', 'scirocco', 'seicento', 'serie_1', 'serie_2', 'serie_3', 'sharan', 'signum', 'sirion', 'sl', 'slk', 'sorento', 'spark', 'spider', 'sportage', 'sprinter', 'stilo', 'superb', 'swift', 'terios', 'tigra', 'tiguan', 'toledo', 'touareg', 'touran', 'transit', 'transporter', 'tt', 'tucson', 'twingo', 'up', 'v40', 'v50', 'v60', 'v70', 'v_klasse', 'vectra', 'verso', 'viano', 'vito', 'vivaro', 'voyager', 'wrangler', 'x_reihe', 'x_trail', 'x_type', 'xc_reihe', 'yaris', 'yeti', 'ypsilon', 'z_reihe', 'zafira']\n",
      "\n",
      "    Наименование столбца: \u001b[1mFuelType\u001b[0;0m\n",
      "        ['cng', 'electric', 'gasoline', 'hybrid', 'lpg', 'nan', 'other', 'petrol']\n",
      "\n",
      "    Наименование столбца: \u001b[1mBrand\u001b[0;0m\n",
      "        ['alfa_romeo', 'audi', 'bmw', 'chevrolet', 'chrysler', 'citroen', 'dacia', 'daewoo', 'daihatsu', 'fiat', 'ford', 'honda', 'hyundai', 'jaguar', 'jeep', 'kia', 'lada', 'lancia', 'land_rover', 'mazda', 'mercedes_benz', 'mini', 'mitsubishi', 'nissan', 'opel', 'peugeot', 'porsche', 'renault', 'rover', 'saab', 'seat', 'skoda', 'smart', 'sonstige_autos', 'subaru', 'suzuki', 'toyota', 'trabant', 'volkswagen', 'volvo']\n",
      "\n",
      "    Наименование столбца: \u001b[1mNotRepaired\u001b[0;0m\n",
      "        ['nan', 'no', 'yes']\n",
      "\n"
     ]
    }
   ],
   "source": [
    "start = \"\\033[1m\"\n",
    "end = \"\\033[0;0m\"\n",
    "print(\n",
    "        f\"Внешний вид первых пяти строк датафрейма {start}{str(file).split('.')[0].upper()}{end}:\"\n",
    "    )\n",
    "display(df.head())\n",
    "print()\n",
    "print(f\"Размер датафрейма {start}{str(file).split('.')[0].upper()}{end}: \\\n",
    "        \\nколичество строк - {df.shape[0]}, \\nколичество столбцов - {df.shape[1]}.\"\n",
    "          )\n",
    "print()\n",
    "print(\n",
    "        f\"Развернутая сводка датафрейма {start}{str(file).split('.')[0].upper()}{end} \\nпо наименованию столбцов, типу данных, ненулевых значениях и объему памяти:\"\n",
    "    )\n",
    "print()\n",
    "df.info(show_counts=True, memory_usage='deep')\n",
    "print()\n",
    "print(f\"Пропуски в столбцах датафрейма {start}{str(file).split('.')[0].upper()}{end}:\")\n",
    "display(df.isna().sum())\n",
    "\n",
    "print(\n",
    "        f\"Статистические данные по столбцам датафрейма {start}{str(file).split('.')[0].upper()}{end}, содержащим численные значения:\"\n",
    "    )\n",
    "display(df.describe(include=np.number))\n",
    "print()\n",
    "print(\n",
    "        f\"Уникальные значения столбцов датафрейма {start}{str(file).split('.')[0].upper()}{end}, содержащих категориальные значения:\"\n",
    "    )\n",
    "for column in df.columns: \n",
    "    if is_string_dtype(df[column]):\n",
    "        print(f'    Наименование столбца: {start}{column}{end}')\n",
    "        print(f'        {sorted([str(x) for x in df[column].unique()])}')\n",
    "        print()\n"
   ]
  },
  {
   "cell_type": "markdown",
   "id": "dcde45e6",
   "metadata": {},
   "source": [
    "### *Промежуточные выводы*"
   ]
  },
  {
   "cell_type": "markdown",
   "id": "2964f7be",
   "metadata": {},
   "source": [
    "1. Датафрейм содержит довольно большое количество пропусков. Часть из них может быть заполнена, часть необходимо будет отбросить. Обработку пропусков выполним в качестве последнего шага подготовки данных. \n",
    "2. **Типы данных**: столбцы, содержащие полные данные о дате были преобразованы на этапе загрузки датафрейма. Столбец  __*PostalCode*__ имеет тип данных __*int64*__, однако индекс должен использоваться не как числовое значение, а в качестве категорийной переменной. При этом индекс стоит укрупнить, чтобы не получить чрезмерно много значений в данной переменной. Такое же преобразование потребуется данным столбца __*RegistrationYear*__ после обработки.  \n",
    "3. **Значения столбцов**: \n",
    "- __*Price*__ - минимальное значение - 0, медианное значение 4500, а среднее 2700, что говорит о наличии негативного перекоса распределения даных, максимальное значение - 20000. Необходимо проверить нижний порог цен. Скорее всего, стоимость указана не в рублях, а долларах или евро.\n",
    "- __*RegistrationYear*__ - минимальное значение 1000 (хотел бы я увидеть этот автомобиль) - необходимо проанализировать данные этого столбца на релевантность и отбросить те строки, где год указан не корректно (min и max). \n",
    "- __*Power*__ - как и предыдущий столбец, содержит странные значения минимума и максимума. \n",
    "- __*Kilometer*__ - на первый взгляд не содержит значений, которые вызывали бы вопросы, однако имеет смысл проверить корреляцию между годом регистрации автомобиля, километрами пробега и стоимостью, а таке километрами пробега и данными о ремонте автомобиля. \n",
    "- __*RegistrationMonth, LastSeen, DateCreated*__ и __*NumberOfPictures*__ - 4 столбца, которые не несут полезной информации для модели машинного обучения. \n",
    "- Столбцы __*Model, FuelType, VehicleType, Gearbox*__ - содержит значения 'nan', которые могут быть отброшены. \n",
    "- __*NotRepaired*__ - содержит пропуски, которые можно заменить на значение False. \n",
    "- __*Brand*__ - содержит особое значение 'sonstige_autos' (*нем.* иные автомобили). Стоит обратить внимание на эту категорию. И, возможно, отбросить. "
   ]
  },
  {
   "cell_type": "markdown",
   "id": "654ee6b9",
   "metadata": {},
   "source": [
    "### Обработка столбцов"
   ]
  },
  {
   "cell_type": "markdown",
   "id": "4063046f",
   "metadata": {},
   "source": [
    "#### Изменение типа данных PostalCode и сокращение индекса до 3-х знаков"
   ]
  },
  {
   "cell_type": "code",
   "execution_count": 5,
   "id": "32921e18",
   "metadata": {},
   "outputs": [],
   "source": [
    "# изменим тип данных на строку и оставим только первые три знака: \n",
    "df['PostalCode'] = df.PostalCode.astype(\"string\")\n",
    "df['PostalCode'] = df.PostalCode.str.slice(stop=3)"
   ]
  },
  {
   "cell_type": "code",
   "execution_count": 6,
   "id": "7f24df81",
   "metadata": {},
   "outputs": [],
   "source": [
    "# вернем тип данных к числовому: \n",
    "df['PostalCode'] = df.PostalCode.astype(\"int32\")"
   ]
  },
  {
   "cell_type": "markdown",
   "id": "73061130",
   "metadata": {},
   "source": [
    "#### Удаление неинформативных даных"
   ]
  },
  {
   "cell_type": "code",
   "execution_count": 7,
   "id": "5f378062",
   "metadata": {},
   "outputs": [],
   "source": [
    "df.drop([\n",
    "    'DateCrawled', 'RegistrationMonth', 'LastSeen', 'DateCreated',\n",
    "    'NumberOfPictures'\n",
    "],\n",
    "    axis=1,\n",
    "    inplace=True)"
   ]
  },
  {
   "cell_type": "code",
   "execution_count": 8,
   "id": "c302ed14",
   "metadata": {},
   "outputs": [
    {
     "data": {
      "text/plain": [
       "Index(['Price', 'VehicleType', 'RegistrationYear', 'Gearbox', 'Power', 'Model',\n",
       "       'Kilometer', 'FuelType', 'Brand', 'NotRepaired', 'PostalCode'],\n",
       "      dtype='object')"
      ]
     },
     "execution_count": 8,
     "metadata": {},
     "output_type": "execute_result"
    }
   ],
   "source": [
    "# проверим полученный результат: \n",
    "df.columns"
   ]
  },
  {
   "cell_type": "markdown",
   "id": "87c014f2",
   "metadata": {},
   "source": [
    "#### RegistrationYear"
   ]
  },
  {
   "cell_type": "code",
   "execution_count": 9,
   "id": "f1debde5",
   "metadata": {},
   "outputs": [
    {
     "name": "stdout",
     "output_type": "stream",
     "text": [
      "[1000, 1001, 1039, 1111, 1200, 1234, 1253, 1255, 1300, 1400, 1500, 1600, 1602, 1688, 1800, 1910, 1915, 1919, 1920, 1923, 1925, 1927, 1928, 1929, 1930, 1931, 1932, 1933, 1934, 1935, 1936, 1937, 1938, 1940, 1941, 1942, 1943, 1944, 1945, 1946, 1947, 1948, 1949, 1950, 1951, 1952, 1953, 1954, 1955, 1956, 1957, 1958, 1959, 1960, 1961, 1962, 1963, 1964, 1965, 1966, 1967, 1968, 1969, 1970, 1971, 1972, 1973, 1974, 1975, 1976, 1977, 1978, 1979, 1980, 1981, 1982, 1983, 1984, 1985, 1986, 1987, 1988, 1989, 1990, 1991, 1992, 1993, 1994, 1995, 1996, 1997, 1998, 1999, 2000, 2001, 2002, 2003, 2004, 2005, 2006, 2007, 2008, 2009, 2010, 2011, 2012, 2013, 2014, 2015, 2016, 2017, 2018, 2019, 2066, 2200, 2222, 2290, 2500, 2800, 2900, 3000, 3200, 3500, 3700, 3800, 4000, 4100, 4500, 4800, 5000, 5300, 5555, 5600, 5900, 5911, 6000, 6500, 7000, 7100, 7500, 7800, 8000, 8200, 8455, 8500, 8888, 9000, 9229, 9450, 9996, 9999]\n"
     ]
    }
   ],
   "source": [
    "# рассмотрим уникальные значения столбца RegistrationYear:\n",
    "print(sorted(df.RegistrationYear.unique()))"
   ]
  },
  {
   "cell_type": "markdown",
   "id": "d7beae54",
   "metadata": {},
   "source": [
    "Так как речь идет о рынке Германии, то можно предположить, что возможно наличие раритетных автомобилей в выборке. Поэтому диапазон от 1910 до 2019 выглядит достаточно правдоподобным. Однако, такого рода автомобили могут быть малочисленны и иметь при этом очень высокую цену (если это коллекционный экземпеляр) или наоборот - крайне низкую цену, что будет вести к искажению работы модели. Рассмотрим распределение автомобилей в этом диапазоне. "
   ]
  },
  {
   "cell_type": "code",
   "execution_count": 10,
   "id": "0a0fe07e",
   "metadata": {},
   "outputs": [
    {
     "data": {
      "image/png": "[encoded data removed]",
      "text/plain": [
       "<Figure size 900x360 with 1 Axes>"
      ]
     },
     "metadata": {},
     "output_type": "display_data"
    }
   ],
   "source": [
    "# построим график распределений для столбца года производства автомобиля:\n",
    "sns.set_theme(style=\"whitegrid\", font_scale=1.2)\n",
    "sns.displot(\n",
    "    x='RegistrationYear',\n",
    "    kde=True,\n",
    "    data=df.query('RegistrationYear >= 1910 & RegistrationYear <= 2019'),\n",
    "    height=5,\n",
    "    aspect=2.5,\n",
    "    legend=False\n",
    ").set(\n",
    "    title='Распределение автомобилей по году производства',\n",
    "    xlabel='Год производства автомобиля',\n",
    "    ylabel='Количество, шт.')\n",
    "pyplot.show()"
   ]
  },
  {
   "cell_type": "markdown",
   "id": "b0977bd9",
   "metadata": {},
   "source": [
    "Действительно график указывает на целесообразный диапазон 1990-2019 включительно. Отбросим строки со значениями вне этого диапазона. "
   ]
  },
  {
   "cell_type": "code",
   "execution_count": 11,
   "id": "cb70491e",
   "metadata": {},
   "outputs": [],
   "source": [
    "df = df.query('1989 < RegistrationYear < 2016')"
   ]
  },
  {
   "cell_type": "code",
   "execution_count": 12,
   "id": "6126881e",
   "metadata": {},
   "outputs": [
    {
     "name": "stdout",
     "output_type": "stream",
     "text": [
      "[1990, 1991, 1992, 1993, 1994, 1995, 1996, 1997, 1998, 1999, 2000, 2001, 2002, 2003, 2004, 2005, 2006, 2007, 2008, 2009, 2010, 2011, 2012, 2013, 2014, 2015, 2016, 2017, 2018, 2019]\n"
     ]
    }
   ],
   "source": [
    "# рассмотрим уникальные значения столбца RegistrationYear:\n",
    "print(sorted(df.RegistrationYear.unique()))"
   ]
  },
  {
   "cell_type": "markdown",
   "id": "47212993",
   "metadata": {},
   "source": [
    "#### Price"
   ]
  },
  {
   "cell_type": "code",
   "execution_count": 13,
   "id": "5b42a389",
   "metadata": {},
   "outputs": [
    {
     "data": {
      "image/png": "[encoded data removed]",
      "text/plain": [
       "<Figure size 900x360 with 1 Axes>"
      ]
     },
     "metadata": {},
     "output_type": "display_data"
    }
   ],
   "source": [
    "# построим график распределений для столбца цены:\n",
    "sns.set_theme(style=\"whitegrid\", font_scale=1.2)\n",
    "sns.displot(x='Price', kde=True, data=df, height=5, aspect=2.5,\n",
    "            legend=False).set(title='Распределение стоимости автомобилей',\n",
    "                              xlabel='Стоимость автомобиля',\n",
    "                              ylabel='Количество, шт.')\n",
    "pyplot.show()"
   ]
  },
  {
   "cell_type": "markdown",
   "id": "1439c36a",
   "metadata": {},
   "source": [
    "Распределение стоимости подержаных автомобилей в целом выглядит достаточно логично - количество дешевых автомобилей выше количества дорогих автомобилей. Однако достаточно большое количество автомобилей находятся в ценовом диапазоне около 0 евро. Чего быть не должно. Логически обоснованная цена подержанного автомобиля не должна быть ниже 400 евро (около 30 тыс. рублей). Рассмотрим их количество и отбросим все варианты c ценой до 400 евро."
   ]
  },
  {
   "cell_type": "code",
   "execution_count": 14,
   "id": "f12b17ba",
   "metadata": {},
   "outputs": [
    {
     "name": "stdout",
     "output_type": "stream",
     "text": [
      "Процент автомобилей стоимостью до 400 евро: 12.01%\n"
     ]
    }
   ],
   "source": [
    "# проверим количество записей с ценой менее 400 евро:\n",
    "print(\n",
    "    f\"Процент автомобилей стоимостью до 400 евро: {round(df.shape[0]/df.query('Price < 400').Price.count(), 2)}%\"\n",
    ")"
   ]
  },
  {
   "cell_type": "code",
   "execution_count": 15,
   "id": "454e1036",
   "metadata": {},
   "outputs": [],
   "source": [
    "# отбросим автомобили с ценой до 400 евро:\n",
    "df.drop(df.index[df['Price'] < 400], inplace=True)"
   ]
  },
  {
   "cell_type": "code",
   "execution_count": 16,
   "id": "0a5a8ab3",
   "metadata": {},
   "outputs": [
    {
     "data": {
      "image/png": "[encoded data removed]",
      "text/plain": [
       "<Figure size 900x360 with 1 Axes>"
      ]
     },
     "metadata": {},
     "output_type": "display_data"
    }
   ],
   "source": [
    "# обновим график распределений для столбца цены:\n",
    "sns.set_theme(style=\"whitegrid\", font_scale=1.2)\n",
    "sns.displot(x='Price', kde=True, data=df, height=5, aspect=2.5,\n",
    "            legend=False).set(title='Распределение стоимости автомобилей',\n",
    "                              xlabel='Стоимость автомобиля',\n",
    "                              ylabel='Количество, шт.')\n",
    "pyplot.show()"
   ]
  },
  {
   "cell_type": "markdown",
   "id": "de99d88c",
   "metadata": {},
   "source": [
    "#### Power"
   ]
  },
  {
   "cell_type": "code",
   "execution_count": 17,
   "id": "0a350c6b",
   "metadata": {},
   "outputs": [
    {
     "data": {
      "image/png": "[encoded data removed]",
      "text/plain": [
       "<Figure size 1152x432 with 1 Axes>"
      ]
     },
     "metadata": {},
     "output_type": "display_data"
    }
   ],
   "source": [
    "# построим ящик с усами для столбца мощности автомобилей:\n",
    "fig, ax = pyplot.subplots(figsize=(16, 6))\n",
    "ax = sns.boxplot(x=df[\"Power\"]).set(title='Диаграмма размаха мощности автомобилей');"
   ]
  },
  {
   "cell_type": "code",
   "execution_count": 18,
   "id": "4d111962",
   "metadata": {},
   "outputs": [
    {
     "data": {
      "image/png": "[encoded data removed]",
      "text/plain": [
       "<Figure size 1152x432 with 1 Axes>"
      ]
     },
     "metadata": {},
     "output_type": "display_data"
    }
   ],
   "source": [
    "# построим график распределений для столбца мощности:\n",
    "fig, ax = pyplot.subplots(figsize=(16, 6))\n",
    "ax = sns.histplot(x='Power', data=df, bins=100,\n",
    "                  legend=False).set(title='Распределение мощности автомобилей',\n",
    "                                    xlabel='Мощность автомобиля',\n",
    "                                    ylabel='Количество, шт.')\n",
    "pyplot.show()"
   ]
  },
  {
   "cell_type": "markdown",
   "id": "a71fa3a8",
   "metadata": {},
   "source": [
    "Очевидно, что данные содержат большое количество выбросов как по нижней, так и по верхней границам, т.к. даже мощность современных суперкаров не превышает 700 л.с."
   ]
  },
  {
   "cell_type": "code",
   "execution_count": 19,
   "id": "75844fc2",
   "metadata": {},
   "outputs": [],
   "source": [
    "# отбросим все значения ниже 600, т.к. не думаю, что суперкар даже подержанный может стоить 20 тыс. евро: \n",
    "df = df.query('Power < 600')"
   ]
  },
  {
   "cell_type": "code",
   "execution_count": 20,
   "id": "3390d184",
   "metadata": {},
   "outputs": [
    {
     "data": {
      "image/png": "[encoded data removed]",
      "text/plain": [
       "<Figure size 1152x432 with 1 Axes>"
      ]
     },
     "metadata": {},
     "output_type": "display_data"
    }
   ],
   "source": [
    "fig, ax = pyplot.subplots(figsize=(16, 6))\n",
    "ax = sns.histplot(x='Power', data=df, bins=100,\n",
    "                  legend=False).set(title='Распределение мощности автомобилей',\n",
    "                                    xlabel='Мощность автомобиля',\n",
    "                                    ylabel='Количество, шт.')\n",
    "pyplot.show()"
   ]
  },
  {
   "cell_type": "markdown",
   "id": "32eae416",
   "metadata": {},
   "source": [
    "Очевидно, что логичные границы находятся в диапазоне от 50 до 300 л.с. Отбросим все значения за рамками данного диапазона. "
   ]
  },
  {
   "cell_type": "code",
   "execution_count": 21,
   "id": "2a101ac7",
   "metadata": {},
   "outputs": [],
   "source": [
    "df = df.query('50 < Power < 300')"
   ]
  },
  {
   "cell_type": "code",
   "execution_count": 22,
   "id": "128790cb",
   "metadata": {},
   "outputs": [
    {
     "data": {
      "image/png": "[encoded data removed]",
      "text/plain": [
       "<Figure size 1152x432 with 1 Axes>"
      ]
     },
     "metadata": {},
     "output_type": "display_data"
    }
   ],
   "source": [
    "fig, ax = pyplot.subplots(figsize=(16, 6))\n",
    "ax = sns.histplot(x='Power', data=df, bins=100,\n",
    "                  legend=False).set(title='Распределение мощности автомобилей \\nпосле очистки данных',\n",
    "                                    xlabel='Мощность автомобиля',\n",
    "                                    ylabel='Количество, шт.')\n",
    "pyplot.show()"
   ]
  },
  {
   "cell_type": "markdown",
   "id": "f0a27aab",
   "metadata": {},
   "source": [
    "#### Kilometer"
   ]
  },
  {
   "cell_type": "code",
   "execution_count": 23,
   "id": "2db2a1ad",
   "metadata": {},
   "outputs": [
    {
     "data": {
      "image/png": "[encoded data removed]",
      "text/plain": [
       "<Figure size 1152x432 with 1 Axes>"
      ]
     },
     "metadata": {},
     "output_type": "display_data"
    }
   ],
   "source": [
    "# построим график распределения пробега автомобилей датасета: \n",
    "fig, ax = pyplot.subplots(figsize=(16, 6))\n",
    "ax = sns.histplot(x='Kilometer', data=df, bins=100,\n",
    "                  legend=False).set(title='Распределение пробега автомобилей',\n",
    "                                    xlabel='Пробег, км.',\n",
    "                                    ylabel='Количество, шт.')\n",
    "pyplot.show()"
   ]
  },
  {
   "cell_type": "code",
   "execution_count": 24,
   "id": "7b97bfb9",
   "metadata": {},
   "outputs": [
    {
     "data": {
      "text/plain": [
       "150000    183217\n",
       "125000     30015\n",
       "100000     11919\n",
       "90000       9771\n",
       "80000       8562\n",
       "70000       7434\n",
       "60000       6546\n",
       "50000       5449\n",
       "40000       4298\n",
       "30000       3676\n",
       "20000       3022\n",
       "5000        2215\n",
       "10000        800\n",
       "Name: Kilometer, dtype: int64"
      ]
     },
     "execution_count": 24,
     "metadata": {},
     "output_type": "execute_result"
    }
   ],
   "source": [
    "# проверим уникальные значения: \n",
    "df.Kilometer.value_counts()"
   ]
  },
  {
   "cell_type": "markdown",
   "id": "32f3e349",
   "metadata": {},
   "source": [
    "Данные о пробеге не содержат каких-то специфичных значений. Однако есть явный перекос в сторону автомобилей с большим пробегом. Для удобства переведем значения из километров в тысячи километров. "
   ]
  },
  {
   "cell_type": "code",
   "execution_count": 25,
   "id": "853c90e9",
   "metadata": {},
   "outputs": [],
   "source": [
    "df['Kilometer'] = df['Kilometer'] / 1000"
   ]
  },
  {
   "cell_type": "code",
   "execution_count": 26,
   "id": "3e512af8",
   "metadata": {},
   "outputs": [],
   "source": [
    "# вернем тип данных к цельночисленному: \n",
    "df['Kilometer'] = df.Kilometer.astype(\"int32\")"
   ]
  },
  {
   "cell_type": "markdown",
   "id": "7fba5482",
   "metadata": {},
   "source": [
    "##### Корреляция числовых столбцов"
   ]
  },
  {
   "cell_type": "code",
   "execution_count": 27,
   "id": "cd90a97b",
   "metadata": {},
   "outputs": [],
   "source": [
    "# отфильтруем числовые столбцы датафрейма: \n",
    "numeric_columns = []\n",
    "for column in df.columns: \n",
    "    if is_numeric_dtype(df[column]): \n",
    "        numeric_columns.append(column)"
   ]
  },
  {
   "cell_type": "code",
   "execution_count": 28,
   "id": "77c6c00a",
   "metadata": {},
   "outputs": [
    {
     "data": {
      "text/plain": [
       "Text(0.5, 1.0, 'Тепловая карта корреляции числовых фичей')"
      ]
     },
     "execution_count": 28,
     "metadata": {},
     "output_type": "execute_result"
    },
    {
     "data": {
      "image/png": "[encoded data removed]",
      "text/plain": [
       "<Figure size 864x576 with 2 Axes>"
      ]
     },
     "metadata": {},
     "output_type": "display_data"
    }
   ],
   "source": [
    "# построим тепловую карту корреляции числовых столбцов: \n",
    "fig, ax = pyplot.subplots(figsize=(12, 8))\n",
    "sns.heatmap(df.loc[:, numeric_columns].corr(method='pearson'),\n",
    "            annot=True,\n",
    "            cmap='coolwarm',\n",
    "            annot_kws={\"fontsize\": 16}\n",
    "           )\n",
    "ax.set_title(f'Тепловая карта корреляции числовых фичей', fontsize=20)"
   ]
  },
  {
   "cell_type": "markdown",
   "id": "3dd34cd8",
   "metadata": {},
   "source": [
    "Стоимость автомобиля имеет среднюю корреляцию с годом регистрации автомобиля и мощностью двигателя и среднюю обратную корреляцию с пробегом автомобиля. "
   ]
  },
  {
   "cell_type": "markdown",
   "id": "5ba75bd9",
   "metadata": {},
   "source": [
    "#### Brand"
   ]
  },
  {
   "cell_type": "code",
   "execution_count": 29,
   "id": "4b265770",
   "metadata": {},
   "outputs": [
    {
     "data": {
      "text/html": [
       "<div>\n",
       "<style scoped>\n",
       "    .dataframe tbody tr th:only-of-type {\n",
       "        vertical-align: middle;\n",
       "    }\n",
       "\n",
       "    .dataframe tbody tr th {\n",
       "        vertical-align: top;\n",
       "    }\n",
       "\n",
       "    .dataframe thead th {\n",
       "        text-align: right;\n",
       "    }\n",
       "</style>\n",
       "<table border=\"1\" class=\"dataframe\">\n",
       "  <thead>\n",
       "    <tr style=\"text-align: right;\">\n",
       "      <th></th>\n",
       "      <th>Price</th>\n",
       "      <th>VehicleType</th>\n",
       "      <th>RegistrationYear</th>\n",
       "      <th>Gearbox</th>\n",
       "      <th>Power</th>\n",
       "      <th>Model</th>\n",
       "      <th>Kilometer</th>\n",
       "      <th>FuelType</th>\n",
       "      <th>Brand</th>\n",
       "      <th>NotRepaired</th>\n",
       "      <th>PostalCode</th>\n",
       "    </tr>\n",
       "  </thead>\n",
       "  <tbody>\n",
       "    <tr>\n",
       "      <th>661</th>\n",
       "      <td>9900</td>\n",
       "      <td>suv</td>\n",
       "      <td>2000</td>\n",
       "      <td>auto</td>\n",
       "      <td>250</td>\n",
       "      <td>NaN</td>\n",
       "      <td>150</td>\n",
       "      <td>lpg</td>\n",
       "      <td>sonstige_autos</td>\n",
       "      <td>no</td>\n",
       "      <td>173</td>\n",
       "    </tr>\n",
       "    <tr>\n",
       "      <th>700</th>\n",
       "      <td>6999</td>\n",
       "      <td>sedan</td>\n",
       "      <td>2010</td>\n",
       "      <td>auto</td>\n",
       "      <td>186</td>\n",
       "      <td>NaN</td>\n",
       "      <td>125</td>\n",
       "      <td>petrol</td>\n",
       "      <td>sonstige_autos</td>\n",
       "      <td>no</td>\n",
       "      <td>819</td>\n",
       "    </tr>\n",
       "    <tr>\n",
       "      <th>985</th>\n",
       "      <td>500</td>\n",
       "      <td>sedan</td>\n",
       "      <td>2010</td>\n",
       "      <td>manual</td>\n",
       "      <td>101</td>\n",
       "      <td>NaN</td>\n",
       "      <td>70</td>\n",
       "      <td>petrol</td>\n",
       "      <td>sonstige_autos</td>\n",
       "      <td>yes</td>\n",
       "      <td>768</td>\n",
       "    </tr>\n",
       "    <tr>\n",
       "      <th>1106</th>\n",
       "      <td>9200</td>\n",
       "      <td>sedan</td>\n",
       "      <td>2005</td>\n",
       "      <td>auto</td>\n",
       "      <td>249</td>\n",
       "      <td>NaN</td>\n",
       "      <td>150</td>\n",
       "      <td>petrol</td>\n",
       "      <td>sonstige_autos</td>\n",
       "      <td>no</td>\n",
       "      <td>954</td>\n",
       "    </tr>\n",
       "    <tr>\n",
       "      <th>1274</th>\n",
       "      <td>16990</td>\n",
       "      <td>small</td>\n",
       "      <td>2015</td>\n",
       "      <td>manual</td>\n",
       "      <td>135</td>\n",
       "      <td>NaN</td>\n",
       "      <td>20</td>\n",
       "      <td>petrol</td>\n",
       "      <td>sonstige_autos</td>\n",
       "      <td>no</td>\n",
       "      <td>741</td>\n",
       "    </tr>\n",
       "    <tr>\n",
       "      <th>...</th>\n",
       "      <td>...</td>\n",
       "      <td>...</td>\n",
       "      <td>...</td>\n",
       "      <td>...</td>\n",
       "      <td>...</td>\n",
       "      <td>...</td>\n",
       "      <td>...</td>\n",
       "      <td>...</td>\n",
       "      <td>...</td>\n",
       "      <td>...</td>\n",
       "      <td>...</td>\n",
       "    </tr>\n",
       "    <tr>\n",
       "      <th>352549</th>\n",
       "      <td>9900</td>\n",
       "      <td>wagon</td>\n",
       "      <td>2011</td>\n",
       "      <td>manual</td>\n",
       "      <td>70</td>\n",
       "      <td>NaN</td>\n",
       "      <td>60</td>\n",
       "      <td>petrol</td>\n",
       "      <td>sonstige_autos</td>\n",
       "      <td>no</td>\n",
       "      <td>864</td>\n",
       "    </tr>\n",
       "    <tr>\n",
       "      <th>353867</th>\n",
       "      <td>5000</td>\n",
       "      <td>sedan</td>\n",
       "      <td>2006</td>\n",
       "      <td>manual</td>\n",
       "      <td>175</td>\n",
       "      <td>NaN</td>\n",
       "      <td>125</td>\n",
       "      <td>petrol</td>\n",
       "      <td>sonstige_autos</td>\n",
       "      <td>no</td>\n",
       "      <td>713</td>\n",
       "    </tr>\n",
       "    <tr>\n",
       "      <th>353892</th>\n",
       "      <td>7900</td>\n",
       "      <td>bus</td>\n",
       "      <td>2009</td>\n",
       "      <td>NaN</td>\n",
       "      <td>140</td>\n",
       "      <td>NaN</td>\n",
       "      <td>125</td>\n",
       "      <td>gasoline</td>\n",
       "      <td>sonstige_autos</td>\n",
       "      <td>no</td>\n",
       "      <td>972</td>\n",
       "    </tr>\n",
       "    <tr>\n",
       "      <th>354062</th>\n",
       "      <td>6000</td>\n",
       "      <td>small</td>\n",
       "      <td>2008</td>\n",
       "      <td>manual</td>\n",
       "      <td>155</td>\n",
       "      <td>NaN</td>\n",
       "      <td>150</td>\n",
       "      <td>petrol</td>\n",
       "      <td>sonstige_autos</td>\n",
       "      <td>no</td>\n",
       "      <td>630</td>\n",
       "    </tr>\n",
       "    <tr>\n",
       "      <th>354321</th>\n",
       "      <td>9400</td>\n",
       "      <td>wagon</td>\n",
       "      <td>2007</td>\n",
       "      <td>manual</td>\n",
       "      <td>200</td>\n",
       "      <td>NaN</td>\n",
       "      <td>150</td>\n",
       "      <td>gasoline</td>\n",
       "      <td>sonstige_autos</td>\n",
       "      <td>yes</td>\n",
       "      <td>911</td>\n",
       "    </tr>\n",
       "  </tbody>\n",
       "</table>\n",
       "<p>971 rows × 11 columns</p>\n",
       "</div>"
      ],
      "text/plain": [
       "        Price VehicleType  RegistrationYear Gearbox  Power Model  Kilometer  \\\n",
       "661      9900         suv              2000    auto    250   NaN        150   \n",
       "700      6999       sedan              2010    auto    186   NaN        125   \n",
       "985       500       sedan              2010  manual    101   NaN         70   \n",
       "1106     9200       sedan              2005    auto    249   NaN        150   \n",
       "1274    16990       small              2015  manual    135   NaN         20   \n",
       "...       ...         ...               ...     ...    ...   ...        ...   \n",
       "352549   9900       wagon              2011  manual     70   NaN         60   \n",
       "353867   5000       sedan              2006  manual    175   NaN        125   \n",
       "353892   7900         bus              2009     NaN    140   NaN        125   \n",
       "354062   6000       small              2008  manual    155   NaN        150   \n",
       "354321   9400       wagon              2007  manual    200   NaN        150   \n",
       "\n",
       "        FuelType           Brand NotRepaired  PostalCode  \n",
       "661          lpg  sonstige_autos          no         173  \n",
       "700       petrol  sonstige_autos          no         819  \n",
       "985       petrol  sonstige_autos         yes         768  \n",
       "1106      petrol  sonstige_autos          no         954  \n",
       "1274      petrol  sonstige_autos          no         741  \n",
       "...          ...             ...         ...         ...  \n",
       "352549    petrol  sonstige_autos          no         864  \n",
       "353867    petrol  sonstige_autos          no         713  \n",
       "353892  gasoline  sonstige_autos          no         972  \n",
       "354062    petrol  sonstige_autos          no         630  \n",
       "354321  gasoline  sonstige_autos         yes         911  \n",
       "\n",
       "[971 rows x 11 columns]"
      ]
     },
     "execution_count": 29,
     "metadata": {},
     "output_type": "execute_result"
    }
   ],
   "source": [
    "# проверим наличие категории \"sonstige_autos\": \n",
    "df.query('Brand == \"sonstige_autos\"')"
   ]
  },
  {
   "cell_type": "code",
   "execution_count": 30,
   "id": "02856861",
   "metadata": {},
   "outputs": [],
   "source": [
    "# т.к. не указаны ни модель, ни бренд, очистим датафрейм от этих данных: \n",
    "df.drop(df.index[df['Brand'] == \"sonstige_autos\"], inplace=True)"
   ]
  },
  {
   "cell_type": "code",
   "execution_count": 31,
   "id": "c7c3bafa",
   "metadata": {},
   "outputs": [
    {
     "data": {
      "text/html": [
       "<div>\n",
       "<style scoped>\n",
       "    .dataframe tbody tr th:only-of-type {\n",
       "        vertical-align: middle;\n",
       "    }\n",
       "\n",
       "    .dataframe tbody tr th {\n",
       "        vertical-align: top;\n",
       "    }\n",
       "\n",
       "    .dataframe thead th {\n",
       "        text-align: right;\n",
       "    }\n",
       "</style>\n",
       "<table border=\"1\" class=\"dataframe\">\n",
       "  <thead>\n",
       "    <tr style=\"text-align: right;\">\n",
       "      <th></th>\n",
       "      <th>Price</th>\n",
       "      <th>VehicleType</th>\n",
       "      <th>RegistrationYear</th>\n",
       "      <th>Gearbox</th>\n",
       "      <th>Power</th>\n",
       "      <th>Model</th>\n",
       "      <th>Kilometer</th>\n",
       "      <th>FuelType</th>\n",
       "      <th>Brand</th>\n",
       "      <th>NotRepaired</th>\n",
       "      <th>PostalCode</th>\n",
       "    </tr>\n",
       "  </thead>\n",
       "  <tbody>\n",
       "  </tbody>\n",
       "</table>\n",
       "</div>"
      ],
      "text/plain": [
       "Empty DataFrame\n",
       "Columns: [Price, VehicleType, RegistrationYear, Gearbox, Power, Model, Kilometer, FuelType, Brand, NotRepaired, PostalCode]\n",
       "Index: []"
      ]
     },
     "execution_count": 31,
     "metadata": {},
     "output_type": "execute_result"
    }
   ],
   "source": [
    "# проверим полученный результат: \n",
    "df.query('Brand == \"sonstige_autos\"')"
   ]
  },
  {
   "cell_type": "code",
   "execution_count": 32,
   "id": "4760744a",
   "metadata": {},
   "outputs": [
    {
     "data": {
      "text/plain": [
       "volkswagen       59188\n",
       "bmw              31345\n",
       "opel             29788\n",
       "mercedes_benz    25667\n",
       "audi             24993\n",
       "ford             18707\n",
       "renault          13196\n",
       "peugeot           9004\n",
       "fiat              6901\n",
       "seat              5226\n",
       "skoda             4960\n",
       "mazda             4600\n",
       "citroen           4049\n",
       "toyota            4024\n",
       "nissan            3792\n",
       "smart             3591\n",
       "hyundai           3119\n",
       "mini              3016\n",
       "volvo             2671\n",
       "mitsubishi        2360\n",
       "honda             2345\n",
       "kia               2115\n",
       "alfa_romeo        1870\n",
       "suzuki            1835\n",
       "chevrolet         1317\n",
       "chrysler          1101\n",
       "dacia              821\n",
       "subaru             585\n",
       "jeep               542\n",
       "daihatsu           504\n",
       "saab               437\n",
       "land_rover         434\n",
       "jaguar             377\n",
       "daewoo             365\n",
       "rover              333\n",
       "lancia             329\n",
       "porsche            307\n",
       "lada               136\n",
       "trabant              3\n",
       "Name: Brand, dtype: int64"
      ]
     },
     "execution_count": 32,
     "metadata": {},
     "output_type": "execute_result"
    }
   ],
   "source": [
    "# проверим уникальные значения: \n",
    "df.Brand.value_counts()"
   ]
  },
  {
   "cell_type": "markdown",
   "id": "6c2e21b8",
   "metadata": {},
   "source": [
    "#### Model, FuelType, VehicleType, Gearbox"
   ]
  },
  {
   "cell_type": "code",
   "execution_count": 33,
   "id": "3771d7cc",
   "metadata": {},
   "outputs": [
    {
     "data": {
      "text/plain": [
       "golf                  24045\n",
       "3er                   16952\n",
       "other                 16856\n",
       "astra                  8837\n",
       "a4                     8762\n",
       "                      ...  \n",
       "911                       4\n",
       "200                       4\n",
       "i3                        4\n",
       "rangerover                3\n",
       "range_rover_evoque        2\n",
       "Name: Model, Length: 246, dtype: int64"
      ]
     },
     "execution_count": 33,
     "metadata": {},
     "output_type": "execute_result"
    }
   ],
   "source": [
    "# проверим уникальные значения: \n",
    "df.Model.value_counts()"
   ]
  },
  {
   "cell_type": "code",
   "execution_count": 34,
   "id": "8b98fac0",
   "metadata": {},
   "outputs": [
    {
     "data": {
      "text/plain": [
       "petrol      167783\n",
       "gasoline     87065\n",
       "lpg           4280\n",
       "cng            476\n",
       "hybrid         182\n",
       "other           44\n",
       "electric        28\n",
       "Name: FuelType, dtype: int64"
      ]
     },
     "execution_count": 34,
     "metadata": {},
     "output_type": "execute_result"
    }
   ],
   "source": [
    "# проверим уникальные значения: \n",
    "df.FuelType.value_counts()"
   ]
  },
  {
   "cell_type": "code",
   "execution_count": 35,
   "id": "0932e88d",
   "metadata": {},
   "outputs": [
    {
     "data": {
      "text/plain": [
       "sedan          76558\n",
       "small          57847\n",
       "wagon          56801\n",
       "bus            25415\n",
       "convertible    17215\n",
       "coupe          12295\n",
       "suv             9888\n",
       "other           2004\n",
       "Name: VehicleType, dtype: int64"
      ]
     },
     "execution_count": 35,
     "metadata": {},
     "output_type": "execute_result"
    }
   ],
   "source": [
    "# проверим уникальные значения: \n",
    "df.VehicleType.value_counts()"
   ]
  },
  {
   "cell_type": "code",
   "execution_count": 36,
   "id": "bfecc327",
   "metadata": {},
   "outputs": [
    {
     "data": {
      "text/plain": [
       "manual    216988\n",
       "auto       54261\n",
       "Name: Gearbox, dtype: int64"
      ]
     },
     "execution_count": 36,
     "metadata": {},
     "output_type": "execute_result"
    }
   ],
   "source": [
    "# проверим уникальные значения: \n",
    "df.Gearbox.value_counts()"
   ]
  },
  {
   "cell_type": "markdown",
   "id": "49223cf4",
   "metadata": {},
   "source": [
    "Модели содаржат большое количество малочисленных авто, которые в дальнейшем будут мешать обучению модели. Рассмотрим 50 минимальных значений и отбросим часть. "
   ]
  },
  {
   "cell_type": "code",
   "execution_count": 37,
   "id": "2ab85c02",
   "metadata": {},
   "outputs": [
    {
     "data": {
      "text/plain": [
       "range_rover_evoque     2\n",
       "rangerover             3\n",
       "samara                 4\n",
       "911                    4\n",
       "200                    4\n",
       "i3                     4\n",
       "kalina                 5\n",
       "elefantino             6\n",
       "kaefer                 7\n",
       "gl                     8\n",
       "m_reihe               10\n",
       "amarok                11\n",
       "q3                    13\n",
       "kappa                 13\n",
       "move                  15\n",
       "charade               17\n",
       "materia               17\n",
       "musa                  21\n",
       "9000                  21\n",
       "b_max                 25\n",
       "145                   25\n",
       "delta                 26\n",
       "lodgy                 30\n",
       "6er                   31\n",
       "terios                32\n",
       "lybra                 34\n",
       "croma                 36\n",
       "v60                   40\n",
       "nubira                41\n",
       "90                    41\n",
       "lanos                 50\n",
       "range_rover_sport     51\n",
       "g_klasse              52\n",
       "defender              55\n",
       "crossfire             56\n",
       "cx_reihe              58\n",
       "mustang               60\n",
       "glk                   60\n",
       "range_rover           65\n",
       "cayenne               66\n",
       "discovery             70\n",
       "r19                   75\n",
       "900                   78\n",
       "kalos                 78\n",
       "navara                81\n",
       "mii                   81\n",
       "wrangler              86\n",
       "cl                    86\n",
       "citigo                88\n",
       "justy                 91\n",
       "Name: Model, dtype: int64"
      ]
     },
     "execution_count": 37,
     "metadata": {},
     "output_type": "execute_result"
    }
   ],
   "source": [
    "# проверим уникальные значения: \n",
    "df.Model.value_counts().nsmallest(50)"
   ]
  },
  {
   "cell_type": "code",
   "execution_count": 38,
   "id": "ce3dfd6d",
   "metadata": {},
   "outputs": [],
   "source": [
    "# отбросим все марки, которые встречаются реже 50 раз:\n",
    "value_counts = df['Model'].value_counts()\n",
    "to_remove = value_counts[value_counts <= 50].index\n",
    "df['Model'].replace(to_remove, np.nan, inplace=True)"
   ]
  },
  {
   "cell_type": "code",
   "execution_count": 39,
   "id": "68948518",
   "metadata": {},
   "outputs": [
    {
     "data": {
      "text/plain": [
       "range_rover_sport    51\n",
       "g_klasse             52\n",
       "defender             55\n",
       "crossfire            56\n",
       "cx_reihe             58\n",
       "glk                  60\n",
       "mustang              60\n",
       "range_rover          65\n",
       "cayenne              66\n",
       "discovery            70\n",
       "Name: Model, dtype: int64"
      ]
     },
     "execution_count": 39,
     "metadata": {},
     "output_type": "execute_result"
    }
   ],
   "source": [
    "# проверим полученный результат: \n",
    "df.Model.value_counts().nsmallest(10)"
   ]
  },
  {
   "cell_type": "code",
   "execution_count": 40,
   "id": "3a78da4f",
   "metadata": {},
   "outputs": [],
   "source": [
    "df = df.dropna(subset=['Model', 'FuelType', 'VehicleType', 'Gearbox'])"
   ]
  },
  {
   "cell_type": "markdown",
   "id": "d67373af",
   "metadata": {},
   "source": [
    "#### NotRepaired "
   ]
  },
  {
   "cell_type": "code",
   "execution_count": 41,
   "id": "e880764b",
   "metadata": {},
   "outputs": [],
   "source": [
    "# заменим пропуски на False: \n",
    "df.loc[df['NotRepaired'].isna(), ['NotRepaired']] = 'no'"
   ]
  },
  {
   "cell_type": "code",
   "execution_count": 42,
   "id": "645a9b9a",
   "metadata": {},
   "outputs": [
    {
     "data": {
      "text/plain": [
       "array(['no', 'yes'], dtype=object)"
      ]
     },
     "execution_count": 42,
     "metadata": {},
     "output_type": "execute_result"
    }
   ],
   "source": [
    "# проверим полученный результат\n",
    "df['NotRepaired'].unique()"
   ]
  },
  {
   "cell_type": "code",
   "execution_count": 43,
   "id": "ab66ea0f",
   "metadata": {},
   "outputs": [],
   "source": [
    "# приведем столбец в бинарный вид: \n",
    "df['NotRepaired'] = df['NotRepaired'].map({'yes': 1, 'no': 0})"
   ]
  },
  {
   "cell_type": "code",
   "execution_count": 44,
   "id": "e048d7b7",
   "metadata": {},
   "outputs": [
    {
     "data": {
      "text/plain": [
       "array([0, 1])"
      ]
     },
     "execution_count": 44,
     "metadata": {},
     "output_type": "execute_result"
    }
   ],
   "source": [
    "# проверим полученный результат\n",
    "df['NotRepaired'].unique()"
   ]
  },
  {
   "cell_type": "code",
   "execution_count": 45,
   "id": "57c4cc26",
   "metadata": {},
   "outputs": [
    {
     "name": "stdout",
     "output_type": "stream",
     "text": [
      "<class 'pandas.core.frame.DataFrame'>\n",
      "Int64Index: 241013 entries, 2 to 354368\n",
      "Data columns (total 11 columns):\n",
      " #   Column            Non-Null Count   Dtype \n",
      "---  ------            --------------   ----- \n",
      " 0   Price             241013 non-null  int64 \n",
      " 1   VehicleType       241013 non-null  object\n",
      " 2   RegistrationYear  241013 non-null  int64 \n",
      " 3   Gearbox           241013 non-null  object\n",
      " 4   Power             241013 non-null  int64 \n",
      " 5   Model             241013 non-null  object\n",
      " 6   Kilometer         241013 non-null  int32 \n",
      " 7   FuelType          241013 non-null  object\n",
      " 8   Brand             241013 non-null  object\n",
      " 9   NotRepaired       241013 non-null  int64 \n",
      " 10  PostalCode        241013 non-null  int32 \n",
      "dtypes: int32(2), int64(4), object(5)\n",
      "memory usage: 83.2 MB\n"
     ]
    }
   ],
   "source": [
    "df.info(show_counts=True, memory_usage='deep')"
   ]
  },
  {
   "cell_type": "markdown",
   "id": "b16792cb",
   "metadata": {},
   "source": [
    "### Разделение данных"
   ]
  },
  {
   "cell_type": "code",
   "execution_count": 46,
   "id": "0f7fce37",
   "metadata": {},
   "outputs": [],
   "source": [
    "# выделим целевой признак: \n",
    "target = df.Price"
   ]
  },
  {
   "cell_type": "code",
   "execution_count": 47,
   "id": "fb753569",
   "metadata": {},
   "outputs": [],
   "source": [
    "# выделим параметры: \n",
    "features = df.drop('Price', axis=1)"
   ]
  },
  {
   "cell_type": "code",
   "execution_count": 48,
   "id": "da34140e",
   "metadata": {},
   "outputs": [],
   "source": [
    "# выделим данные для обучения и тестирования:\n",
    "features_train, features_test, target_train, target_test = train_test_split(\n",
    "    features,\n",
    "    target,\n",
    "    test_size=0.25,\n",
    "    random_state=STATE)"
   ]
  },
  {
   "cell_type": "code",
   "execution_count": 49,
   "id": "37d11907",
   "metadata": {},
   "outputs": [
    {
     "data": {
      "text/plain": [
       "VehicleType         0\n",
       "RegistrationYear    0\n",
       "Gearbox             0\n",
       "Power               0\n",
       "Model               0\n",
       "Kilometer           0\n",
       "FuelType            0\n",
       "Brand               0\n",
       "NotRepaired         0\n",
       "PostalCode          0\n",
       "dtype: int64"
      ]
     },
     "execution_count": 49,
     "metadata": {},
     "output_type": "execute_result"
    }
   ],
   "source": [
    "features_train.isna().sum()"
   ]
  },
  {
   "cell_type": "markdown",
   "id": "450ba59f",
   "metadata": {},
   "source": [
    "### Разделение датасета по типам"
   ]
  },
  {
   "cell_type": "markdown",
   "id": "54911b25",
   "metadata": {},
   "source": [
    "#### One Hot Encoding"
   ]
  },
  {
   "cell_type": "code",
   "execution_count": 50,
   "id": "a6cea32e",
   "metadata": {},
   "outputs": [
    {
     "data": {
      "text/html": [
       "<div>\n",
       "<style scoped>\n",
       "    .dataframe tbody tr th:only-of-type {\n",
       "        vertical-align: middle;\n",
       "    }\n",
       "\n",
       "    .dataframe tbody tr th {\n",
       "        vertical-align: top;\n",
       "    }\n",
       "\n",
       "    .dataframe thead th {\n",
       "        text-align: right;\n",
       "    }\n",
       "</style>\n",
       "<table border=\"1\" class=\"dataframe\">\n",
       "  <thead>\n",
       "    <tr style=\"text-align: right;\">\n",
       "      <th></th>\n",
       "      <th>RegistrationYear</th>\n",
       "      <th>Power</th>\n",
       "      <th>Kilometer</th>\n",
       "      <th>NotRepaired</th>\n",
       "      <th>PostalCode</th>\n",
       "      <th>VehicleType_convertible</th>\n",
       "      <th>VehicleType_coupe</th>\n",
       "      <th>VehicleType_other</th>\n",
       "      <th>VehicleType_sedan</th>\n",
       "      <th>VehicleType_small</th>\n",
       "      <th>...</th>\n",
       "      <th>Brand_rover</th>\n",
       "      <th>Brand_saab</th>\n",
       "      <th>Brand_seat</th>\n",
       "      <th>Brand_skoda</th>\n",
       "      <th>Brand_smart</th>\n",
       "      <th>Brand_subaru</th>\n",
       "      <th>Brand_suzuki</th>\n",
       "      <th>Brand_toyota</th>\n",
       "      <th>Brand_volkswagen</th>\n",
       "      <th>Brand_volvo</th>\n",
       "    </tr>\n",
       "  </thead>\n",
       "  <tbody>\n",
       "    <tr>\n",
       "      <th>176974</th>\n",
       "      <td>2005</td>\n",
       "      <td>69</td>\n",
       "      <td>150</td>\n",
       "      <td>0</td>\n",
       "      <td>543</td>\n",
       "      <td>0</td>\n",
       "      <td>0</td>\n",
       "      <td>0</td>\n",
       "      <td>0</td>\n",
       "      <td>1</td>\n",
       "      <td>...</td>\n",
       "      <td>0</td>\n",
       "      <td>0</td>\n",
       "      <td>0</td>\n",
       "      <td>0</td>\n",
       "      <td>0</td>\n",
       "      <td>0</td>\n",
       "      <td>0</td>\n",
       "      <td>0</td>\n",
       "      <td>0</td>\n",
       "      <td>0</td>\n",
       "    </tr>\n",
       "    <tr>\n",
       "      <th>271021</th>\n",
       "      <td>2005</td>\n",
       "      <td>200</td>\n",
       "      <td>150</td>\n",
       "      <td>0</td>\n",
       "      <td>357</td>\n",
       "      <td>0</td>\n",
       "      <td>1</td>\n",
       "      <td>0</td>\n",
       "      <td>0</td>\n",
       "      <td>0</td>\n",
       "      <td>...</td>\n",
       "      <td>0</td>\n",
       "      <td>0</td>\n",
       "      <td>0</td>\n",
       "      <td>0</td>\n",
       "      <td>0</td>\n",
       "      <td>0</td>\n",
       "      <td>0</td>\n",
       "      <td>0</td>\n",
       "      <td>1</td>\n",
       "      <td>0</td>\n",
       "    </tr>\n",
       "    <tr>\n",
       "      <th>59775</th>\n",
       "      <td>2010</td>\n",
       "      <td>156</td>\n",
       "      <td>70</td>\n",
       "      <td>0</td>\n",
       "      <td>912</td>\n",
       "      <td>0</td>\n",
       "      <td>1</td>\n",
       "      <td>0</td>\n",
       "      <td>0</td>\n",
       "      <td>0</td>\n",
       "      <td>...</td>\n",
       "      <td>0</td>\n",
       "      <td>0</td>\n",
       "      <td>0</td>\n",
       "      <td>0</td>\n",
       "      <td>0</td>\n",
       "      <td>0</td>\n",
       "      <td>0</td>\n",
       "      <td>0</td>\n",
       "      <td>0</td>\n",
       "      <td>0</td>\n",
       "    </tr>\n",
       "    <tr>\n",
       "      <th>128687</th>\n",
       "      <td>2002</td>\n",
       "      <td>80</td>\n",
       "      <td>150</td>\n",
       "      <td>0</td>\n",
       "      <td>782</td>\n",
       "      <td>0</td>\n",
       "      <td>1</td>\n",
       "      <td>0</td>\n",
       "      <td>0</td>\n",
       "      <td>0</td>\n",
       "      <td>...</td>\n",
       "      <td>0</td>\n",
       "      <td>0</td>\n",
       "      <td>0</td>\n",
       "      <td>0</td>\n",
       "      <td>0</td>\n",
       "      <td>0</td>\n",
       "      <td>0</td>\n",
       "      <td>0</td>\n",
       "      <td>0</td>\n",
       "      <td>0</td>\n",
       "    </tr>\n",
       "    <tr>\n",
       "      <th>85902</th>\n",
       "      <td>2002</td>\n",
       "      <td>116</td>\n",
       "      <td>150</td>\n",
       "      <td>0</td>\n",
       "      <td>125</td>\n",
       "      <td>0</td>\n",
       "      <td>0</td>\n",
       "      <td>0</td>\n",
       "      <td>0</td>\n",
       "      <td>0</td>\n",
       "      <td>...</td>\n",
       "      <td>0</td>\n",
       "      <td>0</td>\n",
       "      <td>0</td>\n",
       "      <td>0</td>\n",
       "      <td>0</td>\n",
       "      <td>0</td>\n",
       "      <td>0</td>\n",
       "      <td>0</td>\n",
       "      <td>1</td>\n",
       "      <td>0</td>\n",
       "    </tr>\n",
       "  </tbody>\n",
       "</table>\n",
       "<p>5 rows × 270 columns</p>\n",
       "</div>"
      ],
      "text/plain": [
       "        RegistrationYear  Power  Kilometer  NotRepaired  PostalCode  \\\n",
       "176974              2005     69        150            0         543   \n",
       "271021              2005    200        150            0         357   \n",
       "59775               2010    156         70            0         912   \n",
       "128687              2002     80        150            0         782   \n",
       "85902               2002    116        150            0         125   \n",
       "\n",
       "        VehicleType_convertible  VehicleType_coupe  VehicleType_other  \\\n",
       "176974                        0                  0                  0   \n",
       "271021                        0                  1                  0   \n",
       "59775                         0                  1                  0   \n",
       "128687                        0                  1                  0   \n",
       "85902                         0                  0                  0   \n",
       "\n",
       "        VehicleType_sedan  VehicleType_small  ...  Brand_rover  Brand_saab  \\\n",
       "176974                  0                  1  ...            0           0   \n",
       "271021                  0                  0  ...            0           0   \n",
       "59775                   0                  0  ...            0           0   \n",
       "128687                  0                  0  ...            0           0   \n",
       "85902                   0                  0  ...            0           0   \n",
       "\n",
       "        Brand_seat  Brand_skoda  Brand_smart  Brand_subaru  Brand_suzuki  \\\n",
       "176974           0            0            0             0             0   \n",
       "271021           0            0            0             0             0   \n",
       "59775            0            0            0             0             0   \n",
       "128687           0            0            0             0             0   \n",
       "85902            0            0            0             0             0   \n",
       "\n",
       "        Brand_toyota  Brand_volkswagen  Brand_volvo  \n",
       "176974             0                 0            0  \n",
       "271021             0                 1            0  \n",
       "59775              0                 0            0  \n",
       "128687             0                 0            0  \n",
       "85902              0                 1            0  \n",
       "\n",
       "[5 rows x 270 columns]"
      ]
     },
     "metadata": {},
     "output_type": "display_data"
    },
    {
     "data": {
      "text/html": [
       "<div>\n",
       "<style scoped>\n",
       "    .dataframe tbody tr th:only-of-type {\n",
       "        vertical-align: middle;\n",
       "    }\n",
       "\n",
       "    .dataframe tbody tr th {\n",
       "        vertical-align: top;\n",
       "    }\n",
       "\n",
       "    .dataframe thead th {\n",
       "        text-align: right;\n",
       "    }\n",
       "</style>\n",
       "<table border=\"1\" class=\"dataframe\">\n",
       "  <thead>\n",
       "    <tr style=\"text-align: right;\">\n",
       "      <th></th>\n",
       "      <th>RegistrationYear</th>\n",
       "      <th>Power</th>\n",
       "      <th>Kilometer</th>\n",
       "      <th>NotRepaired</th>\n",
       "      <th>PostalCode</th>\n",
       "      <th>VehicleType_convertible</th>\n",
       "      <th>VehicleType_coupe</th>\n",
       "      <th>VehicleType_other</th>\n",
       "      <th>VehicleType_sedan</th>\n",
       "      <th>VehicleType_small</th>\n",
       "      <th>...</th>\n",
       "      <th>Brand_rover</th>\n",
       "      <th>Brand_saab</th>\n",
       "      <th>Brand_seat</th>\n",
       "      <th>Brand_skoda</th>\n",
       "      <th>Brand_smart</th>\n",
       "      <th>Brand_subaru</th>\n",
       "      <th>Brand_suzuki</th>\n",
       "      <th>Brand_toyota</th>\n",
       "      <th>Brand_volkswagen</th>\n",
       "      <th>Brand_volvo</th>\n",
       "    </tr>\n",
       "  </thead>\n",
       "  <tbody>\n",
       "    <tr>\n",
       "      <th>334758</th>\n",
       "      <td>2011</td>\n",
       "      <td>95</td>\n",
       "      <td>50</td>\n",
       "      <td>0</td>\n",
       "      <td>666</td>\n",
       "      <td>0</td>\n",
       "      <td>0</td>\n",
       "      <td>0</td>\n",
       "      <td>1</td>\n",
       "      <td>0</td>\n",
       "      <td>...</td>\n",
       "      <td>0</td>\n",
       "      <td>0</td>\n",
       "      <td>0</td>\n",
       "      <td>0</td>\n",
       "      <td>0</td>\n",
       "      <td>0</td>\n",
       "      <td>0</td>\n",
       "      <td>0</td>\n",
       "      <td>0</td>\n",
       "      <td>0</td>\n",
       "    </tr>\n",
       "    <tr>\n",
       "      <th>207475</th>\n",
       "      <td>2004</td>\n",
       "      <td>140</td>\n",
       "      <td>150</td>\n",
       "      <td>0</td>\n",
       "      <td>780</td>\n",
       "      <td>0</td>\n",
       "      <td>0</td>\n",
       "      <td>0</td>\n",
       "      <td>1</td>\n",
       "      <td>0</td>\n",
       "      <td>...</td>\n",
       "      <td>0</td>\n",
       "      <td>0</td>\n",
       "      <td>0</td>\n",
       "      <td>0</td>\n",
       "      <td>0</td>\n",
       "      <td>0</td>\n",
       "      <td>0</td>\n",
       "      <td>0</td>\n",
       "      <td>1</td>\n",
       "      <td>0</td>\n",
       "    </tr>\n",
       "    <tr>\n",
       "      <th>56592</th>\n",
       "      <td>1997</td>\n",
       "      <td>90</td>\n",
       "      <td>150</td>\n",
       "      <td>1</td>\n",
       "      <td>501</td>\n",
       "      <td>1</td>\n",
       "      <td>0</td>\n",
       "      <td>0</td>\n",
       "      <td>0</td>\n",
       "      <td>0</td>\n",
       "      <td>...</td>\n",
       "      <td>0</td>\n",
       "      <td>0</td>\n",
       "      <td>0</td>\n",
       "      <td>0</td>\n",
       "      <td>0</td>\n",
       "      <td>0</td>\n",
       "      <td>0</td>\n",
       "      <td>0</td>\n",
       "      <td>1</td>\n",
       "      <td>0</td>\n",
       "    </tr>\n",
       "    <tr>\n",
       "      <th>341677</th>\n",
       "      <td>2008</td>\n",
       "      <td>140</td>\n",
       "      <td>125</td>\n",
       "      <td>0</td>\n",
       "      <td>402</td>\n",
       "      <td>0</td>\n",
       "      <td>0</td>\n",
       "      <td>0</td>\n",
       "      <td>0</td>\n",
       "      <td>0</td>\n",
       "      <td>...</td>\n",
       "      <td>0</td>\n",
       "      <td>0</td>\n",
       "      <td>0</td>\n",
       "      <td>0</td>\n",
       "      <td>0</td>\n",
       "      <td>0</td>\n",
       "      <td>0</td>\n",
       "      <td>0</td>\n",
       "      <td>0</td>\n",
       "      <td>0</td>\n",
       "    </tr>\n",
       "    <tr>\n",
       "      <th>106277</th>\n",
       "      <td>1991</td>\n",
       "      <td>98</td>\n",
       "      <td>150</td>\n",
       "      <td>0</td>\n",
       "      <td>854</td>\n",
       "      <td>1</td>\n",
       "      <td>0</td>\n",
       "      <td>0</td>\n",
       "      <td>0</td>\n",
       "      <td>0</td>\n",
       "      <td>...</td>\n",
       "      <td>0</td>\n",
       "      <td>0</td>\n",
       "      <td>0</td>\n",
       "      <td>0</td>\n",
       "      <td>0</td>\n",
       "      <td>0</td>\n",
       "      <td>0</td>\n",
       "      <td>0</td>\n",
       "      <td>1</td>\n",
       "      <td>0</td>\n",
       "    </tr>\n",
       "  </tbody>\n",
       "</table>\n",
       "<p>5 rows × 270 columns</p>\n",
       "</div>"
      ],
      "text/plain": [
       "        RegistrationYear  Power  Kilometer  NotRepaired  PostalCode  \\\n",
       "334758              2011     95         50            0         666   \n",
       "207475              2004    140        150            0         780   \n",
       "56592               1997     90        150            1         501   \n",
       "341677              2008    140        125            0         402   \n",
       "106277              1991     98        150            0         854   \n",
       "\n",
       "        VehicleType_convertible  VehicleType_coupe  VehicleType_other  \\\n",
       "334758                        0                  0                  0   \n",
       "207475                        0                  0                  0   \n",
       "56592                         1                  0                  0   \n",
       "341677                        0                  0                  0   \n",
       "106277                        1                  0                  0   \n",
       "\n",
       "        VehicleType_sedan  VehicleType_small  ...  Brand_rover  Brand_saab  \\\n",
       "334758                  1                  0  ...            0           0   \n",
       "207475                  1                  0  ...            0           0   \n",
       "56592                   0                  0  ...            0           0   \n",
       "341677                  0                  0  ...            0           0   \n",
       "106277                  0                  0  ...            0           0   \n",
       "\n",
       "        Brand_seat  Brand_skoda  Brand_smart  Brand_subaru  Brand_suzuki  \\\n",
       "334758           0            0            0             0             0   \n",
       "207475           0            0            0             0             0   \n",
       "56592            0            0            0             0             0   \n",
       "341677           0            0            0             0             0   \n",
       "106277           0            0            0             0             0   \n",
       "\n",
       "        Brand_toyota  Brand_volkswagen  Brand_volvo  \n",
       "334758             0                 0            0  \n",
       "207475             0                 1            0  \n",
       "56592              0                 1            0  \n",
       "341677             0                 0            0  \n",
       "106277             0                 1            0  \n",
       "\n",
       "[5 rows x 270 columns]"
      ]
     },
     "metadata": {},
     "output_type": "display_data"
    }
   ],
   "source": [
    "# OHE кодирование датасета:\n",
    "features_train_OHE, features_test_OHE, = pd.get_dummies(\n",
    "    features_train, drop_first=True), pd.get_dummies(features_test,\n",
    "                                                     drop_first=True)\n",
    "display(features_train_OHE.head())\n",
    "display(features_test_OHE.head())"
   ]
  },
  {
   "cell_type": "markdown",
   "id": "217b2be8",
   "metadata": {},
   "source": [
    "#### Прямое кодирование категориальных столбцов"
   ]
  },
  {
   "cell_type": "code",
   "execution_count": 51,
   "id": "98e57fb4",
   "metadata": {},
   "outputs": [],
   "source": [
    "# проведем прямое кодирование категориальных столбцов:\n",
    "encoder = OrdinalEncoder()\n",
    "encoder.fit(df[['VehicleType', 'Gearbox', 'Model', 'FuelType', 'Brand']])\n",
    "train_cat_OE = encoder.transform(\n",
    "    features_train[['VehicleType', 'Gearbox', 'Model', 'FuelType', 'Brand']])\n",
    "test_cat_OE = encoder.transform(\n",
    "    features_test[['VehicleType', 'Gearbox', 'Model', 'FuelType', 'Brand']])"
   ]
  },
  {
   "cell_type": "code",
   "execution_count": 52,
   "id": "25dc8269",
   "metadata": {
    "scrolled": true
   },
   "outputs": [
    {
     "data": {
      "text/html": [
       "<div>\n",
       "<style scoped>\n",
       "    .dataframe tbody tr th:only-of-type {\n",
       "        vertical-align: middle;\n",
       "    }\n",
       "\n",
       "    .dataframe tbody tr th {\n",
       "        vertical-align: top;\n",
       "    }\n",
       "\n",
       "    .dataframe thead th {\n",
       "        text-align: right;\n",
       "    }\n",
       "</style>\n",
       "<table border=\"1\" class=\"dataframe\">\n",
       "  <thead>\n",
       "    <tr style=\"text-align: right;\">\n",
       "      <th></th>\n",
       "      <th>VehicleType</th>\n",
       "      <th>RegistrationYear</th>\n",
       "      <th>Gearbox</th>\n",
       "      <th>Power</th>\n",
       "      <th>Model</th>\n",
       "      <th>Kilometer</th>\n",
       "      <th>FuelType</th>\n",
       "      <th>Brand</th>\n",
       "      <th>NotRepaired</th>\n",
       "      <th>PostalCode</th>\n",
       "    </tr>\n",
       "  </thead>\n",
       "  <tbody>\n",
       "    <tr>\n",
       "      <th>176974</th>\n",
       "      <td>5.000</td>\n",
       "      <td>2005</td>\n",
       "      <td>1.000</td>\n",
       "      <td>69</td>\n",
       "      <td>73.000</td>\n",
       "      <td>150</td>\n",
       "      <td>2.000</td>\n",
       "      <td>24.000</td>\n",
       "      <td>0</td>\n",
       "      <td>543</td>\n",
       "    </tr>\n",
       "    <tr>\n",
       "      <th>271021</th>\n",
       "      <td>2.000</td>\n",
       "      <td>2005</td>\n",
       "      <td>1.000</td>\n",
       "      <td>200</td>\n",
       "      <td>102.000</td>\n",
       "      <td>150</td>\n",
       "      <td>6.000</td>\n",
       "      <td>36.000</td>\n",
       "      <td>0</td>\n",
       "      <td>357</td>\n",
       "    </tr>\n",
       "    <tr>\n",
       "      <th>59775</th>\n",
       "      <td>2.000</td>\n",
       "      <td>2010</td>\n",
       "      <td>1.000</td>\n",
       "      <td>156</td>\n",
       "      <td>140.000</td>\n",
       "      <td>70</td>\n",
       "      <td>6.000</td>\n",
       "      <td>25.000</td>\n",
       "      <td>0</td>\n",
       "      <td>912</td>\n",
       "    </tr>\n",
       "    <tr>\n",
       "      <th>128687</th>\n",
       "      <td>2.000</td>\n",
       "      <td>2002</td>\n",
       "      <td>1.000</td>\n",
       "      <td>80</td>\n",
       "      <td>181.000</td>\n",
       "      <td>150</td>\n",
       "      <td>6.000</td>\n",
       "      <td>9.000</td>\n",
       "      <td>0</td>\n",
       "      <td>782</td>\n",
       "    </tr>\n",
       "    <tr>\n",
       "      <th>85902</th>\n",
       "      <td>0.000</td>\n",
       "      <td>2002</td>\n",
       "      <td>1.000</td>\n",
       "      <td>116</td>\n",
       "      <td>171.000</td>\n",
       "      <td>150</td>\n",
       "      <td>2.000</td>\n",
       "      <td>36.000</td>\n",
       "      <td>0</td>\n",
       "      <td>125</td>\n",
       "    </tr>\n",
       "  </tbody>\n",
       "</table>\n",
       "</div>"
      ],
      "text/plain": [
       "        VehicleType  RegistrationYear  Gearbox  Power   Model  Kilometer  \\\n",
       "176974        5.000              2005    1.000     69  73.000        150   \n",
       "271021        2.000              2005    1.000    200 102.000        150   \n",
       "59775         2.000              2010    1.000    156 140.000         70   \n",
       "128687        2.000              2002    1.000     80 181.000        150   \n",
       "85902         0.000              2002    1.000    116 171.000        150   \n",
       "\n",
       "        FuelType  Brand  NotRepaired  PostalCode  \n",
       "176974     2.000 24.000            0         543  \n",
       "271021     6.000 36.000            0         357  \n",
       "59775      6.000 25.000            0         912  \n",
       "128687     6.000  9.000            0         782  \n",
       "85902      2.000 36.000            0         125  "
      ]
     },
     "metadata": {},
     "output_type": "display_data"
    },
    {
     "data": {
      "text/html": [
       "<div>\n",
       "<style scoped>\n",
       "    .dataframe tbody tr th:only-of-type {\n",
       "        vertical-align: middle;\n",
       "    }\n",
       "\n",
       "    .dataframe tbody tr th {\n",
       "        vertical-align: top;\n",
       "    }\n",
       "\n",
       "    .dataframe thead th {\n",
       "        text-align: right;\n",
       "    }\n",
       "</style>\n",
       "<table border=\"1\" class=\"dataframe\">\n",
       "  <thead>\n",
       "    <tr style=\"text-align: right;\">\n",
       "      <th></th>\n",
       "      <th>VehicleType</th>\n",
       "      <th>RegistrationYear</th>\n",
       "      <th>Gearbox</th>\n",
       "      <th>Power</th>\n",
       "      <th>Model</th>\n",
       "      <th>Kilometer</th>\n",
       "      <th>FuelType</th>\n",
       "      <th>Brand</th>\n",
       "      <th>NotRepaired</th>\n",
       "      <th>PostalCode</th>\n",
       "    </tr>\n",
       "  </thead>\n",
       "  <tbody>\n",
       "    <tr>\n",
       "      <th>334758</th>\n",
       "      <td>4.000</td>\n",
       "      <td>2011</td>\n",
       "      <td>1.000</td>\n",
       "      <td>95</td>\n",
       "      <td>68.000</td>\n",
       "      <td>50</td>\n",
       "      <td>6.000</td>\n",
       "      <td>22.000</td>\n",
       "      <td>0</td>\n",
       "      <td>666</td>\n",
       "    </tr>\n",
       "    <tr>\n",
       "      <th>207475</th>\n",
       "      <td>4.000</td>\n",
       "      <td>2004</td>\n",
       "      <td>1.000</td>\n",
       "      <td>140</td>\n",
       "      <td>102.000</td>\n",
       "      <td>150</td>\n",
       "      <td>2.000</td>\n",
       "      <td>36.000</td>\n",
       "      <td>0</td>\n",
       "      <td>780</td>\n",
       "    </tr>\n",
       "    <tr>\n",
       "      <th>56592</th>\n",
       "      <td>1.000</td>\n",
       "      <td>1997</td>\n",
       "      <td>1.000</td>\n",
       "      <td>90</td>\n",
       "      <td>102.000</td>\n",
       "      <td>150</td>\n",
       "      <td>6.000</td>\n",
       "      <td>36.000</td>\n",
       "      <td>1</td>\n",
       "      <td>501</td>\n",
       "    </tr>\n",
       "    <tr>\n",
       "      <th>341677</th>\n",
       "      <td>0.000</td>\n",
       "      <td>2008</td>\n",
       "      <td>1.000</td>\n",
       "      <td>140</td>\n",
       "      <td>99.000</td>\n",
       "      <td>125</td>\n",
       "      <td>2.000</td>\n",
       "      <td>10.000</td>\n",
       "      <td>0</td>\n",
       "      <td>402</td>\n",
       "    </tr>\n",
       "    <tr>\n",
       "      <th>106277</th>\n",
       "      <td>1.000</td>\n",
       "      <td>1991</td>\n",
       "      <td>1.000</td>\n",
       "      <td>98</td>\n",
       "      <td>102.000</td>\n",
       "      <td>150</td>\n",
       "      <td>6.000</td>\n",
       "      <td>36.000</td>\n",
       "      <td>0</td>\n",
       "      <td>854</td>\n",
       "    </tr>\n",
       "  </tbody>\n",
       "</table>\n",
       "</div>"
      ],
      "text/plain": [
       "        VehicleType  RegistrationYear  Gearbox  Power   Model  Kilometer  \\\n",
       "334758        4.000              2011    1.000     95  68.000         50   \n",
       "207475        4.000              2004    1.000    140 102.000        150   \n",
       "56592         1.000              1997    1.000     90 102.000        150   \n",
       "341677        0.000              2008    1.000    140  99.000        125   \n",
       "106277        1.000              1991    1.000     98 102.000        150   \n",
       "\n",
       "        FuelType  Brand  NotRepaired  PostalCode  \n",
       "334758     6.000 22.000            0         666  \n",
       "207475     2.000 36.000            0         780  \n",
       "56592      6.000 36.000            1         501  \n",
       "341677     2.000 10.000            0         402  \n",
       "106277     6.000 36.000            0         854  "
      ]
     },
     "metadata": {},
     "output_type": "display_data"
    }
   ],
   "source": [
    "# заменим категориальные столбцы на кодированные в новой переменной:\n",
    "features_train_OE = features_train.copy()\n",
    "features_test_OE = features_test.copy()\n",
    "features_train_OE[['VehicleType', 'Gearbox', 'Model', 'FuelType',\n",
    "                   'Brand']] = train_cat_OE\n",
    "features_test_OE[['VehicleType', 'Gearbox', 'Model', 'FuelType',\n",
    "                  'Brand']] = test_cat_OE\n",
    "display(features_train_OE.head())\n",
    "display(features_test_OE.head())"
   ]
  },
  {
   "cell_type": "markdown",
   "id": "9dc27271",
   "metadata": {},
   "source": [
    "#### Сводный датафрейм с использованием технологий OHE и OE"
   ]
  },
  {
   "cell_type": "code",
   "execution_count": 53,
   "id": "6f87949d",
   "metadata": {},
   "outputs": [
    {
     "data": {
      "text/html": [
       "<div>\n",
       "<style scoped>\n",
       "    .dataframe tbody tr th:only-of-type {\n",
       "        vertical-align: middle;\n",
       "    }\n",
       "\n",
       "    .dataframe tbody tr th {\n",
       "        vertical-align: top;\n",
       "    }\n",
       "\n",
       "    .dataframe thead th {\n",
       "        text-align: right;\n",
       "    }\n",
       "</style>\n",
       "<table border=\"1\" class=\"dataframe\">\n",
       "  <thead>\n",
       "    <tr style=\"text-align: right;\">\n",
       "      <th></th>\n",
       "      <th>RegistrationYear</th>\n",
       "      <th>Power</th>\n",
       "      <th>Kilometer</th>\n",
       "      <th>NotRepaired</th>\n",
       "      <th>PostalCode</th>\n",
       "      <th>VehicleType_convertible</th>\n",
       "      <th>VehicleType_coupe</th>\n",
       "      <th>VehicleType_other</th>\n",
       "      <th>VehicleType_sedan</th>\n",
       "      <th>VehicleType_small</th>\n",
       "      <th>...</th>\n",
       "      <th>Brand_subaru</th>\n",
       "      <th>Brand_suzuki</th>\n",
       "      <th>Brand_toyota</th>\n",
       "      <th>Brand_volkswagen</th>\n",
       "      <th>Brand_volvo</th>\n",
       "      <th>VehicleType</th>\n",
       "      <th>Gearbox</th>\n",
       "      <th>Model</th>\n",
       "      <th>FuelType</th>\n",
       "      <th>Brand</th>\n",
       "    </tr>\n",
       "  </thead>\n",
       "  <tbody>\n",
       "    <tr>\n",
       "      <th>176974</th>\n",
       "      <td>2005</td>\n",
       "      <td>69</td>\n",
       "      <td>150</td>\n",
       "      <td>0</td>\n",
       "      <td>543</td>\n",
       "      <td>0</td>\n",
       "      <td>0</td>\n",
       "      <td>0</td>\n",
       "      <td>0</td>\n",
       "      <td>1</td>\n",
       "      <td>...</td>\n",
       "      <td>0</td>\n",
       "      <td>0</td>\n",
       "      <td>0</td>\n",
       "      <td>0</td>\n",
       "      <td>0</td>\n",
       "      <td>5.000</td>\n",
       "      <td>1.000</td>\n",
       "      <td>73.000</td>\n",
       "      <td>2.000</td>\n",
       "      <td>24.000</td>\n",
       "    </tr>\n",
       "    <tr>\n",
       "      <th>271021</th>\n",
       "      <td>2005</td>\n",
       "      <td>200</td>\n",
       "      <td>150</td>\n",
       "      <td>0</td>\n",
       "      <td>357</td>\n",
       "      <td>0</td>\n",
       "      <td>1</td>\n",
       "      <td>0</td>\n",
       "      <td>0</td>\n",
       "      <td>0</td>\n",
       "      <td>...</td>\n",
       "      <td>0</td>\n",
       "      <td>0</td>\n",
       "      <td>0</td>\n",
       "      <td>1</td>\n",
       "      <td>0</td>\n",
       "      <td>2.000</td>\n",
       "      <td>1.000</td>\n",
       "      <td>102.000</td>\n",
       "      <td>6.000</td>\n",
       "      <td>36.000</td>\n",
       "    </tr>\n",
       "    <tr>\n",
       "      <th>59775</th>\n",
       "      <td>2010</td>\n",
       "      <td>156</td>\n",
       "      <td>70</td>\n",
       "      <td>0</td>\n",
       "      <td>912</td>\n",
       "      <td>0</td>\n",
       "      <td>1</td>\n",
       "      <td>0</td>\n",
       "      <td>0</td>\n",
       "      <td>0</td>\n",
       "      <td>...</td>\n",
       "      <td>0</td>\n",
       "      <td>0</td>\n",
       "      <td>0</td>\n",
       "      <td>0</td>\n",
       "      <td>0</td>\n",
       "      <td>2.000</td>\n",
       "      <td>1.000</td>\n",
       "      <td>140.000</td>\n",
       "      <td>6.000</td>\n",
       "      <td>25.000</td>\n",
       "    </tr>\n",
       "    <tr>\n",
       "      <th>128687</th>\n",
       "      <td>2002</td>\n",
       "      <td>80</td>\n",
       "      <td>150</td>\n",
       "      <td>0</td>\n",
       "      <td>782</td>\n",
       "      <td>0</td>\n",
       "      <td>1</td>\n",
       "      <td>0</td>\n",
       "      <td>0</td>\n",
       "      <td>0</td>\n",
       "      <td>...</td>\n",
       "      <td>0</td>\n",
       "      <td>0</td>\n",
       "      <td>0</td>\n",
       "      <td>0</td>\n",
       "      <td>0</td>\n",
       "      <td>2.000</td>\n",
       "      <td>1.000</td>\n",
       "      <td>181.000</td>\n",
       "      <td>6.000</td>\n",
       "      <td>9.000</td>\n",
       "    </tr>\n",
       "    <tr>\n",
       "      <th>85902</th>\n",
       "      <td>2002</td>\n",
       "      <td>116</td>\n",
       "      <td>150</td>\n",
       "      <td>0</td>\n",
       "      <td>125</td>\n",
       "      <td>0</td>\n",
       "      <td>0</td>\n",
       "      <td>0</td>\n",
       "      <td>0</td>\n",
       "      <td>0</td>\n",
       "      <td>...</td>\n",
       "      <td>0</td>\n",
       "      <td>0</td>\n",
       "      <td>0</td>\n",
       "      <td>1</td>\n",
       "      <td>0</td>\n",
       "      <td>0.000</td>\n",
       "      <td>1.000</td>\n",
       "      <td>171.000</td>\n",
       "      <td>2.000</td>\n",
       "      <td>36.000</td>\n",
       "    </tr>\n",
       "  </tbody>\n",
       "</table>\n",
       "<p>5 rows × 275 columns</p>\n",
       "</div>"
      ],
      "text/plain": [
       "        RegistrationYear  Power  Kilometer  NotRepaired  PostalCode  \\\n",
       "176974              2005     69        150            0         543   \n",
       "271021              2005    200        150            0         357   \n",
       "59775               2010    156         70            0         912   \n",
       "128687              2002     80        150            0         782   \n",
       "85902               2002    116        150            0         125   \n",
       "\n",
       "        VehicleType_convertible  VehicleType_coupe  VehicleType_other  \\\n",
       "176974                        0                  0                  0   \n",
       "271021                        0                  1                  0   \n",
       "59775                         0                  1                  0   \n",
       "128687                        0                  1                  0   \n",
       "85902                         0                  0                  0   \n",
       "\n",
       "        VehicleType_sedan  VehicleType_small  ...  Brand_subaru  Brand_suzuki  \\\n",
       "176974                  0                  1  ...             0             0   \n",
       "271021                  0                  0  ...             0             0   \n",
       "59775                   0                  0  ...             0             0   \n",
       "128687                  0                  0  ...             0             0   \n",
       "85902                   0                  0  ...             0             0   \n",
       "\n",
       "        Brand_toyota  Brand_volkswagen  Brand_volvo  VehicleType  Gearbox  \\\n",
       "176974             0                 0            0        5.000    1.000   \n",
       "271021             0                 1            0        2.000    1.000   \n",
       "59775              0                 0            0        2.000    1.000   \n",
       "128687             0                 0            0        2.000    1.000   \n",
       "85902              0                 1            0        0.000    1.000   \n",
       "\n",
       "         Model  FuelType  Brand  \n",
       "176974  73.000     2.000 24.000  \n",
       "271021 102.000     6.000 36.000  \n",
       "59775  140.000     6.000 25.000  \n",
       "128687 181.000     6.000  9.000  \n",
       "85902  171.000     2.000 36.000  \n",
       "\n",
       "[5 rows x 275 columns]"
      ]
     },
     "metadata": {},
     "output_type": "display_data"
    },
    {
     "data": {
      "text/html": [
       "<div>\n",
       "<style scoped>\n",
       "    .dataframe tbody tr th:only-of-type {\n",
       "        vertical-align: middle;\n",
       "    }\n",
       "\n",
       "    .dataframe tbody tr th {\n",
       "        vertical-align: top;\n",
       "    }\n",
       "\n",
       "    .dataframe thead th {\n",
       "        text-align: right;\n",
       "    }\n",
       "</style>\n",
       "<table border=\"1\" class=\"dataframe\">\n",
       "  <thead>\n",
       "    <tr style=\"text-align: right;\">\n",
       "      <th></th>\n",
       "      <th>RegistrationYear</th>\n",
       "      <th>Power</th>\n",
       "      <th>Kilometer</th>\n",
       "      <th>NotRepaired</th>\n",
       "      <th>PostalCode</th>\n",
       "      <th>VehicleType_convertible</th>\n",
       "      <th>VehicleType_coupe</th>\n",
       "      <th>VehicleType_other</th>\n",
       "      <th>VehicleType_sedan</th>\n",
       "      <th>VehicleType_small</th>\n",
       "      <th>...</th>\n",
       "      <th>Brand_subaru</th>\n",
       "      <th>Brand_suzuki</th>\n",
       "      <th>Brand_toyota</th>\n",
       "      <th>Brand_volkswagen</th>\n",
       "      <th>Brand_volvo</th>\n",
       "      <th>VehicleType</th>\n",
       "      <th>Gearbox</th>\n",
       "      <th>Model</th>\n",
       "      <th>FuelType</th>\n",
       "      <th>Brand</th>\n",
       "    </tr>\n",
       "  </thead>\n",
       "  <tbody>\n",
       "    <tr>\n",
       "      <th>334758</th>\n",
       "      <td>2011</td>\n",
       "      <td>95</td>\n",
       "      <td>50</td>\n",
       "      <td>0</td>\n",
       "      <td>666</td>\n",
       "      <td>0</td>\n",
       "      <td>0</td>\n",
       "      <td>0</td>\n",
       "      <td>1</td>\n",
       "      <td>0</td>\n",
       "      <td>...</td>\n",
       "      <td>0</td>\n",
       "      <td>0</td>\n",
       "      <td>0</td>\n",
       "      <td>0</td>\n",
       "      <td>0</td>\n",
       "      <td>4.000</td>\n",
       "      <td>1.000</td>\n",
       "      <td>68.000</td>\n",
       "      <td>6.000</td>\n",
       "      <td>22.000</td>\n",
       "    </tr>\n",
       "    <tr>\n",
       "      <th>207475</th>\n",
       "      <td>2004</td>\n",
       "      <td>140</td>\n",
       "      <td>150</td>\n",
       "      <td>0</td>\n",
       "      <td>780</td>\n",
       "      <td>0</td>\n",
       "      <td>0</td>\n",
       "      <td>0</td>\n",
       "      <td>1</td>\n",
       "      <td>0</td>\n",
       "      <td>...</td>\n",
       "      <td>0</td>\n",
       "      <td>0</td>\n",
       "      <td>0</td>\n",
       "      <td>1</td>\n",
       "      <td>0</td>\n",
       "      <td>4.000</td>\n",
       "      <td>1.000</td>\n",
       "      <td>102.000</td>\n",
       "      <td>2.000</td>\n",
       "      <td>36.000</td>\n",
       "    </tr>\n",
       "    <tr>\n",
       "      <th>56592</th>\n",
       "      <td>1997</td>\n",
       "      <td>90</td>\n",
       "      <td>150</td>\n",
       "      <td>1</td>\n",
       "      <td>501</td>\n",
       "      <td>1</td>\n",
       "      <td>0</td>\n",
       "      <td>0</td>\n",
       "      <td>0</td>\n",
       "      <td>0</td>\n",
       "      <td>...</td>\n",
       "      <td>0</td>\n",
       "      <td>0</td>\n",
       "      <td>0</td>\n",
       "      <td>1</td>\n",
       "      <td>0</td>\n",
       "      <td>1.000</td>\n",
       "      <td>1.000</td>\n",
       "      <td>102.000</td>\n",
       "      <td>6.000</td>\n",
       "      <td>36.000</td>\n",
       "    </tr>\n",
       "    <tr>\n",
       "      <th>341677</th>\n",
       "      <td>2008</td>\n",
       "      <td>140</td>\n",
       "      <td>125</td>\n",
       "      <td>0</td>\n",
       "      <td>402</td>\n",
       "      <td>0</td>\n",
       "      <td>0</td>\n",
       "      <td>0</td>\n",
       "      <td>0</td>\n",
       "      <td>0</td>\n",
       "      <td>...</td>\n",
       "      <td>0</td>\n",
       "      <td>0</td>\n",
       "      <td>0</td>\n",
       "      <td>0</td>\n",
       "      <td>0</td>\n",
       "      <td>0.000</td>\n",
       "      <td>1.000</td>\n",
       "      <td>99.000</td>\n",
       "      <td>2.000</td>\n",
       "      <td>10.000</td>\n",
       "    </tr>\n",
       "    <tr>\n",
       "      <th>106277</th>\n",
       "      <td>1991</td>\n",
       "      <td>98</td>\n",
       "      <td>150</td>\n",
       "      <td>0</td>\n",
       "      <td>854</td>\n",
       "      <td>1</td>\n",
       "      <td>0</td>\n",
       "      <td>0</td>\n",
       "      <td>0</td>\n",
       "      <td>0</td>\n",
       "      <td>...</td>\n",
       "      <td>0</td>\n",
       "      <td>0</td>\n",
       "      <td>0</td>\n",
       "      <td>1</td>\n",
       "      <td>0</td>\n",
       "      <td>1.000</td>\n",
       "      <td>1.000</td>\n",
       "      <td>102.000</td>\n",
       "      <td>6.000</td>\n",
       "      <td>36.000</td>\n",
       "    </tr>\n",
       "  </tbody>\n",
       "</table>\n",
       "<p>5 rows × 275 columns</p>\n",
       "</div>"
      ],
      "text/plain": [
       "        RegistrationYear  Power  Kilometer  NotRepaired  PostalCode  \\\n",
       "334758              2011     95         50            0         666   \n",
       "207475              2004    140        150            0         780   \n",
       "56592               1997     90        150            1         501   \n",
       "341677              2008    140        125            0         402   \n",
       "106277              1991     98        150            0         854   \n",
       "\n",
       "        VehicleType_convertible  VehicleType_coupe  VehicleType_other  \\\n",
       "334758                        0                  0                  0   \n",
       "207475                        0                  0                  0   \n",
       "56592                         1                  0                  0   \n",
       "341677                        0                  0                  0   \n",
       "106277                        1                  0                  0   \n",
       "\n",
       "        VehicleType_sedan  VehicleType_small  ...  Brand_subaru  Brand_suzuki  \\\n",
       "334758                  1                  0  ...             0             0   \n",
       "207475                  1                  0  ...             0             0   \n",
       "56592                   0                  0  ...             0             0   \n",
       "341677                  0                  0  ...             0             0   \n",
       "106277                  0                  0  ...             0             0   \n",
       "\n",
       "        Brand_toyota  Brand_volkswagen  Brand_volvo  VehicleType  Gearbox  \\\n",
       "334758             0                 0            0        4.000    1.000   \n",
       "207475             0                 1            0        4.000    1.000   \n",
       "56592              0                 1            0        1.000    1.000   \n",
       "341677             0                 0            0        0.000    1.000   \n",
       "106277             0                 1            0        1.000    1.000   \n",
       "\n",
       "         Model  FuelType  Brand  \n",
       "334758  68.000     6.000 22.000  \n",
       "207475 102.000     2.000 36.000  \n",
       "56592  102.000     6.000 36.000  \n",
       "341677  99.000     2.000 10.000  \n",
       "106277 102.000     6.000 36.000  \n",
       "\n",
       "[5 rows x 275 columns]"
      ]
     },
     "metadata": {},
     "output_type": "display_data"
    }
   ],
   "source": [
    "features_train_full = features_train_OHE.copy()\n",
    "features_test_full = features_test_OHE.copy()\n",
    "\n",
    "features_train_full[['VehicleType', 'Gearbox', 'Model', 'FuelType',\n",
    "                     'Brand']] = train_cat_OE\n",
    "features_test_full[['VehicleType', 'Gearbox', 'Model', 'FuelType',\n",
    "                    'Brand']] = test_cat_OE\n",
    "\n",
    "display(features_train_full.head())\n",
    "display(features_test_full.head())"
   ]
  },
  {
   "cell_type": "markdown",
   "id": "935d272b",
   "metadata": {},
   "source": [
    "## Обучение моделей на трех типах признаков"
   ]
  },
  {
   "cell_type": "markdown",
   "id": "ba4dde8f",
   "metadata": {},
   "source": [
    "### Модель - LinearRegression"
   ]
  },
  {
   "cell_type": "code",
   "execution_count": 54,
   "id": "ee1d7de5",
   "metadata": {},
   "outputs": [],
   "source": [
    "# напишем функцию обучения модели линейной регрессии:\n",
    "def model_train(model, features_train, features_test):\n",
    "    start = time.time()\n",
    "    train_rmse = (cross_val_score(model,\n",
    "                                  features_train_OE,\n",
    "                                  target_train,\n",
    "                                  cv=5,\n",
    "                                  scoring='neg_mean_squared_error').mean() *\n",
    "                  -1)**0.5\n",
    "    model.fit(features_train, target_train)\n",
    "    end = time.time()\n",
    "    train_time = datetime.timedelta(seconds=(end - start))\n",
    "    \n",
    "    print(\n",
    "        f'Среднее значение RMSE для кроссвалидации модели {model}: {round(train_rmse, 2)}\\\n",
    "    \\nВремя обучения: {train_time}')\n",
    "    print()\n",
    "    print('********************************************************************************')\n",
    "    print()\n",
    "    \n",
    "    start = time.time()\n",
    "    prediction = model.predict(features_test)\n",
    "    end = time.time()\n",
    "    execution_time = datetime.timedelta(seconds=(end - start))\n",
    "    \n",
    "    rmse = mean_squared_error(target_test, prediction, squared=False)\n",
    "    print(\n",
    "        f'Среднее значение RMSE для модели {model} на тестовой выборке: {round(rmse, 2)}\\\n",
    "    \\nВремя предсказания: {execution_time}')\n",
    "    model_dict = {\n",
    "        'Model': model,\n",
    "        'Train time': train_time.total_seconds(),\n",
    "        'Predict time': execution_time.total_seconds(),\n",
    "        'Train RMSE': round(train_rmse, 2),\n",
    "        'Test RMSE': round(rmse, 2),\n",
    "    }\n",
    "    return model_dict"
   ]
  },
  {
   "cell_type": "markdown",
   "id": "a8858f8f",
   "metadata": {},
   "source": [
    "#### Параметры с прямым кодированием"
   ]
  },
  {
   "cell_type": "code",
   "execution_count": 55,
   "id": "662e3fc5",
   "metadata": {},
   "outputs": [
    {
     "name": "stdout",
     "output_type": "stream",
     "text": [
      "Среднее значение RMSE для кроссвалидации модели LinearRegression(): 2535.31    \n",
      "Время обучения: 0:00:00.202276\n",
      "\n",
      "********************************************************************************\n",
      "\n",
      "Среднее значение RMSE для модели LinearRegression() на тестовой выборке: 2543.01    \n",
      "Время предсказания: 0:00:00.004614\n"
     ]
    }
   ],
   "source": [
    "lr_OE = model_train(LinearRegression(), features_train_OE, features_test_OE)"
   ]
  },
  {
   "cell_type": "code",
   "execution_count": 56,
   "id": "05bdb684",
   "metadata": {},
   "outputs": [
    {
     "data": {
      "text/plain": [
       "{'Model': LinearRegression(),\n",
       " 'Train time': 0.202276,\n",
       " 'Predict time': 0.004614,\n",
       " 'Train RMSE': 2535.31,\n",
       " 'Test RMSE': 2543.01}"
      ]
     },
     "execution_count": 56,
     "metadata": {},
     "output_type": "execute_result"
    }
   ],
   "source": [
    "lr_OE"
   ]
  },
  {
   "cell_type": "markdown",
   "id": "4fead649",
   "metadata": {},
   "source": [
    "#### Параметры после OHE"
   ]
  },
  {
   "cell_type": "code",
   "execution_count": 57,
   "id": "1cd90d10",
   "metadata": {},
   "outputs": [
    {
     "name": "stdout",
     "output_type": "stream",
     "text": [
      "Среднее значение RMSE для кроссвалидации модели LinearRegression(): 2535.31    \n",
      "Время обучения: 0:00:02.139215\n",
      "\n",
      "********************************************************************************\n",
      "\n",
      "Среднее значение RMSE для модели LinearRegression() на тестовой выборке: 2173.26    \n",
      "Время предсказания: 0:00:00.100815\n"
     ]
    }
   ],
   "source": [
    "lr_OHE = model_train(LinearRegression(), features_train_OHE, features_test_OHE)"
   ]
  },
  {
   "cell_type": "code",
   "execution_count": 58,
   "id": "04a97efc",
   "metadata": {},
   "outputs": [
    {
     "data": {
      "text/plain": [
       "{'Model': LinearRegression(),\n",
       " 'Train time': 2.139215,\n",
       " 'Predict time': 0.100815,\n",
       " 'Train RMSE': 2535.31,\n",
       " 'Test RMSE': 2173.26}"
      ]
     },
     "execution_count": 58,
     "metadata": {},
     "output_type": "execute_result"
    }
   ],
   "source": [
    "lr_OHE"
   ]
  },
  {
   "cell_type": "markdown",
   "id": "134f5d33",
   "metadata": {},
   "source": [
    "#### Полностью закодированные параметры"
   ]
  },
  {
   "cell_type": "code",
   "execution_count": 59,
   "id": "c7295874",
   "metadata": {},
   "outputs": [
    {
     "name": "stdout",
     "output_type": "stream",
     "text": [
      "Среднее значение RMSE для кроссвалидации модели LinearRegression(): 2535.31    \n",
      "Время обучения: 0:00:02.442824\n",
      "\n",
      "********************************************************************************\n",
      "\n",
      "Среднее значение RMSE для модели LinearRegression() на тестовой выборке: 2173.26    \n",
      "Время предсказания: 0:00:00.053469\n"
     ]
    }
   ],
   "source": [
    "lr_full = model_train(LinearRegression(), features_train_full, features_test_full)"
   ]
  },
  {
   "cell_type": "code",
   "execution_count": 60,
   "id": "68781f06",
   "metadata": {},
   "outputs": [
    {
     "data": {
      "text/plain": [
       "{'Model': LinearRegression(),\n",
       " 'Train time': 2.442824,\n",
       " 'Predict time': 0.053469,\n",
       " 'Train RMSE': 2535.31,\n",
       " 'Test RMSE': 2173.26}"
      ]
     },
     "execution_count": 60,
     "metadata": {},
     "output_type": "execute_result"
    }
   ],
   "source": [
    "lr_full"
   ]
  },
  {
   "cell_type": "markdown",
   "id": "d94ff925",
   "metadata": {},
   "source": [
    "### Модель - DecisionTreeRegressor"
   ]
  },
  {
   "cell_type": "code",
   "execution_count": 61,
   "id": "3dfa65ad",
   "metadata": {},
   "outputs": [],
   "source": [
    "# напишем функцию для моделей DecisionTreeRegressor:\n",
    "def dt_model_train(model, model_selector, param_grid, features_train, features_test):\n",
    "    start = time.time()\n",
    "    grid = model_selector(model,\n",
    "                          param_grid,\n",
    "                          cv=5,\n",
    "                          scoring='neg_mean_squared_error',\n",
    "                          n_jobs=-1)\n",
    "\n",
    "    grid.fit(\n",
    "        features_train,\n",
    "        target_train,\n",
    "    )\n",
    "\n",
    "    end = time.time()\n",
    "    print('Наилучшие параметры модели на обучающей выборке:')\n",
    "    print()\n",
    "    print(grid.best_estimator_)\n",
    "\n",
    "    train_rmse = (max(grid.cv_results_['mean_test_score']) * -1)**0.5\n",
    "    train_time = datetime.timedelta(seconds=(end - start))\n",
    "    \n",
    "    print(\n",
    "        f'Среднее значение RMSE для кроссвалидации модели {model}: {round(train_rmse, 2)}\\\n",
    "    \\nВремя обучения: {train_time}')\n",
    "    print()\n",
    "    print(\n",
    "        '********************************************************************************'\n",
    "    )\n",
    "    print()\n",
    "\n",
    "    start = time.time()\n",
    "    prediction = grid.predict(features_test)\n",
    "    end = time.time()\n",
    "    execution_time = datetime.timedelta(seconds=(end - start))\n",
    "    \n",
    "    rmse = mean_squared_error(target_test, prediction, squared=False)\n",
    "    print(\n",
    "        f'Среднее значение RMSE для модели {model} на тестовой выборке: {round(rmse, 2)}\\\n",
    "    \\nВремя предсказания: {execution_time}')\n",
    "    model_dict = {\n",
    "        'Model': model,\n",
    "        'Train time': train_time.total_seconds(),\n",
    "        'Predict time': execution_time.total_seconds(),\n",
    "        'Train RMSE': round(train_rmse, 2),\n",
    "        'Test RMSE': round(rmse, 2),\n",
    "    }\n",
    "    return model_dict"
   ]
  },
  {
   "cell_type": "markdown",
   "id": "45d44314",
   "metadata": {},
   "source": [
    "#### Параметры с прямым кодированием"
   ]
  },
  {
   "cell_type": "code",
   "execution_count": 62,
   "id": "60de17c4",
   "metadata": {},
   "outputs": [],
   "source": [
    "depth = [x for x in range(10, 15)]\n",
    "param_grid = [{\n",
    "    'criterion': ['friedman_mse'],\n",
    "    'max_depth': depth,\n",
    "    'random_state': [STATE]\n",
    "}]"
   ]
  },
  {
   "cell_type": "code",
   "execution_count": 63,
   "id": "ff2ad1c8",
   "metadata": {},
   "outputs": [
    {
     "name": "stdout",
     "output_type": "stream",
     "text": [
      "Наилучшие параметры модели на обучающей выборке:\n",
      "\n",
      "DecisionTreeRegressor(criterion='friedman_mse', max_depth=13,\n",
      "                      random_state=12345)\n",
      "Среднее значение RMSE для кроссвалидации модели DecisionTreeRegressor(): 1742.67    \n",
      "Время обучения: 0:00:05.560515\n",
      "\n",
      "********************************************************************************\n",
      "\n",
      "Среднее значение RMSE для модели DecisionTreeRegressor() на тестовой выборке: 1724.89    \n",
      "Время предсказания: 0:00:00.010887\n"
     ]
    }
   ],
   "source": [
    "dt_OE = dt_model_train(model=DecisionTreeRegressor(),\n",
    "                       model_selector=GridSearchCV,\n",
    "                       param_grid=param_grid,\n",
    "                       features_train=features_train_OE,\n",
    "                       features_test=features_test_OE)"
   ]
  },
  {
   "cell_type": "code",
   "execution_count": 64,
   "id": "252f4f55",
   "metadata": {},
   "outputs": [
    {
     "data": {
      "text/plain": [
       "{'Model': DecisionTreeRegressor(),\n",
       " 'Train time': 5.560515,\n",
       " 'Predict time': 0.010887,\n",
       " 'Train RMSE': 1742.67,\n",
       " 'Test RMSE': 1724.89}"
      ]
     },
     "execution_count": 64,
     "metadata": {},
     "output_type": "execute_result"
    }
   ],
   "source": [
    "dt_OE"
   ]
  },
  {
   "cell_type": "markdown",
   "id": "fb2359ae",
   "metadata": {},
   "source": [
    "#### Параметры после OHE"
   ]
  },
  {
   "cell_type": "code",
   "execution_count": 65,
   "id": "9b3a9128",
   "metadata": {},
   "outputs": [
    {
     "name": "stdout",
     "output_type": "stream",
     "text": [
      "Наилучшие параметры модели на обучающей выборке:\n",
      "\n",
      "DecisionTreeRegressor(criterion='friedman_mse', max_depth=14,\n",
      "                      random_state=12345)\n",
      "Среднее значение RMSE для кроссвалидации модели DecisionTreeRegressor(): 1741.55    \n",
      "Время обучения: 0:00:25.706194\n",
      "\n",
      "********************************************************************************\n",
      "\n",
      "Среднее значение RMSE для модели DecisionTreeRegressor() на тестовой выборке: 1717.81    \n",
      "Время предсказания: 0:00:00.062889\n"
     ]
    }
   ],
   "source": [
    "dt_OHE = dt_model_train(model=DecisionTreeRegressor(),\n",
    "                       model_selector=GridSearchCV,\n",
    "                       param_grid=param_grid,\n",
    "                       features_train=features_train_OHE,\n",
    "                       features_test=features_test_OHE)"
   ]
  },
  {
   "cell_type": "code",
   "execution_count": 66,
   "id": "60682cab",
   "metadata": {},
   "outputs": [
    {
     "data": {
      "text/plain": [
       "{'Model': DecisionTreeRegressor(),\n",
       " 'Train time': 25.706194,\n",
       " 'Predict time': 0.062889,\n",
       " 'Train RMSE': 1741.55,\n",
       " 'Test RMSE': 1717.81}"
      ]
     },
     "execution_count": 66,
     "metadata": {},
     "output_type": "execute_result"
    }
   ],
   "source": [
    "dt_OHE"
   ]
  },
  {
   "cell_type": "markdown",
   "id": "4c4febbc",
   "metadata": {},
   "source": [
    "#### Полностью закодированные параметры"
   ]
  },
  {
   "cell_type": "code",
   "execution_count": 67,
   "id": "db327ca4",
   "metadata": {},
   "outputs": [
    {
     "name": "stdout",
     "output_type": "stream",
     "text": [
      "Наилучшие параметры модели на обучающей выборке:\n",
      "\n",
      "DecisionTreeRegressor(criterion='friedman_mse', max_depth=14,\n",
      "                      random_state=12345)\n",
      "Среднее значение RMSE для кроссвалидации модели DecisionTreeRegressor(): 1719.48    \n",
      "Время обучения: 0:00:27.199028\n",
      "\n",
      "********************************************************************************\n",
      "\n",
      "Среднее значение RMSE для модели DecisionTreeRegressor() на тестовой выборке: 1701.72    \n",
      "Время предсказания: 0:00:00.076993\n"
     ]
    }
   ],
   "source": [
    "dt_full = dt_model_train(model=DecisionTreeRegressor(),\n",
    "                       model_selector=GridSearchCV,\n",
    "                       param_grid=param_grid,\n",
    "                       features_train=features_train_full,\n",
    "                       features_test=features_test_full)"
   ]
  },
  {
   "cell_type": "code",
   "execution_count": 68,
   "id": "1b398d36",
   "metadata": {},
   "outputs": [
    {
     "data": {
      "text/plain": [
       "{'Model': DecisionTreeRegressor(),\n",
       " 'Train time': 27.199028,\n",
       " 'Predict time': 0.076993,\n",
       " 'Train RMSE': 1719.48,\n",
       " 'Test RMSE': 1701.72}"
      ]
     },
     "execution_count": 68,
     "metadata": {},
     "output_type": "execute_result"
    }
   ],
   "source": [
    "dt_full"
   ]
  },
  {
   "cell_type": "markdown",
   "id": "a930a0c8",
   "metadata": {},
   "source": [
    "### Модель - RandomForestRegressor"
   ]
  },
  {
   "cell_type": "code",
   "execution_count": 69,
   "id": "6e57cdaf",
   "metadata": {},
   "outputs": [],
   "source": [
    "# напишем функцию для моделей RandomForestRegressor:\n",
    "def rf_model_train(model, model_selector, param_dist, features_train,\n",
    "                   features_test, n_iter, verbose):\n",
    "    start = time.time()\n",
    "    rand = model_selector(model,\n",
    "                          param_dist,\n",
    "                          cv=5,\n",
    "                          scoring='neg_mean_squared_error',\n",
    "                          n_iter=n_iter,\n",
    "                          random_state=STATE,\n",
    "                          verbose=verbose)\n",
    "\n",
    "    rand.fit(\n",
    "        features_train,\n",
    "        target_train,\n",
    "    )\n",
    "\n",
    "    end = time.time()\n",
    "    print('Наилучшие параметры модели на обучающей выборке:')\n",
    "    print()\n",
    "    print(rand.best_estimator_)\n",
    "\n",
    "    train_rmse = (max(rand.cv_results_['mean_test_score']) * -1)**0.5\n",
    "    train_time = datetime.timedelta(seconds=(end - start))\n",
    "    print(\n",
    "        f'Среднее значение RMSE для кроссвалидации модели {model}: {round(train_rmse, 2)}\\\n",
    "    \\nВремя обучения: {train_time}')\n",
    "    print()\n",
    "    print(\n",
    "        '********************************************************************************'\n",
    "    )\n",
    "    print()\n",
    "\n",
    "    start = time.time()\n",
    "    prediction = rand.predict(features_test)\n",
    "    end = time.time()\n",
    "    execution_time = datetime.timedelta(seconds=(end - start))\n",
    "\n",
    "    rmse = mean_squared_error(target_test, prediction, squared=False)\n",
    "    print(\n",
    "        f'Среднее значение RMSE для модели {model} на тестовой выборке: {round(rmse, 2)}\\\n",
    "    \\nВремя предсказания: {execution_time}')\n",
    "    model_dict = {\n",
    "        'Model': model,\n",
    "        'Train time': train_time.total_seconds(),\n",
    "        'Predict time': execution_time.total_seconds(),\n",
    "        'Train RMSE': round(train_rmse, 2),\n",
    "        'Test RMSE': round(rmse, 2),\n",
    "    }\n",
    "    return model_dict"
   ]
  },
  {
   "cell_type": "markdown",
   "id": "b627c7ea",
   "metadata": {},
   "source": [
    "#### Параметры с прямым кодированием"
   ]
  },
  {
   "cell_type": "code",
   "execution_count": 70,
   "id": "532a24fe",
   "metadata": {},
   "outputs": [
    {
     "name": "stdout",
     "output_type": "stream",
     "text": [
      "Fitting 5 folds for each of 2 candidates, totalling 10 fits\n",
      "Наилучшие параметры модели на обучающей выборке:\n",
      "\n",
      "RandomForestRegressor(max_depth=19, n_estimators=52)\n",
      "Среднее значение RMSE для кроссвалидации модели RandomForestRegressor(): 1463.99    \n",
      "Время обучения: 0:03:37.743997\n",
      "\n",
      "********************************************************************************\n",
      "\n",
      "Среднее значение RMSE для модели RandomForestRegressor() на тестовой выборке: 1444.57    \n",
      "Время предсказания: 0:00:00.761162\n"
     ]
    },
    {
     "data": {
      "text/plain": [
       "{'Model': RandomForestRegressor(),\n",
       " 'Train time': 217.743997,\n",
       " 'Predict time': 0.761162,\n",
       " 'Train RMSE': 1463.99,\n",
       " 'Test RMSE': 1444.57}"
      ]
     },
     "execution_count": 70,
     "metadata": {},
     "output_type": "execute_result"
    }
   ],
   "source": [
    "depth = [x for x in range(18, 20)]\n",
    "param_dist = {'n_estimators': list(range(50, 53)), 'max_depth': depth}\n",
    "\n",
    "rf_OE = rf_model_train(model=RandomForestRegressor(),\n",
    "                       model_selector=RandomizedSearchCV,\n",
    "                       param_dist=param_dist,\n",
    "                       features_train=features_train_OE,\n",
    "                       features_test=features_test_OE,\n",
    "                       n_iter=2,\n",
    "                       verbose=1)\n",
    "rf_OE"
   ]
  },
  {
   "cell_type": "markdown",
   "id": "03a702b2",
   "metadata": {},
   "source": [
    "#### Параметры после OHE"
   ]
  },
  {
   "cell_type": "code",
   "execution_count": 71,
   "id": "691d0647",
   "metadata": {},
   "outputs": [
    {
     "name": "stdout",
     "output_type": "stream",
     "text": [
      "Fitting 5 folds for each of 2 candidates, totalling 10 fits\n",
      "Наилучшие параметры модели на обучающей выборке:\n",
      "\n",
      "RandomForestRegressor(max_depth=19, n_estimators=50)\n",
      "Среднее значение RMSE для кроссвалидации модели RandomForestRegressor(): 1481.09    \n",
      "Время обучения: 0:16:33.200146\n",
      "\n",
      "********************************************************************************\n",
      "\n",
      "Среднее значение RMSE для модели RandomForestRegressor() на тестовой выборке: 1466.06    \n",
      "Время предсказания: 0:00:00.929775\n"
     ]
    },
    {
     "data": {
      "text/plain": [
       "{'Model': RandomForestRegressor(),\n",
       " 'Train time': 993.200146,\n",
       " 'Predict time': 0.929775,\n",
       " 'Train RMSE': 1481.09,\n",
       " 'Test RMSE': 1466.06}"
      ]
     },
     "execution_count": 71,
     "metadata": {},
     "output_type": "execute_result"
    }
   ],
   "source": [
    "rf_OHE = rf_model_train(model=RandomForestRegressor(),\n",
    "                       model_selector=RandomizedSearchCV,\n",
    "                       param_dist=param_dist,\n",
    "                       features_train=features_train_OHE,\n",
    "                       features_test=features_test_OHE,\n",
    "                       n_iter=2,\n",
    "                       verbose=1)\n",
    "rf_OHE"
   ]
  },
  {
   "cell_type": "markdown",
   "id": "71329ab4",
   "metadata": {},
   "source": [
    "#### Полностью закодированные параметры"
   ]
  },
  {
   "cell_type": "code",
   "execution_count": 72,
   "id": "bb000fcc",
   "metadata": {},
   "outputs": [
    {
     "name": "stdout",
     "output_type": "stream",
     "text": [
      "Fitting 5 folds for each of 2 candidates, totalling 10 fits\n",
      "Наилучшие параметры модели на обучающей выборке:\n",
      "\n",
      "RandomForestRegressor(max_depth=19, n_estimators=52)\n",
      "Среднее значение RMSE для кроссвалидации модели RandomForestRegressor(): 1459.48    \n",
      "Время обучения: 0:18:43.582594\n",
      "\n",
      "********************************************************************************\n",
      "\n",
      "Среднее значение RMSE для модели RandomForestRegressor() на тестовой выборке: 1443.72    \n",
      "Время предсказания: 0:00:00.896445\n"
     ]
    },
    {
     "data": {
      "text/plain": [
       "{'Model': RandomForestRegressor(),\n",
       " 'Train time': 1123.582594,\n",
       " 'Predict time': 0.896445,\n",
       " 'Train RMSE': 1459.48,\n",
       " 'Test RMSE': 1443.72}"
      ]
     },
     "execution_count": 72,
     "metadata": {},
     "output_type": "execute_result"
    }
   ],
   "source": [
    "rf_full = rf_model_train(model=RandomForestRegressor(),\n",
    "                       model_selector=RandomizedSearchCV,\n",
    "                       param_dist=param_dist,\n",
    "                       features_train=features_train_full,\n",
    "                       features_test=features_test_full,\n",
    "                       n_iter=2,\n",
    "                       verbose=1)\n",
    "rf_full"
   ]
  },
  {
   "cell_type": "markdown",
   "id": "53bee04f",
   "metadata": {},
   "source": [
    "### Модель - CatBoostRegressor"
   ]
  },
  {
   "cell_type": "code",
   "execution_count": 73,
   "id": "59bd65dc",
   "metadata": {},
   "outputs": [],
   "source": [
    "# напишем функцию для моделей CatBoostRegressor:\n",
    "def cbr_model_train(model,\n",
    "                    features_train,\n",
    "                    features_test,\n",
    "                    learning_rate,\n",
    "                    random_state,\n",
    "                    verbose,\n",
    "                    iterations=200,\n",
    "                    cat_features=[]):\n",
    "    start = time.time()\n",
    "    model = model(learning_rate=learning_rate,\n",
    "                  iterations=iterations,\n",
    "                  random_state=random_state,\n",
    "                  verbose=verbose,\n",
    "                  cat_features=cat_features)\n",
    "\n",
    "    model.fit(features_train, target_train)\n",
    "    end = time.time()\n",
    "    train_time = datetime.timedelta(seconds=(end - start))\n",
    "    print(f'Время обучения: {train_time}')\n",
    "\n",
    "    start = time.time()\n",
    "    prediction = model.predict(features_test)\n",
    "    end = time.time()\n",
    "    execution_time = datetime.timedelta(seconds=(end - start))\n",
    "    rmse = math.sqrt(mean_squared_error(target_test, prediction))\n",
    "    print(f'Время предсказания для модели {model}: {execution_time}')\n",
    "    print(\n",
    "        f'Среднее значение RMSE для тестовых данных модели {model}: {round(rmse, 2)}'\n",
    "    )\n",
    "\n",
    "    model_dict = {\n",
    "        'Model': model,\n",
    "        'Train time': train_time.total_seconds(),\n",
    "        'Predict time': execution_time.total_seconds(),\n",
    "        'Train RMSE': '-',\n",
    "        'Test RMSE': round(rmse, 2),\n",
    "    }\n",
    "    return model_dict"
   ]
  },
  {
   "cell_type": "markdown",
   "id": "29e78ab2",
   "metadata": {},
   "source": [
    "#### Исходные параметры"
   ]
  },
  {
   "cell_type": "code",
   "execution_count": 74,
   "id": "ff7bd4e3",
   "metadata": {},
   "outputs": [
    {
     "name": "stdout",
     "output_type": "stream",
     "text": [
      "Время обучения: 0:00:08.681508\n",
      "Время предсказания для модели <catboost.core.CatBoostRegressor object at 0x7f5108a85a00>: 0:00:00.061641\n",
      "Среднее значение RMSE для тестовых данных модели <catboost.core.CatBoostRegressor object at 0x7f5108a85a00>: 1467.48\n"
     ]
    },
    {
     "data": {
      "text/plain": [
       "{'Model': <catboost.core.CatBoostRegressor at 0x7f5108a85a00>,\n",
       " 'Train time': 8.681508,\n",
       " 'Predict time': 0.061641,\n",
       " 'Train RMSE': '-',\n",
       " 'Test RMSE': 1467.48}"
      ]
     },
     "execution_count": 74,
     "metadata": {},
     "output_type": "execute_result"
    }
   ],
   "source": [
    "cbr_initail_data = cbr_model_train(\n",
    "    model=CatBoostRegressor,\n",
    "    features_train=features_train,\n",
    "    features_test=features_test,\n",
    "    learning_rate=0.5,\n",
    "    random_state=STATE,\n",
    "    cat_features=['VehicleType', 'Gearbox', 'Model', 'FuelType', 'Brand'],\n",
    "    verbose=False)\n",
    "cbr_initail_data"
   ]
  },
  {
   "cell_type": "markdown",
   "id": "226749f3",
   "metadata": {},
   "source": [
    "#### Параметры с прямым кодированием"
   ]
  },
  {
   "cell_type": "code",
   "execution_count": 75,
   "id": "a3c6e900",
   "metadata": {},
   "outputs": [
    {
     "name": "stdout",
     "output_type": "stream",
     "text": [
      "Время обучения: 0:00:01.892573\n",
      "Время предсказания для модели <catboost.core.CatBoostRegressor object at 0x7f5108acbd60>: 0:00:00.010284\n",
      "Среднее значение RMSE для тестовых данных модели <catboost.core.CatBoostRegressor object at 0x7f5108acbd60>: 1470.37\n"
     ]
    },
    {
     "data": {
      "text/plain": [
       "{'Model': <catboost.core.CatBoostRegressor at 0x7f5108acbd60>,\n",
       " 'Train time': 1.892573,\n",
       " 'Predict time': 0.010284,\n",
       " 'Train RMSE': '-',\n",
       " 'Test RMSE': 1470.37}"
      ]
     },
     "execution_count": 75,
     "metadata": {},
     "output_type": "execute_result"
    }
   ],
   "source": [
    "cbr_OE_data = cbr_model_train(model=CatBoostRegressor,\n",
    "                              features_train=features_train_OE,\n",
    "                              features_test=features_test_OE,\n",
    "                              learning_rate=0.5,\n",
    "                              random_state=STATE,\n",
    "                              verbose=False)\n",
    "cbr_OE_data"
   ]
  },
  {
   "cell_type": "markdown",
   "id": "5d401ac1",
   "metadata": {},
   "source": [
    "#### Полностью закодированные параметры"
   ]
  },
  {
   "cell_type": "code",
   "execution_count": 76,
   "id": "25d4c632",
   "metadata": {},
   "outputs": [
    {
     "name": "stdout",
     "output_type": "stream",
     "text": [
      "Время обучения: 0:00:02.128647\n",
      "Время предсказания для модели <catboost.core.CatBoostRegressor object at 0x7f5108a818b0>: 0:00:00.048360\n",
      "Среднее значение RMSE для тестовых данных модели <catboost.core.CatBoostRegressor object at 0x7f5108a818b0>: 1458.37\n"
     ]
    },
    {
     "data": {
      "text/plain": [
       "{'Model': <catboost.core.CatBoostRegressor at 0x7f5108a818b0>,\n",
       " 'Train time': 2.128647,\n",
       " 'Predict time': 0.04836,\n",
       " 'Train RMSE': '-',\n",
       " 'Test RMSE': 1458.37}"
      ]
     },
     "execution_count": 76,
     "metadata": {},
     "output_type": "execute_result"
    }
   ],
   "source": [
    "cbr_full_data = cbr_model_train(model=CatBoostRegressor,\n",
    "                                features_train=features_train_full,\n",
    "                                features_test=features_test_full,\n",
    "                                learning_rate=0.5,\n",
    "                                random_state=STATE,\n",
    "                                verbose=False)\n",
    "cbr_full_data"
   ]
  },
  {
   "cell_type": "markdown",
   "id": "222a0439",
   "metadata": {},
   "source": [
    "### Модель - LGBMRegressor"
   ]
  },
  {
   "cell_type": "code",
   "execution_count": 77,
   "id": "69f9af53",
   "metadata": {},
   "outputs": [],
   "source": [
    "# напишем функцию для моделей LGBMRegressor:\n",
    "def lgbm_model_train(model,\n",
    "                     features_train,\n",
    "                     features_test,\n",
    "                     learning_rate,\n",
    "                     num_leaves,\n",
    "                     max_depth,\n",
    "                     boosting_type,\n",
    "                     random_state=STATE):\n",
    "    start = time.time()\n",
    "    model = model(learning_rate=learning_rate,\n",
    "                  num_leaves=num_leaves,\n",
    "                  max_depth=max_depth,\n",
    "                  boosting_type=boosting_type)\n",
    "\n",
    "    model.fit(features_train, target_train)\n",
    "    end = time.time()\n",
    "    train_time = datetime.timedelta(seconds=(end - start))\n",
    "    print(f'Время обучения: {train_time}')\n",
    "\n",
    "    start = time.time()\n",
    "    prediction = model.predict(features_test)\n",
    "    end = time.time()\n",
    "    execution_time = datetime.timedelta(seconds=(end - start))\n",
    "    rmse = math.sqrt(mean_squared_error(target_test, prediction))\n",
    "    print(f'Время предсказания для модели {model}: {execution_time}')\n",
    "    print(\n",
    "        f'Среднее значение RMSE для тестовых данных модели {model}: {round(rmse, 2)}'\n",
    "    )\n",
    "\n",
    "    model_dict = {\n",
    "        'Model': model,\n",
    "        'Train time': train_time.total_seconds(),\n",
    "        'Predict time': execution_time.total_seconds(),\n",
    "        'Train RMSE': '-',\n",
    "        'Test RMSE': round(rmse, 2),\n",
    "    }\n",
    "    return model_dict"
   ]
  },
  {
   "cell_type": "markdown",
   "id": "367c37fe",
   "metadata": {},
   "source": [
    "#### Параметры с прямым кодированием"
   ]
  },
  {
   "cell_type": "code",
   "execution_count": 78,
   "id": "02f8ec6d",
   "metadata": {},
   "outputs": [
    {
     "name": "stdout",
     "output_type": "stream",
     "text": [
      "Время обучения: 0:00:03.088516\n",
      "Время предсказания для модели LGBMRegressor(boosting_type='dart', learning_rate=0.05, max_depth=10,\n",
      "              num_leaves=200): 0:00:00.096138\n",
      "Среднее значение RMSE для тестовых данных модели LGBMRegressor(boosting_type='dart', learning_rate=0.05, max_depth=10,\n",
      "              num_leaves=200): 2165.13\n"
     ]
    },
    {
     "data": {
      "text/plain": [
       "{'Model': LGBMRegressor(boosting_type='dart', learning_rate=0.05, max_depth=10,\n",
       "               num_leaves=200),\n",
       " 'Train time': 3.088516,\n",
       " 'Predict time': 0.096138,\n",
       " 'Train RMSE': '-',\n",
       " 'Test RMSE': 2165.13}"
      ]
     },
     "execution_count": 78,
     "metadata": {},
     "output_type": "execute_result"
    }
   ],
   "source": [
    "lgbm_OE_data = lgbm_model_train(LGBMRegressor,\n",
    "                     features_train_OE,\n",
    "                     features_test_OE,\n",
    "                     learning_rate=0.05,\n",
    "                     num_leaves=200,\n",
    "                     max_depth=10,\n",
    "                     boosting_type='dart')\n",
    "lgbm_OE_data"
   ]
  },
  {
   "cell_type": "markdown",
   "id": "2e7dc2b5",
   "metadata": {},
   "source": [
    "#### Полностью закодированные параметры"
   ]
  },
  {
   "cell_type": "code",
   "execution_count": 79,
   "id": "a6641949",
   "metadata": {},
   "outputs": [
    {
     "name": "stdout",
     "output_type": "stream",
     "text": [
      "Время обучения: 0:00:04.730854\n",
      "Время предсказания для модели LGBMRegressor(boosting_type='dart', learning_rate=0.05, max_depth=10,\n",
      "              num_leaves=200): 0:00:00.181074\n",
      "Среднее значение RMSE для тестовых данных модели LGBMRegressor(boosting_type='dart', learning_rate=0.05, max_depth=10,\n",
      "              num_leaves=200): 2136.42\n"
     ]
    },
    {
     "data": {
      "text/plain": [
       "{'Model': LGBMRegressor(boosting_type='dart', learning_rate=0.05, max_depth=10,\n",
       "               num_leaves=200),\n",
       " 'Train time': 4.730854,\n",
       " 'Predict time': 0.181074,\n",
       " 'Train RMSE': '-',\n",
       " 'Test RMSE': 2136.42}"
      ]
     },
     "execution_count": 79,
     "metadata": {},
     "output_type": "execute_result"
    }
   ],
   "source": [
    "lgbm_full_data = lgbm_model_train(LGBMRegressor,\n",
    "                     features_train_full,\n",
    "                     features_test_full,\n",
    "                     learning_rate=0.05,\n",
    "                     num_leaves=200,\n",
    "                     max_depth=10,\n",
    "                     boosting_type='dart')\n",
    "lgbm_full_data"
   ]
  },
  {
   "cell_type": "markdown",
   "id": "c808041c",
   "metadata": {},
   "source": [
    "### Анализ моделей "
   ]
  },
  {
   "cell_type": "code",
   "execution_count": 123,
   "id": "843b9d3f",
   "metadata": {},
   "outputs": [],
   "source": [
    "rating = {\n",
    "    'LinearRegression on Ordinal Encoding':lr_OE,\n",
    "    'LinearRegression on One Hot Encoding':lr_OHE,\n",
    "    'LinearRegression on Fully Encoded Data':lr_full,\n",
    "    'DecisionTreeRegressor on Ordinal Encoding':dt_OE, \n",
    "    'DecisionTreeRegressor on One Hot Encoding':dt_OHE, \n",
    "    'DecisionTreeRegressor on Fully Encoded Data': dt_full, \n",
    "    'RandomForestRegressor on Ordinal Encoding':rf_OE, \n",
    "    'RandomForestRegressor on One Hot Encoding':rf_OHE, \n",
    "    'RandomForestRegressor on Fully Encoded Data': rf_full, \n",
    "    'CatBoostRegressor on Initial Data':cbr_initail_data, \n",
    "    'CatBoostRegressor on Ordinal Encoding':cbr_OE_data, \n",
    "    'CatBoostRegressor on Fully Encoded Data': cbr_full_data,\n",
    "    'LGBMRegressor on Ordinal Encoding':lgbm_OE_data, \n",
    "    'LGBMRegressor on Fully Encoded Data': lgbm_full_data,\n",
    "    \n",
    "}"
   ]
  },
  {
   "cell_type": "code",
   "execution_count": 124,
   "id": "86f95a12",
   "metadata": {},
   "outputs": [],
   "source": [
    "analysis_df = pd.DataFrame(rating).T"
   ]
  },
  {
   "cell_type": "code",
   "execution_count": 125,
   "id": "815cd554",
   "metadata": {},
   "outputs": [
    {
     "data": {
      "text/html": [
       "<div>\n",
       "<style scoped>\n",
       "    .dataframe tbody tr th:only-of-type {\n",
       "        vertical-align: middle;\n",
       "    }\n",
       "\n",
       "    .dataframe tbody tr th {\n",
       "        vertical-align: top;\n",
       "    }\n",
       "\n",
       "    .dataframe thead th {\n",
       "        text-align: right;\n",
       "    }\n",
       "</style>\n",
       "<table border=\"1\" class=\"dataframe\">\n",
       "  <thead>\n",
       "    <tr style=\"text-align: right;\">\n",
       "      <th></th>\n",
       "      <th>Model</th>\n",
       "      <th>Train time</th>\n",
       "      <th>Predict time</th>\n",
       "      <th>Train RMSE</th>\n",
       "      <th>Test RMSE</th>\n",
       "    </tr>\n",
       "  </thead>\n",
       "  <tbody>\n",
       "    <tr>\n",
       "      <th>LinearRegression on Ordinal Encoding</th>\n",
       "      <td>LinearRegression()</td>\n",
       "      <td>0.202</td>\n",
       "      <td>0.005</td>\n",
       "      <td>2535.310</td>\n",
       "      <td>2543.010</td>\n",
       "    </tr>\n",
       "    <tr>\n",
       "      <th>LinearRegression on One Hot Encoding</th>\n",
       "      <td>LinearRegression()</td>\n",
       "      <td>2.139</td>\n",
       "      <td>0.101</td>\n",
       "      <td>2535.310</td>\n",
       "      <td>2173.260</td>\n",
       "    </tr>\n",
       "    <tr>\n",
       "      <th>LinearRegression on Fully Encoded Data</th>\n",
       "      <td>LinearRegression()</td>\n",
       "      <td>2.443</td>\n",
       "      <td>0.053</td>\n",
       "      <td>2535.310</td>\n",
       "      <td>2173.260</td>\n",
       "    </tr>\n",
       "    <tr>\n",
       "      <th>DecisionTreeRegressor on Ordinal Encoding</th>\n",
       "      <td>DecisionTreeRegressor()</td>\n",
       "      <td>5.561</td>\n",
       "      <td>0.011</td>\n",
       "      <td>1742.670</td>\n",
       "      <td>1724.890</td>\n",
       "    </tr>\n",
       "    <tr>\n",
       "      <th>DecisionTreeRegressor on One Hot Encoding</th>\n",
       "      <td>DecisionTreeRegressor()</td>\n",
       "      <td>25.706</td>\n",
       "      <td>0.063</td>\n",
       "      <td>1741.550</td>\n",
       "      <td>1717.810</td>\n",
       "    </tr>\n",
       "    <tr>\n",
       "      <th>DecisionTreeRegressor on Fully Encoded Data</th>\n",
       "      <td>DecisionTreeRegressor()</td>\n",
       "      <td>27.199</td>\n",
       "      <td>0.077</td>\n",
       "      <td>1719.480</td>\n",
       "      <td>1701.720</td>\n",
       "    </tr>\n",
       "    <tr>\n",
       "      <th>RandomForestRegressor on Ordinal Encoding</th>\n",
       "      <td>RandomForestRegressor()</td>\n",
       "      <td>217.744</td>\n",
       "      <td>0.761</td>\n",
       "      <td>1463.990</td>\n",
       "      <td>1444.570</td>\n",
       "    </tr>\n",
       "    <tr>\n",
       "      <th>RandomForestRegressor on One Hot Encoding</th>\n",
       "      <td>RandomForestRegressor()</td>\n",
       "      <td>993.200</td>\n",
       "      <td>0.930</td>\n",
       "      <td>1481.090</td>\n",
       "      <td>1466.060</td>\n",
       "    </tr>\n",
       "    <tr>\n",
       "      <th>RandomForestRegressor on Fully Encoded Data</th>\n",
       "      <td>RandomForestRegressor()</td>\n",
       "      <td>1123.583</td>\n",
       "      <td>0.896</td>\n",
       "      <td>1459.480</td>\n",
       "      <td>1443.720</td>\n",
       "    </tr>\n",
       "    <tr>\n",
       "      <th>CatBoostRegressor on Initial Data</th>\n",
       "      <td>&lt;catboost.core.CatBoostRegressor object at 0x7...</td>\n",
       "      <td>8.682</td>\n",
       "      <td>0.062</td>\n",
       "      <td>-</td>\n",
       "      <td>1467.480</td>\n",
       "    </tr>\n",
       "    <tr>\n",
       "      <th>CatBoostRegressor on Ordinal Encoding</th>\n",
       "      <td>&lt;catboost.core.CatBoostRegressor object at 0x7...</td>\n",
       "      <td>1.893</td>\n",
       "      <td>0.010</td>\n",
       "      <td>-</td>\n",
       "      <td>1470.370</td>\n",
       "    </tr>\n",
       "    <tr>\n",
       "      <th>CatBoostRegressor on Fully Encoded Data</th>\n",
       "      <td>&lt;catboost.core.CatBoostRegressor object at 0x7...</td>\n",
       "      <td>2.129</td>\n",
       "      <td>0.048</td>\n",
       "      <td>-</td>\n",
       "      <td>1458.370</td>\n",
       "    </tr>\n",
       "    <tr>\n",
       "      <th>LGBMRegressor on Ordinal Encoding</th>\n",
       "      <td>LGBMRegressor(boosting_type='dart', learning_r...</td>\n",
       "      <td>3.089</td>\n",
       "      <td>0.096</td>\n",
       "      <td>-</td>\n",
       "      <td>2165.130</td>\n",
       "    </tr>\n",
       "    <tr>\n",
       "      <th>LGBMRegressor on Fully Encoded Data</th>\n",
       "      <td>LGBMRegressor(boosting_type='dart', learning_r...</td>\n",
       "      <td>4.731</td>\n",
       "      <td>0.181</td>\n",
       "      <td>-</td>\n",
       "      <td>2136.420</td>\n",
       "    </tr>\n",
       "  </tbody>\n",
       "</table>\n",
       "</div>"
      ],
      "text/plain": [
       "                                                                                         Model  \\\n",
       "LinearRegression on Ordinal Encoding                                        LinearRegression()   \n",
       "LinearRegression on One Hot Encoding                                        LinearRegression()   \n",
       "LinearRegression on Fully Encoded Data                                      LinearRegression()   \n",
       "DecisionTreeRegressor on Ordinal Encoding                              DecisionTreeRegressor()   \n",
       "DecisionTreeRegressor on One Hot Encoding                              DecisionTreeRegressor()   \n",
       "DecisionTreeRegressor on Fully Encoded Data                            DecisionTreeRegressor()   \n",
       "RandomForestRegressor on Ordinal Encoding                              RandomForestRegressor()   \n",
       "RandomForestRegressor on One Hot Encoding                              RandomForestRegressor()   \n",
       "RandomForestRegressor on Fully Encoded Data                            RandomForestRegressor()   \n",
       "CatBoostRegressor on Initial Data            <catboost.core.CatBoostRegressor object at 0x7...   \n",
       "CatBoostRegressor on Ordinal Encoding        <catboost.core.CatBoostRegressor object at 0x7...   \n",
       "CatBoostRegressor on Fully Encoded Data      <catboost.core.CatBoostRegressor object at 0x7...   \n",
       "LGBMRegressor on Ordinal Encoding            LGBMRegressor(boosting_type='dart', learning_r...   \n",
       "LGBMRegressor on Fully Encoded Data          LGBMRegressor(boosting_type='dart', learning_r...   \n",
       "\n",
       "                                            Train time Predict time  \\\n",
       "LinearRegression on Ordinal Encoding             0.202        0.005   \n",
       "LinearRegression on One Hot Encoding             2.139        0.101   \n",
       "LinearRegression on Fully Encoded Data           2.443        0.053   \n",
       "DecisionTreeRegressor on Ordinal Encoding        5.561        0.011   \n",
       "DecisionTreeRegressor on One Hot Encoding       25.706        0.063   \n",
       "DecisionTreeRegressor on Fully Encoded Data     27.199        0.077   \n",
       "RandomForestRegressor on Ordinal Encoding      217.744        0.761   \n",
       "RandomForestRegressor on One Hot Encoding      993.200        0.930   \n",
       "RandomForestRegressor on Fully Encoded Data   1123.583        0.896   \n",
       "CatBoostRegressor on Initial Data                8.682        0.062   \n",
       "CatBoostRegressor on Ordinal Encoding            1.893        0.010   \n",
       "CatBoostRegressor on Fully Encoded Data          2.129        0.048   \n",
       "LGBMRegressor on Ordinal Encoding                3.089        0.096   \n",
       "LGBMRegressor on Fully Encoded Data              4.731        0.181   \n",
       "\n",
       "                                            Train RMSE Test RMSE  \n",
       "LinearRegression on Ordinal Encoding          2535.310  2543.010  \n",
       "LinearRegression on One Hot Encoding          2535.310  2173.260  \n",
       "LinearRegression on Fully Encoded Data        2535.310  2173.260  \n",
       "DecisionTreeRegressor on Ordinal Encoding     1742.670  1724.890  \n",
       "DecisionTreeRegressor on One Hot Encoding     1741.550  1717.810  \n",
       "DecisionTreeRegressor on Fully Encoded Data   1719.480  1701.720  \n",
       "RandomForestRegressor on Ordinal Encoding     1463.990  1444.570  \n",
       "RandomForestRegressor on One Hot Encoding     1481.090  1466.060  \n",
       "RandomForestRegressor on Fully Encoded Data   1459.480  1443.720  \n",
       "CatBoostRegressor on Initial Data                    -  1467.480  \n",
       "CatBoostRegressor on Ordinal Encoding                -  1470.370  \n",
       "CatBoostRegressor on Fully Encoded Data              -  1458.370  \n",
       "LGBMRegressor on Ordinal Encoding                    -  2165.130  \n",
       "LGBMRegressor on Fully Encoded Data                  -  2136.420  "
      ]
     },
     "execution_count": 125,
     "metadata": {},
     "output_type": "execute_result"
    }
   ],
   "source": [
    "analysis_df"
   ]
  },
  {
   "cell_type": "code",
   "execution_count": 126,
   "id": "f77c73b7",
   "metadata": {},
   "outputs": [],
   "source": [
    "a, b = 1, 10\n",
    "ratings_raw_data = ['Train time', 'Predict time', 'Test RMSE']\n",
    "new_columns = ['Train Time Rating', 'Predict time Rating', 'Test RMSE Rating']\n",
    "\n",
    "for col in range(0, 3):\n",
    "\n",
    "    x, y = analysis_df[ratings_raw_data[col]].min(), analysis_df[\n",
    "        ratings_raw_data[col]].max()\n",
    "    analysis_df[new_columns[col]] = (analysis_df[ratings_raw_data[col]] -\n",
    "                                     x) / (y - x) * (b - a) + a"
   ]
  },
  {
   "cell_type": "code",
   "execution_count": 128,
   "id": "c6ceeed7",
   "metadata": {},
   "outputs": [
    {
     "data": {
      "text/html": [
       "<div>\n",
       "<style scoped>\n",
       "    .dataframe tbody tr th:only-of-type {\n",
       "        vertical-align: middle;\n",
       "    }\n",
       "\n",
       "    .dataframe tbody tr th {\n",
       "        vertical-align: top;\n",
       "    }\n",
       "\n",
       "    .dataframe thead th {\n",
       "        text-align: right;\n",
       "    }\n",
       "</style>\n",
       "<table border=\"1\" class=\"dataframe\">\n",
       "  <thead>\n",
       "    <tr style=\"text-align: right;\">\n",
       "      <th></th>\n",
       "      <th>Model</th>\n",
       "      <th>Train time</th>\n",
       "      <th>Predict time</th>\n",
       "      <th>Train RMSE</th>\n",
       "      <th>Test RMSE</th>\n",
       "      <th>Train Time Rating</th>\n",
       "      <th>Predict time Rating</th>\n",
       "      <th>Test RMSE Rating</th>\n",
       "    </tr>\n",
       "  </thead>\n",
       "  <tbody>\n",
       "    <tr>\n",
       "      <th>LinearRegression on Ordinal Encoding</th>\n",
       "      <td>LinearRegression()</td>\n",
       "      <td>0.202</td>\n",
       "      <td>0.005</td>\n",
       "      <td>2535.310</td>\n",
       "      <td>2543.010</td>\n",
       "      <td>1.000</td>\n",
       "      <td>1.000</td>\n",
       "      <td>10.000</td>\n",
       "    </tr>\n",
       "    <tr>\n",
       "      <th>LinearRegression on Fully Encoded Data</th>\n",
       "      <td>LinearRegression()</td>\n",
       "      <td>2.443</td>\n",
       "      <td>0.053</td>\n",
       "      <td>2535.310</td>\n",
       "      <td>2173.260</td>\n",
       "      <td>1.018</td>\n",
       "      <td>1.475</td>\n",
       "      <td>6.973</td>\n",
       "    </tr>\n",
       "    <tr>\n",
       "      <th>LinearRegression on One Hot Encoding</th>\n",
       "      <td>LinearRegression()</td>\n",
       "      <td>2.139</td>\n",
       "      <td>0.101</td>\n",
       "      <td>2535.310</td>\n",
       "      <td>2173.260</td>\n",
       "      <td>1.016</td>\n",
       "      <td>1.936</td>\n",
       "      <td>6.973</td>\n",
       "    </tr>\n",
       "    <tr>\n",
       "      <th>LGBMRegressor on Ordinal Encoding</th>\n",
       "      <td>LGBMRegressor(boosting_type='dart', learning_r...</td>\n",
       "      <td>3.089</td>\n",
       "      <td>0.096</td>\n",
       "      <td>-</td>\n",
       "      <td>2165.130</td>\n",
       "      <td>1.023</td>\n",
       "      <td>1.890</td>\n",
       "      <td>6.906</td>\n",
       "    </tr>\n",
       "    <tr>\n",
       "      <th>LGBMRegressor on Fully Encoded Data</th>\n",
       "      <td>LGBMRegressor(boosting_type='dart', learning_r...</td>\n",
       "      <td>4.731</td>\n",
       "      <td>0.181</td>\n",
       "      <td>-</td>\n",
       "      <td>2136.420</td>\n",
       "      <td>1.036</td>\n",
       "      <td>2.717</td>\n",
       "      <td>6.671</td>\n",
       "    </tr>\n",
       "    <tr>\n",
       "      <th>DecisionTreeRegressor on Ordinal Encoding</th>\n",
       "      <td>DecisionTreeRegressor()</td>\n",
       "      <td>5.561</td>\n",
       "      <td>0.011</td>\n",
       "      <td>1742.670</td>\n",
       "      <td>1724.890</td>\n",
       "      <td>1.043</td>\n",
       "      <td>1.061</td>\n",
       "      <td>3.302</td>\n",
       "    </tr>\n",
       "    <tr>\n",
       "      <th>DecisionTreeRegressor on One Hot Encoding</th>\n",
       "      <td>DecisionTreeRegressor()</td>\n",
       "      <td>25.706</td>\n",
       "      <td>0.063</td>\n",
       "      <td>1741.550</td>\n",
       "      <td>1717.810</td>\n",
       "      <td>1.204</td>\n",
       "      <td>1.567</td>\n",
       "      <td>3.244</td>\n",
       "    </tr>\n",
       "    <tr>\n",
       "      <th>DecisionTreeRegressor on Fully Encoded Data</th>\n",
       "      <td>DecisionTreeRegressor()</td>\n",
       "      <td>27.199</td>\n",
       "      <td>0.077</td>\n",
       "      <td>1719.480</td>\n",
       "      <td>1701.720</td>\n",
       "      <td>1.216</td>\n",
       "      <td>1.704</td>\n",
       "      <td>3.112</td>\n",
       "    </tr>\n",
       "    <tr>\n",
       "      <th>CatBoostRegressor on Ordinal Encoding</th>\n",
       "      <td>&lt;catboost.core.CatBoostRegressor object at 0x7...</td>\n",
       "      <td>1.893</td>\n",
       "      <td>0.010</td>\n",
       "      <td>-</td>\n",
       "      <td>1470.370</td>\n",
       "      <td>1.014</td>\n",
       "      <td>1.055</td>\n",
       "      <td>1.218</td>\n",
       "    </tr>\n",
       "    <tr>\n",
       "      <th>CatBoostRegressor on Initial Data</th>\n",
       "      <td>&lt;catboost.core.CatBoostRegressor object at 0x7...</td>\n",
       "      <td>8.682</td>\n",
       "      <td>0.062</td>\n",
       "      <td>-</td>\n",
       "      <td>1467.480</td>\n",
       "      <td>1.068</td>\n",
       "      <td>1.555</td>\n",
       "      <td>1.195</td>\n",
       "    </tr>\n",
       "    <tr>\n",
       "      <th>RandomForestRegressor on One Hot Encoding</th>\n",
       "      <td>RandomForestRegressor()</td>\n",
       "      <td>993.200</td>\n",
       "      <td>0.930</td>\n",
       "      <td>1481.090</td>\n",
       "      <td>1466.060</td>\n",
       "      <td>8.955</td>\n",
       "      <td>10.000</td>\n",
       "      <td>1.183</td>\n",
       "    </tr>\n",
       "    <tr>\n",
       "      <th>CatBoostRegressor on Fully Encoded Data</th>\n",
       "      <td>&lt;catboost.core.CatBoostRegressor object at 0x7...</td>\n",
       "      <td>2.129</td>\n",
       "      <td>0.048</td>\n",
       "      <td>-</td>\n",
       "      <td>1458.370</td>\n",
       "      <td>1.015</td>\n",
       "      <td>1.426</td>\n",
       "      <td>1.120</td>\n",
       "    </tr>\n",
       "    <tr>\n",
       "      <th>RandomForestRegressor on Ordinal Encoding</th>\n",
       "      <td>RandomForestRegressor()</td>\n",
       "      <td>217.744</td>\n",
       "      <td>0.761</td>\n",
       "      <td>1463.990</td>\n",
       "      <td>1444.570</td>\n",
       "      <td>2.743</td>\n",
       "      <td>8.360</td>\n",
       "      <td>1.007</td>\n",
       "    </tr>\n",
       "    <tr>\n",
       "      <th>RandomForestRegressor on Fully Encoded Data</th>\n",
       "      <td>RandomForestRegressor()</td>\n",
       "      <td>1123.583</td>\n",
       "      <td>0.896</td>\n",
       "      <td>1459.480</td>\n",
       "      <td>1443.720</td>\n",
       "      <td>10.000</td>\n",
       "      <td>9.676</td>\n",
       "      <td>1.000</td>\n",
       "    </tr>\n",
       "  </tbody>\n",
       "</table>\n",
       "</div>"
      ],
      "text/plain": [
       "                                                                                         Model  \\\n",
       "LinearRegression on Ordinal Encoding                                        LinearRegression()   \n",
       "LinearRegression on Fully Encoded Data                                      LinearRegression()   \n",
       "LinearRegression on One Hot Encoding                                        LinearRegression()   \n",
       "LGBMRegressor on Ordinal Encoding            LGBMRegressor(boosting_type='dart', learning_r...   \n",
       "LGBMRegressor on Fully Encoded Data          LGBMRegressor(boosting_type='dart', learning_r...   \n",
       "DecisionTreeRegressor on Ordinal Encoding                              DecisionTreeRegressor()   \n",
       "DecisionTreeRegressor on One Hot Encoding                              DecisionTreeRegressor()   \n",
       "DecisionTreeRegressor on Fully Encoded Data                            DecisionTreeRegressor()   \n",
       "CatBoostRegressor on Ordinal Encoding        <catboost.core.CatBoostRegressor object at 0x7...   \n",
       "CatBoostRegressor on Initial Data            <catboost.core.CatBoostRegressor object at 0x7...   \n",
       "RandomForestRegressor on One Hot Encoding                              RandomForestRegressor()   \n",
       "CatBoostRegressor on Fully Encoded Data      <catboost.core.CatBoostRegressor object at 0x7...   \n",
       "RandomForestRegressor on Ordinal Encoding                              RandomForestRegressor()   \n",
       "RandomForestRegressor on Fully Encoded Data                            RandomForestRegressor()   \n",
       "\n",
       "                                            Train time Predict time  \\\n",
       "LinearRegression on Ordinal Encoding             0.202        0.005   \n",
       "LinearRegression on Fully Encoded Data           2.443        0.053   \n",
       "LinearRegression on One Hot Encoding             2.139        0.101   \n",
       "LGBMRegressor on Ordinal Encoding                3.089        0.096   \n",
       "LGBMRegressor on Fully Encoded Data              4.731        0.181   \n",
       "DecisionTreeRegressor on Ordinal Encoding        5.561        0.011   \n",
       "DecisionTreeRegressor on One Hot Encoding       25.706        0.063   \n",
       "DecisionTreeRegressor on Fully Encoded Data     27.199        0.077   \n",
       "CatBoostRegressor on Ordinal Encoding            1.893        0.010   \n",
       "CatBoostRegressor on Initial Data                8.682        0.062   \n",
       "RandomForestRegressor on One Hot Encoding      993.200        0.930   \n",
       "CatBoostRegressor on Fully Encoded Data          2.129        0.048   \n",
       "RandomForestRegressor on Ordinal Encoding      217.744        0.761   \n",
       "RandomForestRegressor on Fully Encoded Data   1123.583        0.896   \n",
       "\n",
       "                                            Train RMSE Test RMSE  \\\n",
       "LinearRegression on Ordinal Encoding          2535.310  2543.010   \n",
       "LinearRegression on Fully Encoded Data        2535.310  2173.260   \n",
       "LinearRegression on One Hot Encoding          2535.310  2173.260   \n",
       "LGBMRegressor on Ordinal Encoding                    -  2165.130   \n",
       "LGBMRegressor on Fully Encoded Data                  -  2136.420   \n",
       "DecisionTreeRegressor on Ordinal Encoding     1742.670  1724.890   \n",
       "DecisionTreeRegressor on One Hot Encoding     1741.550  1717.810   \n",
       "DecisionTreeRegressor on Fully Encoded Data   1719.480  1701.720   \n",
       "CatBoostRegressor on Ordinal Encoding                -  1470.370   \n",
       "CatBoostRegressor on Initial Data                    -  1467.480   \n",
       "RandomForestRegressor on One Hot Encoding     1481.090  1466.060   \n",
       "CatBoostRegressor on Fully Encoded Data              -  1458.370   \n",
       "RandomForestRegressor on Ordinal Encoding     1463.990  1444.570   \n",
       "RandomForestRegressor on Fully Encoded Data   1459.480  1443.720   \n",
       "\n",
       "                                            Train Time Rating  \\\n",
       "LinearRegression on Ordinal Encoding                    1.000   \n",
       "LinearRegression on Fully Encoded Data                  1.018   \n",
       "LinearRegression on One Hot Encoding                    1.016   \n",
       "LGBMRegressor on Ordinal Encoding                       1.023   \n",
       "LGBMRegressor on Fully Encoded Data                     1.036   \n",
       "DecisionTreeRegressor on Ordinal Encoding               1.043   \n",
       "DecisionTreeRegressor on One Hot Encoding               1.204   \n",
       "DecisionTreeRegressor on Fully Encoded Data             1.216   \n",
       "CatBoostRegressor on Ordinal Encoding                   1.014   \n",
       "CatBoostRegressor on Initial Data                       1.068   \n",
       "RandomForestRegressor on One Hot Encoding               8.955   \n",
       "CatBoostRegressor on Fully Encoded Data                 1.015   \n",
       "RandomForestRegressor on Ordinal Encoding               2.743   \n",
       "RandomForestRegressor on Fully Encoded Data            10.000   \n",
       "\n",
       "                                            Predict time Rating  \\\n",
       "LinearRegression on Ordinal Encoding                      1.000   \n",
       "LinearRegression on Fully Encoded Data                    1.475   \n",
       "LinearRegression on One Hot Encoding                      1.936   \n",
       "LGBMRegressor on Ordinal Encoding                         1.890   \n",
       "LGBMRegressor on Fully Encoded Data                       2.717   \n",
       "DecisionTreeRegressor on Ordinal Encoding                 1.061   \n",
       "DecisionTreeRegressor on One Hot Encoding                 1.567   \n",
       "DecisionTreeRegressor on Fully Encoded Data               1.704   \n",
       "CatBoostRegressor on Ordinal Encoding                     1.055   \n",
       "CatBoostRegressor on Initial Data                         1.555   \n",
       "RandomForestRegressor on One Hot Encoding                10.000   \n",
       "CatBoostRegressor on Fully Encoded Data                   1.426   \n",
       "RandomForestRegressor on Ordinal Encoding                 8.360   \n",
       "RandomForestRegressor on Fully Encoded Data               9.676   \n",
       "\n",
       "                                            Test RMSE Rating  \n",
       "LinearRegression on Ordinal Encoding                  10.000  \n",
       "LinearRegression on Fully Encoded Data                 6.973  \n",
       "LinearRegression on One Hot Encoding                   6.973  \n",
       "LGBMRegressor on Ordinal Encoding                      6.906  \n",
       "LGBMRegressor on Fully Encoded Data                    6.671  \n",
       "DecisionTreeRegressor on Ordinal Encoding              3.302  \n",
       "DecisionTreeRegressor on One Hot Encoding              3.244  \n",
       "DecisionTreeRegressor on Fully Encoded Data            3.112  \n",
       "CatBoostRegressor on Ordinal Encoding                  1.218  \n",
       "CatBoostRegressor on Initial Data                      1.195  \n",
       "RandomForestRegressor on One Hot Encoding              1.183  \n",
       "CatBoostRegressor on Fully Encoded Data                1.120  \n",
       "RandomForestRegressor on Ordinal Encoding              1.007  \n",
       "RandomForestRegressor on Fully Encoded Data            1.000  "
      ]
     },
     "execution_count": 128,
     "metadata": {},
     "output_type": "execute_result"
    }
   ],
   "source": [
    "analysis_df.sort_values(by=['Test RMSE Rating', 'Predict time Rating', 'Train Time Rating'],\n",
    "                        ascending=[False, True, True])"
   ]
  },
  {
   "cell_type": "markdown",
   "id": "4e586595",
   "metadata": {},
   "source": [
    "### Вывод"
   ]
  },
  {
   "cell_type": "markdown",
   "id": "d4b878d9",
   "metadata": {},
   "source": [
    "Модели градиентного бустинга являются качественной альтернативой медленным \"деревянным\" моделям. \n",
    "<br>Данное исследование показало, что наиболее быстрой была модель линейной регрессии, но она же была и наименее точной в предсказании стоимости автомобиля. \n",
    "<br>Наиболее же точная модель: RandomForestRegressor является и самой медленной в обучении. \n",
    "<br> При этом CatBoostRegressor лишь незначительно уступает в точности предсказаний, требуя при этом значительно меньше времени и на обучение, и на получение предсказаний. "
   ]
  }
 ],
 "metadata": {
  "ExecuteTimeLog": [
   {
    "duration": 3498,
    "start_time": "2022-05-10T04:56:30.920Z"
   },
   {
    "duration": 3,
    "start_time": "2022-05-10T04:56:34.420Z"
   },
   {
    "duration": 970,
    "start_time": "2022-05-10T04:56:34.425Z"
   },
   {
    "duration": 520,
    "start_time": "2022-05-10T04:56:57.902Z"
   },
   {
    "duration": 305,
    "start_time": "2022-05-10T04:58:20.077Z"
   },
   {
    "duration": 85,
    "start_time": "2022-05-10T04:58:20.639Z"
   },
   {
    "duration": 31,
    "start_time": "2022-05-10T04:58:58.905Z"
   },
   {
    "duration": 4,
    "start_time": "2022-05-10T04:58:59.557Z"
   },
   {
    "duration": 5,
    "start_time": "2022-05-10T04:59:22.874Z"
   },
   {
    "duration": 2185,
    "start_time": "2022-05-10T05:00:47.123Z"
   },
   {
    "duration": 39,
    "start_time": "2022-05-10T05:00:49.353Z"
   },
   {
    "duration": 5,
    "start_time": "2022-05-10T05:00:49.863Z"
   },
   {
    "duration": 1744,
    "start_time": "2022-05-10T05:01:42.532Z"
   },
   {
    "duration": 14,
    "start_time": "2022-05-10T05:01:44.278Z"
   },
   {
    "duration": 56,
    "start_time": "2022-05-10T05:01:44.293Z"
   },
   {
    "duration": 1560,
    "start_time": "2022-05-10T05:01:44.620Z"
   },
   {
    "duration": 174,
    "start_time": "2022-05-10T05:02:18.997Z"
   },
   {
    "duration": 315,
    "start_time": "2022-05-10T05:02:19.963Z"
   },
   {
    "duration": 30,
    "start_time": "2022-05-10T05:02:22.014Z"
   },
   {
    "duration": 413,
    "start_time": "2022-05-10T05:02:22.450Z"
   },
   {
    "duration": 28,
    "start_time": "2022-05-10T05:02:23.206Z"
   },
   {
    "duration": 317,
    "start_time": "2022-05-10T05:02:23.978Z"
   },
   {
    "duration": 322,
    "start_time": "2022-05-10T05:02:42.855Z"
   },
   {
    "duration": 7,
    "start_time": "2022-05-10T05:02:43.597Z"
   },
   {
    "duration": 8,
    "start_time": "2022-05-10T05:02:45.313Z"
   },
   {
    "duration": 5,
    "start_time": "2022-05-10T05:02:46.013Z"
   },
   {
    "duration": 4,
    "start_time": "2022-05-10T05:02:47.309Z"
   },
   {
    "duration": 424,
    "start_time": "2022-05-10T05:02:47.534Z"
   },
   {
    "duration": 23,
    "start_time": "2022-05-10T05:04:14.950Z"
   },
   {
    "duration": 50,
    "start_time": "2022-05-10T05:04:15.665Z"
   },
   {
    "duration": 14,
    "start_time": "2022-05-10T05:04:16.261Z"
   },
   {
    "duration": 28,
    "start_time": "2022-05-10T05:04:16.806Z"
   },
   {
    "duration": 27,
    "start_time": "2022-05-10T05:04:18.572Z"
   },
   {
    "duration": 26,
    "start_time": "2022-05-10T05:04:19.098Z"
   },
   {
    "duration": 26,
    "start_time": "2022-05-10T05:04:19.694Z"
   },
   {
    "duration": 25,
    "start_time": "2022-05-10T05:04:20.492Z"
   },
   {
    "duration": 27,
    "start_time": "2022-05-10T05:04:23.113Z"
   },
   {
    "duration": 190,
    "start_time": "2022-05-10T05:04:23.706Z"
   },
   {
    "duration": 27,
    "start_time": "2022-05-10T05:04:24.348Z"
   },
   {
    "duration": 64,
    "start_time": "2022-05-10T05:04:25.143Z"
   },
   {
    "duration": 17,
    "start_time": "2022-05-10T05:04:26.955Z"
   },
   {
    "duration": 13,
    "start_time": "2022-05-10T05:04:27.140Z"
   },
   {
    "duration": 27,
    "start_time": "2022-05-10T05:04:27.576Z"
   },
   {
    "duration": 5,
    "start_time": "2022-05-10T05:04:27.827Z"
   },
   {
    "duration": 135,
    "start_time": "2022-05-10T05:04:28.153Z"
   },
   {
    "duration": 3,
    "start_time": "2022-05-10T05:05:00.174Z"
   },
   {
    "duration": 16,
    "start_time": "2022-05-10T05:05:01.829Z"
   },
   {
    "duration": 50,
    "start_time": "2022-05-10T05:05:02.783Z"
   },
   {
    "duration": 36,
    "start_time": "2022-05-10T05:05:03.323Z"
   },
   {
    "duration": 402,
    "start_time": "2022-05-10T05:05:21.895Z"
   },
   {
    "duration": 271,
    "start_time": "2022-05-10T05:06:15.240Z"
   },
   {
    "duration": 318,
    "start_time": "2022-05-10T05:06:36.928Z"
   },
   {
    "duration": 316,
    "start_time": "2022-05-10T05:06:49.377Z"
   }
  ],
  "kernelspec": {
   "display_name": "Python 3 (ipykernel)",
   "language": "python",
   "name": "python3"
  },
  "language_info": {
   "codemirror_mode": {
    "name": "ipython",
    "version": 3
   },
   "file_extension": ".py",
   "mimetype": "text/x-python",
   "name": "python",
   "nbconvert_exporter": "python",
   "pygments_lexer": "ipython3",
   "version": "3.8.12"
  },
  "toc": {
   "base_numbering": 1,
   "nav_menu": {},
   "number_sections": true,
   "sideBar": true,
   "skip_h1_title": true,
   "title_cell": "Содержание",
   "title_sidebar": "Содержание",
   "toc_cell": true,
   "toc_position": {
    "height": "calc(100% - 180px)",
    "left": "10px",
    "top": "150px",
    "width": "165px"
   },
   "toc_section_display": true,
   "toc_window_display": true
  },
  "varInspector": {
   "cols": {
    "lenName": 16,
    "lenType": 16,
    "lenVar": 40
   },
   "kernels_config": {
    "python": {
     "delete_cmd_postfix": "",
     "delete_cmd_prefix": "del ",
     "library": "var_list.py",
     "varRefreshCmd": "print(var_dic_list())"
    },
    "r": {
     "delete_cmd_postfix": ") ",
     "delete_cmd_prefix": "rm(",
     "library": "var_list.r",
     "varRefreshCmd": "cat(var_dic_list()) "
    }
   },
   "types_to_exclude": [
    "module",
    "function",
    "builtin_function_or_method",
    "instance",
    "_Feature"
   ],
   "window_display": false
  }
 },
 "nbformat": 4,
 "nbformat_minor": 5
}
